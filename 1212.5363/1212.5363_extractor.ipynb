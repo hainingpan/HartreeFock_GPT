{
 "cells": [
  {
   "cell_type": "code",
   "execution_count": 1,
   "metadata": {},
   "outputs": [],
   "source": [
    "import openai\n",
    "import pandas as pd\n",
    "import json\n",
    "import yaml\n",
    "from IPython.display import Markdown\n",
    "import sys\n",
    "import yaml\n",
    "from tqdm import tqdm"
   ]
  },
  {
   "cell_type": "code",
   "execution_count": 2,
   "metadata": {},
   "outputs": [],
   "source": [
    "zz=openai.Model.list()"
   ]
  },
  {
   "cell_type": "code",
   "execution_count": 3,
   "metadata": {},
   "outputs": [
    {
     "data": {
      "text/plain": [
       "62"
      ]
     },
     "execution_count": 3,
     "metadata": {},
     "output_type": "execute_result"
    }
   ],
   "source": [
    "len(zz['data'])"
   ]
  },
  {
   "cell_type": "code",
   "execution_count": 4,
   "metadata": {},
   "outputs": [],
   "source": [
    "model_params = {\n",
    "    'model': \"gpt-4\",\n",
    "    'temperature': 0,\n",
    "}"
   ]
  },
  {
   "cell_type": "code",
   "execution_count": 5,
   "metadata": {},
   "outputs": [],
   "source": [
    "def print_save(string, file='../cmp2.md'):\n",
    "    print(string)\n",
    "    with open(file,'w') as f:\n",
    "        f.write(string)"
   ]
  },
  {
   "cell_type": "markdown",
   "metadata": {},
   "source": [
    "## Load prompt_template.md"
   ]
  },
  {
   "cell_type": "code",
   "execution_count": 6,
   "metadata": {},
   "outputs": [],
   "source": [
    "sys.path.append('..')\n",
    "from utils import *\n",
    "from functools import partial"
   ]
  },
  {
   "cell_type": "code",
   "execution_count": 7,
   "metadata": {},
   "outputs": [],
   "source": [
    "prompt_dict = partial(load_prompt_template,file='../prompt_template.md')"
   ]
  },
  {
   "cell_type": "code",
   "execution_count": 8,
   "metadata": {},
   "outputs": [
    {
     "data": {
      "text/plain": [
       "dict_keys(['Preamble', 'Problem-solver', 'Conversation summarizer', 'Construct Kinetic Hamiltonian (continuum version, single-particle)', 'Construct Kinetic Hamiltonian (continuum version, second-quantized)', 'Construct Kinetic Hamiltonian (lattice version)', 'Define each term in Kinetic Hamiltonian (continuum version)', 'Construct Potential Hamiltonian (continuum version)', 'Define each term in Potential Hamiltonian (continuum version)', 'Construct interaction Hamiltonian (real space, lattice version)', 'Construct interaction Hamiltonian (momentum space)', 'Convert from single-particle to second-quantized form, return in matrix', 'Convert from single-particle to second-quantized form, return in summation (expand the matrix)', 'Convert noninteracting Hamiltonian in real space to momentum space (continuum version)', 'Convert noninteracting Hamiltonian in real space to momentum space (lattice version)', 'Convert interacting Hamiltonian in real space to momentum space (lattice version)', 'Particle-hole transformation', 'Simplify the Hamiltonian in the particle-hole basis', \"Wick's theorem\", 'Extract quadratic term', 'Hartree term only', 'Fock term only', 'Expand interaction', 'Swap the index only', 'Swap the index to combine Hartree and Fock terms', 'Reduce momentum in Hartree term (momentum in BZ + reciprocal lattice)', 'Reduce momentum in Hartree term (momentum in BZ)', 'Reduce momentum in Fock term (momentum in BZ + reciprocal lattice)', 'Reduce momentum in Fock term (momentum in BZ)', 'Combine the Hartree and Fock term', 'Construct full Hamiltonian after HF', 'Mathematical simplify: inner product expansion', \"Mathematical simplify: Euler's formula\", 'Mathematical simplify: prosthaphaeresis', 'Mathematical simplify: Expand the product using Associative property', 'Mathematical simplify: Combine using Associative property', 'Mathematical simplify: reduce index'])"
      ]
     },
     "execution_count": 8,
     "metadata": {},
     "output_type": "execute_result"
    }
   ],
   "source": [
    "prompt_dict().keys()"
   ]
  },
  {
   "cell_type": "code",
   "execution_count": null,
   "metadata": {},
   "outputs": [],
   "source": []
  },
  {
   "cell_type": "markdown",
   "metadata": {},
   "source": [
    "# Prompt fill place holder"
   ]
  },
  {
   "cell_type": "code",
   "execution_count": 9,
   "metadata": {},
   "outputs": [],
   "source": [
    "import json"
   ]
  },
  {
   "cell_type": "code",
   "execution_count": 10,
   "metadata": {},
   "outputs": [],
   "source": [
    "pwd=os.getcwd()"
   ]
  },
  {
   "cell_type": "code",
   "execution_count": 11,
   "metadata": {},
   "outputs": [],
   "source": [
    "arxiv_number=pwd.split('/')[-1]"
   ]
  },
  {
   "cell_type": "code",
   "execution_count": 12,
   "metadata": {},
   "outputs": [],
   "source": [
    "with open(f'{arxiv_number}.yaml','r') as f:\n",
    "    kwargs_yaml = yaml.safe_load(f)\n",
    "# with open(f'{arxiv_number}.jsonl','r') as f:\n",
    "#     kwargs_jsonl= [json.loads(line) for line in f]"
   ]
  },
  {
   "cell_type": "code",
   "execution_count": 13,
   "metadata": {},
   "outputs": [],
   "source": [
    "def load_excerpt(sources):\n",
    "    excerpt=''\n",
    "    for tex, lines in sources.items():\n",
    "        with open(tex,'r') as f:\n",
    "            f_list=list(f)\n",
    "            for line in lines:\n",
    "                excerpt=excerpt+''.join(f_list[line[0]:line[1]])\n",
    "    return excerpt"
   ]
  },
  {
   "cell_type": "code",
   "execution_count": 14,
   "metadata": {},
   "outputs": [],
   "source": [
    "prompt_system='''I will provide you a Excerpt of physics paper, and a Template. You will need to fill the placeholders in the template using the correct information from the excerpt.\n",
    "Here are conventions: \n",
    "{..} means a placeholder which you need to fill by extracting information from the excerpt.\n",
    "{A|B} means you need to make a choice between A and B\n",
    "[..] means optional sentence. You should decide whether to use it depending on the excerpt.\n",
    "{{..}} DOES NOT mean a placeholder. You should not change the content inside double curly braces {{..}}.\n",
    "`You should recall that {expression_second_nonint}.` : this sentence should be kept as is.\n",
    "\n",
    "\n",
    "Finally, if you cannot figure out the placeholder, you should leave it as is.'''"
   ]
  },
  {
   "cell_type": "code",
   "execution_count": 15,
   "metadata": {},
   "outputs": [],
   "source": [
    "def drop_text_after(string):\n",
    "    string_new=''\n",
    "    for line in string.split('\\n'):\n",
    "        if '===' in line:\n",
    "            break\n",
    "        else:\n",
    "            if 'You should recall that' not in line:\n",
    "                string_new='\\n'.join([string_new,line])\n",
    "    return string_new[1:]\n"
   ]
  },
  {
   "cell_type": "code",
   "execution_count": 16,
   "metadata": {},
   "outputs": [],
   "source": [
    "def extractor(descriptor,message=False):\n",
    "    sys_msg=[{'role': 'system', 'content': prompt_system}]\n",
    "    question_prompt='\\nTemplate:\\n {template} \\n\\n Excerpt:\\n {excerpt}'.format(template=drop_text_after(prompt_dict()[descriptor['task']]), excerpt=load_excerpt(descriptor['source']))\n",
    "    user_msg=[{'role':'user','content':question_prompt}]\n",
    "    messages = sys_msg + user_msg\n",
    "    if message:\n",
    "        return sys_msg[0]['content']+user_msg[0]['content']\n",
    "    rs= openai.ChatCompletion.create(messages=messages, **model_params)\n",
    "    response=rs['choices'][0]['message'].content\n",
    "    return response\n"
   ]
  },
  {
   "cell_type": "markdown",
   "metadata": {},
   "source": [
    "## GPT4"
   ]
  },
  {
   "cell_type": "code",
   "execution_count": 17,
   "metadata": {},
   "outputs": [
    {
     "name": "stderr",
     "output_type": "stream",
     "text": [
      "100%|██████████| 13/13 [07:13<00:00, 33.37s/it]\n"
     ]
    }
   ],
   "source": [
    "string=''\n",
    "for kwargs in tqdm(kwargs_yaml):\n",
    "    string+='# '+kwargs['task']+'\\n'\n",
    "    response=(extractor(kwargs, message=False))\n",
    "    string+=response+'\\n\\n'\n",
    "    \n",
    "    "
   ]
  },
  {
   "cell_type": "code",
   "execution_count": 18,
   "metadata": {},
   "outputs": [
    {
     "name": "stdout",
     "output_type": "stream",
     "text": [
      "# Construct Kinetic Hamiltonian (continuum version, second-quantized)\n",
      "You will be instructed to describe the kinetic term of Hamiltonian in electrons in graphene in the continuum limit in the momentum space in the second-quantized form.   \n",
      "The degrees of freedom of the system are: sublattice, layer, and momentum.  \n",
      "Express the Kinetic Hamiltonian H_0 using ε(k), c^{\\dag} _{\\alpha i {\\bf k}}, and c _{\\alpha  R {\\bf k}}, where the summation of ${k}$ should be running over the entire space.\n",
      "\n",
      "Use the following conventions for the symbols:  \n",
      "- H_0: non-interacting Hamiltonian\n",
      "- ε(k): eigenvalues of H_0\n",
      "- c^{\\dag} _{\\alpha i {\\bf k}}: operator that creates an electron on sublattice α in layer i with momentum k\n",
      "- c _{\\alpha  R {\\bf k}}: operator that annihilates an electron on sublattice α in layer R with momentum k\n",
      "- t_1: interlayer hopping matrix element\n",
      "- t: nearest neighbor intralayer hopping parameter\n",
      "- v_F: electron speed\n",
      "- a: monolayer graphene lattice parameter\n",
      "- s: indicates an electron-like band (-1) and a hole-like band (+1)\n",
      "\n",
      "# Define each term in Kinetic Hamiltonian (continuum version)\n",
      "You will be instructed to construct each term, namely $\\varepsilon (k)$.  \n",
      "For all energy dispersions, $\\varepsilon (k)$, it characterizes the Dirac dispersion for electrons.   \n",
      "In addition, a shift of $t_1$ in the momentum ${\\bf k}$ for $\\varepsilon (k)  \\pm t_1$, respectively.  \n",
      "You should follow the EXAMPLE below to obtain correct energy dispersion, select the correct EXAMPLE by noticing the type of dispersion.  \n",
      "Finally, in the real space, the momentum ${\\bf k}=-i \\partial_{r}$ . You should keep the form of ${\\bf k}$ in the Hamiltonian for short notations but should remember ${\\bf k}$ is an operator.  \n",
      "Return the expression for $\\varepsilon (k)$ in the Kinetic Hamiltonian, and substitute it into the Kinetic Hamiltonian $H_0$.  \n",
      "\n",
      "Use the following conventions for the symbols (You should also obey the conventions in all my previous prompts if you encounter undefined symbols. If you find it is never defined or has conflicts in the conventions, you should stop and let me know):  \n",
      "$\\hbar$ is the reduced Planck constant, $v_F$ is the electron speed, ${\\bf k}$ is the momentum, $c ^{\\dag} _{\\alpha i {\\bf k}}$ is the operator that creates an electron on sublattice $\\alpha$ in layer $i$ with momentum ${\\bf k}$, $t_1$ is the interlayer hopping matrix element, $t$ is the nearest neighbor intralayer hopping parameter, $a$ is the monolayer graphene lattice parameter, and $s$ is the band type indicator (-1 for electron-like band and +1 for hole-like band).\n",
      "\n",
      "# Define each term in Kinetic Hamiltonian (continuum version)\n",
      "You will be instructed to construct each term, namely $\\varepsilon (k)$.  \n",
      "For all energy dispersions, $\\varepsilon (k)$, it characterizes the Dirac dispersion for electrons.   \n",
      "In addition, a shift of $t_1$ in the momentum ${\\bf k}$ for $\\varepsilon (k)  \\pm t_1$, respectively.  \n",
      "You should follow the EXAMPLE below to obtain correct energy dispersion, select the correct EXAMPLE by noticing the type of dispersion.  \n",
      "Finally, in the real space, the momentum ${\\bf k}=-i \\partial_{r}$ . You should keep the form of ${\\bf k}$ in the Hamiltonian for short notations but should remember ${\\bf k}$ is an operator.  \n",
      "Return the expression for $\\varepsilon (k)$ in the Kinetic Hamiltonian, and substitute it into the Kinetic Hamiltonian $H_0$.  \n",
      "\n",
      "Use the following conventions for the symbols (You should also obey the conventions in all my previous prompts if you encounter undefined symbols. If you find it is never defined or has conflicts in the conventions, you should stop and let me know):  \n",
      "$\\varepsilon (k)$ is the energy dispersion, ${\\bf k}$ is the momentum, $H_0$ is the non-interacting Hamiltonian, $t_1$ is the interlayer hopping matrix element, $v_F$ is the electron speed, $a$ is the monolayer graphene lattice parameter, and $s$ is the band type with $s=-1$ indicating an electron-like band and $s=+1$ indicating a hole-like band.\n",
      "\n",
      "# Construct interaction Hamiltonian (momentum space)\n",
      "You will be instructed to construct the interaction part of the Hamiltonian $H_{ee}$ in the momentum space.  \n",
      "The interaction Hamiltonian is a product of four parts.\n",
      "The first part is the product of four operators with two creation and two annihilation operators following the normal order, namely, creation operators are before annihilation operators. You should follow the order of $\\alpha, i, \\beta, j$ for the {index_of_operator}, and $k, k-q, k', k'+q$ for the {momentum}. \n",
      "The second part is the constraint of total momentum conservation, namely the total momentum of all creation operators should be the same as that of all annihilation operators.  \n",
      "The third part is the interaction form. You should use $V^{ij}(q)$ with $V^{LL}( q) =V^{RR}( q)$ and $V^{LR}( q) =V^{RL}( q)$, where $q$ is the transferred total momentum between a creation operator and an annihilation operator with the same {index_of_operator}, namely $q=k-k'$.  \n",
      "The fourth part is the normalization factor, you should use $\\frac 1 {2S}$ here.\n",
      "Finally, the summation should be running over all $\\alpha, \\beta, i, j$, and ${\\bf q},{\\bf k},{\\bf k'}$\n",
      "Return the interaction term $H_{ee}$ in terms of $c^{\\dag}$, $c$ and $V^{ij}(q)$ (with $q$ expressed in terms of ${\\bf q},{\\bf k},{\\bf k'}$).  \n",
      "\n",
      "Use the following conventions for the symbols (You should also obey the conventions in all my previous prompts if you encounter undefined symbols. If you find it is never defined or has conflicts in the conventions, you should stop and let me know):  \n",
      "$S$ is the sample area, $V^{LL}( q) =V^{RR}( q)$ and $V^{LR}( q) =V^{RL}( q)$ are Fourier transforms of a screened intra- and inter-layer electron-electron interaction, and $:...:$ indicates normal ordering.\n",
      "\n",
      "# Construct interaction Hamiltonian (momentum space)\n",
      "You will be instructed to construct the interaction part of the Hamiltonian $H_{ee}$ in the momentum space.  \n",
      "The interaction Hamiltonian is a product of four parts.\n",
      "The first part is the product of four operators with two creation and two annihilation operators following the normal order, namely, creation operators are before annihilation operators. You should follow the order of $\\alpha, i, \\beta, j$ for the {index_of_operator}, and $k, k-q, k', k'+q$ for the {momentum}. \n",
      "The second part is the constraint of total momentum conservation, namely the total momentum of all creation operators should be the same as that of all annihilation operators.  \n",
      "The third part is the interaction form. You should use $V^{ij}(q)$ with $V(q)=V^{LL}( q) =V^{RR}( q)$ and $V^{LR}( q) =V^{RL}( q)$, where $q$ is the transferred total momentum between a creation operator and an annihilation operator with the same {index_of_operator}, namely $q=k-k'$.  \n",
      "The fourth part is the normalization factor, you should use $\\frac 1 {2S}$ here.\n",
      "Finally, the summation should be running over all $\\alpha, \\beta, i, j$, and ${\\bf q},{\\bf k},{\\bf k'}$\n",
      "Return the interaction term $H_{ee}$ in terms of $c^{\\dag}$, $c$ and $V(q)$ (with $q$ expressed in terms of ${\\bf q},{\\bf k},{\\bf k'}$).  \n",
      "\n",
      "Use the following conventions for the symbols (You should also obey the conventions in all my previous prompts if you encounter undefined symbols. If you find it is never defined or has conflicts in the conventions, you should stop and let me know):  \n",
      "$S$ is the sample area, $V^{LL}( q) =V^{RR}( q)$ and $V^{LR}( q) =V^{RL}( q)$ are Fourier transforms of a screened intra- and inter-layer electron-electron interaction, and $:...:$ indicates normal ordering.\n",
      "\n",
      "# Wick's theorem\n",
      "You will be instructed to perform a Hartree-Fock approximation to expand the interaction term, $H_{ee}$.  \n",
      "You should use Wick's theorem to expand the four-fermion term in $H_{ee}$ into quadratic terms. You should strictly follow the EXAMPLE below to expand using Wick's theorem, select the correct EXAMPLE by noticing the order of four term product with and without ${{}}^\\dagger$, and be extremely cautious about the order of the index and sign before each term.  \n",
      "You should only preserve the normal terms. Here, the normal terms mean the product of a creation operator and an annihilation operator.  \n",
      "Return the expanded interaction term after Hartree-Fock approximation as $H_{ee}^{HF}$.\n",
      "\n",
      "Use the following conventions for the symbols (You should also obey the conventions in all my previous prompts if you encounter undefined symbols. If you find it is never defined or has conflicts in the conventions, you should stop and let me know):  \n",
      "$c^{\\dag} _{\\alpha i \\bf {k}}$ and $c _{\\beta j \\bf {k}}$ are creation and annihilation operators respectively. $V^{ij}$ is the interaction potential. $S$ is the normalization constant. $\\alpha$, $\\beta$, $i$, and $j$ are indices. ${\\bf k}$ and ${\\bf k'}$ are momentum vectors.\n",
      "\n",
      "# Extract quadratic term\n",
      "You will be instructed to extract the quadratic terms in the Hartree-Fock Hamiltonian.  \n",
      "The quadratic terms mean terms that are proportional to c^{\\dag} _{\\alpha i \\bf {k}} c _{\\beta j \\bf {k}}, which excludes terms that are solely expectations or products of expectations.  \n",
      "You should only preserve the quadratic terms in Hartree-Fock Hamiltonian, denoted as H_{ee} ^{HF}.  \n",
      "Return H_{ee} ^{HF}.  \n",
      "\n",
      "Use the following conventions for the symbols (You should also obey the conventions in all my previous prompts if you encounter undefined symbols. If you find it is never defined or has conflicts in the conventions, you should stop and let me know):  \n",
      "H_{ee} ^{HF} is the Hartree-Fock Hamiltonian, c^{\\dag} _{\\alpha i \\bf {k}} c _{\\beta j \\bf {k}} is the bilinear operator, and V^{ij} (| {\\bf k} \\! - \\! {\\bf k'} |) is the interaction potential.\n",
      "\n",
      "# Expand interaction\n",
      "You will be instructed to expand interaction term $V^{ij} (| {\\bf k} \\! - \\! {\\bf k'} |)$ in the MF quadratic term $H_{ee} ^{HF}$.\n",
      "If you find the $V^{ij} (| {\\bf k} \\! - \\! {\\bf k'} |)$ in $H_{ee} ^{HF}$ does not contain any momentum that is not in the summation sign. The interaction term is already expanded. No action to perform on interaction term.\n",
      "Otherwise, you will expand $V^{ij} (| {\\bf k} \\! - \\! {\\bf k'} |)$ by replacing $q$ with the momentum ${\\bf k} \\! - \\! {\\bf k'}$.\n",
      "Return $H_{ee} ^{HF}$ with expanded interaction.\n",
      "\n",
      "# Swap the index to combine Hartree and Fock terms\n",
      "You will be instructed to simplify the quadratic term $H_{ee} ^{HF}$ through relabeling the index to combine the two Hartree/Fock term into one Hartree/Fock term.  \n",
      "The logic is that the expected value ($< c^{\\dag} _{\\alpha   j \\bf {k'}} c _{\\alpha   i  \\bf {k'}} >$) in the first Hartree term ($-  \\frac 1 S \\sum c^{\\dag} _{\\alpha i \\bf {k}} c _{\\beta j \\bf {k}} V^{ij} (| {\\bf k} \\! - \\! {\\bf k'} |)$) has the same form as the quadratic operators in the second Hartree term, and vice versa. The same applies to the Fock term.  \n",
      "This means, if you relabel the index by swapping the index in the \"expected value\" and \"quadratic operators\" in the second Hartree term, you can make the second Hartree term look identical to the first Hartree term, as long as $V(q)=V(-q)$, which is naturally satisfied in Coulomb interaction. You should follow the EXAMPLE below to simplify it through relabeling the index.  \n",
      "You should perform this trick of \"relabeling the index\" for both two Hartree terms and two Fock terms to reduce them to one Hartree term, and one Fock term.  \n",
      "Return the simplified $H_{ee} ^{HF}$ which reduces from four terms (two Hartree and two Fock terms) to only two terms (one Hartree and one Fock term).\n",
      "\n",
      "# Reduce momentum in Hartree term (momentum in BZ + reciprocal lattice)\n",
      "You will be instructed to simplify the Hartree term in $H_{ee} ^{HF}$ by reducing the momentum inside the expected value $< c^{\\dag} _{\\alpha   j \\bf {k'}} c _{\\alpha   i  \\bf {k'}} >$.  \n",
      "The expected value $< c^{\\dag} _{\\alpha   j \\bf {k'}} c _{\\alpha   i  \\bf {k'}} >$ is only nonzero when the two momenta $k_i,k_j$ are the same, namely, $k_i = k_j$.  \n",
      "You should use the property of Kronecker delta function $\\delta_{{k_i,k_j}}$ to reduce one momentum $k_i$ but not $b_i$.\n",
      "Once you reduce one momentum inside the expected value $\\langle\\dots\\rangle$. You will also notice the total momentum conservation will reduce another momentum in the quadratic term. Therefore, you should end up with only two momenta left in the summation.  \n",
      "You should follow the EXAMPLE below to reduce one momentum in the Hartree term, and another momentum in the quadratic term.  \n",
      "Return the final simplified Hartree term $H_{ee} ^{HF}$.\n",
      "\n",
      "# Reduce momentum in Fock term (momentum in BZ + reciprocal lattice)\n",
      "You will be instructed to simplify the Fock term in $H_{ee} ^{HF}$ by reducing the momentum inside the expected value $< c^{\\dag} _{\\alpha   j \\bf {k'}} c _{\\alpha   i  \\bf {k'}} >$.  \n",
      "The expected value $< c^{\\dag} _{\\alpha   j \\bf {k'}} c _{\\alpha   i  \\bf {k'}} >$ is only nonzero when the two momenta $k_i,k_j$ are the same, namely, $k_i = k_j$.  \n",
      "You should use the property of Kronecker delta function $\\delta_{{k_i,k_j}}$ to reduce one momentum $k_i$ but not $b_i$.  \n",
      "Once you reduce one momentum inside the expected value $\\langle\\dots\\rangle$. You will also notice the total momentum conservation will reduce another momentum in the quadratic term. Therefore, you should end up with only two momenta left in the summation.\n",
      "You should follow the EXAMPLE below to reduce one momentum in the Fock term, and another momentum in the quadratic term.    \n",
      "Return the final simplified Fock term $H_{ee} ^{HF}$.\n",
      "\n",
      "# Combine the Hartree and Fock term\n",
      "You will now be instructed to combine the Hartree term H_{ee} ^{HF} and the Fock term \\Delta _R ^ {LR} ({ k}), \\Delta _I ^ {LR} (k), \\Delta ^ {LL} ({ k}), \\Delta ^ {RR} ({ k}).  \n",
      "You should perform the same trick of relabeling the index in the Fock term to make the quadratic operators in the Fock term the same as those in the Hartree term. The relabeling should be done with a swap : {swap rule}.\n",
      "You should add them, relabel the index in Fock term, and simply their sum. \n",
      "Return the final sum of Hartree and Fock term.\n",
      "\n",
      "# Construct full Hamiltonian after HF\n",
      "You will be instructed to construct the entire Hamiltonian after the Hartree-Fock approximation H_{ee}^{HF}. \n",
      "You should first recall the Kinetic Hamiltonian {kinetic_symbol} is {expression_kinetic}.  \n",
      "You should then recall the interacting Hamiltonian H_{ee}^{HF} is -  \\frac 1 S \\sum c^{\\dag} _{\\alpha i \\bf {k}} c _{\\beta j \\bf {k}} V^{ij} (| {\\bf k} \\! - \\! {\\bf k'} |)  < c^{\\dag} _{\\alpha   j \\bf {k'}} c _{\\alpha   i  \\bf {k'}} >.  \n",
      "You should then combine {kinetic_symbol} with the interacting Hamiltonian H_{ee}^{HF} after the Hartree-Fock approximation, which is the entire Hamiltonian {Ham_symbol} after Hartree-Fock.  \n",
      "Return the expression for {Ham_symbol}.  \n",
      "\n",
      "Use the following conventions for the symbols (You should also obey the conventions in all my previous prompts if you encounter undefined symbols. If you find it is never defined or has conflicts in the conventions, you should stop and let me know):  \n",
      "{definition_of_variables}\n",
      "\n",
      "\n"
     ]
    }
   ],
   "source": [
    "print(string)"
   ]
  },
  {
   "cell_type": "code",
   "execution_count": 19,
   "metadata": {},
   "outputs": [],
   "source": [
    "with open(pwd.split('/')[-1]+'_extractor.md','w') as f:\n",
    "    f.write(string)"
   ]
  },
  {
   "cell_type": "code",
   "execution_count": null,
   "metadata": {},
   "outputs": [],
   "source": []
  }
 ],
 "metadata": {
  "kernelspec": {
   "display_name": "base",
   "language": "python",
   "name": "python3"
  },
  "language_info": {
   "codemirror_mode": {
    "name": "ipython",
    "version": 3
   },
   "file_extension": ".py",
   "mimetype": "text/x-python",
   "name": "python",
   "nbconvert_exporter": "python",
   "pygments_lexer": "ipython3",
   "version": "3.8.11"
  },
  "orig_nbformat": 4
 },
 "nbformat": 4,
 "nbformat_minor": 2
}
