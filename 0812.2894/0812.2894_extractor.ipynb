{
 "cells": [
  {
   "cell_type": "code",
   "execution_count": 1,
   "metadata": {},
   "outputs": [],
   "source": [
    "import openai\n",
    "import pandas as pd\n",
    "import json\n",
    "import yaml\n",
    "from IPython.display import Markdown\n",
    "import sys\n",
    "import yaml\n",
    "from tqdm import tqdm"
   ]
  },
  {
   "cell_type": "code",
   "execution_count": 2,
   "metadata": {},
   "outputs": [],
   "source": [
    "zz=openai.Model.list()"
   ]
  },
  {
   "cell_type": "code",
   "execution_count": 3,
   "metadata": {},
   "outputs": [
    {
     "data": {
      "text/plain": [
       "62"
      ]
     },
     "execution_count": 3,
     "metadata": {},
     "output_type": "execute_result"
    }
   ],
   "source": [
    "len(zz['data'])"
   ]
  },
  {
   "cell_type": "code",
   "execution_count": 4,
   "metadata": {},
   "outputs": [],
   "source": [
    "model_params = {\n",
    "    'model': \"gpt-4\",\n",
    "    'temperature': 0,\n",
    "}"
   ]
  },
  {
   "cell_type": "code",
   "execution_count": 5,
   "metadata": {},
   "outputs": [],
   "source": [
    "def print_save(string, file='../cmp2.md'):\n",
    "    print(string)\n",
    "    with open(file,'w') as f:\n",
    "        f.write(string)"
   ]
  },
  {
   "cell_type": "markdown",
   "metadata": {},
   "source": [
    "## Load prompt_template.md"
   ]
  },
  {
   "cell_type": "code",
   "execution_count": 6,
   "metadata": {},
   "outputs": [],
   "source": [
    "sys.path.append('..')\n",
    "from utils import *\n",
    "from functools import partial"
   ]
  },
  {
   "cell_type": "code",
   "execution_count": 7,
   "metadata": {},
   "outputs": [],
   "source": [
    "prompt_dict = partial(load_prompt_template,file='../prompt_template.md')"
   ]
  },
  {
   "cell_type": "code",
   "execution_count": 8,
   "metadata": {},
   "outputs": [
    {
     "data": {
      "text/plain": [
       "dict_keys(['Preamble', 'Problem-solver', 'Conversation summarizer', 'Construct Kinetic Hamiltonian (continuum version, single-particle)', 'Construct Kinetic Hamiltonian (continuum version, second-quantized)', 'Construct Kinetic Hamiltonian (lattice version)', 'Define each term in Kinetic Hamiltonian (continuum version)', 'Construct Potential Hamiltonian (continuum version)', 'Define each term in Potential Hamiltonian (continuum version)', 'Construct interaction Hamiltonian (real space, lattice version)', 'Construct interaction Hamiltonian (momentum space)', 'Convert from single-particle to second-quantized form, return in matrix', 'Convert from single-particle to second-quantized form, return in summation (expand the matrix)', 'Convert noninteracting Hamiltonian in real space to momentum space (continuum version)', 'Convert noninteracting Hamiltonian in real space to momentum space (lattice version)', 'Convert interacting Hamiltonian in real space to momentum space (lattice version)', 'Particle-hole transformation', 'Simplify the Hamiltonian in the particle-hole basis', \"Wick's theorem\", 'Extract quadratic term', 'Hartree term only', 'Fock term only', 'Expand interaction', 'Swap the index only', 'Swap the index to combine Hartree and Fock terms', 'Reduce momentum in Hartree term (momentum in BZ + reciprocal lattice)', 'Reduce momentum in Hartree term (momentum in BZ)', 'Reduce momentum in Fock term (momentum in BZ + reciprocal lattice)', 'Reduce momentum in Fock term (momentum in BZ)', 'Combine the Hartree and Fock term', 'Construct full Hamiltonian after HF', 'Mathematical simplify: inner product expansion', \"Mathematical simplify: Euler's formula\", 'Mathematical simplify: prosthaphaeresis', 'Mathematical simplify: Expand the product using Associative property', 'Mathematical simplify: Combine using Associative property', 'Mathematical simplify: reduce index'])"
      ]
     },
     "execution_count": 8,
     "metadata": {},
     "output_type": "execute_result"
    }
   ],
   "source": [
    "prompt_dict().keys()"
   ]
  },
  {
   "cell_type": "code",
   "execution_count": null,
   "metadata": {},
   "outputs": [],
   "source": []
  },
  {
   "cell_type": "markdown",
   "metadata": {},
   "source": [
    "# Prompt fill place holder"
   ]
  },
  {
   "cell_type": "code",
   "execution_count": 9,
   "metadata": {},
   "outputs": [],
   "source": [
    "import json"
   ]
  },
  {
   "cell_type": "code",
   "execution_count": 10,
   "metadata": {},
   "outputs": [],
   "source": [
    "pwd=os.getcwd()"
   ]
  },
  {
   "cell_type": "code",
   "execution_count": 11,
   "metadata": {},
   "outputs": [],
   "source": [
    "arxiv_number=pwd.split('/')[-1]"
   ]
  },
  {
   "cell_type": "code",
   "execution_count": 23,
   "metadata": {},
   "outputs": [],
   "source": [
    "with open(f'{arxiv_number}.yaml','r') as f:\n",
    "    kwargs_yaml = yaml.safe_load(f)\n",
    "# with open(f'{arxiv_number}.jsonl','r') as f:\n",
    "#     kwargs_jsonl= [json.loads(line) for line in f]"
   ]
  },
  {
   "cell_type": "code",
   "execution_count": 13,
   "metadata": {},
   "outputs": [],
   "source": [
    "def load_excerpt(sources):\n",
    "    excerpt=''\n",
    "    for tex, lines in sources.items():\n",
    "        with open(tex,'r') as f:\n",
    "            f_list=list(f)\n",
    "            for line in lines:\n",
    "                excerpt=excerpt+''.join(f_list[line[0]:line[1]])\n",
    "    return excerpt"
   ]
  },
  {
   "cell_type": "code",
   "execution_count": 14,
   "metadata": {},
   "outputs": [],
   "source": [
    "prompt_system='''I will provide you a Excerpt of physics paper, and a Template. You will need to fill the placeholders in the template using the correct information from the excerpt.\n",
    "Here are conventions: \n",
    "{..} means a placeholder which you need to fill by extracting information from the excerpt.\n",
    "{A|B} means you need to make a choice between A and B\n",
    "[..] means optional sentence. You should decide whether to use it depending on the excerpt.\n",
    "{{..}} DOES NOT mean a placeholder. You should not change the content inside double curly braces {{..}}.\n",
    "`You should recall that {expression_second_nonint}.` : this sentence should be kept as is.\n",
    "\n",
    "\n",
    "Finally, if you cannot figure out the placeholder, you should leave it as is.'''"
   ]
  },
  {
   "cell_type": "code",
   "execution_count": 15,
   "metadata": {},
   "outputs": [],
   "source": [
    "def drop_text_after(string):\n",
    "    string_new=''\n",
    "    for line in string.split('\\n'):\n",
    "        if '===' in line:\n",
    "            break\n",
    "        else:\n",
    "            if 'You should recall that' not in line:\n",
    "                string_new='\\n'.join([string_new,line])\n",
    "    return string_new[1:]\n"
   ]
  },
  {
   "cell_type": "code",
   "execution_count": 16,
   "metadata": {},
   "outputs": [],
   "source": [
    "def extractor(descriptor,message=False):\n",
    "    sys_msg=[{'role': 'system', 'content': prompt_system}]\n",
    "    question_prompt='\\nTemplate:\\n {template} \\n\\n Excerpt:\\n {excerpt}'.format(template=drop_text_after(prompt_dict()[descriptor['task']]), excerpt=load_excerpt(descriptor['source']))\n",
    "    user_msg=[{'role':'user','content':question_prompt}]\n",
    "    messages = sys_msg + user_msg\n",
    "    if message:\n",
    "        return sys_msg[0]['content']+user_msg[0]['content']\n",
    "    rs= openai.ChatCompletion.create(messages=messages, **model_params)\n",
    "    response=rs['choices'][0]['message'].content\n",
    "    return response\n"
   ]
  },
  {
   "cell_type": "markdown",
   "metadata": {},
   "source": [
    "## GPT4"
   ]
  },
  {
   "cell_type": "code",
   "execution_count": 27,
   "metadata": {},
   "outputs": [
    {
     "name": "stderr",
     "output_type": "stream",
     "text": [
      "100%|██████████| 12/12 [08:49<00:00, 44.12s/it]\n"
     ]
    }
   ],
   "source": [
    "string=''\n",
    "for kwargs in tqdm(kwargs_yaml):\n",
    "    string+='# '+kwargs['task']+'\\n'\n",
    "    response=(extractor(kwargs, message=False))\n",
    "    string+=response+'\\n\\n'\n",
    "    \n",
    "    "
   ]
  },
  {
   "cell_type": "code",
   "execution_count": 28,
   "metadata": {},
   "outputs": [
    {
     "name": "stdout",
     "output_type": "stream",
     "text": [
      "# Construct Kinetic Hamiltonian (lattice version)\n",
      "You will be instructed to describe the kinetic term of Hamiltonian in an electron system in the real space in the second-quantized form.   \n",
      "The degrees of freedom of the system are: site i, site j, orbital μ, orbital ν, and spin σ     \n",
      "The kinetic term is a tight-binding model composed of the following hopping process: \n",
      "site i and site j with the amplitude hopping T^μ,ν_i,j\n",
      "You should ensure the hermiticity of the Hamiltonian\n",
      "The summation should be taken over all degrees of freedom and all real space positions.  \n",
      "Return the Kinetic Hamiltonian H_0.\n",
      "\n",
      "Use the following conventions for the symbols:  \n",
      "d^†_i,μ,σ creates an electron at site i with spin σ on the μ-th orbital (μ=1,2,3,4 stands for the xz, yz, xy, and x^2-y^2 orbitals, respectively). The hopping tensor T^μ,ν_i,j has a complicated real-space structure.\n",
      "\n",
      "# Construct interaction Hamiltonian (real space, lattice version)\n",
      "You will be instructed to construct the interaction part of the Hamiltonian, $H_{\\rm int}$ in the real space in the second-quantized form.   \n",
      "The interacting Hamiltonian has the same degrees of freedom as the kinetic Hamiltonian.  \n",
      "The interaction is a density-density interaction composed of the following process:\n",
      "site ${\\bf i}$ and orbital $\\mu$ with the interaction strength $U$, $U'-{J\\over{2}}$, and $-2J$.\n",
      "The summation should be taken over all orbitals $\\mu$ and $\\nu$ and all real space positions ${\\bf i}$.  \n",
      "Return the interaction term $H_{\\rm int}$ in terms of $n_{{\\bf i},\\mu}$.\n",
      "\n",
      "Use the following conventions for the symbols (You should also obey the conventions in all my previous prompts if you encounter undefined symbols. If you find it is never defined or has conflicts in the conventions, you should stop and let me know): \n",
      "$\\mathbf{S}_{{\\bf i},\\mu}$ ($n_{{\\bf i},\\mu}$) is the spin (charge density) of orbital $\\mu$ at site ${\\bf i}$, and $n_{{\\bf i},\\mu}=n_{{\\bf i},\\mu,\\uparrow}+n_{{\\bf i},\\mu,\\downarrow}$. The first term is a Hubbard repulsion for the electrons in the same orbital. The second term describes an on-site inter-orbital repulsion, where the standard relation $U'=U-J/2$ caused by rotational invariance is used. The last term in Eq.~(\\ref{E.Hint}) is a Hund term with a ferromagnetic coupling $J$.\n",
      "\n",
      "# Convert noninteracting Hamiltonian in real space to momentum space (lattice version)\n",
      "You will be instructed to convert the noninteracting Hamiltonian H_0 in the second quantized form from the basis in real space to the basis in momentum space. \n",
      "To do that, you should apply the Fourier transformation to d^\\dagger_{\\mathbf{k},\\mu,\\sigma} in the real space to the d_{\\mathbf{k},\\nu,\\sigma} in the momentum space, which is defined as T^{\\mu,\\nu}(\\mathbf{k}), where \\mathbf{k} is integrated over all sites in the entire real space. You should follow the EXAMPLE below to apply the Fourier transformation. [Note that hopping have no position dependence now.]\n",
      "Express the total noninteracting Hamiltonian H_0 in terms of d_{\\mathbf{k},\\nu,\\sigma}. Simplify any summation index if possible.\n",
      "\n",
      "Use the following conventions for the symbols (You should also obey the conventions in all my previous prompts if you encounter undefined symbols. If you find it is never defined or has conflicts in the conventions, you should stop and let me know):\n",
      "T^{11} = -2t_2\\cos k'_x -2t_1\\cos k'_y -4t_3 \\cos k'_x \\cos k'_y,\n",
      "T^{22} = -2t_1\\cos k'_x -2t_2\\cos k'_y -4t_3 \\cos k'_x \\cos k'_y,\n",
      "T^{12} = -4t_4\\sin k'_x \\sin k'_y,\n",
      "T^{33} = -2t_5(\\cos(k'_x+\\pi)+\\cos(k'_y+\\pi)) -4t_6\\cos(k'_x+\\pi)\\cos(k'_y+\\pi) +\\Delta_{xy},\n",
      "T^{13} = -4it_7\\sin k'_x + 8it_8\\sin k'_x \\cos k'_y,\n",
      "T^{23} = -4it_7\\sin k'_y + 8it_8\\sin k'_y \\cos k'_x,\n",
      "T^{44} = -2t_{17}(\\cos(k'_x+\\pi)+\\cos(k'_y+\\pi)) -4t_9\\cos(k'_x+\\pi)\\cos(k'_y+\\pi) +\\Delta_{x^2-y^2},\n",
      "T^{14} = -4it_{10}\\sin k'_y,\n",
      "T^{24} = ~~4it_{10}\\sin k'_x,\n",
      "T^{34} = ~~0.\n",
      "\n",
      "# Convert interacting Hamiltonian in real space to momentum space (lattice version)\n",
      "You will be instructed to convert the interacting Hamiltonian, $H_{\\rm int}$, in the single-particle form the basis in real space to the basis in momentum space.\n",
      "To do that, you should apply the Fourier transformation to $n_{{\\bf i},\\mu,\\uparrow}$ and $n_{{\\bf i},\\mu,\\downarrow}$ in the real space to the {momentum_creation_op} in the momentum space, which is defined as {definition_of_Fourier_Transformation}, where ${\\bf i}$ is integrated over all sites in the entire real space, and {momentum_var} is defined within the first Brillouin zone. You should follow the EXAMPLE below to apply the Fourier transformation. [Note that interaction have no position dependence now]\n",
      "Express $H_{\\rm int}$ in terms of {momentum_creation_op}. Simplify any summation index if possible.\n",
      "\n",
      "# Wick's theorem\n",
      "You will be instructed to perform a Hartree-Fock approximation to expand the interaction term, $H_{\\rm int}$.  \n",
      "You should use Wick's theorem to expand the four-fermion term in $H_{\\rm int}$ into quadratic terms. You should strictly follow the EXAMPLE below to expand using Wick's theorem, select the correct EXAMPLE by noticing the order of four-term product with and without ${{}}^\\dagger$, and be extremely cautious about the order of the index and sign before each term.  \n",
      "You should only preserve the normal terms. Here, the normal terms mean the product of a creation operator and an annihilation operator.  \n",
      "Return the expanded interaction term after Hartree-Fock approximation as $H_{\\rm MF}$.\n",
      "\n",
      "Use the following conventions for the symbols (You should also obey the conventions in all my previous prompts if you encounter undefined symbols. If you find it is never defined or has conflicts in the conventions, you should stop and let me know):  \n",
      "$\\mathbf{S}_{{\\bf i},\\mu}$ ($n_{{\\bf i},\\mu}$) is the spin (charge density) of orbital $\\mu$ at site ${\\bf i}$, and $n_{{\\bf i},\\mu}=n_{{\\bf i},\\mu,\\uparrow}+n_{{\\bf i},\\mu,\\downarrow}$. The first term is a Hubbard repulsion for the electrons in the same orbital. The second term describes an on-site inter-orbital repulsion, where the standard relation $U'=U-J/2$ caused by rotational invariance is used. The last term in Eq.~(\\ref{E.Hint}) is a Hund term with a ferromagnetic coupling $J$.\n",
      "\n",
      "# Extract quadratic term\n",
      "Template:\n",
      "You will be instructed to extract the quadratic terms in the {interaction term}.  \n",
      "The quadratic terms mean terms that are proportional to {the mean-field parameters}, which excludes terms that are solely expectations or products of expectations.  \n",
      "You should only preserve the quadratic terms in {interaction term}, denoted as {mean-field Hamiltonian}.  \n",
      "Return {mean-field Hamiltonian}.  \n",
      "\n",
      "Use the following conventions for the symbols (You should also obey the conventions in all my previous prompts if you encounter undefined symbols. If you find it is never defined or has conflicts in the conventions, you should stop and let me know):  \n",
      "{H_{\\rm int} is the interaction term, H_{\\rm MF} is the mean-field Hamiltonian, n_\\mu and m_\\mu are the mean-field parameters}\n",
      "\n",
      " \n",
      "\n",
      " Excerpt:\n",
      " the projected weight of each orbital at both the hole and\n",
      "electron pockets were calculated. These weights are defined via the eigenvectors\n",
      "of $H_0$: $W_{\\mu,\\lambda} (\\mathbf{k}) =\n",
      "\\frac{1}{2} \\sum_\\sigma |U_{\\mathbf{k},\\mu,\\sigma;\\lambda}|^2$,\n",
      "where $\\lambda$ denotes the band index ($\\alpha_1, \\alpha_2,\n",
      "\\beta_1, \\beta_2$), and $\\mu$ refers to the four $d$ orbitals. The matrix\n",
      "$U_{\\mathbf{k},\\mu,\\sigma;\\lambda}$ diagonalizes the system (see Eq.~(\\ref{diago}) below).\n",
      "An example of the angle-resolved weights in momentum space are shown in\n",
      "Fig.~\\ref{F.Project}. The two hole pockets centered at\n",
      "$(0,0)$ mostly arise from the $xz$ and $yz$ orbitals, compatible with LDA~\\cite{singh,first, xu, cao, fang2} and with\n",
      "much simpler descriptions\n",
      "based only on two orbitals.\\cite{scalapino,daghofer} The electron\n",
      "pocket centered at $(\\pi,0)$ ($(0,\\pi)$) arises mainly from the\n",
      "hybridization of the $xz$ ($yz$) and $xy$ orbitals (not shown). These results are also\n",
      "qualitatively consistent with those from the first-principles\n",
      "calculations.\\cite{fang2} However, there are some quantitative discrepancies that lead us\n",
      "to believe that probably longer-range than NNN\n",
      "plaquette-diagonal hoppings are needed to fully reproduce the\n",
      "LDA results including orbital weights. Nevertheless, the discussion below on the\n",
      "metallic magnetic phase at intermediate couplings is robust,\n",
      "and we believe it will survive when more complex\n",
      "multi-orbital models are used in the future.\n",
      "\n",
      "\n",
      "Note that the eigenenergies (band dispersion) along\n",
      "the $(0,0)\\rightarrow(\\pi,0)$ and\n",
      "$(0,0)\\rightarrow(0,\\pi)$ directions are symmetric about $(0,0)$, but the\n",
      "eigenvectors ($W_{\\mu,\\lambda}$) show a large anisotropy. For\n",
      "instance, at the Fermi level the $\\alpha_1$ band is almost $xz$-like\n",
      "along the $(0,0)\\rightarrow(\\pi,0)$ direction but almost $yz$-like\n",
      "along the $(0,0)\\rightarrow(0,\\pi)$ direction. Below, it will be discussed how\n",
      "this anisotropy affects the mean-field results for the\n",
      "interacting system.\n",
      "\n",
      "\n",
      "\\begin{figure}[h]\n",
      "%\\begin{center}\n",
      "%\\null~~~~~~\n",
      "\\vskip -0.3cm\n",
      "\\centerline{\\includegraphics[width=9cm,clip,angle=0]{pwa.eps}}\n",
      "%\\centerline{\\includegraphics[width=8cm,clip,angle=0]{pwb.eps}}\n",
      "\\vskip -0.5cm\n",
      "%\\centerline{\\includegraphics[width=9cm,clip,angle=0]{pwc.eps}}\n",
      "%\\centerline{\\includegraphics[width=8cm,clip,angle=0]{pwc.eps}}\n",
      "%\\vskip -0.5cm\n",
      "%\n",
      "%\\includegraphics[\n",
      "%bbllx=0pt,bblly=0pt,bburx=310pt,bbury=246pt,%\n",
      "%     width=70mm,angle=0]{pwa.eps}\n",
      "%\\includegraphics[\n",
      "%bbllx=0pt,bblly=0pt,bburx=308pt,bbury=246pt,%\n",
      "%     width=70mm,angle=0]{pwb.eps}\n",
      "%\\includegraphics[\n",
      "%bbllx=0pt,bblly=0pt,bburx=307pt,bbury=243pt,%\n",
      "%     width=70mm,angle=0]{pwc.eps}\n",
      "%\\includegraphics[\n",
      "%bbllx=0pt,bblly=0pt,bburx=305pt,bbury=246pt,%\n",
      "%     width=70mm,angle=0]{pwd.eps}\n",
      "\\caption{(Color online) The projected orbital weight\n",
      "$W_{\\mu,\\lambda}$ of states at the Fermi surface. Shown, as example, are results for the\n",
      "outer hole pocket\n",
      "%($\\alpha_1$, $\\alpha_2$)\n",
      "centered at $(0,0)$.\n",
      "%(b) The electron\n",
      "%pocket\n",
      "%($\\beta_1$)\n",
      "%centered at $(0,\\pi)$.\n",
      "The\n",
      "definition of $\\Theta$ is given in the inset.\n",
      "%The\n",
      "%other Fermi surface pockets are qualitatively similar.\n",
      "}\n",
      "\\vskip -0.3cm\n",
      "\\label{F.Project}\n",
      "%\\end{center}\n",
      "\\end{figure}\n",
      "\n",
      "\n",
      "\n",
      "Let us now consider the interaction term,\\cite{daghofer} which reads\n",
      "%\n",
      "\\begin{eqnarray}\\label{E.Hint}\n",
      "H_{\\rm int} &=& U\\sum_{{\\bf i},\\mu}n_{{\\bf i},\\mu,\\uparrow}n_{{\\bf i},\\mu,\\downarrow}\n",
      "+(U'-{J\\over{2}})\\sum_{{\\bf i},\\mu\\neq\\nu} n_{{\\bf i},\\mu}n_{{\\bf i},\\nu}\n",
      "\\nonumber \\\\\n",
      "& & -2J\\sum_{{\\bf i},\\mu\\neq\\nu}\\mathbf{S}_{{\\bf i},\\mu}\\cdot\\mathbf{S}_{{\\bf i},\\nu},\n",
      "\\end{eqnarray}\n",
      "where $\\mathbf{S}_{{\\bf i},\\mu}$ ($n_{{\\bf i},\\mu}$) is the spin (charge\n",
      "density) of orbital $\\mu$ at site ${\\bf i}$, and\n",
      "$n_{{\\bf i},\\mu}=n_{{\\bf i},\\mu,\\uparrow}+n_{{\\bf i},\\mu,\\downarrow}$. The first term\n",
      "is a Hubbard repulsion for the electrons in the same orbital. The\n",
      "second term describes an on-site inter-orbital repulsion, where the\n",
      "standard relation $U'=U-J/2$ caused by rotational invariance is used.\\cite{RMP01} The last term in\n",
      "Eq.~(\\ref{E.Hint}) is a Hund term with a ferromagnetic coupling $J$.\n",
      "A complete description would also require a\n",
      "pair-hopping interaction similar to the last term of\n",
      "Eq.~(\\ref{eq:Hint2}), where the interaction term for the\n",
      "two-orbital model is shown. But\n",
      "ED was used to test its impact in the case of two orbitals,\n",
      "and it was not found to be important. Consequently, it was neglected in the\n",
      "mean field treatment.\n",
      "%A complete description requires also a\n",
      "%pairing-hopping interaction but this term has been shown to be irrelevant\n",
      "%in the undoped limit,\\cite{daghofer} And thus it is here simply neglected.\n",
      "%Such a term is not considered in our model since our main purpose of\n",
      "%this work is to understand the magnetic ground state in the undoped\n",
      "%compound.\n",
      "\n",
      "\n",
      "\\subsection{The mean-field approach}\n",
      "To study the ground state properties of the system, we\n",
      "apply a mean-field approximation to the model Hamiltonian described\n",
      "by Eqs.~(\\ref{E.H0r}) to (\\ref{E.Hint}).\n",
      "%This model involving four orbitals is\n",
      "%too complicated to be analyzed using more accurate numerical\n",
      "%techniques. (However,\n",
      "%The mean-field results will be tested in a simpler\n",
      "%two-orbital model below.\n",
      "We follow here the simple standard assumption of considering only the\n",
      "mean-field values for the diagonal operators:\\cite{nomura}\n",
      "\n",
      "\\begin{eqnarray}\\label{E.MFA}\n",
      "\\langle d^\\dagger_{{\\bf i},\\mu,\\sigma} d_{{\\bf j},\\nu,\\sigma'}\\rangle =\n",
      "\\left(n_\\mu+\\frac{\\sigma}{2}\\cos(\\mathbf{q}\\cdot\\mathbf{r}_{\\bf i})m_\\mu\\right)\n",
      "\\delta_{\\bf ij}\\delta_{\\mu\\nu}\\delta_{\\sigma\\sigma'},\n",
      "\\end{eqnarray}\n",
      "where $\\mathbf{q}$ is the ordering vector of the possible magnetic\n",
      "order. $n_\\mu$ and $m_\\mu$ are mean-field parameters describing the\n",
      "charge density and magnetization of the orbital $\\mu$, and the rest of the\n",
      "notation is standard. Applying\n",
      "Eq.~(\\ref{E.MFA}) to $H_{\\rm int}$, the mean-field Hamiltonian in\n",
      "momentum space can be written as\n",
      "\n",
      "\\begin{eqnarray}\\label{E.HMF}\n",
      "H_{\\rm MF} = H_0 + C + \\sum_{\\mathbf{k},\\mu,\\sigma}\n",
      "\\epsilon_\\mu d^\\dagger_{\\mathbf{k},\\mu,\\sigma}\n",
      "d_{\\mathbf{k},\\mu,\\sigma}\\nonumber\\\\\n",
      "+ \\sum_{\\mathbf{k},\\mu,\\sigma} \\eta_{\\mu,\\sigma}\n",
      " (d^\\dagger_{\\mathbf{k},\\mu,\\sigma} d_{\\mathbf{k+q},\\mu,\\sigma} +\n",
      "d^\\dagger_{\\mathbf{k+q},\\mu,\\sigma} d_{\\mathbf{k},\\mu,\\sigma}),\n",
      "\\end{eqnarray}\n",
      "where $\\mathbf{k}$ runs over the extended FBZ, $H_0$ is\n",
      "the hopping term in Eq.~(\\ref{E.H0k}),\n",
      "\\begin{eqnarray}\n",
      "C=&-&NU\\sum_{\\mu}\\left(n^2_\\mu-\\frac{1}{4}m^2_\\mu\\right)\n",
      "- N(2U'-J)\\sum_{\\mu\\neq\\nu}n_\\mu n_\\nu \\nonumber \\\\\n",
      "&+& \\frac{NJ}{4} \\sum_{\\mu\\neq\\nu} m_\\mu m_\\nu \\nonumber\n",
      "\\end{eqnarray}\n",
      "is a constant, $N$ the lattice size, and we used the definitions\n",
      "\\begin{eqnarray}\n",
      "\\epsilon_\\mu = Un_\\mu + (2U'-J)\\sum_{\\nu\\neq\\mu}\n",
      "n_\\nu, \\\\\n",
      "%\\end{eqnarray}\n",
      "%\\begin{eqnarray}\n",
      "\\eta_{\\mu,\\sigma} =\n",
      "-\\frac{\\sigma}{2}\\left(Um_\\mu+J\\sum_{\\nu\\neq\\mu}m_\\nu\\right).\n",
      "\\end{eqnarray}\n",
      "\n",
      "# Expand interaction\n",
      "You will be instructed to expand interaction term $H_{\\rm int}$ in the MF quadratic term $H_{\\rm MF}$.\n",
      "If you find the $H_{\\rm int}$ in $H_{\\rm MF}$ does not contain any momentum that is not in the summation sign. The interaction term is already expanded. No action to perform on interaction term.\n",
      "Otherwise, you will expand $H_{\\rm int}$ by replacing $q$ with the momentum $\\mathbf{k}$.\n",
      "Return $H_{\\rm MF}$ with expanded interaction.\n",
      "\n",
      "# Swap the index only\n",
      "You will be instructed to simplify the quadratic term $H_{\\rm int}$ through relabeling the index.  \n",
      "The logic is that the expected value ($\\langle d^\\dagger_{{\\bf i},\\mu,\\sigma} d_{{\\bf j},\\nu,\\sigma'}\\rangle$) in the first Hartree term ($U\\sum_{{\\bf i},\\mu}n_{{\\bf i},\\mu,\\uparrow}n_{{\\bf i},\\mu,\\downarrow}$) has the same form as the quadratic operators in the second Hartree term ($(U'-{J\\over{2}})\\sum_{{\\bf i},\\mu\\neq\\nu} n_{{\\bf i},\\mu}n_{{\\bf i},\\nu}$), and vice versa. The same applies to the Fock term.  \n",
      "Namely, a replacement of $\\mu$ and $\\nu$ is applied to ONLY the second Hartree or Fock term. You should not swap any index that is not in the summation, which includes ${\\bf i}$ and $\\sigma$.  \n",
      "This means, if you relabel the index by swapping the index in the \"expected value\" and \"quadratic operators\" in the second Hartree or Fock term, you can make the second Hartree or Fock term look identical to the first Hartree or Fock term, as long as $V(q)=V(-q)$, which is naturally satisfied in Coulomb interaction. You should follow the EXAMPLE below to simplify it through relabeling the index.  \n",
      "Return the simplified $H_{\\rm int}$.\n",
      "\n",
      "# Reduce momentum in Hartree term (momentum in BZ)\n",
      "You will be instructed to simplify the Hartree term, $H_{\\rm int}$, by reducing the momentum inside the expected value $\\langle d^\\dagger_{{\\bf i},\\mu,\\sigma} d_{{\\bf j},\\nu,\\sigma'}\\rangle$.  \n",
      "The expected value $\\langle d^\\dagger_{{\\bf i},\\mu,\\sigma} d_{{\\bf j},\\nu,\\sigma'}\\rangle$ is only nonzero when the two momenta $k_i,k_j$ are the same, namely, $\\delta_{\\bf ij}\\delta_{\\mu\\nu}\\delta_{\\sigma\\sigma'}$.  \n",
      "You should use the property of Kronecker delta function $\\delta_{{k_i,k_j}}$ to reduce one momentum $k_i$.\n",
      "Once you reduce one momentum inside the expected value $\\langle d^\\dagger_{{\\bf i},\\mu,\\sigma} d_{{\\bf j},\\nu,\\sigma'}\\rangle$. You will also notice the total momentum conservation will reduce another momentum in the quadratic term. Therefore, you should end up with only two momenta left in the summation.  \n",
      "You should follow the EXAMPLE below to reduce one momentum in the Hartree term, and another momentum in the quadratic term.  \n",
      "Return the final simplified Hartree term $H_{\\rm MF}$.\n",
      "\n",
      "# Reduce momentum in Fock term (momentum in BZ)\n",
      "You will be instructed to simplify the Fock term in $H_{\\rm MF}$ by reducing the momentum inside the expected value $\\langle d^\\dagger_{{\\bf i},\\mu,\\sigma} d_{{\\bf j},\\nu,\\sigma'}\\rangle$.  \n",
      "The expected value $\\langle d^\\dagger_{{\\bf i},\\mu,\\sigma} d_{{\\bf j},\\nu,\\sigma'}\\rangle$ is only nonzero when the two momenta $k_i,k_j$ are the same, namely, $\\langle d^\\dagger_{{\\bf i},\\mu,\\sigma} d_{{\\bf j},\\nu,\\sigma'}\\rangle = \\left(n_\\mu+\\frac{\\sigma}{2}\\cos(\\mathbf{q}\\cdot\\mathbf{r}_{\\bf i})m_\\mu\\right) \\delta_{\\bf ij}\\delta_{\\mu\\nu}\\delta_{\\sigma\\sigma'}$.  \n",
      "You should use the property of Kronecker delta function $\\delta_{{k_i,k_j}}$ to reduce one momentum $k_i$.  \n",
      "Once you reduce one momentum inside the expected value $\\langle d^\\dagger_{{\\bf i},\\mu,\\sigma} d_{{\\bf j},\\nu,\\sigma'}\\rangle$. You will also notice the total momentum conservation will reduce another momentum in the quadratic term. Therefore, you should end up with only two momenta left in the summation.\n",
      "You should follow the EXAMPLE below to reduce one momentum in the Fock term, and another momentum in the quadratic term.    \n",
      "Return the final simplified Fock term $H_{\\rm MF}$.\n",
      "\n",
      "# Combine the Hartree and Fock term\n",
      "You will now be instructed to combine the Hartree term {Un_\\mu + (2U'-J)\\sum_{\\nu\\neq\\mu} n_\\nu} and the Fock term {-\\frac{\\sigma}{2}\\left(Um_\\mu+J\\sum_{\\nu\\neq\\mu}m_\\nu\\right)}.  \n",
      "You should perform the same trick of relabeling the index in the Fock term to make the quadratic operators in the Fock term the same as those in the Hartree term. The relabeling should be done with a swap : {swap rule}.\n",
      "You should add them, relabel the index in Fock term, and simply their sum. \n",
      "Return the final sum of Hartree and Fock term.\n",
      "\n",
      "# Construct full Hamiltonian after HF\n",
      "You will be instructed to construct the entire Hamiltonian after the Hartree-Fock approximation $H_{\\rm MF}$. \n",
      "You should first recall the Kinetic Hamiltonian $H_0$ is the hopping term in Eq.~(\\ref{E.H0k}).  \n",
      "You should then recall the interacting Hamiltonian $H_{\\rm int}$ is $U\\sum_{{\\bf i},\\mu}n_{{\\bf i},\\mu,\\uparrow}n_{{\\bf i},\\mu,\\downarrow}\n",
      "+(U'-{J\\over{2}})\\sum_{{\\bf i},\\mu\\neq\\nu} n_{{\\bf i},\\mu}n_{{\\bf i},\\nu}\n",
      "-2J\\sum_{{\\bf i},\\mu\\neq\\nu}\\mathbf{S}_{{\\bf i},\\mu}\\cdot\\mathbf{S}_{{\\bf i},\\nu}$.  \n",
      "You should then combine $H_0$ with the interacting Hamiltonian $H_{\\rm int}$ after the Hartree-Fock approximation, which is the entire Hamiltonian $H_{\\rm MF}$ after Hartree-Fock.  \n",
      "Return the expression for $H_{\\rm MF}$.  \n",
      "\n",
      "Use the following conventions for the symbols (You should also obey the conventions in all my previous prompts if you encounter undefined symbols. If you find it is never defined or has conflicts in the conventions, you should stop and let me know):  \n",
      "$H_0$ is the kinetic Hamiltonian, $H_{\\rm int}$ is the interacting Hamiltonian, and $H_{\\rm MF}$ is the entire Hamiltonian after the Hartree-Fock approximation.\n",
      "\n",
      "\n"
     ]
    }
   ],
   "source": [
    "print(string)"
   ]
  },
  {
   "cell_type": "code",
   "execution_count": 29,
   "metadata": {},
   "outputs": [],
   "source": [
    "with open(pwd.split('/')[-1]+'_extractor.md','w') as f:\n",
    "    f.write(string)"
   ]
  },
  {
   "cell_type": "code",
   "execution_count": null,
   "metadata": {},
   "outputs": [],
   "source": []
  }
 ],
 "metadata": {
  "kernelspec": {
   "display_name": "base",
   "language": "python",
   "name": "python3"
  },
  "language_info": {
   "codemirror_mode": {
    "name": "ipython",
    "version": 3
   },
   "file_extension": ".py",
   "mimetype": "text/x-python",
   "name": "python",
   "nbconvert_exporter": "python",
   "pygments_lexer": "ipython3",
   "version": "3.8.11"
  },
  "orig_nbformat": 4
 },
 "nbformat": 4,
 "nbformat_minor": 2
}
