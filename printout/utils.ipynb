{
 "cells": [
  {
   "cell_type": "code",
   "execution_count": 1,
   "metadata": {},
   "outputs": [],
   "source": [
    "import os\n",
    "import shutil\n",
    "import yaml\n",
    "import re"
   ]
  },
  {
   "cell_type": "code",
   "execution_count": 2,
   "metadata": {},
   "outputs": [],
   "source": [
    "arxiv_number_list = [\n",
    "    \"1010.1819\",\n",
    "    \"1106.6060\",\n",
    "    \"1208.0116\",\n",
    "    \"1310.2674\",\n",
    "    \"1812.04213\",\n",
    "    \"2004.04168\",\n",
    "    \"2008.08998\",\n",
    "    \"2012.04554\",\n",
    "    \"2108.02159\",\n",
    "    \"2110.11330\",\n",
    "    \"2111.01152\",\n",
    "    \"2112.07523\",\n",
    "    \"2308.03843\",\n",
    "    \"2308.07488\",\n",
    "]"
   ]
  },
  {
   "cell_type": "markdown",
   "metadata": {},
   "source": [
    "# Execution"
   ]
  },
  {
   "cell_type": "code",
   "execution_count": 12,
   "metadata": {},
   "outputs": [],
   "source": [
    "with open('../Naming.yaml', 'r') as f:\n",
    "    naming = yaml.safe_load(f)\n",
    "def replace_title(text):\n",
    "    pattern = r'^##\\s*(.*)$'\n",
    "    # while 1:\n",
    "    matches = re.finditer(pattern, text, re.MULTILINE)\n",
    "    for match in matches:\n",
    "        sec_title=match.group(0)\n",
    "        title=sec_title[3:].strip()\n",
    "        text=text.replace(sec_title, f\"# {naming[title]}\")\n",
    "    return text\n",
    "def replace_separator(text,):\n",
    "    return text.replace('===','')\n",
    "def trim_spaces_in_latex(text):\n",
    "    '''Trim spaces in latex, e.g. $ 1 $ -> $1$, which otherwise cannot be recognized by markdown in latex'''\n",
    "    pattern = r'(?<!\\$)\\$(\\s*)(.*?)(\\s*)\\$(?!\\$)'\n",
    "    def replace(match):\n",
    "        return f'${match.group(2)}$'\n",
    "    return re.sub(pattern, replace, text)\n",
    "def preprocessing(text):\n",
    "    text=replace_title(text)\n",
    "    text=replace_separator(text)\n",
    "    text=trim_spaces_in_latex(text)\n",
    "\n",
    "    return text\n",
    "def postprocessing(text):\n",
    "    text=text.replace(r'\\bf',r'\\bm')\n",
    "    return text"
   ]
  },
  {
   "cell_type": "code",
   "execution_count": 4,
   "metadata": {},
   "outputs": [],
   "source": [
    "# Create folders, move from ../arxiv_number/arxiv_number_auto.md to ./arxiv_number/arxiv_number_execution.md\n",
    "# Then do some preprocessing\n",
    "\n",
    "for arxiv_number in arxiv_number_list:\n",
    "    # Check if folder exists\n",
    "    folder_name = arxiv_number\n",
    "    if not os.path.exists(folder_name):\n",
    "        # Create folder\n",
    "        os.makedirs(folder_name, exist_ok=True)\n",
    "    \n",
    "    source_file=os.path.join('..',arxiv_number,f'{arxiv_number}_auto.md')\n",
    "    target_file=os.path.join(folder_name,f'{folder_name}_execution.md')\n",
    "    shutil.copyfile(source_file,target_file)\n",
    "\n",
    "    with open(os.path.join(arxiv_number, f\"{arxiv_number}_execution.md\"), \"r\") as tex_file:\n",
    "        execution = tex_file.read()\n",
    "    execution_1=preprocessing(execution)\n",
    "    with open(os.path.join(arxiv_number, f\"{arxiv_number}_execution.md\"), \"w\") as tex_file:\n",
    "        tex_file.write(execution_1)\n",
    "    \n"
   ]
  },
  {
   "cell_type": "code",
   "execution_count": 8,
   "metadata": {},
   "outputs": [],
   "source": [
    "# Do some postprocessing, replacing macros etc\n",
    "\n",
    "for arxiv_number in arxiv_number_list:\n",
    "    with open(os.path.join(arxiv_number, f\"{arxiv_number}_execution.md\"), \"r\") as tex_file:\n",
    "        execution = tex_file.read()\n",
    "    execution_1=postprocessing(execution)\n",
    "    with open(os.path.join(arxiv_number, f\"{arxiv_number}_execution.md\"), \"w\") as tex_file:\n",
    "        tex_file.write(execution_1)"
   ]
  },
  {
   "cell_type": "code",
   "execution_count": 14,
   "metadata": {},
   "outputs": [],
   "source": [
    "# Generate latex file for each arxiv number\n",
    "with open('execution.tex','r') as tex_file:\n",
    "    execution_tex=tex_file.read()\n",
    "\n",
    "for arxiv_number in arxiv_number_list:\n",
    "    with open(os.path.join(arxiv_number, f\"{arxiv_number}_execution.tex\"), \"w\") as tex_file:\n",
    "        tex_file.write(execution_tex.replace('arxiv',arxiv_number))"
   ]
  },
  {
   "cell_type": "code",
   "execution_count": 3,
   "metadata": {},
   "outputs": [
    {
     "data": {
      "text/plain": [
       "'2112.07523'"
      ]
     },
     "execution_count": 3,
     "metadata": {},
     "output_type": "execute_result"
    }
   ],
   "source": [
    "arxiv_number_list[11]"
   ]
  },
  {
   "cell_type": "code",
   "execution_count": null,
   "metadata": {},
   "outputs": [],
   "source": [
    "# Compile all the latex using 'lualatex {arxiv_number}_execution.tex'\n",
    "for arxiv_number in arxiv_number_list[11:]:\n",
    "    os.system(f\"cd {arxiv_number} && lualatex {arxiv_number}_execution.tex && cd ..\")\n",
    "    print(arxiv_number)\n"
   ]
  },
  {
   "cell_type": "code",
   "execution_count": 17,
   "metadata": {},
   "outputs": [],
   "source": [
    "# check integrity, print missing pdf\n",
    "for arxiv_number in arxiv_number_list:\n",
    "    file_path = f\"{arxiv_number}/{arxiv_number}_execution.pdf\"\n",
    "    if not os.path.exists(file_path):\n",
    "        print(f\"The file {file_path} does not exist.\")\n",
    "    "
   ]
  },
  {
   "cell_type": "code",
   "execution_count": 16,
   "metadata": {},
   "outputs": [],
   "source": [
    "# Clean up tmp files\n",
    "for arxiv_number in arxiv_number_list:\n",
    "    os.system(f\"rm -rf {arxiv_number}/*.lua\")\n",
    "    os.system(f\"rm -rf {arxiv_number}/*.aux\")\n",
    "    os.system(f\"rm -rf {arxiv_number}/*.log\")\n",
    "    os.system(f\"rm -rf {arxiv_number}/*.fls\")\n",
    "    os.system(f\"rm -rf {arxiv_number}/*.fdb_latexmk\")\n",
    "    os.system(f\"rm -rf {arxiv_number}/*.in\")\n",
    "    os.system(f\"rm -rf {arxiv_number}/_markdown_{arxiv_number}_execution\")\n",
    "    os.system(f\"rm -rf {arxiv_number}/_markdown_{arxiv_number}_extraction\")"
   ]
  },
  {
   "cell_type": "code",
   "execution_count": 18,
   "metadata": {},
   "outputs": [
    {
     "ename": "SyntaxError",
     "evalue": "invalid syntax (2051586890.py, line 1)",
     "output_type": "error",
     "traceback": [
      "\u001b[0;36m  Cell \u001b[0;32mIn[18], line 1\u001b[0;36m\u001b[0m\n\u001b[0;31m    Clean up the output PDF [Be cautious!], comment out to run, uncomment after running\u001b[0m\n\u001b[0m          ^\u001b[0m\n\u001b[0;31mSyntaxError\u001b[0m\u001b[0;31m:\u001b[0m invalid syntax\n"
     ]
    }
   ],
   "source": [
    "Clean up the output PDF [Be cautious!], comment out to run, uncomment after running\n",
    "\n",
    "for arxiv_number in arxiv_number_list[:1]:\n",
    "    os.system(f\"rm -rf {arxiv_number}/*.pdf\")"
   ]
  },
  {
   "cell_type": "markdown",
   "metadata": {},
   "source": [
    "Preprocessing:\n",
    "1. replace ## -> #, use new name\n",
    "2. replace \"===\" to \"\"\n",
    "3. replace $ []$ to $[]$\n",
    "\n",
    "--\n",
    "manual:\n",
    "overlong equation can be used with $$..$$"
   ]
  },
  {
   "cell_type": "markdown",
   "metadata": {},
   "source": [
    "# Extraction"
   ]
  },
  {
   "cell_type": "code",
   "execution_count": 3,
   "metadata": {},
   "outputs": [],
   "source": [
    "with open('../underscore_replace_placeholder.yaml', 'r') as f:\n",
    "    underscore_replace_placeholder = yaml.safe_load(f)"
   ]
  },
  {
   "cell_type": "code",
   "execution_count": 4,
   "metadata": {},
   "outputs": [],
   "source": [
    "def replace_underscore(text):\n",
    "    for key in underscore_replace_placeholder.keys():\n",
    "        text=text.replace(f'{{{key}}}',f'{{{underscore_replace_placeholder[key]}}}')\n",
    "        text=text.replace(f'[{key}]',f'[{underscore_replace_placeholder[key]}]')\n",
    "    return text"
   ]
  },
  {
   "cell_type": "code",
   "execution_count": 5,
   "metadata": {},
   "outputs": [],
   "source": [
    "def replace_environment(text,env,replaced_text):\n",
    "    text=text.replace(f'\\\\begin{{{env}}}',replaced_text)\n",
    "    text=text.replace(f'\\\\end{{{env}}}',replaced_text)\n",
    "    return text"
   ]
  },
  {
   "cell_type": "code",
   "execution_count": 6,
   "metadata": {},
   "outputs": [],
   "source": [
    "def replace_multiline_eq(text):\n",
    "    text=text.replace(r'\\begin{eqnarray}','$$\\\\begin{aligned}')\n",
    "    text=text.replace(r'\\end{eqnarray}','\\\\end{aligned}$$')\n",
    "    return text"
   ]
  },
  {
   "cell_type": "code",
   "execution_count": 9,
   "metadata": {},
   "outputs": [],
   "source": [
    "def preprocessing_extraction(text):\n",
    "    text=trim_spaces_in_latex(text)\n",
    "    text=text.replace(r'\\bf',r'\\bm')\n",
    "    text=text.replace('  \\n','\\n\\n')\n",
    "\n",
    "    text=text.replace('Template:','Template:\\n')\n",
    "    text=text.replace('Excerpt:','Excerpt:\\n')\n",
    "    text=replace_underscore(text)\n",
    "    text=replace_environment(text,'equation','$$')\n",
    "    text=replace_environment(text,'equation*','$$')\n",
    "    text=replace_environment(text,'multline','$$')\n",
    "    text=replace_environment(text,'multline*','$$')\n",
    "    text=replace_multiline_eq(text)\n",
    "    return text"
   ]
  },
  {
   "cell_type": "code",
   "execution_count": 10,
   "metadata": {},
   "outputs": [
    {
     "data": {
      "text/plain": [
       "'2004.04168'"
      ]
     },
     "execution_count": 10,
     "metadata": {},
     "output_type": "execute_result"
    }
   ],
   "source": [
    "arxiv_number_list[5]"
   ]
  },
  {
   "cell_type": "code",
   "execution_count": 13,
   "metadata": {},
   "outputs": [],
   "source": [
    "for arxiv_number in arxiv_number_list[5:]:\n",
    "    # Check if folder exists\n",
    "    folder_name = arxiv_number\n",
    "    if not os.path.exists(folder_name):\n",
    "        # Create folder\n",
    "        os.makedirs(folder_name, exist_ok=True)\n",
    "    \n",
    "    source_file=os.path.join('..',arxiv_number,f'{arxiv_number}_extractor_example.md')\n",
    "    target_file=os.path.join(folder_name,f'{folder_name}_extraction.md')\n",
    "    try:\n",
    "        shutil.copyfile(source_file,target_file)\n",
    "    except:\n",
    "        print(f\"Error: {arxiv_number}\")\n",
    "\n",
    "    with open(os.path.join(arxiv_number, f\"{arxiv_number}_extraction.md\"), \"r\") as tex_file:\n",
    "        extraction = tex_file.read()\n",
    "    extraction_1=preprocessing_extraction(extraction)\n",
    "    with open(os.path.join(arxiv_number, f\"{arxiv_number}_extraction.md\"), \"w\") as tex_file:\n",
    "        tex_file.write(extraction_1)"
   ]
  },
  {
   "cell_type": "code",
   "execution_count": 18,
   "metadata": {},
   "outputs": [],
   "source": [
    "# check integrity, print missing pdf\n",
    "for arxiv_number in arxiv_number_list:\n",
    "    file_path = f\"{arxiv_number}/{arxiv_number}_execution.pdf\"\n",
    "    if not os.path.exists(file_path):\n",
    "        print(f\"The file {file_path} does not exist.\")\n",
    "    "
   ]
  },
  {
   "cell_type": "code",
   "execution_count": 11,
   "metadata": {},
   "outputs": [],
   "source": [
    "# Generate latex file for each arxiv number\n",
    "with open('extraction.tex','r') as tex_file:\n",
    "    extraction_tex=tex_file.read()\n",
    "\n",
    "for arxiv_number in arxiv_number_list:\n",
    "    with open(os.path.join(arxiv_number, f\"{arxiv_number}_extraction.tex\"), \"w\") as tex_file:\n",
    "        tex_file.write(extraction_tex.replace('arxiv',arxiv_number))"
   ]
  },
  {
   "cell_type": "code",
   "execution_count": null,
   "metadata": {},
   "outputs": [],
   "source": [
    "def postprocessing_extraction(text):\n",
    "    text=text.replace(r'\\bf',r'\\bm')\n",
    "    text=text.replace('  \\n','\\n\\n')\n",
    "    return text"
   ]
  },
  {
   "cell_type": "code",
   "execution_count": null,
   "metadata": {},
   "outputs": [],
   "source": [
    "# Do some postprocessing, replacing macros etc\n",
    "\n",
    "for arxiv_number in arxiv_number_list:\n",
    "    with open(os.path.join(arxiv_number, f\"{arxiv_number}_extraction.md\"), \"r\") as tex_file:\n",
    "        extraction = tex_file.read()\n",
    "    extraction_1=postprocessing_extraction(extraction)\n",
    "    with open(os.path.join(arxiv_number, f\"{arxiv_number}_extraction.md\"), \"w\") as tex_file:\n",
    "        tex_file.write(extraction_1)"
   ]
  },
  {
   "cell_type": "code",
   "execution_count": 16,
   "metadata": {},
   "outputs": [
    {
     "data": {
      "text/plain": [
       "'1208.0116'"
      ]
     },
     "execution_count": 16,
     "metadata": {},
     "output_type": "execute_result"
    }
   ],
   "source": [
    "arxiv_number_list[2]"
   ]
  },
  {
   "cell_type": "code",
   "execution_count": 17,
   "metadata": {},
   "outputs": [
    {
     "name": "stdout",
     "output_type": "stream",
     "text": [
      "This is LuaHBTeX, Version 1.17.0 (TeX Live 2023) \n",
      " restricted system commands enabled.\n",
      "(./1208.0116_extraction.tex\n",
      "LaTeX2e <2023-06-01> patch level 1\n",
      "L3 programming layer <2023-08-29>\n",
      " (/usr/local/texlive/2023/texmf-dist/tex/latex/base/article.cls\n",
      "Document Class: article 2023/05/17 v1.4n Standard LaTeX document class\n",
      "(/usr/local/texlive/2023/texmf-dist/tex/latex/base/size10.clo))\n",
      "(/usr/local/texlive/2023/texmf-dist/tex/latex/amsmath/amsmath.sty\n",
      "For additional information on amsmath, use the `?' option.\n",
      "(/usr/local/texlive/2023/texmf-dist/tex/latex/amsmath/amstext.sty\n",
      "(/usr/local/texlive/2023/texmf-dist/tex/latex/amsmath/amsgen.sty))\n",
      "(/usr/local/texlive/2023/texmf-dist/tex/latex/amsmath/amsbsy.sty)\n",
      "(/usr/local/texlive/2023/texmf-dist/tex/latex/amsmath/amsopn.sty))\n",
      "(/usr/local/texlive/2023/texmf-dist/tex/latex/breqn/breqn.sty\n",
      "(/usr/local/texlive/2023/texmf-dist/tex/latex/l3kernel/expl3.sty\n",
      "(/usr/local/texlive/2023/texmf-dist/tex/latex/l3backend/l3backend-luatex.def))\n",
      "(/usr/local/texlive/2023/texmf-dist/tex/latex/graphics/graphicx.sty\n",
      "(/usr/local/texlive/2023/texmf-dist/tex/latex/graphics/keyval.sty)\n",
      "(/usr/local/texlive/2023/texmf-dist/tex/latex/graphics/graphics.sty\n",
      "(/usr/local/texlive/2023/texmf-dist/tex/latex/graphics/trig.sty)\n",
      "(/usr/local/texlive/2023/texmf-dist/tex/latex/graphics-cfg/graphics.cfg)\n",
      "(/usr/local/texlive/2023/texmf-dist/tex/latex/graphics-def/luatex.def)))\n",
      "(/usr/local/texlive/2023/texmf-dist/tex/latex/breqn/flexisym.sty\n",
      "(/usr/local/texlive/2023/texmf-dist/tex/latex/breqn/cmbase.sym)\n",
      "(/usr/local/texlive/2023/texmf-dist/tex/latex/breqn/mathstyle.sty))\n",
      "(/usr/local/texlive/2023/texmf-dist/tex/latex/tools/calc.sty))\n",
      "(/usr/local/texlive/2023/texmf-dist/tex/latex/tools/bm.sty)\n",
      "(/usr/local/texlive/2023/texmf-dist/tex/latex/fontspec/fontspec.sty\n",
      "(/usr/local/texlive/2023/texmf-dist/tex/latex/l3packages/xparse/xparse.sty)\n",
      "(/usr/local/texlive/2023/texmf-dist/tex/latex/fontspec/fontspec-luatex.sty\n",
      "(/usr/local/texlive/2023/texmf-dist/tex/latex/base/fontenc.sty)\n",
      "(/usr/local/texlive/2023/texmf-dist/tex/latex/fontspec/fontspec.cfg)))\n",
      "(/usr/local/texlive/2023/texmf-dist/tex/latex/physics/physics.sty)\n",
      "(/usr/local/texlive/2023/texmf-dist/tex/latex/geometry/geometry.sty\n",
      "(/usr/local/texlive/2023/texmf-dist/tex/generic/iftex/ifvtex.sty\n",
      "(/usr/local/texlive/2023/texmf-dist/tex/generic/iftex/iftex.sty)))\n",
      "(/usr/local/texlive/2023/texmf-dist/tex/latex/markdown/markdown.sty\n",
      "(/usr/local/texlive/2023/texmf-dist/tex/generic/markdown/markdown.tex\n",
      "(/usr/local/texlive/2023/texmf-dist/tex/generic/lt3luabridge/lt3luabridge.tex))\n",
      "(/usr/local/texlive/2023/texmf-dist/tex/latex/paralist/paralist.sty)\n",
      "(/usr/local/texlive/2023/texmf-dist/tex/latex/amsfonts/amssymb.sty\n",
      "(/usr/local/texlive/2023/texmf-dist/tex/latex/amsfonts/amsfonts.sty))\n",
      "(/usr/local/texlive/2023/texmf-dist/tex/latex/csvsimple/csvsimple.sty\n",
      "(/usr/local/texlive/2023/texmf-dist/tex/latex/l3packages/l3keys2e/l3keys2e.sty)\n",
      ") (/usr/local/texlive/2023/texmf-dist/tex/latex/csvsimple/csvsimple-legacy.sty\n",
      "(/usr/local/texlive/2023/texmf-dist/tex/latex/pgf/utilities/pgfrcs.sty\n",
      "(/usr/local/texlive/2023/texmf-dist/tex/generic/pgf/utilities/pgfutil-common.te\n",
      "x)\n",
      "(/usr/local/texlive/2023/texmf-dist/tex/generic/pgf/utilities/pgfutil-latex.def\n",
      ") (/usr/local/texlive/2023/texmf-dist/tex/generic/pgf/utilities/pgfrcs.code.tex\n",
      "(/usr/local/texlive/2023/texmf-dist/tex/generic/pgf/pgf.revision.tex)))\n",
      "(/usr/local/texlive/2023/texmf-dist/tex/latex/pgf/utilities/pgfkeys.sty\n",
      "(/usr/local/texlive/2023/texmf-dist/tex/generic/pgf/utilities/pgfkeys.code.tex\n",
      "(/usr/local/texlive/2023/texmf-dist/tex/generic/pgf/utilities/pgfkeyslibraryfil\n",
      "tered.code.tex))) (/usr/local/texlive/2023/texmf-dist/tex/latex/base/ifthen.sty\n",
      ") (/usr/local/texlive/2023/texmf-dist/tex/latex/etoolbox/etoolbox.sty)\n",
      "(/usr/local/texlive/2023/texmf-dist/tex/latex/tools/shellesc.sty))\n",
      "(/usr/local/texlive/2023/texmf-dist/tex/latex/fancyvrb/fancyvrb.sty)\n",
      "(/usr/local/texlive/2023/texmf-dist/tex/generic/ltxcmds/ltxcmds.sty)\n",
      "(/usr/local/texlive/2023/texmf-dist/tex/generic/gobble/gobble.sty\n",
      "(/usr/local/texlive/2023/texmf-dist/tex/generic/gobble/gobble.tex))\n",
      "(/usr/local/texlive/2023/texmf-dist/tex/latex/url/url.sty))\n",
      "No file 1208.0116_extraction.aux.\n",
      "(/usr/local/texlive/2023/texmf-dist/tex/latex/base/ts1cmr.fd)\n",
      "(/usr/local/texlive/2023/texmf-dist/tex/context/base/mkii/supp-pdf.mkii\n",
      "[Loading MPS to PDF converter (version 2006.09.02).]\n",
      ") (/usr/local/texlive/2023/texmf-dist/tex/latex/epstopdf-pkg/epstopdf-base.sty\n",
      "(/usr/local/texlive/2023/texmf-dist/tex/latex/latexconfig/epstopdf-sys.cfg))\n",
      "*geometry* driver: auto-detecting\n",
      "*geometry* detected driver: luatex\n",
      "(./_markdown_1208.0116_extraction/a776df6a929bb8d5084e750226ae59a1.md.tex\n",
      "(/usr/local/texlive/2023/texmf-dist/tex/latex/amsfonts/umsa.fd)\n",
      "(/usr/local/texlive/2023/texmf-dist/tex/latex/amsfonts/umsb.fd)\n",
      "\n",
      "LaTeX Warning: Command \\r invalid in math mode on input line 30.\n",
      "\n",
      "Missing character: There is no Å (U+00C5) in font cmmi10!\n",
      "\n",
      "LaTeX Warning: Command \\r invalid in math mode on input line 36.\n",
      "\n",
      "Missing character: There is no Å (U+00C5) in font cmmi10!\n",
      "[1{/usr/local/texlive/2023/texmf-var/fonts/map/pdftex/updmap/pdftex.map}]\n",
      "\n",
      "LaTeX Warning: Command \\r invalid in math mode on input line 77.\n",
      "\n",
      "Missing character: There is no Å (U+00C5) in font cmmi10!\n",
      "[2]\n",
      "\n",
      "LaTeX Warning: Command \\r invalid in math mode on input line 83.\n",
      "\n",
      "Missing character: There is no Å (U+00C5) in font cmmi10!\n",
      "\n",
      "LaTeX Warning: Command \\r invalid in math mode on input line 95.\n",
      "\n",
      "Missing character: There is no Å (U+00C5) in font cmmi10!\n",
      "\n",
      "LaTeX Warning: Command \\r invalid in math mode on input line 101.\n",
      "\n",
      "Missing character: There is no Å (U+00C5) in font cmmi10!\n",
      "[3]\n",
      "\n",
      "LaTeX Warning: Command \\r invalid in math mode on input line 133.\n",
      "\n",
      "Missing character: There is no Å (U+00C5) in font cmmi10!\n",
      "\n",
      "LaTeX Warning: Command \\r invalid in math mode on input line 139.\n",
      "\n",
      "Missing character: There is no Å (U+00C5) in font cmmi10!\n",
      "[4]\n",
      "\n",
      "LaTeX Warning: Command \\r invalid in math mode on input line 149.\n",
      "\n",
      "Missing character: There is no Å (U+00C5) in font cmmi10!\n",
      "[5]\n",
      "\n",
      "LaTeX Warning: Command \\r invalid in math mode on input line 178.\n",
      "\n",
      "Missing character: There is no Å (U+00C5) in font cmmi10!\n",
      "\n",
      "LaTeX Warning: Command \\r invalid in math mode on input line 184.\n",
      "\n",
      "Missing character: There is no Å (U+00C5) in font cmmi10!\n",
      "1208.0116\n"
     ]
    }
   ],
   "source": [
    "# Compile all the latex using 'lualatex {arxiv_number}_extraction.tex'\n",
    "for arxiv_number in arxiv_number_list[2:]:\n",
    "    os.system(f\"cd {arxiv_number} && lualatex {arxiv_number}_extraction.tex && cd ..\")\n",
    "    print(arxiv_number)\n"
   ]
  },
  {
   "cell_type": "code",
   "execution_count": null,
   "metadata": {},
   "outputs": [],
   "source": []
  }
 ],
 "metadata": {
  "kernelspec": {
   "display_name": "base",
   "language": "python",
   "name": "python3"
  },
  "language_info": {
   "codemirror_mode": {
    "name": "ipython",
    "version": 3
   },
   "file_extension": ".py",
   "mimetype": "text/x-python",
   "name": "python",
   "nbconvert_exporter": "python",
   "pygments_lexer": "ipython3",
   "version": "3.11.4"
  }
 },
 "nbformat": 4,
 "nbformat_minor": 2
}
