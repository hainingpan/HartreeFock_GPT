{
 "cells": [
  {
   "cell_type": "code",
   "execution_count": 39,
   "metadata": {},
   "outputs": [],
   "source": [
    "import pandas as pd"
   ]
  },
  {
   "cell_type": "code",
   "execution_count": 40,
   "metadata": {},
   "outputs": [],
   "source": [
    "def read_markdown(filename):\n",
    "    prompt_dict={}\n",
    "    prompt=''\n",
    "    with open(filename, 'r') as f:\n",
    "        for line in f:\n",
    "            if line.startswith('###'):\n",
    "                prompt=''\n",
    "            elif line.startswith('##'):\n",
    "                if len(prompt) >0:\n",
    "                    prompt_dict[(task,subtask)]=prompt\n",
    "                    prompt=''\n",
    "                subtask=line.replace('##','').strip()\n",
    "            elif line.startswith('#'):\n",
    "                if len(prompt) >0:\n",
    "                    prompt_dict[(task,subtask)]=prompt\n",
    "                    prompt=''\n",
    "                task=line.replace('#','').strip()\n",
    "            else:\n",
    "                prompt+=line\n",
    "        prompt_dict[(task,subtask)]=prompt\n",
    "    return prompt_dict"
   ]
  },
  {
   "cell_type": "code",
   "execution_count": 41,
   "metadata": {},
   "outputs": [],
   "source": [
    "prompt_dict=read_markdown('prompts.md')"
   ]
  },
  {
   "cell_type": "code",
   "execution_count": 42,
   "metadata": {},
   "outputs": [],
   "source": [
    "prompt_list=list(prompt_dict.values())\n",
    "key_list=list(prompt_dict.keys())\n"
   ]
  },
  {
   "cell_type": "code",
   "execution_count": 79,
   "metadata": {},
   "outputs": [],
   "source": [
    "import pyperclip"
   ]
  },
  {
   "cell_type": "code",
   "execution_count": 106,
   "metadata": {},
   "outputs": [
    {
     "name": "stdout",
     "output_type": "stream",
     "text": [
      "('Identify interacting term (momentum space)', 'Extraction')\n"
     ]
    }
   ],
   "source": [
    "idx=18\n",
    "pyperclip.copy(prompt_list[idx].strip())\n",
    "print(key_list[idx])"
   ]
  },
  {
   "cell_type": "code",
   "execution_count": null,
   "metadata": {},
   "outputs": [],
   "source": []
  }
 ],
 "metadata": {
  "kernelspec": {
   "display_name": "base",
   "language": "python",
   "name": "python3"
  },
  "language_info": {
   "codemirror_mode": {
    "name": "ipython",
    "version": 3
   },
   "file_extension": ".py",
   "mimetype": "text/x-python",
   "name": "python",
   "nbconvert_exporter": "python",
   "pygments_lexer": "ipython3",
   "version": "3.11.4"
  }
 },
 "nbformat": 4,
 "nbformat_minor": 2
}
