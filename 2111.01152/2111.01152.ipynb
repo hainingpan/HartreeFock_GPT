{
 "cells": [
  {
   "cell_type": "code",
   "execution_count": 1,
   "metadata": {},
   "outputs": [],
   "source": [
    "import openai\n",
    "import pandas as pd\n",
    "import json\n",
    "from IPython.display import Markdown\n",
    "import sys"
   ]
  },
  {
   "cell_type": "code",
   "execution_count": 2,
   "metadata": {},
   "outputs": [],
   "source": [
    "zz=openai.Model.list()"
   ]
  },
  {
   "cell_type": "code",
   "execution_count": 3,
   "metadata": {},
   "outputs": [
    {
     "data": {
      "text/plain": [
       "62"
      ]
     },
     "execution_count": 3,
     "metadata": {},
     "output_type": "execute_result"
    }
   ],
   "source": [
    "len(zz['data'])"
   ]
  },
  {
   "cell_type": "code",
   "execution_count": 4,
   "metadata": {},
   "outputs": [
    {
     "data": {
      "text/plain": [
       "['gpt-4',\n",
       " 'gpt-4-0613',\n",
       " 'gpt-4-0314',\n",
       " 'gpt-3.5-turbo-16k-0613',\n",
       " 'gpt-3.5-turbo-16k',\n",
       " 'gpt-3.5-turbo-0301',\n",
       " 'gpt-3.5-turbo-0613',\n",
       " 'gpt-3.5-turbo']"
      ]
     },
     "execution_count": 4,
     "metadata": {},
     "output_type": "execute_result"
    }
   ],
   "source": [
    "[zz['data'][idx]['id'] for idx in range(len(zz['data'])) if 'gpt' in zz['data'][idx]['id']]"
   ]
  },
  {
   "cell_type": "code",
   "execution_count": 5,
   "metadata": {},
   "outputs": [],
   "source": [
    "model_params = {\n",
    "    'model': \"gpt-4\",\n",
    "    'temperature': 0,\n",
    "}"
   ]
  },
  {
   "cell_type": "code",
   "execution_count": 6,
   "metadata": {},
   "outputs": [],
   "source": [
    "def print_save(string, file='../cmp2.md'):\n",
    "    print(string)\n",
    "    with open(file,'w') as f:\n",
    "        f.write(string)"
   ]
  },
  {
   "cell_type": "markdown",
   "metadata": {},
   "source": [
    "## Load `prompt_template.md`"
   ]
  },
  {
   "cell_type": "code",
   "execution_count": 7,
   "metadata": {},
   "outputs": [],
   "source": [
    "sys.path.append('..')\n",
    "from utils import *\n",
    "from functools import partial"
   ]
  },
  {
   "cell_type": "code",
   "execution_count": 8,
   "metadata": {},
   "outputs": [],
   "source": [
    "# prompt_dict=load_prompt_template('../prompt_template.md')\n",
    "prompt_dict = partial(load_prompt_template,file='../prompt_template.md')"
   ]
  },
  {
   "cell_type": "code",
   "execution_count": 30,
   "metadata": {},
   "outputs": [
    {
     "data": {
      "text/plain": [
       "dict_keys(['Preamble', 'Construct Kinetic Hamiltonian (continuum version)', 'Construct Kinetic Hamiltonian (lattice version)', 'Define each term in Kinetic Hamiltonian (continuum version)', 'Construct Potential Hamiltonian (continuum version)', 'Define each term in Potential Hamiltonian (continuum version)', 'Construct interaction Hamiltonian (real space, lattice version)', 'Construct interaction Hamiltonian (momentum space)', 'Convert from single-particle to second-quantized form, return in matrix', 'Convert from single-particle to second-quantized form, return in summation (expand the matrix)', 'Convert noninteracting Hamiltonian in real space to momentum space (continuum version)', 'Convert noninteracting Hamiltonian in real space to momentum space (lattice version)', 'Convert interacting Hamiltonian in real space to momentum space (lattice version)', 'Particle-hole transformation', 'Simplify the Hamiltonian in the particle-hole basis', \"Wick's theorem\", 'Extract quadratic term', 'Hartree term only', 'Fock term only', 'Expand interaction', 'Swap the index only', 'Swap the index to combine Hartree and Fock terms', 'Reduce momentum in Hartree term (momentum in BZ + reciprocal lattice)', 'Reduce momentum in Hartree term (momentum in BZ)', 'Reduce momentum in Fock term (momentum in BZ + reciprocal lattice)', 'Combine the Hartree and Fock term', 'Construct full Hamiltonian after HF', \"Mathematical simplify: Euler's formula\", 'Mathematical simplify: prosthaphaeresis', 'Mathematical simplify: Expand using Associative property', 'Mathematical simplify: Combine using Associative property', 'Mathematical simplify: reduce index'])"
      ]
     },
     "execution_count": 30,
     "metadata": {},
     "output_type": "execute_result"
    }
   ],
   "source": [
    "prompt_dict().keys()"
   ]
  },
  {
   "cell_type": "code",
   "execution_count": 9,
   "metadata": {},
   "outputs": [
    {
     "name": "stdout",
     "output_type": "stream",
     "text": [
      "You will be instructed to describe the kinetic term of Hamiltonian in {system} in the {real|momentum} space in the {single-particle|second-quantized} form.   \n",
      "The degrees of freedom of the system are: {dof}  \n",
      "Express the Kinetic Hamiltonian {kinetic_symbol} using {var} which are only on the diagonal terms, and arrange the basis in the order of {order}.\n",
      "\n",
      "Use the following conventions for the symbols:  \n",
      "{def_var}\n",
      "\n",
      "\n"
     ]
    }
   ],
   "source": [
    "print(prompt_dict['Construct Kinetic Hamiltonian (continuum version)'])"
   ]
  },
  {
   "cell_type": "code",
   "execution_count": 11,
   "metadata": {},
   "outputs": [],
   "source": [
    "df=pd.DataFrame(list(prompt_dict.items()),columns=['Task','Prompt'])"
   ]
  },
  {
   "cell_type": "markdown",
   "metadata": {},
   "source": [
    "## Construct Kinetic Hamiltonian (continuum version)"
   ]
  },
  {
   "cell_type": "code",
   "execution_count": 14,
   "metadata": {},
   "outputs": [],
   "source": [
    "user_msg=[]\n",
    "AI_msg=[]\n",
    "sys_msg=[{'role': 'system', 'content': prompt_dict['Preamble']}]\n",
    "kwargs_list=[]"
   ]
  },
  {
   "cell_type": "code",
   "execution_count": 84,
   "metadata": {},
   "outputs": [],
   "source": [
    "kwargs = {\n",
    "    'task':    'Construct Kinetic Hamiltonian (continuum version)',\n",
    "    'system':    'the hole-doped AB-stacked MoTe2/WSe2',\n",
    "    'real|momentum':    'real',\n",
    "    'single-particle|second-quantized':    'single-particle',\n",
    "    'dof':    'valley index (+K and -K valley), layer index (top and bottom layer)',\n",
    "    'kinetic_symbol':    '$H_{Kinetic}(r)$',\n",
    "    'var':    r'$E_{\\tau,l}$',\n",
    "    'order':    '(+K,bottom), (+K,top), (-K,bottom), (-K,top)',\n",
    "    'def_var':\n",
    "    r'''$l$ : layer index   \n",
    "$t$ : top layer  \n",
    "$b$ : bottom layer  \n",
    "$\\tau$ : valley index  \n",
    "$+K$ : +K valley  \n",
    "$-K$ : -K valley  \n",
    "$k$ : momentum operator  \n",
    "$E_{\\tau,l}$ : energy dispersion for layer $l$ and valley $\\tau$''',\n",
    "    'answer':    '$H_{Kinetic}(r) = \\\\begin{pmatrix} E_{+K,b} & 0 & 0 & 0 \\\\\\\\ 0 & E_{+K,t} & 0 & 0 \\\\\\\\ 0 & 0 & E_{-K,b} & 0 \\\\\\\\ 0 & 0 & 0 & E_{-K,t} \\\\end{pmatrix}$'\n",
    "}\n"
   ]
  },
  {
   "cell_type": "code",
   "execution_count": 85,
   "metadata": {},
   "outputs": [
    {
     "name": "stdout",
     "output_type": "stream",
     "text": [
      "You will be instructed to describe the kinetic term of Hamiltonian in the hole-doped AB-stacked MoTe2/WSe2 in the real space in the single-particle form.   \n",
      "The degrees of freedom of the system are: valley index (+K and -K valley), layer index (top and bottom layer).  \n",
      "Express the Kinetic Hamiltonian $H_{Kinetic}(r)$ using $E_{\\tau,l}$ which are only on the diagonal terms, and arrange the basis in the order of (+K,bottom), (+K,top), (-K,bottom), (-K,top).\n",
      "\n",
      "Use the following conventions for the symbols:  \n",
      "$l$ : layer index   \n",
      "$t$ : top layer  \n",
      "$b$ : bottom layer  \n",
      "$\\tau$ : valley index  \n",
      "$+K$ : +K valley  \n",
      "$-K$ : -K valley  \n",
      "$k$ : momentum operator  \n",
      "$E_{\\tau,l}$ : energy dispersion for layer $l$ and valley $\\tau$\n"
     ]
    }
   ],
   "source": [
    "print_save(generate_prompt(kwargs,prompt_dict=prompt_dict())['content'])"
   ]
  },
  {
   "cell_type": "code",
   "execution_count": 12,
   "metadata": {},
   "outputs": [],
   "source": [
    "user_msg.append(generate_prompt(kwargs,prompt_dict=prompt_dict))"
   ]
  },
  {
   "cell_type": "code",
   "execution_count": 13,
   "metadata": {},
   "outputs": [],
   "source": [
    "messages=assembly_message(sys_msg,user_msg,AI_msg)"
   ]
  },
  {
   "cell_type": "code",
   "execution_count": 14,
   "metadata": {},
   "outputs": [
    {
     "data": {
      "text/markdown": [
       "Understood. The kinetic Hamiltonian $H_{Kinetic}(r)$ in real space for the hole-doped AB-stacked MoTe2/WSe2 system can be written as:\n",
       "\n",
       "$H_{Kinetic}(r) = \\begin{pmatrix} E_{+K,b} & 0 & 0 & 0 \\\\ 0 & E_{+K,t} & 0 & 0 \\\\ 0 & 0 & E_{-K,b} & 0 \\\\ 0 & 0 & 0 & E_{-K,t} \\end{pmatrix}$\n",
       "\n",
       "Here, the basis is arranged in the order of (+K,bottom), (+K,top), (-K,bottom), (-K,top). The diagonal terms represent the energy dispersion $E_{\\tau,l}$ for each combination of valley index $\\tau$ and layer index $l$."
      ],
      "text/plain": [
       "<IPython.core.display.Markdown object>"
      ]
     },
     "execution_count": 14,
     "metadata": {},
     "output_type": "execute_result"
    }
   ],
   "source": [
    "rs = openai.ChatCompletion.create(messages=messages, **model_params)\n",
    "\n",
    "Markdown(rs['choices'][0]['message'].content)"
   ]
  },
  {
   "cell_type": "code",
   "execution_count": 17,
   "metadata": {},
   "outputs": [],
   "source": [
    "AI_msg.append(dict(rs['choices'][0]['message']))"
   ]
  },
  {
   "cell_type": "code",
   "execution_count": 15,
   "metadata": {},
   "outputs": [
    {
     "data": {
      "text/plain": [
       "'Understood. The kinetic Hamiltonian $H_{Kinetic}(r)$ in real space for the hole-doped AB-stacked MoTe2/WSe2 system can be written as:\\n\\n$H_{Kinetic}(r) = \\\\begin{pmatrix} E_{+K,b} & 0 & 0 & 0 \\\\\\\\ 0 & E_{+K,t} & 0 & 0 \\\\\\\\ 0 & 0 & E_{-K,b} & 0 \\\\\\\\ 0 & 0 & 0 & E_{-K,t} \\\\end{pmatrix}$\\n\\nHere, the basis is arranged in the order of (+K,bottom), (+K,top), (-K,bottom), (-K,top). The diagonal terms represent the energy dispersion $E_{\\\\tau,l}$ for each combination of valley index $\\\\tau$ and layer index $l$.'"
      ]
     },
     "execution_count": 15,
     "metadata": {},
     "output_type": "execute_result"
    }
   ],
   "source": [
    "rs['choices'][0]['message'].content"
   ]
  },
  {
   "cell_type": "code",
   "execution_count": 16,
   "metadata": {},
   "outputs": [],
   "source": [
    "kwargs_list.append(kwargs)"
   ]
  },
  {
   "cell_type": "markdown",
   "metadata": {},
   "source": [
    "## Define each term in Kinetic Hamiltonian (continuum version)"
   ]
  },
  {
   "cell_type": "code",
   "execution_count": null,
   "metadata": {},
   "outputs": [],
   "source": [
    "user_msg=[]\n",
    "AI_msg=[]\n",
    "sys_msg=[{'role': 'system', 'content': prompt_dict['Preamble']}]\n",
    "kwargs_list=[]"
   ]
  },
  {
   "cell_type": "code",
   "execution_count": 86,
   "metadata": {},
   "outputs": [],
   "source": [
    "kwargs = {\n",
    "    'task': 'Define each term in Kinetic Hamiltonian (continuum version)',\n",
    "    'var':r' four $E_{\\tau,l}(k)$',\n",
    "    'Description':r'''For all energy dispersions, $E_{l,\\tau}(k)$, it characterizes the dispersion for free holes, namely, $E_{l,\\tau}(k)= -\\frac{\\hbar^2 k^2}{2 m_l}$.   \n",
    "In addition, for the top layer, $E_{\\tau,t}(k)$, there is a shift of momentum $k$, to make the band bottom at $\\tilde{\\tau}\\kappa$. You should infer the correct $\\tilde{\\tau}$.  \n",
    "Finally, in the real space, the momentum $k=-i \\partial_r$. You should keep the form of $k$ in the Hamiltonian for short notations but should remember $k$ is an operator.  ''',\n",
    "    'expression_kinetic': '$H_{Kinetic}(r) = \\\\begin{pmatrix} E_{+K,b} & 0 & 0 & 0 \\\\\\\\ 0 & E_{+K,t} & 0 & 0 \\\\\\\\ 0 & 0 & E_{-K,b} & 0 \\\\\\\\ 0 & 0 & 0 & E_{-K,t} \\\\end{pmatrix}$',\n",
    "    'kinetic_symbol': r'$H_{Kinetic}(r)$',\n",
    "    'def_var':r'''$k$ : momentum operator  \n",
    "$r$ : real space operator  \n",
    "$m_l$ : the effective mass for layer $l$  \n",
    "$\\tilde{\\tau}$ : takes value of +1 for $\\tau=+K$ and -1 for $\\tau=-K$  \n",
    "$\\pm\\kappa$ : corners of monolayer moire Brillouin zone  ''',\n",
    "'answer':'$H_{Kinetic}(r) = \\\\begin{pmatrix} -\\\\frac{\\\\hbar^2 k^2}{2 m_b} & 0 & 0 & 0 \\\\\\\\ 0 & -\\\\frac{\\\\hbar^2 (k-\\\\kappa)^2}{2 m_t} & 0 & 0 \\\\\\\\ 0 & 0 & -\\\\frac{\\\\hbar^2 k^2}{2 m_b} & 0 \\\\\\\\ 0 & 0 & 0 & -\\\\frac{\\\\hbar^2 (k+\\\\kappa)^2}{2 m_t} \\\\end{pmatrix}$'\n",
    "}"
   ]
  },
  {
   "cell_type": "code",
   "execution_count": 87,
   "metadata": {},
   "outputs": [
    {
     "name": "stdout",
     "output_type": "stream",
     "text": [
      "You will be instructed to construct each term in the matrix, namely  four $E_{\\tau,l}(k)$.  \n",
      "For all energy dispersions, $E_{l,\\tau}(k)$, it characterizes the dispersion for free holes, namely, $E_{l,\\tau}(k)= -\\frac{\\hbar^2 k^2}{2 m_l}$.   \n",
      "In addition, for the top layer, $E_{\\tau,t}(k)$, there is a shift of momentum $k$, to make the band bottom at $\\tilde{\\tau}\\kappa$. You should infer the correct $\\tilde{\\tau}$.  \n",
      "Finally, in the real space, the momentum $k=-i \\partial_r$. You should keep the form of $k$ in the Hamiltonian for short notations but should remember $k$ is an operator.  \n",
      "You should recall that $H_{Kinetic}(r) = \\begin{pmatrix} E_{+K,b} & 0 & 0 & 0 \\\\ 0 & E_{+K,t} & 0 & 0 \\\\ 0 & 0 & E_{-K,b} & 0 \\\\ 0 & 0 & 0 & E_{-K,t} \\end{pmatrix}$.   \n",
      "Return the expression for  four $E_{\\tau,l}(k)$ in the Kinetic Hamiltonian, and substitute it into the Kinetic Hamiltonian $H_{Kinetic}(r)$.  \n",
      "\n",
      "Use the following conventions for the symbols (You should also obey the conventions in all my previous prompts if you encounter undefined symbols. If you find it is never defined or has conflicts in the conventions, you should stop and let me know):  \n",
      "$k$ : momentum operator  \n",
      "$r$ : real space operator  \n",
      "$m_l$ : the effective mass for layer $l$  \n",
      "$\\tilde{\\tau}$ : takes value of +1 for $\\tau=+K$ and -1 for $\\tau=-K$  \n",
      "$\\pm\\kappa$ : corners of monolayer moire Brillouin zone\n"
     ]
    }
   ],
   "source": [
    "print_save(generate_prompt(kwargs,prompt_dict=prompt_dict())['content'])"
   ]
  },
  {
   "cell_type": "code",
   "execution_count": 13,
   "metadata": {},
   "outputs": [],
   "source": [
    "user_msg.append(generate_prompt(kwargs,prompt_dict=prompt_dict))"
   ]
  },
  {
   "cell_type": "code",
   "execution_count": 14,
   "metadata": {},
   "outputs": [
    {
     "data": {
      "text/plain": [
       "[{'role': 'user',\n",
       "  'content': 'Now you will be instructed to construct each term in the matrix, namely  four $E_{\\\\tau,l}$.  \\nFor all energy dispersions, $E_{l,\\\\tau}(k)$, it characterizes the dispersion for free holes, namely, $E_{l,\\\\tau}(k)= -\\\\frac{\\\\hbar^2 k^2}{2 m_l}$.   \\nIn addition, for the top layer, $E_{\\\\tau,t}(k)$, there is a shift of momentum $k$, to make the band bottom at $\\\\tilde{\\\\tau}\\\\kappa$. You should infer the correct $\\\\tilde{\\\\tau}$.  \\nFinally, in the real space, the momentum $k=-i \\\\partial_r$. You should keep the form of $k$ in the Hamiltonian for short notations but should remember $k$ is an operator.  \\n\\nYou should recall that $H_{Kinetic}(r) = \\\\begin{pmatrix} E_{+K,b} & 0 & 0 & 0 \\\\\\\\ 0 & E_{+K,t} & 0 & 0 \\\\\\\\ 0 & 0 & E_{-K,b} & 0 \\\\\\\\ 0 & 0 & 0 & E_{-K,t} \\\\end{pmatrix}$.  \\nReturn the expression for  four $E_{\\\\tau,l}$ in the Kinetic Hamiltonian, and substitute it into the Kinetic Hamiltonian $H_{Kinetic}(r)$.  \\n\\nUse the following conventions for the symbols (You should also obey the conventions in all my previous prompts if you encounter undefined symbols. If you find it is never defined or has conflicts in the conventions, you should stop and let me know):  \\n$k$ : momentum operator  \\n$r$ : real space operator  \\n$m_l$ : the effective mass for layer $l$  \\n$\\\\tilde{\\\\tau}$ : takes value of +1 for $\\\\tau=+K$ and -1 for $\\\\tau=-K$  \\n$\\\\pm\\\\kappa$ : corners of monolayer moire Brillouin zone'}]"
      ]
     },
     "execution_count": 14,
     "metadata": {},
     "output_type": "execute_result"
    }
   ],
   "source": [
    "user_msg"
   ]
  },
  {
   "cell_type": "code",
   "execution_count": 15,
   "metadata": {},
   "outputs": [],
   "source": [
    "messages=assembly_message(sys_msg,user_msg,AI_msg)"
   ]
  },
  {
   "cell_type": "code",
   "execution_count": 16,
   "metadata": {},
   "outputs": [
    {
     "data": {
      "text/markdown": [
       "Understood. I will construct each term in the matrix, namely four $E_{\\tau,l}$, based on your instructions.\n",
       "\n",
       "The energy dispersion for free holes is given by $E_{l,\\tau}(k)= -\\frac{\\hbar^2 k^2}{2 m_l}$.\n",
       "\n",
       "For the top layer, there is a shift of momentum $k$ to make the band bottom at $\\tilde{\\tau}\\kappa$. The correct $\\tilde{\\tau}$ should be +1 for $\\tau=+K$ and -1 for $\\tau=-K$.\n",
       "\n",
       "In the real space, the momentum $k=-i \\partial_r$. I will keep the form of $k$ in the Hamiltonian for short notations but remember $k$ is an operator.\n",
       "\n",
       "Therefore, the expressions for the four $E_{\\tau,l}$ in the Kinetic Hamiltonian are:\n",
       "\n",
       "$E_{+K,b}(k) = -\\frac{\\hbar^2 k^2}{2 m_b}$\n",
       "\n",
       "$E_{+K,t}(k) = -\\frac{\\hbar^2 (k-\\kappa)^2}{2 m_t}$\n",
       "\n",
       "$E_{-K,b}(k) = -\\frac{\\hbar^2 k^2}{2 m_b}$\n",
       "\n",
       "$E_{-K,t}(k) = -\\frac{\\hbar^2 (k+\\kappa)^2}{2 m_t}$\n",
       "\n",
       "Substituting these into the Kinetic Hamiltonian $H_{Kinetic}(r)$, we get:\n",
       "\n",
       "$H_{Kinetic}(r) = \\begin{pmatrix} -\\frac{\\hbar^2 k^2}{2 m_b} & 0 & 0 & 0 \\\\ 0 & -\\frac{\\hbar^2 (k-\\kappa)^2}{2 m_t} & 0 & 0 \\\\ 0 & 0 & -\\frac{\\hbar^2 k^2}{2 m_b} & 0 \\\\ 0 & 0 & 0 & -\\frac{\\hbar^2 (k+\\kappa)^2}{2 m_t} \\end{pmatrix}$."
      ],
      "text/plain": [
       "<IPython.core.display.Markdown object>"
      ]
     },
     "execution_count": 16,
     "metadata": {},
     "output_type": "execute_result"
    }
   ],
   "source": [
    "rs = openai.ChatCompletion.create(messages=messages, **model_params)\n",
    "Markdown(rs['choices'][0]['message'].content)"
   ]
  },
  {
   "cell_type": "code",
   "execution_count": 32,
   "metadata": {},
   "outputs": [],
   "source": [
    "AI_msg.append(dict(rs['choices'][0]['message']))"
   ]
  },
  {
   "cell_type": "code",
   "execution_count": 33,
   "metadata": {},
   "outputs": [
    {
     "data": {
      "text/plain": [
       "'The energy dispersion for free holes in each layer and valley is given by $E_{l,\\\\tau}(k)= -\\\\frac{\\\\hbar^2 k^2}{2 m_l}$. For the top layer, the momentum $k$ is shifted to make the band bottom at $\\\\tilde{\\\\tau}\\\\kappa$, so $E_{\\\\tau,t}(k)= -\\\\frac{\\\\hbar^2 (k-\\\\tilde{\\\\tau}\\\\kappa)^2}{2 m_t}$.\\n\\nTherefore, the four energy dispersion terms are:\\n\\n$E_{+K,b}(k) = -\\\\frac{\\\\hbar^2 k^2}{2 m_b}$\\n\\n$E_{+K,t}(k) = -\\\\frac{\\\\hbar^2 (k-\\\\kappa)^2}{2 m_t}$\\n\\n$E_{-K,b}(k) = -\\\\frac{\\\\hbar^2 k^2}{2 m_b}$\\n\\n$E_{-K,t}(k) = -\\\\frac{\\\\hbar^2 (k+\\\\kappa)^2}{2 m_t}$\\n\\nSubstituting these into the kinetic Hamiltonian, we get:\\n\\n$H_{Kinetic}(r) = \\\\begin{pmatrix} -\\\\frac{\\\\hbar^2 k^2}{2 m_b} & 0 & 0 & 0 \\\\\\\\ 0 & -\\\\frac{\\\\hbar^2 (k-\\\\kappa)^2}{2 m_t} & 0 & 0 \\\\\\\\ 0 & 0 & -\\\\frac{\\\\hbar^2 k^2}{2 m_b} & 0 \\\\\\\\ 0 & 0 & 0 & -\\\\frac{\\\\hbar^2 (k+\\\\kappa)^2}{2 m_t} \\\\end{pmatrix}$\\n\\nRemember that $k$ is an operator, $k=-i \\\\partial_r$.'"
      ]
     },
     "execution_count": 33,
     "metadata": {},
     "output_type": "execute_result"
    }
   ],
   "source": [
    "rs['choices'][0]['message'].content"
   ]
  },
  {
   "cell_type": "code",
   "execution_count": 34,
   "metadata": {},
   "outputs": [],
   "source": [
    "kwargs_list.append(kwargs)"
   ]
  },
  {
   "cell_type": "markdown",
   "metadata": {},
   "source": [
    "## Construct Potential Hamiltonian (continuum version)"
   ]
  },
  {
   "cell_type": "code",
   "execution_count": null,
   "metadata": {},
   "outputs": [],
   "source": [
    "user_msg=[]\n",
    "AI_msg=[]\n",
    "sys_msg=[{'role': 'system', 'content': prompt_dict['Preamble']}]\n",
    "kwargs_list=[]"
   ]
  },
  {
   "cell_type": "code",
   "execution_count": 88,
   "metadata": {},
   "outputs": [],
   "source": [
    "kwargs = {\n",
    "    'task':\n",
    "    'Construct Potential Hamiltonian (continuum version)',\n",
    "    'system':    'the hole-doped AB-stacked MoTe2/WSe2',\n",
    "    'real|momentum':'real',\n",
    "    'single-particle|second-quantized':'single-particle',\n",
    "    'kinetic_symbol': r'$H_{Kinetic}(r)$',\n",
    "    \n",
    "    'Description': r'''At each valley, it is a 2 by 2 matrix $H_{Potential,\\tau}(r)$, where each component is layer index. The diagonal term in this 2 by 2 matrix $H_{Potential,\\tau}(r)$ is  intralayer tunneling $\\Delta_l(r)$. The off-diagonal term in this 2 by 2 matrix $H_{Potential,\\tau}(r)$ is interlayer potential $\\Delta_{T,\\tau}(r)$, which should be kept hermitian.  \n",
    "There is no hybridization between $+K$ valley and $-K$ valley, i.e., the corresponding matrix elements in $H_{Potential}(r)$ are all zero''',\n",
    "    'potential_symbol':'$H_{Potential}(r)$',\n",
    "    'var':\n",
    "    r'$\\Delta_l(r)$ and $\\Delta_{T,\\tau}(r)$',\n",
    "    'def_var': r'''  \n",
    "$\\Delta_l$: intralayer potential for layer index $l$  \n",
    "$\\Delta_{T,\\tau}$ : interlayer tunneling at valley index $\\tau$  \n",
    "$H_{Potential}(r)$ : potential term of Hamiltonian in the real space in the single-particle form.  ''',\n",
    "    'answer':'$H_{Potential}(r) = \\\\begin{pmatrix} \\\\Delta_b(r) & \\\\Delta_{T,+K}(r) & 0 & 0 \\\\\\\\ \\\\Delta_{T,+K}^*(r) & \\\\Delta_t(r) & 0 & 0 \\\\\\\\ 0 & 0 & \\\\Delta_b(r) & \\\\Delta_{T,-K}(r) \\\\\\\\ 0 & 0 & \\\\Delta_{T,-K}^*(r) & \\\\Delta_t(r) \\\\end{pmatrix}$'\n",
    "    \n",
    "}\n"
   ]
  },
  {
   "cell_type": "code",
   "execution_count": 89,
   "metadata": {},
   "outputs": [
    {
     "name": "stdout",
     "output_type": "stream",
     "text": [
      "You will be instructed to describe the potential term of Hamiltonian $H_{Potential}(r)$ in the real space in the single-particle form.  \n",
      "The potential Hamiltonian has the same degrees of freedom as the kinetic Hamiltonian $H_{Kinetic}(r)$.  \n",
      "At each valley, it is a 2 by 2 matrix $H_{Potential,\\tau}(r)$, where each component is layer index. The diagonal term in this 2 by 2 matrix $H_{Potential,\\tau}(r)$ is  intralayer tunneling $\\Delta_l(r)$. The off-diagonal term in this 2 by 2 matrix $H_{Potential,\\tau}(r)$ is interlayer potential $\\Delta_{T,\\tau}(r)$, which should be kept hermitian.  \n",
      "There is no hybridization between $+K$ valley and $-K$ valley, i.e., the corresponding matrix elements in $H_{Potential}(r)$ are all zero.  \n",
      "Express the potential Hamiltonian $H_{Potential}(r)$ using $\\Delta_l(r)$ and $\\Delta_{T,\\tau}(r)$.  \n",
      "\n",
      "Use the following conventions for the symbols (You should also remember the conventions in my previous prompts if there are no conflicts. If you have conflicts in the conventions, you should stop and let me know):  \n",
      "  \n",
      "$\\Delta_l$: intralayer potential for layer index $l$  \n",
      "$\\Delta_{T,\\tau}$ : interlayer tunneling at valley index $\\tau$  \n",
      "$H_{Potential}(r)$ : potential term of Hamiltonian in the real space in the single-particle form.\n"
     ]
    }
   ],
   "source": [
    "print_save(generate_prompt(kwargs,prompt_dict=prompt_dict())['content'])"
   ]
  },
  {
   "cell_type": "code",
   "execution_count": 53,
   "metadata": {},
   "outputs": [],
   "source": [
    "user_msg.append(generate_prompt(kwargs,prompt_dict=prompt_dict))"
   ]
  },
  {
   "cell_type": "code",
   "execution_count": 54,
   "metadata": {},
   "outputs": [],
   "source": [
    "messages=assembly_message(sys_msg,user_msg,AI_msg)"
   ]
  },
  {
   "cell_type": "code",
   "execution_count": 55,
   "metadata": {},
   "outputs": [
    {
     "data": {
      "text/plain": [
       "[{'role': 'system',\n",
       "  'content': 'You are a physicist helping me to construct Hamiltonian and perform Hartree-Fock step by step based on my instructions. \\nYou should follow the instruction strictly.\\nYour reply should be succinct while complete. You should not expand any unwanted content.\\nYou will be learning background knowledge by examples if necessary.\\nConfirm and repeat your duty if you understand it.\\n\\n'},\n",
       " {'role': 'user',\n",
       "  'content': 'You will be instructed to describe the potential term of Hamiltonian in the hole-doped AB-stacked MoTe2/WSe2 in the real space in the single-particle form.   \\nThe degrees of freedom of the system are: valley index $\\\\tau$ (+K and -K valley), layer index $l$ (top and bottom layer)  \\nAt each valley, it is a 2 by 2 matrix $H_{Potential,\\\\tau}(r)$, where each component is layer index. The diagonal term in this 2 by 2 matrix $H_{Potential,\\\\tau}(r)$ is  intralayer tunneling $\\\\Delta_l(r)$. The off-diagonal term in this 2 by 2 matrix $H_{Potential,\\\\tau}(r)$ is interlayer potential $\\\\Delta_{T,\\\\tau}(r)$, which should be kept hermitian.  \\nThere is no hybridization between $+K$ valley and $-K$ valley, i.e., the corresponding matrix elements in $H_{Potential}(r)$ are all zero.    \\nExpress the potential Hamiltonian $H_{Potential}(r)$ using $\\\\Delta_l(r)$ and $\\\\Delta_{T,\\\\tau}(r)$.  \\n\\nUse the following conventions for the symbols:  \\n$l$ : layer index   \\n$t$ : top layer  \\n$b$ : bottom layer  \\n$\\\\tau$ : valley index  \\n$+K$ : +K valley  \\n$-K$ : -K valley  \\n$\\\\Delta_l$: intralayer potential for layer index $l$  \\n$\\\\Delta_{T,\\\\tau}$ : interlayer tunneling at valley index $\\\\tau$  \\n$H_{Potential}(r)$ : potential term of Hamiltonian in the real space in the single-particle form.'}]"
      ]
     },
     "execution_count": 55,
     "metadata": {},
     "output_type": "execute_result"
    }
   ],
   "source": [
    "messages"
   ]
  },
  {
   "cell_type": "code",
   "execution_count": 56,
   "metadata": {},
   "outputs": [
    {
     "data": {
      "text/markdown": [
       "The potential Hamiltonian $H_{Potential}(r)$ can be expressed as a 4 by 4 matrix, with each 2 by 2 block corresponding to a valley index $\\tau$. The diagonal elements of each 2 by 2 block represent the intralayer potential $\\Delta_l(r)$, and the off-diagonal elements represent the interlayer potential $\\Delta_{T,\\tau}(r)$. The Hamiltonian can be written as:\n",
       "\n",
       "$H_{Potential}(r) = \\begin{pmatrix} \n",
       "\\Delta_t(r) & \\Delta_{T,+K}(r) & 0 & 0 \\\\\n",
       "\\Delta_{T,+K}^*(r) & \\Delta_b(r) & 0 & 0 \\\\\n",
       "0 & 0 & \\Delta_t(r) & \\Delta_{T,-K}(r) \\\\\n",
       "0 & 0 & \\Delta_{T,-K}^*(r) & \\Delta_b(r) \n",
       "\\end{pmatrix}$\n",
       "\n",
       "Here, the first two rows and columns correspond to the +K valley, and the last two rows and columns correspond to the -K valley. The diagonal elements $\\Delta_t(r)$ and $\\Delta_b(r)$ represent the intralayer potential for the top and bottom layers, respectively. The off-diagonal elements $\\Delta_{T,+K}(r)$ and $\\Delta_{T,-K}(r)$ represent the interlayer potential for the +K and -K valleys, respectively. The elements outside the 2 by 2 blocks are all zero, indicating no hybridization between the +K and -K valleys."
      ],
      "text/plain": [
       "<IPython.core.display.Markdown object>"
      ]
     },
     "execution_count": 56,
     "metadata": {},
     "output_type": "execute_result"
    }
   ],
   "source": [
    "rs = openai.ChatCompletion.create(messages=messages, **model_params)\n",
    "\n",
    "Markdown(rs['choices'][0]['message'].content)"
   ]
  },
  {
   "cell_type": "code",
   "execution_count": 41,
   "metadata": {},
   "outputs": [],
   "source": [
    "AI_msg.append(dict(rs['choices'][0]['message']))"
   ]
  },
  {
   "cell_type": "code",
   "execution_count": 42,
   "metadata": {},
   "outputs": [
    {
     "data": {
      "text/plain": [
       "'The potential Hamiltonian $H_{Potential}(r)$ in the real space for the hole-doped AB-stacked MoTe2/WSe2 system can be written as a 4x4 matrix, with the basis ordered as (+K,bottom), (+K,top), (-K,bottom), (-K,top). \\n\\nThe Hamiltonian is:\\n\\n$H_{Potential}(r) = \\\\begin{pmatrix} \\\\Delta_b(r) & \\\\Delta_{T,+K}(r) & 0 & 0 \\\\\\\\ \\\\Delta_{T,+K}^*(r) & \\\\Delta_t(r) & 0 & 0 \\\\\\\\ 0 & 0 & \\\\Delta_b(r) & \\\\Delta_{T,-K}(r) \\\\\\\\ 0 & 0 & \\\\Delta_{T,-K}^*(r) & \\\\Delta_t(r) \\\\end{pmatrix}$\\n\\nwhere $\\\\Delta_l(r)$ is the intralayer potential for layer $l$, and $\\\\Delta_{T,\\\\tau}(r)$ is the interlayer tunneling at valley index $\\\\tau$. The off-diagonal terms are zero because there is no hybridization between $+K$ valley and $-K$ valley. The interlayer tunneling terms are complex conjugates of each other to ensure the hermiticity of the Hamiltonian.'"
      ]
     },
     "execution_count": 42,
     "metadata": {},
     "output_type": "execute_result"
    }
   ],
   "source": [
    "rs['choices'][0]['message'].content"
   ]
  },
  {
   "cell_type": "code",
   "execution_count": 43,
   "metadata": {},
   "outputs": [],
   "source": [
    "kwargs_list.append(kwargs)"
   ]
  },
  {
   "cell_type": "markdown",
   "metadata": {},
   "source": [
    "## Define each term in Potential Hamiltonian (continuum version)"
   ]
  },
  {
   "cell_type": "code",
   "execution_count": 24,
   "metadata": {},
   "outputs": [],
   "source": [
    "user_msg=[]\n",
    "AI_msg=[]\n",
    "sys_msg=[{'role': 'system', 'content': prompt_dict['Preamble']}]\n",
    "kwargs_list=[]"
   ]
  },
  {
   "cell_type": "code",
   "execution_count": 90,
   "metadata": {},
   "outputs": [],
   "source": [
    "kwargs = {\n",
    "    'task':\n",
    "    'Define each term in Potential Hamiltonian (continuum version)',\n",
    "    'potential_symbol':'$H_{Potential}(r)$',\n",
    "    'var':    r'the intralayer potential $\\Delta_l(r)$ and interlayer tunneling $\\Delta_{T,\\tau}(r)$',\n",
    "    'real|momentum':'real',\n",
    "    'single-particle|second-quantized':'single-particle',\n",
    "    'kinetic_symbol':    '$H_{Kinetic}(r)$',\n",
    "    'Description': r'''The intralayer on the top layer $\\Delta_t(r)$ is $V_{zt}$.  \n",
    "The intralayer on the bottom layer $\\Delta_b(r)$ is $2V_b\\sum_{j=1,3,5} \\cos(g_j \\cdot r  +\\psi_b)$.  \n",
    "The interlayer tunneling at valley $\\tau$ is $\\tilde{\\tau}w(1+\\omega^{\\tilde{\\tau}}e^{i\\tilde{\\tau} g_2 \\cdot r} + \\omega^{2\\tilde{\\tau}} e^{i\\tilde{\\tau} g_3 \\cdot r})$. You should infer the correct $\\tilde{\\tau}$ such that $\\tilde{\\tau}$ does not appear in the answer.  ''',\n",
    "    'def_var': r'''$V_b$ : bottom layer potential strength  \n",
    "$\\psi_b$ : bottom layer potential phase  \n",
    "$g_j$ : reciprocal unit vector on the first shell corresponding in the moire Brillouin zone, j varies from 1 to 6.  \n",
    "$r$ : real space position  \n",
    "$\\omega$ : phase factor to respect the threefold rotational symmetry, which is $e^{i2\\pi/3}$, the hermitian conjugate is $\\omega^{-1}=e^{-i2\\pi/3}$  \n",
    "$w$ : interlayer tunneling strength''',\n",
    "    'expression_Potential': '$H_{Potential}(r) = \\\\begin{pmatrix} \\\\Delta_b(r) & \\\\Delta_{T,+K}(r) & 0 & 0 \\\\\\\\ \\\\Delta_{T,+K}^*(r) & \\\\Delta_t(r) & 0 & 0 \\\\\\\\ 0 & 0 & \\\\Delta_b(r) & \\\\Delta_{T,-K}(r) \\\\\\\\ 0 & 0 & \\\\Delta_{T,-K}^*(r) & \\\\Delta_t(r) \\\\end{pmatrix}$',\n",
    "    'answer':'$H_{Potential}(r) = \\\\begin{pmatrix} 2V_b\\\\sum_{j=1,3,5} \\\\cos(g_j \\\\cdot r  +\\\\psi_b) & w(1+\\\\omega e^{i g_2 \\\\cdot r} + \\\\omega^2 e^{i g_3 \\\\cdot r}) & 0 & 0 \\\\\\\\ w(1+\\\\omega^{-1}e^{-i g_2 \\\\cdot r} + \\\\omega^{-2} e^{-i g_3 \\\\cdot r}) & V_{zt} & 0 & 0 \\\\\\\\ 0 & 0 & 2V_b\\\\sum_{j=1,3,5} \\\\cos(g_j \\\\cdot r  +\\\\psi_b) & -w(1+\\\\omega^{-1}e^{-i g_2 \\\\cdot r} + \\\\omega^{-2} e^{-i g_3 \\\\cdot r}) \\\\\\\\ 0 & 0 & -w(1+\\\\omega e^{i g_2 \\\\cdot r} + \\\\omega^2 e^{i g_3 \\\\cdot r}) & V_{zt} \\\\end{pmatrix}$'\n",
    "    \n",
    "}\n"
   ]
  },
  {
   "cell_type": "code",
   "execution_count": 91,
   "metadata": {},
   "outputs": [
    {
     "name": "stdout",
     "output_type": "stream",
     "text": [
      "You will be instructed to construct each term in the matrix $H_{Potential}(r)$, namely, the intralayer potential $\\Delta_l(r)$ and interlayer tunneling $\\Delta_{T,\\tau}(r)$.  \n",
      "The intralayer on the top layer $\\Delta_t(r)$ is $V_{zt}$.  \n",
      "The intralayer on the bottom layer $\\Delta_b(r)$ is $2V_b\\sum_{j=1,3,5} \\cos(g_j \\cdot r  +\\psi_b)$.  \n",
      "The interlayer tunneling at valley $\\tau$ is $\\tilde{\\tau}w(1+\\omega^{\\tilde{\\tau}}e^{i\\tilde{\\tau} g_2 \\cdot r} + \\omega^{2\\tilde{\\tau}} e^{i\\tilde{\\tau} g_3 \\cdot r})$. You should infer the correct $\\tilde{\\tau}$ such that $\\tilde{\\tau}$ does not appear in the answer.    \n",
      "Return the expressions for the intralayer potential $\\Delta_l(r)$ and interlayer tunneling $\\Delta_{T,\\tau}(r)$, and substitute it into the potential Hamiltonian $H_{Potential}(r)$.  \n",
      "\n",
      "Use the following conventions for the symbols (You should also obey the conventions in all my previous prompts if you encounter undefined symbols. If you find it is never defined or have conflicts in the conventions, you should stop and let me know):  \n",
      "$V_b$ : bottom layer potential strength  \n",
      "$\\psi_b$ : bottom layer potential phase  \n",
      "$g_j$ : reciprocal unit vector on the first shell corresponding in the moire Brillouin zone, j varies from 1 to 6.  \n",
      "$r$ : real space position  \n",
      "$\\omega$ : phase factor to respect the threefold rotational symmetry, which is $e^{i2\\pi/3}$, the hermitian conjugate is $\\omega^{-1}=e^{-i2\\pi/3}$  \n",
      "$w$ : interlayer tunneling strength\n"
     ]
    }
   ],
   "source": [
    "print_save(generate_prompt(kwargs,prompt_dict=prompt_dict())['content'])"
   ]
  },
  {
   "cell_type": "code",
   "execution_count": 27,
   "metadata": {},
   "outputs": [],
   "source": [
    "user_msg.append(generate_prompt(kwargs,prompt_dict=prompt_dict))"
   ]
  },
  {
   "cell_type": "code",
   "execution_count": 28,
   "metadata": {},
   "outputs": [],
   "source": [
    "messages=assembly_message(sys_msg,user_msg,AI_msg)"
   ]
  },
  {
   "cell_type": "code",
   "execution_count": 29,
   "metadata": {},
   "outputs": [
    {
     "data": {
      "text/markdown": [
       "The intralayer potential for the top layer $\\Delta_t(r)$ is given by $V_{zt}$.\n",
       "\n",
       "The intralayer potential for the bottom layer $\\Delta_b(r)$ is given by $2V_b\\sum_{j=1,3,5} \\cos(g_j \\cdot r  +\\psi_b)$.\n",
       "\n",
       "The interlayer tunneling at valley $+K$ is $\\Delta_{T,+K}(r) = w (1+\\omega e^{i g_2 \\cdot r} + \\omega^2 e^{i g_3 \\cdot r})$.\n",
       "\n",
       "The interlayer tunneling at valley $-K$ is $\\Delta_{T,-K}(r) = w (1+\\omega^{-1}e^{-i g_2 \\cdot r} + \\omega^{-2} e^{-i g_3 \\cdot r})$.\n",
       "\n",
       "Substituting these expressions into the potential Hamiltonian $H_{Potential}(r)$, we get:\n",
       "\n",
       "$H_{Potential}(r) = \\begin{pmatrix} 2V_b\\sum_{j=1,3,5} \\cos(g_j \\cdot r  +\\psi_b) & w (1+\\omega e^{i g_2 \\cdot r} + \\omega^2 e^{i g_3 \\cdot r}) & 0 & 0 \\\\ w (1+\\omega^{-1}e^{-i g_2 \\cdot r} + \\omega^{-2} e^{-i g_3 \\cdot r}) & V_{zt} & 0 & 0 \\\\ 0 & 0 & 2V_b\\sum_{j=1,3,5} \\cos(g_j \\cdot r  +\\psi_b) & w (1+\\omega^{-1}e^{-i g_2 \\cdot r} + \\omega^{-2} e^{-i g_3 \\cdot r}) \\\\ 0 & 0 & w (1+\\omega e^{i g_2 \\cdot r} + \\omega^2 e^{i g_3 \\cdot r}) & V_{zt} \\end{pmatrix}$."
      ],
      "text/plain": [
       "<IPython.core.display.Markdown object>"
      ]
     },
     "execution_count": 29,
     "metadata": {},
     "output_type": "execute_result"
    }
   ],
   "source": [
    "rs = openai.ChatCompletion.create(messages=messages, **model_params)\n",
    "\n",
    "Markdown(rs['choices'][0]['message'].content)"
   ]
  },
  {
   "cell_type": "code",
   "execution_count": 61,
   "metadata": {},
   "outputs": [],
   "source": [
    "AI_msg.append(dict(rs['choices'][0]['message']))"
   ]
  },
  {
   "cell_type": "code",
   "execution_count": 62,
   "metadata": {},
   "outputs": [
    {
     "data": {
      "text/plain": [
       "'The intralayer potential for the top layer is $\\\\Delta_t(r) = V_{zt}$.\\n\\nThe intralayer potential for the bottom layer is $\\\\Delta_b(r) = 2V_b\\\\sum_{j=1,3,5} \\\\cos(g_j \\\\cdot r  +\\\\psi_b)$.\\n\\nThe interlayer tunneling at valley $\\\\tau$ is $\\\\Delta_{T,\\\\tau}(r) = \\\\tau w(1+\\\\omega^{\\\\tau}e^{i\\\\tau g_2 \\\\cdot r} + \\\\omega^{2\\\\tau} e^{i\\\\tau g_3 \\\\cdot r})$.\\n\\nSubstituting these into the potential Hamiltonian, we get:\\n\\n$H_{Potential}(r) = \\\\begin{pmatrix} 2V_b\\\\sum_{j=1,3,5} \\\\cos(g_j \\\\cdot r  +\\\\psi_b) & w(1+\\\\omega e^{i g_2 \\\\cdot r} + \\\\omega^2 e^{i g_3 \\\\cdot r}) & 0 & 0 \\\\\\\\ w(1+\\\\omega^{-1}e^{-i g_2 \\\\cdot r} + \\\\omega^{-2} e^{-i g_3 \\\\cdot r}) & V_{zt} & 0 & 0 \\\\\\\\ 0 & 0 & 2V_b\\\\sum_{j=1,3,5} \\\\cos(g_j \\\\cdot r  +\\\\psi_b) & -w(1+\\\\omega e^{i g_2 \\\\cdot r} + \\\\omega^2 e^{i g_3 \\\\cdot r}) \\\\\\\\ 0 & 0 & -w(1+\\\\omega^{-1}e^{-i g_2 \\\\cdot r} + \\\\omega^{-2} e^{-i g_3 \\\\cdot r}) & V_{zt} \\\\end{pmatrix}$'"
      ]
     },
     "execution_count": 62,
     "metadata": {},
     "output_type": "execute_result"
    }
   ],
   "source": [
    "rs['choices'][0]['message'].content"
   ]
  },
  {
   "cell_type": "code",
   "execution_count": 63,
   "metadata": {},
   "outputs": [],
   "source": [
    "kwargs_list.append(kwargs)"
   ]
  },
  {
   "cell_type": "markdown",
   "metadata": {},
   "source": [
    "## Convert from single-particle to second-quantized form, return in matrix"
   ]
  },
  {
   "cell_type": "code",
   "execution_count": 92,
   "metadata": {},
   "outputs": [],
   "source": [
    "kwargs = {\n",
    "    'task':'Convert from single-particle to second-quantized form, return in matrix',\n",
    "    'real|momentum':'real',\n",
    "    'nonint_symbol': r'$H^{0}(r)$',\n",
    "    'potential_symbol':'$H_{Potential}(r)$',\n",
    "    'kinetic_symbol':'$H_{Kinetic}(r)$',\n",
    "    '$r$|$k$': '$r$',\n",
    "    'second_nonint_symbol': r'$\\hat{H}^{0}$',\n",
    "    'def_var': r'''$\\psi_{\\tau,l}(r)$ : electron annihilation operator at valley index $\\tau$ and layer index $l$  \n",
    "$\\vec{\\psi}(r)$ : spinor containing all annihilation operators $\\psi_{\\tau,l}(r)$ following the same order of $H^{0}(r)$  \n",
    "$H^{0}(r)$ : single-particle noninteracting Hamiltonian in the real space  \n",
    "$\\hat{H}^{0}$ : total noninteracting Hamiltonian in the second quantized form ''',\n",
    "    'answer':''\n",
    "}\n"
   ]
  },
  {
   "cell_type": "code",
   "execution_count": 93,
   "metadata": {},
   "outputs": [
    {
     "name": "stdout",
     "output_type": "stream",
     "text": [
      "You will be instructed to construct the second quantized form of the total noninteracting Hamiltonian in the real space.  \n",
      "The noninteracting Hamiltonian in the real space $H^{0}(r)$ is the sum of Kinetic Hamiltonian $H_{Kinetic}(r)$ and Potential Hamiltonian $H_{Potential}(r)$.  \n",
      "To construct the second quantized form of a Hamiltonian. You should construct the creation and annihilation operators from the basis explicitly. You should follow the EXAMPLE below to convert a Hamiltonian from the single-particle form to second-quantized form.  \n",
      "Finally by \"total\", it means you need to take a summation over the real space position $r$.   \n",
      "Return the second quantized form of the total noninteracting Hamiltonian $\\hat{H}^{0}$  \n",
      "\n",
      "Use the following conventions for the symbols (You should also obey the conventions in all my previous prompts if you encounter undefined symbols. If you find it is never defined or has conflicts in the conventions, you should stop and let me know):  \n",
      "$\\psi_{\\tau,l}(r)$ : electron annihilation operator at valley index $\\tau$ and layer index $l$  \n",
      "$\\vec{\\psi}(r)$ : spinor containing all annihilation operators $\\psi_{\\tau,l}(r)$ following the same order of $H^{0}(r)$  \n",
      "$H^{0}(r)$ : single-particle noninteracting Hamiltonian in the real space  \n",
      "$\\hat{H}^{0}$ : total noninteracting Hamiltonian in the second quantized form \n",
      "\n",
      "===  \n",
      "EXAMPLE:  \n",
      "For a Hamiltonian $H$, where $H=\\begin{pmatrix} H_{a,a} & H_{a,b} \\\\ H_{b,a} & H_{b,b} \\end{pmatrix}$ and the order of basis is (a), (b), we can construct the creation operators $\\psi_a^\\dagger$  and $\\psi_b^\\dagger$, and the annihilation operator $\\psi_a$  and $\\psi_b$.  \n",
      "The corresponding second quantized form is $\\hat{H}=\\vec{\\psi}^\\dagger H \\vec{\\psi}$, where $\\vec{\\psi}=\\begin{pmatrix} \\psi_a \\\\ \\psi_b \\end{pmatrix}$ and $\\vec{\\psi}^\\dagger=\\begin{pmatrix} \\psi_a^\\dagger & \\psi_b^\\dagger \\end{pmatrix}$.\n"
     ]
    }
   ],
   "source": [
    "print_save(generate_prompt(kwargs,prompt_dict=prompt_dict())['content'])"
   ]
  },
  {
   "cell_type": "code",
   "execution_count": 75,
   "metadata": {},
   "outputs": [],
   "source": [
    "user_msg.append(generate_prompt(kwargs,prompt_dict=prompt_dict))"
   ]
  },
  {
   "cell_type": "code",
   "execution_count": 76,
   "metadata": {},
   "outputs": [],
   "source": [
    "messages=assembly_message(sys_msg,user_msg,AI_msg)"
   ]
  },
  {
   "cell_type": "code",
   "execution_count": 77,
   "metadata": {},
   "outputs": [
    {
     "ename": "InvalidRequestError",
     "evalue": "This model's maximum context length is 8192 tokens. However, your messages resulted in 9798 tokens. Please reduce the length of the messages.",
     "output_type": "error",
     "traceback": [
      "\u001b[0;31m---------------------------------------------------------------------------\u001b[0m",
      "\u001b[0;31mInvalidRequestError\u001b[0m                       Traceback (most recent call last)",
      "\u001b[0;32m/tmp/ipykernel_24579/1103704379.py\u001b[0m in \u001b[0;36m<module>\u001b[0;34m\u001b[0m\n\u001b[0;32m----> 1\u001b[0;31m \u001b[0mrs\u001b[0m \u001b[0;34m=\u001b[0m \u001b[0mopenai\u001b[0m\u001b[0;34m.\u001b[0m\u001b[0mChatCompletion\u001b[0m\u001b[0;34m.\u001b[0m\u001b[0mcreate\u001b[0m\u001b[0;34m(\u001b[0m\u001b[0mmessages\u001b[0m\u001b[0;34m=\u001b[0m\u001b[0mmessages\u001b[0m\u001b[0;34m,\u001b[0m \u001b[0;34m**\u001b[0m\u001b[0mmodel_params\u001b[0m\u001b[0;34m)\u001b[0m\u001b[0;34m\u001b[0m\u001b[0;34m\u001b[0m\u001b[0m\n\u001b[0m\u001b[1;32m      2\u001b[0m \u001b[0;34m\u001b[0m\u001b[0m\n\u001b[1;32m      3\u001b[0m \u001b[0mMarkdown\u001b[0m\u001b[0;34m(\u001b[0m\u001b[0mrs\u001b[0m\u001b[0;34m[\u001b[0m\u001b[0;34m'choices'\u001b[0m\u001b[0;34m]\u001b[0m\u001b[0;34m[\u001b[0m\u001b[0;36m0\u001b[0m\u001b[0;34m]\u001b[0m\u001b[0;34m[\u001b[0m\u001b[0;34m'message'\u001b[0m\u001b[0;34m]\u001b[0m\u001b[0;34m.\u001b[0m\u001b[0mcontent\u001b[0m\u001b[0;34m)\u001b[0m\u001b[0;34m\u001b[0m\u001b[0;34m\u001b[0m\u001b[0m\n",
      "\u001b[0;32m~/anaconda3/lib/python3.8/site-packages/openai/api_resources/chat_completion.py\u001b[0m in \u001b[0;36mcreate\u001b[0;34m(cls, *args, **kwargs)\u001b[0m\n\u001b[1;32m     23\u001b[0m         \u001b[0;32mwhile\u001b[0m \u001b[0;32mTrue\u001b[0m\u001b[0;34m:\u001b[0m\u001b[0;34m\u001b[0m\u001b[0;34m\u001b[0m\u001b[0m\n\u001b[1;32m     24\u001b[0m             \u001b[0;32mtry\u001b[0m\u001b[0;34m:\u001b[0m\u001b[0;34m\u001b[0m\u001b[0;34m\u001b[0m\u001b[0m\n\u001b[0;32m---> 25\u001b[0;31m                 \u001b[0;32mreturn\u001b[0m \u001b[0msuper\u001b[0m\u001b[0;34m(\u001b[0m\u001b[0;34m)\u001b[0m\u001b[0;34m.\u001b[0m\u001b[0mcreate\u001b[0m\u001b[0;34m(\u001b[0m\u001b[0;34m*\u001b[0m\u001b[0margs\u001b[0m\u001b[0;34m,\u001b[0m \u001b[0;34m**\u001b[0m\u001b[0mkwargs\u001b[0m\u001b[0;34m)\u001b[0m\u001b[0;34m\u001b[0m\u001b[0;34m\u001b[0m\u001b[0m\n\u001b[0m\u001b[1;32m     26\u001b[0m             \u001b[0;32mexcept\u001b[0m \u001b[0mTryAgain\u001b[0m \u001b[0;32mas\u001b[0m \u001b[0me\u001b[0m\u001b[0;34m:\u001b[0m\u001b[0;34m\u001b[0m\u001b[0;34m\u001b[0m\u001b[0m\n\u001b[1;32m     27\u001b[0m                 \u001b[0;32mif\u001b[0m \u001b[0mtimeout\u001b[0m \u001b[0;32mis\u001b[0m \u001b[0;32mnot\u001b[0m \u001b[0;32mNone\u001b[0m \u001b[0;32mand\u001b[0m \u001b[0mtime\u001b[0m\u001b[0;34m.\u001b[0m\u001b[0mtime\u001b[0m\u001b[0;34m(\u001b[0m\u001b[0;34m)\u001b[0m \u001b[0;34m>\u001b[0m \u001b[0mstart\u001b[0m \u001b[0;34m+\u001b[0m \u001b[0mtimeout\u001b[0m\u001b[0;34m:\u001b[0m\u001b[0;34m\u001b[0m\u001b[0;34m\u001b[0m\u001b[0m\n",
      "\u001b[0;32m~/anaconda3/lib/python3.8/site-packages/openai/api_resources/abstract/engine_api_resource.py\u001b[0m in \u001b[0;36mcreate\u001b[0;34m(cls, api_key, api_base, api_type, request_id, api_version, organization, **params)\u001b[0m\n\u001b[1;32m    151\u001b[0m         )\n\u001b[1;32m    152\u001b[0m \u001b[0;34m\u001b[0m\u001b[0m\n\u001b[0;32m--> 153\u001b[0;31m         response, _, api_key = requestor.request(\n\u001b[0m\u001b[1;32m    154\u001b[0m             \u001b[0;34m\"post\"\u001b[0m\u001b[0;34m,\u001b[0m\u001b[0;34m\u001b[0m\u001b[0;34m\u001b[0m\u001b[0m\n\u001b[1;32m    155\u001b[0m             \u001b[0murl\u001b[0m\u001b[0;34m,\u001b[0m\u001b[0;34m\u001b[0m\u001b[0;34m\u001b[0m\u001b[0m\n",
      "\u001b[0;32m~/anaconda3/lib/python3.8/site-packages/openai/api_requestor.py\u001b[0m in \u001b[0;36mrequest\u001b[0;34m(self, method, url, params, headers, files, stream, request_id, request_timeout)\u001b[0m\n\u001b[1;32m    296\u001b[0m             \u001b[0mrequest_timeout\u001b[0m\u001b[0;34m=\u001b[0m\u001b[0mrequest_timeout\u001b[0m\u001b[0;34m,\u001b[0m\u001b[0;34m\u001b[0m\u001b[0;34m\u001b[0m\u001b[0m\n\u001b[1;32m    297\u001b[0m         )\n\u001b[0;32m--> 298\u001b[0;31m         \u001b[0mresp\u001b[0m\u001b[0;34m,\u001b[0m \u001b[0mgot_stream\u001b[0m \u001b[0;34m=\u001b[0m \u001b[0mself\u001b[0m\u001b[0;34m.\u001b[0m\u001b[0m_interpret_response\u001b[0m\u001b[0;34m(\u001b[0m\u001b[0mresult\u001b[0m\u001b[0;34m,\u001b[0m \u001b[0mstream\u001b[0m\u001b[0;34m)\u001b[0m\u001b[0;34m\u001b[0m\u001b[0;34m\u001b[0m\u001b[0m\n\u001b[0m\u001b[1;32m    299\u001b[0m         \u001b[0;32mreturn\u001b[0m \u001b[0mresp\u001b[0m\u001b[0;34m,\u001b[0m \u001b[0mgot_stream\u001b[0m\u001b[0;34m,\u001b[0m \u001b[0mself\u001b[0m\u001b[0;34m.\u001b[0m\u001b[0mapi_key\u001b[0m\u001b[0;34m\u001b[0m\u001b[0;34m\u001b[0m\u001b[0m\n\u001b[1;32m    300\u001b[0m \u001b[0;34m\u001b[0m\u001b[0m\n",
      "\u001b[0;32m~/anaconda3/lib/python3.8/site-packages/openai/api_requestor.py\u001b[0m in \u001b[0;36m_interpret_response\u001b[0;34m(self, result, stream)\u001b[0m\n\u001b[1;32m    698\u001b[0m         \u001b[0;32melse\u001b[0m\u001b[0;34m:\u001b[0m\u001b[0;34m\u001b[0m\u001b[0;34m\u001b[0m\u001b[0m\n\u001b[1;32m    699\u001b[0m             return (\n\u001b[0;32m--> 700\u001b[0;31m                 self._interpret_response_line(\n\u001b[0m\u001b[1;32m    701\u001b[0m                     \u001b[0mresult\u001b[0m\u001b[0;34m.\u001b[0m\u001b[0mcontent\u001b[0m\u001b[0;34m.\u001b[0m\u001b[0mdecode\u001b[0m\u001b[0;34m(\u001b[0m\u001b[0;34m\"utf-8\"\u001b[0m\u001b[0;34m)\u001b[0m\u001b[0;34m,\u001b[0m\u001b[0;34m\u001b[0m\u001b[0;34m\u001b[0m\u001b[0m\n\u001b[1;32m    702\u001b[0m                     \u001b[0mresult\u001b[0m\u001b[0;34m.\u001b[0m\u001b[0mstatus_code\u001b[0m\u001b[0;34m,\u001b[0m\u001b[0;34m\u001b[0m\u001b[0;34m\u001b[0m\u001b[0m\n",
      "\u001b[0;32m~/anaconda3/lib/python3.8/site-packages/openai/api_requestor.py\u001b[0m in \u001b[0;36m_interpret_response_line\u001b[0;34m(self, rbody, rcode, rheaders, stream)\u001b[0m\n\u001b[1;32m    761\u001b[0m         \u001b[0mstream_error\u001b[0m \u001b[0;34m=\u001b[0m \u001b[0mstream\u001b[0m \u001b[0;32mand\u001b[0m \u001b[0;34m\"error\"\u001b[0m \u001b[0;32min\u001b[0m \u001b[0mresp\u001b[0m\u001b[0;34m.\u001b[0m\u001b[0mdata\u001b[0m\u001b[0;34m\u001b[0m\u001b[0;34m\u001b[0m\u001b[0m\n\u001b[1;32m    762\u001b[0m         \u001b[0;32mif\u001b[0m \u001b[0mstream_error\u001b[0m \u001b[0;32mor\u001b[0m \u001b[0;32mnot\u001b[0m \u001b[0;36m200\u001b[0m \u001b[0;34m<=\u001b[0m \u001b[0mrcode\u001b[0m \u001b[0;34m<\u001b[0m \u001b[0;36m300\u001b[0m\u001b[0;34m:\u001b[0m\u001b[0;34m\u001b[0m\u001b[0;34m\u001b[0m\u001b[0m\n\u001b[0;32m--> 763\u001b[0;31m             raise self.handle_error_response(\n\u001b[0m\u001b[1;32m    764\u001b[0m                 \u001b[0mrbody\u001b[0m\u001b[0;34m,\u001b[0m \u001b[0mrcode\u001b[0m\u001b[0;34m,\u001b[0m \u001b[0mresp\u001b[0m\u001b[0;34m.\u001b[0m\u001b[0mdata\u001b[0m\u001b[0;34m,\u001b[0m \u001b[0mrheaders\u001b[0m\u001b[0;34m,\u001b[0m \u001b[0mstream_error\u001b[0m\u001b[0;34m=\u001b[0m\u001b[0mstream_error\u001b[0m\u001b[0;34m\u001b[0m\u001b[0;34m\u001b[0m\u001b[0m\n\u001b[1;32m    765\u001b[0m             )\n",
      "\u001b[0;31mInvalidRequestError\u001b[0m: This model's maximum context length is 8192 tokens. However, your messages resulted in 9798 tokens. Please reduce the length of the messages."
     ]
    }
   ],
   "source": [
    "rs = openai.ChatCompletion.create(messages=messages, **model_params)\n",
    "\n",
    "Markdown(rs['choices'][0]['message'].content)"
   ]
  },
  {
   "cell_type": "code",
   "execution_count": null,
   "metadata": {},
   "outputs": [],
   "source": []
  },
  {
   "cell_type": "code",
   "execution_count": null,
   "metadata": {},
   "outputs": [],
   "source": [
    "AI_msg.append(dict(rs['choices'][0]['message']))"
   ]
  },
  {
   "cell_type": "code",
   "execution_count": null,
   "metadata": {},
   "outputs": [
    {
     "data": {
      "text/plain": [
       "'The intralayer potential for the top layer is $\\\\Delta_t(r) = V_{zt}$.\\n\\nThe intralayer potential for the bottom layer is $\\\\Delta_b(r) = 2V_b\\\\sum_{j=1,3,5} \\\\cos(g_j \\\\cdot r  +\\\\psi_b)$.\\n\\nThe interlayer tunneling at valley $\\\\tau$ is $\\\\Delta_{T,\\\\tau}(r) = \\\\tau w(1+\\\\omega^{\\\\tau}e^{i\\\\tau g_2 \\\\cdot r} + \\\\omega^{2\\\\tau} e^{i\\\\tau g_3 \\\\cdot r})$.\\n\\nSubstituting these into the potential Hamiltonian, we get:\\n\\n$H_{Potential}(r) = \\\\begin{pmatrix} 2V_b\\\\sum_{j=1,3,5} \\\\cos(g_j \\\\cdot r  +\\\\psi_b) & w(1+\\\\omega e^{i g_2 \\\\cdot r} + \\\\omega^2 e^{i g_3 \\\\cdot r}) & 0 & 0 \\\\\\\\ w(1+\\\\omega^{-1}e^{-i g_2 \\\\cdot r} + \\\\omega^{-2} e^{-i g_3 \\\\cdot r}) & V_{zt} & 0 & 0 \\\\\\\\ 0 & 0 & 2V_b\\\\sum_{j=1,3,5} \\\\cos(g_j \\\\cdot r  +\\\\psi_b) & -w(1+\\\\omega e^{i g_2 \\\\cdot r} + \\\\omega^2 e^{i g_3 \\\\cdot r}) \\\\\\\\ 0 & 0 & -w(1+\\\\omega^{-1}e^{-i g_2 \\\\cdot r} + \\\\omega^{-2} e^{-i g_3 \\\\cdot r}) & V_{zt} \\\\end{pmatrix}$'"
      ]
     },
     "metadata": {},
     "output_type": "display_data"
    }
   ],
   "source": [
    "rs['choices'][0]['message'].content"
   ]
  },
  {
   "cell_type": "code",
   "execution_count": null,
   "metadata": {},
   "outputs": [],
   "source": [
    "kwargs_list.append(kwargs)"
   ]
  },
  {
   "cell_type": "code",
   "execution_count": null,
   "metadata": {},
   "outputs": [],
   "source": []
  },
  {
   "cell_type": "markdown",
   "metadata": {},
   "source": [
    "## Convert from single-particle to second-quantized form, return in summation (expand the matrix)"
   ]
  },
  {
   "cell_type": "code",
   "execution_count": 94,
   "metadata": {},
   "outputs": [],
   "source": [
    "kwargs = {\n",
    "    'task':'Convert from single-particle to second-quantized form, return in summation (expand the matrix)',\n",
    "    'second_nonint_symbol':  r'$\\hat{H}^{0}$',\n",
    "    'matrix_element_symbol': r'$H^{0}_{\\tau_1,l_1,\\tau_2,l_2}(r)$',\n",
    "    'basis_symbol': r'$\\psi_{\\tau,l}(r)$',\n",
    "    'def_var': r'''$H^{0}_{\\tau_1,l_1,\\tau_2,l_2}(r)$ : the matrix element of single-particle noninteracting Hamiltonian in the real space  ''',\n",
    "    'answer':''\n",
    "}\n"
   ]
  },
  {
   "cell_type": "code",
   "execution_count": 95,
   "metadata": {},
   "outputs": [
    {
     "name": "stdout",
     "output_type": "stream",
     "text": [
      "You will be instructed to expand the second-quantized form Hamiltonian $\\hat{H}^{0}$ using $H^{0}_{\\tau_1,l_1,\\tau_2,l_2}(r)$ and $\\psi_{\\tau,l}(r)$. You should follow the EXAMPLE below to expand the Hamiltonian.  \n",
      "You should use any previous knowledge to simplify it. For example, if any term of $H^{0}_{\\tau_1,l_1,\\tau_2,l_2}(r)$ is zero, you should remove it from the summation.  \n",
      "Return the expanded form of $\\hat{H}^{0}$ after simplication.  \n",
      "\n",
      "Use the following conventions for the symbols (You should also obey the conventions in all my previous prompts if you encounter undefined symbols. If you find it is never defined or has conflicts in the conventions, you should stop and let me know):  \n",
      "$H^{0}_{\\tau_1,l_1,\\tau_2,l_2}(r)$ : the matrix element of single-particle noninteracting Hamiltonian in the real space  \n",
      "\n",
      "===  \n",
      "EXAMPLE:  \n",
      "For a $\\hat{H}=\\vec{\\psi}^\\dagger H \\vec{\\psi}$, where $\\vec{\\psi}=\\begin{pmatrix} \\psi_a \\\\ \\psi_b \\end{pmatrix}$ and $\\vec{\\psi}^\\dagger=\\begin{pmatrix} \\psi_a^\\dagger & \\psi_b^\\dagger \\end{pmatrix}$, we can expand it as  $\\hat{H}=\\sum_{i,j=\\{a,b\\}} \\psi_i^\\dagger H_{i,j} \\psi_j$.\n"
     ]
    }
   ],
   "source": [
    "print_save(generate_prompt(kwargs,prompt_dict=prompt_dict())['content'])"
   ]
  },
  {
   "cell_type": "markdown",
   "metadata": {},
   "source": [
    "## Convert noninteracting Hamiltonian in real space to momentum space (continuum version)"
   ]
  },
  {
   "cell_type": "code",
   "execution_count": 105,
   "metadata": {},
   "outputs": [],
   "source": [
    "kwargs = {\n",
    "    'task':'Convert noninteracting Hamiltonian in real space to momentum space (continuum version)',\n",
    "    'real_creation_op': r'$\\psi_{\\tau,l}^\\dagger(r)$',\n",
    "    'momentum_creation_op': r'$c_{\\tau,l}^\\dagger(k)$',\n",
    "    'def_FT': r'$c_{\\tau,l}^\\dagger(k)= \\frac{1}{\\sqrt{V}} \\int dr \\psi_{\\tau,l}^\\dagger(r) e^{i k \\cdot r}$',\n",
    "    'real_var': '$r$',\n",
    "    'entire_real|fBZ': 'entire real space',\n",
    "    'second_nonint_symbol':  r'$\\hat{H}^{0}$',\n",
    "    'def_var': r'''$c_{l,\\tau}(k)$ : electron annihilation operator at momentum $k$, layer $l$, and valley $\\tau$  \n",
    "$c_{l,\\tau}^\\dagger(k)$ : electron creation operator at momentum $k$, layer $l$, and valley $\\tau$  \n",
    "$V$ : area of unit cell in the real space  ''',\n",
    "    'answer':''\n",
    "}\n"
   ]
  },
  {
   "cell_type": "code",
   "execution_count": 106,
   "metadata": {},
   "outputs": [
    {
     "name": "stdout",
     "output_type": "stream",
     "text": [
      "You will be instructed to convert the total noninteracting Hamiltonian in the second quantized form from the basis in real space to the basis by momentum space.  \n",
      "To do that, you should apply the Fourier transformation to $\\psi_{\\tau,l}^\\dagger(r)$ in the real space to the $c_{\\tau,l}^\\dagger(k)$ in the momentum space, which is defined as $c_{\\tau,l}^\\dagger(k)= \\frac{1}{\\sqrt{V}} \\int dr \\psi_{\\tau,l}^\\dagger(r) e^{i k \\cdot r}$, where $r$ is integrated over the entire real space. You should follow the EXAMPLE below to apply the Fourier transformation.  \n",
      "Express the total noninteracting Hamiltonian $\\hat{H}^{0}$ in terms of $c_{\\tau,l}^\\dagger(k)$. Simplify any summation index if possible.  \n",
      "\n",
      "Use the following conventions for the symbols (You should also obey the conventions in all my previous prompts if you encounter undefined symbols. If you find it is never defined or has conflicts in the conventions, you should stop and let me know):  \n",
      "$c_{l,\\tau}(k)$ : electron annihilation operator at momentum $k$, layer $l$, and valley $\\tau$  \n",
      "$c_{l,\\tau}^\\dagger(k)$ : electron creation operator at momentum $k$, layer $l$, and valley $\\tau$  \n",
      "$V$ : area of unit cell in the real space  \n",
      "\n",
      "===  \n",
      "EXAMPLE:  \n",
      "Write a Hamiltonian $\\hat{H}$ in the second quantized form, $\\hat{H}=\\int dr \\psi(r)^\\dagger H(r) \\psi(r)$, where $r$ is integrated over the entire real space.  \n",
      "Define the Fourier transformation $c^\\dagger(k)=\\frac{1}{\\sqrt{V}} \\int \\psi^\\dagger(r) e^{i k \\cdot r} dr$, where $r$ is integrated over the entire real space, and $V$ is the area of the unit cell in the real space.  \n",
      "This leads to the inverse Fourier transformation $\\psi^\\dagger(r) = \\frac{1}{\\sqrt{V}} \\sum_k c^\\dagger(k) e^{-i k \\cdot r}$, where $k$ is summed over the extended Brillouin zone (i.e., the entire momentum space), $\\Omega$ is the area of Brillouin zone in the momentum space.  \n",
      "Thus, substitute $\\psi^\\dagger(r)$ and $\\psi(r)$ into $\\hat{H}$, we get  \n",
      "$$\\hat{H} = \\int dr \\frac{1}{\\sqrt{V}} \\sum_{k_1} c^\\dagger(k_1) e^{-i k_1 \\cdot r} H(r) \\frac{1}{\\sqrt{V}} \\sum_{k_2} c(k_2) e^{i k_2 \\cdot r} =\\sum_{k_1,k_2} c^\\dagger(k_1) \\frac{1}{V} \\int dr e^{-i (k_1-k_2)\\cdot r} H(r) c(k_2) = \\sum_{k_1,k_2} c^\\dagger(k_1) H(k_1,k_2) c(k_2)$$  \n",
      ", where we define the Fourier transformation of $H(r)$ as $H(k_1,k_2)=\\frac{1}{V} \\int dr e^{-i (k_1-k_2)\\cdot r} H(r)$.\n"
     ]
    }
   ],
   "source": [
    "print_save(generate_prompt(kwargs,prompt_dict=prompt_dict())['content'])"
   ]
  },
  {
   "cell_type": "markdown",
   "metadata": {},
   "source": [
    "## Particle-hole transformation"
   ]
  },
  {
   "cell_type": "code",
   "execution_count": 96,
   "metadata": {},
   "outputs": [],
   "source": [
    "kwargs = {\n",
    "    'task':'Particle-hole transformation',\n",
    "    'hole_op': r'$b_{l,\\tau}(k)$',\n",
    "    'particle_op': r'$c_{l,\\tau}^\\dagger(k)$',\n",
    "    'particle_creation_op': r'$c_{l,\\tau}$',\n",
    "    'hole_creation_op': r'$b_{l,\\tau}(k)^\\dagger$',\n",
    "    'particle_annihilation_op': r'$c_{l,\\tau}^\\dagger$',\n",
    "    'hole_annihilation_op': r'$b_{l,\\tau}(k)$',\n",
    "    'second_nonint_symbol':  r'$\\hat{H}^{0}$',\n",
    "\n",
    "    'def_var': r'''$b_{l,\\tau}(k)$ : hole annihilation operator at momentum $k$, layer $l$, and valley $\\tau$''',\n",
    "    'answer':''\n",
    "}\n"
   ]
  },
  {
   "cell_type": "code",
   "execution_count": 97,
   "metadata": {},
   "outputs": [
    {
     "name": "stdout",
     "output_type": "stream",
     "text": [
      "You will be instructed to perform a particle-hole transformation.  \n",
      "Define a hole operator, $b_{l,\\tau}(k)$, which equals $c_{l,\\tau}^\\dagger(k)$.  \n",
      "You should replace $c_{l,\\tau}$ with $b_{l,\\tau}(k)^\\dagger$, and $c_{l,\\tau}^\\dagger$ with $b_{l,\\tau}(k)$. You should follow the EXAMPLE below to apply the particle-hole transformation.\n",
      "Return the $\\hat{H}^{0}$ in the hole operators.\n",
      "\n",
      "Use the following conventions for the symbols (You should also obey the conventions in all my previous prompts if you encounter undefined symbols. If you find it is never defined or has conflicts in the conventions, you should stop and let me know):  \n",
      "$b_{l,\\tau}(k)$ : hole annihilation operator at momentum $k$, layer $l$, and valley $\\tau$\n",
      "\n",
      "===  \n",
      "EXAMPLE:  \n",
      "Give a Hamiltonian  $\\hat{H}=\\sum_{k_1,k_2} c^\\dagger(k_1) h(k_1,k_2) c(k_2)$ , and the particle-hole transformation as $b(k)=c^\\dagger(k)$. The transformed Hamiltonian is $\\hat{H}=\\sum_{k_1,k_2} b(k_1) h(k_1,k_2) b^\\dagger(k_2)$\n"
     ]
    }
   ],
   "source": [
    "print_save(generate_prompt(kwargs,prompt_dict=prompt_dict())['content'])"
   ]
  },
  {
   "cell_type": "markdown",
   "metadata": {},
   "source": [
    "## Simplify the Hamiltonian in the particle-hole basis"
   ]
  },
  {
   "cell_type": "code",
   "execution_count": 102,
   "metadata": {},
   "outputs": [],
   "source": [
    "kwargs = {\n",
    "    'task':'Simplify the Hamiltonian in the particle-hole basis',\n",
    "    'second_nonint_symbol':  r'$\\hat{H}^{0}$',\n",
    "    'hole_op': r'$b_{l,\\tau}(k)$',\n",
    "    'index_1': r'$l_1$/$k_1$',\n",
    "    'index_2': r'$l_2$/$k_2$',\n",
    "    'op': r'$b$',\n",
    "    'Ham_op': r'$H$',\n",
    "    'def_var': r'''$\\delta_{i,j}$ : Kronecker delta function, take the value of 1 if $i=j$, and 0 otherwise.  \n",
    "$`[b_i, b_j]_{+}`$ : anticommuting relation, i.e., $`[b_i, b_j]_+= b_i b_j +b_j b_i`$  \n",
    "$\\hat{H}^{0,final}$ : the final version of noninteracting Hamiltonian $\\hat{H}^{0}$ in the hole basis after simplification.''',\n",
    "    'answer':''\n",
    "}\n"
   ]
  },
  {
   "cell_type": "code",
   "execution_count": 104,
   "metadata": {},
   "outputs": [
    {
     "name": "stdout",
     "output_type": "stream",
     "text": [
      "You will be instructed to simplify the $\\hat{H}^{0}$ in the hole basis.  \n",
      "You should use canonical commutator relation for fermions to reorder the hole operator to the normal order. Normal order means that creation operators always appear before the annihilation operators.  You should follow the EXAMPLE below to simplify it to the normal order.  \n",
      "Express the $\\hat{H}^{0}$ in the normal order of $b_{l,\\tau}(k)$ and also make $l_1$/$k_1$ always appear before $l_2$/$k_2$ in the index of $b$ and $H$.  \n",
      "\n",
      "Use the following conventions for the symbols (You should also obey the conventions in all my previous prompts if you encounter undefined symbols. If you find it is never defined or has conflicts in the conventions, you should stop and let me know):  \n",
      "$\\delta_{i,j}$ : Kronecker delta function, take the value of 1 if $i=j$, and 0 otherwise.  \n",
      "$`[b_i, b_j]_{+}`$ : anticommuting relation, i.e., $`[b_i, b_j]_+= b_i b_j +b_j b_i`$  \n",
      "$\\hat{H}^{0,final}$ : the final version of noninteracting Hamiltonian $\\hat{H}^{0}$ in the hole basis after simplification.\n",
      "\n",
      "===\n",
      "EXAMPLE:  \n",
      "For $\\hat{H}^{0}= \\sum_{i,j} b_i H_{i,j} b_j^\\dagger$, where $b_i$ satisfies fermion statistics (anticommuting to its self-adjoint operator).  \n",
      "This gives $`[b_i, b_j^\\dagger]_{+} = \\delta_{i,j}`$, which means $b_i b_j^\\dagger=\\delta_{i,j}-b_j^\\dagger b_i$.  \n",
      "Substitute it into $\\hat{H}^{0}$, we have $\\hat{H}^{0}=\\sum_{i,j} (\\delta_{i,j}-b_j^\\dagger b_i) H_{i,j}=\\sum_{i,j} \\delta_{i,j} H_{i,j} - \\sum_{i,j}b_j^\\dagger b_i H_{i,j}=\\sum_i H_{i,i} - \\sum_{i,j}b_j^\\dagger b_i H_{i,j}$.  \n",
      "The first term is simply $\\sum_i H_{i,i}$ by summing over the index $j$ due to $\\delta_{i,j}$.\n",
      "The second term is $-\\sum_{i,j}b_j^\\dagger b_i H_{i,j}$.  \n",
      "Relabeling the index of $i$ and $j$ by swapping them to make it consistent with the original order of index (namely, $i$ appears before $j$ in the index of $b$ and $H$), it becomes $-\\sum_{i,j}b_i^\\dagger H_{j,i} b_j$.\n",
      "Finally, to fix the order of the index in $H$ such that $i$ appears before $j$, we notice that $`H_{j,i}=(H_{i,j})^*`$, where $`^*`$ means complex conjugate, because the Hamiltonian is Hermitian.  \n",
      "Thus, we end up in $\\hat{H}^{0}=\\sum_{i,j} b_i H_{i,j} b_j^\\dagger=\\sum_i H_{i,i}-\\sum_{i,j}b_i^\\dagger (H_{i,j})^* b_j$\n"
     ]
    }
   ],
   "source": [
    "print_save(generate_prompt(kwargs,prompt_dict=prompt_dict())['content'])"
   ]
  },
  {
   "cell_type": "markdown",
   "metadata": {},
   "source": [
    "## Construct interaction Hamiltonian (momentum space)"
   ]
  },
  {
   "cell_type": "code",
   "execution_count": 109,
   "metadata": {},
   "outputs": [],
   "source": [
    "kwargs = {\n",
    "    'task':'Construct interaction Hamiltonian (momentum space)',\n",
    "    'second_int_symbol':  r'$\\hat{H}^{int}$',\n",
    "    'index': r'valley index $\\tau_i$ and layer index $l_i$',\n",
    "    'momentum': r'momentum $k_i$',\n",
    "    '$k_i$|$k_i$ and $b_i$': r'$k_i$',\n",
    "    'interaction': r'the dual-gate-screened Coulomb interaction',\n",
    "    'int_form': r'$2\\pi e^2\\tanh(|q| d)/(\\epsilon |q|)$',\n",
    "    'normalization_factor': r'$\\frac{1}{2 V}$',\n",
    "    'op': r'$b_{l,\\tau}(k)$',\n",
    "    'def_var': r'''$d$ : distance between dual gates  \n",
    "$\\epsilon$ : dielectric constant  \n",
    "$V(q)$ : dual-gate-screened Coulomb interaction in the momentum space''',\n",
    "    'answer':''\n",
    "}\n"
   ]
  },
  {
   "cell_type": "code",
   "execution_count": 110,
   "metadata": {},
   "outputs": [
    {
     "name": "stdout",
     "output_type": "stream",
     "text": [
      "You will be instructed to construct the interaction part of the Hamiltonian $\\hat{H}^{int}$ in the momentum space.  \n",
      "The interaction Hamiltonian is a product of four parts.\n",
      "The first part is the product of four operators with two creation and two annihilation operators following the normal order, namely, creation operators are before annihilation operators. You should follow the order of $1,2,2,1$ for the valley index $\\tau_i$ and layer index $l_i$, and $1,2,3,4$ for the momentum $k_i$. \n",
      "The second part is the constraint of total momentum conservation, namely the total momentum of all creation operators should be the same as that of all annihilation operators. For each operator, the momentum is $k_i$.  \n",
      "The third part is the interaction form. You should use the dual-gate-screened Coulomb interaction with $V(q)=$2\\pi e^2\\tanh(|q| d)/(\\epsilon |q|)$$, where $q$ is the transferred total momentum between a creation operator and an annilation operator with the same valley index $\\tau_i$ and layer index $l_i$, namely $q=k_1-k_4$.  \n",
      "The fourth part is the normalization factor, you should use $\\frac{1}{2 V}$ here.\n",
      "Finally, the summation should be running over all valley index $\\tau_i$ and layer index $l_i$, and momentum $k_i$\n",
      "Return the interaction term $\\hat{H}^{int}$ in terms of $b_{l,\\tau}(k)$ and $V(q)$ (with $q$ expressed in terms of momentum $k_i$).  \n",
      "\n",
      "Use the following conventions for the symbols (You should also obey the conventions in all my previous prompts if you encounter undefined symbols. If you find it is never defined or has conflicts in the conventions, you should stop and let me know):  \n",
      "$d$ : distance between dual gates  \n",
      "$\\epsilon$ : dielectric constant  \n",
      "$V(q)$ : dual-gate-screened Coulomb interaction in the momentum space\n"
     ]
    }
   ],
   "source": [
    "print_save(generate_prompt(kwargs,prompt_dict=prompt_dict())['content'])"
   ]
  },
  {
   "cell_type": "markdown",
   "metadata": {},
   "source": [
    "## Wick's theorem"
   ]
  },
  {
   "cell_type": "code",
   "execution_count": 119,
   "metadata": {},
   "outputs": [],
   "source": [
    "kwargs = {\n",
    "    'task':\"Wick's theorem\",\n",
    "    'second_int_symbol':  r'$\\hat{H}^{int}$',\n",
    "    'HF_symbol': r'$\\hat{H}^{int,HF}$',\n",
    "    'def_var': r'''$\\langle b_{l_1,\\tau_1}^\\dagger(k_1) b_{l_2,\\tau_2}(k_2) \\rangle$ : expectation of $b_{l_1,\\tau_1}^\\dagger(k_1) b_{l_2,\\tau_2}(k_2)$ over the many-body ground states.  \n",
    "$\\hat{H}^{int,HF}$ : Interaction term after Hartree-Fock approximation''',\n",
    "    'answer':''\n",
    "}\n"
   ]
  },
  {
   "cell_type": "code",
   "execution_count": 121,
   "metadata": {},
   "outputs": [
    {
     "name": "stdout",
     "output_type": "stream",
     "text": [
      "You will be instructed to perform a Hartree-Fock approximation to expand the interaction term $\\hat{H}^{int}$.  \n",
      "You should use Wick's theorem to expand the four-fermion term in $\\hat{H}^{int}$ into quadratic terms. You should strictly follow the EXAMPLE below to expand using Wick's theorem, select the correct EXAMPLE by noticing the order of four term product with and without ${}^dagger$, and be extremely cautious about the order of the index and sign before each term.  \n",
      "You should only preserve the normal terms. Here, the normal terms mean the product of a creation operator and an annihilation operator.  \n",
      "Return the expanded interaction term after Hartree-Fock approximation $\\hat{H}^{int,HF}$.\n",
      "\n",
      "Use the following conventions for the symbols (You should also obey the conventions in all my previous prompts if you encounter undefined symbols. If you find it is never defined or has conflicts in the conventions, you should stop and let me know):  \n",
      "$\\langle b_{l_1,\\tau_1}^\\dagger(k_1) b_{l_2,\\tau_2}(k_2) \\rangle$ : expectation of $b_{l_1,\\tau_1}^\\dagger(k_1) b_{l_2,\\tau_2}(k_2)$ over the many-body ground states.  \n",
      "$\\hat{H}^{int,HF}$ : Interaction term after Hartree-Fock approximation\n",
      "\n",
      "===\n",
      "EXAMPLE 1:  \n",
      "For a four-fermion term $a_1^\\dagger a_2^\\dagger a_3 a_4$, using Wick's theorem and preserving only the normal terms. this is expanded as $a_1^\\dagger a_2^\\dagger a_3 a_4 = \\langle a_1^\\dagger a_4 \\rangle a_2^\\dagger a_3 + \\langle a_2^\\dagger a_3 \\rangle a_1^\\dagger a_4 - \\langle a_1^\\dagger a_4 \\rangle \\langle a_2^\\dagger a_3\\rangle - \\langle a_1^\\dagger a_3 \\rangle a_2^\\dagger a_4 - \\langle a_2^\\dagger a_4 \\rangle a_1^\\dagger a_3 + \\langle a_1^\\dagger a_3\\rangle \\langle a_2^\\dagger a_4 \\rangle$  \n",
      "Be cautious about the order of the index and sign before each term here.\n",
      "\n",
      "EXAMPLE 2:  \n",
      "For a four-fermion term $a_1^\\dagger a_2 a_3^\\dagger a_4$, using Wick's theorem and preserving only the normal terms. this is expanded as $a_1^\\dagger a_2 a_3^\\dagger a_4 = \\langle a_1^\\dagger a_2 \\rangle a_3^\\dagger a_4 + \\langle a_3^\\dagger a_4 \\rangle a_1^\\dagger a_2 - \\langle a_1^\\dagger a_2 \\rangle \\langle a_3^\\dagger a_4\\rangle - \\langle a_1^\\dagger a_4 \\rangle a_3^\\dagger a_2 - \\langle a_3^\\dagger a_2 \\rangle a_1^\\dagger a_4 + \\langle a_1^\\dagger a_4\\rangle \\langle a_3^\\dagger a_2 \\rangle$  \n",
      "Be cautious about the order of the index and sign before each term here.\n"
     ]
    }
   ],
   "source": [
    "print_save(generate_prompt(kwargs,prompt_dict=prompt_dict())['content'])"
   ]
  },
  {
   "cell_type": "markdown",
   "metadata": {},
   "source": [
    "## Extract quadratic term"
   ]
  },
  {
   "cell_type": "code",
   "execution_count": 123,
   "metadata": {},
   "outputs": [],
   "source": [
    "kwargs = {\n",
    "    'task':\"Extract quadratic term\",\n",
    "    'HF_symbol': r'$\\hat{H}^{int,HF}$',\n",
    "    'bilinear_op': r'$b^\\dagger b$',\n",
    "    'HF_2_symbol': r'$\\hat{H}^{int,HF,2}$',\n",
    "    'def_var': r'''$\\hat{H}^{int,HF,2}$ : the quadratic terms in $\\hat{H}^{int,HF}$\n",
    "''',\n",
    "    'answer':''\n",
    "}\n"
   ]
  },
  {
   "cell_type": "code",
   "execution_count": 124,
   "metadata": {},
   "outputs": [
    {
     "name": "stdout",
     "output_type": "stream",
     "text": [
      "You will be instructed to extract the quadratic terms in the $\\hat{H}^{int,HF}$.  \n",
      "The quadratic terms mean terms that are proportional to $b^\\dagger b$, which excludes terms that are solely expectations or products of expectations.  \n",
      "You should only preserve the quadratic terms in $\\hat{H}^{int,HF}$, which is called $\\hat{H}^{int,HF,2}$.\n",
      "Return this Hamiltonian $\\hat{H}^{int,HF,2}$.  \n",
      "\n",
      "Use the following conventions for the symbols (You should also obey the conventions in all my previous prompts if you encounter undefined symbols. If you find it is never defined or has conflicts in the conventions, you should stop and let me know):  \n",
      "$\\hat{H}^{int,HF,2}$ : the quadratic terms in $\\hat{H}^{int,HF}$\n"
     ]
    }
   ],
   "source": [
    "print_save(generate_prompt(kwargs,prompt_dict=prompt_dict())['content'])"
   ]
  },
  {
   "cell_type": "markdown",
   "metadata": {},
   "source": [
    "## Swap the index to combine Hartree and Fock terms"
   ]
  },
  {
   "cell_type": "code",
   "execution_count": null,
   "metadata": {},
   "outputs": [],
   "source": [
    "kwargs = {\n",
    "    'task':\"Swap the index to combine Hartree and Fock terms\",\n",
    "    'HF_2_symbol': r'$\\hat{H}^{int,HF,2}$',\n",
    "    'expval': r'$\\langle b_{\\tau_1,l_1}^\\dagger(k_1) b_{\\tau_1,l_1}(k_4) \\rangle$',\n",
    "\n",
    "    \n",
    "    'HF_symbol': r'$\\hat{H}^{int,HF}$',\n",
    "    'bilinear_op': r'$b^\\dagger b$',\n",
    "    'def_var': r'''$\\hat{H}^{int,HF,2}$ : the quadratic terms in $\\hat{H}^{int,HF}$\n",
    "''',\n",
    "    'answer':''\n",
    "}\n"
   ]
  },
  {
   "cell_type": "code",
   "execution_count": null,
   "metadata": {},
   "outputs": [
    {
     "name": "stdout",
     "output_type": "stream",
     "text": [
      "You will be instructed to extract the quadratic terms in the $\\hat{H}^{int,HF}$.  \n",
      "The quadratic terms mean terms that are proportional to $b^\\dagger b$, which excludes terms that are solely expectations or products of expectations.  \n",
      "You should only preserve the quadratic terms in $\\hat{H}^{int,HF}$, which is called $\\hat{H}^{int,HF,2}$.\n",
      "Return this Hamiltonian $\\hat{H}^{int,HF,2}$.  \n",
      "\n",
      "Use the following conventions for the symbols (You should also obey the conventions in all my previous prompts if you encounter undefined symbols. If you find it is never defined or has conflicts in the conventions, you should stop and let me know):  \n",
      "$\\hat{H}^{int,HF,2}$ : the quadratic terms in $\\hat{H}^{int,HF}$\n"
     ]
    }
   ],
   "source": [
    "print_save(generate_prompt(kwargs,prompt_dict=prompt_dict())['content'])"
   ]
  },
  {
   "cell_type": "code",
   "execution_count": null,
   "metadata": {},
   "outputs": [],
   "source": []
  },
  {
   "cell_type": "code",
   "execution_count": 425,
   "metadata": {},
   "outputs": [
    {
     "ename": "SyntaxError",
     "evalue": "invalid syntax (3659366440.py, line 1)",
     "output_type": "error",
     "traceback": [
      "\u001b[0;36m  File \u001b[0;32m\"/tmp/ipykernel_12179/3659366440.py\"\u001b[0;36m, line \u001b[0;32m1\u001b[0m\n\u001b[0;31m    --\u001b[0m\n\u001b[0m      ^\u001b[0m\n\u001b[0;31mSyntaxError\u001b[0m\u001b[0;31m:\u001b[0m invalid syntax\n"
     ]
    }
   ],
   "source": [
    "--"
   ]
  },
  {
   "cell_type": "markdown",
   "metadata": {},
   "source": [
    "## Save jsonl"
   ]
  },
  {
   "cell_type": "code",
   "execution_count": 66,
   "metadata": {},
   "outputs": [],
   "source": [
    "with open('2111.01152.jsonl', 'w') as f:\n",
    "    for dict_obj in kwargs_list:\n",
    "        f.write(json.dumps(dict_obj) + '\\n')"
   ]
  },
  {
   "cell_type": "markdown",
   "metadata": {},
   "source": [
    "# Draft"
   ]
  },
  {
   "cell_type": "code",
   "execution_count": null,
   "metadata": {},
   "outputs": [],
   "source": [
    "with open('1106.6060/1106.6060.jsonl', 'w') as f:\n",
    "    json.dump(kwargs,f)"
   ]
  },
  {
   "cell_type": "code",
   "execution_count": null,
   "metadata": {},
   "outputs": [],
   "source": [
    "with open('cmp2.md','w') as f:\n",
    "    f.write(generate_prompt(kwargs)['content'])"
   ]
  },
  {
   "cell_type": "code",
   "execution_count": 26,
   "metadata": {},
   "outputs": [],
   "source": [
    "preamble=r\"\"\"You are a physicist helping me to construct Hamiltonian and perform Hartree-Fock step by step based on my instructions. \n",
    "You should follow the instruction strictly.\n",
    "Your reply should be succinct while complete. You should not expand any unwanted content.\n",
    "You will be learning background knowledge by examples if necessary.\n",
    "Confirm and repeat your duty if you understand it.\"\"\""
   ]
  },
  {
   "cell_type": "code",
   "execution_count": 20,
   "metadata": {},
   "outputs": [],
   "source": [
    "template=r\"\"\"You will be instructed to describe the kinetic term of Hamiltonian in the hole-doped AB-stacked MoTe2/WSe2 in the real space in the single-particle form.   \n",
    "The degrees of freedom of the system are: valley index (+K and -K valley), layer index (top and bottom layer). \n",
    "Express the Kinetic Hamiltonian $H_{Kinetic}(r)$ using $E_{\\tau,l}$ which are only on the diagonal terms, and arrange the basis in the order of (+K,bottom), (+K,top), (-K,bottom), (-K,top).\n",
    "\n",
    "Use the following conventions for the symbols:  \n",
    "$l$ : layer index   \n",
    "$t$ : top layer  \n",
    "$b$ : bottom layer  \n",
    "$\\tau$ : valley index  \n",
    "$+K$ : +K valley  \n",
    "$-K$ : -K valley  \n",
    "$k$ : momentum operator  \n",
    "$E_{l,\\tau}$ : energy dispersion for layer $l$ and valley $\\tau$   \"\"\""
   ]
  },
  {
   "cell_type": "code",
   "execution_count": 21,
   "metadata": {},
   "outputs": [],
   "source": [
    "rs=openai.ChatCompletion.create(model=\"gpt-4\", temperature=0,messages=[{'role':'system','content':preamble},{'role':'user', 'content':template}])"
   ]
  },
  {
   "cell_type": "code",
   "execution_count": 13,
   "metadata": {},
   "outputs": [],
   "source": []
  },
  {
   "cell_type": "code",
   "execution_count": 22,
   "metadata": {},
   "outputs": [
    {
     "data": {
      "text/markdown": [
       "Understood. The kinetic Hamiltonian $H_{Kinetic}(r)$ in the real space for the hole-doped AB-stacked MoTe2/WSe2 system can be written in the single-particle form as follows:\n",
       "\n",
       "$H_{Kinetic}(r) = \\begin{pmatrix} E_{b,+K} & 0 & 0 & 0 \\\\ 0 & E_{t,+K} & 0 & 0 \\\\ 0 & 0 & E_{b,-K} & 0 \\\\ 0 & 0 & 0 & E_{t,-K} \\end{pmatrix}$\n",
       "\n",
       "Here, the basis is arranged in the order of (+K,bottom), (+K,top), (-K,bottom), (-K,top). The diagonal terms represent the energy dispersion for each combination of layer and valley."
      ],
      "text/plain": [
       "<IPython.core.display.Markdown object>"
      ]
     },
     "execution_count": 22,
     "metadata": {},
     "output_type": "execute_result"
    }
   ],
   "source": [
    "Markdown(rs['choices'][0]['message'].content)"
   ]
  },
  {
   "cell_type": "code",
   "execution_count": 10,
   "metadata": {},
   "outputs": [],
   "source": [
    "template=r'''Describe the kinetic term of free fermion Hamiltonian in the AB-stacked MoTe$_2$/WSe$_2$. \n",
    "This system has a spin-valley locking, so you should construct a continuum Hamiltonian which contains two valleys.\n",
    "Each valley is a 2 by 2 matrix with each component for the top or bottom layer.\n",
    "The kinetic term is hole-like free fermion dispersion for both layers, with a minus sign before. \n",
    "There is a momentum shift on the top layer to make the band bottom at the corner of the moire Brillouin zone.\n",
    "Return a 4 by 4 matrix, where the basis is (+K, bottom), (+K, top), (-K, bottom), (-K, top). +K and -K are two valleys in the corners of monolayer moire Brillouin zone.\n",
    "\n",
    "\n",
    "Use the following conventions for the symbols:\n",
    "$H_\\tau$ : Valley-dependent free Hamiltonian \n",
    "$\\tau$ : valley index\n",
    "$m_b$ ($m_t$) : effective mass on the bottom (top) layer\n",
    "$\\kappa$ : corner of moire Brillouin Zone\n",
    "$ r $ : real space position\n",
    "$ k $ : momentum operator\n",
    "'''"
   ]
  },
  {
   "cell_type": "code",
   "execution_count": 11,
   "metadata": {},
   "outputs": [
    {
     "name": "stdout",
     "output_type": "stream",
     "text": [
      "Describe the kinetic term of free fermion Hamiltonian in the AB-stacked MoTe$_2$/WSe$_2$. \n",
      "This system has a spin-valley locking, so you should construct a continuum Hamiltonian which contains two valleys.\n",
      "Each valley is a 2 by 2 matrix with each component for the top or bottom layer.\n",
      "The kinetic term is hole-like free fermion dispersion for both layers, with a minus sign before. \n",
      "There is a momentum shift on the top layer to make the band bottom at the corner of the moire Brillouin zone.\n",
      "Return a 4 by 4 matrix, where the basis is (+K, bottom), (+K, top), (-K, bottom), (-K, top). +K and -K are two valleys in the corners of monolayer moire Brillouin zone.\n",
      "\n",
      "\n",
      "Use the following conventions for the symbols:\n",
      "$H_\\tau$ : Valley-dependent free Hamiltonian \n",
      "$\\tau$ : valley index\n",
      "$m_b$ ($m_t$) : effective mass on the bottom (top) layer\n",
      "$\\kappa$ : corner of moire Brillouin Zone\n",
      "$ r $ : real space position\n",
      "$ k $ : momentum operator\n",
      "\n"
     ]
    }
   ],
   "source": [
    "print(template)"
   ]
  },
  {
   "cell_type": "code",
   "execution_count": null,
   "metadata": {},
   "outputs": [],
   "source": []
  },
  {
   "cell_type": "code",
   "execution_count": null,
   "metadata": {},
   "outputs": [],
   "source": []
  },
  {
   "cell_type": "code",
   "execution_count": 48,
   "metadata": {},
   "outputs": [
    {
     "name": "stdout",
     "output_type": "stream",
     "text": [
      " 0 {} {0}\n"
     ]
    }
   ],
   "source": [
    "x=0\n",
    "print(f' {x} {{}} {{{x}}}')"
   ]
  },
  {
   "cell_type": "code",
   "execution_count": null,
   "metadata": {},
   "outputs": [],
   "source": []
  }
 ],
 "metadata": {
  "kernelspec": {
   "display_name": "Python 3",
   "language": "python",
   "name": "python3"
  },
  "language_info": {
   "codemirror_mode": {
    "name": "ipython",
    "version": 3
   },
   "file_extension": ".py",
   "mimetype": "text/x-python",
   "name": "python",
   "nbconvert_exporter": "python",
   "pygments_lexer": "ipython3",
   "version": "3.8.11"
  },
  "orig_nbformat": 4
 },
 "nbformat": 4,
 "nbformat_minor": 2
}
