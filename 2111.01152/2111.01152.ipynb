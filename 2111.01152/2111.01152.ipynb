{
 "cells": [
  {
   "cell_type": "code",
   "execution_count": 1,
   "metadata": {},
   "outputs": [],
   "source": [
    "import openai\n",
    "import pandas as pd\n",
    "import json\n",
    "from IPython.display import Markdown\n",
    "import sys"
   ]
  },
  {
   "cell_type": "code",
   "execution_count": 2,
   "metadata": {},
   "outputs": [],
   "source": [
    "zz=openai.Model.list()"
   ]
  },
  {
   "cell_type": "code",
   "execution_count": 3,
   "metadata": {},
   "outputs": [
    {
     "data": {
      "text/plain": [
       "62"
      ]
     },
     "execution_count": 3,
     "metadata": {},
     "output_type": "execute_result"
    }
   ],
   "source": [
    "len(zz['data'])"
   ]
  },
  {
   "cell_type": "code",
   "execution_count": 4,
   "metadata": {},
   "outputs": [
    {
     "data": {
      "text/plain": [
       "['gpt-4',\n",
       " 'gpt-4-0613',\n",
       " 'gpt-4-0314',\n",
       " 'gpt-3.5-turbo-16k-0613',\n",
       " 'gpt-3.5-turbo-16k',\n",
       " 'gpt-3.5-turbo-0301',\n",
       " 'gpt-3.5-turbo-0613',\n",
       " 'gpt-3.5-turbo']"
      ]
     },
     "execution_count": 4,
     "metadata": {},
     "output_type": "execute_result"
    }
   ],
   "source": [
    "[zz['data'][idx]['id'] for idx in range(len(zz['data'])) if 'gpt' in zz['data'][idx]['id']]"
   ]
  },
  {
   "cell_type": "code",
   "execution_count": 5,
   "metadata": {},
   "outputs": [],
   "source": [
    "model_params = {\n",
    "    'model': \"gpt-4\",\n",
    "    'temperature': 0,\n",
    "}"
   ]
  },
  {
   "cell_type": "code",
   "execution_count": 6,
   "metadata": {},
   "outputs": [],
   "source": [
    "def print_save(string, file='../cmp2.md'):\n",
    "    print(string)\n",
    "    with open(file,'w') as f:\n",
    "        f.write(string)"
   ]
  },
  {
   "cell_type": "markdown",
   "metadata": {},
   "source": [
    "## Load `prompt_template.md`"
   ]
  },
  {
   "cell_type": "code",
   "execution_count": 7,
   "metadata": {},
   "outputs": [],
   "source": [
    "sys.path.append('..')\n",
    "from utils import *\n",
    "from functools import partial"
   ]
  },
  {
   "cell_type": "code",
   "execution_count": 8,
   "metadata": {},
   "outputs": [],
   "source": [
    "# prompt_dict=load_prompt_template('../prompt_template.md')\n",
    "prompt_dict = partial(load_prompt_template,file='../prompt_template.md')"
   ]
  },
  {
   "cell_type": "code",
   "execution_count": 30,
   "metadata": {},
   "outputs": [
    {
     "data": {
      "text/plain": [
       "dict_keys(['Preamble', 'Construct Kinetic Hamiltonian (continuum version)', 'Construct Kinetic Hamiltonian (lattice version)', 'Define each term in Kinetic Hamiltonian (continuum version)', 'Construct Potential Hamiltonian (continuum version)', 'Define each term in Potential Hamiltonian (continuum version)', 'Construct interaction Hamiltonian (real space, lattice version)', 'Construct interaction Hamiltonian (momentum space)', 'Convert from single-particle to second-quantized form, return in matrix', 'Convert from single-particle to second-quantized form, return in summation (expand the matrix)', 'Convert noninteracting Hamiltonian in real space to momentum space (continuum version)', 'Convert noninteracting Hamiltonian in real space to momentum space (lattice version)', 'Convert interacting Hamiltonian in real space to momentum space (lattice version)', 'Particle-hole transformation', 'Simplify the Hamiltonian in the particle-hole basis', \"Wick's theorem\", 'Extract quadratic term', 'Hartree term only', 'Fock term only', 'Expand interaction', 'Swap the index only', 'Swap the index to combine Hartree and Fock terms', 'Reduce momentum in Hartree term (momentum in BZ + reciprocal lattice)', 'Reduce momentum in Hartree term (momentum in BZ)', 'Reduce momentum in Fock term (momentum in BZ + reciprocal lattice)', 'Combine the Hartree and Fock term', 'Construct full Hamiltonian after HF', \"Mathematical simplify: Euler's formula\", 'Mathematical simplify: prosthaphaeresis', 'Mathematical simplify: Expand using Associative property', 'Mathematical simplify: Combine using Associative property', 'Mathematical simplify: reduce index'])"
      ]
     },
     "execution_count": 30,
     "metadata": {},
     "output_type": "execute_result"
    }
   ],
   "source": [
    "prompt_dict().keys()"
   ]
  },
  {
   "cell_type": "code",
   "execution_count": 9,
   "metadata": {},
   "outputs": [
    {
     "name": "stdout",
     "output_type": "stream",
     "text": [
      "You will be instructed to describe the kinetic term of Hamiltonian in {system} in the {real|momentum} space in the {single-particle|second-quantized} form.   \n",
      "The degrees of freedom of the system are: {dof}  \n",
      "Express the Kinetic Hamiltonian {kinetic_symbol} using {var} which are only on the diagonal terms, and arrange the basis in the order of {order}.\n",
      "\n",
      "Use the following conventions for the symbols:  \n",
      "{def_var}\n",
      "\n",
      "\n"
     ]
    }
   ],
   "source": [
    "print(prompt_dict['Construct Kinetic Hamiltonian (continuum version)'])"
   ]
  },
  {
   "cell_type": "code",
   "execution_count": 11,
   "metadata": {},
   "outputs": [],
   "source": [
    "df=pd.DataFrame(list(prompt_dict.items()),columns=['Task','Prompt'])"
   ]
  },
  {
   "cell_type": "markdown",
   "metadata": {},
   "source": [
    "## Construct Kinetic Hamiltonian (continuum version, single-particle)"
   ]
  },
  {
   "cell_type": "code",
   "execution_count": 382,
   "metadata": {},
   "outputs": [],
   "source": [
    "user_msg=[]\n",
    "AI_msg=[]\n",
    "sys_msg=[{'role': 'system', 'content': prompt_dict()['Preamble']}]\n",
    "kwargs_list=[]"
   ]
  },
  {
   "cell_type": "code",
   "execution_count": 383,
   "metadata": {},
   "outputs": [],
   "source": [
    "kwargs = {\n",
    "    'task':    'Construct Kinetic Hamiltonian (continuum version, single-particle)',\n",
    "    'system':    'the hole-doped AB-stacked MoTe2/WSe2',\n",
    "    'real|momentum':    'real',\n",
    "    'single-particle|second-quantized':    'single-particle',\n",
    "    'dof':    'valley index (+K and -K valley), layer index (top and bottom layer)',\n",
    "    'kinetic_symbol':    r'$H_{Kinetic}(r)$',\n",
    "    'var':    r'$E_{\\tau,l}$',\n",
    "    'order':    '(+K,bottom), (+K,top), (-K,bottom), (-K,top)',\n",
    "    'Note that the sublattice degrees of freedom is suppressed for now and will be stated later|None': '',\n",
    "    'def_var':\n",
    "    r'''$l$ : layer index   \n",
    "$t$ : top layer  \n",
    "$b$ : bottom layer  \n",
    "$\\tau$ : valley index  \n",
    "$+K$ : +K valley  \n",
    "$-K$ : -K valley  \n",
    "$k$ : momentum operator  \n",
    "$E_{\\tau,l}$ : energy dispersion for layer $l$ and valley $\\tau$''',\n",
    "    'answer':    '$H_{Kinetic}(r) = \\\\begin{pmatrix} E_{+K,b} & 0 & 0 & 0 \\\\\\\\ 0 & E_{+K,t} & 0 & 0 \\\\\\\\ 0 & 0 & E_{-K,b} & 0 \\\\\\\\ 0 & 0 & 0 & E_{-K,t} \\\\end{pmatrix}$'\n",
    "}\n"
   ]
  },
  {
   "cell_type": "code",
   "execution_count": 384,
   "metadata": {},
   "outputs": [
    {
     "name": "stdout",
     "output_type": "stream",
     "text": [
      "You will be instructed to describe the kinetic term of Hamiltonian in the hole-doped AB-stacked MoTe2/WSe2 in the real space in the single-particle form.   \n",
      "The degrees of freedom of the system are: valley index (+K and -K valley), layer index (top and bottom layer).  \n",
      "Express the Kinetic Hamiltonian $H_{Kinetic}(r)$ using $E_{\\tau,l}$ which are only on the diagonal terms, and arrange the basis in the order of (+K,bottom), (+K,top), (-K,bottom), (-K,top). \n",
      "\n",
      "Use the following conventions for the symbols:  \n",
      "$l$ : layer index   \n",
      "$t$ : top layer  \n",
      "$b$ : bottom layer  \n",
      "$\\tau$ : valley index  \n",
      "$+K$ : +K valley  \n",
      "$-K$ : -K valley  \n",
      "$k$ : momentum operator  \n",
      "$E_{\\tau,l}$ : energy dispersion for layer $l$ and valley $\\tau$\n"
     ]
    }
   ],
   "source": [
    "print_save(generate_prompt(kwargs,prompt_dict=prompt_dict())['content'])"
   ]
  },
  {
   "cell_type": "code",
   "execution_count": 385,
   "metadata": {},
   "outputs": [],
   "source": [
    "# user_msg.append(generate_prompt(kwargs,prompt_dict=prompt_dict))"
   ]
  },
  {
   "cell_type": "code",
   "execution_count": 386,
   "metadata": {},
   "outputs": [],
   "source": [
    "# messages=assembly_message(sys_msg,user_msg,AI_msg)"
   ]
  },
  {
   "cell_type": "code",
   "execution_count": 387,
   "metadata": {},
   "outputs": [],
   "source": [
    "# rs = openai.ChatCompletion.create(messages=messages, **model_params)\n",
    "\n",
    "# Markdown(rs['choices'][0]['message'].content)"
   ]
  },
  {
   "cell_type": "code",
   "execution_count": 388,
   "metadata": {},
   "outputs": [],
   "source": [
    "# AI_msg.append(dict(rs['choices'][0]['message']))"
   ]
  },
  {
   "cell_type": "code",
   "execution_count": 389,
   "metadata": {},
   "outputs": [],
   "source": [
    "# rs['choices'][0]['message'].content"
   ]
  },
  {
   "cell_type": "code",
   "execution_count": 390,
   "metadata": {},
   "outputs": [],
   "source": [
    "kwargs_list.append(kwargs)"
   ]
  },
  {
   "cell_type": "markdown",
   "metadata": {},
   "source": [
    "## Define each term in Kinetic Hamiltonian (continuum version)"
   ]
  },
  {
   "cell_type": "code",
   "execution_count": 391,
   "metadata": {},
   "outputs": [],
   "source": [
    "# user_msg=[]\n",
    "# AI_msg=[]\n",
    "# sys_msg=[{'role': 'system', 'content': prompt_dict()['Preamble']}]\n",
    "# kwargs_list=[]"
   ]
  },
  {
   "cell_type": "code",
   "execution_count": 392,
   "metadata": {},
   "outputs": [],
   "source": [
    "kwargs = {\n",
    "    'task': 'Define each term in Kinetic Hamiltonian (continuum version)',\n",
    "    'var':r' four $E_{\\tau,l}(k)$',\n",
    "    'Description':r'''For all energy dispersions, $E_{l,\\tau}(k)$, it characterizes the dispersion for free holes, namely, $E_{l,\\tau}(k)= -\\frac{\\hbar^2 k^2}{2 m_l}$.   \n",
    "In addition, for the top layer, $E_{\\tau,t}(k)$, there is a shift of momentum $k$, to make the band bottom at $\\tilde{\\tau}\\kappa$. You should infer the correct $\\tilde{\\tau}$.  \n",
    "Finally, in the real space, the momentum $k=-i \\partial_r$. You should keep the form of $k$ in the Hamiltonian for short notations but should remember $k$ is an operator.  ''',\n",
    "    'expression_kinetic': '$H_{Kinetic}(r) = \\\\begin{pmatrix} E_{+K,b} & 0 & 0 & 0 \\\\\\\\ 0 & E_{+K,t} & 0 & 0 \\\\\\\\ 0 & 0 & E_{-K,b} & 0 \\\\\\\\ 0 & 0 & 0 & E_{-K,t} \\\\end{pmatrix}$',\n",
    "    'kinetic_symbol': r'$H_{Kinetic}(r)$',\n",
    "    'def_var':r'''$k$ : momentum operator  \n",
    "$r$ : real space operator  \n",
    "$m_l$ : the effective mass for layer $l$  \n",
    "$\\tilde{\\tau}$ : takes value of +1 for $\\tau=+K$ and -1 for $\\tau=-K$  \n",
    "$\\pm\\kappa$ : corners of monolayer moire Brillouin zone  ''',\n",
    "'answer':'$H_{Kinetic}(r) = \\\\begin{pmatrix} -\\\\frac{\\\\hbar^2 k^2}{2 m_b} & 0 & 0 & 0 \\\\\\\\ 0 & -\\\\frac{\\\\hbar^2 (k-\\\\kappa)^2}{2 m_t} & 0 & 0 \\\\\\\\ 0 & 0 & -\\\\frac{\\\\hbar^2 k^2}{2 m_b} & 0 \\\\\\\\ 0 & 0 & 0 & -\\\\frac{\\\\hbar^2 (k+\\\\kappa)^2}{2 m_t} \\\\end{pmatrix}$'\n",
    "}"
   ]
  },
  {
   "cell_type": "code",
   "execution_count": 393,
   "metadata": {},
   "outputs": [
    {
     "name": "stdout",
     "output_type": "stream",
     "text": [
      "You will be instructed to construct each term, namely  four $E_{\\tau,l}(k)$.  \n",
      "For all energy dispersions, $E_{l,\\tau}(k)$, it characterizes the dispersion for free holes, namely, $E_{l,\\tau}(k)= -\\frac{\\hbar^2 k^2}{2 m_l}$.   \n",
      "In addition, for the top layer, $E_{\\tau,t}(k)$, there is a shift of momentum $k$, to make the band bottom at $\\tilde{\\tau}\\kappa$. You should infer the correct $\\tilde{\\tau}$.  \n",
      "Finally, in the real space, the momentum $k=-i \\partial_r$. You should keep the form of $k$ in the Hamiltonian for short notations but should remember $k$ is an operator.  \n",
      "You should recall that $H_{Kinetic}(r) = \\begin{pmatrix} E_{+K,b} & 0 & 0 & 0 \\\\ 0 & E_{+K,t} & 0 & 0 \\\\ 0 & 0 & E_{-K,b} & 0 \\\\ 0 & 0 & 0 & E_{-K,t} \\end{pmatrix}$.   \n",
      "Return the expression for  four $E_{\\tau,l}(k)$ in the Kinetic Hamiltonian, and substitute it into the Kinetic Hamiltonian $H_{Kinetic}(r)$.  \n",
      "\n",
      "Use the following conventions for the symbols (You should also obey the conventions in all my previous prompts if you encounter undefined symbols. If you find it is never defined or has conflicts in the conventions, you should stop and let me know):  \n",
      "$k$ : momentum operator  \n",
      "$r$ : real space operator  \n",
      "$m_l$ : the effective mass for layer $l$  \n",
      "$\\tilde{\\tau}$ : takes value of +1 for $\\tau=+K$ and -1 for $\\tau=-K$  \n",
      "$\\pm\\kappa$ : corners of monolayer moire Brillouin zone\n"
     ]
    }
   ],
   "source": [
    "print_save(generate_prompt(kwargs,prompt_dict=prompt_dict())['content'])"
   ]
  },
  {
   "cell_type": "code",
   "execution_count": 394,
   "metadata": {},
   "outputs": [],
   "source": [
    "# user_msg.append(generate_prompt(kwargs,prompt_dict=prompt_dict))"
   ]
  },
  {
   "cell_type": "code",
   "execution_count": 395,
   "metadata": {},
   "outputs": [],
   "source": [
    "# messages=assembly_message(sys_msg,user_msg,AI_msg)"
   ]
  },
  {
   "cell_type": "code",
   "execution_count": 396,
   "metadata": {},
   "outputs": [],
   "source": [
    "# rs = openai.ChatCompletion.create(messages=messages, **model_params)\n",
    "# Markdown(rs['choices'][0]['message'].content)"
   ]
  },
  {
   "cell_type": "code",
   "execution_count": 397,
   "metadata": {},
   "outputs": [],
   "source": [
    "# AI_msg.append(dict(rs['choices'][0]['message']))"
   ]
  },
  {
   "cell_type": "code",
   "execution_count": 398,
   "metadata": {},
   "outputs": [],
   "source": [
    "# rs['choices'][0]['message'].content"
   ]
  },
  {
   "cell_type": "code",
   "execution_count": 399,
   "metadata": {},
   "outputs": [],
   "source": [
    "kwargs_list.append(kwargs)"
   ]
  },
  {
   "cell_type": "markdown",
   "metadata": {},
   "source": [
    "## Construct Potential Hamiltonian (continuum version)"
   ]
  },
  {
   "cell_type": "code",
   "execution_count": 400,
   "metadata": {},
   "outputs": [],
   "source": [
    "# user_msg=[]\n",
    "# AI_msg=[]\n",
    "# sys_msg=[{'role': 'system', 'content': prompt_dict['Preamble']}]\n",
    "# kwargs_list=[]"
   ]
  },
  {
   "cell_type": "code",
   "execution_count": 401,
   "metadata": {},
   "outputs": [],
   "source": [
    "kwargs = {\n",
    "    'task':\n",
    "    'Construct Potential Hamiltonian (continuum version)',\n",
    "    'potential_symbol':'$H_{Potential}(r)$',\n",
    "    'real|momentum':'real',\n",
    "    'single-particle|second-quantized':'single-particle',\n",
    "    'kinetic_symbol': r'$H_{Kinetic}(r)$',\n",
    "    \n",
    "    'Description': r'''At each valley, it is a 2 by 2 matrix $H_{Potential,\\tau}(r)$, where each component is layer index. The diagonal term in this 2 by 2 matrix $H_{Potential,\\tau}(r)$ is  intralayer tunneling $\\Delta_l(r)$. The off-diagonal term in this 2 by 2 matrix $H_{Potential,\\tau}(r)$ is interlayer potential $\\Delta_{T,\\tau}(r)$, which should be kept hermitian.  \n",
    "There is no hybridization between $+K$ valley and $-K$ valley, i.e., the corresponding matrix elements in $H_{Potential}(r)$ are all zero''',\n",
    "    'var':\n",
    "    r'$\\Delta_l(r)$ and $\\Delta_{T,\\tau}(r)$',\n",
    "    'def_var': r'''  \n",
    "$\\Delta_l$: intralayer potential for layer index $l$  \n",
    "$\\Delta_{T,\\tau}$ : interlayer tunneling at valley index $\\tau$  \n",
    "$H_{Potential}(r)$ : potential term of Hamiltonian in the real space in the single-particle form.  ''',\n",
    "    'answer':'$H_{Potential}(r) = \\\\begin{pmatrix} \\\\Delta_b(r) & \\\\Delta_{T,+K}(r) & 0 & 0 \\\\\\\\ \\\\Delta_{T,+K}^*(r) & \\\\Delta_t(r) & 0 & 0 \\\\\\\\ 0 & 0 & \\\\Delta_b(r) & \\\\Delta_{T,-K}(r) \\\\\\\\ 0 & 0 & \\\\Delta_{T,-K}^*(r) & \\\\Delta_t(r) \\\\end{pmatrix}$'\n",
    "}\n"
   ]
  },
  {
   "cell_type": "code",
   "execution_count": 402,
   "metadata": {},
   "outputs": [
    {
     "name": "stdout",
     "output_type": "stream",
     "text": [
      "You will be instructed to describe the potential term of Hamiltonian $H_{Potential}(r)$ in the real space in the single-particle form.  \n",
      "The potential Hamiltonian has the same degrees of freedom as the kinetic Hamiltonian $H_{Kinetic}(r)$.  \n",
      "At each valley, it is a 2 by 2 matrix $H_{Potential,\\tau}(r)$, where each component is layer index. The diagonal term in this 2 by 2 matrix $H_{Potential,\\tau}(r)$ is  intralayer tunneling $\\Delta_l(r)$. The off-diagonal term in this 2 by 2 matrix $H_{Potential,\\tau}(r)$ is interlayer potential $\\Delta_{T,\\tau}(r)$, which should be kept hermitian.  \n",
      "There is no hybridization between $+K$ valley and $-K$ valley, i.e., the corresponding matrix elements in $H_{Potential}(r)$ are all zero.  \n",
      "Express the potential Hamiltonian $H_{Potential}(r)$ using $\\Delta_l(r)$ and $\\Delta_{T,\\tau}(r)$.  \n",
      "\n",
      "Use the following conventions for the symbols (You should also remember the conventions in my previous prompts if there are no conflicts. If you have conflicts in the conventions, you should stop and let me know):  \n",
      "  \n",
      "$\\Delta_l$: intralayer potential for layer index $l$  \n",
      "$\\Delta_{T,\\tau}$ : interlayer tunneling at valley index $\\tau$  \n",
      "$H_{Potential}(r)$ : potential term of Hamiltonian in the real space in the single-particle form.\n"
     ]
    }
   ],
   "source": [
    "print_save(generate_prompt(kwargs,prompt_dict=prompt_dict())['content'])"
   ]
  },
  {
   "cell_type": "code",
   "execution_count": 403,
   "metadata": {},
   "outputs": [],
   "source": [
    "# user_msg.append(generate_prompt(kwargs,prompt_dict=prompt_dict))"
   ]
  },
  {
   "cell_type": "code",
   "execution_count": 404,
   "metadata": {},
   "outputs": [],
   "source": [
    "# messages=assembly_message(sys_msg,user_msg,AI_msg)"
   ]
  },
  {
   "cell_type": "code",
   "execution_count": 405,
   "metadata": {},
   "outputs": [],
   "source": [
    "# rs = openai.ChatCompletion.create(messages=messages, **model_params)\n",
    "\n",
    "# Markdown(rs['choices'][0]['message'].content)"
   ]
  },
  {
   "cell_type": "code",
   "execution_count": 406,
   "metadata": {},
   "outputs": [],
   "source": [
    "# AI_msg.append(dict(rs['choices'][0]['message']))"
   ]
  },
  {
   "cell_type": "code",
   "execution_count": 407,
   "metadata": {},
   "outputs": [],
   "source": [
    "# rs['choices'][0]['message'].content"
   ]
  },
  {
   "cell_type": "code",
   "execution_count": 408,
   "metadata": {},
   "outputs": [],
   "source": [
    "kwargs_list.append(kwargs)"
   ]
  },
  {
   "cell_type": "markdown",
   "metadata": {},
   "source": [
    "## Define each term in Potential Hamiltonian (continuum version)"
   ]
  },
  {
   "cell_type": "code",
   "execution_count": 409,
   "metadata": {},
   "outputs": [],
   "source": [
    "# user_msg=[]\n",
    "# AI_msg=[]\n",
    "# sys_msg=[{'role': 'system', 'content': prompt_dict['Preamble']}]\n",
    "# kwargs_list=[]"
   ]
  },
  {
   "cell_type": "code",
   "execution_count": 410,
   "metadata": {},
   "outputs": [],
   "source": [
    "kwargs = {\n",
    "    'task':\n",
    "    'Define each term in Potential Hamiltonian (continuum version)',\n",
    "    'potential_symbol':'$H_{Potential}(r)$',\n",
    "    'var':    r'the intralayer potential $\\Delta_l(r)$ and interlayer tunneling $\\Delta_{T,\\tau}(r)$',\n",
    "    'real|momentum':'real',\n",
    "    'single-particle|second-quantized':'single-particle',\n",
    "    'kinetic_symbol':    '$H_{Kinetic}(r)$',\n",
    "    'Description': r'''The intralayer on the top layer $\\Delta_t(r)$ is $V_{zt}$.  \n",
    "The intralayer on the bottom layer $\\Delta_b(r)$ is $2V_b\\sum_{j=1,3,5} \\cos(g_j \\cdot r  +\\psi_b)$.  \n",
    "The interlayer tunneling at valley $\\tau$ is $\\tilde{\\tau}w(1+\\omega^{\\tilde{\\tau}}e^{i\\tilde{\\tau} g_2 \\cdot r} + \\omega^{2\\tilde{\\tau}} e^{i\\tilde{\\tau} g_3 \\cdot r})$. You should infer the correct $\\tilde{\\tau}$ such that $\\tilde{\\tau}$ does not appear in the answer.  ''',\n",
    "    'def_var': r'''$V_b$ : bottom layer potential strength  \n",
    "$\\psi_b$ : bottom layer potential phase  \n",
    "$g_j$ : reciprocal unit vector on the first shell corresponding in the moire Brillouin zone, j varies from 1 to 6.  \n",
    "$r$ : real space position  \n",
    "$\\omega$ : phase factor to respect the threefold rotational symmetry, which is $e^{i2\\pi/3}$, the hermitian conjugate is $\\omega^{-1}=e^{-i2\\pi/3}$  \n",
    "$w$ : interlayer tunneling strength''',\n",
    "    'expression_Potential': '$H_{Potential}(r) = \\\\begin{pmatrix} \\\\Delta_b(r) & \\\\Delta_{T,+K}(r) & 0 & 0 \\\\\\\\ \\\\Delta_{T,+K}^*(r) & \\\\Delta_t(r) & 0 & 0 \\\\\\\\ 0 & 0 & \\\\Delta_b(r) & \\\\Delta_{T,-K}(r) \\\\\\\\ 0 & 0 & \\\\Delta_{T,-K}^*(r) & \\\\Delta_t(r) \\\\end{pmatrix}$',\n",
    "    'answer':'$H_{Potential}(r) = \\\\begin{pmatrix} 2V_b\\\\sum_{j=1,3,5} \\\\cos(g_j \\\\cdot r  +\\\\psi_b) & w(1+\\\\omega e^{i g_2 \\\\cdot r} + \\\\omega^2 e^{i g_3 \\\\cdot r}) & 0 & 0 \\\\\\\\ w(1+\\\\omega^{-1}e^{-i g_2 \\\\cdot r} + \\\\omega^{-2} e^{-i g_3 \\\\cdot r}) & V_{zt} & 0 & 0 \\\\\\\\ 0 & 0 & 2V_b\\\\sum_{j=1,3,5} \\\\cos(g_j \\\\cdot r  +\\\\psi_b) & -w(1+\\\\omega^{-1}e^{-i g_2 \\\\cdot r} + \\\\omega^{-2} e^{-i g_3 \\\\cdot r}) \\\\\\\\ 0 & 0 & -w(1+\\\\omega e^{i g_2 \\\\cdot r} + \\\\omega^2 e^{i g_3 \\\\cdot r}) & V_{zt} \\\\end{pmatrix}$'\n",
    "}\n"
   ]
  },
  {
   "cell_type": "code",
   "execution_count": 411,
   "metadata": {},
   "outputs": [
    {
     "name": "stdout",
     "output_type": "stream",
     "text": [
      "You will be instructed to construct each term $H_{Potential}(r)$, namely, the intralayer potential $\\Delta_l(r)$ and interlayer tunneling $\\Delta_{T,\\tau}(r)$.  \n",
      "The intralayer on the top layer $\\Delta_t(r)$ is $V_{zt}$.  \n",
      "The intralayer on the bottom layer $\\Delta_b(r)$ is $2V_b\\sum_{j=1,3,5} \\cos(g_j \\cdot r  +\\psi_b)$.  \n",
      "The interlayer tunneling at valley $\\tau$ is $\\tilde{\\tau}w(1+\\omega^{\\tilde{\\tau}}e^{i\\tilde{\\tau} g_2 \\cdot r} + \\omega^{2\\tilde{\\tau}} e^{i\\tilde{\\tau} g_3 \\cdot r})$. You should infer the correct $\\tilde{\\tau}$ such that $\\tilde{\\tau}$ does not appear in the answer.  .\n",
      "You should recall that $H_{Potential}(r) = \\begin{pmatrix} \\Delta_b(r) & \\Delta_{T,+K}(r) & 0 & 0 \\\\ \\Delta_{T,+K}^*(r) & \\Delta_t(r) & 0 & 0 \\\\ 0 & 0 & \\Delta_b(r) & \\Delta_{T,-K}(r) \\\\ 0 & 0 & \\Delta_{T,-K}^*(r) & \\Delta_t(r) \\end{pmatrix}$.  \n",
      "Return the expressions for the intralayer potential $\\Delta_l(r)$ and interlayer tunneling $\\Delta_{T,\\tau}(r)$, and substitute it into the potential Hamiltonian $H_{Potential}(r)$.  \n",
      "\n",
      "Use the following conventions for the symbols (You should also obey the conventions in all my previous prompts if you encounter undefined symbols. If you find it is never defined or have conflicts in the conventions, you should stop and let me know):  \n",
      "$V_b$ : bottom layer potential strength  \n",
      "$\\psi_b$ : bottom layer potential phase  \n",
      "$g_j$ : reciprocal unit vector on the first shell corresponding in the moire Brillouin zone, j varies from 1 to 6.  \n",
      "$r$ : real space position  \n",
      "$\\omega$ : phase factor to respect the threefold rotational symmetry, which is $e^{i2\\pi/3}$, the hermitian conjugate is $\\omega^{-1}=e^{-i2\\pi/3}$  \n",
      "$w$ : interlayer tunneling strength\n"
     ]
    }
   ],
   "source": [
    "print_save(generate_prompt(kwargs,prompt_dict=prompt_dict())['content'])"
   ]
  },
  {
   "cell_type": "code",
   "execution_count": 412,
   "metadata": {},
   "outputs": [],
   "source": [
    "# user_msg.append(generate_prompt(kwargs,prompt_dict=prompt_dict))"
   ]
  },
  {
   "cell_type": "code",
   "execution_count": 413,
   "metadata": {},
   "outputs": [],
   "source": [
    "# messages=assembly_message(sys_msg,user_msg,AI_msg)"
   ]
  },
  {
   "cell_type": "code",
   "execution_count": 414,
   "metadata": {},
   "outputs": [],
   "source": [
    "# rs = openai.ChatCompletion.create(messages=messages, **model_params)\n",
    "\n",
    "# Markdown(rs['choices'][0]['message'].content)"
   ]
  },
  {
   "cell_type": "code",
   "execution_count": 415,
   "metadata": {},
   "outputs": [],
   "source": [
    "# AI_msg.append(dict(rs['choices'][0]['message']))"
   ]
  },
  {
   "cell_type": "code",
   "execution_count": 416,
   "metadata": {},
   "outputs": [],
   "source": [
    "# rs['choices'][0]['message'].content"
   ]
  },
  {
   "cell_type": "code",
   "execution_count": 417,
   "metadata": {},
   "outputs": [],
   "source": [
    "kwargs_list.append(kwargs)"
   ]
  },
  {
   "cell_type": "markdown",
   "metadata": {},
   "source": [
    "## Convert from single-particle to second-quantized form, return in matrix"
   ]
  },
  {
   "cell_type": "code",
   "execution_count": 418,
   "metadata": {},
   "outputs": [],
   "source": [
    "kwargs = {\n",
    "    'task':'Convert from single-particle to second-quantized form, return in matrix',\n",
    "    'real|momentum':'real',\n",
    "    'nonint_symbol': r'$H^{0}(r)$',\n",
    "    'potential_symbol':'$H_{Potential}(r)$',\n",
    "    'kinetic_symbol':'$H_{Kinetic}(r)$',\n",
    "    '$r$|$k$': '$r$',\n",
    "    'second_nonint_symbol': r'$\\hat{H}^{0}$',\n",
    "    'def_var': r'''$\\psi_{\\tau,l}(r)$ : electron annihilation operator at valley index $\\tau$ and layer index $l$  \n",
    "$\\vec{\\psi}(r)$ : spinor containing all annihilation operators $\\psi_{\\tau,l}(r)$ following the same order of $H^{0}(r)$  \n",
    "$H^{0}(r)$ : single-particle noninteracting Hamiltonian in the real space  \n",
    "$\\hat{H}^{0}$ : total noninteracting Hamiltonian in the second quantized form ''',\n",
    "    'answer':r'$\\hat{H}^{0} = \\int dr \\vec{\\psi}^\\dagger(r) H^{0}(r) \\vec{\\psi}(r)$'\n",
    "}\n"
   ]
  },
  {
   "cell_type": "code",
   "execution_count": 419,
   "metadata": {},
   "outputs": [
    {
     "name": "stdout",
     "output_type": "stream",
     "text": [
      "You will be instructed to construct the second quantized form of the total noninteracting Hamiltonian in the real space.  \n",
      "The noninteracting Hamiltonian in the real space $H^{0}(r)$ is the sum of Kinetic Hamiltonian $H_{Kinetic}(r)$ and Potential Hamiltonian $H_{Potential}(r)$.  \n",
      "To construct the second quantized form of a Hamiltonian. You should construct the creation and annihilation operators from the basis explicitly. You should follow the EXAMPLE below to convert a Hamiltonian from the single-particle form to second-quantized form.  \n",
      "Finally by \"total\", it means you need to take a summation over the real space position $r$.   \n",
      "Return the second quantized form of the total noninteracting Hamiltonian $\\hat{H}^{0}$  \n",
      "\n",
      "Use the following conventions for the symbols (You should also obey the conventions in all my previous prompts if you encounter undefined symbols. If you find it is never defined or has conflicts in the conventions, you should stop and let me know):  \n",
      "$\\psi_{\\tau,l}(r)$ : electron annihilation operator at valley index $\\tau$ and layer index $l$  \n",
      "$\\vec{\\psi}(r)$ : spinor containing all annihilation operators $\\psi_{\\tau,l}(r)$ following the same order of $H^{0}(r)$  \n",
      "$H^{0}(r)$ : single-particle noninteracting Hamiltonian in the real space  \n",
      "$\\hat{H}^{0}$ : total noninteracting Hamiltonian in the second quantized form \n",
      "\n",
      "===  \n",
      "EXAMPLE:  \n",
      "For a Hamiltonian $H$, where $H=\\begin{pmatrix} H_{a,a} & H_{a,b} \\\\ H_{b,a} & H_{b,b} \\end{pmatrix}$ and the order of basis is (a), (b), we can construct the creation operators $\\psi_a^\\dagger$  and $\\psi_b^\\dagger$, and the annihilation operator $\\psi_a$  and $\\psi_b$.  \n",
      "The corresponding second quantized form is $\\hat{H}=\\vec{\\psi}^\\dagger H \\vec{\\psi}$, where $\\vec{\\psi}=\\begin{pmatrix} \\psi_a \\\\ \\psi_b \\end{pmatrix}$ and $\\vec{\\psi}^\\dagger=\\begin{pmatrix} \\psi_a^\\dagger & \\psi_b^\\dagger \\end{pmatrix}$.\n"
     ]
    }
   ],
   "source": [
    "print_save(generate_prompt(kwargs,prompt_dict=prompt_dict())['content'])"
   ]
  },
  {
   "cell_type": "code",
   "execution_count": 420,
   "metadata": {},
   "outputs": [],
   "source": [
    "# user_msg.append(generate_prompt(kwargs,prompt_dict=prompt_dict))"
   ]
  },
  {
   "cell_type": "code",
   "execution_count": 421,
   "metadata": {},
   "outputs": [],
   "source": [
    "# messages=assembly_message(sys_msg,user_msg,AI_msg)"
   ]
  },
  {
   "cell_type": "code",
   "execution_count": 422,
   "metadata": {},
   "outputs": [],
   "source": [
    "# rs = openai.ChatCompletion.create(messages=messages, **model_params)\n",
    "\n",
    "# Markdown(rs['choices'][0]['message'].content)"
   ]
  },
  {
   "cell_type": "code",
   "execution_count": 423,
   "metadata": {},
   "outputs": [],
   "source": [
    "# AI_msg.append(dict(rs['choices'][0]['message']))"
   ]
  },
  {
   "cell_type": "code",
   "execution_count": 424,
   "metadata": {},
   "outputs": [],
   "source": [
    "# rs['choices'][0]['message'].content"
   ]
  },
  {
   "cell_type": "code",
   "execution_count": 425,
   "metadata": {},
   "outputs": [],
   "source": [
    "kwargs_list.append(kwargs)"
   ]
  },
  {
   "cell_type": "markdown",
   "metadata": {},
   "source": [
    "## Convert from single-particle to second-quantized form, return in summation (expand the matrix)"
   ]
  },
  {
   "cell_type": "code",
   "execution_count": 426,
   "metadata": {},
   "outputs": [],
   "source": [
    "kwargs = {\n",
    "    'task':'Convert from single-particle to second-quantized form, return in summation (expand the matrix)',\n",
    "    'second_nonint_symbol':  r'$\\hat{H}^{0}$',\n",
    "    'matrix_element_symbol': r'$H^{0}_{\\tau_1,l_1,\\tau_2,l_2}(r)$',\n",
    "    'basis_symbol': r'$\\psi_{\\tau,l}(r)$',\n",
    "    'expression_second_nonint': r'$\\hat{H}^{0} = \\int dr \\vec{\\psi}^\\dagger(r) H^{0}(r) \\vec{\\psi}(r)$, where $H^{0}(r)=H_{Kinetic}(r)+H_{Potential}(r)$, $H_{Kinetic}(r) = \\begin{pmatrix} -\\frac{\\hbar^2 k^2}{2 m_b} & 0 & 0 & 0 \\\\ 0 & -\\frac{\\hbar^2 (k-\\kappa)^2}{2 m_t} & 0 & 0 \\\\ 0 & 0 & -\\frac{\\hbar^2 k^2}{2 m_b} & 0 \\\\ 0 & 0 & 0 & -\\frac{\\hbar^2 (k+\\kappa)^2}{2 m_t} \\end{pmatrix}$, and $H_{Potential}(r) = \\begin{pmatrix} 2V_b\\sum_{j=1,3,5} \\cos(g_j \\cdot r  +\\psi_b) & w(1+\\omega e^{i g_2 \\cdot r} + \\omega^2 e^{i g_3 \\cdot r}) & 0 & 0 \\\\ w(1+\\omega^{-1}e^{-i g_2 \\cdot r} + \\omega^{-2} e^{-i g_3 \\cdot r}) & V_{zt} & 0 & 0 \\\\ 0 & 0 & 2V_b\\sum_{j=1,3,5} \\cos(g_j \\cdot r  +\\psi_b) & -w(1+\\omega^{-1}e^{-i g_2 \\cdot r} + \\omega^{-2} e^{-i g_3 \\cdot r}) \\\\ 0 & 0 & -w(1+\\omega e^{i g_2 \\cdot r} + \\omega^2 e^{i g_3 \\cdot r}) & V_{zt} \\end{pmatrix}$',\n",
    "    'def_var': r'''$H^{0}_{\\tau_1,l_1,\\tau_2,l_2}(r)$ : the matrix element of single-particle noninteracting Hamiltonian in the real space  ''',\n",
    "    'answer':r'$\\hat{H}^{0} = \\int dr \\sum_{l_1, l_2} \\left( \\psi_{+K,l_1}^\\dagger(r) H^{0}_{+K,l_1,+K,l_2}(r) \\psi_{+K,l_2}(r) + \\psi_{-K,l_1}^\\dagger(r) H^{0}_{-K,l_1,-K,l_2}(r) \\psi_{-K,l_2}(r) \\right)$'\n",
    "}\n"
   ]
  },
  {
   "cell_type": "code",
   "execution_count": 427,
   "metadata": {},
   "outputs": [
    {
     "name": "stdout",
     "output_type": "stream",
     "text": [
      "You will be instructed to expand the second-quantized form Hamiltonian $\\hat{H}^{0}$ using $H^{0}_{\\tau_1,l_1,\\tau_2,l_2}(r)$ and $\\psi_{\\tau,l}(r)$. You should follow the EXAMPLE below to expand the Hamiltonian.  \n",
      "You should use any previous knowledge to simplify it. For example, if any term of $H^{0}_{\\tau_1,l_1,\\tau_2,l_2}(r)$ is zero, you should remove it from the summation.\n",
      "You should recall that $\\hat{H}^{0} = \\int dr \\vec{\\psi}^\\dagger(r) H^{0}(r) \\vec{\\psi}(r)$, where $H^{0}(r)=H_{Kinetic}(r)+H_{Potential}(r)$, $H_{Kinetic}(r) = \\begin{pmatrix} -\\frac{\\hbar^2 k^2}{2 m_b} & 0 & 0 & 0 \\\\ 0 & -\\frac{\\hbar^2 (k-\\kappa)^2}{2 m_t} & 0 & 0 \\\\ 0 & 0 & -\\frac{\\hbar^2 k^2}{2 m_b} & 0 \\\\ 0 & 0 & 0 & -\\frac{\\hbar^2 (k+\\kappa)^2}{2 m_t} \\end{pmatrix}$, and $H_{Potential}(r) = \\begin{pmatrix} 2V_b\\sum_{j=1,3,5} \\cos(g_j \\cdot r  +\\psi_b) & w(1+\\omega e^{i g_2 \\cdot r} + \\omega^2 e^{i g_3 \\cdot r}) & 0 & 0 \\\\ w(1+\\omega^{-1}e^{-i g_2 \\cdot r} + \\omega^{-2} e^{-i g_3 \\cdot r}) & V_{zt} & 0 & 0 \\\\ 0 & 0 & 2V_b\\sum_{j=1,3,5} \\cos(g_j \\cdot r  +\\psi_b) & -w(1+\\omega^{-1}e^{-i g_2 \\cdot r} + \\omega^{-2} e^{-i g_3 \\cdot r}) \\\\ 0 & 0 & -w(1+\\omega e^{i g_2 \\cdot r} + \\omega^2 e^{i g_3 \\cdot r}) & V_{zt} \\end{pmatrix}$.  \n",
      "Return the expanded form of $\\hat{H}^{0}$ after simplication.  \n",
      "\n",
      "Use the following conventions for the symbols (You should also obey the conventions in all my previous prompts if you encounter undefined symbols. If you find it is never defined or has conflicts in the conventions, you should stop and let me know):  \n",
      "$H^{0}_{\\tau_1,l_1,\\tau_2,l_2}(r)$ : the matrix element of single-particle noninteracting Hamiltonian in the real space  \n",
      "\n",
      "===  \n",
      "EXAMPLE:  \n",
      "For a $\\hat{H}=\\vec{\\psi}^\\dagger H \\vec{\\psi}$, where $\\vec{\\psi}=\\begin{pmatrix} \\psi_a \\\\ \\psi_b \\end{pmatrix}$ and $\\vec{\\psi}^\\dagger=\\begin{pmatrix} \\psi_a^\\dagger & \\psi_b^\\dagger \\end{pmatrix}$, we can expand it as  $\\hat{H}=\\sum_{i,j=\\{a,b\\}} \\psi_i^\\dagger H_{i,j} \\psi_j$.\n"
     ]
    }
   ],
   "source": [
    "print_save(generate_prompt(kwargs,prompt_dict=prompt_dict())['content'])"
   ]
  },
  {
   "cell_type": "code",
   "execution_count": 428,
   "metadata": {},
   "outputs": [],
   "source": [
    "kwargs_list.append(kwargs)"
   ]
  },
  {
   "cell_type": "markdown",
   "metadata": {},
   "source": [
    "## Convert noninteracting Hamiltonian in real space to momentum space (continuum version)"
   ]
  },
  {
   "cell_type": "code",
   "execution_count": 429,
   "metadata": {},
   "outputs": [],
   "source": [
    "kwargs = {\n",
    "    'task':'Convert noninteracting Hamiltonian in real space to momentum space (continuum version)',\n",
    "    'real_creation_op': r'$\\psi_{\\tau,l}^\\dagger(r)$',\n",
    "    'momentum_creation_op': r'$c_{\\tau,l}^\\dagger(k)$',\n",
    "    'def_FT': r'$c_{\\tau,l}^\\dagger(k)= \\frac{1}{\\sqrt{V}} \\int dr \\psi_{\\tau,l}^\\dagger(r) e^{i k \\cdot r}$',\n",
    "    'real_var': '$r$',\n",
    "    'entire_real|fBZ': 'entire real space',\n",
    "    'second_nonint_symbol':  r'$\\hat{H}^{0}$',\n",
    "    'def_var': r'''$c_{l,\\tau}(k)$ : electron annihilation operator at momentum $k$, layer $l$, and valley $\\tau$  \n",
    "$c_{l,\\tau}^\\dagger(k)$ : electron creation operator at momentum $k$, layer $l$, and valley $\\tau$  \n",
    "$V$ : area of unit cell in the real space  ''',\n",
    "    'answer':r'$\\hat{H}^{0} = \\sum_{\\tau, l_1, l_2, k_1, k_2} c_{\\tau,l_1}^\\dagger(k_1) H^{0}_{\\tau,l_1,\\tau,l_2}(k_1,k_2) c_{\\tau,l_2}(k_2)$'\n",
    "}\n"
   ]
  },
  {
   "cell_type": "code",
   "execution_count": 430,
   "metadata": {},
   "outputs": [
    {
     "name": "stdout",
     "output_type": "stream",
     "text": [
      "You will be instructed to convert the total noninteracting Hamiltonian in the second quantized form from the basis in real space to the basis by momentum space.  \n",
      "To do that, you should apply the Fourier transformation to $\\psi_{\\tau,l}^\\dagger(r)$ in the real space to the $c_{\\tau,l}^\\dagger(k)$ in the momentum space, which is defined as $c_{\\tau,l}^\\dagger(k)= \\frac{1}{\\sqrt{V}} \\int dr \\psi_{\\tau,l}^\\dagger(r) e^{i k \\cdot r}$, where $r$ is integrated over the entire real space. You should follow the EXAMPLE below to apply the Fourier transformation.  \n",
      "Express the total noninteracting Hamiltonian $\\hat{H}^{0}$ in terms of $c_{\\tau,l}^\\dagger(k)$. Simplify any summation index if possible.  \n",
      "\n",
      "Use the following conventions for the symbols (You should also obey the conventions in all my previous prompts if you encounter undefined symbols. If you find it is never defined or has conflicts in the conventions, you should stop and let me know):  \n",
      "$c_{l,\\tau}(k)$ : electron annihilation operator at momentum $k$, layer $l$, and valley $\\tau$  \n",
      "$c_{l,\\tau}^\\dagger(k)$ : electron creation operator at momentum $k$, layer $l$, and valley $\\tau$  \n",
      "$V$ : area of unit cell in the real space  \n",
      "\n",
      "===  \n",
      "EXAMPLE:  \n",
      "Write a Hamiltonian $\\hat{H}$ in the second quantized form, $\\hat{H}=\\int dr \\psi(r)^\\dagger H(r) \\psi(r)$, where $r$ is integrated over the entire real space.  \n",
      "Define the Fourier transformation $c^\\dagger(k)=\\frac{1}{\\sqrt{V}} \\int \\psi^\\dagger(r) e^{i k \\cdot r} dr$, where $r$ is integrated over the entire real space, and $V$ is the area of the unit cell in the real space.  \n",
      "This leads to the inverse Fourier transformation $\\psi^\\dagger(r) = \\frac{1}{\\sqrt{V}} \\sum_k c^\\dagger(k) e^{-i k \\cdot r}$, where $k$ is summed over the extended Brillouin zone (i.e., the entire momentum space), $\\Omega$ is the area of Brillouin zone in the momentum space.  \n",
      "Thus, substitute $\\psi^\\dagger(r)$ and $\\psi(r)$ into $\\hat{H}$, we get  \n",
      "$$\\hat{H} = \\int dr \\frac{1}{\\sqrt{V}} \\sum_{k_1} c^\\dagger(k_1) e^{-i k_1 \\cdot r} H(r) \\frac{1}{\\sqrt{V}} \\sum_{k_2} c(k_2) e^{i k_2 \\cdot r} =\\sum_{k_1,k_2} c^\\dagger(k_1) \\frac{1}{V} \\int dr e^{-i (k_1-k_2)\\cdot r} H(r) c(k_2) = \\sum_{k_1,k_2} c^\\dagger(k_1) H(k_1,k_2) c(k_2)$$  \n",
      ", where we define the Fourier transformation of $H(r)$ as $H(k_1,k_2)=\\frac{1}{V} \\int dr e^{-i (k_1-k_2)\\cdot r} H(r)$.\n"
     ]
    }
   ],
   "source": [
    "print_save(generate_prompt(kwargs,prompt_dict=prompt_dict())['content'])"
   ]
  },
  {
   "cell_type": "code",
   "execution_count": 431,
   "metadata": {},
   "outputs": [],
   "source": [
    "kwargs_list.append(kwargs)"
   ]
  },
  {
   "cell_type": "markdown",
   "metadata": {},
   "source": [
    "## Particle-hole transformation"
   ]
  },
  {
   "cell_type": "code",
   "execution_count": 432,
   "metadata": {},
   "outputs": [],
   "source": [
    "kwargs = {\n",
    "    'task':'Particle-hole transformation',\n",
    "    'hole_op': r'$b_{l,\\tau}(k)$',\n",
    "    'particle_op': r'$c_{l,\\tau}^\\dagger(k)$',\n",
    "    'particle_creation_op': r'$c_{l,\\tau}$',\n",
    "    'hole_creation_op': r'$b_{l,\\tau}(k)^\\dagger$',\n",
    "    'particle_annihilation_op': r'$c_{l,\\tau}^\\dagger$',\n",
    "    'hole_annihilation_op': r'$b_{l,\\tau}(k)$',\n",
    "    'second_nonint_symbol':  r'$\\hat{H}^{0}$',\n",
    "    'def_var': r'''$b_{l,\\tau}(k)$ : hole annihilation operator at momentum $k$, layer $l$, and valley $\\tau$''',\n",
    "    'expression_particle_Ham' :r'$\\hat{H}^{0} = \\sum_{\\tau, l_1, l_2, k_1, k_2} c_{\\tau,l_1}^\\dagger(k_1) H^{0}_{\\tau,l_1,\\tau,l_2}(k_1,k_2) c_{\\tau,l_2}(k_2)$',\n",
    "    'answer':r'$\\hat{H}^{0} = \\sum_{\\tau, l_1, l_2, k_1, k_2} b_{\\tau, l_1}(k_1) H^{0}_{\\tau, l_1, \\tau, l_2}(k_1, k_2) b_{\\tau, l_2}^\\dagger(k_2)$'\n",
    "}\n"
   ]
  },
  {
   "cell_type": "code",
   "execution_count": 433,
   "metadata": {},
   "outputs": [
    {
     "name": "stdout",
     "output_type": "stream",
     "text": [
      "You will be instructed to perform a particle-hole transformation.  \n",
      "Define a hole operator, $b_{l,\\tau}(k)$, which equals $c_{l,\\tau}^\\dagger(k)$.  \n",
      "You should replace $c_{l,\\tau}$ with $b_{l,\\tau}(k)^\\dagger$, and $c_{l,\\tau}^\\dagger$ with $b_{l,\\tau}(k)$. You should follow the EXAMPLE below to apply the particle-hole transformation.  \n",
      "You should recall that $\\hat{H}^{0} = \\sum_{\\tau, l_1, l_2, k_1, k_2} c_{\\tau,l_1}^\\dagger(k_1) H^{0}_{\\tau,l_1,\\tau,l_2}(k_1,k_2) c_{\\tau,l_2}(k_2)$.\n",
      "Return the $\\hat{H}^{0}$ in the hole operators.\n",
      "\n",
      "Use the following conventions for the symbols (You should also obey the conventions in all my previous prompts if you encounter undefined symbols. If you find it is never defined or has conflicts in the conventions, you should stop and let me know):  \n",
      "$b_{l,\\tau}(k)$ : hole annihilation operator at momentum $k$, layer $l$, and valley $\\tau$\n",
      "\n",
      "===  \n",
      "EXAMPLE:  \n",
      "Give a Hamiltonian  $\\hat{H}=\\sum_{k_1,k_2} c^\\dagger(k_1) h(k_1,k_2) c(k_2)$ , and the particle-hole transformation as $b(k)=c^\\dagger(k)$. The transformed Hamiltonian is $\\hat{H}=\\sum_{k_1,k_2} b(k_1) h(k_1,k_2) b^\\dagger(k_2)$\n"
     ]
    }
   ],
   "source": [
    "print_save(generate_prompt(kwargs,prompt_dict=prompt_dict())['content'])"
   ]
  },
  {
   "cell_type": "code",
   "execution_count": 434,
   "metadata": {},
   "outputs": [],
   "source": [
    "kwargs_list.append(kwargs)"
   ]
  },
  {
   "cell_type": "markdown",
   "metadata": {},
   "source": [
    "## Simplify the Hamiltonian in the particle-hole basis"
   ]
  },
  {
   "cell_type": "code",
   "execution_count": 435,
   "metadata": {},
   "outputs": [],
   "source": [
    "kwargs = {\n",
    "    'task':'Simplify the Hamiltonian in the particle-hole basis',\n",
    "    'second_nonint_symbol':  r'$\\hat{H}^{0}$',\n",
    "    'hole_op': r'$b_{l,\\tau}(k)$',\n",
    "    'index_1': r'$l_1$/$k_1$',\n",
    "    'index_2': r'$l_2$/$k_2$',\n",
    "    'op': r'$b$',\n",
    "    'Ham_op': r'$H$',\n",
    "    'def_var': r'''$\\delta_{i,j}$ : Kronecker delta function, take the value of 1 if $i=j$, and 0 otherwise.  \n",
    "$`[b_i, b_j]_{+}`$ : anticommuting relation, i.e., $`[b_i, b_j]_+= b_i b_j +b_j b_i`$  \n",
    "$\\hat{H}^{0,final}$ : the final version of noninteracting Hamiltonian $\\hat{H}^{0}$ in the hole basis after simplification.''',\n",
    "    'expression_hole_Ham': r'$\\hat{H}^{0} = \\sum_{\\tau, l_1, l_2, k_1, k_2} b_{\\tau, l_1}(k_1) H^{0}_{\\tau, l_1, \\tau, l_2}(k_1, k_2) b_{\\tau, l_2}^\\dagger(k_2)$',\n",
    "    'answer':r'$\\hat{H}^{0} = \\sum_{\\tau, l_1, k_1} H^{0}_{\\tau, l_1, \\tau, l_1}(k_1, k_1) - \\sum_{\\tau, l_1, l_2, k_1, k_2} b_{\\tau, l_1}^\\dagger(k_1) (H^{0}_{\\tau, l_1, \\tau, l_2}(k_1, k_2))^* b_{\\tau, l_2}(k_2)$'\n",
    "}\n"
   ]
  },
  {
   "cell_type": "code",
   "execution_count": 436,
   "metadata": {},
   "outputs": [
    {
     "name": "stdout",
     "output_type": "stream",
     "text": [
      "You will be instructed to simplify the $\\hat{H}^{0}$ in the hole basis.  \n",
      "You should use canonical commutator relation for fermions to reorder the hole operator to the normal order. Normal order means that creation operators always appear before the annihilation operators.  You should follow the EXAMPLE below to simplify it to the normal order.  \n",
      "Express the $\\hat{H}^{0}$ in the normal order of $b_{l,\\tau}(k)$ and also make $l_1$/$k_1$ always appear before $l_2$/$k_2$ in the index of $b$ and $H$.  \n",
      "You should recall that $\\hat{H}^{0} = \\sum_{\\tau, l_1, l_2, k_1, k_2} b_{\\tau, l_1}(k_1) H^{0}_{\\tau, l_1, \\tau, l_2}(k_1, k_2) b_{\\tau, l_2}^\\dagger(k_2)$\n",
      "Use the following conventions for the symbols (You should also obey the conventions in all my previous prompts if you encounter undefined symbols. If you find it is never defined or has conflicts in the conventions, you should stop and let me know):  \n",
      "$\\delta_{i,j}$ : Kronecker delta function, take the value of 1 if $i=j$, and 0 otherwise.  \n",
      "$`[b_i, b_j]_{+}`$ : anticommuting relation, i.e., $`[b_i, b_j]_+= b_i b_j +b_j b_i`$  \n",
      "$\\hat{H}^{0,final}$ : the final version of noninteracting Hamiltonian $\\hat{H}^{0}$ in the hole basis after simplification.\n",
      "\n",
      "===\n",
      "EXAMPLE:  \n",
      "For $\\hat{H}^{0}= \\sum_{i,j} b_i H_{i,j} b_j^\\dagger$, where $b_i$ satisfies fermion statistics (anticommuting to its self-adjoint operator).  \n",
      "This gives $`[b_i, b_j^\\dagger]_{+} = \\delta_{i,j}`$, which means $b_i b_j^\\dagger=\\delta_{i,j}-b_j^\\dagger b_i$.  \n",
      "Substitute it into $\\hat{H}^{0}$, we have $\\hat{H}^{0}=\\sum_{i,j} (\\delta_{i,j}-b_j^\\dagger b_i) H_{i,j}=\\sum_{i,j} \\delta_{i,j} H_{i,j} - \\sum_{i,j}b_j^\\dagger b_i H_{i,j}=\\sum_i H_{i,i} - \\sum_{i,j}b_j^\\dagger b_i H_{i,j}$.  \n",
      "The first term is simply $\\sum_i H_{i,i}$ by summing over the index $j$ due to $\\delta_{i,j}$.\n",
      "The second term is $-\\sum_{i,j}b_j^\\dagger b_i H_{i,j}$.  \n",
      "Relabeling the index of $i$ and $j$ by swapping them to make it consistent with the original order of index (namely, $i$ appears before $j$ in the index of $b$ and $H$), it becomes $-\\sum_{i,j}b_i^\\dagger H_{j,i} b_j$.\n",
      "Finally, to fix the order of the index in $H$ such that $i$ appears before $j$, we notice that $`H_{j,i}=(H_{i,j})^*`$, where $`^*`$ means complex conjugate, because the Hamiltonian is Hermitian.  \n",
      "Thus, we end up in $\\hat{H}^{0}=\\sum_{i,j} b_i H_{i,j} b_j^\\dagger=\\sum_i H_{i,i}-\\sum_{i,j}b_i^\\dagger (H_{i,j})^* b_j$\n"
     ]
    }
   ],
   "source": [
    "print_save(generate_prompt(kwargs,prompt_dict=prompt_dict())['content'])"
   ]
  },
  {
   "cell_type": "code",
   "execution_count": 437,
   "metadata": {},
   "outputs": [],
   "source": [
    "kwargs_list.append(kwargs)"
   ]
  },
  {
   "cell_type": "markdown",
   "metadata": {},
   "source": [
    "## Construct interaction Hamiltonian (momentum space)"
   ]
  },
  {
   "cell_type": "code",
   "execution_count": 438,
   "metadata": {},
   "outputs": [],
   "source": [
    "kwargs = {\n",
    "    'task':'Construct interaction Hamiltonian (momentum space)',\n",
    "    'second_int_symbol':  r'$\\hat{H}^{int}$',\n",
    "    'index': r'valley index $\\tau_i$ and layer index $l_i$',\n",
    "    'momentum': r'momentum $k_i$',\n",
    "    'For each operator, the total momentum is the sum of moire reciprocal lattice $b_i$ and momentum with in the first BZ $k_i$|None': '',\n",
    "    'interaction': r'the dual-gate-screened Coulomb interaction',\n",
    "    'int_form': r'$2\\pi e^2\\tanh(|q| d)/(\\epsilon |q|)$',\n",
    "    'normalization_factor': r'$\\frac{1}{2 V}$',\n",
    "    'op': r'$b_{l,\\tau}(k)$',\n",
    "    'def_var': r'''$d$ : distance between dual gates  \n",
    "$\\epsilon$ : dielectric constant  \n",
    "$V(q)$ : dual-gate-screened Coulomb interaction in the momentum space''',\n",
    "    'answer':r'$\\hat{H}^{int} = \\frac{1}{2V}\\sum_{\\tau_1,\\tau_2,l_1,l_2,k_1,k_2,k_3,k_4} b_{l_1,\\tau_1}^\\dagger(k_1)b_{l_2,\\tau_2}^\\dagger(k_2)b_{l_2,\\tau_2}(k_3)b_{l_1,\\tau_1}(k_4) V(|k_1-k_4|)\\delta_{k_1+k_2,k_3+k_4}$'\n",
    "}\n"
   ]
  },
  {
   "cell_type": "code",
   "execution_count": 439,
   "metadata": {},
   "outputs": [
    {
     "name": "stdout",
     "output_type": "stream",
     "text": [
      "You will be instructed to construct the interaction part of the Hamiltonian $\\hat{H}^{int}$ in the momentum space.  \n",
      "The interaction Hamiltonian is a product of four parts.\n",
      "The first part is the product of four operators with two creation and two annihilation operators following the normal order, namely, creation operators are before annihilation operators. You should follow the order of $1,2,2,1$ for the valley index $\\tau_i$ and layer index $l_i$, and $1,2,3,4$ for the momentum $k_i$. \n",
      "The second part is the constraint of total momentum conservation, namely the total momentum of all creation operators should be the same as that of all annihilation operators.   \n",
      "The third part is the interaction form. You should use the dual-gate-screened Coulomb interaction with $V(q)=$2\\pi e^2\\tanh(|q| d)/(\\epsilon |q|)$$, where $q$ is the transferred total momentum between a creation operator and an annilation operator with the same valley index $\\tau_i$ and layer index $l_i$, namely $q=k_1-k_4$.  \n",
      "The fourth part is the normalization factor, you should use $\\frac{1}{2 V}$ here.\n",
      "Finally, the summation should be running over all valley index $\\tau_i$ and layer index $l_i$, and momentum $k_i$\n",
      "Return the interaction term $\\hat{H}^{int}$ in terms of $b_{l,\\tau}(k)$ and $V(q)$ (with $q$ expressed in terms of momentum $k_i$).  \n",
      "\n",
      "Use the following conventions for the symbols (You should also obey the conventions in all my previous prompts if you encounter undefined symbols. If you find it is never defined or has conflicts in the conventions, you should stop and let me know):  \n",
      "$d$ : distance between dual gates  \n",
      "$\\epsilon$ : dielectric constant  \n",
      "$V(q)$ : dual-gate-screened Coulomb interaction in the momentum space\n"
     ]
    }
   ],
   "source": [
    "print_save(generate_prompt(kwargs,prompt_dict=prompt_dict())['content'])"
   ]
  },
  {
   "cell_type": "code",
   "execution_count": 440,
   "metadata": {},
   "outputs": [],
   "source": [
    "kwargs_list.append(kwargs)"
   ]
  },
  {
   "cell_type": "markdown",
   "metadata": {},
   "source": [
    "## Wick's theorem"
   ]
  },
  {
   "cell_type": "code",
   "execution_count": 441,
   "metadata": {},
   "outputs": [],
   "source": [
    "kwargs = {\n",
    "    'task':\"Wick's theorem\",\n",
    "    'second_int_symbol':  r'$\\hat{H}^{int}$',\n",
    "    'HF_symbol': r'$\\hat{H}^{int,HF}$',\n",
    "    'expression_int': r'$\\hat{H}^{int} = \\frac{1}{2V}\\sum_{\\tau_1,\\tau_2,l_1,l_2,k_1,k_2,k_3,k_4} b_{l_1,\\tau_1}^\\dagger(k_1)b_{l_2,\\tau_2}^\\dagger(k_2)b_{l_2,\\tau_2}(k_3)b_{l_1,\\tau_1}(k_4) V(|k_1-k_4|)\\delta_{k_1+k_2,k_3+k_4}$',\n",
    "    'def_var': r'''$\\langle b_{l_1,\\tau_1}^\\dagger(k_1) b_{l_2,\\tau_2}(k_2) \\rangle$ : expectation of $b_{l_1,\\tau_1}^\\dagger(k_1) b_{l_2,\\tau_2}(k_2)$ over the many-body ground states.  \n",
    "$\\hat{H}^{int,HF}$ : Interaction term after Hartree-Fock approximation''',\n",
    "    'answer':r'$\\hat{H}^{int,HF}=\\frac{1}{2V}\\sum_{\\tau_1,\\tau_2,l_1,l_2,k_1,k_2,k_3,k_4} \\left[\\langle b_{l_1,\\tau_1}^\\dagger(k_1) b_{l_1,\\tau_1}(k_4) \\rangle b_{l_2,\\tau_2}^\\dagger(k_2) b_{l_2,\\tau_2}(k_3) + \\langle b_{l_2,\\tau_2}^\\dagger(k_2) b_{l_2,\\tau_2}(k_3) \\rangle b_{l_1,\\tau_1}^\\dagger(k_1) b_{l_1,\\tau_1}(k_4)-\\langle b_{l_1,\\tau_1}^\\dagger(k_1) b_{l_1,\\tau_1}(k_4) \\rangle \\langle b_{l_2,\\tau_2}^\\dagger(k_2) b_{l_2,\\tau_2}(k_3) \\rangle - \\langle b_{l_1,\\tau_1}^\\dagger(k_1) b_{l_2,\\tau_2}(k_3) \\rangle b_{l_2,\\tau_2}^\\dagger(k_2) b_{l_1,\\tau_1}(k_4) - \\langle b_{l_2,\\tau_2}^\\dagger(k_2) b_{l_1,\\tau_1}(k_4) \\rangle b_{l_1,\\tau_1}^\\dagger(k_1) b_{l_2,\\tau_2}(k_3) + \\langle b_{l_1,\\tau_1}^\\dagger(k_1) b_{l_2,\\tau_2}(k_3) \\rangle \\langle b_{l_2,\\tau_2}^\\dagger(k_2) b_{l_1,\\tau_1}(k_4) \\rangle\\right] V(|k_1-k_4|)\\delta_{k_1+k_2,k_3+k_4}$'\n",
    "}\n"
   ]
  },
  {
   "cell_type": "code",
   "execution_count": 442,
   "metadata": {},
   "outputs": [
    {
     "name": "stdout",
     "output_type": "stream",
     "text": [
      "You will be instructed to perform a Hartree-Fock approximation to expand the interaction term $\\hat{H}^{int}$.  \n",
      "You should use Wick's theorem to expand the four-fermion term in $\\hat{H}^{int}$ into quadratic terms. You should strictly follow the EXAMPLE below to expand using Wick's theorem, select the correct EXAMPLE by noticing the order of four term product with and without ${}^\\dagger$, and be extremely cautious about the order of the index and sign before each term.  \n",
      "You should only preserve the normal terms. Here, the normal terms mean the product of a creation operator and an annihilation operator.  \n",
      "You should recall that $\\hat{H}^{int} = \\frac{1}{2V}\\sum_{\\tau_1,\\tau_2,l_1,l_2,k_1,k_2,k_3,k_4} b_{l_1,\\tau_1}^\\dagger(k_1)b_{l_2,\\tau_2}^\\dagger(k_2)b_{l_2,\\tau_2}(k_3)b_{l_1,\\tau_1}(k_4) V(|k_1-k_4|)\\delta_{k_1+k_2,k_3+k_4}$.\n",
      "Return the expanded interaction term after Hartree-Fock approximation $\\hat{H}^{int,HF}$.\n",
      "\n",
      "Use the following conventions for the symbols (You should also obey the conventions in all my previous prompts if you encounter undefined symbols. If you find it is never defined or has conflicts in the conventions, you should stop and let me know):  \n",
      "$\\langle b_{l_1,\\tau_1}^\\dagger(k_1) b_{l_2,\\tau_2}(k_2) \\rangle$ : expectation of $b_{l_1,\\tau_1}^\\dagger(k_1) b_{l_2,\\tau_2}(k_2)$ over the many-body ground states.  \n",
      "$\\hat{H}^{int,HF}$ : Interaction term after Hartree-Fock approximation\n",
      "\n",
      "===\n",
      "EXAMPLE 1:  \n",
      "For a four-fermion term $a_1^\\dagger a_2^\\dagger a_3 a_4$, using Wick's theorem and preserving only the normal terms. this is expanded as $a_1^\\dagger a_2^\\dagger a_3 a_4 = \\langle a_1^\\dagger a_4 \\rangle a_2^\\dagger a_3 + \\langle a_2^\\dagger a_3 \\rangle a_1^\\dagger a_4 - \\langle a_1^\\dagger a_4 \\rangle \\langle a_2^\\dagger a_3\\rangle - \\langle a_1^\\dagger a_3 \\rangle a_2^\\dagger a_4 - \\langle a_2^\\dagger a_4 \\rangle a_1^\\dagger a_3 + \\langle a_1^\\dagger a_3\\rangle \\langle a_2^\\dagger a_4 \\rangle$  \n",
      "Be cautious about the order of the index and sign before each term here.\n",
      "\n",
      "EXAMPLE 2:  \n",
      "For a four-fermion term $a_1^\\dagger a_2 a_3^\\dagger a_4$, using Wick's theorem and preserving only the normal terms. this is expanded as $a_1^\\dagger a_2 a_3^\\dagger a_4 = \\langle a_1^\\dagger a_2 \\rangle a_3^\\dagger a_4 + \\langle a_3^\\dagger a_4 \\rangle a_1^\\dagger a_2 - \\langle a_1^\\dagger a_2 \\rangle \\langle a_3^\\dagger a_4\\rangle - \\langle a_1^\\dagger a_4 \\rangle a_3^\\dagger a_2 - \\langle a_3^\\dagger a_2 \\rangle a_1^\\dagger a_4 + \\langle a_1^\\dagger a_4\\rangle \\langle a_3^\\dagger a_2 \\rangle$  \n",
      "Be cautious about the order of the index and sign before each term here.\n"
     ]
    }
   ],
   "source": [
    "print_save(generate_prompt(kwargs,prompt_dict=prompt_dict())['content'])"
   ]
  },
  {
   "cell_type": "code",
   "execution_count": 443,
   "metadata": {},
   "outputs": [],
   "source": [
    "kwargs_list.append(kwargs)"
   ]
  },
  {
   "cell_type": "markdown",
   "metadata": {},
   "source": [
    "## Extract quadratic term"
   ]
  },
  {
   "cell_type": "code",
   "execution_count": 444,
   "metadata": {},
   "outputs": [],
   "source": [
    "kwargs = {\n",
    "    'task':\"Extract quadratic term\",\n",
    "    'HF_symbol': r'$\\hat{H}^{int,HF}$',\n",
    "    'bilinear_op': r'$b^\\dagger b$',\n",
    "    'HF_2_symbol': r'$\\hat{H}^{int,HF,2}$',\n",
    "    'expression_HF': r'$\\hat{H}^{int,HF}=\\frac{1}{2V}\\sum_{\\tau_1,\\tau_2,l_1,l_2,k_1,k_2,k_3,k_4} \\left[\\langle b_{l_1,\\tau_1}^\\dagger(k_1) b_{l_1,\\tau_1}(k_4) \\rangle b_{l_2,\\tau_2}^\\dagger(k_2) b_{l_2,\\tau_2}(k_3) + \\langle b_{l_2,\\tau_2}^\\dagger(k_2) b_{l_2,\\tau_2}(k_3) \\rangle b_{l_1,\\tau_1}^\\dagger(k_1) b_{l_1,\\tau_1}(k_4)-\\langle b_{l_1,\\tau_1}^\\dagger(k_1) b_{l_1,\\tau_1}(k_4) \\rangle \\langle b_{l_2,\\tau_2}^\\dagger(k_2) b_{l_2,\\tau_2}(k_3) \\rangle - \\langle b_{l_1,\\tau_1}^\\dagger(k_1) b_{l_2,\\tau_2}(k_3) \\rangle b_{l_2,\\tau_2}^\\dagger(k_2) b_{l_1,\\tau_1}(k_4) - \\langle b_{l_2,\\tau_2}^\\dagger(k_2) b_{l_1,\\tau_1}(k_4) \\rangle b_{l_1,\\tau_1}^\\dagger(k_1) b_{l_2,\\tau_2}(k_3) + \\langle b_{l_1,\\tau_1}^\\dagger(k_1) b_{l_2,\\tau_2}(k_3) \\rangle \\langle b_{l_2,\\tau_2}^\\dagger(k_2) b_{l_1,\\tau_1}(k_4) \\rangle\\right] V(|k_1-k_4|)\\delta_{k_1+k_2,k_3+k_4}$',\n",
    "    'def_var': r'''$\\hat{H}^{int,HF,2}$ : the quadratic terms in $\\hat{H}^{int,HF}$''',\n",
    "    'answer':r'$\\hat{H}^{int,HF,2}=\\frac{1}{2V}\\sum_{\\tau_1,\\tau_2,l_1,l_2,k_1,k_2,k_3,k_4} \\left[\\langle b_{l_1,\\tau_1}^\\dagger(k_1) b_{l_1,\\tau_1}(k_4) \\rangle b_{l_2,\\tau_2}^\\dagger(k_2) b_{l_2,\\tau_2}(k_3) + \\langle b_{l_2,\\tau_2}^\\dagger(k_2) b_{l_2,\\tau_2}(k_3) \\rangle b_{l_1,\\tau_1}^\\dagger(k_1) b_{l_1,\\tau_1}(k_4) - \\langle b_{l_1,\\tau_1}^\\dagger(k_1) b_{l_2,\\tau_2}(k_3) \\rangle b_{l_2,\\tau_2}^\\dagger(k_2) b_{l_1,\\tau_1}(k_4) - \\langle b_{l_2,\\tau_2}^\\dagger(k_2) b_{l_1,\\tau_1}(k_4) \\rangle b_{l_1,\\tau_1}^\\dagger(k_1) b_{l_2,\\tau_2}(k_3)\\right] V(|k_1-k_4|)\\delta_{k_1+k_2,k_3+k_4}$'\n",
    "}\n"
   ]
  },
  {
   "cell_type": "code",
   "execution_count": 445,
   "metadata": {},
   "outputs": [
    {
     "name": "stdout",
     "output_type": "stream",
     "text": [
      "You will be instructed to extract the quadratic terms in the $\\hat{H}^{int,HF}$.  \n",
      "The quadratic terms mean terms that are proportional to $b^\\dagger b$, which excludes terms that are solely expectations or products of expectations.  \n",
      "You should only preserve the quadratic terms in $\\hat{H}^{int,HF}$, which is called $\\hat{H}^{int,HF,2}$.  \n",
      "You should recall that $\\hat{H}^{int,HF}=\\frac{1}{2V}\\sum_{\\tau_1,\\tau_2,l_1,l_2,k_1,k_2,k_3,k_4} \\left[\\langle b_{l_1,\\tau_1}^\\dagger(k_1) b_{l_1,\\tau_1}(k_4) \\rangle b_{l_2,\\tau_2}^\\dagger(k_2) b_{l_2,\\tau_2}(k_3) + \\langle b_{l_2,\\tau_2}^\\dagger(k_2) b_{l_2,\\tau_2}(k_3) \\rangle b_{l_1,\\tau_1}^\\dagger(k_1) b_{l_1,\\tau_1}(k_4)-\\langle b_{l_1,\\tau_1}^\\dagger(k_1) b_{l_1,\\tau_1}(k_4) \\rangle \\langle b_{l_2,\\tau_2}^\\dagger(k_2) b_{l_2,\\tau_2}(k_3) \\rangle - \\langle b_{l_1,\\tau_1}^\\dagger(k_1) b_{l_2,\\tau_2}(k_3) \\rangle b_{l_2,\\tau_2}^\\dagger(k_2) b_{l_1,\\tau_1}(k_4) - \\langle b_{l_2,\\tau_2}^\\dagger(k_2) b_{l_1,\\tau_1}(k_4) \\rangle b_{l_1,\\tau_1}^\\dagger(k_1) b_{l_2,\\tau_2}(k_3) + \\langle b_{l_1,\\tau_1}^\\dagger(k_1) b_{l_2,\\tau_2}(k_3) \\rangle \\langle b_{l_2,\\tau_2}^\\dagger(k_2) b_{l_1,\\tau_1}(k_4) \\rangle\\right] V(|k_1-k_4|)\\delta_{k_1+k_2,k_3+k_4}$.\n",
      "Return this Hamiltonian $\\hat{H}^{int,HF,2}$.  \n",
      "\n",
      "Use the following conventions for the symbols (You should also obey the conventions in all my previous prompts if you encounter undefined symbols. If you find it is never defined or has conflicts in the conventions, you should stop and let me know):  \n",
      "$\\hat{H}^{int,HF,2}$ : the quadratic terms in $\\hat{H}^{int,HF}$\n"
     ]
    }
   ],
   "source": [
    "print_save(generate_prompt(kwargs,prompt_dict=prompt_dict())['content'])"
   ]
  },
  {
   "cell_type": "code",
   "execution_count": 446,
   "metadata": {},
   "outputs": [],
   "source": [
    "kwargs_list.append(kwargs)"
   ]
  },
  {
   "cell_type": "markdown",
   "metadata": {},
   "source": [
    "## Swap the index to combine Hartree and Fock terms"
   ]
  },
  {
   "cell_type": "code",
   "execution_count": 447,
   "metadata": {},
   "outputs": [],
   "source": [
    "kwargs = {\n",
    "    'task':\"Swap the index to combine Hartree and Fock terms\",\n",
    "    'HF_2_symbol': r'$\\hat{H}^{int,HF,2}$',\n",
    "    'expval': r'$\\langle b_{\\tau_1,l_1}^\\dagger(k_1) b_{\\tau_1,l_1}(k_4) \\rangle$',\n",
    "    'expression_Hartree_1':r'$\\langle b_{\\tau_1,l_1}^\\dagger(k_1) b_{\\tau_1,l_1}(k_4) \\rangle b_{\\tau_2,l_2}^\\dagger(k_2) b_{\\tau_2,l_2}(k_3)$',\n",
    "    'expression_Hartree_2':r'$\\langle b_{\\tau_2,l_2}^\\dagger(k_2) b_{\\tau_2,l_2}(k_3) \\rangle b_{\\tau_1,l_1}^\\dagger(k_1) b_{\\tau_1,l_1}(k_4)$',\n",
    "    'expression_HF_2':r'$\\hat{H}^{int,HF,2}=\\frac{1}{2V}\\sum_{\\tau_1,\\tau_2,l_1,l_2,k_1,k_2,k_3,k_4} \\left[\\langle b_{l_1,\\tau_1}^\\dagger(k_1) b_{l_1,\\tau_1}(k_4) \\rangle b_{l_2,\\tau_2}^\\dagger(k_2) b_{l_2,\\tau_2}(k_3) + \\langle b_{l_2,\\tau_2}^\\dagger(k_2) b_{l_2,\\tau_2}(k_3) \\rangle b_{l_1,\\tau_1}^\\dagger(k_1) b_{l_1,\\tau_1}(k_4) - \\langle b_{l_1,\\tau_1}^\\dagger(k_1) b_{l_2,\\tau_2}(k_3) \\rangle b_{l_2,\\tau_2}^\\dagger(k_2) b_{l_1,\\tau_1}(k_4) - \\langle b_{l_2,\\tau_2}^\\dagger(k_2) b_{l_1,\\tau_1}(k_4) \\rangle b_{l_1,\\tau_1}^\\dagger(k_1) b_{l_2,\\tau_2}(k_3)\\right] V(|k_1-k_4|)\\delta_{k_1+k_2,k_3+k_4}$',\n",
    "    'answer':r'$\\hat{H}^{int,HF,2}=\\frac{1}{V}\\sum_{\\tau_1,\\tau_2,l_1,l_2,k_1,k_2,k_3,k_4} \\left[\\langle b_{l_1,\\tau_1}^\\dagger(k_1) b_{l_1,\\tau_1}(k_4) \\rangle b_{l_2,\\tau_2}^\\dagger(k_2) b_{l_2,\\tau_2}(k_3) - \\langle b_{l_1,\\tau_1}^\\dagger(k_1) b_{l_2,\\tau_2}(k_3) \\rangle b_{l_2,\\tau_2}^\\dagger(k_2) b_{l_1,\\tau_1}(k_4)\\right] V(|k_1-k_4|)\\delta_{k_1+k_2,k_3+k_4}$'\n",
    "}\n"
   ]
  },
  {
   "cell_type": "code",
   "execution_count": 448,
   "metadata": {},
   "outputs": [
    {
     "name": "stdout",
     "output_type": "stream",
     "text": [
      "You will be instructed to simplify the quadratic term $\\hat{H}^{int,HF,2}$ through relabeling the index to combine the two Hartree/Fock term into one Hartree/Fock term.  \n",
      "The logic is that the expected value ($\\langle b_{\\tau_1,l_1}^\\dagger(k_1) b_{\\tau_1,l_1}(k_4) \\rangle$) in the first Hartree term ($\\langle b_{\\tau_1,l_1}^\\dagger(k_1) b_{\\tau_1,l_1}(k_4) \\rangle b_{\\tau_2,l_2}^\\dagger(k_2) b_{\\tau_2,l_2}(k_3)$) has the same form as the qudratic operators in the second Hartree term ($\\langle b_{\\tau_2,l_2}^\\dagger(k_2) b_{\\tau_2,l_2}(k_3) \\rangle b_{\\tau_1,l_1}^\\dagger(k_1) b_{\\tau_1,l_1}(k_4)$), and vice versa. The same applies to the Fock term.  \n",
      "This means, if you relabel the index by swapping the index in the \"expected value\" and \"quadratic operators\" in the second Hartree term, you can make the second Hartree term look identical to the first Hartree term, as long as $V(q)=V(-q)$, which is naturally satisfied in Coulomb interaction. You should follow the EXAMPLE below to simplify it through relabeling the index.  \n",
      "You should perform this trick of \"relabeling the index\" for both two Hartree terms and two Fock terms to reduce them to one Hartree term, and one Fock term.  \n",
      "You should recall that $\\hat{H}^{int,HF,2}=\\frac{1}{2V}\\sum_{\\tau_1,\\tau_2,l_1,l_2,k_1,k_2,k_3,k_4} \\left[\\langle b_{l_1,\\tau_1}^\\dagger(k_1) b_{l_1,\\tau_1}(k_4) \\rangle b_{l_2,\\tau_2}^\\dagger(k_2) b_{l_2,\\tau_2}(k_3) + \\langle b_{l_2,\\tau_2}^\\dagger(k_2) b_{l_2,\\tau_2}(k_3) \\rangle b_{l_1,\\tau_1}^\\dagger(k_1) b_{l_1,\\tau_1}(k_4) - \\langle b_{l_1,\\tau_1}^\\dagger(k_1) b_{l_2,\\tau_2}(k_3) \\rangle b_{l_2,\\tau_2}^\\dagger(k_2) b_{l_1,\\tau_1}(k_4) - \\langle b_{l_2,\\tau_2}^\\dagger(k_2) b_{l_1,\\tau_1}(k_4) \\rangle b_{l_1,\\tau_1}^\\dagger(k_1) b_{l_2,\\tau_2}(k_3)\\right] V(|k_1-k_4|)\\delta_{k_1+k_2,k_3+k_4}$.  \n",
      "Return the simplied $\\hat{H}^{int,HF,2}$ which reduces from four terms (two Hartree and two Fock terms) to only two terms (one Hartree and one Fock term)\n",
      "\n",
      "===  \n",
      "EXAMPLE:\n",
      "Given a Hamiltonian $\\hat{H}=\\sum_{k_1,k_2, k_3, k_4,\\sigma_1,\\sigma_2,\\sigma_3,\\sigma_4} V(k_1-k_4) (\\langle c_{\\sigma_1}^\\dagger(k_1) c_{\\sigma_4}(k_4) \\rangle c_{\\sigma_2}^\\dagger(k_2) c_{\\sigma_3}(k_3) + \\langle c_{\\sigma_2}^\\dagger(k_2) c_{\\sigma_3}(k_3) \\rangle c_{\\sigma_1}^\\dagger(k_1) c_{\\sigma_4}(k_4) ) \\delta_{k_1+k_2,k_3+k_4}$, where $V(q)=V(-q)$.  \n",
      "In the second term, we relabel the index to swap the index in expected value and the index in quadratic operators, namely, $\\sigma_1 \\leftrightarrow \\sigma_2$, $\\sigma_3 \\leftrightarrow \\sigma_4$, $k_1 \\leftrightarrow k_2$, $k_3 \\leftrightarrow k_4$. After the replacement, the second term becomes $\\sum_{k_1,k_2, k_3, k_4,\\sigma_1,\\sigma_2,\\sigma_3,\\sigma_4} V(k_2-k_3) \\langle c_{\\sigma_1}^\\dagger(k_1) c_{\\sigma_4}(k_4) \\rangle c_{\\sigma_2}^\\dagger(k_2) c_{\\sigma_3}(k_3) \\delta_{k_4+k_3,k_2+k_1}$.  \n",
      "Note that the Kronecker dirac function $\\delta_{k_4+k_3,k_2+k_1}$ implies $k_1+k_2=k_3+k_4$, i.e., $k_2-k_3=k_4-k_1$. Thus, the second term simplifies to $\\sum_{k_1,k_2, k_3, k_4,\\sigma_1,\\sigma_2,\\sigma_3,\\sigma_4} V(k_4-k_1) \\langle c_{\\sigma_1}^\\dagger(k_1) c_{\\sigma_4}(k_4) \\rangle c_{\\sigma_2}^\\dagger(k_2) c_{\\sigma_3}(k_3) \\delta_{k_4+k_3,k_2+k_1}$.\n",
      "Because $V(q)=V(-q)$, meaning $V(k_4-k_1)=V(k_1-k_4)$, the second term further simplifies to $\\sum_{k_1,k_2, k_3, k_4,\\sigma_1,\\sigma_2,\\sigma_3,\\sigma_4} V(k_1-k_4) \\langle c_{\\sigma_1}^\\dagger(k_1) c_{\\sigma_4}(k_4) \\rangle c_{\\sigma_2}^\\dagger(k_2) c_{\\sigma_3}(k_3) \\delta_{k_4+k_3,k_2+k_1}$. Note that this form of second term after relabeling is identical to the first term.  \n",
      "Finally, we have the simplified Hamiltonian as  $\\hat{H}=2\\sum_{k_1,k_2, k_3, k_4,\\sigma_1,\\sigma_2,\\sigma_3,\\sigma_4} V(k_1-k_4) \\langle c_{\\sigma_1}^\\dagger(k_1) c_{\\sigma_4}(k_4) \\rangle c_{\\sigma_2}^\\dagger(k_2) c_{\\sigma_3}(k_3) \\delta_{k_4+k_3,k_2+k_1}$.\n"
     ]
    }
   ],
   "source": [
    "print_save(generate_prompt(kwargs,prompt_dict=prompt_dict())['content'])"
   ]
  },
  {
   "cell_type": "code",
   "execution_count": 449,
   "metadata": {},
   "outputs": [],
   "source": [
    "kwargs_list.append(kwargs)"
   ]
  },
  {
   "cell_type": "code",
   "execution_count": 450,
   "metadata": {},
   "outputs": [
    {
     "data": {
      "text/plain": [
       "13"
      ]
     },
     "execution_count": 450,
     "metadata": {},
     "output_type": "execute_result"
    }
   ],
   "source": [
    "len(kwargs_list)"
   ]
  },
  {
   "cell_type": "code",
   "execution_count": 451,
   "metadata": {},
   "outputs": [
    {
     "ename": "SyntaxError",
     "evalue": "invalid syntax (3659366440.py, line 1)",
     "output_type": "error",
     "traceback": [
      "\u001b[0;36m  File \u001b[0;32m\"/tmp/ipykernel_23597/3659366440.py\"\u001b[0;36m, line \u001b[0;32m1\u001b[0m\n\u001b[0;31m    --\u001b[0m\n\u001b[0m      ^\u001b[0m\n\u001b[0;31mSyntaxError\u001b[0m\u001b[0;31m:\u001b[0m invalid syntax\n"
     ]
    }
   ],
   "source": [
    "--"
   ]
  },
  {
   "cell_type": "markdown",
   "metadata": {},
   "source": [
    "## Save jsonl"
   ]
  },
  {
   "cell_type": "code",
   "execution_count": 452,
   "metadata": {},
   "outputs": [],
   "source": [
    "with open('2111.01152.jsonl', 'w') as f:\n",
    "    for dict_obj in kwargs_list:\n",
    "        f.write(json.dumps(dict_obj) + '\\n')"
   ]
  },
  {
   "cell_type": "markdown",
   "metadata": {},
   "source": [
    "# Draft"
   ]
  },
  {
   "cell_type": "code",
   "execution_count": null,
   "metadata": {},
   "outputs": [],
   "source": []
  }
 ],
 "metadata": {
  "kernelspec": {
   "display_name": "Python 3",
   "language": "python",
   "name": "python3"
  },
  "language_info": {
   "codemirror_mode": {
    "name": "ipython",
    "version": 3
   },
   "file_extension": ".py",
   "mimetype": "text/x-python",
   "name": "python",
   "nbconvert_exporter": "python",
   "pygments_lexer": "ipython3",
   "version": "3.8.11"
  },
  "orig_nbformat": 4
 },
 "nbformat": 4,
 "nbformat_minor": 2
}
