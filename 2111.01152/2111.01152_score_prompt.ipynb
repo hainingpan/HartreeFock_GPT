{
 "cells": [
  {
   "cell_type": "code",
   "execution_count": 1,
   "metadata": {},
   "outputs": [],
   "source": [
    "import openai\n",
    "import pandas as pd\n",
    "import json\n",
    "from IPython.display import Markdown\n",
    "import sys\n",
    "from tqdm import tqdm"
   ]
  },
  {
   "cell_type": "markdown",
   "metadata": {},
   "source": [
    "# Load prompt template"
   ]
  },
  {
   "cell_type": "code",
   "execution_count": 3,
   "metadata": {},
   "outputs": [],
   "source": [
    "sys.path.append('..')\n",
    "from utils import *\n",
    "from functools import partial"
   ]
  },
  {
   "cell_type": "code",
   "execution_count": 4,
   "metadata": {},
   "outputs": [],
   "source": [
    "prompt_dict = partial(load_prompt_template,file='../prompt_template.md')"
   ]
  },
  {
   "cell_type": "code",
   "execution_count": 5,
   "metadata": {},
   "outputs": [],
   "source": [
    "def drop_text_after(string):\n",
    "    string_new=''\n",
    "    for line in string.split('\\n'):\n",
    "        if '===' in line:\n",
    "            break\n",
    "        else:\n",
    "            if 'You should recall that' not in line:\n",
    "                string_new='\\n'.join([string_new,line])\n",
    "    return string_new[1:]\n"
   ]
  },
  {
   "cell_type": "code",
   "execution_count": 6,
   "metadata": {},
   "outputs": [],
   "source": [
    "with open('2111.01152.jsonl','r') as f:\n",
    "    kwargs_jsonl= [json.loads(line) for line in f]"
   ]
  },
  {
   "cell_type": "code",
   "execution_count": 7,
   "metadata": {},
   "outputs": [],
   "source": [
    "def prompt_template(descriptor):\n",
    "    return drop_text_after(prompt_dict()[descriptor['task']])"
   ]
  },
  {
   "cell_type": "code",
   "execution_count": 8,
   "metadata": {},
   "outputs": [
    {
     "data": {
      "text/plain": [
       "'You will be instructed to describe the kinetic term of Hamiltonian in {system} in the {real|momentum} space in the {single-particle|second-quantized} form.   \\nThe degrees of freedom of the system are: {degrees_of_freedom}.  \\nExpress the Kinetic Hamiltonian {kinetic_symbol} using {variable} which are only on the diagonal terms, and arrange the basis in the order of {order}. [Note that the sublattice degrees of freedom is suppressed for now and will be stated later]\\n\\nUse the following conventions for the symbols:  \\n{definition_of_variables}\\n\\n'"
      ]
     },
     "execution_count": 8,
     "metadata": {},
     "output_type": "execute_result"
    }
   ],
   "source": [
    "prompt_template(kwargs_jsonl[0])"
   ]
  },
  {
   "cell_type": "code",
   "execution_count": 14,
   "metadata": {},
   "outputs": [
    {
     "data": {
      "text/plain": [
       "{'task': 'Construct Kinetic Hamiltonian (continuum version, single-particle)',\n",
       " 'system': 'the hole-doped AB-stacked MoTe2/WSe2',\n",
       " 'real|momentum': 'real',\n",
       " 'single-particle|second-quantized': 'single-particle',\n",
       " 'dof': 'valley index (+K and -K valley), layer index (top and bottom layer)',\n",
       " 'kinetic_symbol': '$H_{Kinetic}(r)$',\n",
       " 'var': '$E_{\\\\tau,l}$',\n",
       " 'order': '(+K,bottom), (+K,top), (-K,bottom), (-K,top)',\n",
       " 'Note that the sublattice degrees of freedom is suppressed for now and will be stated later|None': '',\n",
       " 'def_var': '$l$ : layer index   \\n$t$ : top layer  \\n$b$ : bottom layer  \\n$\\\\tau$ : valley index  \\n$+K$ : +K valley  \\n$-K$ : -K valley  \\n$k$ : momentum operator  \\n$E_{\\\\tau,l}$ : energy dispersion for layer $l$ and valley $\\\\tau$',\n",
       " 'answer': '$H_{Kinetic}(r) = \\\\begin{pmatrix} E_{+K,b} & 0 & 0 & 0 \\\\\\\\ 0 & E_{+K,t} & 0 & 0 \\\\\\\\ 0 & 0 & E_{-K,b} & 0 \\\\\\\\ 0 & 0 & 0 & E_{-K,t} \\\\end{pmatrix}$',\n",
       " 'source': {'2111.01152.tex': [[55, 62]]}}"
      ]
     },
     "execution_count": 14,
     "metadata": {},
     "output_type": "execute_result"
    }
   ],
   "source": [
    "kwargs_jsonl[0]"
   ]
  },
  {
   "cell_type": "markdown",
   "metadata": {},
   "source": [
    "# Load automatically filled prompt"
   ]
  },
  {
   "cell_type": "code",
   "execution_count": 17,
   "metadata": {},
   "outputs": [],
   "source": [
    "def parse_markdown_to_dict(filename):\n",
    "    with open(filename, 'r') as file:\n",
    "        lines = file.readlines()\n",
    "\n",
    "    result_dict = {}\n",
    "    current_title = None\n",
    "    content_buffer = []\n",
    "\n",
    "    for line in lines:\n",
    "        stripped_line = line.strip()\n",
    "\n",
    "        if stripped_line.startswith(\"# \"):\n",
    "            if current_title:  # If there's already a title detected\n",
    "                result_dict[current_title] = '\\n'.join(content_buffer).strip()\n",
    "                content_buffer = []\n",
    "            current_title = stripped_line[2:]\n",
    "        else:\n",
    "            content_buffer.append(line)\n",
    "\n",
    "    # For the last title-content pair\n",
    "    if current_title and content_buffer:\n",
    "        result_dict[current_title] = '\\n'.join(content_buffer).strip()\n",
    "\n",
    "    return result_dict"
   ]
  },
  {
   "cell_type": "code",
   "execution_count": 21,
   "metadata": {},
   "outputs": [],
   "source": [
    "filename = \"2111.01152_extractor.md\"\n",
    "filled_dict = parse_markdown_to_dict(filename)\n"
   ]
  },
  {
   "cell_type": "code",
   "execution_count": 22,
   "metadata": {},
   "outputs": [
    {
     "name": "stdout",
     "output_type": "stream",
     "text": [
      "You will be instructed to describe the kinetic term of Hamiltonian in a system with two layers in the momentum space in the second-quantized form.   \n",
      "\n",
      "The degrees of freedom of the system are: valleys, layers, and momentum.  \n",
      "\n",
      "Express the Kinetic Hamiltonian H_{\\tau} using variables which are only on the diagonal terms, and arrange the basis in the order of bottom layer and top layer. Note that the sublattice degrees of freedom is suppressed for now and will be stated later.\n",
      "\n",
      "\n",
      "\n",
      "Use the following conventions for the symbols:  \n",
      "\n",
      "$\\tau=\\pm 1$ represents $\\pm K$ valleys, $\\bm{\\kappa}=\\frac{4\\pi}{3a_M}\\left(1,0\\right)$ is at a corner of the moiré Brillouin zone. The $2\\times 2$ Hamiltonian hybridizes the bottom layer ($\\mathfrak{b}$) and top layer ($\\mathfrak{t}$), where the off diagonal terms describe the interlayer tunneling $\\Delta_{\\text{T},\\tau}$, and the diagonal terms describe the momentum-shifted kinetic energy with the effective mass $(m_{\\mathfrak{b}},m_{\\mathfrak{t}})=(0.65,0.35)m_e$ ($m_e$ is the rest electron mass), plus the intralayer potential $\\Delta_{\\mathfrak{b}/\\mathfrak{t}}$, and a band offset $V_{z\\mathfrak{t}}$.\n"
     ]
    }
   ],
   "source": [
    "print(filled_dict['Construct Kinetic Hamiltonian (continuum version, single-particle)'])"
   ]
  },
  {
   "cell_type": "code",
   "execution_count": 25,
   "metadata": {},
   "outputs": [
    {
     "name": "stdout",
     "output_type": "stream",
     "text": [
      "You will be instructed to describe the kinetic term of Hamiltonian in {system} in the {real|momentum} space in the {single-particle|second-quantized} form.   \n",
      "The degrees of freedom of the system are: {degrees_of_freedom}.  \n",
      "Express the Kinetic Hamiltonian {kinetic_symbol} using {variable} which are only on the diagonal terms, and arrange the basis in the order of {order}. [Note that the sublattice degrees of freedom is suppressed for now and will be stated later]\n",
      "\n",
      "Use the following conventions for the symbols:  \n",
      "{definition_of_variables}\n",
      "\n",
      "\n"
     ]
    }
   ],
   "source": [
    "print(prompt_dict()['Construct Kinetic Hamiltonian (continuum version, single-particle)'])"
   ]
  },
  {
   "cell_type": "markdown",
   "metadata": {},
   "source": [
    "# Return place holder"
   ]
  },
  {
   "cell_type": "code",
   "execution_count": 150,
   "metadata": {},
   "outputs": [],
   "source": [
    "import re\n",
    "\n",
    "def extract_filled_values(template_str, filled_str):\n",
    "    # template_str = template_str.replace('\\\\', '\\\\\\\\')\n",
    "    # Extract placeholders from the template\n",
    "    # placeholders = re.findall(r\"\\{(\\w+)\\}\", template_str)\n",
    "    placeholders = re.findall(r\"[\\{|\\[]([\\w|\\||-||$| ]+)[\\}|\\]]\", template_str)\n",
    "    # Create a regex pattern to match the filled values based on the placeholders\n",
    "    placeholders_unique=[]\n",
    "    for placeholder in placeholders:\n",
    "        if placeholder not in placeholders_unique:\n",
    "            placeholders_unique.append(placeholder)\n",
    "    return placeholders_unique\n",
    "    \n",
    "    # pattern = re.sub(r\"\\{(\\w+)\\}\", r\"(?P<\\1>\\\\S+)\", template_str)\n",
    "\n",
    "    # # Find the values using the generated pattern\n",
    "    # match = re.match(pattern, filled_str)\n",
    "    # if match:\n",
    "    #     return {placeholder: match.group(placeholder) for placeholder in placeholders}\n",
    "    # else:\n",
    "    #     return None\n",
    "\n"
   ]
  },
  {
   "cell_type": "code",
   "execution_count": 161,
   "metadata": {},
   "outputs": [
    {
     "name": "stdout",
     "output_type": "stream",
     "text": [
      "['Hartree_Fock_second_quantized_symbol', 'expected_value', 'expression_Hartree_1', 'expression_Hartree_2']\n"
     ]
    }
   ],
   "source": [
    "# Example\n",
    "template_str = drop_text_after(prompt_dict()[\"Swap the index to combine Hartree and Fock terms\"])\n",
    "# filled_str = filled_dict['Construct Kinetic Hamiltonian (continuum version, single-particle)']\n",
    "results = extract_filled_values(template_str, filled_str)\n",
    "print(results)"
   ]
  },
  {
   "cell_type": "code",
   "execution_count": 162,
   "metadata": {},
   "outputs": [
    {
     "name": "stdout",
     "output_type": "stream",
     "text": [
      "placeholder:\n",
      "    Hartree_Fock_second_quantized_symbol:\n",
      "      LLM: \n",
      "      human: \n",
      "      score: \n",
      "    expected_value:\n",
      "      LLM: \n",
      "      human: \n",
      "      score: \n",
      "    expression_Hartree_1:\n",
      "      LLM: \n",
      "      human: \n",
      "      score: \n",
      "    expression_Hartree_2:\n",
      "      LLM: \n",
      "      human: \n",
      "      score: \n",
      "\n"
     ]
    }
   ],
   "source": [
    "string= 'placeholder:\\n'\n",
    "for result in results:\n",
    "    string+=f'    {result}:\\n'\n",
    "    string+='      LLM: \\n'\n",
    "    string+='      human: \\n'\n",
    "    string+='      score: \\n'\n",
    "print(string)\n",
    "pyperclip.copy(string)    "
   ]
  },
  {
   "cell_type": "markdown",
   "metadata": {},
   "source": [
    "# Validate yaml"
   ]
  },
  {
   "cell_type": "code",
   "execution_count": 163,
   "metadata": {},
   "outputs": [],
   "source": [
    "import yaml\n",
    "with open('2111.01152.yaml','r') as f:\n",
    "    kwargs_yaml = yaml.safe_load(f)"
   ]
  },
  {
   "cell_type": "code",
   "execution_count": 165,
   "metadata": {},
   "outputs": [
    {
     "data": {
      "text/plain": [
       "{'Energy_dispersion': {'LLM': '$H_{\\\\tau}$', 'human': None, 'score': 2},\n",
       " 'parabolic|Dirac|cos': {'LLM': 'parabolic', 'human': None, 'score': 2},\n",
       " 'electrons|holes': {'LLM': 'electrons', 'human': 'holes', 'score': 0},\n",
       " 'In addition, a shift of {momentum_shift} in the momentum {k_symbol} for {shifted_Ek}, respectively.': {'LLM': True,\n",
       "  'human': None,\n",
       "  'score': 2},\n",
       " 'momentum_shift': {'LLM': '$\\\\bm{\\\\kappa}=\\\\frac{4\\\\pi}{3a_M}\\\\left(1,0\\\\right)$',\n",
       "  'human': '$+\\\\kappa$ and $-\\\\kappa$',\n",
       "  'score': 1},\n",
       " 'k_symbol': {'LLM': '$\\\\bm{k}$', 'human': None, 'score': 2},\n",
       " 'shifted_Ek': {'LLM': '$\\\\bm{k}-\\\\tau \\\\bm{\\\\kappa}$',\n",
       "  'human': '$E_{t,+K}$ and $E_{t,-K}$',\n",
       "  'score': 0},\n",
       " 'r_symbol': {'LLM': '\\\\bm{r}', 'human': None, 'score': 2},\n",
       " 'kinetic_symbol': {'LLM': '$\\\\hat{\\\\mathcal{H}}_0$',\n",
       "  'human': None,\n",
       "  'score': 2},\n",
       " 'definition_of_variables': {'LLM': \"$\\\\tau=\\\\pm 1$ represents $\\\\pm K$ valleys, $\\\\bm{\\\\kappa}=\\\\frac{4\\\\pi}{3a_M}\\\\left(1,0\\\\right)$  is at a corner of the  moir\\\\'e Brillouin zone, the $2\\\\times 2$ Hamiltonian hybridizes the bottom layer ($\\\\mathfrak{b}$) and top layer ($\\\\mathfrak{t}$), the off diagonal terms describe the interlayer tunneling $\\\\Delta_{\\\\text{T},\\\\tau}$, and the diagonal terms describe the momentum-shifted kinetic energy with the effective mass $(m_{\\\\mathfrak{b}},m_{\\\\mathfrak{t}})=(0.65,0.35)m_e$ ($m_e$ is the rest electron mass), plus the intralayer potential $\\\\Delta_{\\\\mathfrak{b}/\\\\mathfrak{t}}$, and a band offset $V_{z\\\\mathfrak{t}}$\",\n",
       "  'human': None,\n",
       "  'score': 2}}"
      ]
     },
     "execution_count": 165,
     "metadata": {},
     "output_type": "execute_result"
    }
   ],
   "source": [
    "kwargs_yaml[1]['placeholder']"
   ]
  },
  {
   "cell_type": "code",
   "execution_count": 155,
   "metadata": {},
   "outputs": [
    {
     "data": {
      "text/plain": [
       "{'task': 'Construct interaction Hamiltonian (momentum space)',\n",
       " 'source': {'2111.01152_SM.tex': [[100, 108]]},\n",
       " 'placeholder': {'second_int_symbol': {'LLM': '$\\\\hat{\\\\mathcal{H}}_{\\\\text{int}}$',\n",
       "   'human': None,\n",
       "   'score': 2},\n",
       "  'index_of_operator': {'LLM': None,\n",
       "   'human': 'the valley index and layer index',\n",
       "   'score': 0},\n",
       "  'momentum': {'LLM': None, 'human': 'momentum', 'score': 0},\n",
       "  'For each operator, the total momentum is the sum of moire reciprocal lattice $b_i$ and momentum with in the first BZ $k_i$': {'LLM': False,\n",
       "   'human': None,\n",
       "   'score': 2},\n",
       "  'interaction': {'LLM': None, 'human': None, 'score': None},\n",
       "  'int_form': {'LLM': None, 'human': None, 'score': None},\n",
       "  'normalization_factor': {'LLM': None, 'human': None, 'score': None},\n",
       "  'op': {'LLM': None, 'human': None, 'score': None},\n",
       "  'definition_of_variables': {'LLM': None, 'human': None, 'score': None}}}"
      ]
     },
     "execution_count": 155,
     "metadata": {},
     "output_type": "execute_result"
    }
   ],
   "source": [
    "kwargs_yaml[9]"
   ]
  },
  {
   "cell_type": "code",
   "execution_count": 103,
   "metadata": {},
   "outputs": [],
   "source": [
    "import pyperclip\n",
    "# spam = pyperclip.paste()"
   ]
  },
  {
   "cell_type": "code",
   "execution_count": 104,
   "metadata": {},
   "outputs": [],
   "source": [
    "pyperclip.copy('What')\n"
   ]
  },
  {
   "cell_type": "code",
   "execution_count": 129,
   "metadata": {},
   "outputs": [],
   "source": [
    "string=''\n",
    "for kwargs in kwargs_jsonl:\n",
    "    string+=f\"# {kwargs['task']}\\n\"\n",
    "    string+=drop_text_after(prompt_dict()[kwargs['task']])\n",
    "\n",
    "with open('../cmp2.md','w') as f:\n",
    "    f.write(string)"
   ]
  },
  {
   "cell_type": "code",
   "execution_count": null,
   "metadata": {},
   "outputs": [],
   "source": []
  }
 ],
 "metadata": {
  "kernelspec": {
   "display_name": "base",
   "language": "python",
   "name": "python3"
  },
  "language_info": {
   "codemirror_mode": {
    "name": "ipython",
    "version": 3
   },
   "file_extension": ".py",
   "mimetype": "text/x-python",
   "name": "python",
   "nbconvert_exporter": "python",
   "pygments_lexer": "ipython3",
   "version": "3.8.11"
  },
  "orig_nbformat": 4
 },
 "nbformat": 4,
 "nbformat_minor": 2
}
