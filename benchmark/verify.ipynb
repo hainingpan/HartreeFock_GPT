{
 "cells": [
  {
   "cell_type": "code",
   "execution_count": null,
   "metadata": {},
   "outputs": [],
   "source": [
    "from sympy import *\n",
    "from sympy.physics.quantum import *\n",
    "\n",
    "from orderparameter import *\n",
    "from IPython.display import display, Markdown\n"
   ]
  },
  {
   "cell_type": "code",
   "execution_count": 12,
   "metadata": {},
   "outputs": [],
   "source": [
    "ground_truth = [Dagger(c['up'])*(c['up']), Dagger(c['down'])*c['down']]\n"
   ]
  },
  {
   "cell_type": "code",
   "execution_count": 13,
   "metadata": {},
   "outputs": [
    {
     "data": {
      "text/latex": [
       "$\\displaystyle c_{\\uparrow}(k)^{\\dagger} c_{\\uparrow}(k)$"
      ],
      "text/plain": [
       "Dagger(c_{\\uparrow}(k))*c_{\\uparrow}(k)"
      ]
     },
     "execution_count": 13,
     "metadata": {},
     "output_type": "execute_result"
    }
   ],
   "source": [
    "ground_truth[0]"
   ]
  },
  {
   "cell_type": "code",
   "execution_count": 15,
   "metadata": {},
   "outputs": [
    {
     "data": {
      "text/latex": [
       "$\\displaystyle c_{\\downarrow}(k)^{\\dagger} c_{\\downarrow}(k)$"
      ],
      "text/plain": [
       "Dagger(c_{\\downarrow}(k))*c_{\\downarrow}(k)"
      ]
     },
     "execution_count": 15,
     "metadata": {},
     "output_type": "execute_result"
    }
   ],
   "source": [
    "ground_truth[1]"
   ]
  },
  {
   "cell_type": "code",
   "execution_count": null,
   "metadata": {},
   "outputs": [],
   "source": []
  },
  {
   "cell_type": "code",
   "execution_count": 32,
   "metadata": {},
   "outputs": [
    {
     "data": {
      "text/markdown": [
       "$\\langle c^\\dagger_{\\uparrow}(k) c_{\\uparrow}(k) \\rangle$ and $\\langle c^\\dagger_{\\downarrow}(k) c_{\\downarrow}(k) \\rangle$ "
      ],
      "text/plain": [
       "<IPython.core.display.Markdown object>"
      ]
     },
     "metadata": {},
     "output_type": "display_data"
    },
    {
     "data": {
      "text/plain": [
       "True"
      ]
     },
     "execution_count": 32,
     "metadata": {},
     "output_type": "execute_result"
    }
   ],
   "source": [
    "latex_expr = r\"$\\langle c^\\dagger_{\\uparrow}(k) c_{\\uparrow}(k) \\rangle$ and $\\langle c^\\dagger_{\\downarrow}(k) c_{\\downarrow}(k) \\rangle$ \"\n",
    "display(Markdown(latex_expr))\n",
    "iscorrect(latex_expr,ground_truth)"
   ]
  },
  {
   "cell_type": "code",
   "execution_count": 26,
   "metadata": {},
   "outputs": [
    {
     "data": {
      "text/markdown": [
       "\\langle c^\\dagger_{\\uparrow}(k) c_{\\uparrow}(k) \\rangle and \\langle c^\\dagger_{\\downarrow}(k) c_{\\downarrow}(k) \\rangle"
      ],
      "text/plain": [
       "<IPython.core.display.Markdown object>"
      ]
     },
     "metadata": {},
     "output_type": "display_data"
    },
    {
     "ename": "ValueError",
     "evalue": "not a valid latex equation",
     "output_type": "error",
     "traceback": [
      "\u001b[0;31m---------------------------------------------------------------------------\u001b[0m",
      "\u001b[0;31mValueError\u001b[0m                                Traceback (most recent call last)",
      "Cell \u001b[0;32mIn[26], line 3\u001b[0m\n\u001b[1;32m      1\u001b[0m latex_expr \u001b[38;5;241m=\u001b[39m \u001b[38;5;124mr\u001b[39m\u001b[38;5;124m\"\u001b[39m\u001b[38;5;124m\\\u001b[39m\u001b[38;5;124mlangle c^\u001b[39m\u001b[38;5;124m\\\u001b[39m\u001b[38;5;124mdagger_\u001b[39m\u001b[38;5;124m{\u001b[39m\u001b[38;5;124m\\\u001b[39m\u001b[38;5;124muparrow}(k) c_\u001b[39m\u001b[38;5;124m{\u001b[39m\u001b[38;5;124m\\\u001b[39m\u001b[38;5;124muparrow}(k) \u001b[39m\u001b[38;5;124m\\\u001b[39m\u001b[38;5;124mrangle and \u001b[39m\u001b[38;5;124m\\\u001b[39m\u001b[38;5;124mlangle c^\u001b[39m\u001b[38;5;124m\\\u001b[39m\u001b[38;5;124mdagger_\u001b[39m\u001b[38;5;124m{\u001b[39m\u001b[38;5;124m\\\u001b[39m\u001b[38;5;124mdownarrow}(k) c_\u001b[39m\u001b[38;5;124m{\u001b[39m\u001b[38;5;124m\\\u001b[39m\u001b[38;5;124mdownarrow}(k) \u001b[39m\u001b[38;5;124m\\\u001b[39m\u001b[38;5;124mrangle\u001b[39m\u001b[38;5;124m\"\u001b[39m\n\u001b[1;32m      2\u001b[0m display(Markdown(latex_expr))\n\u001b[0;32m----> 3\u001b[0m iscorrect(latex_expr,ground_truth)\n",
      "File \u001b[0;32m/mnt/d/Cornell/HartreeFock_GPT/benchmark/orderparameter.py:220\u001b[0m, in \u001b[0;36miscorrect\u001b[0;34m(expr, ground_truth)\u001b[0m\n\u001b[1;32m    219\u001b[0m \u001b[38;5;28;01mdef\u001b[39;00m \u001b[38;5;21miscorrect\u001b[39m(expr,ground_truth):\n\u001b[0;32m--> 220\u001b[0m     expr_set \u001b[38;5;241m=\u001b[39m list_latex_to_expr(expr)\n\u001b[1;32m    221\u001b[0m     expr_set_normalorder \u001b[38;5;241m=\u001b[39m {recursiveapply(expr,normalorder_rule) \u001b[38;5;28;01mfor\u001b[39;00m expr \u001b[38;5;129;01min\u001b[39;00m expr_set}\n\u001b[1;32m    222\u001b[0m     ground_truth_normalorder \u001b[38;5;241m=\u001b[39m {recursiveapply(expr,normalorder_rule) \u001b[38;5;28;01mfor\u001b[39;00m expr \u001b[38;5;129;01min\u001b[39;00m ground_truth}\n",
      "File \u001b[0;32m/mnt/d/Cornell/HartreeFock_GPT/benchmark/orderparameter.py:210\u001b[0m, in \u001b[0;36mlist_latex_to_expr\u001b[0;34m(expr)\u001b[0m\n\u001b[1;32m    209\u001b[0m \u001b[38;5;28;01mdef\u001b[39;00m \u001b[38;5;21mlist_latex_to_expr\u001b[39m(expr):\n\u001b[0;32m--> 210\u001b[0m     equations \u001b[38;5;241m=\u001b[39m extract_latex_equations(expr)\n\u001b[1;32m    211\u001b[0m     expr_set \u001b[38;5;241m=\u001b[39m \u001b[38;5;28mset\u001b[39m({})\n\u001b[1;32m    212\u001b[0m     \u001b[38;5;28;01mfor\u001b[39;00m equation \u001b[38;5;129;01min\u001b[39;00m equations:\n",
      "File \u001b[0;32m/mnt/d/Cornell/HartreeFock_GPT/benchmark/orderparameter.py:46\u001b[0m, in \u001b[0;36mextract_latex_equations\u001b[0;34m(text)\u001b[0m\n\u001b[1;32m     44\u001b[0m \u001b[38;5;66;03m# Raise error if no equations found\u001b[39;00m\n\u001b[1;32m     45\u001b[0m \u001b[38;5;28;01mif\u001b[39;00m \u001b[38;5;129;01mnot\u001b[39;00m all_equations:\n\u001b[0;32m---> 46\u001b[0m     \u001b[38;5;28;01mraise\u001b[39;00m \u001b[38;5;167;01mValueError\u001b[39;00m(\u001b[38;5;124m\"\u001b[39m\u001b[38;5;124mnot a valid latex equation\u001b[39m\u001b[38;5;124m\"\u001b[39m)\n\u001b[1;32m     48\u001b[0m \u001b[38;5;28;01mreturn\u001b[39;00m all_equations\n",
      "\u001b[0;31mValueError\u001b[0m: not a valid latex equation"
     ]
    }
   ],
   "source": [
    "latex_expr = r\"\\langle c^\\dagger_{\\uparrow}(k) c_{\\uparrow}(k) \\rangle and \\langle c^\\dagger_{\\downarrow}(k) c_{\\downarrow}(k) \\rangle\"\n",
    "display(Markdown(latex_expr))\n",
    "iscorrect(latex_expr,ground_truth)"
   ]
  },
  {
   "cell_type": "code",
   "execution_count": 27,
   "metadata": {},
   "outputs": [
    {
     "data": {
      "text/markdown": [
       "$ c^\\dagger_{\\uparrow}(k) c_{\\uparrow}(k) $ and $ c^\\dagger_{\\downarrow}(k) c_{\\downarrow}(k) $"
      ],
      "text/plain": [
       "<IPython.core.display.Markdown object>"
      ]
     },
     "metadata": {},
     "output_type": "display_data"
    },
    {
     "ename": "ValueError",
     "evalue": "This is not a proper order parameter",
     "output_type": "error",
     "traceback": [
      "\u001b[0;31m---------------------------------------------------------------------------\u001b[0m",
      "\u001b[0;31mValueError\u001b[0m                                Traceback (most recent call last)",
      "Cell \u001b[0;32mIn[27], line 4\u001b[0m\n\u001b[1;32m      1\u001b[0m latex_expr \u001b[38;5;241m=\u001b[39m \u001b[38;5;124mr\u001b[39m\u001b[38;5;124m\"\u001b[39m\u001b[38;5;124m$ c^\u001b[39m\u001b[38;5;124m\\\u001b[39m\u001b[38;5;124mdagger_\u001b[39m\u001b[38;5;124m{\u001b[39m\u001b[38;5;124m\\\u001b[39m\u001b[38;5;124muparrow}(k) c_\u001b[39m\u001b[38;5;124m{\u001b[39m\u001b[38;5;124m\\\u001b[39m\u001b[38;5;124muparrow}(k) $ and $ c^\u001b[39m\u001b[38;5;124m\\\u001b[39m\u001b[38;5;124mdagger_\u001b[39m\u001b[38;5;124m{\u001b[39m\u001b[38;5;124m\\\u001b[39m\u001b[38;5;124mdownarrow}(k) c_\u001b[39m\u001b[38;5;124m{\u001b[39m\u001b[38;5;124m\\\u001b[39m\u001b[38;5;124mdownarrow}(k) $\u001b[39m\u001b[38;5;124m\"\u001b[39m\n\u001b[1;32m      2\u001b[0m display(Markdown(latex_expr))\n\u001b[0;32m----> 4\u001b[0m iscorrect(latex_expr,ground_truth)\n",
      "File \u001b[0;32m/mnt/d/Cornell/HartreeFock_GPT/benchmark/orderparameter.py:220\u001b[0m, in \u001b[0;36miscorrect\u001b[0;34m(expr, ground_truth)\u001b[0m\n\u001b[1;32m    219\u001b[0m \u001b[38;5;28;01mdef\u001b[39;00m \u001b[38;5;21miscorrect\u001b[39m(expr,ground_truth):\n\u001b[0;32m--> 220\u001b[0m     expr_set \u001b[38;5;241m=\u001b[39m list_latex_to_expr(expr)\n\u001b[1;32m    221\u001b[0m     expr_set_normalorder \u001b[38;5;241m=\u001b[39m {recursiveapply(expr,normalorder_rule) \u001b[38;5;28;01mfor\u001b[39;00m expr \u001b[38;5;129;01min\u001b[39;00m expr_set}\n\u001b[1;32m    222\u001b[0m     ground_truth_normalorder \u001b[38;5;241m=\u001b[39m {recursiveapply(expr,normalorder_rule) \u001b[38;5;28;01mfor\u001b[39;00m expr \u001b[38;5;129;01min\u001b[39;00m ground_truth}\n",
      "File \u001b[0;32m/mnt/d/Cornell/HartreeFock_GPT/benchmark/orderparameter.py:213\u001b[0m, in \u001b[0;36mlist_latex_to_expr\u001b[0;34m(expr)\u001b[0m\n\u001b[1;32m    211\u001b[0m expr_set \u001b[38;5;241m=\u001b[39m \u001b[38;5;28mset\u001b[39m({})\n\u001b[1;32m    212\u001b[0m \u001b[38;5;28;01mfor\u001b[39;00m equation \u001b[38;5;129;01min\u001b[39;00m equations:\n\u001b[0;32m--> 213\u001b[0m     equation_ \u001b[38;5;241m=\u001b[39m extract_bracket_content(equation)\n\u001b[1;32m    214\u001b[0m     equation_list \u001b[38;5;241m=\u001b[39m extract_operators(equation_)\n\u001b[1;32m    215\u001b[0m     expr \u001b[38;5;241m=\u001b[39m latex_to_expr(equation_list)\n",
      "File \u001b[0;32m/mnt/d/Cornell/HartreeFock_GPT/benchmark/orderparameter.py:78\u001b[0m, in \u001b[0;36mextract_bracket_content\u001b[0;34m(equation)\u001b[0m\n\u001b[1;32m     75\u001b[0m             \u001b[38;5;28;01mreturn\u001b[39;00m equation[content_start:content_end]\u001b[38;5;241m.\u001b[39mstrip()\n\u001b[1;32m     77\u001b[0m \u001b[38;5;66;03m# If we get here, no proper brackets were found\u001b[39;00m\n\u001b[0;32m---> 78\u001b[0m \u001b[38;5;28;01mraise\u001b[39;00m \u001b[38;5;167;01mValueError\u001b[39;00m(\u001b[38;5;124m\"\u001b[39m\u001b[38;5;124mThis is not a proper order parameter\u001b[39m\u001b[38;5;124m\"\u001b[39m)\n",
      "\u001b[0;31mValueError\u001b[0m: This is not a proper order parameter"
     ]
    }
   ],
   "source": [
    "latex_expr = r\"$ c^\\dagger_{\\uparrow}(k) c_{\\uparrow}(k) $ and $ c^\\dagger_{\\downarrow}(k) c_{\\downarrow}(k) $\"\n",
    "display(Markdown(latex_expr))\n",
    "\n",
    "iscorrect(latex_expr,ground_truth)"
   ]
  },
  {
   "cell_type": "code",
   "execution_count": 30,
   "metadata": {},
   "outputs": [
    {
     "data": {
      "text/markdown": [
       "$\\langle c^\\dagger_{\\downarrow}(k) c_{\\uparrow}(k) \\rangle$, $\\langle c^\\dagger_{\\uparrow}(k) c_{\\downarrow}(k) \\rangle$"
      ],
      "text/plain": [
       "<IPython.core.display.Markdown object>"
      ]
     },
     "metadata": {},
     "output_type": "display_data"
    },
    {
     "data": {
      "text/plain": [
       "False"
      ]
     },
     "execution_count": 30,
     "metadata": {},
     "output_type": "execute_result"
    }
   ],
   "source": [
    "latex_expr = r\"$\\langle c^\\dagger_{\\downarrow}(k) c_{\\uparrow}(k) \\rangle$, $\\langle c^\\dagger_{\\uparrow}(k) c_{\\downarrow}(k) \\rangle$\"\n",
    "display(Markdown(latex_expr))\n",
    "\n",
    "iscorrect(latex_expr,ground_truth)"
   ]
  },
  {
   "cell_type": "code",
   "execution_count": 31,
   "metadata": {},
   "outputs": [
    {
     "data": {
      "text/markdown": [
       "$\\langle c^\\dagger_{\\uparrow}(k) c_{\\uparrow}(k) \\rangle$, $\\langle c^\\dagger_{\\downarrow}(k) c_{\\downarrow}(k) \\rangle$, $\\langle c^\\dagger_{\\downarrow}(k) c_{\\uparrow}(k) \\rangle$, and $\\langle c^\\dagger_{\\uparrow}(k) c_{\\downarrow}(k) \\rangle$ "
      ],
      "text/plain": [
       "<IPython.core.display.Markdown object>"
      ]
     },
     "metadata": {},
     "output_type": "display_data"
    },
    {
     "data": {
      "text/plain": [
       "False"
      ]
     },
     "execution_count": 31,
     "metadata": {},
     "output_type": "execute_result"
    }
   ],
   "source": [
    "latex_expr = r\"$\\langle c^\\dagger_{\\uparrow}(k) c_{\\uparrow}(k) \\rangle$, $\\langle c^\\dagger_{\\downarrow}(k) c_{\\downarrow}(k) \\rangle$, $\\langle c^\\dagger_{\\downarrow}(k) c_{\\uparrow}(k) \\rangle$, and $\\langle c^\\dagger_{\\uparrow}(k) c_{\\downarrow}(k) \\rangle$ \"\n",
    "display(Markdown(latex_expr))\n",
    "iscorrect(latex_expr,ground_truth)"
   ]
  },
  {
   "cell_type": "code",
   "execution_count": 34,
   "metadata": {},
   "outputs": [
    {
     "data": {
      "text/markdown": [
       "$\\langle c_{\\downarrow}(k) c_{\\uparrow}(k) \\rangle$, $\\langle c{\\uparrow}(k) c_{\\downarrow}(k) \\rangle$"
      ],
      "text/plain": [
       "<IPython.core.display.Markdown object>"
      ]
     },
     "metadata": {},
     "output_type": "display_data"
    },
    {
     "data": {
      "text/plain": [
       "False"
      ]
     },
     "execution_count": 34,
     "metadata": {},
     "output_type": "execute_result"
    }
   ],
   "source": [
    "latex_expr = r\"$\\langle c_{\\downarrow}(k) c_{\\uparrow}(k) \\rangle$, $\\langle c{\\uparrow}(k) c_{\\downarrow}(k) \\rangle$\"\n",
    "display(Markdown(latex_expr))\n",
    "\n",
    "iscorrect(latex_expr,ground_truth)"
   ]
  },
  {
   "cell_type": "markdown",
   "metadata": {},
   "source": [
    "# Draft"
   ]
  },
  {
   "cell_type": "code",
   "execution_count": 23,
   "metadata": {},
   "outputs": [
    {
     "data": {
      "text/plain": [
       "{Dagger(c_{\\downarrow}(k))*c_{\\downarrow}(k),\n",
       " Dagger(c_{\\uparrow}(k))*c_{\\uparrow}(k)}"
      ]
     },
     "execution_count": 23,
     "metadata": {},
     "output_type": "execute_result"
    }
   ],
   "source": [
    "list_latex_to_expr(latex_expr)"
   ]
  },
  {
   "cell_type": "code",
   "execution_count": 145,
   "metadata": {},
   "outputs": [],
   "source": [
    "latex_expr = r\"$\\langle c^\\dagger_{\\uparrow}(k) c_{\\uparrow}(k) \\rangle$, $\\langle c^\\dagger_{\\downarrow}(k) c_{\\downarrow}(k) \\rangle$, and $\\langle c^\\dagger_{\\downarrow}(k) c_{\\uparrow}(k) \\rangle$ \"\n"
   ]
  },
  {
   "cell_type": "code",
   "execution_count": 146,
   "metadata": {},
   "outputs": [
    {
     "data": {
      "text/plain": [
       "[Dagger(c_{\\uparrow}(k))*c_{\\uparrow}(k),\n",
       " Dagger(c_{\\downarrow}(k))*c_{\\downarrow}(k),\n",
       " Dagger(c_{\\downarrow}(k))*c_{\\uparrow}(k)]"
      ]
     },
     "execution_count": 146,
     "metadata": {},
     "output_type": "execute_result"
    }
   ],
   "source": [
    "list_latex_to_expr(latex_expr)"
   ]
  },
  {
   "cell_type": "code",
   "execution_count": 100,
   "metadata": {},
   "outputs": [],
   "source": [
    "zz=r'c^\\dagger_{\\uparrow}(k) \\times c_{\\uparrow}(k)'"
   ]
  },
  {
   "cell_type": "code",
   "execution_count": 134,
   "metadata": {},
   "outputs": [
    {
     "data": {
      "text/latex": [
       "$\\displaystyle c_{\\uparrow}(k)^{\\dagger} c_{\\uparrow}(k)$"
      ],
      "text/plain": [
       "Dagger(c_{\\uparrow}(k))*c_{\\uparrow}(k)"
      ]
     },
     "execution_count": 134,
     "metadata": {},
     "output_type": "execute_result"
    }
   ],
   "source": [
    "latex_to_expr(extract_operators(zz))"
   ]
  },
  {
   "cell_type": "code",
   "execution_count": 130,
   "metadata": {},
   "outputs": [
    {
     "data": {
      "text/latex": [
       "$\\displaystyle c_{\\uparrow}(k)^{\\dagger} c_{\\uparrow}(k)$"
      ],
      "text/plain": [
       "Dagger(c_{\\uparrow}(k))*c_{\\uparrow}(k)"
      ]
     },
     "execution_count": 130,
     "metadata": {},
     "output_type": "execute_result"
    }
   ],
   "source": [
    "expr"
   ]
  },
  {
   "cell_type": "code",
   "execution_count": 24,
   "metadata": {},
   "outputs": [
    {
     "data": {
      "text/plain": [
       "'c^\\\\dagger_{\\\\uparrow}(k) c_{\\\\uparrow}(k)'"
      ]
     },
     "execution_count": 24,
     "metadata": {},
     "output_type": "execute_result"
    }
   ],
   "source": [
    "extract_bracket_content(equations[0])"
   ]
  },
  {
   "cell_type": "code",
   "execution_count": 25,
   "metadata": {},
   "outputs": [
    {
     "data": {
      "text/plain": [
       "'c^\\\\dagger_{\\\\downarrow}(k) c_{\\\\downarrow}(k)'"
      ]
     },
     "execution_count": 25,
     "metadata": {},
     "output_type": "execute_result"
    }
   ],
   "source": [
    "extract_bracket_content(equations[1])"
   ]
  },
  {
   "cell_type": "code",
   "execution_count": 27,
   "metadata": {},
   "outputs": [
    {
     "ename": "ValueError",
     "evalue": "This is not a proper order parameter",
     "output_type": "error",
     "traceback": [
      "\u001b[0;31m---------------------------------------------------------------------------\u001b[0m",
      "\u001b[0;31mValueError\u001b[0m                                Traceback (most recent call last)",
      "Cell \u001b[0;32mIn[27], line 1\u001b[0m\n\u001b[0;32m----> 1\u001b[0m extract_bracket_content(\u001b[38;5;124mr\u001b[39m\u001b[38;5;124m'\u001b[39m\u001b[38;5;124m c^\u001b[39m\u001b[38;5;124m\\\u001b[39m\u001b[38;5;124mdagger_\u001b[39m\u001b[38;5;124m{\u001b[39m\u001b[38;5;124m\\\u001b[39m\u001b[38;5;124muparrow}(k) c_\u001b[39m\u001b[38;5;124m{\u001b[39m\u001b[38;5;124m\\\u001b[39m\u001b[38;5;124muparrow}(k) \u001b[39m\u001b[38;5;124m'\u001b[39m)\n",
      "Cell \u001b[0;32mIn[23], line 29\u001b[0m, in \u001b[0;36mextract_bracket_content\u001b[0;34m(equation)\u001b[0m\n\u001b[1;32m     26\u001b[0m             \u001b[38;5;28;01mreturn\u001b[39;00m equation[content_start:content_end]\u001b[38;5;241m.\u001b[39mstrip()\n\u001b[1;32m     28\u001b[0m \u001b[38;5;66;03m# If we get here, no proper brackets were found\u001b[39;00m\n\u001b[0;32m---> 29\u001b[0m \u001b[38;5;28;01mraise\u001b[39;00m \u001b[38;5;167;01mValueError\u001b[39;00m(\u001b[38;5;124m\"\u001b[39m\u001b[38;5;124mThis is not a proper order parameter\u001b[39m\u001b[38;5;124m\"\u001b[39m)\n",
      "\u001b[0;31mValueError\u001b[0m: This is not a proper order parameter"
     ]
    }
   ],
   "source": [
    "extract_bracket_content(r' c^\\dagger_{\\uparrow}(k) c_{\\uparrow}(k) ')"
   ]
  },
  {
   "cell_type": "code",
   "execution_count": 1,
   "metadata": {},
   "outputs": [],
   "source": [
    "from sympy.parsing.latex import parse_latex\n"
   ]
  },
  {
   "cell_type": "code",
   "execution_count": 2,
   "metadata": {},
   "outputs": [
    {
     "data": {
      "text/latex": [
       "$\\displaystyle \\int\\limits_{1}^{\\alpha} \\frac{1}{t}\\, dt$"
      ],
      "text/plain": [
       "Integral(1/t, (t, 1, alpha))"
      ]
     },
     "execution_count": 2,
     "metadata": {},
     "output_type": "execute_result"
    }
   ],
   "source": [
    "parse_latex(r\"\\int_1^\\alpha \\dfrac{\\mathrm{d}t}{t}\", backend=\"lark\")"
   ]
  },
  {
   "cell_type": "code",
   "execution_count": 10,
   "metadata": {},
   "outputs": [
    {
     "ename": "UnexpectedCharacters",
     "evalue": "No terminal matches '_' in the current parser context, at line 1 col 2\n\nc_{{\\uparrow}}\n ^\nExpected one of: \n\t* SYMBOL\n\t* BASIC_SUBSCRIPTED_SYMBOL\n\t* EQUAL\n\t* NOT_EQUAL\n\t* GTE\n\t* ADD\n\t* FUNC_ARCSIN\n\t* L_PAREN\n\t* FUNC_CSC\n\t* FUNC_LN\n\t* L_FLOOR\n\t* CMD_LANGLE\n\t* FUNC_LIM\n\t* __ANON_1\n\t* FUNC_INT\n\t* L_CEIL\n\t* FUNC_MAX\n\t* FUNC_ARCSEC\n\t* MUL_SYMBOL\n\t* FUNC_PROD\n\t* GT\n\t* SYMBOL_WITH_GREEK_SUBSCRIPT\n\t* FUNC_EXP\n\t* FUNC_ARCOSH\n\t* CMD_MATHIT\n\t* CMD_INFTY\n\t* FUNC_SQRT\n\t* CMD_OVERLINE\n\t* FUNC_TANH\n\t* FUNC_COT\n\t* FUNC_LOG\n\t* FUNC_ARCCOS\n\t* FUNC_ARCCSC\n\t* FUNC_COS\n\t* FUNC_ARCCOT\n\t* FUNC_COSH\n\t* GREEK_SYMBOL\n\t* CMD_FRAC\n\t* SUB\n\t* FUNC_ARSINH\n\t* CMD_BINOM\n\t* GREEK_SUBSCRIPTED_SYMBOL\n\t* LT\n\t* L_BRACE\n\t* FUNC_SUM\n\t* LTE\n\t* FUNC_SIN\n\t* FUNC_SINH\n\t* FUNC_ARTANH\n\t* DIV_SYMBOL\n\t* FUNC_SEC\n\t* BANG\n\t* CARET\n\t* BAR\n\t* FUNC_LG\n\t* FUNC_TAN\n\t* FUNC_ARCTAN\n\t* FUNC_MIN\n",
     "output_type": "error",
     "traceback": [
      "\u001b[0;31m---------------------------------------------------------------------------\u001b[0m",
      "\u001b[0;31mUnexpectedCharacters\u001b[0m                      Traceback (most recent call last)",
      "Cell \u001b[0;32mIn[10], line 1\u001b[0m\n\u001b[0;32m----> 1\u001b[0m parse_latex(\u001b[38;5;124mr\u001b[39m\u001b[38;5;124m'\u001b[39m\u001b[38;5;124mc_\u001b[39m\u001b[38;5;124m{{\u001b[39m\u001b[38;5;124m\\\u001b[39m\u001b[38;5;124muparrow}}\u001b[39m\u001b[38;5;124m'\u001b[39m, backend\u001b[38;5;241m=\u001b[39m\u001b[38;5;124m'\u001b[39m\u001b[38;5;124mlark\u001b[39m\u001b[38;5;124m'\u001b[39m)\n",
      "File \u001b[0;32m~/.pyenv/versions/anaconda3-2023.07-2/lib/python3.11/site-packages/sympy/parsing/latex/__init__.py:63\u001b[0m, in \u001b[0;36mparse_latex\u001b[0;34m(s, strict, backend)\u001b[0m\n\u001b[1;32m     61\u001b[0m         \u001b[38;5;28;01mreturn\u001b[39;00m _latex\u001b[38;5;241m.\u001b[39mparse_latex(s, strict)\n\u001b[1;32m     62\u001b[0m \u001b[38;5;28;01melif\u001b[39;00m backend \u001b[38;5;241m==\u001b[39m \u001b[38;5;124m\"\u001b[39m\u001b[38;5;124mlark\u001b[39m\u001b[38;5;124m\"\u001b[39m:\n\u001b[0;32m---> 63\u001b[0m     \u001b[38;5;28;01mreturn\u001b[39;00m parse_latex_lark(s)\n\u001b[1;32m     64\u001b[0m \u001b[38;5;28;01melse\u001b[39;00m:\n\u001b[1;32m     65\u001b[0m     \u001b[38;5;28;01mraise\u001b[39;00m \u001b[38;5;167;01mNotImplementedError\u001b[39;00m(\u001b[38;5;124mf\u001b[39m\u001b[38;5;124m\"\u001b[39m\u001b[38;5;124mUsing the \u001b[39m\u001b[38;5;124m'\u001b[39m\u001b[38;5;132;01m{\u001b[39;00mbackend\u001b[38;5;132;01m}\u001b[39;00m\u001b[38;5;124m'\u001b[39m\u001b[38;5;124m backend in the LaTeX\u001b[39m\u001b[38;5;124m\"\u001b[39m \\\n\u001b[1;32m     66\u001b[0m                                \u001b[38;5;124m\"\u001b[39m\u001b[38;5;124m parser is not supported.\u001b[39m\u001b[38;5;124m\"\u001b[39m)\n",
      "File \u001b[0;32m~/.pyenv/versions/anaconda3-2023.07-2/lib/python3.11/site-packages/sympy/parsing/latex/lark/latex_parser.py:111\u001b[0m, in \u001b[0;36mparse_latex_lark\u001b[0;34m(s)\u001b[0m\n\u001b[1;32m    109\u001b[0m \u001b[38;5;28;01mif\u001b[39;00m _lark \u001b[38;5;129;01mis\u001b[39;00m \u001b[38;5;28;01mNone\u001b[39;00m:\n\u001b[1;32m    110\u001b[0m     \u001b[38;5;28;01mraise\u001b[39;00m \u001b[38;5;167;01mImportError\u001b[39;00m(\u001b[38;5;124m\"\u001b[39m\u001b[38;5;124mLark is probably not installed\u001b[39m\u001b[38;5;124m\"\u001b[39m)\n\u001b[0;32m--> 111\u001b[0m \u001b[38;5;28;01mreturn\u001b[39;00m _lark_latex_parser\u001b[38;5;241m.\u001b[39mdoparse(s)\n",
      "File \u001b[0;32m~/.pyenv/versions/anaconda3-2023.07-2/lib/python3.11/site-packages/sympy/parsing/latex/lark/latex_parser.py:75\u001b[0m, in \u001b[0;36mLarkLaTeXParser.doparse\u001b[0;34m(self, s)\u001b[0m\n\u001b[1;32m     72\u001b[0m \u001b[38;5;28;01mif\u001b[39;00m \u001b[38;5;28mself\u001b[39m\u001b[38;5;241m.\u001b[39mprint_debug_output:\n\u001b[1;32m     73\u001b[0m     _lark\u001b[38;5;241m.\u001b[39mlogger\u001b[38;5;241m.\u001b[39msetLevel(logging\u001b[38;5;241m.\u001b[39mDEBUG)\n\u001b[0;32m---> 75\u001b[0m parse_tree \u001b[38;5;241m=\u001b[39m \u001b[38;5;28mself\u001b[39m\u001b[38;5;241m.\u001b[39mparser\u001b[38;5;241m.\u001b[39mparse(s)\n\u001b[1;32m     77\u001b[0m \u001b[38;5;28;01mif\u001b[39;00m \u001b[38;5;129;01mnot\u001b[39;00m \u001b[38;5;28mself\u001b[39m\u001b[38;5;241m.\u001b[39mtransform_expr:\n\u001b[1;32m     78\u001b[0m     \u001b[38;5;66;03m# exit early and return the parse tree\u001b[39;00m\n\u001b[1;32m     79\u001b[0m     _lark\u001b[38;5;241m.\u001b[39mlogger\u001b[38;5;241m.\u001b[39mdebug(\u001b[38;5;124m\"\u001b[39m\u001b[38;5;124mexpression = \u001b[39m\u001b[38;5;132;01m%s\u001b[39;00m\u001b[38;5;124m\"\u001b[39m, s)\n",
      "File \u001b[0;32m~/.pyenv/versions/anaconda3-2023.07-2/lib/python3.11/site-packages/lark/lark.py:655\u001b[0m, in \u001b[0;36mLark.parse\u001b[0;34m(self, text, start, on_error)\u001b[0m\n\u001b[1;32m    637\u001b[0m \u001b[38;5;28;01mdef\u001b[39;00m \u001b[38;5;21mparse\u001b[39m(\u001b[38;5;28mself\u001b[39m, text: \u001b[38;5;28mstr\u001b[39m, start: Optional[\u001b[38;5;28mstr\u001b[39m]\u001b[38;5;241m=\u001b[39m\u001b[38;5;28;01mNone\u001b[39;00m, on_error: \u001b[38;5;124m'\u001b[39m\u001b[38;5;124mOptional[Callable[[UnexpectedInput], bool]]\u001b[39m\u001b[38;5;124m'\u001b[39m\u001b[38;5;241m=\u001b[39m\u001b[38;5;28;01mNone\u001b[39;00m) \u001b[38;5;241m-\u001b[39m\u001b[38;5;241m>\u001b[39m \u001b[38;5;124m'\u001b[39m\u001b[38;5;124mParseTree\u001b[39m\u001b[38;5;124m'\u001b[39m:\n\u001b[1;32m    638\u001b[0m \u001b[38;5;250m    \u001b[39m\u001b[38;5;124;03m\"\"\"Parse the given text, according to the options provided.\u001b[39;00m\n\u001b[1;32m    639\u001b[0m \n\u001b[1;32m    640\u001b[0m \u001b[38;5;124;03m    Parameters:\u001b[39;00m\n\u001b[0;32m   (...)\u001b[0m\n\u001b[1;32m    653\u001b[0m \n\u001b[1;32m    654\u001b[0m \u001b[38;5;124;03m    \"\"\"\u001b[39;00m\n\u001b[0;32m--> 655\u001b[0m     \u001b[38;5;28;01mreturn\u001b[39;00m \u001b[38;5;28mself\u001b[39m\u001b[38;5;241m.\u001b[39mparser\u001b[38;5;241m.\u001b[39mparse(text, start\u001b[38;5;241m=\u001b[39mstart, on_error\u001b[38;5;241m=\u001b[39mon_error)\n",
      "File \u001b[0;32m~/.pyenv/versions/anaconda3-2023.07-2/lib/python3.11/site-packages/lark/parser_frontends.py:104\u001b[0m, in \u001b[0;36mParsingFrontend.parse\u001b[0;34m(self, text, start, on_error)\u001b[0m\n\u001b[1;32m    102\u001b[0m kw \u001b[38;5;241m=\u001b[39m {} \u001b[38;5;28;01mif\u001b[39;00m on_error \u001b[38;5;129;01mis\u001b[39;00m \u001b[38;5;28;01mNone\u001b[39;00m \u001b[38;5;28;01melse\u001b[39;00m {\u001b[38;5;124m'\u001b[39m\u001b[38;5;124mon_error\u001b[39m\u001b[38;5;124m'\u001b[39m: on_error}\n\u001b[1;32m    103\u001b[0m stream \u001b[38;5;241m=\u001b[39m \u001b[38;5;28mself\u001b[39m\u001b[38;5;241m.\u001b[39m_make_lexer_thread(text)\n\u001b[0;32m--> 104\u001b[0m \u001b[38;5;28;01mreturn\u001b[39;00m \u001b[38;5;28mself\u001b[39m\u001b[38;5;241m.\u001b[39mparser\u001b[38;5;241m.\u001b[39mparse(stream, chosen_start, \u001b[38;5;241m*\u001b[39m\u001b[38;5;241m*\u001b[39mkw)\n",
      "File \u001b[0;32m~/.pyenv/versions/anaconda3-2023.07-2/lib/python3.11/site-packages/lark/parsers/earley.py:280\u001b[0m, in \u001b[0;36mParser.parse\u001b[0;34m(self, lexer, start)\u001b[0m\n\u001b[1;32m    277\u001b[0m     \u001b[38;5;28;01melse\u001b[39;00m:\n\u001b[1;32m    278\u001b[0m         columns[\u001b[38;5;241m0\u001b[39m]\u001b[38;5;241m.\u001b[39madd(item)\n\u001b[0;32m--> 280\u001b[0m to_scan \u001b[38;5;241m=\u001b[39m \u001b[38;5;28mself\u001b[39m\u001b[38;5;241m.\u001b[39m_parse(lexer, columns, to_scan, start_symbol)\n\u001b[1;32m    282\u001b[0m \u001b[38;5;66;03m# If the parse was successful, the start\u001b[39;00m\n\u001b[1;32m    283\u001b[0m \u001b[38;5;66;03m# symbol should have been completed in the last step of the Earley cycle, and will be in\u001b[39;00m\n\u001b[1;32m    284\u001b[0m \u001b[38;5;66;03m# this column. Find the item for the start_symbol, which is the root of the SPPF tree.\u001b[39;00m\n\u001b[1;32m    285\u001b[0m solutions \u001b[38;5;241m=\u001b[39m dedup_list(n\u001b[38;5;241m.\u001b[39mnode \u001b[38;5;28;01mfor\u001b[39;00m n \u001b[38;5;129;01min\u001b[39;00m columns[\u001b[38;5;241m-\u001b[39m\u001b[38;5;241m1\u001b[39m] \u001b[38;5;28;01mif\u001b[39;00m n\u001b[38;5;241m.\u001b[39mis_complete \u001b[38;5;129;01mand\u001b[39;00m n\u001b[38;5;241m.\u001b[39mnode \u001b[38;5;129;01mis\u001b[39;00m \u001b[38;5;129;01mnot\u001b[39;00m \u001b[38;5;28;01mNone\u001b[39;00m \u001b[38;5;129;01mand\u001b[39;00m n\u001b[38;5;241m.\u001b[39ms \u001b[38;5;241m==\u001b[39m start_symbol \u001b[38;5;129;01mand\u001b[39;00m n\u001b[38;5;241m.\u001b[39mstart \u001b[38;5;241m==\u001b[39m \u001b[38;5;241m0\u001b[39m)\n",
      "File \u001b[0;32m~/.pyenv/versions/anaconda3-2023.07-2/lib/python3.11/site-packages/lark/parsers/xearley.py:152\u001b[0m, in \u001b[0;36mParser._parse\u001b[0;34m(self, stream, columns, to_scan, start_symbol)\u001b[0m\n\u001b[1;32m    149\u001b[0m \u001b[38;5;28;01mfor\u001b[39;00m token \u001b[38;5;129;01min\u001b[39;00m stream:\n\u001b[1;32m    150\u001b[0m     \u001b[38;5;28mself\u001b[39m\u001b[38;5;241m.\u001b[39mpredict_and_complete(i, to_scan, columns, transitives)\n\u001b[0;32m--> 152\u001b[0m     to_scan \u001b[38;5;241m=\u001b[39m scan(i, to_scan)\n\u001b[1;32m    154\u001b[0m     \u001b[38;5;28;01mif\u001b[39;00m token \u001b[38;5;241m==\u001b[39m \u001b[38;5;124m'\u001b[39m\u001b[38;5;130;01m\\n\u001b[39;00m\u001b[38;5;124m'\u001b[39m:\n\u001b[1;32m    155\u001b[0m         text_line \u001b[38;5;241m+\u001b[39m\u001b[38;5;241m=\u001b[39m \u001b[38;5;241m1\u001b[39m\n",
      "File \u001b[0;32m~/.pyenv/versions/anaconda3-2023.07-2/lib/python3.11/site-packages/lark/parsers/xearley.py:125\u001b[0m, in \u001b[0;36mParser._parse.<locals>.scan\u001b[0;34m(i, to_scan)\u001b[0m\n\u001b[1;32m    123\u001b[0m \u001b[38;5;28;01mif\u001b[39;00m \u001b[38;5;129;01mnot\u001b[39;00m next_set \u001b[38;5;129;01mand\u001b[39;00m \u001b[38;5;129;01mnot\u001b[39;00m delayed_matches \u001b[38;5;129;01mand\u001b[39;00m \u001b[38;5;129;01mnot\u001b[39;00m next_to_scan:\n\u001b[1;32m    124\u001b[0m     considered_rules \u001b[38;5;241m=\u001b[39m \u001b[38;5;28mlist\u001b[39m(\u001b[38;5;28msorted\u001b[39m(to_scan, key\u001b[38;5;241m=\u001b[39m\u001b[38;5;28;01mlambda\u001b[39;00m key: key\u001b[38;5;241m.\u001b[39mrule\u001b[38;5;241m.\u001b[39morigin\u001b[38;5;241m.\u001b[39mname))\n\u001b[0;32m--> 125\u001b[0m     \u001b[38;5;28;01mraise\u001b[39;00m UnexpectedCharacters(stream, i, text_line, text_column, {item\u001b[38;5;241m.\u001b[39mexpect\u001b[38;5;241m.\u001b[39mname \u001b[38;5;28;01mfor\u001b[39;00m item \u001b[38;5;129;01min\u001b[39;00m to_scan},\n\u001b[1;32m    126\u001b[0m                                \u001b[38;5;28mset\u001b[39m(to_scan), state\u001b[38;5;241m=\u001b[39m\u001b[38;5;28mfrozenset\u001b[39m(i\u001b[38;5;241m.\u001b[39ms \u001b[38;5;28;01mfor\u001b[39;00m i \u001b[38;5;129;01min\u001b[39;00m to_scan),\n\u001b[1;32m    127\u001b[0m                                considered_rules\u001b[38;5;241m=\u001b[39mconsidered_rules\n\u001b[1;32m    128\u001b[0m                                )\n\u001b[1;32m    130\u001b[0m \u001b[38;5;28;01mreturn\u001b[39;00m next_to_scan\n",
      "\u001b[0;31mUnexpectedCharacters\u001b[0m: No terminal matches '_' in the current parser context, at line 1 col 2\n\nc_{{\\uparrow}}\n ^\nExpected one of: \n\t* SYMBOL\n\t* BASIC_SUBSCRIPTED_SYMBOL\n\t* EQUAL\n\t* NOT_EQUAL\n\t* GTE\n\t* ADD\n\t* FUNC_ARCSIN\n\t* L_PAREN\n\t* FUNC_CSC\n\t* FUNC_LN\n\t* L_FLOOR\n\t* CMD_LANGLE\n\t* FUNC_LIM\n\t* __ANON_1\n\t* FUNC_INT\n\t* L_CEIL\n\t* FUNC_MAX\n\t* FUNC_ARCSEC\n\t* MUL_SYMBOL\n\t* FUNC_PROD\n\t* GT\n\t* SYMBOL_WITH_GREEK_SUBSCRIPT\n\t* FUNC_EXP\n\t* FUNC_ARCOSH\n\t* CMD_MATHIT\n\t* CMD_INFTY\n\t* FUNC_SQRT\n\t* CMD_OVERLINE\n\t* FUNC_TANH\n\t* FUNC_COT\n\t* FUNC_LOG\n\t* FUNC_ARCCOS\n\t* FUNC_ARCCSC\n\t* FUNC_COS\n\t* FUNC_ARCCOT\n\t* FUNC_COSH\n\t* GREEK_SYMBOL\n\t* CMD_FRAC\n\t* SUB\n\t* FUNC_ARSINH\n\t* CMD_BINOM\n\t* GREEK_SUBSCRIPTED_SYMBOL\n\t* LT\n\t* L_BRACE\n\t* FUNC_SUM\n\t* LTE\n\t* FUNC_SIN\n\t* FUNC_SINH\n\t* FUNC_ARTANH\n\t* DIV_SYMBOL\n\t* FUNC_SEC\n\t* BANG\n\t* CARET\n\t* BAR\n\t* FUNC_LG\n\t* FUNC_TAN\n\t* FUNC_ARCTAN\n\t* FUNC_MIN\n"
     ]
    }
   ],
   "source": [
    "parse_latex(r'c_{{\\uparrow}}', backend='lark')"
   ]
  },
  {
   "cell_type": "code",
   "execution_count": 49,
   "metadata": {},
   "outputs": [
    {
     "name": "stdout",
     "output_type": "stream",
     "text": [
      "\u001b[0;31mSignature:\u001b[0m \u001b[0mparse_latex\u001b[0m\u001b[0;34m(\u001b[0m\u001b[0ms\u001b[0m\u001b[0;34m)\u001b[0m\u001b[0;34m\u001b[0m\u001b[0;34m\u001b[0m\u001b[0m\n",
      "\u001b[0;31mDocstring:\u001b[0m\n",
      "Converts the string ``s`` to a SymPy ``Expr``\n",
      "\n",
      "Parameters\n",
      "==========\n",
      "\n",
      "s : str\n",
      "    The LaTeX string to parse. In Python source containing LaTeX,\n",
      "    *raw strings* (denoted with ``r\"``, like this one) are preferred,\n",
      "    as LaTeX makes liberal use of the ``\\`` character, which would\n",
      "    trigger escaping in normal Python strings.\n",
      "\n",
      "Examples\n",
      "========\n",
      "\n",
      ">>> from sympy.parsing.latex import parse_latex\n",
      ">>> expr = parse_latex(r\"\\frac {1 + \\sqrt {\\a}} {\\b}\")\n",
      ">>> expr\n",
      "(sqrt(a) + 1)/b\n",
      ">>> expr.evalf(4, subs=dict(a=5, b=2))\n",
      "1.618\n",
      "\u001b[0;31mFile:\u001b[0m      ~/.pyenv/versions/anaconda3-2023.07-2/lib/python3.11/site-packages/sympy/parsing/latex/__init__.py\n",
      "\u001b[0;31mType:\u001b[0m      function"
     ]
    }
   ],
   "source": [
    "?parse_latex"
   ]
  },
  {
   "cell_type": "code",
   "execution_count": null,
   "metadata": {},
   "outputs": [],
   "source": []
  },
  {
   "cell_type": "code",
   "execution_count": null,
   "metadata": {},
   "outputs": [],
   "source": [
    "from sympy.parsing.latex import parse_latex\n",
    "\n",
    "# Your LaTeX expression\n",
    "# latex_expr = r\" c_{s}(k)^\\dagger c_{s}(k) \"\n",
    "\n",
    "# Convert to SymPy expression\n",
    "sympy_expr = parse_latex(latex_expr)"
   ]
  },
  {
   "cell_type": "code",
   "execution_count": null,
   "metadata": {},
   "outputs": [],
   "source": [
    "from sympy import Symbol, symbols\n",
    "from sympy.parsing.latex import parse_latex\n",
    "\n",
    "# Method 1: Define symbols first, then parse with known_symbols\n",
    "c_dag = Symbol('c_s(k)', commutative=False)\n",
    "c = Symbol('c', commutative=False)\n",
    "k = Symbol('k')\n",
    "s = Symbol('s')\n",
    "\n",
    "# Then use known_symbols parameter when parsing\n",
    "# latex_expr = r\"\\langle c^\\dagger_{s}(k) c_{s}(k) \\rangle\"\n",
    "# expr = parse_latex(latex_expr, known_symbols={'c^\\dagger': c_dag, 'c': c})\n"
   ]
  },
  {
   "cell_type": "code",
   "execution_count": 8,
   "metadata": {},
   "outputs": [
    {
     "data": {
      "text/latex": [
       "$\\displaystyle c^{\\dagger}$"
      ],
      "text/plain": [
       "c^\\dagger"
      ]
     },
     "execution_count": 8,
     "metadata": {},
     "output_type": "execute_result"
    }
   ],
   "source": []
  },
  {
   "cell_type": "code",
   "execution_count": 5,
   "metadata": {},
   "outputs": [
    {
     "data": {
      "text/latex": [
       "$\\displaystyle c_{s}{\\left(k \\right)} c_{s}^{dagger}{\\left(k \\right)}$"
      ],
      "text/plain": [
       "c_{s}(k)*c_{s}(k)**dagger"
      ]
     },
     "execution_count": 5,
     "metadata": {},
     "output_type": "execute_result"
    }
   ],
   "source": [
    "sympy_expr"
   ]
  },
  {
   "cell_type": "code",
   "execution_count": 2,
   "metadata": {},
   "outputs": [
    {
     "name": "stdout",
     "output_type": "stream",
     "text": [
      "Collecting antlr4-python3-runtime==4.10\n",
      "  Downloading antlr4-python3-runtime-4.10.tar.gz (116 kB)\n",
      "\u001b[2K     \u001b[90m━━━━━━━━━━━━━━━━━━━━━━━━━━━━━━━━━━━━━━━\u001b[0m \u001b[32m116.6/116.6 kB\u001b[0m \u001b[31m6.6 MB/s\u001b[0m eta \u001b[36m0:00:00\u001b[0m\n",
      "\u001b[?25h  Preparing metadata (setup.py) ... \u001b[?25ldone\n",
      "\u001b[?25hBuilding wheels for collected packages: antlr4-python3-runtime\n",
      "  Building wheel for antlr4-python3-runtime (setup.py) ... \u001b[?25ldone\n",
      "\u001b[?25h  Created wheel for antlr4-python3-runtime: filename=antlr4_python3_runtime-4.10-py3-none-any.whl size=144153 sha256=53345bcb80f8ff392951f218a91b8917b6feb863d6e4f0780a46de53b9045679\n",
      "  Stored in directory: /home/jake/.cache/pip/wheels/44/be/88/b6a0e29737b4759f7ddaaf0c8c0a2dc47ffb8bb98e0d4eb672\n",
      "Successfully built antlr4-python3-runtime\n",
      "Installing collected packages: antlr4-python3-runtime\n",
      "  Attempting uninstall: antlr4-python3-runtime\n",
      "    Found existing installation: antlr4-python3-runtime 4.13.2\n",
      "    Uninstalling antlr4-python3-runtime-4.13.2:\n",
      "      Successfully uninstalled antlr4-python3-runtime-4.13.2\n",
      "Successfully installed antlr4-python3-runtime-4.10\n",
      "Note: you may need to restart the kernel to use updated packages.\n"
     ]
    }
   ],
   "source": [
    "pip install antlr4-python3-runtime==4.10"
   ]
  },
  {
   "cell_type": "code",
   "execution_count": null,
   "metadata": {},
   "outputs": [],
   "source": []
  }
 ],
 "metadata": {
  "kernelspec": {
   "display_name": "base",
   "language": "python",
   "name": "python3"
  },
  "language_info": {
   "codemirror_mode": {
    "name": "ipython",
    "version": 3
   },
   "file_extension": ".py",
   "mimetype": "text/x-python",
   "name": "python",
   "nbconvert_exporter": "python",
   "pygments_lexer": "ipython3",
   "version": "3.11.4"
  }
 },
 "nbformat": 4,
 "nbformat_minor": 2
}
