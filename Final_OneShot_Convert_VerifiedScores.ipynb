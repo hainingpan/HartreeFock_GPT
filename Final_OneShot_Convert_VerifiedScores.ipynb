{
  "cells": [
    {
      "cell_type": "markdown",
      "metadata": {
        "id": "uy338naA4f6r"
      },
      "source": [
        "## One Shot Experiment With the Convert Interacting ... task"
      ]
    },
    {
      "cell_type": "code",
      "execution_count": null,
      "metadata": {
        "colab": {
          "base_uri": "https://localhost:8080/"
        },
        "id": "W7W9qThwAVV0",
        "outputId": "4a0bff8e-9d6f-4fc8-d2b2-32d560451508"
      },
      "outputs": [],
      "source": [
        "!pip install SciencePlots"
      ]
    },
    {
      "cell_type": "code",
      "execution_count": null,
      "metadata": {
        "colab": {
          "base_uri": "https://localhost:8080/"
        },
        "id": "wSSMsSEj41Tk",
        "outputId": "8db4bea5-d0a2-4fdd-c72f-6bb8ea136e61"
      },
      "outputs": [],
      "source": [
        "!git clone https://github.com/nmudur/HartreeFock_GPT.git"
      ]
    },
    {
      "cell_type": "code",
      "execution_count": null,
      "metadata": {
        "colab": {
          "base_uri": "https://localhost:8080/"
        },
        "id": "hLreOZxKcYUB",
        "outputId": "7530f197-dae4-4638-b067-dbf97da3c091"
      },
      "outputs": [],
      "source": [
        "from google.colab import drive\n",
        "drive.mount('/content/drive')"
      ]
    },
    {
      "cell_type": "code",
      "execution_count": 1,
      "metadata": {
        "id": "JsPB-JeFl7Nc"
      },
      "outputs": [],
      "source": [
        "import os\n",
        "import json\n",
        "import pprint\n",
        "import pandas as pd\n",
        "import yaml\n",
        "import numpy as np"
      ]
    },
    {
      "cell_type": "markdown",
      "metadata": {
        "id": "TCNJSsgQFOer"
      },
      "source": [
        "### Rename final scored file"
      ]
    },
    {
      "cell_type": "code",
      "execution_count": 2,
      "metadata": {
        "id": "p-mFeDCWoMfS"
      },
      "outputs": [],
      "source": [
        "import yaml"
      ]
    },
    {
      "cell_type": "code",
      "execution_count": 3,
      "metadata": {
        "id": "5wxxQ8zipULm"
      },
      "outputs": [],
      "source": [
        "ONESHOT_DIR = '/content/drive/MyDrive/HF annotation/HartreeFock_Shared/experiments/fewshot_promptannotation/one-shot_10-11/'"
      ]
    },
    {
      "cell_type": "code",
      "execution_count": null,
      "metadata": {
        "id": "CwiY65eGYj8s"
      },
      "outputs": [],
      "source": [
        "oneshot_scores = yaml.safe_load(open(os.path.join(ONESHOT_DIR, 'processed_oneshot_df_reverified_scores.yaml'), 'r'))"
      ]
    },
    {
      "cell_type": "code",
      "execution_count": null,
      "metadata": {
        "id": "2RqWrEPYFQNJ"
      },
      "outputs": [],
      "source": [
        "oneshot_renamed = oneshot_scores.copy()\n",
        "for paper in oneshot_renamed:\n",
        "  for ph in oneshot_renamed[paper]['placeholder']:\n",
        "    oneshot_renamed[paper]['placeholder'][ph]['score']['One-Shot (Haining)'] = oneshot_renamed[paper]['placeholder'][ph]['score']['One-Shot (Nayantara)']\n",
        "    del oneshot_renamed[paper]['placeholder'][ph]['score']['One-Shot (Nayantara)']"
      ]
    },
    {
      "cell_type": "code",
      "execution_count": null,
      "metadata": {
        "colab": {
          "base_uri": "https://localhost:8080/"
        },
        "id": "vwXjSBT5FSpn",
        "outputId": "1142d089-f0e6-4422-a5ec-f1c4b49773fd"
      },
      "outputs": [],
      "source": [
        "oneshot_renamed"
      ]
    },
    {
      "cell_type": "code",
      "execution_count": null,
      "metadata": {
        "id": "0ixG2xY1GfGE"
      },
      "outputs": [],
      "source": [
        "# yaml.dump(oneshot_renamed, open(os.path.join(ONESHOT_DIR, 'processed_oneshot_df_reverified_scores_renamed.yaml'), 'w'))"
      ]
    },
    {
      "cell_type": "code",
      "execution_count": null,
      "metadata": {
        "id": "iIi2MEnlGSuD"
      },
      "outputs": [],
      "source": [
        "# reread and check"
      ]
    },
    {
      "cell_type": "markdown",
      "metadata": {
        "id": "Iy-rmezX-52O"
      },
      "source": [
        "## Scoring before and after"
      ]
    },
    {
      "cell_type": "code",
      "execution_count": null,
      "metadata": {
        "colab": {
          "base_uri": "https://localhost:8080/"
        },
        "id": "2sl-7QXIp3Bh",
        "outputId": "5367f06d-8b7b-4c17-a2cf-e729b5b46a97"
      },
      "outputs": [
        {
          "data": {
            "text/plain": [
              "['oneshot_df_repeat.csv',\n",
              " 'processed_oneshot_df.yaml',\n",
              " 'oneshot_df.csv',\n",
              " 'processed_oneshot_df_preHPreview.yaml',\n",
              " 'processed_oneshot_df_reverified_scores.yaml',\n",
              " 'placeholderwise_performance.png',\n",
              " 'processed_oneshot_df_reverified_scores_renamed.yaml']"
            ]
          },
          "execution_count": 13,
          "metadata": {},
          "output_type": "execute_result"
        }
      ],
      "source": [
        "os.listdir(ONESHOT_DIR)"
      ]
    },
    {
      "cell_type": "code",
      "execution_count": 3,
      "metadata": {
        "id": "2fuF1xqGEh_n"
      },
      "outputs": [],
      "source": [
        "# oneshot_scores = yaml.safe_load(open(os.path.join(ONESHOT_DIR, 'processed_oneshot_df_reverified_scores_renamed.yaml'), 'r'))\n",
        "oneshot_scores = yaml.safe_load(open( 'processed_oneshot_df_reverified_scores_renamed.yaml', 'r'))"
      ]
    },
    {
      "cell_type": "code",
      "execution_count": 4,
      "metadata": {
        "colab": {
          "base_uri": "https://localhost:8080/"
        },
        "id": "z8V4Xj2GEwWh",
        "outputId": "04798e8c-9ea2-4342-b5e1-2aadd1095ee4"
      },
      "outputs": [
        {
          "data": {
            "text/plain": [
              "6"
            ]
          },
          "execution_count": 4,
          "metadata": {},
          "output_type": "execute_result"
        }
      ],
      "source": [
        "len(oneshot_scores)"
      ]
    },
    {
      "cell_type": "code",
      "execution_count": null,
      "metadata": {
        "colab": {
          "base_uri": "https://localhost:8080/"
        },
        "id": "L4VbZOzvEtjL",
        "outputId": "fa8256a3-baa7-4c5b-8df6-b1085be751aa"
      },
      "outputs": [],
      "source": [
        "oneshot_scores"
      ]
    },
    {
      "cell_type": "code",
      "execution_count": 9,
      "metadata": {
        "colab": {
          "base_uri": "https://localhost:8080/"
        },
        "id": "2_jXUACYEzAg",
        "outputId": "7233540c-f3af-400e-a89b-aaa4bffcc9a6"
      },
      "outputs": [
        {
          "data": {
            "text/plain": [
              "dict_keys(['1106.6060.tex', '1310.2674.tex', '2008.08998.tex', '2012.04554.tex', '2110.11330.tex', '2308.03843.tex'])"
            ]
          },
          "execution_count": 9,
          "metadata": {},
          "output_type": "execute_result"
        }
      ],
      "source": [
        "oneshot_scores.keys()"
      ]
    },
    {
      "cell_type": "code",
      "execution_count": 5,
      "metadata": {
        "id": "u2Jrde9Z_EK7"
      },
      "outputs": [],
      "source": [
        "import scipy"
      ]
    },
    {
      "cell_type": "code",
      "execution_count": 5,
      "metadata": {
        "id": "nEvE9jL3Euk1"
      },
      "outputs": [],
      "source": [
        "def aggregate(oneshot_scores, exclude_paper, placeholder_list):\n",
        "  Nzs_occ = {0: 0, 1: 0, 2: 0}\n",
        "  Nos_occ = {0: 0, 1: 0, 2: 0}\n",
        "  pl_agg = {}\n",
        "  for ph in placeholder_list:\n",
        "    pl_agg[ph] = {'Zero-Shot': [], 'One-Shot': [], 'Number of Papers': 0}\n",
        "  for paper in oneshot_scores:\n",
        "    if paper==exclude_paper: # to exclude the example paper\n",
        "      continue\n",
        "    print(paper)\n",
        "    for ph in placeholder_list:\n",
        "      try:\n",
        "        zs_score = int(oneshot_scores[paper]['placeholder'][ph]['score']['Zero-Shot (Haining)']) # casts everything to 0, 1, 2\n",
        "        os_score = int(oneshot_scores[paper]['placeholder'][ph]['score']['One-Shot (Haining)'])\n",
        "        Nzs_occ[zs_score] +=1\n",
        "        Nos_occ[os_score] +=1\n",
        "\n",
        "        pl_agg[ph]['Zero-Shot'].append(zs_score)\n",
        "        pl_agg[ph]['One-Shot'].append(os_score)\n",
        "        pl_agg[ph]['Number of Papers'] += 1\n",
        "      except TypeError as e:\n",
        "        print(paper, ph, e)\n",
        "\n",
        "  for ph in pl_agg:\n",
        "    pl_agg[ph]['Zero-Shot'] = np.array(pl_agg[ph]['Zero-Shot'])\n",
        "    pl_agg[ph]['One-Shot'] = np.array(pl_agg[ph]['One-Shot'])\n",
        "    pl_agg[ph]['Zero-Shot_mean'] = np.mean(pl_agg[ph]['Zero-Shot'])\n",
        "    pl_agg[ph]['One-Shot_mean'] = np.mean(pl_agg[ph]['One-Shot'])\n",
        "    pl_agg[ph]['Zero-Shot_sem'] = scipy.stats.sem(pl_agg[ph]['Zero-Shot'])\n",
        "    pl_agg[ph]['One-Shot_sem'] = scipy.stats.sem(pl_agg[ph]['One-Shot'])\n",
        "  return pl_agg, Nzs_occ, Nos_occ\n"
      ]
    },
    {
      "cell_type": "code",
      "execution_count": 15,
      "metadata": {
        "colab": {
          "base_uri": "https://localhost:8080/"
        },
        "id": "7WVrfjnNFfIr",
        "outputId": "31db38ed-fb30-40eb-f9d2-06ba566f65fc"
      },
      "outputs": [
        {
          "name": "stdout",
          "output_type": "stream",
          "text": [
            "1106.6060.tex\n",
            "1310.2674.tex\n",
            "2008.08998.tex\n",
            "2012.04554.tex\n",
            "2308.03843.tex\n"
          ]
        }
      ],
      "source": [
        "pl_performance, zs_freq, os_freq = aggregate(oneshot_scores, '2110.11330.tex', list(oneshot_scores['1106.6060.tex']['placeholder'].keys()))"
      ]
    },
    {
      "cell_type": "code",
      "execution_count": 16,
      "metadata": {
        "colab": {
          "base_uri": "https://localhost:8080/"
        },
        "id": "AaFdMS6CG6xL",
        "outputId": "3783a98e-72b8-4989-b2f2-49bfaf9422ab"
      },
      "outputs": [
        {
          "data": {
            "text/plain": [
              "{'Note that interaction have no position dependence now': {'Zero-Shot': array([2, 2, 0, 0, 0]),\n",
              "  'One-Shot': array([2, 2, 0, 2, 0]),\n",
              "  'Number of Papers': 5,\n",
              "  'Zero-Shot_mean': 0.8,\n",
              "  'One-Shot_mean': 1.2,\n",
              "  'Zero-Shot_sem': 0.48989794855663565,\n",
              "  'One-Shot_sem': 0.48989794855663565},\n",
              " 'definition_of_Fourier_Transformation': {'Zero-Shot': array([0, 0, 0, 0, 0]),\n",
              "  'One-Shot': array([2, 2, 2, 1, 0]),\n",
              "  'Number of Papers': 5,\n",
              "  'Zero-Shot_mean': 0.0,\n",
              "  'One-Shot_mean': 1.4,\n",
              "  'Zero-Shot_sem': 0.0,\n",
              "  'One-Shot_sem': 0.39999999999999997},\n",
              " 'momentum_creation_op': {'Zero-Shot': array([0, 1, 2, 0, 0]),\n",
              "  'One-Shot': array([2, 2, 2, 2, 0]),\n",
              "  'Number of Papers': 5,\n",
              "  'Zero-Shot_mean': 0.6,\n",
              "  'One-Shot_mean': 1.6,\n",
              "  'Zero-Shot_sem': 0.3999999999999999,\n",
              "  'One-Shot_sem': 0.39999999999999997},\n",
              " 'momentum_var': {'Zero-Shot': array([0, 0, 2, 0, 2]),\n",
              "  'One-Shot': array([2, 2, 2, 2, 2]),\n",
              "  'Number of Papers': 5,\n",
              "  'Zero-Shot_mean': 0.8,\n",
              "  'One-Shot_mean': 2.0,\n",
              "  'Zero-Shot_sem': 0.48989794855663565,\n",
              "  'One-Shot_sem': 0.0},\n",
              " 'real_creation_op': {'Zero-Shot': array([0, 1, 0, 2, 0]),\n",
              "  'One-Shot': array([2, 1, 2, 2, 0]),\n",
              "  'Number of Papers': 5,\n",
              "  'Zero-Shot_mean': 0.6,\n",
              "  'One-Shot_mean': 1.4,\n",
              "  'Zero-Shot_sem': 0.39999999999999997,\n",
              "  'One-Shot_sem': 0.39999999999999997},\n",
              " 'real_variable': {'Zero-Shot': array([0, 0, 2, 2, 0]),\n",
              "  'One-Shot': array([2, 2, 2, 1, 0]),\n",
              "  'Number of Papers': 5,\n",
              "  'Zero-Shot_mean': 0.8,\n",
              "  'One-Shot_mean': 1.4,\n",
              "  'Zero-Shot_sem': 0.48989794855663565,\n",
              "  'One-Shot_sem': 0.39999999999999997},\n",
              " 'second_int_symbol': {'Zero-Shot': array([2, 0, 2, 1, 2]),\n",
              "  'One-Shot': array([2, 2, 2, 1, 2]),\n",
              "  'Number of Papers': 5,\n",
              "  'Zero-Shot_mean': 1.4,\n",
              "  'One-Shot_mean': 1.8,\n",
              "  'Zero-Shot_sem': 0.39999999999999997,\n",
              "  'One-Shot_sem': 0.19999999999999998},\n",
              " 'single-particle|second-quantized': {'Zero-Shot': array([2, 2, 2, 2, 2]),\n",
              "  'One-Shot': array([2, 2, 2, 2, 2]),\n",
              "  'Number of Papers': 5,\n",
              "  'Zero-Shot_mean': 2.0,\n",
              "  'One-Shot_mean': 2.0,\n",
              "  'Zero-Shot_sem': 0.0,\n",
              "  'One-Shot_sem': 0.0}}"
            ]
          },
          "execution_count": 16,
          "metadata": {},
          "output_type": "execute_result"
        }
      ],
      "source": [
        "pl_performance"
      ]
    },
    {
      "cell_type": "code",
      "execution_count": 14,
      "metadata": {
        "colab": {
          "base_uri": "https://localhost:8080/"
        },
        "id": "zDcgHvbhGxVP",
        "outputId": "7eef97cf-8a8d-4c62-c8b9-f1735981846b"
      },
      "outputs": [
        {
          "data": {
            "text/plain": [
              "{0: 21, 1: 3, 2: 16}"
            ]
          },
          "execution_count": 14,
          "metadata": {},
          "output_type": "execute_result"
        }
      ],
      "source": [
        "zs_freq"
      ]
    },
    {
      "cell_type": "code",
      "execution_count": 15,
      "metadata": {
        "colab": {
          "base_uri": "https://localhost:8080/"
        },
        "id": "lmWbDhMcG1me",
        "outputId": "07b62681-10fa-4ef9-de35-9840def73472"
      },
      "outputs": [
        {
          "data": {
            "text/plain": [
              "{0: 6, 1: 4, 2: 30}"
            ]
          },
          "execution_count": 15,
          "metadata": {},
          "output_type": "execute_result"
        }
      ],
      "source": [
        "os_freq"
      ]
    },
    {
      "cell_type": "code",
      "execution_count": 16,
      "metadata": {
        "colab": {
          "base_uri": "https://localhost:8080/"
        },
        "id": "aq2nFqdKIwCV",
        "outputId": "50c0b8f0-e526-4f35-8378-7679a7f3167c"
      },
      "outputs": [
        {
          "data": {
            "text/plain": [
              "(40, 40)"
            ]
          },
          "execution_count": 16,
          "metadata": {},
          "output_type": "execute_result"
        }
      ],
      "source": [
        "np.array(list(zs_freq.values())).sum(), np.array(list(os_freq.values())).sum()"
      ]
    },
    {
      "cell_type": "code",
      "execution_count": null,
      "metadata": {
        "colab": {
          "base_uri": "https://localhost:8080/"
        },
        "id": "kIwbhyIm32ca",
        "outputId": "f681e210-42c7-45af-a207-cd862843fb5f"
      },
      "outputs": [],
      "source": [
        "pl_performance"
      ]
    },
    {
      "cell_type": "code",
      "execution_count": 7,
      "metadata": {},
      "outputs": [],
      "source": [
        "def placeholder():\n",
        "    with open('Placeholder_name.yaml','r') as f:\n",
        "        placeholder = yaml.safe_load(f)\n",
        "    return placeholder"
      ]
    },
    {
      "cell_type": "code",
      "execution_count": 9,
      "metadata": {},
      "outputs": [
        {
          "data": {
            "text/plain": [
              "dict_keys(['Note that interaction have no position dependence now', 'definition_of_Fourier_Transformation', 'momentum_creation_op', 'momentum_var', 'real_creation_op', 'real_variable', 'second_int_symbol', 'single-particle|second-quantized'])"
            ]
          },
          "execution_count": 9,
          "metadata": {},
          "output_type": "execute_result"
        }
      ],
      "source": [
        "pl_performance.keys()"
      ]
    },
    {
      "cell_type": "code",
      "execution_count": 13,
      "metadata": {},
      "outputs": [],
      "source": [
        "new_order=['second_int_symbol','single-particle|second-quantized','real_creation_op','momentum_creation_op','definition_of_Fourier_Transformation','real_variable','momentum_var','Note that interaction have no position dependence now']"
      ]
    },
    {
      "cell_type": "code",
      "execution_count": 17,
      "metadata": {},
      "outputs": [],
      "source": [
        "pl_performance_sorted={key:pl_performance[key] for key in new_order}"
      ]
    },
    {
      "cell_type": "code",
      "execution_count": 9,
      "metadata": {},
      "outputs": [],
      "source": [
        "import textwrap"
      ]
    },
    {
      "cell_type": "code",
      "execution_count": 10,
      "metadata": {},
      "outputs": [],
      "source": [
        "import matplotlib.pyplot as plt"
      ]
    },
    {
      "cell_type": "code",
      "execution_count": 11,
      "metadata": {},
      "outputs": [],
      "source": [
        "plt.rcParams['font.family']='Roboto'\n",
        "plt.rcParams['font.size']=9"
      ]
    },
    {
      "cell_type": "code",
      "execution_count": 39,
      "metadata": {},
      "outputs": [],
      "source": [
        "def darken_hex_color(hex_color, factor):\n",
        "    \"\"\"\n",
        "    Darkens a hex color string by a given factor.\n",
        "\n",
        "    Parameters:\n",
        "    - hex_color: A string representing the color in hex format, e.g., \"#123456\".\n",
        "    - factor: A float between 0 and 1, where 0 means no change and 1 means complete darkening.\n",
        "\n",
        "    Returns:\n",
        "    - A hex color string representing the darkened color.\n",
        "    \"\"\"\n",
        "    # Ensure the factor is within the valid range\n",
        "    factor = max(0, min(1, factor))\n",
        "    \n",
        "    # Convert hex to RGB\n",
        "    rgb = tuple(int(hex_color[i:i+2], 16) for i in (1, 3, 5))\n",
        "    \n",
        "    # Apply darkening\n",
        "    darkened_rgb = tuple(max(0, min(int(value * (1 - factor)), 255)) for value in rgb)\n",
        "    \n",
        "    # Convert RGB back to hex\n",
        "    darkened_hex_color = f\"#{darkened_rgb[0]:02x}{darkened_rgb[1]:02x}{darkened_rgb[2]:02x}\"\n",
        "    \n",
        "    return darkened_hex_color"
      ]
    },
    {
      "cell_type": "code",
      "execution_count": 75,
      "metadata": {
        "colab": {
          "base_uri": "https://localhost:8080/",
          "height": 513
        },
        "id": "GGTASOVmJBA0",
        "outputId": "cd1cdc25-f6a5-4018-a260-1c67e4e54ffa"
      },
      "outputs": [
        {
          "data": {
            "image/png": "[encoded data removed]",
            "text/plain": [
              "<Figure size 400x400 with 1 Axes>"
            ]
          },
          "metadata": {},
          "output_type": "display_data"
        }
      ],
      "source": [
        "import matplotlib.pyplot as plt\n",
        "# import scienceplots\n",
        "# plt.style.use(['science', 'nature', 'no-latex', 'notebook'])\n",
        "width = 0.35\n",
        "ex_symbol_color='#b0c9ce'\n",
        "im_symbol_color='#a8e2de'\n",
        "reading_color='#d9b0b1'\n",
        "color_list=[ex_symbol_color,im_symbol_color,im_symbol_color,im_symbol_color,im_symbol_color,ex_symbol_color,ex_symbol_color,reading_color]\n",
        "fig, ax = plt.subplots(figsize=(4,4))\n",
        "ax.barh(np.arange(8), [e['Zero-Shot_mean'] for e in pl_performance_sorted.values()], xerr=[e['Zero-Shot_sem'] for e in pl_performance_sorted.values()], height=width, label = 'Zero-Shot',capsize=2,edgecolor='k',color=color_list)\n",
        "ax.barh(np.arange(8)+width, [e['One-Shot_mean'] for e in pl_performance_sorted.values()], xerr=[e['One-Shot_sem'] for e in pl_performance_sorted.values()], height=width, label = 'One-Shot',capsize=2,edgecolor='k',color=[darken_hex_color(c,0.3) for c in color_list],)\n",
        "ax.set_yticks(np.arange(8)+width/2, pl_performance_sorted.keys())\n",
        "# ax.legend()\n",
        "ax.invert_yaxis()\n",
        "# ax.set_yticklabels([placeholder()[ph] if ph in placeholder() else ph for ph in pl_performance_sorted.keys()])\n",
        "ax.set_yticklabels(['\\n'.join(textwrap.wrap(placeholder()[ph] if ph in placeholder() else ph, width=20)) for ph in pl_performance_sorted.keys()],fontsize=7)\n",
        "# plt.savefig(os.path.join(ONESHOT_DIR, 'placeholderwise_performance.png'))\n",
        "ax.set_xlabel('Score')\n",
        "ax.grid(axis='x',ls='--')\n",
        "\n",
        "ax.set_xticks(ticks=np.arange(0,2.1,0.5),labels=['0','25','50','75','100'])\n",
        "\n",
        "\n",
        "colors = [ex_symbol_color, im_symbol_color, reading_color]\n",
        "colors_dark = [darken_hex_color(c, 0.3) for c in colors]\n",
        "# Create a custom patch as a proxy artist for the legend\n",
        "multi_color_patch = mpatches.Rectangle((0,0), 1, 1, facecolor='none', edgecolor='none', visible=False)\n",
        "multi_color_patch.colors = colors\n",
        "\n",
        "multi_color_patch_dark = mpatches.Rectangle((0,0), 1, 1, facecolor='none', edgecolor='none', visible=False)\n",
        "multi_color_patch_dark.colors = colors_dark\n",
        "\n",
        "\n",
        "\n",
        "# Create a legend with the custom handler\n",
        "ax.legend([multi_color_patch,multi_color_patch_dark], ['Zero-shot','One-shot'], handler_map={multi_color_patch: MultiColorPatchHandler(),multi_color_patch_dark: MultiColorPatchHandler()}, handlelength=3, handleheight=0.7, frameon=False, loc='upper center', bbox_to_anchor=(.5,1.1), ncol=2)\n",
        "\n",
        "\n",
        "\n",
        "fig.savefig('4i.svg',bbox_inches='tight')"
      ]
    },
    {
      "cell_type": "code",
      "execution_count": 62,
      "metadata": {},
      "outputs": [
        {
          "data": {
            "image/png": "[encoded data removed]",
            "text/plain": [
              "<Figure size 640x480 with 1 Axes>"
            ]
          },
          "metadata": {},
          "output_type": "display_data"
        }
      ],
      "source": [
        "import matplotlib.pyplot as plt\n",
        "import matplotlib.patches as mpatches\n",
        "from matplotlib.legend_handler import HandlerBase\n",
        "\n",
        "class MultiColorPatchHandler(HandlerBase):\n",
        "    def create_artists(self, legend, orig_handle, x0, y0, width, height, fontsize, trans):\n",
        "        # Adjust width for spacing\n",
        "        spacing = width * 0.05  # Spacing between colors\n",
        "        width_per_color = (width - 2 * spacing) / 3\n",
        "        patches = []\n",
        "        for i, color in enumerate(orig_handle.colors):\n",
        "            # Adjust x position for each patch to add spacing\n",
        "            x = x0 + i * (width_per_color + spacing)\n",
        "            patch = mpatches.Rectangle([x, y0], width_per_color, height, facecolor=color, edgecolor='black', transform=trans)\n",
        "            patches.append(patch)\n",
        "        return patches\n",
        "\n",
        "# # Example usage\n",
        "# fig, ax = plt.subplots()\n",
        "\n",
        "# # Plot some data (optional)\n",
        "# ax.plot(range(10), alpha=0)  # Plot empty data\n",
        "\n",
        "# # Define the colors for the legend\n",
        "# colors = [ex_symbol_color, im_symbol_color, reading_color]\n",
        "# colors_dark = [darken_hex_color(c, 0.1) for c in colors]\n",
        "# # Create a custom patch as a proxy artist for the legend\n",
        "# multi_color_patch = mpatches.Rectangle((0,0), 1, 1, facecolor='none', edgecolor='none', visible=False)\n",
        "# multi_color_patch.colors = colors\n",
        "\n",
        "# multi_color_patch_dark = mpatches.Rectangle((0,0), 1, 1, facecolor='none', edgecolor='none', visible=False)\n",
        "# multi_color_patch_dark.colors = colors_dark\n",
        "\n",
        "\n",
        "\n",
        "# # Create a legend with the custom handler\n",
        "# plt.legend([multi_color_patch,multi_color_patch_dark], ['T1','T2'], handler_map={multi_color_patch: MultiColorPatchHandler(),multi_color_patch_dark: MultiColorPatchHandler()}, handlelength=3, handleheight=0.7, frameon=False)\n",
        "\n",
        "# plt.show()\n"
      ]
    },
    {
      "cell_type": "code",
      "execution_count": 56,
      "metadata": {},
      "outputs": [
        {
          "data": {
            "text/plain": [
              "['#b0c9ce', '#a8e2de', '#d9b0b1']"
            ]
          },
          "execution_count": 56,
          "metadata": {},
          "output_type": "execute_result"
        }
      ],
      "source": [
        "colors"
      ]
    },
    {
      "cell_type": "code",
      "execution_count": 57,
      "metadata": {},
      "outputs": [
        {
          "data": {
            "text/plain": [
              "['#111414', '#101616', '#151111']"
            ]
          },
          "execution_count": 57,
          "metadata": {},
          "output_type": "execute_result"
        }
      ],
      "source": [
        "colors_dark"
      ]
    },
    {
      "cell_type": "code",
      "execution_count": 45,
      "metadata": {
        "colab": {
          "base_uri": "https://localhost:8080/"
        },
        "id": "IJ8bjbvcHuzC",
        "outputId": "af150208-cf6f-4a32-969b-aca1553996ce"
      },
      "outputs": [
        {
          "name": "stdout",
          "output_type": "stream",
          "text": [
            "Zero Shot Aggregate\n",
            "0.875\n",
            "One Shot Aggregate\n",
            "1.6\n"
          ]
        }
      ],
      "source": [
        "print('Zero Shot Aggregate')\n",
        "print((zs_freq[0]*0 + zs_freq[1]*1 + zs_freq[2]*2)/40)\n",
        "print('One Shot Aggregate')\n",
        "print((os_freq[0]*0 + os_freq[1]*1 + os_freq[2]*2)/40)"
      ]
    },
    {
      "cell_type": "code",
      "execution_count": null,
      "metadata": {
        "colab": {
          "base_uri": "https://localhost:8080/"
        },
        "id": "zIJCeAjwH2li",
        "outputId": "a37a3e48-9587-4285-d516-afa189be0c16"
      },
      "outputs": [
        {
          "name": "stdout",
          "output_type": "stream",
          "text": [
            "[2 0 2 1 2] [2, 0, 2, 1, 2]\n",
            "[2 2 2 1 2] [2, 2, 2, 1, 2]\n"
          ]
        }
      ],
      "source": [
        "# testing\n",
        "import unittest\n",
        "phname = 'second_int_symbol'\n",
        "print(pl_performance[phname]['Zero-Shot'], [oneshot_scores[k]['placeholder'][phname]['score']['Zero-Shot (Haining)'] for k in oneshot_scores if k!='2110.11330.tex'])\n",
        "print(pl_performance[phname]['One-Shot'], [oneshot_scores[k]['placeholder'][phname]['score']['One-Shot (Haining)'] for k in oneshot_scores if k!='2110.11330.tex'])"
      ]
    },
    {
      "cell_type": "code",
      "execution_count": null,
      "metadata": {
        "colab": {
          "base_uri": "https://localhost:8080/"
        },
        "id": "vl7S-JiMIy5l",
        "outputId": "7e117705-33a6-487a-de15-8e4488f54a1c"
      },
      "outputs": [
        {
          "data": {
            "text/plain": [
              "(1.4, 1.8)"
            ]
          },
          "execution_count": 44,
          "metadata": {},
          "output_type": "execute_result"
        }
      ],
      "source": [
        "pl_performance[phname]['Zero-Shot_mean'], pl_performance[phname]['One-Shot_mean']"
      ]
    }
  ],
  "metadata": {
    "colab": {
      "provenance": []
    },
    "kernelspec": {
      "display_name": "Python 3",
      "name": "python3"
    },
    "language_info": {
      "codemirror_mode": {
        "name": "ipython",
        "version": 3
      },
      "file_extension": ".py",
      "mimetype": "text/x-python",
      "name": "python",
      "nbconvert_exporter": "python",
      "pygments_lexer": "ipython3",
      "version": "3.11.4"
    }
  },
  "nbformat": 4,
  "nbformat_minor": 0
}
