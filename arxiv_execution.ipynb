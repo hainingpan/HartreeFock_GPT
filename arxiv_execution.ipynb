{
 "cells": [
  {
   "cell_type": "code",
   "execution_count": 3,
   "metadata": {},
   "outputs": [],
   "source": [
    "from IPython.display import Markdown\n",
    "\n",
    "import sys\n",
    "sys.path.append('..')\n",
    "from utils import *"
   ]
  },
  {
   "cell_type": "code",
   "execution_count": 4,
   "metadata": {},
   "outputs": [
    {
     "ename": "FileNotFoundError",
     "evalue": "[Errno 2] No such file or directory: '../prompt_template.md'",
     "output_type": "error",
     "traceback": [
      "\u001b[0;31m---------------------------------------------------------------------------\u001b[0m",
      "\u001b[0;31mFileNotFoundError\u001b[0m                         Traceback (most recent call last)",
      "Cell \u001b[0;32mIn[4], line 3\u001b[0m\n\u001b[1;32m      1\u001b[0m prompt_template\u001b[38;5;241m=\u001b[39m\u001b[38;5;124m'\u001b[39m\u001b[38;5;124m../prompt_template.md\u001b[39m\u001b[38;5;124m'\u001b[39m\n\u001b[1;32m      2\u001b[0m arxiv_number\u001b[38;5;241m=\u001b[39m\u001b[38;5;124m'\u001b[39m\u001b[38;5;124m2111.01152\u001b[39m\u001b[38;5;124m'\u001b[39m\n\u001b[0;32m----> 3\u001b[0m prompt_dict\u001b[38;5;241m=\u001b[39mload_prompt_template(prompt_template)\n\u001b[1;32m      4\u001b[0m \u001b[38;5;28;01mwith\u001b[39;00m \u001b[38;5;28mopen\u001b[39m(\u001b[38;5;124mf\u001b[39m\u001b[38;5;124m'\u001b[39m\u001b[38;5;132;01m{\u001b[39;00marxiv_number\u001b[38;5;132;01m}\u001b[39;00m\u001b[38;5;124m.yaml\u001b[39m\u001b[38;5;124m'\u001b[39m,\u001b[38;5;124m'\u001b[39m\u001b[38;5;124mr\u001b[39m\u001b[38;5;124m'\u001b[39m) \u001b[38;5;28;01mas\u001b[39;00m f:\n\u001b[1;32m      5\u001b[0m     kwargs\u001b[38;5;241m=\u001b[39m yaml\u001b[38;5;241m.\u001b[39msafe_load(f)\n",
      "File \u001b[0;32m/mnt/d/Cornell/HartreeFock_GPT/utils.py:20\u001b[0m, in \u001b[0;36mload_prompt_template\u001b[0;34m(file)\u001b[0m\n\u001b[1;32m     17\u001b[0m prompt_dict \u001b[38;5;241m=\u001b[39m {}\n\u001b[1;32m     18\u001b[0m current_task \u001b[38;5;241m=\u001b[39m \u001b[38;5;28;01mNone\u001b[39;00m  \u001b[38;5;66;03m# Track the current task, initialized to None\u001b[39;00m\n\u001b[0;32m---> 20\u001b[0m \u001b[38;5;28;01mwith\u001b[39;00m \u001b[38;5;28mopen\u001b[39m(file, \u001b[38;5;124m'\u001b[39m\u001b[38;5;124mr\u001b[39m\u001b[38;5;124m'\u001b[39m) \u001b[38;5;28;01mas\u001b[39;00m f:\n\u001b[1;32m     21\u001b[0m     \u001b[38;5;28;01mfor\u001b[39;00m line \u001b[38;5;129;01min\u001b[39;00m f:\n\u001b[1;32m     22\u001b[0m         stripped_line \u001b[38;5;241m=\u001b[39m line\u001b[38;5;241m.\u001b[39mstrip()\n",
      "\u001b[0;31mFileNotFoundError\u001b[0m: [Errno 2] No such file or directory: '../prompt_template.md'"
     ]
    }
   ],
   "source": [
    "prompt_template='../prompt_template.md'\n",
    "arxiv_number='2111.01152'\n",
    "prompt_dict=load_prompt_template(prompt_template)\n",
    "with open(f'{arxiv_number}.yaml','r') as f:\n",
    "    kwargs= yaml.safe_load(f)"
   ]
  },
  {
   "cell_type": "code",
   "execution_count": null,
   "metadata": {},
   "outputs": [],
   "source": [
    "prompt=generate_prompt(kwargs[1],prompt_dict)"
   ]
  },
  {
   "cell_type": "code",
   "execution_count": 10,
   "metadata": {},
   "outputs": [
    {
     "data": {
      "text/markdown": [
       "You will be instructed to describe the kinetic term of Hamiltonian in a system with two layers in the real space in the single-particle form.   \n",
       "The degrees of freedom of the system are: valley index (+K and -K valley), layer index (top and bottom layer)..  \n",
       "Express the Kinetic Hamiltonian H_{\\tau} using variables which are only on the diagonal terms, and arrange the basis in the order of (+K,bottom), (+K,top), (-K,bottom), (-K,top). \n",
       "\n",
       "Use the following conventions for the symbols:  \n",
       "$\\tau=\\pm 1$ represents $\\pm K$ valleys, $\\bm{\\kappa}=\\frac{4\\pi}{3a_M}\\left(1,0\\right)$ is at a corner of the moiré Brillouin zone. The $2\\times 2$ Hamiltonian hybridizes the bottom layer ($\\mathfrak{b}$) and top layer ($\\mathfrak{t}$), where the off diagonal terms describe the interlayer tunneling $\\Delta_{\\text{T},\\tau}$, and the diagonal terms describe the momentum-shifted kinetic energy with the effective mass $(m_{\\mathfrak{b}},m_{\\mathfrak{t}})=(0.65,0.35)m_e$ ($m_e$ is the rest electron mass), plus the intralayer potential $\\Delta_{\\mathfrak{b}/\\mathfrak{t}}$, and a band offset $V_{z\\mathfrak{t}}$."
      ],
      "text/plain": [
       "<IPython.core.display.Markdown object>"
      ]
     },
     "execution_count": 10,
     "metadata": {},
     "output_type": "execute_result"
    }
   ],
   "source": [
    "Markdown(prompt['content'])"
   ]
  },
  {
   "cell_type": "code",
   "execution_count": 11,
   "metadata": {},
   "outputs": [
    {
     "name": "stdout",
     "output_type": "stream",
     "text": [
      "You will be instructed to describe the kinetic term of Hamiltonian in a system with two layers in the real space in the single-particle form.   \n",
      "The degrees of freedom of the system are: valley index (+K and -K valley), layer index (top and bottom layer)..  \n",
      "Express the Kinetic Hamiltonian H_{\\tau} using variables which are only on the diagonal terms, and arrange the basis in the order of (+K,bottom), (+K,top), (-K,bottom), (-K,top). \n",
      "\n",
      "Use the following conventions for the symbols:  \n",
      "$\\tau=\\pm 1$ represents $\\pm K$ valleys, $\\bm{\\kappa}=\\frac{4\\pi}{3a_M}\\left(1,0\\right)$ is at a corner of the moiré Brillouin zone. The $2\\times 2$ Hamiltonian hybridizes the bottom layer ($\\mathfrak{b}$) and top layer ($\\mathfrak{t}$), where the off diagonal terms describe the interlayer tunneling $\\Delta_{\\text{T},\\tau}$, and the diagonal terms describe the momentum-shifted kinetic energy with the effective mass $(m_{\\mathfrak{b}},m_{\\mathfrak{t}})=(0.65,0.35)m_e$ ($m_e$ is the rest electron mass), plus the intralayer potential $\\Delta_{\\mathfrak{b}/\\mathfrak{t}}$, and a band offset $V_{z\\mathfrak{t}}$.\n"
     ]
    }
   ],
   "source": [
    "print(prompt['content'])"
   ]
  },
  {
   "cell_type": "code",
   "execution_count": null,
   "metadata": {},
   "outputs": [],
   "source": []
  }
 ],
 "metadata": {
  "kernelspec": {
   "display_name": "base",
   "language": "python",
   "name": "python3"
  },
  "language_info": {
   "codemirror_mode": {
    "name": "ipython",
    "version": 3
   },
   "file_extension": ".py",
   "mimetype": "text/x-python",
   "name": "python",
   "nbconvert_exporter": "python",
   "pygments_lexer": "ipython3",
   "version": "3.11.4"
  }
 },
 "nbformat": 4,
 "nbformat_minor": 2
}
