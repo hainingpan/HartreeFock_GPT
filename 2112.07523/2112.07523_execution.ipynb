{
 "cells": [
  {
   "cell_type": "code",
   "execution_count": 1,
   "metadata": {},
   "outputs": [],
   "source": [
    "from IPython.display import Markdown\n",
    "\n",
    "import sys\n",
    "sys.path.append('..')\n",
    "from utils import *"
   ]
  },
  {
   "cell_type": "code",
   "execution_count": 119,
   "metadata": {},
   "outputs": [],
   "source": [
    "prompt_template='../prompt_template.md'\n",
    "arxiv_number='2112.07523'\n",
    "prompt_dict=load_prompt_template(prompt_template)\n",
    "with open(f'{arxiv_number}.yaml','r') as f:\n",
    "    kwargs= yaml.safe_load(f)"
   ]
  },
  {
   "cell_type": "code",
   "execution_count": 120,
   "metadata": {},
   "outputs": [
    {
     "ename": "ValueError",
     "evalue": "Omitting Task Combine the Hartree and Fock term/symbol No correct answer",
     "output_type": "error",
     "traceback": [
      "\u001b[0;31m---------------------------------------------------------------------------\u001b[0m",
      "\u001b[0;31mValueError\u001b[0m                                Traceback (most recent call last)",
      "\u001b[1;32m/mnt/d/Cornell/HartreeFock_GPT/2112.07523/2112.07523_execution.ipynb Cell 3\u001b[0m line \u001b[0;36m1\n\u001b[0;32m----> <a href='vscode-notebook-cell://wsl%2Bubuntu-22.04/mnt/d/Cornell/HartreeFock_GPT/2112.07523/2112.07523_execution.ipynb#W2sdnNjb2RlLXJlbW90ZQ%3D%3D?line=0'>1</a>\u001b[0m prompt\u001b[39m=\u001b[39mgenerate_prompt(kwargs[\u001b[39m10\u001b[39m],prompt_dict)\n",
      "File \u001b[0;32m/mnt/d/Cornell/HartreeFock_GPT/2112.07523/../utils.py:42\u001b[0m, in \u001b[0;36mgenerate_prompt\u001b[0;34m(kwargs, prompt_dict)\u001b[0m\n\u001b[1;32m     40\u001b[0m \u001b[39mdef\u001b[39;00m \u001b[39mgenerate_prompt\u001b[39m(kwargs, prompt_dict):\n\u001b[1;32m     41\u001b[0m     \u001b[39mif\u001b[39;00m \u001b[39m'\u001b[39m\u001b[39mtask\u001b[39m\u001b[39m'\u001b[39m \u001b[39min\u001b[39;00m kwargs:\n\u001b[0;32m---> 42\u001b[0m         correct_phdict\u001b[39m=\u001b[39mreturn_correct_prompt_template_for_task(kwargs)\n\u001b[1;32m     43\u001b[0m         content\u001b[39m=\u001b[39mprompt_dict[kwargs[\u001b[39m'\u001b[39m\u001b[39mtask\u001b[39m\u001b[39m'\u001b[39m]]\u001b[39m.\u001b[39mformat(\u001b[39m*\u001b[39m\u001b[39m*\u001b[39mcorrect_phdict)\u001b[39m.\u001b[39mstrip()\n\u001b[1;32m     44\u001b[0m         \u001b[39mfor\u001b[39;00m key,val \u001b[39min\u001b[39;00m correct_phdict\u001b[39m.\u001b[39mitems():\n",
      "File \u001b[0;32m/mnt/d/Cornell/HartreeFock_GPT/2112.07523/../utils.py:67\u001b[0m, in \u001b[0;36mreturn_correct_prompt_template_for_task\u001b[0;34m(task)\u001b[0m\n\u001b[1;32m     65\u001b[0m       correct_phdict\u001b[39m.\u001b[39mupdate({ph: task[\u001b[39m'\u001b[39m\u001b[39mplaceholder\u001b[39m\u001b[39m'\u001b[39m][ph][\u001b[39m'\u001b[39m\u001b[39mLLM\u001b[39m\u001b[39m'\u001b[39m]})\n\u001b[1;32m     66\u001b[0m     \u001b[39melse\u001b[39;00m:\n\u001b[0;32m---> 67\u001b[0m       \u001b[39mraise\u001b[39;00m \u001b[39mValueError\u001b[39;00m(\u001b[39mf\u001b[39m\u001b[39m'\u001b[39m\u001b[39mOmitting Task \u001b[39m\u001b[39m{\u001b[39;00mtask[\u001b[39m\"\u001b[39m\u001b[39mtask\u001b[39m\u001b[39m\"\u001b[39m]\u001b[39m}\u001b[39;00m\u001b[39m/\u001b[39m\u001b[39m{\u001b[39;00mph\u001b[39m}\u001b[39;00m\u001b[39m No correct answer\u001b[39m\u001b[39m'\u001b[39m)\n\u001b[1;32m     68\u001b[0m \u001b[39mreturn\u001b[39;00m correct_phdict\n",
      "\u001b[0;31mValueError\u001b[0m: Omitting Task Combine the Hartree and Fock term/symbol No correct answer"
     ]
    }
   ],
   "source": [
    "prompt=generate_prompt(kwargs[10],prompt_dict)"
   ]
  },
  {
   "cell_type": "code",
   "execution_count": 113,
   "metadata": {},
   "outputs": [
    {
     "data": {
      "text/markdown": [
       "You will be instructed to simplify the Fock term in $\\Sigma_F$ by reducing the momentum inside the expected value $\\rho_{bs\\,n''}^{b's'\\,n''+n'-n}(\\bm k')$.  \n",
       "The expected value $\\rho_{bs\\,n''}^{b's'\\,n''+n'-n}(\\bm k')$ is only nonzero when the two momenta $k_i,k_j$ are the same, namely, $\\rho_{b's'n'}^{bsn}(\\bm k) = \\langle a_{b's'n'\\bm k}^{\\dagger} a_{bsn\\bm k} \\rangle - \\delta_{bb'}\\delta_{bv}\\delta_{ss'}\\delta_{nn'}$.  \n",
       "You should use the property of Kronecker delta function $\\delta_{k_i,k_j}$ to reduce one momentum $k_i$ but not $b_i$.  \n",
       "Once you reduce one momentum inside the expected value $\\langle\\dots\\rangle$. You will also notice the total momentum conservation will reduce another momentum in the quadratic term. Therefore, you should end up with only two momenta left in the summation.\n",
       "You should follow the EXAMPLE below to reduce one momentum in the Fock term, and another momentum in the quadratic term.    \n",
       "You should recall that $\\Sigma_F$ is $H_{\\rm{MF}} =  -\\frac{1}{S}\\sum_{bb'ss'}\\sum_{\\bm{kk'q}} V_{bb'}(q)  \\langle a_{bs\\bm k+\\bm q}^{\\dagger} a_{b's'\\bm k'} \\rangle a_{b's'\\bm k'-\\bm q}^{\\dagger} a_{bs\\bm k}$..  \n",
       "Return the final simplified Fock term $\\Sigma_F$.\n",
       "\n",
       "===  \n",
       "EXAMPLE:  \n",
       "Given a Hamiltonian where the Fock term $\\hat{H}^{Fock}=-\\sum_{k_1,k_2, k_3, k_4,b_1,b_2,b_3,b_4} V(k_1-k_4+b_1-b_4) \\langle c_{b_1}^\\dagger(k_1) c_{b_3}(k_3) \\rangle c_{b_2}^\\dagger(k_2) c_{b_4}(k_4)  \\delta_{k_1+k_2+b_1+b_2,k_3+k_4+b_3+b_4}$, where $k_i$ is the momentum inside first Brilloun zone and $b_i$ is the reciprocal lattice.   \n",
       "Inside the expected value, we realize $\\langle c_{b_1}^\\dagger(k_1) c_{b_3}(k_3) \\rangle$ is nonzero only when $k_1=k_3$, i.e., $\\langle c_{b_1}^\\dagger(k_1) c_{b_3}(k_3) \\rangle=\\langle c_{b_1}^\\dagger(k_1) c_{b_3}(k_3) \\rangle\\delta_{k_1,k_3}$.    \n",
       "Thus, the Fock term becomes $-\\sum_{k_1,k_2, k_3, k_4,b_1,b_2,b_3,b_4} V(k_1-k_4+b_1-b_4) \\langle c_{b_1}^\\dagger(k_1) c_{b_3}(k_3) \\rangle \\delta_{k_1,k_3} c_{b_2}^\\dagger(k_2) c_{b_4}(k_4) \\delta_{k_1+k_2+b_1+b_2,k_3+k_4+b_3+b_4}$.  \n",
       "Use the property of Kronecker delta function $\\delta_{k_1,k_3}$ to sum over $k_3$, we have $-\\sum_{k_1,k_2, k_4,b_1,b_2,b_3,b_4} V(k_1-k_4+b_1-b_4) \\langle c_{b_1}^\\dagger(k_1) c_{b_3}(k_1) \\rangle c_{b_2}^\\dagger(k_2) c_{b_4}(k_4) \\delta_{k_1+k_2+b_1+b_2,k_1+k_4+b_3+b_4}=-\\sum_{k_1,k_2, k_4,b_1,b_2,b_3,b_4} V(k_1-k_4+b_1-b_4) \\langle c_{b_1}^\\dagger(k_1) c_{b_3}(k_1) \\rangle c_{b_2}^\\dagger(k_2) c_{b_4}(k_4) \\delta_{k_2+b_1+b_2,k_4+b_3+b_4}$.  \n",
       "Because $k_i$ is momentum inside first Brilloun zone while $b_i$ is the reciprocal lattice. It is only when $k_2=k_4$ that $\\delta_{k_2+b_1+b_2,k_4+b_3+b_4}$ is nonzero, i.e., $\\delta_{k_2+b_1+b_2,k_4+b_3+b_4}=\\delta_{b_1+b_2,b_3+b_4}\\delta_{k_2,k_4}$.  \n",
       "Therefore, the Fock term simplifies to $-\\sum_{k_1,k_2, k_4,b_1,b_2,b_3,b_4}  V(k_1-k_4+b_1-b_4) \\langle c_{b_1}^\\dagger(k_1) c_{b_3}(k_1) \\rangle c_{b_2}^\\dagger(k_2) c_{b_4}(k_4) \\delta_{b_1+b_2,b_3+b_4}\\delta_{k_2,k_4}=-\\sum_{k_1,k_2, b_1,b_2,b_3,b_4} V(k_1-k_2+b_1-b_4) \\langle c_{b_1}^\\dagger(k_1) c_{b_3}(k_1) \\rangle c_{b_2}^\\dagger(k_2) c_{b_4}(k_2) \\delta_{b_1+b_2,b_3+b_4}$.  \n",
       "Therefore, the final simplified Fock term after reducing two momenta is $\\hat{H}^{Fock}=-\\sum_{k_1, k_2,b_1,b_2,b_3,b_4}  V(k_1-k_2+b_1-b_4) \\langle c_{b_1}^\\dagger(k_1) c_{b_3}(k_1) \\rangle c_{b_2}^\\dagger(k_2) c_{b_4}(k_2) \\delta_{b_1+b_2,b_3+b_4}$"
      ],
      "text/plain": [
       "<IPython.core.display.Markdown object>"
      ]
     },
     "execution_count": 113,
     "metadata": {},
     "output_type": "execute_result"
    }
   ],
   "source": [
    "Markdown(prompt['content'])"
   ]
  },
  {
   "cell_type": "code",
   "execution_count": 98,
   "metadata": {},
   "outputs": [
    {
     "name": "stdout",
     "output_type": "stream",
     "text": [
      "You will be instructed to simplify the Hartree term in $\\Sigma_H$ by reducing the momentum inside the expected value $\\rho_{b's'\\,n''}^{b's'\\,n''+n'-n}(\\bm k')$.  \n",
      "The expected value $\\rho_{b's'\\,n''}^{b's'\\,n''+n'-n}(\\bm k')$ is only nonzero when the two momenta $k_i,k_j$ are the same, namely, $\\rho_{b's'n'}^{bsn}(\\bm k) = \\langle a_{b's'n'\\bm k}^{\\dagger} a_{bsn\\bm k} \\rangle - \\delta_{bb'}\\delta_{bv}\\delta_{ss'}\\delta_{nn'}$.  \n",
      "You should use the property of Kronecker delta function $\\delta_{k_i,k_j}$ to reduce one momentum $k_i$ but not $b_i$.\n",
      "Once you reduce one momentum inside the expected value $\\langle\\dots\\rangle$. You will also notice the total momentum conservation will reduce another momentum in the quadratic term. Therefore, you should end up with only two momenta left in the summation.  \n",
      "You should follow the EXAMPLE below to reduce one momentum in the Hartree term, and another momentum in the quadratic term.  \n",
      "You should recall that $\\Sigma_H$ is $$\n",
      "\\begin{split}\n",
      "\\Sigma_H = \\frac{1}{S}\\sum_{bb'\\atop ss'}\\sum_{nn'n''\\atop \\bm k\\bm k'} &V_{bb'}((n'-n)\\bm Q) \\\\\n",
      "\\times&\\rho_{b's'\\,n''}^{b's'\\,n''+n'-n}(\\bm k') \\; a_{bsn'\\bm k}^{\\dagger} a_{bsn\\bm k},\n",
      "\\end{split}\n",
      "$$\n",
      ".  \n",
      "Return the final simplified Hartree term $\\Sigma_H$.\n",
      "\n",
      "===  \n",
      "EXAMPLE:  \n",
      "Given a Hamiltonian where the Hartree term $\\hat{H}^{Hartree}=\\sum_{k_1,k_2, k_3, k_4,b_1,b_2,b_3,b_4} V(k_1-k_4+b_1-b_4) \\langle c_{b_1}^\\dagger(k_1) c_{b_4}(k_4) \\rangle c_{b_2}^\\dagger(k_2) c_{b_3}(k_3) \\delta_{k_1+k_2+b_1+b_2,k_3+k_4+b_3+b_4}$, where $k_i$ is the momentum inside first Brilloun zone and $b_i$ is the reciprocal lattice.   \n",
      "Inside the expected value, we realize $\\langle c_{b_1}^\\dagger(k_1) c_{b_4}(k_4) \\rangle$ is nonzero only when $k_1=k_4$, i.e., $\\langle c_{b_1}^\\dagger(k_1) c_{b_4}(k_4) \\rangle=\\langle c_{b_1}^\\dagger(k_1) c_{b_4}(k_4) \\rangle\\delta_{k_1,k_4}$.  \n",
      "Thus, the Hartree term becomes $\\sum_{k_1,k_2, k_3, k_4,b_1,b_2,b_3,b_4} V(k_1-k_4+b_1-b_4) \\langle c_{b_1}^\\dagger(k_1) c_{b_4}(k_4) \\rangle \\delta_{k_1,k_4} c_{b_2}^\\dagger(k_2) c_{b_3}(k_3) \\delta_{k_1+k_2+b_1+b_2,k_3+k_4+b_3+b_4}$.  \n",
      "Use the property of Kronecker delta function $\\delta_{k_1,k_4}$ to sum over $k_4$, we have $\\sum_{k_1, k_2, k_3,b_1,b_2,b_3,b_4} V(k_1-k_1+b_1-b_4) \\langle c_{b_1}^\\dagger(k_1) c_{b_4}(k_1) \\rangle c_{b_2}^\\dagger(k_2) c_{b_3}(k_3) \\delta_{k_1+k_2+b_1+b_2,k_3+k_1+b_3+b_4}=\\sum_{k_1, k_2, k_3,b_1,b_2,b_3,b_4} V(b_1-b_4) \\langle c_{b_1}^\\dagger(k_1) c_{b_4}(k_1) \\rangle c_{b_2}^\\dagger(k_2) c_{b_3}(k_3) \\delta_{k_2+b_1+b_2,k_3+b_3+b_4}$.  \n",
      "Because $k_i$ is momentum inside first Brilloun zone while $b_i$ is the reciprocal lattice. It is only when $k_2=k_3$ that $\\delta_{k_2+b_1+b_2,k_3+b_3+b_4}$ is nonzero, i.e., $\\delta_{k_2+b_1+b_2,k_3+b_3+b_4}=\\delta_{b_1+b_2,b_3+b_4}\\delta_{k_2,k_3}$. Therefore, the Hartree term simplifies to $\\sum_{k_1, k_2, k_3,b_1,b_2,b_3,b_4} V(b_1-b_4) \\langle c_{b_1}^\\dagger(k_1) c_{b_4}(k_1) \\rangle c_{b_2}^\\dagger(k_2) c_{b_3}(k_3) \\delta_{b_1+b_2,b_3+b_4}\\delta_{k_2,k_3}=\\sum_{k_1, k_2,b_1,b_2,b_3,b_4} V(b_1-b_4) \\langle c_{b_1}^\\dagger(k_1) c_{b_4}(k_1) \\rangle c_{b_2}^\\dagger(k_2) c_{b_3}(k_2) \\delta_{b_1+b_2,b_3+b_4}$.  \n",
      "Therefore, the final simplified Hartree term after reducing two momenta is $\\hat{H}^{Hartree}=\\sum_{k_1, k_2,b_1,b_2,b_3,b_4}  V(b_1-b_4) \\langle c_{b_1}^\\dagger(k_1) c_{b_4}(k_1) \\rangle c_{b_2}^\\dagger(k_2) c_{b_3}(k_2) \\delta_{b_1+b_2,b_3+b_4} \\delta_{b_1+b_2,b_3+b_4}$\n"
     ]
    }
   ],
   "source": [
    "print(prompt['content'])"
   ]
  },
  {
   "cell_type": "code",
   "execution_count": null,
   "metadata": {},
   "outputs": [],
   "source": []
  },
  {
   "cell_type": "code",
   "execution_count": null,
   "metadata": {},
   "outputs": [],
   "source": []
  }
 ],
 "metadata": {
  "kernelspec": {
   "display_name": "base",
   "language": "python",
   "name": "python3"
  },
  "language_info": {
   "codemirror_mode": {
    "name": "ipython",
    "version": 3
   },
   "file_extension": ".py",
   "mimetype": "text/x-python",
   "name": "python",
   "nbconvert_exporter": "python",
   "pygments_lexer": "ipython3",
   "version": "3.11.4"
  }
 },
 "nbformat": 4,
 "nbformat_minor": 2
}
