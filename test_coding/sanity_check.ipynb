{
 "cells": [
  {
   "cell_type": "code",
   "execution_count": 1,
   "metadata": {},
   "outputs": [],
   "source": [
    "import numpy as np"
   ]
  },
  {
   "cell_type": "code",
   "execution_count": 185,
   "metadata": {},
   "outputs": [],
   "source": [
    "import numpy as np\n",
    "\n",
    "class HubbardHartreeFock:\n",
    "    def __init__(self, t, U, N):\n",
    "        \"\"\"\n",
    "        Initializes the Hubbard model parameters for Hartree-Fock calculations.\n",
    "\n",
    "        Parameters:\n",
    "        - t (float): Hopping parameter.\n",
    "        - U (float): On-site interaction strength.\n",
    "        - N (int): Number of k-points in each direction of the 2D lattice.\n",
    "        \"\"\"\n",
    "        self.t = t  # Hopping parameter\n",
    "        self.U = U  # On-site interaction strength\n",
    "        self.N = N  # Number of k-points in each direction\n",
    "        self.k_space = self.generate_k_space()  # Generating the k-space\n",
    "        self.H0 = self.generate_noninteracting()\n",
    "        # Placeholder for H0 initialization\n",
    "        # Placeholder for exp_val initialization\n",
    "\n",
    "    def generate_k_space(self):\n",
    "        \"\"\"\n",
    "        Generates the mesh grid of k points in the first Brillouin zone.\n",
    "\n",
    "        Returns:\n",
    "        - numpy.ndarray: A 2D array with shape (N^2, 2), where the first column\n",
    "                         is the kx component and the second column is the ky component.\n",
    "        \"\"\"\n",
    "        k_values = np.linspace(-np.pi, np.pi, self.N, endpoint=False)\n",
    "        kx, ky = np.meshgrid(k_values, k_values)\n",
    "        k_space = np.vstack([kx.flatten(), ky.flatten()]).T\n",
    "        return k_space\n",
    "\n",
    "    def generate_noninteracting(self):\n",
    "        \"\"\"\n",
    "        Constructs the noninteracting term for the Hamiltonian.\n",
    "\n",
    "        Returns:\n",
    "        - numpy.ndarray: A 3D array with shape (2, 2, N^2), where the first two axes\n",
    "                         represent the spin components, and the third axis represents\n",
    "                         different k points.\n",
    "        \"\"\"\n",
    "        # Initializing the array\n",
    "        noninteracting_matrix = np.zeros((2, 2, self.N**2))\n",
    "\n",
    "        # Calculating epsilon_k for each k point\n",
    "        epsilon_k = -2 * self.t * (np.cos(self.k_space[:, 0]) + np.cos(self.k_space[:, 1]))\n",
    "\n",
    "        # Filling in the diagonal for both spin up and down\n",
    "        noninteracting_matrix[0, 0, :] = epsilon_k  # Spin up diagonal\n",
    "        noninteracting_matrix[1, 1, :] = epsilon_k  # Spin down diagonal\n",
    "\n",
    "        return noninteracting_matrix\n",
    "\n",
    "    def generate_H_int(self, exp_val):\n",
    "        \"\"\"\n",
    "        Constructs the interacting term after Hartree-Fock decomposition.\n",
    "\n",
    "        Parameters:\n",
    "        - exp_val (numpy.ndarray): Expected values with shape (2, N^2), where the first index\n",
    "                                   represents spin up and down, and the second index represents\n",
    "                                   different k points.\n",
    "\n",
    "        Returns:\n",
    "        - numpy.ndarray: A 3D array with shape (2, 2, N^2), representing the interacting term.\n",
    "        \"\"\"\n",
    "        # Initializing the interacting term matrix\n",
    "        H_int_matrix = np.zeros((2, 2, self.N**2), dtype=np.complex128)\n",
    "        \n",
    "        # Calculating the interacting term for both spin components\n",
    "        # Note: The sum over k' is accounted for by averaging the expectation values (exp_val)\n",
    "        avg_exp_val_up = np.mean(exp_val[0, :])  # Average for spin up\n",
    "        avg_exp_val_down = np.mean(exp_val[1, :])  # Average for spin down\n",
    "        \n",
    "        # Filling the diagonal terms according to the Hartree-Fock approximation\n",
    "        H_int_matrix[0, 0, :] = self.U * avg_exp_val_down  # For spin up electrons\n",
    "        H_int_matrix[1, 1, :] = self.U * avg_exp_val_up  # For spin down electrons\n",
    "\n",
    "        return H_int_matrix\n",
    "\n",
    "    def get_occupancy(self, en, nu):\n",
    "        \"\"\"\n",
    "        Calculates the occupancy of each state at each k point.\n",
    "\n",
    "        Parameters:\n",
    "        - en (numpy.ndarray): The energies with shape (2, N^2), where the first index is the level index\n",
    "                              (spin up and spin down), and the second index is for different k points.\n",
    "        - nu (float): The filling factor, determining the proportion of occupied states.\n",
    "\n",
    "        Returns:\n",
    "        - numpy.ndarray: The occupancy with shape (2, N^2), where the first index is the level index\n",
    "                         (spin up and spin down), and the second index is for different k points.\n",
    "        \"\"\"\n",
    "        # Flatten the energy array to find the universal Fermi level\n",
    "        flattened_en = en.flatten()\n",
    "\n",
    "        # Sort the flattened energy array to find the Fermi level based on filling factor\n",
    "        sorted_en = np.sort(flattened_en)\n",
    "        \n",
    "        # Determine the index for the Fermi level based on the filling factor\n",
    "        fermi_index = int(np.floor(nu * len(sorted_en)))\n",
    "        \n",
    "        # Fermi energy is the energy at the Fermi index\n",
    "        fermi_energy = sorted_en[fermi_index-1]\n",
    "\n",
    "        # Compute occupancy: 1 if energy <= Fermi level, 0 otherwise\n",
    "        occupancy = np.where(en <= fermi_energy, 1, 0)\n",
    "\n",
    "        return occupancy\n",
    "\n",
    "    def compute_exp_val(self, wf, occupancy):\n",
    "        \"\"\"\n",
    "        Computes the expected value <c_k,s^dagger c_k,s> using the wavefunction and occupancy.\n",
    "\n",
    "        Parameters:\n",
    "        - wf (numpy.ndarray): Wavefunction with shape (2, 2, N^2), where the first index is for spin (up/down),\n",
    "                              the second index is the level index, and the third index is for different k points.\n",
    "        - occupancy (numpy.ndarray): Occupancy of each state at each k point, with shape (2, N^2),\n",
    "                                     where the first index is the level index, and the second index is for different k points.\n",
    "\n",
    "        Returns:\n",
    "        - numpy.ndarray: The expected value with shape (2, N^2), where the first index is for spin (up/down),\n",
    "                         and the second index is for different k points.\n",
    "        \"\"\"\n",
    "        # Compute the expected value using tensor contraction with np.einsum\n",
    "        exp_val = np.einsum('slk,lk,slk->sk', wf, occupancy, np.conj(wf))\n",
    "        return exp_val\n",
    "\n",
    "\n",
    "\n",
    "    def generate_total(self, H_int):\n",
    "        \"\"\"\n",
    "        Computes the total Hamiltonian as the sum of the noninteracting and interacting terms.\n",
    "\n",
    "        Parameters:\n",
    "        - H_int (numpy.ndarray): The interacting term with shape (2, 2, N^2), where the first two indices\n",
    "                                 are for spin up and spin down, and the third axis is for different k points.\n",
    "\n",
    "        Returns:\n",
    "        - numpy.ndarray: The total Hamiltonian with the same shape (2, 2, N^2).\n",
    "        \"\"\"\n",
    "        # Summing the noninteracting term H0 and the interacting term H_int\n",
    "        H_total = self.H0 + H_int\n",
    "        return H_total\n",
    "\n",
    "    def diagonalize(self, H_total):\n",
    "        \"\"\"\n",
    "        Diagonalizes the total Hamiltonian for each k point, sorts the eigenvalues and eigenvectors.\n",
    "\n",
    "        Parameters:\n",
    "        - H_total (numpy.ndarray): The total Hamiltonian with shape (2, 2, N^2).\n",
    "\n",
    "        Returns:\n",
    "        - numpy.ndarray: Eigenvectors (wavefunctions) with shape (2, 2, N^2).\n",
    "        - numpy.ndarray: Eigenvalues (energies) with shape (2, N^2).\n",
    "        \"\"\"\n",
    "        N2 = self.N**2\n",
    "        wf = np.zeros((2, 2, N2), dtype=np.complex128)  # Wavefunctions (eigenvectors)\n",
    "        en = np.zeros((2, N2))  # Eigenvalues (energies)\n",
    "\n",
    "        # Ensure H_total is Hermitian by symmetrizing it\n",
    "        H_total_sym = (H_total + np.conjugate(np.swapaxes(H_total, 0, 1))) / 2\n",
    "\n",
    "        # Loop over each k point\n",
    "        for i in range(N2):\n",
    "            # Diagonalize the 2x2 Hamiltonian for this k point\n",
    "            vals, vecs = np.linalg.eigh(H_total_sym[:, :, i])\n",
    "\n",
    "            # Sort eigenvalues and eigenvectors\n",
    "            sort_index = np.argsort(vals)\n",
    "            vals_sorted = vals[sort_index]\n",
    "            vecs_sorted = vecs[:, sort_index]\n",
    "\n",
    "            # Store the sorted eigenvalues and eigenvectors\n",
    "            en[:, i] = vals_sorted\n",
    "            wf[:, :, i] = vecs_sorted\n",
    "\n",
    "        return wf, en\n",
    "\n",
    "    def get_energy(self, exp_val):\n",
    "        \"\"\"\n",
    "        Computes the wavefunction and eigenvalues from the expected value.\n",
    "\n",
    "        Parameters:\n",
    "        - exp_val (numpy.ndarray): Expected values with shape (2, N^2), for spin up and down, and different k points.\n",
    "\n",
    "        Returns:\n",
    "        - numpy.ndarray: Wavefunctions with shape (2, 2, N^2).\n",
    "        - numpy.ndarray: Eigenvalues with shape (2, N^2).\n",
    "        \"\"\"\n",
    "        # Step 1: Compute the interacting term H_int from exp_val\n",
    "        H_int = self.generate_H_int(exp_val)\n",
    "\n",
    "        # Step 2: Compute the total Hamiltonian H_total from H_int and H0\n",
    "        H_total = self.generate_total(H_int)\n",
    "\n",
    "        # Step 3: Diagonalize H_total to get wavefunctions and energies\n",
    "        wf, en = self.diagonalize(H_total)\n",
    "\n",
    "        return wf, en\n",
    "\n",
    "    def get_exp_val(self, wf, en, nu):\n",
    "        \"\"\"\n",
    "        Computes the expected values from the wavefunction, eigenenergies, and filling factor.\n",
    "\n",
    "        Parameters:\n",
    "        - wf (numpy.ndarray): Wavefunctions with shape (2, 2, N^2).\n",
    "        - en (numpy.ndarray): Eigenenergies with shape (2, N^2).\n",
    "        - nu (float): Filling factor.\n",
    "\n",
    "        Returns:\n",
    "        - numpy.ndarray: Expected values with shape (2, N^2).\n",
    "        \"\"\"\n",
    "        # Compute the occupancy based on energies and filling factor\n",
    "        occ = self.get_occupancy(en, nu)\n",
    "\n",
    "        # Compute the expected value from wavefunction and occupancy\n",
    "        exp_val = self.compute_exp_val(wf, occ)\n",
    "\n",
    "        return exp_val\n",
    "\n",
    "    def solve(self, exp_val_0, nu):\n",
    "        \"\"\"\n",
    "        Self-consistently solves the Hubbard model using Hartree-Fock approximation.\n",
    "\n",
    "        Parameters:\n",
    "        - exp_val_0 (numpy.ndarray): Initial ansatz for the expected value, shape (2, N^2).\n",
    "        - nu (float): Filling factor.\n",
    "\n",
    "        Returns:\n",
    "        - numpy.ndarray: Final wavefunction, shape (2, 2, N^2).\n",
    "        - numpy.ndarray: Final eigenvalues (energies), shape (2, N^2).\n",
    "        - numpy.ndarray: Final expected values, shape (2, N^2).\n",
    "        \"\"\"\n",
    "        # Initialize the expected value with the initial ansatz\n",
    "        exp_val = exp_val_0\n",
    "\n",
    "        for iteration in range(100):  # Loop for a fixed number of iterations\n",
    "            # Step 1: Get energy and wavefunction from the current expected value\n",
    "            wf, en = self.get_energy(exp_val)\n",
    "\n",
    "            # Step 2: Update the expected value from the new wavefunction, energies, and filling factor\n",
    "            new_exp_val = self.get_exp_val(wf, en, nu)\n",
    "\n",
    "            # Check for convergence (optional improvement could involve setting a tolerance)\n",
    "            if np.allclose(new_exp_val, exp_val, atol=1e-10):\n",
    "                print(f\"Convergence reached at iteration {iteration}\")\n",
    "                break\n",
    "\n",
    "            # Update the expected value for the next iteration\n",
    "            exp_val = new_exp_val\n",
    "\n",
    "        # Return the final wavefunction, energies, and expected values\n",
    "        return wf, en, exp_val\n",
    "\n"
   ]
  },
  {
   "cell_type": "markdown",
   "metadata": {},
   "source": [
    "# Check Kinetic"
   ]
  },
  {
   "cell_type": "markdown",
   "metadata": {},
   "source": [
    "## Point Group"
   ]
  },
  {
   "cell_type": "markdown",
   "metadata": {},
   "source": [
    "### Rotation"
   ]
  },
  {
   "cell_type": "code",
   "execution_count": 8,
   "metadata": {},
   "outputs": [],
   "source": [
    "from copy import copy"
   ]
  },
  {
   "cell_type": "code",
   "execution_count": 75,
   "metadata": {},
   "outputs": [],
   "source": [
    "rot_mat=lambda theta: np.array([[np.cos(theta),-np.sin(theta)],[np.sin(theta),np.cos(theta)]])"
   ]
  },
  {
   "cell_type": "code",
   "execution_count": 76,
   "metadata": {},
   "outputs": [],
   "source": [
    "def rotate_2D(k_space,theta):\n",
    "    \"\"\"k_space: k-mesh, np.ndarray(N,2)\n",
    "    theta: rotate angle (counterclockwise)\"\"\"\n",
    "    assert k_space.shape[-1]==2, f\"Only 2D lattice is supported, the current dimension of lattice is {k_space.shape[-1]}\"\n",
    "    \n",
    "    return k_space@rot_mat(theta).T"
   ]
  },
  {
   "cell_type": "code",
   "execution_count": 109,
   "metadata": {},
   "outputs": [],
   "source": [
    "def check_rotation(model,kind):\n",
    "    \"\"\"R_θ H(k) R_θ.T=H(R_θ(k))=H(k)\n",
    "    \"\"\"\n",
    "    theta={'C'+str(n):np.pi*2/n for n in [2,3,4,6]}\n",
    "    assert kind in theta, f'Symmetry should be among f{angle.keys()}'\n",
    "    ek=model.generate_noninteracting()\n",
    "    model_1=copy(model)\n",
    "    model_1.k_space=rotate_2D(hb_1.k_space,theta=theta[kind])\n",
    "    \n",
    "    ek_1=model_1.generate_noninteracting()\n",
    "    return np.allclose(ek,ek_1)"
   ]
  },
  {
   "cell_type": "code",
   "execution_count": 110,
   "metadata": {},
   "outputs": [],
   "source": [
    "hb=HubbardHartreeFock(t=1,U=0,N=100)"
   ]
  },
  {
   "cell_type": "code",
   "execution_count": 111,
   "metadata": {},
   "outputs": [
    {
     "data": {
      "text/plain": [
       "True"
      ]
     },
     "execution_count": 111,
     "metadata": {},
     "output_type": "execute_result"
    }
   ],
   "source": [
    "check_rotation(hb,kind='C2')"
   ]
  },
  {
   "cell_type": "code",
   "execution_count": 112,
   "metadata": {},
   "outputs": [
    {
     "data": {
      "text/plain": [
       "True"
      ]
     },
     "execution_count": 112,
     "metadata": {},
     "output_type": "execute_result"
    }
   ],
   "source": [
    "check_rotation(hb,kind='C4')"
   ]
  },
  {
   "cell_type": "code",
   "execution_count": 113,
   "metadata": {},
   "outputs": [
    {
     "data": {
      "text/plain": [
       "False"
      ]
     },
     "execution_count": 113,
     "metadata": {},
     "output_type": "execute_result"
    }
   ],
   "source": [
    "check_rotation(hb,kind='C3')"
   ]
  },
  {
   "cell_type": "markdown",
   "metadata": {},
   "source": [
    "### mirror"
   ]
  },
  {
   "cell_type": "code",
   "execution_count": 82,
   "metadata": {},
   "outputs": [],
   "source": [
    "def mirror_2D(k_space,theta):\n",
    "    \"\"\"k_space: k-mesh, np.ndarray(N,2)\n",
    "    theta: angle of mirror axis\n",
    "    mirror= R(-θ) @ M @ R(θ)\n",
    "    \"\"\"\n",
    "    assert k_space.shape[-1]==2, f\"Only 2D lattice is supported, the current dimension of lattice is {k_space.shape[-1]}\"\n",
    "    rot_mat(-theta)\n",
    "    inv_mat=np.diag([1,-1])\n",
    "    mirror=rot_mat(theta)@inv_mat@rot_mat(-theta)\n",
    "    return k_space@mirror.T"
   ]
  },
  {
   "cell_type": "code",
   "execution_count": 83,
   "metadata": {},
   "outputs": [
    {
     "data": {
      "text/plain": [
       "array([[2.22044605e-16, 1.00000000e+00]])"
      ]
     },
     "execution_count": 83,
     "metadata": {},
     "output_type": "execute_result"
    }
   ],
   "source": [
    "mirror_2D(np.array([[1,0]]),theta=np.pi/4)"
   ]
  },
  {
   "cell_type": "code",
   "execution_count": 87,
   "metadata": {},
   "outputs": [
    {
     "data": {
      "text/plain": [
       "(2, 2, 10000)"
      ]
     },
     "execution_count": 87,
     "metadata": {},
     "output_type": "execute_result"
    }
   ],
   "source": [
    "ek.shape"
   ]
  },
  {
   "cell_type": "code",
   "execution_count": 120,
   "metadata": {},
   "outputs": [],
   "source": [
    "def check_mirror(model,theta):\n",
    "    \"\"\"\n",
    "    y=tan(θ)x\n",
    "    M_θ= R(θ) M_y R(-θ)\n",
    "    M_θ H_{σ,σ'}(k) M_θ^(-1) = \\\\tilde{R}_θ H_{σ,σ'}(k) \\\\tilde{R}_θ^(-1), where \\\\tilde{R}_θ = R(θ) (-iσ_y) R(-θ)\n",
    "    \"\"\"\n",
    "    ek=model.generate_noninteracting()\n",
    "    model_1=copy(model)\n",
    "    model_1.k_space=mirror_2D(hb_1.k_space,theta=theta)\n",
    "    i_pauli_y=np.array([[0,1],[-1,0]])\n",
    "    R_theta=rot_mat(theta)@(-i_pauli_y)@rot_mat(-theta)\n",
    "    ek_1=np.einsum(R_theta,[0,1],model_1.generate_noninteracting(),[1,2,4],R_theta.T,[2,3],[0,3,4])\n",
    "    return np.allclose(ek,ek_1)"
   ]
  },
  {
   "cell_type": "code",
   "execution_count": 121,
   "metadata": {},
   "outputs": [
    {
     "data": {
      "text/plain": [
       "True"
      ]
     },
     "execution_count": 121,
     "metadata": {},
     "output_type": "execute_result"
    }
   ],
   "source": [
    "check_mirror(hb,theta=0)"
   ]
  },
  {
   "cell_type": "code",
   "execution_count": 122,
   "metadata": {},
   "outputs": [
    {
     "data": {
      "text/plain": [
       "True"
      ]
     },
     "execution_count": 122,
     "metadata": {},
     "output_type": "execute_result"
    }
   ],
   "source": [
    "check_mirror(hb,theta=np.pi/4)"
   ]
  },
  {
   "cell_type": "code",
   "execution_count": 123,
   "metadata": {},
   "outputs": [
    {
     "data": {
      "text/plain": [
       "True"
      ]
     },
     "execution_count": 123,
     "metadata": {},
     "output_type": "execute_result"
    }
   ],
   "source": [
    "check_mirror(hb,theta=np.pi/2)"
   ]
  },
  {
   "cell_type": "code",
   "execution_count": 124,
   "metadata": {},
   "outputs": [
    {
     "data": {
      "text/plain": [
       "True"
      ]
     },
     "execution_count": 124,
     "metadata": {},
     "output_type": "execute_result"
    }
   ],
   "source": [
    "check_mirror(hb,theta=np.pi/4*3)"
   ]
  },
  {
   "cell_type": "code",
   "execution_count": 125,
   "metadata": {},
   "outputs": [
    {
     "data": {
      "text/plain": [
       "False"
      ]
     },
     "execution_count": 125,
     "metadata": {},
     "output_type": "execute_result"
    }
   ],
   "source": [
    "check_mirror(hb,theta=np.pi/8)"
   ]
  },
  {
   "cell_type": "markdown",
   "metadata": {},
   "source": [
    "## Time-reversal symmetry"
   ]
  },
  {
   "cell_type": "code",
   "execution_count": 72,
   "metadata": {},
   "outputs": [
    {
     "data": {
      "text/plain": [
       "(2, 2, 10000)"
      ]
     },
     "execution_count": 72,
     "metadata": {},
     "output_type": "execute_result"
    }
   ],
   "source": [
    "ek.shape"
   ]
  },
  {
   "cell_type": "code",
   "execution_count": null,
   "metadata": {},
   "outputs": [],
   "source": [
    "def TRS_spinless(model):\n",
    "    \"\"\"T=K, T^=1\n",
    "    T H(k) T^{-1}=H(-k)^*\n",
    "    \"\"\"\n",
    "    ek=model.generate_noninteracting()\n",
    "    model_1=copy(model)\n",
    "    model_1.k_space=rotate_2D(hb_1.k_space,theta=np.pi) #k->-k\n",
    "    ek_1=model_1.generate_noninteracting()\n",
    "    return np.allclose(ek,ek_1)\n"
   ]
  },
  {
   "cell_type": "code",
   "execution_count": 134,
   "metadata": {},
   "outputs": [],
   "source": [
    "def check_TRS_spinful(model):\n",
    "    \"\"\"T=i\\sigma_y K, T^2=-1\n",
    "    T H_{σ,σ'}(k) T^(-1) = (iσ_y) * H_{σ,σ'}(-k).conj * (-iσ_y) = H_{σ,σ'}(k)\n",
    "    \"\"\"\n",
    "    ek=model.generate_noninteracting()\n",
    "    model_1=copy(model)\n",
    "    model_1.k_space=-hb_1.k_space #k->-k\n",
    "    i_pauli_y=np.array([[0,1],[-1,0]])\n",
    "    ek_1=np.einsum((i_pauli_y),[0,1],model_1.generate_noninteracting().conj(),[1,2,4],(-i_pauli_y),[2,3],[0,3,4])\n",
    "    return np.allclose(ek,ek_1)"
   ]
  },
  {
   "cell_type": "code",
   "execution_count": 135,
   "metadata": {},
   "outputs": [
    {
     "data": {
      "text/plain": [
       "True"
      ]
     },
     "execution_count": 135,
     "metadata": {},
     "output_type": "execute_result"
    }
   ],
   "source": [
    "check_TRS_spinful(hb,)"
   ]
  },
  {
   "cell_type": "markdown",
   "metadata": {},
   "source": [
    "## Chiral"
   ]
  },
  {
   "cell_type": "code",
   "execution_count": null,
   "metadata": {},
   "outputs": [],
   "source": [
    "# TBD\n",
    "\n",
    "# def check_Chiral_spinful(model):\n",
    "#     \"\"\"T=i\\sigma_y K, T^2=-1\n",
    "#     T H_{σ,σ'}(k) T^(-1) = (iσ_y) * H_{σ,σ'}(-k).conj * (-iσ_y) = H_{σ,σ'}(k)\n",
    "#     \"\"\"\n",
    "#     ek=model.generate_noninteracting()\n",
    "#     model_1=copy(model)\n",
    "#     model_1.k_space=-hb_1.k_space #k->-k\n",
    "#     i_pauli_y=np.array([[0,1],[-1,0]])\n",
    "#     ek_1=np.einsum((i_pauli_y),[0,1],model_1.generate_noninteracting().conj(),[1,2,4],(-i_pauli_y),[2,3],[0,3,4])\n",
    "#     return np.allclose(ek,ek_1)"
   ]
  },
  {
   "cell_type": "markdown",
   "metadata": {},
   "source": [
    "# Interaction"
   ]
  },
  {
   "cell_type": "code",
   "execution_count": 230,
   "metadata": {},
   "outputs": [],
   "source": [
    "def check_interaction_gap(model):\n",
    "    model_1=copy(model)\n",
    "    exp_val=np.random.random((hb.H0.shape[0],hb.H0.shape[-1],))*0.5\n",
    "    wf,en,exp_val=hb.solve(exp_val,0.5)\n",
    "    en_sort=np.sort(en.flatten())\n",
    "    gap=en_sort[en_sort.shape[0]//2]-en_sort[en_sort.shape[0]//2-1]\n",
    "    return np.allclose(gap,model_1.U)"
   ]
  },
  {
   "cell_type": "code",
   "execution_count": 231,
   "metadata": {},
   "outputs": [
    {
     "name": "stdout",
     "output_type": "stream",
     "text": [
      "Convergence reached at iteration 1\n"
     ]
    },
    {
     "data": {
      "text/plain": [
       "True"
      ]
     },
     "execution_count": 231,
     "metadata": {},
     "output_type": "execute_result"
    }
   ],
   "source": [
    "hb=HubbardHartreeFock(t=0,U=2,N=100)\n",
    "check_interaction_gap(hb)"
   ]
  }
 ],
 "metadata": {
  "kernelspec": {
   "display_name": "base",
   "language": "python",
   "name": "python3"
  },
  "language_info": {
   "codemirror_mode": {
    "name": "ipython",
    "version": 3
   },
   "file_extension": ".py",
   "mimetype": "text/x-python",
   "name": "python",
   "nbconvert_exporter": "python",
   "pygments_lexer": "ipython3",
   "version": "3.11.4"
  }
 },
 "nbformat": 4,
 "nbformat_minor": 2
}
