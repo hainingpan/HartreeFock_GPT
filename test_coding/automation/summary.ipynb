{
 "cells": [
  {
   "cell_type": "code",
   "execution_count": 1,
   "metadata": {},
   "outputs": [],
   "source": [
    "%load_ext autoreload\n",
    "%autoreload 2"
   ]
  },
  {
   "cell_type": "code",
   "execution_count": 2,
   "metadata": {},
   "outputs": [],
   "source": [
    "import utils_auto "
   ]
  },
  {
   "cell_type": "code",
   "execution_count": 3,
   "metadata": {},
   "outputs": [],
   "source": [
    "import pandas as pd"
   ]
  },
  {
   "cell_type": "code",
   "execution_count": 4,
   "metadata": {},
   "outputs": [],
   "source": [
    "import numpy as np"
   ]
  },
  {
   "cell_type": "code",
   "execution_count": 5,
   "metadata": {},
   "outputs": [],
   "source": [
    "df ={}"
   ]
  },
  {
   "cell_type": "code",
   "execution_count": 6,
   "metadata": {},
   "outputs": [],
   "source": [
    "paper_list = ['1106_6060','1508_00296','2004_04168','2008_08998','2110_11330']"
   ]
  },
  {
   "cell_type": "code",
   "execution_count": 7,
   "metadata": {},
   "outputs": [],
   "source": [
    "for paper in paper_list:\n",
    "    df[paper] = utils_auto.yaml_to_df(paper+'/final_answer.yaml')"
   ]
  },
  {
   "cell_type": "code",
   "execution_count": 35,
   "metadata": {},
   "outputs": [
    {
     "data": {
      "text/plain": [
       "dict_keys(['1106_6060', '1508_00296', '2004_04168', '2008_08998', '2110_11330'])"
      ]
     },
     "execution_count": 35,
     "metadata": {},
     "output_type": "execute_result"
    }
   ],
   "source": [
    "df.keys()"
   ]
  },
  {
   "cell_type": "code",
   "execution_count": 39,
   "metadata": {},
   "outputs": [
    {
     "data": {
      "text/html": [
       "<div>\n",
       "<style scoped>\n",
       "    .dataframe tbody tr th:only-of-type {\n",
       "        vertical-align: middle;\n",
       "    }\n",
       "\n",
       "    .dataframe tbody tr th {\n",
       "        vertical-align: top;\n",
       "    }\n",
       "\n",
       "    .dataframe thead th {\n",
       "        text-align: right;\n",
       "    }\n",
       "</style>\n",
       "<table border=\"1\" class=\"dataframe\">\n",
       "  <thead>\n",
       "    <tr style=\"text-align: right;\">\n",
       "      <th></th>\n",
       "      <th>answer1</th>\n",
       "      <th>answer2</th>\n",
       "      <th>answer3</th>\n",
       "      <th>answer4</th>\n",
       "      <th>paper</th>\n",
       "      <th>trial_idx</th>\n",
       "    </tr>\n",
       "  </thead>\n",
       "  <tbody>\n",
       "    <tr>\n",
       "      <th>1</th>\n",
       "      <td>correct</td>\n",
       "      <td>correct</td>\n",
       "      <td>correct</td>\n",
       "      <td>correct</td>\n",
       "      <td>2110.11330</td>\n",
       "      <td>1</td>\n",
       "    </tr>\n",
       "    <tr>\n",
       "      <th>2</th>\n",
       "      <td>correct</td>\n",
       "      <td>incorrect</td>\n",
       "      <td>incorrect</td>\n",
       "      <td>incorrect</td>\n",
       "      <td>2110.11330</td>\n",
       "      <td>2</td>\n",
       "    </tr>\n",
       "    <tr>\n",
       "      <th>3</th>\n",
       "      <td>correct</td>\n",
       "      <td>correct</td>\n",
       "      <td>correct</td>\n",
       "      <td>correct</td>\n",
       "      <td>2110.11330</td>\n",
       "      <td>3</td>\n",
       "    </tr>\n",
       "    <tr>\n",
       "      <th>4</th>\n",
       "      <td>correct</td>\n",
       "      <td>correct</td>\n",
       "      <td>correct</td>\n",
       "      <td>correct</td>\n",
       "      <td>2110.11330</td>\n",
       "      <td>4</td>\n",
       "    </tr>\n",
       "    <tr>\n",
       "      <th>5</th>\n",
       "      <td>correct</td>\n",
       "      <td>correct</td>\n",
       "      <td>correct</td>\n",
       "      <td>correct</td>\n",
       "      <td>2110.11330</td>\n",
       "      <td>5</td>\n",
       "    </tr>\n",
       "    <tr>\n",
       "      <th>6</th>\n",
       "      <td>correct</td>\n",
       "      <td>correct</td>\n",
       "      <td>correct</td>\n",
       "      <td>correct</td>\n",
       "      <td>2110.11330</td>\n",
       "      <td>6</td>\n",
       "    </tr>\n",
       "    <tr>\n",
       "      <th>7</th>\n",
       "      <td>correct</td>\n",
       "      <td>correct</td>\n",
       "      <td>correct</td>\n",
       "      <td>correct</td>\n",
       "      <td>2110.11330</td>\n",
       "      <td>7</td>\n",
       "    </tr>\n",
       "    <tr>\n",
       "      <th>8</th>\n",
       "      <td>correct</td>\n",
       "      <td>incorrect</td>\n",
       "      <td>incorrect</td>\n",
       "      <td>correct</td>\n",
       "      <td>2110.11330</td>\n",
       "      <td>8</td>\n",
       "    </tr>\n",
       "    <tr>\n",
       "      <th>9</th>\n",
       "      <td>correct</td>\n",
       "      <td>correct</td>\n",
       "      <td>correct</td>\n",
       "      <td>correct</td>\n",
       "      <td>2110.11330</td>\n",
       "      <td>9</td>\n",
       "    </tr>\n",
       "    <tr>\n",
       "      <th>10</th>\n",
       "      <td>correct</td>\n",
       "      <td>correct</td>\n",
       "      <td>correct</td>\n",
       "      <td>correct</td>\n",
       "      <td>2110.11330</td>\n",
       "      <td>10</td>\n",
       "    </tr>\n",
       "  </tbody>\n",
       "</table>\n",
       "</div>"
      ],
      "text/plain": [
       "    answer1    answer2    answer3    answer4       paper  trial_idx\n",
       "1   correct    correct    correct    correct  2110.11330          1\n",
       "2   correct  incorrect  incorrect  incorrect  2110.11330          2\n",
       "3   correct    correct    correct    correct  2110.11330          3\n",
       "4   correct    correct    correct    correct  2110.11330          4\n",
       "5   correct    correct    correct    correct  2110.11330          5\n",
       "6   correct    correct    correct    correct  2110.11330          6\n",
       "7   correct    correct    correct    correct  2110.11330          7\n",
       "8   correct  incorrect  incorrect    correct  2110.11330          8\n",
       "9   correct    correct    correct    correct  2110.11330          9\n",
       "10  correct    correct    correct    correct  2110.11330         10"
      ]
     },
     "execution_count": 39,
     "metadata": {},
     "output_type": "execute_result"
    }
   ],
   "source": [
    "df['2110_11330']"
   ]
  },
  {
   "cell_type": "markdown",
   "metadata": {},
   "source": [
    "# Eval accuracy: for paper"
   ]
  },
  {
   "cell_type": "code",
   "execution_count": 17,
   "metadata": {},
   "outputs": [],
   "source": [
    "total=40\n",
    "eval_paper={}\n",
    "for paper in paper_list:\n",
    "    eval_paper[paper]=df[paper][['answer1', 'answer2', 'answer3', 'answer4']].applymap(lambda x: False if 'F' in x else True).values.sum()/total"
   ]
  },
  {
   "cell_type": "code",
   "execution_count": 38,
   "metadata": {},
   "outputs": [],
   "source": [
    "eval_paper_df = pd.DataFrame.from_dict(eval_paper, orient='index', columns=['Value'])"
   ]
  },
  {
   "cell_type": "code",
   "execution_count": 46,
   "metadata": {},
   "outputs": [
    {
     "data": {
      "text/plain": [
       "Text(0, 0.5, 'Autoevaluation Accuracy')"
      ]
     },
     "execution_count": 46,
     "metadata": {},
     "output_type": "execute_result"
    },
    {
     "data": {
      "image/png": "[encoded data removed]",
      "text/plain": [
       "<Figure size 400x300 with 1 Axes>"
      ]
     },
     "metadata": {},
     "output_type": "display_data"
    }
   ],
   "source": [
    "import matplotlib.pyplot as plt\n",
    "fig, ax = plt.subplots(figsize=(4,3))\n",
    "ax = eval_paper_df.plot(kind='bar', legend=False,ax=ax)\n",
    "ax.tick_params(axis='x', pad=-80, color='w', labelcolor='w')\n",
    "ax.set_ylabel('Autoevaluation Accuracy')"
   ]
  },
  {
   "cell_type": "markdown",
   "metadata": {},
   "source": [
    "# Eval accuracy: for different task"
   ]
  },
  {
   "cell_type": "code",
   "execution_count": 57,
   "metadata": {},
   "outputs": [],
   "source": [
    "eval_task={}\n",
    "for paper in paper_list:\n",
    "    eval_task[paper]=df[paper][['answer1', 'answer2', 'answer3', 'answer4']].applymap(lambda x: False if 'F' in x else True).values.mean(axis=0)"
   ]
  },
  {
   "cell_type": "code",
   "execution_count": 58,
   "metadata": {},
   "outputs": [
    {
     "data": {
      "text/plain": [
       "{'1106_6060': array([1. , 1. , 0.1, 1. ]),\n",
       " '1508_00296': array([1. , 1. , 0.5, 1. ]),\n",
       " '2004_04168': array([1. , 1. , 0.9, 1. ]),\n",
       " '2008_08998': array([1. , 1. , 1. , 0.9]),\n",
       " '2110_11330': array([1., 1., 1., 1.])}"
      ]
     },
     "execution_count": 58,
     "metadata": {},
     "output_type": "execute_result"
    }
   ],
   "source": [
    "eval_task"
   ]
  },
  {
   "cell_type": "code",
   "execution_count": 61,
   "metadata": {},
   "outputs": [
    {
     "data": {
      "text/html": [
       "<div>\n",
       "<style scoped>\n",
       "    .dataframe tbody tr th:only-of-type {\n",
       "        vertical-align: middle;\n",
       "    }\n",
       "\n",
       "    .dataframe tbody tr th {\n",
       "        vertical-align: top;\n",
       "    }\n",
       "\n",
       "    .dataframe thead th {\n",
       "        text-align: right;\n",
       "    }\n",
       "</style>\n",
       "<table border=\"1\" class=\"dataframe\">\n",
       "  <thead>\n",
       "    <tr style=\"text-align: right;\">\n",
       "      <th></th>\n",
       "      <th>Mean Value</th>\n",
       "    </tr>\n",
       "  </thead>\n",
       "  <tbody>\n",
       "    <tr>\n",
       "      <th>Task 1</th>\n",
       "      <td>1.00</td>\n",
       "    </tr>\n",
       "    <tr>\n",
       "      <th>Task 2</th>\n",
       "      <td>1.00</td>\n",
       "    </tr>\n",
       "    <tr>\n",
       "      <th>Task 3</th>\n",
       "      <td>0.70</td>\n",
       "    </tr>\n",
       "    <tr>\n",
       "      <th>Task 4</th>\n",
       "      <td>0.98</td>\n",
       "    </tr>\n",
       "  </tbody>\n",
       "</table>\n",
       "</div>"
      ],
      "text/plain": [
       "        Mean Value\n",
       "Task 1        1.00\n",
       "Task 2        1.00\n",
       "Task 3        0.70\n",
       "Task 4        0.98"
      ]
     },
     "execution_count": 61,
     "metadata": {},
     "output_type": "execute_result"
    }
   ],
   "source": [
    "task_mean = np.stack(list(eval_task.values())).mean(axis=0)\n",
    "task_mean_df = pd.DataFrame(task_mean, index=[\"Task 1\", \"Task 2\", \"Task 3\", \"Task 4\"], columns=[\"Mean Value\"])\n",
    "task_mean_df"
   ]
  },
  {
   "cell_type": "code",
   "execution_count": 63,
   "metadata": {},
   "outputs": [
    {
     "data": {
      "text/plain": [
       "Text(0, 0.5, 'Autoevaluation Accuracy')"
      ]
     },
     "execution_count": 63,
     "metadata": {},
     "output_type": "execute_result"
    },
    {
     "data": {
      "image/png": "[encoded data removed]",
      "text/plain": [
       "<Figure size 400x300 with 1 Axes>"
      ]
     },
     "metadata": {},
     "output_type": "display_data"
    }
   ],
   "source": [
    "import matplotlib.pyplot as plt\n",
    "fig, ax = plt.subplots(figsize=(4,3))\n",
    "ax = task_mean_df.plot(kind='bar', legend=False,ax=ax)\n",
    "ax.tick_params(axis='x', pad=-60, color='w', labelcolor='w')\n",
    "ax.set_ylabel('Autoevaluation Accuracy')"
   ]
  },
  {
   "cell_type": "markdown",
   "metadata": {},
   "source": [
    "# Coding:  for different tasks"
   ]
  },
  {
   "cell_type": "code",
   "execution_count": 12,
   "metadata": {},
   "outputs": [],
   "source": [
    "maps_={\n",
    "    \"correct, F\": False,\n",
    "    \"incorrect, F\": True,\n",
    "    \"correct\": True,\n",
    "    \"incorrect\": False,\n",
    "    \"uncertain\": False\n",
    "}"
   ]
  },
  {
   "cell_type": "code",
   "execution_count": 13,
   "metadata": {},
   "outputs": [],
   "source": [
    "total=40\n",
    "code_paper={}\n",
    "for paper in paper_list:\n",
    "    code_paper[paper]=df[paper][['answer1', 'answer2', 'answer3', 'answer4']].applymap(lambda x: maps_[x]).values.sum()/total"
   ]
  },
  {
   "cell_type": "code",
   "execution_count": 27,
   "metadata": {},
   "outputs": [],
   "source": [
    "code_paper_df = pd.DataFrame.from_dict(code_paper, orient='index', columns=['Value'])"
   ]
  },
  {
   "cell_type": "code",
   "execution_count": 28,
   "metadata": {},
   "outputs": [
    {
     "data": {
      "text/plain": [
       "Text(0, 0.5, 'Coding Accuracy')"
      ]
     },
     "execution_count": 28,
     "metadata": {},
     "output_type": "execute_result"
    },
    {
     "data": {
      "image/png": "[encoded data removed]",
      "text/plain": [
       "<Figure size 400x300 with 1 Axes>"
      ]
     },
     "metadata": {},
     "output_type": "display_data"
    }
   ],
   "source": [
    "import matplotlib.pyplot as plt\n",
    "fig, ax = plt.subplots(figsize=(4,3))\n",
    "ax = code_paper_df.plot(kind='bar', legend=False,ax=ax)\n",
    "ax.tick_params(axis='x', pad=-80, color='w', labelcolor='w')\n",
    "ax.set_ylabel('Coding Accuracy')"
   ]
  },
  {
   "cell_type": "markdown",
   "metadata": {},
   "source": [
    "## Code: for different tasks"
   ]
  },
  {
   "cell_type": "code",
   "execution_count": 31,
   "metadata": {},
   "outputs": [],
   "source": [
    "code_task={}\n",
    "for paper in paper_list:\n",
    "    code_task[paper]=df[paper][['answer1', 'answer2', 'answer3', 'answer4']].applymap(lambda x: maps_[x]).values.mean(axis=0)"
   ]
  },
  {
   "cell_type": "code",
   "execution_count": 32,
   "metadata": {},
   "outputs": [
    {
     "data": {
      "text/html": [
       "<div>\n",
       "<style scoped>\n",
       "    .dataframe tbody tr th:only-of-type {\n",
       "        vertical-align: middle;\n",
       "    }\n",
       "\n",
       "    .dataframe tbody tr th {\n",
       "        vertical-align: top;\n",
       "    }\n",
       "\n",
       "    .dataframe thead th {\n",
       "        text-align: right;\n",
       "    }\n",
       "</style>\n",
       "<table border=\"1\" class=\"dataframe\">\n",
       "  <thead>\n",
       "    <tr style=\"text-align: right;\">\n",
       "      <th></th>\n",
       "      <th>Mean Value</th>\n",
       "    </tr>\n",
       "  </thead>\n",
       "  <tbody>\n",
       "    <tr>\n",
       "      <th>Task 1</th>\n",
       "      <td>0.98</td>\n",
       "    </tr>\n",
       "    <tr>\n",
       "      <th>Task 2</th>\n",
       "      <td>0.90</td>\n",
       "    </tr>\n",
       "    <tr>\n",
       "      <th>Task 3</th>\n",
       "      <td>0.88</td>\n",
       "    </tr>\n",
       "    <tr>\n",
       "      <th>Task 4</th>\n",
       "      <td>0.42</td>\n",
       "    </tr>\n",
       "  </tbody>\n",
       "</table>\n",
       "</div>"
      ],
      "text/plain": [
       "        Mean Value\n",
       "Task 1        0.98\n",
       "Task 2        0.90\n",
       "Task 3        0.88\n",
       "Task 4        0.42"
      ]
     },
     "execution_count": 32,
     "metadata": {},
     "output_type": "execute_result"
    }
   ],
   "source": [
    "code_task_mean = np.stack(list(code_task.values())).mean(axis=0)\n",
    "code_task_mean_df = pd.DataFrame(code_task_mean, index=[\"Task 1\", \"Task 2\", \"Task 3\", \"Task 4\"], columns=[\"Mean Value\"])\n",
    "code_task_mean_df"
   ]
  },
  {
   "cell_type": "code",
   "execution_count": 34,
   "metadata": {},
   "outputs": [
    {
     "data": {
      "text/plain": [
       "Text(0, 0.5, 'Coding Accuracy')"
      ]
     },
     "execution_count": 34,
     "metadata": {},
     "output_type": "execute_result"
    },
    {
     "data": {
      "image/png": "[encoded data removed]",
      "text/plain": [
       "<Figure size 400x300 with 1 Axes>"
      ]
     },
     "metadata": {},
     "output_type": "display_data"
    }
   ],
   "source": [
    "import matplotlib.pyplot as plt\n",
    "fig, ax = plt.subplots(figsize=(4,3))\n",
    "ax = code_task_mean_df.plot(kind='bar', legend=False,ax=ax)\n",
    "ax.tick_params(axis='x', pad=-60, color='w', labelcolor='w')\n",
    "ax.set_ylabel('Coding Accuracy')"
   ]
  },
  {
   "cell_type": "code",
   "execution_count": null,
   "metadata": {},
   "outputs": [],
   "source": []
  },
  {
   "cell_type": "code",
   "execution_count": 23,
   "metadata": {},
   "outputs": [
    {
     "data": {
      "text/html": [
       "<div>\n",
       "<style scoped>\n",
       "    .dataframe tbody tr th:only-of-type {\n",
       "        vertical-align: middle;\n",
       "    }\n",
       "\n",
       "    .dataframe tbody tr th {\n",
       "        vertical-align: top;\n",
       "    }\n",
       "\n",
       "    .dataframe thead th {\n",
       "        text-align: right;\n",
       "    }\n",
       "</style>\n",
       "<table border=\"1\" class=\"dataframe\">\n",
       "  <thead>\n",
       "    <tr style=\"text-align: right;\">\n",
       "      <th></th>\n",
       "      <th>answer1</th>\n",
       "      <th>answer2</th>\n",
       "      <th>answer3</th>\n",
       "      <th>answer4</th>\n",
       "      <th>paper</th>\n",
       "      <th>trial_idx</th>\n",
       "    </tr>\n",
       "  </thead>\n",
       "  <tbody>\n",
       "    <tr>\n",
       "      <th>1</th>\n",
       "      <td>correct</td>\n",
       "      <td>incorrect</td>\n",
       "      <td>correct, F</td>\n",
       "      <td>incorrect</td>\n",
       "      <td>2004.04168</td>\n",
       "      <td>1</td>\n",
       "    </tr>\n",
       "    <tr>\n",
       "      <th>2</th>\n",
       "      <td>correct</td>\n",
       "      <td>correct</td>\n",
       "      <td>correct</td>\n",
       "      <td>incorrect</td>\n",
       "      <td>2004.04168</td>\n",
       "      <td>2</td>\n",
       "    </tr>\n",
       "    <tr>\n",
       "      <th>3</th>\n",
       "      <td>correct</td>\n",
       "      <td>correct</td>\n",
       "      <td>correct</td>\n",
       "      <td>incorrect</td>\n",
       "      <td>2004.04168</td>\n",
       "      <td>3</td>\n",
       "    </tr>\n",
       "    <tr>\n",
       "      <th>4</th>\n",
       "      <td>correct</td>\n",
       "      <td>correct</td>\n",
       "      <td>correct</td>\n",
       "      <td>correct</td>\n",
       "      <td>2004.04168</td>\n",
       "      <td>4</td>\n",
       "    </tr>\n",
       "    <tr>\n",
       "      <th>5</th>\n",
       "      <td>correct</td>\n",
       "      <td>correct</td>\n",
       "      <td>correct</td>\n",
       "      <td>incorrect</td>\n",
       "      <td>2004.04168</td>\n",
       "      <td>5</td>\n",
       "    </tr>\n",
       "    <tr>\n",
       "      <th>6</th>\n",
       "      <td>correct</td>\n",
       "      <td>correct</td>\n",
       "      <td>correct</td>\n",
       "      <td>correct</td>\n",
       "      <td>2004.04168</td>\n",
       "      <td>6</td>\n",
       "    </tr>\n",
       "    <tr>\n",
       "      <th>7</th>\n",
       "      <td>correct</td>\n",
       "      <td>incorrect</td>\n",
       "      <td>incorrect</td>\n",
       "      <td>incorrect</td>\n",
       "      <td>2004.04168</td>\n",
       "      <td>7</td>\n",
       "    </tr>\n",
       "    <tr>\n",
       "      <th>8</th>\n",
       "      <td>correct</td>\n",
       "      <td>correct</td>\n",
       "      <td>correct</td>\n",
       "      <td>incorrect</td>\n",
       "      <td>2004.04168</td>\n",
       "      <td>8</td>\n",
       "    </tr>\n",
       "    <tr>\n",
       "      <th>9</th>\n",
       "      <td>correct</td>\n",
       "      <td>correct</td>\n",
       "      <td>correct</td>\n",
       "      <td>incorrect</td>\n",
       "      <td>2004.04168</td>\n",
       "      <td>9</td>\n",
       "    </tr>\n",
       "    <tr>\n",
       "      <th>10</th>\n",
       "      <td>correct</td>\n",
       "      <td>incorrect</td>\n",
       "      <td>incorrect</td>\n",
       "      <td>incorrect</td>\n",
       "      <td>2004.04168</td>\n",
       "      <td>10</td>\n",
       "    </tr>\n",
       "  </tbody>\n",
       "</table>\n",
       "</div>"
      ],
      "text/plain": [
       "    answer1    answer2     answer3    answer4       paper  trial_idx\n",
       "1   correct  incorrect  correct, F  incorrect  2004.04168          1\n",
       "2   correct    correct     correct  incorrect  2004.04168          2\n",
       "3   correct    correct     correct  incorrect  2004.04168          3\n",
       "4   correct    correct     correct    correct  2004.04168          4\n",
       "5   correct    correct     correct  incorrect  2004.04168          5\n",
       "6   correct    correct     correct    correct  2004.04168          6\n",
       "7   correct  incorrect   incorrect  incorrect  2004.04168          7\n",
       "8   correct    correct     correct  incorrect  2004.04168          8\n",
       "9   correct    correct     correct  incorrect  2004.04168          9\n",
       "10  correct  incorrect   incorrect  incorrect  2004.04168         10"
      ]
     },
     "execution_count": 23,
     "metadata": {},
     "output_type": "execute_result"
    }
   ],
   "source": [
    "df[paper_list[2]]"
   ]
  },
  {
   "cell_type": "code",
   "execution_count": 20,
   "metadata": {},
   "outputs": [
    {
     "data": {
      "text/plain": [
       "0.775"
      ]
     },
     "execution_count": 20,
     "metadata": {},
     "output_type": "execute_result"
    }
   ],
   "source": [
    "code_paper[paper_list[1]]"
   ]
  },
  {
   "cell_type": "code",
   "execution_count": 22,
   "metadata": {},
   "outputs": [
    {
     "data": {
      "text/plain": [
       "0.775"
      ]
     },
     "execution_count": 22,
     "metadata": {},
     "output_type": "execute_result"
    }
   ],
   "source": [
    "1-9/40"
   ]
  },
  {
   "cell_type": "code",
   "execution_count": null,
   "metadata": {},
   "outputs": [],
   "source": []
  },
  {
   "cell_type": "code",
   "execution_count": null,
   "metadata": {},
   "outputs": [],
   "source": []
  }
 ],
 "metadata": {
  "kernelspec": {
   "display_name": "base",
   "language": "python",
   "name": "python3"
  },
  "language_info": {
   "codemirror_mode": {
    "name": "ipython",
    "version": 3
   },
   "file_extension": ".py",
   "mimetype": "text/x-python",
   "name": "python",
   "nbconvert_exporter": "python",
   "pygments_lexer": "ipython3",
   "version": "3.11.4"
  }
 },
 "nbformat": 4,
 "nbformat_minor": 2
}
