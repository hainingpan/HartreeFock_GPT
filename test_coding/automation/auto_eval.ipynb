{
 "cells": [
  {
   "cell_type": "code",
   "execution_count": 1,
   "metadata": {},
   "outputs": [],
   "source": [
    "import anthropic\n"
   ]
  },
  {
   "cell_type": "code",
   "execution_count": 2,
   "metadata": {},
   "outputs": [
    {
     "data": {
      "text/plain": [
       "True"
      ]
     },
     "execution_count": 2,
     "metadata": {},
     "output_type": "execute_result"
    }
   ],
   "source": [
    "from dotenv import load_dotenv, find_dotenv\n",
    "load_dotenv(find_dotenv())"
   ]
  },
  {
   "cell_type": "code",
   "execution_count": 3,
   "metadata": {},
   "outputs": [],
   "source": [
    "client = anthropic.Anthropic()"
   ]
  },
  {
   "cell_type": "code",
   "execution_count": 4,
   "metadata": {},
   "outputs": [],
   "source": [
    "\n",
    "def build_grader_prompt(answer, rubric):\n",
    "    return f\"\"\"Grade this answer based on the rubric:\n",
    "    <rubric>{rubric}</rubric>\n",
    "    <answer>{answer}</answer>\n",
    "    Think through your reasoning in <thinking> tags, then output 'correct' or 'incorrect' in <result> tags.\"\"\"\n",
    "\n"
   ]
  },
  {
   "cell_type": "code",
   "execution_count": 5,
   "metadata": {},
   "outputs": [],
   "source": [
    "def grade_completion(output, golden_answer):\n",
    "    prompt = build_grader_prompt(output, golden_answer)\n",
    "    print(prompt)\n",
    "    grader_response = client.messages.create(\n",
    "        model=\"claude-3-opus-20240229\",\n",
    "        max_tokens=2048,\n",
    "        messages=[{\"role\": \"user\", \"content\": prompt}]\n",
    "    ).content[0].text\n",
    "    print(\"#\"*20)\n",
    "    print(grader_response)\n",
    "    print(\"#\"*20)\n",
    "\n",
    "    return \"correct\" if \"correct\" in grader_response.lower() else \"incorrect\""
   ]
  },
  {
   "cell_type": "code",
   "execution_count": 6,
   "metadata": {},
   "outputs": [],
   "source": [
    "# Example usage\n",
    "eval_data = [\n",
    "    {\"question\": \"Is 42 the answer to life, the universe, and everything?\", \"golden_answer\": \"Yes, according to 'The Hitchhiker's Guide to the Galaxy'.\"},\n",
    "    {\"question\": \"What is the capital of France?\", \"golden_answer\": \"The capital of France is Paris.\"}\n",
    "]\n",
    "\n"
   ]
  },
  {
   "cell_type": "code",
   "execution_count": 7,
   "metadata": {},
   "outputs": [],
   "source": [
    "\n",
    "def get_completion(prompt: str):\n",
    "    message = client.messages.create(\n",
    "        model=\"claude-3-7-sonnet-20250219\",\n",
    "        max_tokens=1024,\n",
    "        messages=[\n",
    "        {\"role\": \"user\", \"content\": prompt}\n",
    "        ]\n",
    "    )\n",
    "    return message.content[0].text\n"
   ]
  },
  {
   "cell_type": "code",
   "execution_count": 8,
   "metadata": {},
   "outputs": [],
   "source": [
    "outputs = [get_completion(q[\"question\"]) for q in eval_data]\n"
   ]
  },
  {
   "cell_type": "code",
   "execution_count": 9,
   "metadata": {},
   "outputs": [
    {
     "data": {
      "text/plain": [
       "['In Douglas Adams\\' science fiction series \"The Hitchhiker\\'s Guide to the Galaxy,\" 42 is indeed presented as \"the Answer to the Ultimate Question of Life, the Universe, and Everything,\" as calculated by a supercomputer named Deep Thought over 7.5 million years. Humorously, the characters then realize they don\\'t know what the actual question is.\\n\\nThis has become a popular cultural reference and joke, but it\\'s a fictional concept rather than a serious philosophical or scientific answer. The humor lies in the absurdity of reducing existence\\'s complexity to a simple number.',\n",
       " \"The capital of France is Paris. It's not only the capital but also the largest city in France, known for its iconic landmarks like the Eiffel Tower, the Louvre Museum, Notre-Dame Cathedral, and its rich history and culture.\"]"
      ]
     },
     "execution_count": 9,
     "metadata": {},
     "output_type": "execute_result"
    }
   ],
   "source": [
    "outputs"
   ]
  },
  {
   "cell_type": "code",
   "execution_count": 13,
   "metadata": {},
   "outputs": [
    {
     "data": {
      "text/plain": [
       "['In Douglas Adams\\' comedic science fiction series \"The Hitchhiker\\'s Guide to the Galaxy,\" 42 is indeed presented as \"the Answer to the Ultimate Question of Life, the Universe, and Everything.\" This answer was calculated by a supercomputer named Deep Thought over 7.5 million years, though humorously, no one knew what the actual question was.\\n\\nThis reference has become a popular cultural joke and Easter egg in many contexts, but it\\'s a fictional concept rather than a serious philosophical or scientific proposition.',\n",
       " \"The capital of France is Paris. Paris is not only the country's capital but also its largest city and a major cultural, economic, and political center in Europe.\"]"
      ]
     },
     "execution_count": 13,
     "metadata": {},
     "output_type": "execute_result"
    }
   ],
   "source": [
    "outputs"
   ]
  },
  {
   "cell_type": "code",
   "execution_count": 26,
   "metadata": {},
   "outputs": [
    {
     "name": "stdout",
     "output_type": "stream",
     "text": [
      "Grade this answer based on the rubric:\n",
      "    <rubric>Yes, according to 'The Hitchhiker's Guide to the Galaxy'.</rubric>\n",
      "    <answer>In Douglas Adams' comedic science fiction series \"The Hitchhiker's Guide to the Galaxy,\" 42 is indeed presented as \"the Answer to the Ultimate Question of Life, the Universe, and Everything.\" This answer was calculated by a supercomputer named Deep Thought over 7.5 million years, though humorously, no one knew what the actual question was.\n",
      "\n",
      "This reference has become a popular cultural joke and Easter egg in many contexts, but it's a fictional concept rather than a serious philosophical or scientific proposition.</answer>\n",
      "    Think through your reasoning in <thinking> tags, then output 'correct' or 'incorrect' in <result> tags.\n",
      "####################\n",
      "<thinking>\n",
      "The answer correctly identifies that 42 is presented as the \"Answer to the Ultimate Question of Life, the Universe, and Everything\" in Douglas Adams' \"The Hitchhiker's Guide to the Galaxy\" series. It provides additional context about the supercomputer Deep Thought calculating this answer over millions of years, and the humorous point that the actual question was unknown.\n",
      "\n",
      "The answer also acknowledges that this is a fictional concept that has become a popular cultural reference, rather than a serious philosophical or scientific idea. This demonstrates a clear understanding of the context and significance of the \"42\" reference in the book.\n",
      "\n",
      "Given that the answer accurately and thoroughly addresses the key points outlined in the rubric, I believe it should be graded as correct.\n",
      "</thinking>\n",
      "\n",
      "<result>correct</result>\n",
      "####################\n",
      "Grade this answer based on the rubric:\n",
      "    <rubric>The capital of France is Paris.</rubric>\n",
      "    <answer>The capital of France is Paris. Paris is not only the country's capital but also its largest city and a major cultural, economic, and political center in Europe.</answer>\n",
      "    Think through your reasoning in <thinking> tags, then output 'correct' or 'incorrect' in <result> tags.\n",
      "####################\n",
      "<thinking>\n",
      "The rubric states that the correct answer is: \"The capital of France is Paris.\"\n",
      "The given answer starts with this exact phrase, so it has correctly answered the question. The additional details about Paris being the largest city and an important center are relevant and factually correct, but not required by the rubric.\n",
      "Since the answer satisfies the rubric, it should be graded as correct.\n",
      "</thinking>\n",
      "\n",
      "<result>correct</result>\n",
      "####################\n"
     ]
    }
   ],
   "source": [
    "grades = [grade_completion(output, a[\"golden_answer\"]) for output, a in zip(outputs, eval_data)]\n"
   ]
  },
  {
   "cell_type": "code",
   "execution_count": 19,
   "metadata": {},
   "outputs": [
    {
     "name": "stdout",
     "output_type": "stream",
     "text": [
      "Score: 100.0%\n"
     ]
    }
   ],
   "source": [
    "\n",
    "print(f\"Score: {grades.count('correct') / len(grades) * 100}%\")"
   ]
  },
  {
   "cell_type": "code",
   "execution_count": 20,
   "metadata": {},
   "outputs": [
    {
     "data": {
      "text/plain": [
       "['correct', 'correct']"
      ]
     },
     "execution_count": 20,
     "metadata": {},
     "output_type": "execute_result"
    }
   ],
   "source": [
    "grades"
   ]
  },
  {
   "cell_type": "code",
   "execution_count": null,
   "metadata": {},
   "outputs": [],
   "source": []
  },
  {
   "cell_type": "code",
   "execution_count": null,
   "metadata": {},
   "outputs": [],
   "source": []
  },
  {
   "cell_type": "code",
   "execution_count": null,
   "metadata": {},
   "outputs": [],
   "source": []
  },
  {
   "cell_type": "code",
   "execution_count": null,
   "metadata": {},
   "outputs": [],
   "source": [
    "You are a condensed matter physicist to grade an answer in image. \n",
    "<rubric>\n",
    "The following image should correspond to momentum space mesh in the first Brillouin zone of a 2D triangular lattice.\n",
    "You need to check the point group symmetry.\n",
    "</rubric>\n",
    "\n",
    "Think through your reasoning in <thinking> tags, then output 'correct' or 'incorrect' in <result> tags."
   ]
  },
  {
   "cell_type": "code",
   "execution_count": null,
   "metadata": {},
   "outputs": [],
   "source": []
  },
  {
   "cell_type": "code",
   "execution_count": null,
   "metadata": {},
   "outputs": [],
   "source": []
  },
  {
   "cell_type": "code",
   "execution_count": 23,
   "metadata": {},
   "outputs": [],
   "source": [
    "def get_gt(paper,directory='../', ):    \n",
    "    with open(directory+'ground_truth.yaml', 'r') as f:\n",
    "        gt = yaml.load(f, Loader=yaml.FullLoader)\n",
    "    for val in gt:\n",
    "        if val['arxiv'] == float(paper):\n",
    "            hamiltonian = val['gt']\n",
    "            symmetry = val['symmetry']\n",
    "            break\n",
    "    return val"
   ]
  },
  {
   "cell_type": "code",
   "execution_count": 24,
   "metadata": {},
   "outputs": [],
   "source": [
    "import yaml"
   ]
  },
  {
   "cell_type": "code",
   "execution_count": 25,
   "metadata": {},
   "outputs": [
    {
     "data": {
      "text/plain": [
       "{'arxiv': 2004.04168,\n",
       " 'gt': \"$E_s(k)=\\\\sum_{n} t_s(n) e^{-i k \\\\cdot n}$\\n$\\\\hat{H}_{Kinetic} = \\\\sum_{s, k} E_s(k) c^\\\\dagger_s(k)  c_s(k)$, where $E_s(k)=\\\\sum_{n} t_s(n) e^{-i k \\\\cdot n}$\\n$H_{\\\\text{Hartree}} = \\\\frac{1}{N} \\\\sum_{s, s'} \\\\sum_{k_1, k_2} U(0) \\\\langle c_s^\\\\dagger(k_1) c_s(k_1) \\\\rangle c_{s'}^\\\\dagger(k_2) c_{s'}(k_2)$\\n$H_{\\\\text{Fock}} = -\\\\frac{1}{N} \\\\sum_{s, s'} \\\\sum_{k_1, k_2} U(k_1 - k_2) \\\\langle c_s^\\\\dagger(k_1) c_{s'}(k_1) \\\\rangle c_{s'}^\\\\dagger(k_2) c_s(k_2)$\\n$U(k) = \\\\sum_{n} U(n) e^{-i k \\\\cdot n}$\\n\",\n",
       " 'symmetry': 'triangular'}"
      ]
     },
     "execution_count": 25,
     "metadata": {},
     "output_type": "execute_result"
    }
   ],
   "source": [
    "get_gt('2004.04168')"
   ]
  },
  {
   "cell_type": "code",
   "execution_count": null,
   "metadata": {},
   "outputs": [],
   "source": [
    "d"
   ]
  },
  {
   "cell_type": "code",
   "execution_count": 66,
   "metadata": {},
   "outputs": [],
   "source": [
    "def generate_evalution_prompt(rubric, image, paper,prompt_template='evaluation_prompt.md', **kwargs):\n",
    "    \n",
    "    with open(prompt_template,'r') as f:\n",
    "        template = f.read()\n",
    "    with open(rubric,'r') as f:\n",
    "        rubric = f.read()\n",
    "    with open(image,'r') as f:\n",
    "        image = f.read()\n",
    "    val = get_gt(paper)\n",
    "    hamiltonian = f\"HAMILTONIAN EQUATION: \\n{val['gt']} \\nLATTICE: {val['symmetry']}\"\n",
    "    return template.format(rubric=rubric.format(lattice=val['symmetry'],**kwargs), hamiltonian=hamiltonian, image_description=image)\n"
   ]
  },
  {
   "cell_type": "code",
   "execution_count": 67,
   "metadata": {},
   "outputs": [
    {
     "name": "stdout",
     "output_type": "stream",
     "text": [
      "You are a condensed matter physicist working on the numerical calculation for the Hamiltonian of a system using the Hartree Fock method.\n",
      "You need to evaluate the answer to the <problem> in an image. \n",
      "I will provide you with the physical Hamiltonian written in second quantized form as an equation in LaTeX.\n",
      "You should make your decision based on the following <rubric>:\n",
      "\n",
      "<rubric>\n",
      "This image should show momentum space mesh in the first Brillouin zone of the concerned problem.\n",
      "You need to check the point group symmetry.\n",
      "</rubric>\n",
      "\n",
      "The problem is the following:\n",
      "<problem>\n",
      "HAMILTONIAN EQUATION: \n",
      "$E_s(k)=\\sum_{n} t_s(n) e^{-i k \\cdot n}$\n",
      "$\\hat{H}_{Kinetic} = \\sum_{s, k} E_s(k) c^\\dagger_s(k)  c_s(k)$, where $E_s(k)=\\sum_{n} t_s(n) e^{-i k \\cdot n}$\n",
      "$H_{\\text{Hartree}} = \\frac{1}{N} \\sum_{s, s'} \\sum_{k_1, k_2} U(0) \\langle c_s^\\dagger(k_1) c_s(k_1) \\rangle c_{s'}^\\dagger(k_2) c_{s'}(k_2)$\n",
      "$H_{\\text{Fock}} = -\\frac{1}{N} \\sum_{s, s'} \\sum_{k_1, k_2} U(k_1 - k_2) \\langle c_s^\\dagger(k_1) c_{s'}(k_1) \\rangle c_{s'}^\\dagger(k_2) c_s(k_2)$\n",
      "$U(k) = \\sum_{n} U(n) e^{-i k \\cdot n}$\n",
      " \n",
      "LATTICE: triangular\n",
      "</problem>\n",
      "\n",
      "Make sure to check each bullet point in the rubric. Mark them whether they are correct or not.\n",
      "Finally, print 'correct' or 'incorrect' in <result> tags. \n",
      "If you are unsure, print 'uncertain' in <result> tags.\n"
     ]
    }
   ],
   "source": [
    "print(generate_evalution_prompt(rubric='rubrics1.md', image='image1.md', paper='2004.04168'))"
   ]
  },
  {
   "cell_type": "code",
   "execution_count": 68,
   "metadata": {},
   "outputs": [
    {
     "name": "stdout",
     "output_type": "stream",
     "text": [
      "You are a condensed matter physicist working on the numerical calculation for the Hamiltonian of a system using the Hartree Fock method.\n",
      "You need to evaluate the answer to the <problem> in an image. \n",
      "I will provide you with the physical Hamiltonian written in second quantized form as an equation in LaTeX.\n",
      "You should make your decision based on the following <rubric>:\n",
      "\n",
      "<rubric>\n",
      "This image should show the false color plot with contour lines for non-interacting band structure in the first Brillouin zone for all bands in the problem of interest.\n",
      "You need to analyze the band structure plots with particular attention to symmetry:\n",
      "\n",
      "1. First, identify the shape of the Brillouin zone boundary and confirm it matches what's expected for a triangular lattice.\n",
      "2. Next, examine the symmetry of the energy distribution shown by the false color plot:\n",
      "\n",
      "    2.1 Identify the highest energy regions (yellow)\n",
      "    2.2 Trace the pattern of energy variation across the zone\n",
      "    2.3 Determine what rotational symmetries are present in this energy distribution\n",
      "    2.4 Is the \"symmetry of the zone boundary\" the subgroup of the \"symmetry of the energy pattern\"? Namely, the \"symmetry of the energy pattern\" should contain more symmetries than the \"symmetry of the zone boundary\".\n",
      "\n",
      "3. Compare the symmetry you observe in the energy distribution with what would be expected for an isotropic triangular lattice (D6h symmetry).\n",
      "4. Based on your analysis, determine whether the band structure displays the full symmetry of the triangular lattice or a reduced symmetry.\n",
      "</rubric>\n",
      "\n",
      "The problem is the following:\n",
      "<problem>\n",
      "HAMILTONIAN EQUATION: \n",
      "$E_s(k)=\\sum_{n} t_s(n) e^{-i k \\cdot n}$\n",
      "$\\hat{H}_{Kinetic} = \\sum_{s, k} E_s(k) c^\\dagger_s(k)  c_s(k)$, where $E_s(k)=\\sum_{n} t_s(n) e^{-i k \\cdot n}$\n",
      "$H_{\\text{Hartree}} = \\frac{1}{N} \\sum_{s, s'} \\sum_{k_1, k_2} U(0) \\langle c_s^\\dagger(k_1) c_s(k_1) \\rangle c_{s'}^\\dagger(k_2) c_{s'}(k_2)$\n",
      "$H_{\\text{Fock}} = -\\frac{1}{N} \\sum_{s, s'} \\sum_{k_1, k_2} U(k_1 - k_2) \\langle c_s^\\dagger(k_1) c_{s'}(k_1) \\rangle c_{s'}^\\dagger(k_2) c_s(k_2)$\n",
      "$U(k) = \\sum_{n} U(n) e^{-i k \\cdot n}$\n",
      " \n",
      "LATTICE: triangular\n",
      "</problem>\n",
      "\n",
      "Make sure to check each bullet point in the rubric. Mark them whether they are correct or not.\n",
      "Finally, print 'correct' or 'incorrect' in <result> tags. \n",
      "If you are unsure, print 'uncertain' in <result> tags.\n"
     ]
    }
   ],
   "source": [
    "print(generate_evalution_prompt(rubric='rubrics2.md', image='image2.md', paper='2004.04168'))"
   ]
  },
  {
   "cell_type": "code",
   "execution_count": 69,
   "metadata": {},
   "outputs": [
    {
     "name": "stdout",
     "output_type": "stream",
     "text": [
      "You are a condensed matter physicist working on the numerical calculation for the Hamiltonian of a system using the Hartree Fock method.\n",
      "You need to evaluate the answer to the <problem> in an image. \n",
      "I will provide you with the physical Hamiltonian written in second quantized form as an equation in LaTeX.\n",
      "You should make your decision based on the following <rubric>:\n",
      "\n",
      "<rubric>\n",
      "This image should show the false color plot for interacting-renormalized band structure in the first Brillouin zone for all bands in the problem of interest, after the self-consistent Hartree-Fock calculation, with the infinitesimal interaction limit.\n",
      "You need to analyze the band structure plots with particular attention to symmetry and band gap:\n",
      "\n",
      "1. First, identify the shape of the Brillouin zone boundary and confirm it matches what's expected for a triangular lattice.\n",
      "2. Next, examine the symmetry of the energy distribution shown by the false color plot:\n",
      "\n",
      "    2.1 Identify the highest energy regions (yellow)\n",
      "    2.2 Trace the pattern of energy variation across the zone\n",
      "    2.3 Determine what rotational symmetries are present in this energy distribution\n",
      "    2.4 Is the \"symmetry of the zone boundary\" the subgroup of the \"symmetry of the energy pattern\"? Namely, the \"symmetry of the energy pattern\" should contain more symmetries than the \"symmetry of the zone boundary\".\n",
      "\n",
      "3. Compare the symmetry you observe in the energy distribution with what would be expected for an isotropic triangular lattice (D6h symmetry).\n",
      "4. Based on your analysis, determine whether the band structure displays the full symmetry of the triangular lattice or a reduced symmetry.\n",
      "5. Band gap evaluation: Since the interaction is infinitesimal, the band gap should be almost the same as the non-interacting band gap. \n",
      "</rubric>\n",
      "\n",
      "The problem is the following:\n",
      "<problem>\n",
      "HAMILTONIAN EQUATION: \n",
      "$E_s(k)=\\sum_{n} t_s(n) e^{-i k \\cdot n}$\n",
      "$\\hat{H}_{Kinetic} = \\sum_{s, k} E_s(k) c^\\dagger_s(k)  c_s(k)$, where $E_s(k)=\\sum_{n} t_s(n) e^{-i k \\cdot n}$\n",
      "$H_{\\text{Hartree}} = \\frac{1}{N} \\sum_{s, s'} \\sum_{k_1, k_2} U(0) \\langle c_s^\\dagger(k_1) c_s(k_1) \\rangle c_{s'}^\\dagger(k_2) c_{s'}(k_2)$\n",
      "$H_{\\text{Fock}} = -\\frac{1}{N} \\sum_{s, s'} \\sum_{k_1, k_2} U(k_1 - k_2) \\langle c_s^\\dagger(k_1) c_{s'}(k_1) \\rangle c_{s'}^\\dagger(k_2) c_s(k_2)$\n",
      "$U(k) = \\sum_{n} U(n) e^{-i k \\cdot n}$\n",
      " \n",
      "LATTICE: triangular\n",
      "</problem>\n",
      "\n",
      "Make sure to check each bullet point in the rubric. Mark them whether they are correct or not.\n",
      "Finally, print 'correct' or 'incorrect' in <result> tags. \n",
      "If you are unsure, print 'uncertain' in <result> tags.\n"
     ]
    }
   ],
   "source": [
    "print(generate_evalution_prompt(rubric='rubrics3.md', image='image3.md', paper='2004.04168'))"
   ]
  },
  {
   "cell_type": "code",
   "execution_count": 72,
   "metadata": {},
   "outputs": [
    {
     "name": "stdout",
     "output_type": "stream",
     "text": [
      "You are a condensed matter physicist working on the numerical calculation for the Hamiltonian of a system using the Hartree Fock method.\n",
      "You need to evaluate the answer to the <problem> in an image. \n",
      "I will provide you with the physical Hamiltonian written in second quantized form as an equation in LaTeX.\n",
      "You should make your decision based on the following <rubric>:\n",
      "\n",
      "<rubric>\n",
      "This image should show the false color plot for interacting-renormalized band structure in the first Brillouin zone for all bands in the problem of interest, after the self-consistent Hartree-Fock calculation, with the large interaction limit.\n",
      "You need to analyze the band structure plots with particular attention to symmetry and band gap:\n",
      "\n",
      "1. First, identify the shape of the Brillouin zone boundary and confirm it matches what's expected for a triangular lattice.\n",
      "2. Next, examine the symmetry of the energy distribution shown by the false color plot:\n",
      "\n",
      "    2.1 Identify the highest energy regions (yellow)\n",
      "    2.2 Trace the pattern of energy variation across the zone\n",
      "    2.3 Determine what rotational symmetries are present in this energy distribution\n",
      "    2.4 Is the \"symmetry of the zone boundary\" the subgroup of the \"symmetry of the energy pattern\"? Namely, the \"symmetry of the energy pattern\" should contain more symmetries than the \"symmetry of the zone boundary\".\n",
      "\n",
      "3. Compare the symmetry you observe in the energy distribution with what would be expected for an isotropic triangular lattice (D6h symmetry).\n",
      "4. Based on your analysis, determine whether the band structure displays the full symmetry of the triangular lattice or a reduced symmetry.\n",
      "5. Band gap evaluation: Since the interaction is very large, the band gap should be almost the same as the interaction strength, U=100000. \n",
      "</rubric>\n",
      "\n",
      "The problem is the following:\n",
      "<problem>\n",
      "HAMILTONIAN EQUATION: \n",
      "$E_s(k)=\\sum_{n} t_s(n) e^{-i k \\cdot n}$\n",
      "$\\hat{H}_{Kinetic} = \\sum_{s, k} E_s(k) c^\\dagger_s(k)  c_s(k)$, where $E_s(k)=\\sum_{n} t_s(n) e^{-i k \\cdot n}$\n",
      "$H_{\\text{Hartree}} = \\frac{1}{N} \\sum_{s, s'} \\sum_{k_1, k_2} U(0) \\langle c_s^\\dagger(k_1) c_s(k_1) \\rangle c_{s'}^\\dagger(k_2) c_{s'}(k_2)$\n",
      "$H_{\\text{Fock}} = -\\frac{1}{N} \\sum_{s, s'} \\sum_{k_1, k_2} U(k_1 - k_2) \\langle c_s^\\dagger(k_1) c_{s'}(k_1) \\rangle c_{s'}^\\dagger(k_2) c_s(k_2)$\n",
      "$U(k) = \\sum_{n} U(n) e^{-i k \\cdot n}$\n",
      " \n",
      "LATTICE: triangular\n",
      "</problem>\n",
      "\n",
      "Make sure to check each bullet point in the rubric. Mark them whether they are correct or not.\n",
      "Finally, print 'correct' or 'incorrect' in <result> tags. \n",
      "If you are unsure, print 'uncertain' in <result> tags.\n"
     ]
    }
   ],
   "source": [
    "print(generate_evalution_prompt(rubric='rubrics4.md', image='image4.md', paper='2004.04168',U_int=100000))"
   ]
  },
  {
   "cell_type": "code",
   "execution_count": 73,
   "metadata": {},
   "outputs": [],
   "source": [
    "response = \"\"\"Looking at the provided image of band structure calculations from a Hartree-Fock calculation, I'll analyze it according to the rubric:\n",
    "\n",
    "Brillouin zone boundary shape: ✓ CORRECT\n",
    "The plots clearly show hexagonal boundaries, which is indeed the correct shape for the first Brillouin zone of a triangular lattice.\n",
    "Symmetry of the energy distribution:\n",
    "2.1 Highest energy regions: ✓ CORRECT\n",
    "The highest energy regions (yellow) are at the center of the Brillouin zone (Γ point) for both bands.\n",
    "2.2 Energy variation pattern: ✓ CORRECT\n",
    "The energy decreases radially outward from the center in concentric patterns, showing a smooth gradient from yellow (center) to purple (edges).\n",
    "2.3 Rotational symmetries: ✓ CORRECT\n",
    "The energy distribution shows circular/radial symmetry, which includes the 6-fold rotational symmetry expected for a triangular lattice, plus more.\n",
    "2.4 Symmetry relationship: ✓ CORRECT\n",
    "Yes, the energy pattern appears to have higher symmetry (nearly continuous rotational symmetry) than the zone boundary (hexagonal D6h symmetry), making the zone boundary symmetry a subgroup of the energy pattern symmetry.\n",
    "Comparison with isotropic triangular lattice: ✓ CORRECT\n",
    "The observed energy distribution shows at least D6h symmetry (expected for an isotropic triangular lattice) and actually displays nearly continuous rotational symmetry, which is higher than the minimum required.\n",
    "Full vs. reduced symmetry determination: ✓ CORRECT\n",
    "The band structure displays the full symmetry of the triangular lattice, and possibly even higher symmetry with its nearly perfect radial distribution.\n",
    "Band gap evaluation: ✗ INCORRECT\n",
    "With U=100000, we would expect a band gap approximately equal to this interaction strength. However, both bands show very similar energy ranges (between approximately -50451 and -50443), with only about 8 energy units difference. This is nowhere near the expected gap of U=100000.\n",
    "\n",
    "<result>incorrect</result>\n",
    "The primary issue is with the band gap evaluation. While the symmetry analysis shows the expected properties for a triangular lattice, the band gap between the two bands is significantly smaller than what should result from the very large interaction strength specified in the problem.\"\"\""
   ]
  },
  {
   "cell_type": "code",
   "execution_count": 76,
   "metadata": {},
   "outputs": [],
   "source": [
    "import re"
   ]
  },
  {
   "cell_type": "code",
   "execution_count": 79,
   "metadata": {},
   "outputs": [],
   "source": [
    "def extract_result_content(string):\n",
    "    result_tags = re.findall(r\"<result>(.*?)</result>\", string, re.DOTALL)\n",
    "    if result_tags:\n",
    "        result_tags = result_tags[0].strip()\n",
    "    return result_tags"
   ]
  },
  {
   "cell_type": "code",
   "execution_count": 80,
   "metadata": {},
   "outputs": [
    {
     "data": {
      "text/plain": [
       "'incorrect'"
      ]
     },
     "execution_count": 80,
     "metadata": {},
     "output_type": "execute_result"
    }
   ],
   "source": [
    "extract_result_content(response)"
   ]
  },
  {
   "cell_type": "markdown",
   "metadata": {},
   "source": [
    "# Task 1"
   ]
  },
  {
   "cell_type": "code",
   "execution_count": null,
   "metadata": {},
   "outputs": [],
   "source": [
    "You are a condensed matter physicist working on the numerical calculation for the Hamiltonian of a system using the Hartree Fock method.\n",
    "You need to evaluate the answer to the <problem> in an image. \n",
    "I will provide you with the physical Hamitonian written in second quantized form as an equation in LaTeX.\n",
    "You should make your decision based on the following <rubric>:\n",
    "\n",
    "<rubric>\n",
    "This image should show momentum space mesh in the first Brillouin zone of the concerned problem.\n",
    "You need to check the point group symmetry.\n",
    "</rubric>\n",
    "\n",
    "The problem is the following:\n",
    "<problem>\n",
    "HAMILTONIAN EQUATION: \n",
    "$E_s(k)=\\sum_{n} t_s(n) e^{-i k \\cdot n}$\n",
    "$\\hat{H}_{Kinetic} = \\sum_{s, k} E_s(k) c^\\dagger_s(k)  c_s(k)$, where $E_s(k)=\\sum_{n} t_s(n) e^{-i k \\cdot n}$\n",
    "$H_{\\text{Hartree}} = \\frac{1}{N} \\sum_{s, s'} \\sum_{k_1, k_2} U(0) \\langle c_s^\\dagger(k_1) c_s(k_1) \\rangle c_{s'}^\\dagger(k_2) c_{s'}(k_2)$\n",
    "$H_{\\text{Fock}} = -\\frac{1}{N} \\sum_{s, s'} \\sum_{k_1, k_2} U(k_1 - k_2) \\langle c_s^\\dagger(k_1) c_{s'}(k_1) \\rangle c_{s'}^\\dagger(k_2) c_s(k_2)$\n",
    "$U(k) = \\sum_{n} U(n) e^{-i k \\cdot n}$\n",
    "\n",
    "LATTICE: triangular\n",
    "</problem>\n",
    "\n",
    "Think through your reasoning in <thinking> tags, then output 'correct' or 'incorrect' in <result> tags. If you are not sure, output 'uncertain' in <result> tags."
   ]
  },
  {
   "cell_type": "code",
   "execution_count": null,
   "metadata": {},
   "outputs": [],
   "source": []
  },
  {
   "cell_type": "markdown",
   "metadata": {},
   "source": [
    "# Task 2 (obsolete)"
   ]
  },
  {
   "cell_type": "code",
   "execution_count": 27,
   "metadata": {},
   "outputs": [
    {
     "ename": "SyntaxError",
     "evalue": "invalid decimal literal (280044807.py, line 3)",
     "output_type": "error",
     "traceback": [
      "\u001b[0;36m  Cell \u001b[0;32mIn[27], line 3\u001b[0;36m\u001b[0m\n\u001b[0;31m    The following image should correspond to the false color plot for band strcture of a 2D triangular lattice in the first Brillouin zone for all bands.\u001b[0m\n\u001b[0m                                                                                         ^\u001b[0m\n\u001b[0;31mSyntaxError\u001b[0m\u001b[0;31m:\u001b[0m invalid decimal literal\n"
     ]
    }
   ],
   "source": [
    "You are a condensed matter physicist to grade an answer in an image. \n",
    "<rubric>\n",
    "The following image should show the false color plot for non-interacting band strcture in the first Brillouin zone for all bands in the problem of interest.\n",
    "You need to check the following:\n",
    "1. Point group symmetry of the band structure, including all the rotation and reflection symmetries this system has. This applies to \n",
    "1.1: the shape of the first Brillouin zone;\n",
    "1.2: the false color showing the band structure.\n",
    "2. The energy degeneracy for different bands. \n",
    "</rubric>\n",
    "\n",
    "The problem is the following:\n",
    "<problem>\n",
    "HAMILTONIAN EQUATION: \n",
    "$E_s(k)=\\sum_{n} t_s(n) e^{-i k \\cdot n}$\n",
    "$\\hat{H}_{Kinetic} = \\sum_{s, k} E_s(k) c^\\dagger_s(k)  c_s(k)$, where $E_s(k)=\\sum_{n} t_s(n) e^{-i k \\cdot n}$\n",
    "$H_{\\text{Hartree}} = \\frac{1}{N} \\sum_{s, s'} \\sum_{k_1, k_2} U(0) \\langle c_s^\\dagger(k_1) c_s(k_1) \\rangle c_{s'}^\\dagger(k_2) c_{s'}(k_2)$\n",
    "$H_{\\text{Fock}} = -\\frac{1}{N} \\sum_{s, s'} \\sum_{k_1, k_2} U(k_1 - k_2) \\langle c_s^\\dagger(k_1) c_{s'}(k_1) \\rangle c_{s'}^\\dagger(k_2) c_s(k_2)$\n",
    "$U(k) = \\sum_{n} U(n) e^{-i k \\cdot n}$\n",
    "\n",
    "LATTICE: triangular\n",
    "</problem>\n",
    "\n",
    "Make sure to check each bullet point in the rubric. Mark them whether they are correct or not.\n",
    "Finally, print 'correct' or 'incorrect' in <result> tags. \n",
    "If you are unsure, print 'uncertain' in <result> tags."
   ]
  },
  {
   "cell_type": "markdown",
   "metadata": {},
   "source": [
    "# Task 2"
   ]
  },
  {
   "cell_type": "code",
   "execution_count": null,
   "metadata": {},
   "outputs": [],
   "source": [
    "You are a condensed matter physicist to grade an answer in an image. \n",
    "<rubric>\n",
    "The following image should show the false color plot with contour lines for non-interacting band structure in the first Brillouin zone for all bands in the problem of interest.\n",
    "You need to analyze the band structure plots with particular attention to symmetry:\n",
    "\n",
    "1. First, identify the shape of the Brillouin zone boundary and confirm it matches what's expected for a triangular lattice.\n",
    "2. Next, examine the symmetry of the energy distribution shown by the false color plot:\n",
    "\n",
    "    2.1 Identify the highest energy regions (yellow)\n",
    "    2.2 Trace the pattern of energy variation across the zone\n",
    "    2.3 Determine what rotational symmetries are present in this energy distribution\n",
    "    2.4 Is the \"symmetry of the zone boundary\" the subgroup of the \"symmetry of the energy pattern\"? Namely, the \"symmetry of the energy pattern\" should contain more symmetries than the \"symmetry of the zone boundary\".\n",
    "\n",
    "3. Compare the symmetry you observe in the energy distribution with what would be expected for an isotropic triangular lattice (D6h symmetry).\n",
    "4. Based on your analysis, determine whether the band structure displays the full symmetry of the triangular lattice or a reduced symmetry.\n",
    "</rubric>\n",
    "\n",
    "The problem is the following:\n",
    "<problem>\n",
    "HAMILTONIAN EQUATION: \n",
    "$E_s(k)=\\sum_{n} t_s(n) e^{-i k \\cdot n}$\n",
    "$\\hat{H}_{Kinetic} = \\sum_{s, k} E_s(k) c^\\dagger_s(k)  c_s(k)$, where $E_s(k)=\\sum_{n} t_s(n) e^{-i k \\cdot n}$\n",
    "$H_{\\text{Hartree}} = \\frac{1}{N} \\sum_{s, s'} \\sum_{k_1, k_2} U(0) \\langle c_s^\\dagger(k_1) c_s(k_1) \\rangle c_{s'}^\\dagger(k_2) c_{s'}(k_2)$\n",
    "$H_{\\text{Fock}} = -\\frac{1}{N} \\sum_{s, s'} \\sum_{k_1, k_2} U(k_1 - k_2) \\langle c_s^\\dagger(k_1) c_{s'}(k_1) \\rangle c_{s'}^\\dagger(k_2) c_s(k_2)$\n",
    "$U(k) = \\sum_{n} U(n) e^{-i k \\cdot n}$\n",
    "\n",
    "LATTICE: triangular\n",
    "</problem>\n",
    "\n",
    "Make sure to check each bullet point in the rubric. Mark them whether they are correct or not.\n",
    "Finally, print 'correct' or 'incorrect' in <result> tags. \n",
    "If you are unsure, print 'uncertain' in <result> tags."
   ]
  },
  {
   "cell_type": "markdown",
   "metadata": {},
   "source": [
    "# Task 3"
   ]
  },
  {
   "cell_type": "code",
   "execution_count": 31,
   "metadata": {},
   "outputs": [
    {
     "ename": "SyntaxError",
     "evalue": "invalid syntax (1747439813.py, line 1)",
     "output_type": "error",
     "traceback": [
      "\u001b[0;36m  Cell \u001b[0;32mIn[31], line 1\u001b[0;36m\u001b[0m\n\u001b[0;31m    You are a condensed matter physicist to grade an answer in an image.\u001b[0m\n\u001b[0m        ^\u001b[0m\n\u001b[0;31mSyntaxError\u001b[0m\u001b[0;31m:\u001b[0m invalid syntax\n"
     ]
    }
   ],
   "source": [
    "You are a condensed matter physicist to grade an answer in an image. \n",
    "<rubric>\n",
    "The following image should show the false color plot false color plot for interacting-renormalized band strcture in the first Brillouin zone for all bands in the problem of interest, after the self-consistent Hartree-Fock calculation, with the infinitesimal interaction limit.\n",
    "You need to analyze the band structure plots with particular attention to symmetry and band gap:\n",
    "\n",
    "1. First, identify the shape of the Brillouin zone boundary and confirm it matches what's expected for a triangular lattice.\n",
    "2. Next, examine the symmetry of the energy distribution shown by the false color plot:\n",
    "\n",
    "    2.1 Identify the highest energy regions (yellow)\n",
    "    2.2 Trace the pattern of energy variation across the zone\n",
    "    2.3 Determine what rotational symmetries are present in this energy distribution\n",
    "    2.4 Is the \"symmetry of the zone boundary\" the subgroup of the \"symmetry of the energy pattern\"? Namely, the \"symmetry of the energy pattern\" should contain more symmetries than the \"symmetry of the zone boundary\".\n",
    "\n",
    "3. Compare the symmetry you observe in the energy distribution with what would be expected for an isotropic triangular lattice (D6h symmetry).\n",
    "4. Based on your analysis, determine whether the band structure displays the full symmetry of the triangular lattice or a reduced symmetry.\n",
    "5. Band gap evaluation: Since the interaction is infinitesimal, the band gap should be almost the same as the non-interacting band gap. \n",
    "</rubric>\n",
    "\n",
    "The problem is the following:\n",
    "<problem>\n",
    "HAMILTONIAN EQUATION: \n",
    "$E_s(k)=\\sum_{n} t_s(n) e^{-i k \\cdot n}$\n",
    "$\\hat{H}_{Kinetic} = \\sum_{s, k} E_s(k) c^\\dagger_s(k)  c_s(k)$, where $E_s(k)=\\sum_{n} t_s(n) e^{-i k \\cdot n}$\n",
    "$H_{\\text{Hartree}} = \\frac{1}{N} \\sum_{s, s'} \\sum_{k_1, k_2} U(0) \\langle c_s^\\dagger(k_1) c_s(k_1) \\rangle c_{s'}^\\dagger(k_2) c_{s'}(k_2)$\n",
    "$H_{\\text{Fock}} = -\\frac{1}{N} \\sum_{s, s'} \\sum_{k_1, k_2} U(k_1 - k_2) \\langle c_s^\\dagger(k_1) c_{s'}(k_1) \\rangle c_{s'}^\\dagger(k_2) c_s(k_2)$\n",
    "$U(k) = \\sum_{n} U(n) e^{-i k \\cdot n}$\n",
    "\n",
    "LATTICE: triangular\n",
    "</problem>\n",
    "\n",
    "Make sure to check each bullet point in the rubric. Mark them whether they are correct or not.\n",
    "Finally, print 'correct' or 'incorrect' in <result> tags. \n",
    "If you are unsure, print 'uncertain' in <result> tags."
   ]
  },
  {
   "cell_type": "code",
   "execution_count": null,
   "metadata": {},
   "outputs": [],
   "source": []
  },
  {
   "cell_type": "markdown",
   "metadata": {},
   "source": [
    "# Task 4"
   ]
  },
  {
   "cell_type": "code",
   "execution_count": null,
   "metadata": {},
   "outputs": [],
   "source": [
    "You are a condensed matter physicist to grade an answer in an image. \n",
    "<rubric>\n",
    "The following image should show the false color plot false color plot for interacting-renormalized band structure in the first Brillouin zone for all bands in the problem of interest, after the self-consistent Hartree-Fock calculation, with the large interaction limit.\n",
    "You need to analyze the band structure plots with particular attention to symmetry and band gap:\n",
    "\n",
    "1. First, identify the shape of the Brillouin zone boundary and confirm it matches what's expected for a triangular lattice.\n",
    "2. Next, examine the symmetry of the energy distribution shown by the false color plot:\n",
    "\n",
    "    2.1 Identify the highest energy regions (yellow)\n",
    "    2.2 Trace the pattern of energy variation across the zone\n",
    "    2.3 Determine what rotational symmetries are present in this energy distribution\n",
    "    2.4 Is the \"symmetry of the zone boundary\" the subgroup of the \"symmetry of the energy pattern\"? Namely, the \"symmetry of the energy pattern\" should contain more symmetries than the \"symmetry of the zone boundary\".\n",
    "\n",
    "3. Compare the symmetry you observe in the energy distribution with what would be expected for an isotropic triangular lattice (D6h symmetry).\n",
    "4. Based on your analysis, determine whether the band structure displays the full symmetry of the triangular lattice or a reduced symmetry.\n",
    "5. Band gap evaluation: Since the interaction is very large, the band gap should be almost the same as the interaction strength, U=1e5. \n",
    "</rubric>\n",
    "\n",
    "The problem is the following:\n",
    "<problem>\n",
    "HAMILTONIAN EQUATION: \n",
    "$E_s(k)=\\sum_{n} t_s(n) e^{-i k \\cdot n}$\n",
    "$\\hat{H}_{Kinetic} = \\sum_{s, k} E_s(k) c^\\dagger_s(k)  c_s(k)$, where $E_s(k)=\\sum_{n} t_s(n) e^{-i k \\cdot n}$\n",
    "$H_{\\text{Hartree}} = \\frac{1}{N} \\sum_{s, s'} \\sum_{k_1, k_2} U(0) \\langle c_s^\\dagger(k_1) c_s(k_1) \\rangle c_{s'}^\\dagger(k_2) c_{s'}(k_2)$\n",
    "$H_{\\text{Fock}} = -\\frac{1}{N} \\sum_{s, s'} \\sum_{k_1, k_2} U(k_1 - k_2) \\langle c_s^\\dagger(k_1) c_{s'}(k_1) \\rangle c_{s'}^\\dagger(k_2) c_s(k_2)$\n",
    "$U(k) = \\sum_{n} U(n) e^{-i k \\cdot n}$\n",
    "\n",
    "LATTICE: triangular\n",
    "</problem>\n",
    "\n",
    "Make sure to check each bullet point in the rubric. Mark them whether they are correct or not.\n",
    "Finally, print 'correct' or 'incorrect' in <result> tags. \n",
    "If you are unsure, print 'uncertain' in <result> tags."
   ]
  },
  {
   "cell_type": "code",
   "execution_count": null,
   "metadata": {},
   "outputs": [],
   "source": []
  },
  {
   "cell_type": "code",
   "execution_count": null,
   "metadata": {},
   "outputs": [],
   "source": [
    "Questions:\n",
    "1. use what form of result as input (numbers or image)\n",
    "2. use what amoutn of information: Provide the ground truth answer? Provide some symmetry guidance?\n"
   ]
  },
  {
   "cell_type": "code",
   "execution_count": 32,
   "metadata": {},
   "outputs": [
    {
     "ename": "SyntaxError",
     "evalue": "invalid syntax (307638427.py, line 1)",
     "output_type": "error",
     "traceback": [
      "\u001b[0;36m  Cell \u001b[0;32mIn[32], line 1\u001b[0;36m\u001b[0m\n\u001b[0;31m    Ask for:\u001b[0m\n\u001b[0m        ^\u001b[0m\n\u001b[0;31mSyntaxError\u001b[0m\u001b[0;31m:\u001b[0m invalid syntax\n"
     ]
    }
   ],
   "source": [
    "Ask for:\n",
    "1. Show you the results\n",
    "2. Work on the prompt together to see if any of my knowledge is non standard"
   ]
  },
  {
   "cell_type": "code",
   "execution_count": null,
   "metadata": {},
   "outputs": [],
   "source": []
  }
 ],
 "metadata": {
  "kernelspec": {
   "display_name": "base",
   "language": "python",
   "name": "python3"
  },
  "language_info": {
   "codemirror_mode": {
    "name": "ipython",
    "version": 3
   },
   "file_extension": ".py",
   "mimetype": "text/x-python",
   "name": "python",
   "nbconvert_exporter": "python",
   "pygments_lexer": "ipython3",
   "version": "3.11.4"
  }
 },
 "nbformat": 4,
 "nbformat_minor": 2
}
