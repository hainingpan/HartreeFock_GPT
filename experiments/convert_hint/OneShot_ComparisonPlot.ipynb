{
  "nbformat": 4,
  "nbformat_minor": 0,
  "metadata": {
    "colab": {
      "provenance": []
    },
    "kernelspec": {
      "name": "python3",
      "display_name": "Python 3"
    },
    "language_info": {
      "name": "python"
    }
  },
  "cells": [
    {
      "cell_type": "markdown",
      "source": [
        "## One Shot Experiment With the Convert Interacting ... task"
      ],
      "metadata": {
        "id": "uy338naA4f6r"
      }
    },
    {
      "cell_type": "code",
      "source": [
        "!pip install SciencePlots"
      ],
      "metadata": {
        "colab": {
          "base_uri": "https://localhost:8080/"
        },
        "id": "W7W9qThwAVV0",
        "outputId": "b9d71040-5fff-4126-9e6d-23006583dea0"
      },
      "execution_count": null,
      "outputs": [
        {
          "output_type": "stream",
          "name": "stdout",
          "text": [
            "Collecting SciencePlots\n",
            "  Downloading SciencePlots-2.1.1-py3-none-any.whl (16 kB)\n",
            "Requirement already satisfied: matplotlib in /usr/local/lib/python3.10/dist-packages (from SciencePlots) (3.7.1)\n",
            "Requirement already satisfied: contourpy>=1.0.1 in /usr/local/lib/python3.10/dist-packages (from matplotlib->SciencePlots) (1.2.0)\n",
            "Requirement already satisfied: cycler>=0.10 in /usr/local/lib/python3.10/dist-packages (from matplotlib->SciencePlots) (0.12.1)\n",
            "Requirement already satisfied: fonttools>=4.22.0 in /usr/local/lib/python3.10/dist-packages (from matplotlib->SciencePlots) (4.46.0)\n",
            "Requirement already satisfied: kiwisolver>=1.0.1 in /usr/local/lib/python3.10/dist-packages (from matplotlib->SciencePlots) (1.4.5)\n",
            "Requirement already satisfied: numpy>=1.20 in /usr/local/lib/python3.10/dist-packages (from matplotlib->SciencePlots) (1.23.5)\n",
            "Requirement already satisfied: packaging>=20.0 in /usr/local/lib/python3.10/dist-packages (from matplotlib->SciencePlots) (23.2)\n",
            "Requirement already satisfied: pillow>=6.2.0 in /usr/local/lib/python3.10/dist-packages (from matplotlib->SciencePlots) (9.4.0)\n",
            "Requirement already satisfied: pyparsing>=2.3.1 in /usr/local/lib/python3.10/dist-packages (from matplotlib->SciencePlots) (3.1.1)\n",
            "Requirement already satisfied: python-dateutil>=2.7 in /usr/local/lib/python3.10/dist-packages (from matplotlib->SciencePlots) (2.8.2)\n",
            "Requirement already satisfied: six>=1.5 in /usr/local/lib/python3.10/dist-packages (from python-dateutil>=2.7->matplotlib->SciencePlots) (1.16.0)\n",
            "Installing collected packages: SciencePlots\n",
            "Successfully installed SciencePlots-2.1.1\n"
          ]
        }
      ]
    },
    {
      "cell_type": "code",
      "source": [
        "!git clone https://github.com/nmudur/HartreeFock_GPT.git"
      ],
      "metadata": {
        "colab": {
          "base_uri": "https://localhost:8080/"
        },
        "id": "wSSMsSEj41Tk",
        "outputId": "90c1131e-5dab-4230-e7df-c00f8d94d800"
      },
      "execution_count": null,
      "outputs": [
        {
          "output_type": "stream",
          "name": "stdout",
          "text": [
            "Cloning into 'HartreeFock_GPT'...\n",
            "remote: Enumerating objects: 1744, done.\u001b[K\n",
            "remote: Counting objects: 100% (771/771), done.\u001b[K\n",
            "remote: Compressing objects: 100% (358/358), done.\u001b[K\n",
            "remote: Total 1744 (delta 503), reused 641 (delta 411), pack-reused 973\u001b[K\n",
            "Receiving objects: 100% (1744/1744), 51.87 MiB | 13.53 MiB/s, done.\n",
            "Resolving deltas: 100% (1064/1064), done.\n",
            "Updating files: 100% (237/237), done.\n"
          ]
        }
      ]
    },
    {
      "cell_type": "code",
      "execution_count": null,
      "metadata": {
        "id": "JsPB-JeFl7Nc"
      },
      "outputs": [],
      "source": [
        "import os\n",
        "import json\n",
        "import pprint\n",
        "import pandas as pd\n",
        "import yaml\n",
        "import numpy as np"
      ]
    },
    {
      "cell_type": "markdown",
      "source": [
        "## Scoring before and after"
      ],
      "metadata": {
        "id": "Iy-rmezX-52O"
      }
    },
    {
      "cell_type": "code",
      "source": [
        "ONESHOT_DIR = 'HartreeFock_GPT/experiments/convert_hint/' #'/content/drive/MyDrive/HF annotation/HartreeFock_Shared/experiments/fewshot_promptannotation/one-shot_10-11/'\n",
        "os.listdir(ONESHOT_DIR)"
      ],
      "metadata": {
        "colab": {
          "base_uri": "https://localhost:8080/"
        },
        "id": "2sl-7QXIp3Bh",
        "outputId": "00e6b80e-fcef-4983-f1fe-9583135c637f"
      },
      "execution_count": null,
      "outputs": [
        {
          "output_type": "execute_result",
          "data": {
            "text/plain": [
              "['DFVersion_OneShotPromptAnnotation_Experiment.ipynb',\n",
              " 'oneshot_df.csv',\n",
              " 'processed_oneshot_df_reverified_scores_renamed.yaml']"
            ]
          },
          "metadata": {},
          "execution_count": 4
        }
      ]
    },
    {
      "cell_type": "code",
      "source": [
        "oneshot_scores = yaml.safe_load(open(os.path.join(ONESHOT_DIR, 'processed_oneshot_df_reverified_scores_renamed.yaml'), 'r'))"
      ],
      "metadata": {
        "id": "2fuF1xqGEh_n"
      },
      "execution_count": null,
      "outputs": []
    },
    {
      "cell_type": "code",
      "source": [
        "len(oneshot_scores)"
      ],
      "metadata": {
        "colab": {
          "base_uri": "https://localhost:8080/"
        },
        "id": "z8V4Xj2GEwWh",
        "outputId": "1ec4cb7e-6d3b-452e-98e6-3b75032c58ac"
      },
      "execution_count": null,
      "outputs": [
        {
          "output_type": "execute_result",
          "data": {
            "text/plain": [
              "6"
            ]
          },
          "metadata": {},
          "execution_count": 6
        }
      ]
    },
    {
      "cell_type": "code",
      "source": [
        "oneshot_scores"
      ],
      "metadata": {
        "colab": {
          "base_uri": "https://localhost:8080/"
        },
        "id": "L4VbZOzvEtjL",
        "outputId": "e10725d0-756f-4892-f29f-1c73ba9d018a"
      },
      "execution_count": null,
      "outputs": [
        {
          "output_type": "execute_result",
          "data": {
            "text/plain": [
              "{'1106.6060.tex': {'placeholder': {'Note that interaction have no position dependence now': {'One-Shot': True,\n",
              "    'Zero-Shot': True,\n",
              "    'human': None,\n",
              "    'score': {'One-Shot (Haining)': 2, 'Zero-Shot (Haining)': 2}},\n",
              "   'definition_of_Fourier_Transformation': {'One-Shot': '$\\\\hat{p}^{\\\\dag}_{k s} = \\\\frac{1}{\\\\sqrt{N}} \\\\sum_i \\\\hat{p}^{\\\\dag}_{R_\\\\bm{i},s} e^{i k \\\\cdot R_i}$',\n",
              "    'Zero-Shot': '$\\\\HH_{\\\\kk s}$',\n",
              "    'human': '$c_{\\\\alpha,s}^\\\\dagger(k)= \\\\frac{1}{\\\\sqrt{N}} \\\\sum_i c_{\\\\alpha,s}^\\\\dagger(R_i) e^{i k \\\\cdot R_i}$',\n",
              "    'score': {'One-Shot (Haining)': 2, 'Zero-Shot (Haining)': 0}},\n",
              "   'momentum_creation_op': {'One-Shot': '$\\\\hat{p}^{\\\\dag}_{k s}, \\\\hat{p}^{\\\\dag}_{k s}, \\\\hat{d}^{\\\\dag}_{k s}$',\n",
              "    'Zero-Shot': '$\\\\hat{p}^{\\\\dag}_{x\\\\kk s}, \\\\hat{p}^{\\\\dag}_{y\\\\kk s}, \\\\hat{d}^{\\\\dag}_{\\\\kk s}$',\n",
              "    'human': '$c_{\\\\alpha,s}^\\\\dagger(k)$',\n",
              "    'score': {'One-Shot (Haining)': 2, 'Zero-Shot (Haining)': 0}},\n",
              "   'momentum_var': {'One-Shot': 'k',\n",
              "    'Zero-Shot': '$s$',\n",
              "    'human': '$k$',\n",
              "    'score': {'One-Shot (Haining)': 2, 'Zero-Shot (Haining)': 0}},\n",
              "   'real_creation_op': {'One-Shot': '$\\\\hat{p}^{\\\\dag}_{x\\\\kk s}, \\\\hat{p}^{\\\\dag}_{y\\\\kk s}, \\\\hat{d}^{\\\\dag}_{\\\\kk s}$',\n",
              "    'Zero-Shot': '$\\\\hat{C}^{\\\\dag}_{\\\\kk s}$',\n",
              "    'human': '$c_{\\\\alpha,s}^\\\\dagger(R_i)$',\n",
              "    'score': {'One-Shot (Haining)': 2, 'Zero-Shot (Haining)': 0}},\n",
              "   'real_variable': {'One-Shot': '$\\\\bm{R}_i$',\n",
              "    'Zero-Shot': '$\\\\kk$',\n",
              "    'human': '$i$',\n",
              "    'score': {'One-Shot (Haining)': 2, 'Zero-Shot (Haining)': 0}},\n",
              "   'second_int_symbol': {'One-Shot': '$\\\\HH_{\\\\rm MF}$',\n",
              "    'Zero-Shot': '$\\\\HH_{\\\\rm MF}$',\n",
              "    'human': None,\n",
              "    'score': {'One-Shot (Haining)': 2, 'Zero-Shot (Haining)': 2}},\n",
              "   'single-particle|second-quantized': {'One-Shot': 'second-quantized',\n",
              "    'Zero-Shot': 'second-quantized',\n",
              "    'human': None,\n",
              "    'score': {'One-Shot (Haining)': 2, 'Zero-Shot (Haining)': 2}}},\n",
              "  'source': {'1106.6060.tex': [[221, 267]]}},\n",
              " '1310.2674.tex': {'placeholder': {'Note that interaction have no position dependence now': {'One-Shot': True,\n",
              "    'Zero-Shot': True,\n",
              "    'human': None,\n",
              "    'score': {'One-Shot (Haining)': 2, 'Zero-Shot (Haining)': 2}},\n",
              "   'definition_of_Fourier_Transformation': {'One-Shot': '$d_{k,\\\\alpha,\\\\sigma}^\\\\dagger= \\\\frac{1}{\\\\sqrt{N}} \\\\sum_i d_{R_\\\\bm{i},\\\\alpha,\\\\sigma}^\\\\dagger e^{i k \\\\cdot R_i}$',\n",
              "    'Zero-Shot': 'T_{\\\\alpha,\\\\beta}(\\\\bk) d^\\\\dagger_{\\\\bk,\\\\alpha,\\\\sigma} d^{\\\\phantom\\\\dagger}_{\\\\bk,\\\\beta,\\\\sigma}',\n",
              "    'human': '$d^\\\\dagger_{\\\\bk,\\\\alpha,\\\\sigma}= \\\\frac{1}{\\\\sqrt{N}} \\\\sum_i d^\\\\dagger_{i,\\\\alpha,\\\\sigma} e^{i k \\\\cdot R_i}$',\n",
              "    'score': {'One-Shot (Haining)': 2, 'Zero-Shot (Haining)': 0}},\n",
              "   'momentum_creation_op': {'One-Shot': '$d_{k,\\\\alpha,\\\\sigma}^\\\\dagger$',\n",
              "    'Zero-Shot': 'd',\n",
              "    'human': 'd^\\\\dagger_{\\\\bk,\\\\alpha,\\\\sigma}',\n",
              "    'score': {'One-Shot (Haining)': 2, 'Zero-Shot (Haining)': 1}},\n",
              "   'momentum_var': {'One-Shot': 'k',\n",
              "    'Zero-Shot': '$\\\\alpha,\\\\beta,\\\\sigma$',\n",
              "    'human': '$k$',\n",
              "    'score': {'One-Shot (Haining)': 2, 'Zero-Shot (Haining)': 0}},\n",
              "   'real_creation_op': {'One-Shot': '$d^\\\\dagger_{\\\\bk,\\\\alpha,\\\\sigma}$',\n",
              "    'Zero-Shot': 'd',\n",
              "    'human': 'd^\\\\dagger_{i,\\\\alpha,\\\\sigma}',\n",
              "    'score': {'One-Shot (Haining)': 1, 'Zero-Shot (Haining)': 1}},\n",
              "   'real_variable': {'One-Shot': '$\\\\bm{R}_i$',\n",
              "    'Zero-Shot': '\\\\bk',\n",
              "    'human': 'i',\n",
              "    'score': {'One-Shot (Haining)': 2, 'Zero-Shot (Haining)': 0}},\n",
              "   'second_int_symbol': {'One-Shot': '$H$',\n",
              "    'Zero-Shot': '$U^{\\\\sigma\\\\sigma^\\\\prime}_{\\\\alpha,\\\\alpha^\\\\prime,\\\\beta,\\\\beta^\\\\prime}$',\n",
              "    'human': '\\\\hat{H}_{\\\\rm {int}}',\n",
              "    'score': {'One-Shot (Haining)': 2, 'Zero-Shot (Haining)': 0}},\n",
              "   'single-particle|second-quantized': {'One-Shot': 'second-quantized',\n",
              "    'Zero-Shot': 'second-quantized',\n",
              "    'human': None,\n",
              "    'score': {'One-Shot (Haining)': 2, 'Zero-Shot (Haining)': 2}}},\n",
              "  'source': {'1310.2674_SM.tex': [[67, 89]]}},\n",
              " '2008.08998.tex': {'placeholder': {'Note that interaction have no position dependence now': {'One-Shot': True,\n",
              "    'Zero-Shot': True,\n",
              "    'human': None,\n",
              "    'score': {'One-Shot (Haining)': 0, 'Zero-Shot (Haining)': 0}},\n",
              "   'definition_of_Fourier_Transformation': {'One-Shot': '$c_{\\\\bm{k}_\\\\alpha,s}^\\\\dagger= \\\\frac{1}{\\\\sqrt{\\\\mathcal{N}}} \\\\sum_{\\\\bm{R}} c_{\\\\bm{R},s}^\\\\dagger e^{i \\\\bm{k}_\\\\alpha \\\\cdot \\\\bm{R}}$',\n",
              "    'Zero-Shot': 'U(\\\\bm{q})=\\\\sum_{\\\\bm{R}}U(\\\\bm{R})e^{i\\\\bm{q}\\\\cdot\\\\bm{R}}',\n",
              "    'human': '$c_{\\\\bm{k},s}^\\\\dagger= \\\\frac{1}{\\\\sqrt{N}} \\\\sum_i c_{R_\\\\bm{i},s}^\\\\dagger e^{i k \\\\cdot R_i}$',\n",
              "    'score': {'One-Shot (Haining)': 2, 'Zero-Shot (Haining)': 0}},\n",
              "   'momentum_creation_op': {'One-Shot': '$c_{\\\\bm{k}_\\\\alpha,s}^\\\\dagger$',\n",
              "    'Zero-Shot': 'c_{\\\\bm{k}_\\\\alpha,s}^\\\\dagger',\n",
              "    'human': None,\n",
              "    'score': {'One-Shot (Haining)': 2, 'Zero-Shot (Haining)': 2}},\n",
              "   'momentum_var': {'One-Shot': '\\\\bm{k}_\\\\alpha',\n",
              "    'Zero-Shot': '\\\\bm{q}',\n",
              "    'human': None,\n",
              "    'score': {'One-Shot (Haining)': 2, 'Zero-Shot (Haining)': 2}},\n",
              "   'real_creation_op': {'One-Shot': '$c_{\\\\bm{R},s}^\\\\dagger$',\n",
              "    'Zero-Shot': 'c_{\\\\bm{k}_\\\\alpha,s}^\\\\dagger',\n",
              "    'human': 'c_{R_\\\\bm{i},s}^\\\\dagger',\n",
              "    'score': {'One-Shot (Haining)': 2, 'Zero-Shot (Haining)': 0}},\n",
              "   'real_variable': {'One-Shot': '\\\\bm{R}',\n",
              "    'Zero-Shot': '\\\\bm{R}',\n",
              "    'human': None,\n",
              "    'score': {'One-Shot (Haining)': 2, 'Zero-Shot (Haining)': 2}},\n",
              "   'second_int_symbol': {'One-Shot': '$H_1$',\n",
              "    'Zero-Shot': 'H_1',\n",
              "    'human': None,\n",
              "    'score': {'One-Shot (Haining)': 2, 'Zero-Shot (Haining)': 2}},\n",
              "   'single-particle|second-quantized': {'One-Shot': 'second-quantized',\n",
              "    'Zero-Shot': 'second-quantized',\n",
              "    'human': None,\n",
              "    'score': {'One-Shot (Haining)': 2, 'Zero-Shot (Haining)': 2}}},\n",
              "  'source': {'2008.08998.tex': [[225, 237]]}},\n",
              " '2012.04554.tex': {'placeholder': {'Note that interaction have no position dependence now': {'One-Shot': False,\n",
              "    'Zero-Shot': None,\n",
              "    'human': False,\n",
              "    'score': {'One-Shot (Haining)': 2, 'Zero-Shot (Haining)': 0}},\n",
              "   'definition_of_Fourier_Transformation': {'One-Shot': '$c_{k,s}^\\\\dagger= \\\\frac{1}{\\\\sqrt{N}} \\\\sum_i c_{R_\\\\bm{i},s}^\\\\dagger e^{i k \\\\cdot R_i}$',\n",
              "    'Zero-Shot': None,\n",
              "    'human': '$c_{{k},s}^\\\\dagger= \\\\frac{1}{\\\\sqrt{N}} \\\\sum_i c_{i,s}^\\\\dagger e^{i k \\\\cdot R_i}$',\n",
              "    'score': {'One-Shot (Haining)': 1, 'Zero-Shot (Haining)': 0}},\n",
              "   'momentum_creation_op': {'One-Shot': '$c_{k,s}^\\\\dagger$',\n",
              "    'Zero-Shot': None,\n",
              "    'human': 'c_{k,s}^\\\\dagger',\n",
              "    'score': {'One-Shot (Haining)': 2, 'Zero-Shot (Haining)': 0}},\n",
              "   'momentum_var': {'One-Shot': 'k',\n",
              "    'Zero-Shot': None,\n",
              "    'human': 'k',\n",
              "    'score': {'One-Shot (Haining)': 2, 'Zero-Shot (Haining)': 0}},\n",
              "   'real_creation_op': {'One-Shot': '$c_{i,s}^\\\\dagger$',\n",
              "    'Zero-Shot': 'c_{i,s}^\\\\dagger',\n",
              "    'human': None,\n",
              "    'score': {'One-Shot (Haining)': 2, 'Zero-Shot (Haining)': 2}},\n",
              "   'real_variable': {'One-Shot': '$\\\\bm{R}_i$',\n",
              "    'Zero-Shot': 'i',\n",
              "    'human': None,\n",
              "    'score': {'One-Shot (Haining)': 1, 'Zero-Shot (Haining)': 2}},\n",
              "   'second_int_symbol': {'One-Shot': '$H$',\n",
              "    'Zero-Shot': 'H',\n",
              "    'human': 'H_{int}',\n",
              "    'score': {'One-Shot (Haining)': 1, 'Zero-Shot (Haining)': 1}},\n",
              "   'single-particle|second-quantized': {'One-Shot': 'second-quantized',\n",
              "    'Zero-Shot': 'second-quantized',\n",
              "    'human': None,\n",
              "    'score': {'One-Shot (Haining)': 2, 'Zero-Shot (Haining)': 2}}},\n",
              "  'source': {'2012.04554.tex': [[39, 44]]}},\n",
              " '2110.11330.tex': {'placeholder': {'Note that interaction have no position dependence now': {'One-Shot': False,\n",
              "    'Zero-Shot': True,\n",
              "    'human': False,\n",
              "    'score': {'One-Shot (Haining)': 2, 'Zero-Shot (Haining)': 0}},\n",
              "   'definition_of_Fourier_Transformation': {'One-Shot': '$c_{k,s}^\\\\dagger= \\\\frac{1}{\\\\sqrt{N}} \\\\sum_i c_{R_\\\\bm{i},s}^\\\\dagger e^{i k \\\\cdot R_i}$',\n",
              "    'Zero-Shot': None,\n",
              "    'human': '$c_{k,s}^\\\\dagger= \\\\frac{1}{\\\\sqrt{N}} \\\\sum_i c_{R_\\\\bm{i},s}^\\\\dagger e^{i k \\\\cdot R_i}$',\n",
              "    'score': {'One-Shot (Haining)': 2, 'Zero-Shot (Haining)': 0}},\n",
              "   'momentum_creation_op': {'One-Shot': '$c_{k,s}^\\\\dagger$',\n",
              "    'Zero-Shot': None,\n",
              "    'human': '$c_{k,s}^\\\\dagger$',\n",
              "    'score': {'One-Shot (Haining)': 2, 'Zero-Shot (Haining)': 0}},\n",
              "   'momentum_var': {'One-Shot': 'k',\n",
              "    'Zero-Shot': None,\n",
              "    'human': 'k',\n",
              "    'score': {'One-Shot (Haining)': 2, 'Zero-Shot (Haining)': 0}},\n",
              "   'real_creation_op': {'One-Shot': '$c_{i,s}^\\\\dagger$',\n",
              "    'Zero-Shot': '$c_{i,s}^\\\\dagger$',\n",
              "    'human': None,\n",
              "    'score': {'One-Shot (Haining)': 2, 'Zero-Shot (Haining)': 2}},\n",
              "   'real_variable': {'One-Shot': '$\\\\bm{R}_i$',\n",
              "    'Zero-Shot': '$\\\\bm{R}_i$',\n",
              "    'human': None,\n",
              "    'score': {'One-Shot (Haining)': 2, 'Zero-Shot (Haining)': 2}},\n",
              "   'second_int_symbol': {'One-Shot': '$H$',\n",
              "    'Zero-Shot': '$H$',\n",
              "    'human': '$H_{int}$',\n",
              "    'score': {'One-Shot (Haining)': 0, 'Zero-Shot (Haining)': 0}},\n",
              "   'single-particle|second-quantized': {'One-Shot': 'second-quantized',\n",
              "    'Zero-Shot': 'second-quantized',\n",
              "    'human': None,\n",
              "    'score': {'One-Shot (Haining)': 2, 'Zero-Shot (Haining)': 2}}},\n",
              "  'source': {'2110.11330.tex': [[29, 36]]}},\n",
              " '2308.03843.tex': {'placeholder': {'Note that interaction have no position dependence now': {'One-Shot': True,\n",
              "    'Zero-Shot': True,\n",
              "    'human': False,\n",
              "    'score': {'One-Shot (Haining)': 0, 'Zero-Shot (Haining)': 0}},\n",
              "   'definition_of_Fourier_Transformation': {'One-Shot': '$V_{\\\\alpha\\\\beta}(\\\\mathbf{q})$',\n",
              "    'Zero-Shot': '$V_{\\\\alpha\\\\beta}(\\\\mathbf{q})$',\n",
              "    'human': '$d_{\\\\alpha,\\\\mathbf{k},\\\\sigma}^{\\\\dagger}= \\\\frac{1}{\\\\sqrt{N}} \\\\sum_i d_{\\\\alpha,i,\\\\sigma}^{\\\\dagger} e^{i k \\\\cdot R_i}$',\n",
              "    'score': {'One-Shot (Haining)': 0, 'Zero-Shot (Haining)': 0}},\n",
              "   'momentum_creation_op': {'One-Shot': '$\\\\hat{n}_{\\\\alpha}(\\\\mathbf{q})$',\n",
              "    'Zero-Shot': '$\\\\hat{n}_{\\\\alpha}(\\\\mathbf{q})$',\n",
              "    'human': 'd_{\\\\alpha,\\\\mathbf{k},\\\\sigma}^{\\\\dagger}',\n",
              "    'score': {'One-Shot (Haining)': 0, 'Zero-Shot (Haining)': 0}},\n",
              "   'momentum_var': {'One-Shot': '$\\\\mathbf{q}$',\n",
              "    'Zero-Shot': '$\\\\mathbf{q}$',\n",
              "    'human': None,\n",
              "    'score': {'One-Shot (Haining)': 2, 'Zero-Shot (Haining)': 2}},\n",
              "   'real_creation_op': {'One-Shot': '$\\\\hat{n}_{\\\\alpha}$',\n",
              "    'Zero-Shot': '$\\\\hat{n}_{\\\\alpha}$',\n",
              "    'human': 'd_{\\\\alpha,i,\\\\sigma}^{\\\\dagger}',\n",
              "    'score': {'One-Shot (Haining)': 0, 'Zero-Shot (Haining)': 0}},\n",
              "   'real_variable': {'One-Shot': '$\\\\alpha$',\n",
              "    'Zero-Shot': '$\\\\alpha$',\n",
              "    'human': '$i$',\n",
              "    'score': {'One-Shot (Haining)': 0, 'Zero-Shot (Haining)': 0}},\n",
              "   'second_int_symbol': {'One-Shot': '$\\\\mathcal{H}_{\\\\text{C}}$',\n",
              "    'Zero-Shot': '$\\\\mathcal{H}_{\\\\text{C}}$',\n",
              "    'human': None,\n",
              "    'score': {'One-Shot (Haining)': 2, 'Zero-Shot (Haining)': 2}},\n",
              "   'single-particle|second-quantized': {'One-Shot': 'second-quantized',\n",
              "    'Zero-Shot': 'second-quantized',\n",
              "    'human': None,\n",
              "    'score': {'One-Shot (Haining)': 2, 'Zero-Shot (Haining)': 2}}},\n",
              "  'source': {'2308.03843.tex': [[355, 360]]}}}"
            ]
          },
          "metadata": {},
          "execution_count": 7
        }
      ]
    },
    {
      "cell_type": "code",
      "source": [
        "oneshot_scores.keys()"
      ],
      "metadata": {
        "colab": {
          "base_uri": "https://localhost:8080/"
        },
        "id": "2_jXUACYEzAg",
        "outputId": "9ce971f6-84d9-4a77-c1e4-1be3b01cba64"
      },
      "execution_count": null,
      "outputs": [
        {
          "output_type": "execute_result",
          "data": {
            "text/plain": [
              "dict_keys(['1106.6060.tex', '1310.2674.tex', '2008.08998.tex', '2012.04554.tex', '2110.11330.tex', '2308.03843.tex'])"
            ]
          },
          "metadata": {},
          "execution_count": 8
        }
      ]
    },
    {
      "cell_type": "code",
      "source": [
        "import scipy"
      ],
      "metadata": {
        "id": "u2Jrde9Z_EK7"
      },
      "execution_count": null,
      "outputs": []
    },
    {
      "cell_type": "code",
      "source": [
        "def aggregate(oneshot_scores, exclude_paper, placeholder_list):\n",
        "  Nzs_occ = {0: 0, 1: 0, 2: 0}\n",
        "  Nos_occ = {0: 0, 1: 0, 2: 0}\n",
        "  pl_agg = {}\n",
        "  for ph in placeholder_list:\n",
        "    pl_agg[ph] = {'Zero-Shot': [], 'One-Shot': [], 'Number of Papers': 0}\n",
        "  for paper in oneshot_scores:\n",
        "    if paper==exclude_paper: # to exclude the example paper\n",
        "      continue\n",
        "    print(paper)\n",
        "    for ph in placeholder_list:\n",
        "      try:\n",
        "        zs_score = int(oneshot_scores[paper]['placeholder'][ph]['score']['Zero-Shot (Haining)']) # casts everything to 0, 1, 2\n",
        "        os_score = int(oneshot_scores[paper]['placeholder'][ph]['score']['One-Shot (Haining)'])\n",
        "        Nzs_occ[zs_score] +=1\n",
        "        Nos_occ[os_score] +=1\n",
        "\n",
        "        pl_agg[ph]['Zero-Shot'].append(zs_score)\n",
        "        pl_agg[ph]['One-Shot'].append(os_score)\n",
        "        pl_agg[ph]['Number of Papers'] += 1\n",
        "      except TypeError as e:\n",
        "        print(paper, ph, e)\n",
        "\n",
        "  for ph in pl_agg:\n",
        "    pl_agg[ph]['Zero-Shot'] = np.array(pl_agg[ph]['Zero-Shot'])\n",
        "    pl_agg[ph]['One-Shot'] = np.array(pl_agg[ph]['One-Shot'])\n",
        "    pl_agg[ph]['Zero-Shot_mean'] = np.mean(pl_agg[ph]['Zero-Shot'])\n",
        "    pl_agg[ph]['One-Shot_mean'] = np.mean(pl_agg[ph]['One-Shot'])\n",
        "    pl_agg[ph]['Zero-Shot_sem'] = scipy.stats.sem(pl_agg[ph]['Zero-Shot'])\n",
        "    pl_agg[ph]['One-Shot_sem'] = scipy.stats.sem(pl_agg[ph]['One-Shot'])\n",
        "  return pl_agg, Nzs_occ, Nos_occ\n"
      ],
      "metadata": {
        "id": "nEvE9jL3Euk1"
      },
      "execution_count": null,
      "outputs": []
    },
    {
      "cell_type": "code",
      "source": [
        "pl_performance, zs_freq, os_freq = aggregate(oneshot_scores, '2110.11330.tex', list(oneshot_scores['1106.6060.tex']['placeholder'].keys()))"
      ],
      "metadata": {
        "colab": {
          "base_uri": "https://localhost:8080/"
        },
        "id": "7WVrfjnNFfIr",
        "outputId": "e6c23513-db42-4236-84e9-e38ca55a36ad"
      },
      "execution_count": null,
      "outputs": [
        {
          "output_type": "stream",
          "name": "stdout",
          "text": [
            "1106.6060.tex\n",
            "1310.2674.tex\n",
            "2008.08998.tex\n",
            "2012.04554.tex\n",
            "2308.03843.tex\n"
          ]
        }
      ]
    },
    {
      "cell_type": "code",
      "source": [
        "pl_performance"
      ],
      "metadata": {
        "colab": {
          "base_uri": "https://localhost:8080/"
        },
        "id": "AaFdMS6CG6xL",
        "outputId": "c0ac42fd-79a6-49be-ab90-a7b7b5f82277"
      },
      "execution_count": null,
      "outputs": [
        {
          "output_type": "execute_result",
          "data": {
            "text/plain": [
              "{'Note that interaction have no position dependence now': {'Zero-Shot': array([2, 2, 0, 0, 0]),\n",
              "  'One-Shot': array([2, 2, 0, 2, 0]),\n",
              "  'Number of Papers': 5,\n",
              "  'Zero-Shot_mean': 0.8,\n",
              "  'One-Shot_mean': 1.2,\n",
              "  'Zero-Shot_sem': 0.48989794855663565,\n",
              "  'One-Shot_sem': 0.48989794855663565},\n",
              " 'definition_of_Fourier_Transformation': {'Zero-Shot': array([0, 0, 0, 0, 0]),\n",
              "  'One-Shot': array([2, 2, 2, 1, 0]),\n",
              "  'Number of Papers': 5,\n",
              "  'Zero-Shot_mean': 0.0,\n",
              "  'One-Shot_mean': 1.4,\n",
              "  'Zero-Shot_sem': 0.0,\n",
              "  'One-Shot_sem': 0.39999999999999997},\n",
              " 'momentum_creation_op': {'Zero-Shot': array([0, 1, 2, 0, 0]),\n",
              "  'One-Shot': array([2, 2, 2, 2, 0]),\n",
              "  'Number of Papers': 5,\n",
              "  'Zero-Shot_mean': 0.6,\n",
              "  'One-Shot_mean': 1.6,\n",
              "  'Zero-Shot_sem': 0.3999999999999999,\n",
              "  'One-Shot_sem': 0.39999999999999997},\n",
              " 'momentum_var': {'Zero-Shot': array([0, 0, 2, 0, 2]),\n",
              "  'One-Shot': array([2, 2, 2, 2, 2]),\n",
              "  'Number of Papers': 5,\n",
              "  'Zero-Shot_mean': 0.8,\n",
              "  'One-Shot_mean': 2.0,\n",
              "  'Zero-Shot_sem': 0.48989794855663565,\n",
              "  'One-Shot_sem': 0.0},\n",
              " 'real_creation_op': {'Zero-Shot': array([0, 1, 0, 2, 0]),\n",
              "  'One-Shot': array([2, 1, 2, 2, 0]),\n",
              "  'Number of Papers': 5,\n",
              "  'Zero-Shot_mean': 0.6,\n",
              "  'One-Shot_mean': 1.4,\n",
              "  'Zero-Shot_sem': 0.39999999999999997,\n",
              "  'One-Shot_sem': 0.39999999999999997},\n",
              " 'real_variable': {'Zero-Shot': array([0, 0, 2, 2, 0]),\n",
              "  'One-Shot': array([2, 2, 2, 1, 0]),\n",
              "  'Number of Papers': 5,\n",
              "  'Zero-Shot_mean': 0.8,\n",
              "  'One-Shot_mean': 1.4,\n",
              "  'Zero-Shot_sem': 0.48989794855663565,\n",
              "  'One-Shot_sem': 0.39999999999999997},\n",
              " 'second_int_symbol': {'Zero-Shot': array([2, 0, 2, 1, 2]),\n",
              "  'One-Shot': array([2, 2, 2, 1, 2]),\n",
              "  'Number of Papers': 5,\n",
              "  'Zero-Shot_mean': 1.4,\n",
              "  'One-Shot_mean': 1.8,\n",
              "  'Zero-Shot_sem': 0.39999999999999997,\n",
              "  'One-Shot_sem': 0.19999999999999998},\n",
              " 'single-particle|second-quantized': {'Zero-Shot': array([2, 2, 2, 2, 2]),\n",
              "  'One-Shot': array([2, 2, 2, 2, 2]),\n",
              "  'Number of Papers': 5,\n",
              "  'Zero-Shot_mean': 2.0,\n",
              "  'One-Shot_mean': 2.0,\n",
              "  'Zero-Shot_sem': 0.0,\n",
              "  'One-Shot_sem': 0.0}}"
            ]
          },
          "metadata": {},
          "execution_count": 12
        }
      ]
    },
    {
      "cell_type": "code",
      "source": [
        "zs_freq"
      ],
      "metadata": {
        "colab": {
          "base_uri": "https://localhost:8080/"
        },
        "id": "zDcgHvbhGxVP",
        "outputId": "a52f2e81-0cea-48d1-e954-07dcd3f56ba2"
      },
      "execution_count": null,
      "outputs": [
        {
          "output_type": "execute_result",
          "data": {
            "text/plain": [
              "{0: 21, 1: 3, 2: 16}"
            ]
          },
          "metadata": {},
          "execution_count": 13
        }
      ]
    },
    {
      "cell_type": "code",
      "source": [
        "os_freq"
      ],
      "metadata": {
        "colab": {
          "base_uri": "https://localhost:8080/"
        },
        "id": "lmWbDhMcG1me",
        "outputId": "9af5d695-e909-41c3-d7ea-987c88c93137"
      },
      "execution_count": null,
      "outputs": [
        {
          "output_type": "execute_result",
          "data": {
            "text/plain": [
              "{0: 6, 1: 4, 2: 30}"
            ]
          },
          "metadata": {},
          "execution_count": 14
        }
      ]
    },
    {
      "cell_type": "code",
      "source": [
        "np.array(list(zs_freq.values())).sum(), np.array(list(os_freq.values())).sum()"
      ],
      "metadata": {
        "colab": {
          "base_uri": "https://localhost:8080/"
        },
        "id": "aq2nFqdKIwCV",
        "outputId": "1cd56140-0ff6-4dd6-8a3f-309f396d2ca7"
      },
      "execution_count": null,
      "outputs": [
        {
          "output_type": "execute_result",
          "data": {
            "text/plain": [
              "(40, 40)"
            ]
          },
          "metadata": {},
          "execution_count": 15
        }
      ]
    },
    {
      "cell_type": "code",
      "source": [
        "pl_performance"
      ],
      "metadata": {
        "colab": {
          "base_uri": "https://localhost:8080/"
        },
        "id": "kIwbhyIm32ca",
        "outputId": "322c0b0a-efc5-4a5f-a357-e8fc6d1226cd"
      },
      "execution_count": null,
      "outputs": [
        {
          "output_type": "execute_result",
          "data": {
            "text/plain": [
              "{'Note that interaction have no position dependence now': {'Zero-Shot': array([2, 2, 0, 0, 0]),\n",
              "  'One-Shot': array([2, 2, 0, 2, 0]),\n",
              "  'Number of Papers': 5,\n",
              "  'Zero-Shot_mean': 0.8,\n",
              "  'One-Shot_mean': 1.2,\n",
              "  'Zero-Shot_sem': 0.48989794855663565,\n",
              "  'One-Shot_sem': 0.48989794855663565},\n",
              " 'definition_of_Fourier_Transformation': {'Zero-Shot': array([0, 0, 0, 0, 0]),\n",
              "  'One-Shot': array([2, 2, 2, 1, 0]),\n",
              "  'Number of Papers': 5,\n",
              "  'Zero-Shot_mean': 0.0,\n",
              "  'One-Shot_mean': 1.4,\n",
              "  'Zero-Shot_sem': 0.0,\n",
              "  'One-Shot_sem': 0.39999999999999997},\n",
              " 'momentum_creation_op': {'Zero-Shot': array([0, 1, 2, 0, 0]),\n",
              "  'One-Shot': array([2, 2, 2, 2, 0]),\n",
              "  'Number of Papers': 5,\n",
              "  'Zero-Shot_mean': 0.6,\n",
              "  'One-Shot_mean': 1.6,\n",
              "  'Zero-Shot_sem': 0.3999999999999999,\n",
              "  'One-Shot_sem': 0.39999999999999997},\n",
              " 'momentum_var': {'Zero-Shot': array([0, 0, 2, 0, 2]),\n",
              "  'One-Shot': array([2, 2, 2, 2, 2]),\n",
              "  'Number of Papers': 5,\n",
              "  'Zero-Shot_mean': 0.8,\n",
              "  'One-Shot_mean': 2.0,\n",
              "  'Zero-Shot_sem': 0.48989794855663565,\n",
              "  'One-Shot_sem': 0.0},\n",
              " 'real_creation_op': {'Zero-Shot': array([0, 1, 0, 2, 0]),\n",
              "  'One-Shot': array([2, 1, 2, 2, 0]),\n",
              "  'Number of Papers': 5,\n",
              "  'Zero-Shot_mean': 0.6,\n",
              "  'One-Shot_mean': 1.4,\n",
              "  'Zero-Shot_sem': 0.39999999999999997,\n",
              "  'One-Shot_sem': 0.39999999999999997},\n",
              " 'real_variable': {'Zero-Shot': array([0, 0, 2, 2, 0]),\n",
              "  'One-Shot': array([2, 2, 2, 1, 0]),\n",
              "  'Number of Papers': 5,\n",
              "  'Zero-Shot_mean': 0.8,\n",
              "  'One-Shot_mean': 1.4,\n",
              "  'Zero-Shot_sem': 0.48989794855663565,\n",
              "  'One-Shot_sem': 0.39999999999999997},\n",
              " 'second_int_symbol': {'Zero-Shot': array([2, 0, 2, 1, 2]),\n",
              "  'One-Shot': array([2, 2, 2, 1, 2]),\n",
              "  'Number of Papers': 5,\n",
              "  'Zero-Shot_mean': 1.4,\n",
              "  'One-Shot_mean': 1.8,\n",
              "  'Zero-Shot_sem': 0.39999999999999997,\n",
              "  'One-Shot_sem': 0.19999999999999998},\n",
              " 'single-particle|second-quantized': {'Zero-Shot': array([2, 2, 2, 2, 2]),\n",
              "  'One-Shot': array([2, 2, 2, 2, 2]),\n",
              "  'Number of Papers': 5,\n",
              "  'Zero-Shot_mean': 2.0,\n",
              "  'One-Shot_mean': 2.0,\n",
              "  'Zero-Shot_sem': 0.0,\n",
              "  'One-Shot_sem': 0.0}}"
            ]
          },
          "metadata": {},
          "execution_count": 16
        }
      ]
    },
    {
      "cell_type": "code",
      "source": [
        "pl_performance.values()"
      ],
      "metadata": {
        "colab": {
          "base_uri": "https://localhost:8080/"
        },
        "id": "oXVV98Hkykpy",
        "outputId": "492a36d6-675e-4bf1-e3d6-2bde77f58ee1"
      },
      "execution_count": null,
      "outputs": [
        {
          "output_type": "execute_result",
          "data": {
            "text/plain": [
              "dict_values([{'Zero-Shot': array([2, 2, 0, 0, 0]), 'One-Shot': array([2, 2, 0, 2, 0]), 'Number of Papers': 5, 'Zero-Shot_mean': 0.8, 'One-Shot_mean': 1.2, 'Zero-Shot_sem': 0.48989794855663565, 'One-Shot_sem': 0.48989794855663565}, {'Zero-Shot': array([0, 0, 0, 0, 0]), 'One-Shot': array([2, 2, 2, 1, 0]), 'Number of Papers': 5, 'Zero-Shot_mean': 0.0, 'One-Shot_mean': 1.4, 'Zero-Shot_sem': 0.0, 'One-Shot_sem': 0.39999999999999997}, {'Zero-Shot': array([0, 1, 2, 0, 0]), 'One-Shot': array([2, 2, 2, 2, 0]), 'Number of Papers': 5, 'Zero-Shot_mean': 0.6, 'One-Shot_mean': 1.6, 'Zero-Shot_sem': 0.3999999999999999, 'One-Shot_sem': 0.39999999999999997}, {'Zero-Shot': array([0, 0, 2, 0, 2]), 'One-Shot': array([2, 2, 2, 2, 2]), 'Number of Papers': 5, 'Zero-Shot_mean': 0.8, 'One-Shot_mean': 2.0, 'Zero-Shot_sem': 0.48989794855663565, 'One-Shot_sem': 0.0}, {'Zero-Shot': array([0, 1, 0, 2, 0]), 'One-Shot': array([2, 1, 2, 2, 0]), 'Number of Papers': 5, 'Zero-Shot_mean': 0.6, 'One-Shot_mean': 1.4, 'Zero-Shot_sem': 0.39999999999999997, 'One-Shot_sem': 0.39999999999999997}, {'Zero-Shot': array([0, 0, 2, 2, 0]), 'One-Shot': array([2, 2, 2, 1, 0]), 'Number of Papers': 5, 'Zero-Shot_mean': 0.8, 'One-Shot_mean': 1.4, 'Zero-Shot_sem': 0.48989794855663565, 'One-Shot_sem': 0.39999999999999997}, {'Zero-Shot': array([2, 0, 2, 1, 2]), 'One-Shot': array([2, 2, 2, 1, 2]), 'Number of Papers': 5, 'Zero-Shot_mean': 1.4, 'One-Shot_mean': 1.8, 'Zero-Shot_sem': 0.39999999999999997, 'One-Shot_sem': 0.19999999999999998}, {'Zero-Shot': array([2, 2, 2, 2, 2]), 'One-Shot': array([2, 2, 2, 2, 2]), 'Number of Papers': 5, 'Zero-Shot_mean': 2.0, 'One-Shot_mean': 2.0, 'Zero-Shot_sem': 0.0, 'One-Shot_sem': 0.0}])"
            ]
          },
          "metadata": {},
          "execution_count": 32
        }
      ]
    },
    {
      "cell_type": "code",
      "source": [
        "import matplotlib.pyplot as plt\n",
        "import scienceplots\n",
        "plt.style.use(['science', 'nature', 'no-latex', 'notebook'])\n",
        "width = 0.3\n",
        "\n",
        "fig, ax = plt.subplots()\n",
        "ax.barh(np.arange(8), [e['Zero-Shot_mean'] for e in pl_performance.values()], xerr=[e['Zero-Shot_sem'] for e in pl_performance.values()], height=width, label = 'Zero-Shot')\n",
        "ax.barh(np.arange(8)+width, [e['One-Shot_mean'] for e in pl_performance.values()], xerr=[e['One-Shot_sem'] for e in pl_performance.values()], height=width, label = 'One-Shot')\n",
        "ax.set_yticks(np.arange(8)+width, pl_performance.keys())\n",
        "ax.legend()\n",
        "ax.invert_yaxis()\n",
        "# plt.savefig(os.path.join(ONESHOT_DIR, 'placeholderwise_performance.png'))\n",
        "plt.show()"
      ],
      "metadata": {
        "colab": {
          "base_uri": "https://localhost:8080/",
          "height": 491
        },
        "id": "GGTASOVmJBA0",
        "outputId": "65bbe315-34ce-4b02-9343-379aa2e3ad0b"
      },
      "execution_count": null,
      "outputs": [
        {
          "output_type": "display_data",
          "data": {
            "text/plain": [
              "<Figure size 800x600 with 1 Axes>"
            ],
            "image/png": "[encoded data removed]"
          },
          "metadata": {}
        }
      ]
    },
    {
      "cell_type": "code",
      "source": [
        "print('Zero Shot Aggregate')\n",
        "print((zs_freq[0]*0 + zs_freq[1]*1 + zs_freq[2]*2)/40)\n",
        "print('One Shot Aggregate')\n",
        "print((os_freq[0]*0 + os_freq[1]*1 + os_freq[2]*2)/40)"
      ],
      "metadata": {
        "id": "IJ8bjbvcHuzC",
        "colab": {
          "base_uri": "https://localhost:8080/"
        },
        "outputId": "75329138-9f95-4289-b92d-d6bfedaf8a29"
      },
      "execution_count": null,
      "outputs": [
        {
          "output_type": "stream",
          "name": "stdout",
          "text": [
            "Zero Shot Aggregate\n",
            "0.875\n",
            "One Shot Aggregate\n",
            "1.6\n"
          ]
        }
      ]
    },
    {
      "cell_type": "code",
      "source": [
        "zs_combined = []\n",
        "os_combined = []\n",
        "for ph in pl_performance:\n",
        "  zs_combined.append(pl_performance[ph]['Zero-Shot'])\n",
        "  os_combined.append(pl_performance[ph]['One-Shot'])\n",
        "zs_combined = np.hstack(zs_combined)\n",
        "os_combined = np.hstack(os_combined)"
      ],
      "metadata": {
        "id": "dtQv-CJSwc5U"
      },
      "execution_count": null,
      "outputs": []
    },
    {
      "cell_type": "code",
      "source": [
        "len(zs_combined), len(os_combined)"
      ],
      "metadata": {
        "colab": {
          "base_uri": "https://localhost:8080/"
        },
        "id": "sgdvci1BxAMe",
        "outputId": "7c672d2a-adc7-4738-a0ec-08ce7521244f"
      },
      "execution_count": null,
      "outputs": [
        {
          "output_type": "execute_result",
          "data": {
            "text/plain": [
              "(40, 40)"
            ]
          },
          "metadata": {},
          "execution_count": 24
        }
      ]
    },
    {
      "cell_type": "code",
      "source": [
        "print('Zero-Shot Performance over all 40 placeholders')\n",
        "zs_combined.mean(), scipy.stats.sem(zs_combined)"
      ],
      "metadata": {
        "colab": {
          "base_uri": "https://localhost:8080/"
        },
        "id": "jK-G6YW3waQC",
        "outputId": "6ef2297d-375d-461d-ea43-eb4d0ef2baf1"
      },
      "execution_count": null,
      "outputs": [
        {
          "output_type": "stream",
          "name": "stdout",
          "text": [
            "Zero-Shot Performance over all 40 placeholders\n"
          ]
        },
        {
          "output_type": "execute_result",
          "data": {
            "text/plain": [
              "(0.875, 0.15270005793157937)"
            ]
          },
          "metadata": {},
          "execution_count": 27
        }
      ]
    },
    {
      "cell_type": "code",
      "source": [
        "print('One-Shot Performance over all 40 placeholders')\n",
        "os_combined.mean(), scipy.stats.sem(os_combined)"
      ],
      "metadata": {
        "colab": {
          "base_uri": "https://localhost:8080/"
        },
        "id": "DJ_i_f5bxPXS",
        "outputId": "ccb63038-a3f7-4dc7-c7c4-b1b68d149cb0"
      },
      "execution_count": null,
      "outputs": [
        {
          "output_type": "stream",
          "name": "stdout",
          "text": [
            "One-Shot Performance over all 40 placeholders\n"
          ]
        },
        {
          "output_type": "execute_result",
          "data": {
            "text/plain": [
              "(1.6, 0.11766968108291043)"
            ]
          },
          "metadata": {},
          "execution_count": 28
        }
      ]
    },
    {
      "cell_type": "code",
      "source": [
        "pl_performance.keys()"
      ],
      "metadata": {
        "colab": {
          "base_uri": "https://localhost:8080/"
        },
        "id": "poD4AEvKF2x5",
        "outputId": "d6be7e25-4644-42a7-96b3-21199dd75bc4"
      },
      "execution_count": null,
      "outputs": [
        {
          "output_type": "execute_result",
          "data": {
            "text/plain": [
              "dict_keys(['Note that interaction have no position dependence now', 'definition_of_Fourier_Transformation', 'momentum_creation_op', 'momentum_var', 'real_creation_op', 'real_variable', 'second_int_symbol', 'single-particle|second-quantized'])"
            ]
          },
          "metadata": {},
          "execution_count": 36
        }
      ]
    },
    {
      "cell_type": "code",
      "source": [
        "# testing\n",
        "phname = 'momentum_creation_op'\n",
        "print(pl_performance[phname]['Zero-Shot'], [oneshot_scores[k]['placeholder'][phname]['score']['Zero-Shot (Haining)'] for k in oneshot_scores if k!='2110.11330.tex'])\n",
        "print(pl_performance[phname]['One-Shot'], [oneshot_scores[k]['placeholder'][phname]['score']['One-Shot (Haining)'] for k in oneshot_scores if k!='2110.11330.tex'])"
      ],
      "metadata": {
        "colab": {
          "base_uri": "https://localhost:8080/"
        },
        "id": "zIJCeAjwH2li",
        "outputId": "88d96457-eb1d-4339-cc33-fb4928d1f4c5"
      },
      "execution_count": null,
      "outputs": [
        {
          "output_type": "stream",
          "name": "stdout",
          "text": [
            "[0 1 2 0 0] [0, 1, 2, 0, 0]\n",
            "[2 2 2 2 0] [2, 2, 2, 2, 0]\n"
          ]
        }
      ]
    },
    {
      "cell_type": "code",
      "source": [
        "pl_performance[phname]['Zero-Shot_mean'], pl_performance[phname]['One-Shot_mean']"
      ],
      "metadata": {
        "colab": {
          "base_uri": "https://localhost:8080/"
        },
        "id": "vl7S-JiMIy5l",
        "outputId": "527ea3c3-40ca-4ff4-b56c-f3568144a5c7"
      },
      "execution_count": null,
      "outputs": [
        {
          "output_type": "execute_result",
          "data": {
            "text/plain": [
              "(0.6, 1.6)"
            ]
          },
          "metadata": {},
          "execution_count": 62
        }
      ]
    },
    {
      "cell_type": "code",
      "source": [
        "pl_performance[phname]['Zero-Shot_sem'], pl_performance[phname]['One-Shot_sem']"
      ],
      "metadata": {
        "id": "EP8NT3nm7En3",
        "colab": {
          "base_uri": "https://localhost:8080/"
        },
        "outputId": "39954b09-8ec1-4a1d-de36-7086fec1e6c8"
      },
      "execution_count": null,
      "outputs": [
        {
          "output_type": "execute_result",
          "data": {
            "text/plain": [
              "(0.3999999999999999, 0.39999999999999997)"
            ]
          },
          "metadata": {},
          "execution_count": 63
        }
      ]
    },
    {
      "cell_type": "code",
      "source": [
        "np.std(np.array([2, 2, 2, 2, 0]), ddof=1)/np.sqrt(5)"
      ],
      "metadata": {
        "colab": {
          "base_uri": "https://localhost:8080/"
        },
        "id": "nFWofaWcEnz5",
        "outputId": "517fef63-4655-4e83-8462-09a370a9d8f0"
      },
      "execution_count": null,
      "outputs": [
        {
          "output_type": "execute_result",
          "data": {
            "text/plain": [
              "0.39999999999999997"
            ]
          },
          "metadata": {},
          "execution_count": 64
        }
      ]
    },
    {
      "cell_type": "code",
      "source": [],
      "metadata": {
        "id": "sxPCLxuqJCjy"
      },
      "execution_count": null,
      "outputs": []
    }
  ]
}