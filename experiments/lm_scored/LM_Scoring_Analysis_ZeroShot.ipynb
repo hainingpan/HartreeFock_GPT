{
  "nbformat": 4,
  "nbformat_minor": 0,
  "metadata": {
    "colab": {
      "provenance": []
    },
    "kernelspec": {
      "name": "python3",
      "display_name": "Python 3"
    },
    "language_info": {
      "name": "python"
    }
  },
  "cells": [
    {
      "cell_type": "code",
      "source": [
        "!pip install scienceplots"
      ],
      "metadata": {
        "colab": {
          "base_uri": "https://localhost:8080/"
        },
        "id": "8KmbNyy3O20y",
        "outputId": "a4bc7791-90e2-4ec3-f292-c264530149ec"
      },
      "execution_count": null,
      "outputs": [
        {
          "output_type": "stream",
          "name": "stdout",
          "text": [
            "Requirement already satisfied: scienceplots in /usr/local/lib/python3.10/dist-packages (2.1.1)\n",
            "Requirement already satisfied: matplotlib in /usr/local/lib/python3.10/dist-packages (from scienceplots) (3.7.1)\n",
            "Requirement already satisfied: contourpy>=1.0.1 in /usr/local/lib/python3.10/dist-packages (from matplotlib->scienceplots) (1.2.0)\n",
            "Requirement already satisfied: cycler>=0.10 in /usr/local/lib/python3.10/dist-packages (from matplotlib->scienceplots) (0.12.1)\n",
            "Requirement already satisfied: fonttools>=4.22.0 in /usr/local/lib/python3.10/dist-packages (from matplotlib->scienceplots) (4.46.0)\n",
            "Requirement already satisfied: kiwisolver>=1.0.1 in /usr/local/lib/python3.10/dist-packages (from matplotlib->scienceplots) (1.4.5)\n",
            "Requirement already satisfied: numpy>=1.20 in /usr/local/lib/python3.10/dist-packages (from matplotlib->scienceplots) (1.23.5)\n",
            "Requirement already satisfied: packaging>=20.0 in /usr/local/lib/python3.10/dist-packages (from matplotlib->scienceplots) (23.2)\n",
            "Requirement already satisfied: pillow>=6.2.0 in /usr/local/lib/python3.10/dist-packages (from matplotlib->scienceplots) (9.4.0)\n",
            "Requirement already satisfied: pyparsing>=2.3.1 in /usr/local/lib/python3.10/dist-packages (from matplotlib->scienceplots) (3.1.1)\n",
            "Requirement already satisfied: python-dateutil>=2.7 in /usr/local/lib/python3.10/dist-packages (from matplotlib->scienceplots) (2.8.2)\n",
            "Requirement already satisfied: six>=1.5 in /usr/local/lib/python3.10/dist-packages (from python-dateutil>=2.7->matplotlib->scienceplots) (1.16.0)\n"
          ]
        }
      ]
    },
    {
      "cell_type": "code",
      "execution_count": null,
      "metadata": {
        "colab": {
          "base_uri": "https://localhost:8080/"
        },
        "id": "IbPZ0pkDjuY3",
        "outputId": "14a59bff-faf9-4485-cd58-c66fb277bf35"
      },
      "outputs": [
        {
          "output_type": "stream",
          "name": "stdout",
          "text": [
            "fatal: destination path 'HartreeFock_GPT' already exists and is not an empty directory.\n"
          ]
        }
      ],
      "source": [
        "!git clone https://github.com/nmudur/HartreeFock_GPT.git"
      ]
    },
    {
      "cell_type": "code",
      "source": [
        "!pip install openai==0.28\n",
        "!pip install tiktoken\n",
        "!pip install python-dotenv"
      ],
      "metadata": {
        "colab": {
          "base_uri": "https://localhost:8080/"
        },
        "id": "BBv4tjxpjylj",
        "outputId": "8e33028d-fabf-4376-b857-a71d14165c15"
      },
      "execution_count": null,
      "outputs": [
        {
          "output_type": "stream",
          "name": "stdout",
          "text": [
            "Requirement already satisfied: openai==0.28 in /usr/local/lib/python3.10/dist-packages (0.28.0)\n",
            "Requirement already satisfied: requests>=2.20 in /usr/local/lib/python3.10/dist-packages (from openai==0.28) (2.31.0)\n",
            "Requirement already satisfied: tqdm in /usr/local/lib/python3.10/dist-packages (from openai==0.28) (4.66.1)\n",
            "Requirement already satisfied: aiohttp in /usr/local/lib/python3.10/dist-packages (from openai==0.28) (3.9.1)\n",
            "Requirement already satisfied: charset-normalizer<4,>=2 in /usr/local/lib/python3.10/dist-packages (from requests>=2.20->openai==0.28) (3.3.2)\n",
            "Requirement already satisfied: idna<4,>=2.5 in /usr/local/lib/python3.10/dist-packages (from requests>=2.20->openai==0.28) (3.6)\n",
            "Requirement already satisfied: urllib3<3,>=1.21.1 in /usr/local/lib/python3.10/dist-packages (from requests>=2.20->openai==0.28) (2.0.7)\n",
            "Requirement already satisfied: certifi>=2017.4.17 in /usr/local/lib/python3.10/dist-packages (from requests>=2.20->openai==0.28) (2023.11.17)\n",
            "Requirement already satisfied: attrs>=17.3.0 in /usr/local/lib/python3.10/dist-packages (from aiohttp->openai==0.28) (23.1.0)\n",
            "Requirement already satisfied: multidict<7.0,>=4.5 in /usr/local/lib/python3.10/dist-packages (from aiohttp->openai==0.28) (6.0.4)\n",
            "Requirement already satisfied: yarl<2.0,>=1.0 in /usr/local/lib/python3.10/dist-packages (from aiohttp->openai==0.28) (1.9.3)\n",
            "Requirement already satisfied: frozenlist>=1.1.1 in /usr/local/lib/python3.10/dist-packages (from aiohttp->openai==0.28) (1.4.0)\n",
            "Requirement already satisfied: aiosignal>=1.1.2 in /usr/local/lib/python3.10/dist-packages (from aiohttp->openai==0.28) (1.3.1)\n",
            "Requirement already satisfied: async-timeout<5.0,>=4.0 in /usr/local/lib/python3.10/dist-packages (from aiohttp->openai==0.28) (4.0.3)\n",
            "Requirement already satisfied: tiktoken in /usr/local/lib/python3.10/dist-packages (0.5.2)\n",
            "Requirement already satisfied: regex>=2022.1.18 in /usr/local/lib/python3.10/dist-packages (from tiktoken) (2023.6.3)\n",
            "Requirement already satisfied: requests>=2.26.0 in /usr/local/lib/python3.10/dist-packages (from tiktoken) (2.31.0)\n",
            "Requirement already satisfied: charset-normalizer<4,>=2 in /usr/local/lib/python3.10/dist-packages (from requests>=2.26.0->tiktoken) (3.3.2)\n",
            "Requirement already satisfied: idna<4,>=2.5 in /usr/local/lib/python3.10/dist-packages (from requests>=2.26.0->tiktoken) (3.6)\n",
            "Requirement already satisfied: urllib3<3,>=1.21.1 in /usr/local/lib/python3.10/dist-packages (from requests>=2.26.0->tiktoken) (2.0.7)\n",
            "Requirement already satisfied: certifi>=2017.4.17 in /usr/local/lib/python3.10/dist-packages (from requests>=2.26.0->tiktoken) (2023.11.17)\n",
            "Requirement already satisfied: python-dotenv in /usr/local/lib/python3.10/dist-packages (1.0.0)\n"
          ]
        }
      ]
    },
    {
      "cell_type": "code",
      "source": [
        "from google.colab import drive\n",
        "drive.mount('/content/drive')"
      ],
      "metadata": {
        "colab": {
          "base_uri": "https://localhost:8080/"
        },
        "id": "EuAj9lURvROE",
        "outputId": "e21f3e00-8f08-4559-991b-d46d09c9d1bc"
      },
      "execution_count": null,
      "outputs": [
        {
          "output_type": "stream",
          "name": "stdout",
          "text": [
            "Drive already mounted at /content/drive; to attempt to forcibly remount, call drive.mount(\"/content/drive\", force_remount=True).\n"
          ]
        }
      ]
    },
    {
      "cell_type": "code",
      "source": [
        "import os\n",
        "import re\n",
        "import openai\n",
        "import pandas as pd\n",
        "import numpy as np\n",
        "import json"
      ],
      "metadata": {
        "id": "x2btyOKbkwOS"
      },
      "execution_count": null,
      "outputs": []
    },
    {
      "cell_type": "code",
      "source": [
        "from HartreeFock_GPT import utils, annotation_utils, lm_utils"
      ],
      "metadata": {
        "id": "9JBZHT2Vj10R"
      },
      "execution_count": null,
      "outputs": []
    },
    {
      "cell_type": "code",
      "source": [
        "ARXIV_IDS = annotation_utils.ANNOTATED_PAPERS"
      ],
      "metadata": {
        "id": "u0L6xj1Vj5cM"
      },
      "execution_count": null,
      "outputs": []
    },
    {
      "cell_type": "code",
      "source": [
        "len(ARXIV_IDS)"
      ],
      "metadata": {
        "colab": {
          "base_uri": "https://localhost:8080/"
        },
        "id": "jgL_fTf2j50A",
        "outputId": "48a69408-f2cb-4b8a-c080-4d3ee57fff5d"
      },
      "execution_count": null,
      "outputs": [
        {
          "output_type": "execute_result",
          "data": {
            "text/plain": [
              "14"
            ]
          },
          "metadata": {},
          "execution_count": 8
        }
      ]
    },
    {
      "cell_type": "code",
      "source": [
        "DATA_DIR = '/content/drive/MyDrive/HF annotation/datasets/execution_updated/'"
      ],
      "metadata": {
        "id": "5wTWgsbD3ZNU"
      },
      "execution_count": null,
      "outputs": []
    },
    {
      "cell_type": "code",
      "source": [
        "ZS_DIR = '/content/drive/MyDrive/HF annotation/datasets/execution_updated/ZeroShot/'"
      ],
      "metadata": {
        "id": "8T3lPjeepHU_"
      },
      "execution_count": null,
      "outputs": []
    },
    {
      "cell_type": "markdown",
      "source": [
        "# Redo Scoring Analysis for Zero-Shot"
      ],
      "metadata": {
        "id": "OHuRTQ8ld0BF"
      }
    },
    {
      "cell_type": "code",
      "source": [
        "execution_df = pd.read_csv(os.path.join(ZS_DIR, 'lm_scores_zeroshot_twolevel_final.csv'), dtype={'paper': str})"
      ],
      "metadata": {
        "id": "FkQjJG1ClmPd"
      },
      "execution_count": null,
      "outputs": []
    },
    {
      "cell_type": "code",
      "source": [
        "execution_df.loc[43]"
      ],
      "metadata": {
        "colab": {
          "base_uri": "https://localhost:8080/"
        },
        "id": "hVoClmcZB0P7",
        "outputId": "a29e50c3-ba73-4e2f-f1ec-da41146fafdf"
      },
      "execution_count": null,
      "outputs": [
        {
          "output_type": "execute_result",
          "data": {
            "text/plain": [
              "paper                                                                    1812.04213\n",
              "task                              Construct Kinetic Hamiltonian (continuum versi...\n",
              "execution_prompt                  You will be instructed to describe the kinetic...\n",
              "lm_execution_completion           The kinetic term of the Hamiltonian in the fla...\n",
              "score_prompt                      PROBLEM: You will be instructed to describe th...\n",
              "lm_score                                                                          1\n",
              "gt_score_in_paper                                                                 1\n",
              "gt_score_prompt_quality                                                           1\n",
              "gt_score_follow_instructions                                                      2\n",
              "gt_score_physics_logic                                                            2\n",
              "gt_score_math_derivation                                                          2\n",
              "gt_score_final_answer_accuracy                                                    1\n",
              "Name: 43, dtype: object"
            ]
          },
          "metadata": {},
          "execution_count": 12
        }
      ]
    },
    {
      "cell_type": "code",
      "source": [
        "execution_df.loc[150]"
      ],
      "metadata": {
        "colab": {
          "base_uri": "https://localhost:8080/"
        },
        "id": "q_tCUy8cB31x",
        "outputId": "21413ca8-97a2-4bd2-b32f-1314465a6db1"
      },
      "execution_count": null,
      "outputs": [
        {
          "output_type": "execute_result",
          "data": {
            "text/plain": [
              "paper                                                                    2308.07488\n",
              "task                              Construct Potential Hamiltonian (continuum ver...\n",
              "execution_prompt                  You will be instructed to describe the potenti...\n",
              "lm_execution_completion           The potential Hamiltonian $H_P$ in the real sp...\n",
              "score_prompt                      PROBLEM: You will be instructed to describe th...\n",
              "lm_score                                                                          1\n",
              "gt_score_in_paper                                                                 1\n",
              "gt_score_prompt_quality                                                           2\n",
              "gt_score_follow_instructions                                                      1\n",
              "gt_score_physics_logic                                                            1\n",
              "gt_score_math_derivation                                                          2\n",
              "gt_score_final_answer_accuracy                                                    1\n",
              "Name: 150, dtype: object"
            ]
          },
          "metadata": {},
          "execution_count": 13
        }
      ]
    },
    {
      "cell_type": "code",
      "source": [
        "import matplotlib.pyplot as plt"
      ],
      "metadata": {
        "id": "dxKhWBxYfbCe"
      },
      "execution_count": null,
      "outputs": []
    },
    {
      "cell_type": "code",
      "source": [
        "gpt_scores = execution_df['lm_score'].to_numpy()\n",
        "gpt_scores = np.array([int(s) for s in gpt_scores])\n",
        "ground_truth_faa_scores = execution_df['gt_score_final_answer_accuracy'].to_numpy()\n",
        "ground_truth_faa_scores = np.array([int(s)  if s != 'NA' else np.nan for s in ground_truth_faa_scores])"
      ],
      "metadata": {
        "id": "YoiX8qeCdevY"
      },
      "execution_count": null,
      "outputs": []
    },
    {
      "cell_type": "code",
      "source": [
        "true_score = 0\n",
        "mask = (ground_truth_faa_scores==true_score)\n",
        "plt.figure()\n",
        "plt.hist(gpt_scores[mask], bins=3)\n",
        "plt.show()"
      ],
      "metadata": {
        "colab": {
          "base_uri": "https://localhost:8080/",
          "height": 430
        },
        "id": "bX0k5JBTfXvt",
        "outputId": "a2db4350-7bcb-46a1-ef8b-5b5347a66674"
      },
      "execution_count": null,
      "outputs": [
        {
          "output_type": "display_data",
          "data": {
            "text/plain": [
              "<Figure size 640x480 with 1 Axes>"
            ],
            "image/png": "[encoded data removed]"
          },
          "metadata": {}
        }
      ]
    },
    {
      "cell_type": "code",
      "source": [
        "true_score = 1\n",
        "mask = (ground_truth_faa_scores==true_score)\n",
        "plt.figure()\n",
        "plt.hist(gpt_scores[mask], bins=3)\n",
        "plt.show()"
      ],
      "metadata": {
        "colab": {
          "base_uri": "https://localhost:8080/",
          "height": 430
        },
        "id": "FJ7VW7KifaQ2",
        "outputId": "01e50f92-4ee9-4f90-aaad-9663673e00c5"
      },
      "execution_count": null,
      "outputs": [
        {
          "output_type": "display_data",
          "data": {
            "text/plain": [
              "<Figure size 640x480 with 1 Axes>"
            ],
            "image/png": "[encoded data removed]"
          },
          "metadata": {}
        }
      ]
    },
    {
      "cell_type": "code",
      "source": [
        "true_score = 2\n",
        "mask = (ground_truth_faa_scores==true_score)\n",
        "plt.figure()\n",
        "plt.hist(gpt_scores[mask], bins=3, density=True)\n",
        "plt.show()"
      ],
      "metadata": {
        "colab": {
          "base_uri": "https://localhost:8080/",
          "height": 430
        },
        "id": "bYq9ktzVffqg",
        "outputId": "d5254a3d-2213-415e-9b1c-c24b08099a30"
      },
      "execution_count": null,
      "outputs": [
        {
          "output_type": "display_data",
          "data": {
            "text/plain": [
              "<Figure size 640x480 with 1 Axes>"
            ],
            "image/png": "[encoded data removed]"
          },
          "metadata": {}
        }
      ]
    },
    {
      "cell_type": "code",
      "source": [
        "import sklearn\n",
        "from sklearn.metrics import confusion_matrix"
      ],
      "metadata": {
        "id": "SUA6UzWkfh2f"
      },
      "execution_count": null,
      "outputs": []
    },
    {
      "cell_type": "code",
      "source": [
        "nanmask = ~np.isnan(ground_truth_faa_scores)"
      ],
      "metadata": {
        "id": "77mCWQt4fkCB"
      },
      "execution_count": null,
      "outputs": []
    },
    {
      "cell_type": "code",
      "source": [
        "nanmask.sum(), len(nanmask)"
      ],
      "metadata": {
        "colab": {
          "base_uri": "https://localhost:8080/"
        },
        "id": "h-hgFgP_fmQS",
        "outputId": "c91b044d-33a1-41a5-c3d9-3f770840daa1"
      },
      "execution_count": null,
      "outputs": [
        {
          "output_type": "execute_result",
          "data": {
            "text/plain": [
              "(160, 160)"
            ]
          },
          "metadata": {},
          "execution_count": 21
        }
      ]
    },
    {
      "cell_type": "code",
      "source": [
        "ground_truth_binary = (ground_truth_faa_scores==2).astype(int)"
      ],
      "metadata": {
        "id": "W-16yKCHfn34"
      },
      "execution_count": null,
      "outputs": []
    },
    {
      "cell_type": "code",
      "source": [
        "conf_matrix = confusion_matrix(ground_truth_binary, gpt_scores)"
      ],
      "metadata": {
        "id": "3qRoU50Vfpyy"
      },
      "execution_count": null,
      "outputs": []
    },
    {
      "cell_type": "code",
      "source": [
        "conf_matrix"
      ],
      "metadata": {
        "colab": {
          "base_uri": "https://localhost:8080/"
        },
        "id": "SHD5awvHbmCf",
        "outputId": "8f336ce1-af14-4638-f5d0-0773b2a057b4"
      },
      "execution_count": null,
      "outputs": [
        {
          "output_type": "execute_result",
          "data": {
            "text/plain": [
              "array([[ 21,  20],\n",
              "       [ 15, 104]])"
            ]
          },
          "metadata": {},
          "execution_count": 24
        }
      ]
    },
    {
      "cell_type": "code",
      "source": [
        "conf_matrix.sum(axis=1).sum(), conf_matrix.sum(axis=0).sum()"
      ],
      "metadata": {
        "colab": {
          "base_uri": "https://localhost:8080/"
        },
        "id": "gFVIRqUNc89Z",
        "outputId": "5e1c4ba9-0560-411c-bc02-48fe533bb4c2"
      },
      "execution_count": null,
      "outputs": [
        {
          "output_type": "execute_result",
          "data": {
            "text/plain": [
              "(160, 160)"
            ]
          },
          "metadata": {},
          "execution_count": 25
        }
      ]
    },
    {
      "cell_type": "code",
      "source": [
        "import seaborn as sns\n",
        "import matplotlib.pyplot as plt\n",
        "\n",
        "plt.figure()\n",
        "ax=sns.heatmap(conf_matrix, annot=True, fmt=\"d\")\n",
        "ax.grid(False)\n",
        "ax.set_xlabel('GPT-4 Score')\n",
        "ax.set_ylabel('Ground Truth Score')\n",
        "ax.xaxis.set_ticklabels([0, 1])\n",
        "ax.xaxis.set_ticklabels([0, 1])\n",
        "ax.tick_params(left=False, bottom=False)\n",
        "# plt.savefig(os.path.join(ZS_DIR, 'confusion_matrix_binary_final.png'))\n",
        "plt.show()"
      ],
      "metadata": {
        "colab": {
          "base_uri": "https://localhost:8080/",
          "height": 449
        },
        "id": "f_sKOkXmfvzT",
        "outputId": "3e86022f-58ce-4d5b-9983-444fcf33db12"
      },
      "execution_count": null,
      "outputs": [
        {
          "output_type": "display_data",
          "data": {
            "text/plain": [
              "<Figure size 640x480 with 2 Axes>"
            ],
            "image/png": "[encoded data removed]"
          },
          "metadata": {}
        }
      ]
    },
    {
      "cell_type": "code",
      "source": [
        "sklearn.metrics.accuracy_score(ground_truth_binary, gpt_scores)"
      ],
      "metadata": {
        "colab": {
          "base_uri": "https://localhost:8080/"
        },
        "id": "WbMfoRv4gDnV",
        "outputId": "0df026f6-d148-42c5-e4e9-3f780e45f865"
      },
      "execution_count": null,
      "outputs": [
        {
          "output_type": "execute_result",
          "data": {
            "text/plain": [
              "0.78125"
            ]
          },
          "metadata": {},
          "execution_count": 27
        }
      ]
    },
    {
      "cell_type": "code",
      "source": [
        "sklearn.metrics.balanced_accuracy_score(ground_truth_binary, gpt_scores)"
      ],
      "metadata": {
        "colab": {
          "base_uri": "https://localhost:8080/"
        },
        "id": "JHEGtpaHgGFe",
        "outputId": "23d2396b-d2d6-4176-9479-e77c2ae951ad"
      },
      "execution_count": null,
      "outputs": [
        {
          "output_type": "execute_result",
          "data": {
            "text/plain": [
              "0.6930723508915761"
            ]
          },
          "metadata": {},
          "execution_count": 28
        }
      ]
    },
    {
      "cell_type": "code",
      "source": [
        "def get_all_scoring_metrics(ground_truth_binary, gpt_scores_test):\n",
        "  metrics = {}\n",
        "  metrics['accuracy_unbalanced'] = sklearn.metrics.accuracy_score(ground_truth_binary, gpt_scores_test)\n",
        "  metrics['accuracy_balanced'] = sklearn.metrics.balanced_accuracy_score(ground_truth_binary, gpt_scores_test)\n",
        "  out = sklearn.metrics.precision_recall_fscore_support(ground_truth_binary, gpt_scores_test, labels=[0, 1]) # Note zero_divison is 0.0 default here\n",
        "  metrics['precision_classwise'] = out[0]\n",
        "  metrics['recall_classwise'] = out[1]\n",
        "  metrics['f1_classwise'] = out[2]\n",
        "  metrics['support_classwise'] = out[3]\n",
        "  metrics['Total Problems'] = len(ground_truth_binary)\n",
        "  return metrics\n",
        "\n",
        "def render_metrics(metrics):\n",
        "  print('Metrics')\n",
        "  for k, v in metrics.items():\n",
        "    print(f'{k}: {v}')\n",
        "  return"
      ],
      "metadata": {
        "id": "goDglATr6UwT"
      },
      "execution_count": null,
      "outputs": []
    },
    {
      "cell_type": "code",
      "source": [
        "# GPT-4 Scores\n",
        "test_scores = np.ones(len(ground_truth_binary))\n",
        "print('GPT-4 Score')\n",
        "metrics = get_all_scoring_metrics(ground_truth_binary, gpt_scores)\n",
        "render_metrics(metrics)"
      ],
      "metadata": {
        "colab": {
          "base_uri": "https://localhost:8080/"
        },
        "id": "ERYoPbs06c2t",
        "outputId": "d82eea95-b332-4a39-e364-f239e55542ec"
      },
      "execution_count": null,
      "outputs": [
        {
          "output_type": "stream",
          "name": "stdout",
          "text": [
            "GPT-4 Score\n",
            "Metrics\n",
            "accuracy_unbalanced: 0.78125\n",
            "accuracy_balanced: 0.6930723508915761\n",
            "precision_classwise: [0.58333333 0.83870968]\n",
            "recall_classwise: [0.51219512 0.87394958]\n",
            "f1_classwise: [0.54545455 0.85596708]\n",
            "support_classwise: [ 41 119]\n",
            "Total Problems: 160\n"
          ]
        }
      ]
    },
    {
      "cell_type": "code",
      "source": [
        "# random predictor\n",
        "rng = np.random.default_rng(seed=23)\n",
        "test_scores = rng.choice(2, size=len(ground_truth_binary))\n",
        "print('Randomly predicts 0|1')\n",
        "metrics = get_all_scoring_metrics(ground_truth_binary, test_scores)\n",
        "render_metrics(metrics)"
      ],
      "metadata": {
        "colab": {
          "base_uri": "https://localhost:8080/"
        },
        "id": "LGC5aJCf6fgO",
        "outputId": "53a02e11-d9ea-4553-fdc7-010b23fd889e"
      },
      "execution_count": null,
      "outputs": [
        {
          "output_type": "stream",
          "name": "stdout",
          "text": [
            "Randomly predicts 0|1\n",
            "Metrics\n",
            "accuracy_unbalanced: 0.45625\n",
            "accuracy_balanced: 0.4825783972125436\n",
            "precision_classwise: [0.24444444 0.72857143]\n",
            "recall_classwise: [0.53658537 0.42857143]\n",
            "f1_classwise: [0.33587786 0.53968254]\n",
            "support_classwise: [ 41 119]\n",
            "Total Problems: 160\n"
          ]
        }
      ]
    },
    {
      "cell_type": "code",
      "source": [
        "# Always predicts 1\n",
        "test_scores = np.ones(len(ground_truth_binary))\n",
        "print('Always predicts 1')\n",
        "metrics = get_all_scoring_metrics(ground_truth_binary, test_scores)\n",
        "render_metrics(metrics)"
      ],
      "metadata": {
        "colab": {
          "base_uri": "https://localhost:8080/"
        },
        "id": "2p66wro06ipZ",
        "outputId": "8b6ebc49-70e5-474e-aea9-438149952bed"
      },
      "execution_count": null,
      "outputs": [
        {
          "output_type": "stream",
          "name": "stdout",
          "text": [
            "Always predicts 1\n",
            "Metrics\n",
            "accuracy_unbalanced: 0.74375\n",
            "accuracy_balanced: 0.5\n",
            "precision_classwise: [0.      0.74375]\n",
            "recall_classwise: [0. 1.]\n",
            "f1_classwise: [0.         0.85304659]\n",
            "support_classwise: [ 41 119]\n",
            "Total Problems: 160\n"
          ]
        },
        {
          "output_type": "stream",
          "name": "stderr",
          "text": [
            "/usr/local/lib/python3.10/dist-packages/sklearn/metrics/_classification.py:1344: UndefinedMetricWarning: Precision and F-score are ill-defined and being set to 0.0 in labels with no predicted samples. Use `zero_division` parameter to control this behavior.\n",
            "  _warn_prf(average, modifier, msg_start, len(result))\n"
          ]
        }
      ]
    },
    {
      "cell_type": "markdown",
      "source": [
        "# Plot for 158 problems for Zero-Shot (Excluding the examples used in the Few-Shot experiment)"
      ],
      "metadata": {
        "id": "ir81k2kns13v"
      }
    },
    {
      "cell_type": "code",
      "source": [
        "execution_df = pd.read_csv(os.path.join(ZS_DIR, 'lm_scores_zeroshot_twolevel_final.csv'), dtype={'paper': str})"
      ],
      "metadata": {
        "id": "oleFODGus0RZ"
      },
      "execution_count": null,
      "outputs": []
    },
    {
      "cell_type": "code",
      "source": [
        "import matplotlib.pyplot as plt"
      ],
      "metadata": {
        "id": "7cJytTAKs0Ra"
      },
      "execution_count": null,
      "outputs": []
    },
    {
      "cell_type": "code",
      "source": [
        "gpt_scores = execution_df['lm_score'].to_numpy()\n",
        "gpt_scores = np.array([int(s) for s in gpt_scores])\n",
        "ground_truth_faa_scores = execution_df['gt_score_final_answer_accuracy'].to_numpy()\n",
        "ground_truth_faa_scores = np.array([int(s)  if s != 'NA' else np.nan for s in ground_truth_faa_scores])"
      ],
      "metadata": {
        "id": "a4zlrtYRs0Rb"
      },
      "execution_count": null,
      "outputs": []
    },
    {
      "cell_type": "code",
      "source": [
        "true_score = 0\n",
        "mask = (ground_truth_faa_scores==true_score)\n",
        "plt.figure()\n",
        "plt.hist(gpt_scores[mask], bins=3)\n",
        "plt.show()"
      ],
      "metadata": {
        "colab": {
          "base_uri": "https://localhost:8080/",
          "height": 430
        },
        "outputId": "0d4de5b2-7367-4f87-f8ce-d62899821f60",
        "id": "4mjIFamJs0Rb"
      },
      "execution_count": null,
      "outputs": [
        {
          "output_type": "display_data",
          "data": {
            "text/plain": [
              "<Figure size 640x480 with 1 Axes>"
            ],
            "image/png": "[encoded data removed]"
          },
          "metadata": {}
        }
      ]
    },
    {
      "cell_type": "code",
      "source": [
        "true_score = 1\n",
        "mask = (ground_truth_faa_scores==true_score)\n",
        "plt.figure()\n",
        "plt.hist(gpt_scores[mask], bins=3)\n",
        "plt.show()"
      ],
      "metadata": {
        "colab": {
          "base_uri": "https://localhost:8080/",
          "height": 430
        },
        "outputId": "071f1c4c-5ce5-4b69-9975-c3d8381caa69",
        "id": "vrEriOtEs0Rc"
      },
      "execution_count": null,
      "outputs": [
        {
          "output_type": "display_data",
          "data": {
            "text/plain": [
              "<Figure size 640x480 with 1 Axes>"
            ],
            "image/png": "[encoded data removed]"
          },
          "metadata": {}
        }
      ]
    },
    {
      "cell_type": "code",
      "source": [
        "true_score = 2\n",
        "mask = (ground_truth_faa_scores==true_score)\n",
        "plt.figure()\n",
        "plt.hist(gpt_scores[mask], bins=3, density=True)\n",
        "plt.show()"
      ],
      "metadata": {
        "colab": {
          "base_uri": "https://localhost:8080/",
          "height": 430
        },
        "outputId": "73348d36-ee9d-4504-d753-ab55c8f02416",
        "id": "Kwv3JDWos0Rc"
      },
      "execution_count": null,
      "outputs": [
        {
          "output_type": "display_data",
          "data": {
            "text/plain": [
              "<Figure size 640x480 with 1 Axes>"
            ],
            "image/png": "[encoded data removed]"
          },
          "metadata": {}
        }
      ]
    },
    {
      "cell_type": "code",
      "source": [
        "import sklearn\n",
        "from sklearn.metrics import confusion_matrix"
      ],
      "metadata": {
        "id": "ZQvdpLWas0Rd"
      },
      "execution_count": null,
      "outputs": []
    },
    {
      "cell_type": "code",
      "source": [
        "egmask = ~np.isnan(ground_truth_faa_scores)"
      ],
      "metadata": {
        "id": "hXG-8CQOtRFH"
      },
      "execution_count": null,
      "outputs": []
    },
    {
      "cell_type": "code",
      "source": [
        "egmask.sum(), len(egmask)"
      ],
      "metadata": {
        "colab": {
          "base_uri": "https://localhost:8080/"
        },
        "outputId": "7bcfe299-c7f7-4f96-e7ca-40a7f51c6fe0",
        "id": "SlSM-hy0tRFU"
      },
      "execution_count": null,
      "outputs": [
        {
          "output_type": "execute_result",
          "data": {
            "text/plain": [
              "(160, 160)"
            ]
          },
          "metadata": {},
          "execution_count": 41
        }
      ]
    },
    {
      "cell_type": "code",
      "source": [
        "egmask[[150, 137]] = False"
      ],
      "metadata": {
        "id": "Ree2dKGMtRFU"
      },
      "execution_count": null,
      "outputs": []
    },
    {
      "cell_type": "code",
      "source": [
        "egmask.sum()"
      ],
      "metadata": {
        "colab": {
          "base_uri": "https://localhost:8080/"
        },
        "outputId": "8bca5a27-c919-490f-b7ed-aa77a4164df8",
        "id": "LGqjsIn6tRFU"
      },
      "execution_count": null,
      "outputs": [
        {
          "output_type": "execute_result",
          "data": {
            "text/plain": [
              "158"
            ]
          },
          "metadata": {},
          "execution_count": 43
        }
      ]
    },
    {
      "cell_type": "code",
      "source": [
        "ground_truth_binary = (ground_truth_faa_scores[egmask]==2).astype(int)"
      ],
      "metadata": {
        "id": "mdsBWqyRtRFV"
      },
      "execution_count": null,
      "outputs": []
    },
    {
      "cell_type": "code",
      "source": [
        "ground_truth_faa_scores[:10], ground_truth_binary[:10]"
      ],
      "metadata": {
        "colab": {
          "base_uri": "https://localhost:8080/"
        },
        "outputId": "78f8ca11-5dda-4db4-fe63-4c38fa5d29a3",
        "id": "i-7B4HwOtRFV"
      },
      "execution_count": null,
      "outputs": [
        {
          "output_type": "execute_result",
          "data": {
            "text/plain": [
              "(array([0, 2, 1, 0, 2, 2, 2, 0, 1, 2]), array([0, 1, 0, 0, 1, 1, 1, 0, 0, 1]))"
            ]
          },
          "metadata": {},
          "execution_count": 45
        }
      ]
    },
    {
      "cell_type": "code",
      "source": [
        "gpt_scores_test = gpt_scores[egmask]"
      ],
      "metadata": {
        "id": "QSANws5ztRFV"
      },
      "execution_count": null,
      "outputs": []
    },
    {
      "cell_type": "code",
      "source": [
        "len(gpt_scores_test), len(ground_truth_binary)"
      ],
      "metadata": {
        "colab": {
          "base_uri": "https://localhost:8080/"
        },
        "outputId": "441ac16b-e174-4b3d-fabc-394381dd90cb",
        "id": "KWWEFTVhtRFV"
      },
      "execution_count": null,
      "outputs": [
        {
          "output_type": "execute_result",
          "data": {
            "text/plain": [
              "(158, 158)"
            ]
          },
          "metadata": {},
          "execution_count": 47
        }
      ]
    },
    {
      "cell_type": "code",
      "source": [
        "conf_matrix = confusion_matrix(ground_truth_binary, gpt_scores_test)"
      ],
      "metadata": {
        "id": "eckevHSdtRFV"
      },
      "execution_count": null,
      "outputs": []
    },
    {
      "cell_type": "code",
      "source": [
        "conf_matrix"
      ],
      "metadata": {
        "colab": {
          "base_uri": "https://localhost:8080/"
        },
        "outputId": "4d032774-e179-4bcd-867e-e7b8a6a82c2f",
        "id": "JISVIcb7tRFV"
      },
      "execution_count": null,
      "outputs": [
        {
          "output_type": "execute_result",
          "data": {
            "text/plain": [
              "array([[ 21,  19],\n",
              "       [ 15, 103]])"
            ]
          },
          "metadata": {},
          "execution_count": 49
        }
      ]
    },
    {
      "cell_type": "code",
      "source": [
        "conf_matrix.sum(axis=1).sum(), conf_matrix.sum(axis=0).sum()"
      ],
      "metadata": {
        "colab": {
          "base_uri": "https://localhost:8080/"
        },
        "outputId": "d0b728fc-0705-4240-9d7d-60c93b2107a3",
        "id": "ZKmzfpnStRFV"
      },
      "execution_count": null,
      "outputs": [
        {
          "output_type": "execute_result",
          "data": {
            "text/plain": [
              "(158, 158)"
            ]
          },
          "metadata": {},
          "execution_count": 50
        }
      ]
    },
    {
      "cell_type": "code",
      "source": [
        "ZS_DIR"
      ],
      "metadata": {
        "colab": {
          "base_uri": "https://localhost:8080/",
          "height": 37
        },
        "outputId": "e63ba88c-1c01-48ee-fdd4-486d87a40da3",
        "id": "2ggBfSf3tRFV"
      },
      "execution_count": null,
      "outputs": [
        {
          "output_type": "execute_result",
          "data": {
            "text/plain": [
              "'/content/drive/MyDrive/HF annotation/datasets/execution_updated/ZeroShot/'"
            ],
            "application/vnd.google.colaboratory.intrinsic+json": {
              "type": "string"
            }
          },
          "metadata": {},
          "execution_count": 51
        }
      ]
    },
    {
      "cell_type": "code",
      "source": [
        "import seaborn as sns\n",
        "import matplotlib.pyplot as plt\n",
        "\n",
        "plt.figure()\n",
        "ax=sns.heatmap(conf_matrix, annot=True, fmt=\"d\")\n",
        "ax.grid(False)\n",
        "ax.set_xlabel('GPT-4 Score')\n",
        "ax.set_ylabel('Ground Truth Score')\n",
        "ax.xaxis.set_ticklabels([0, 1])\n",
        "ax.xaxis.set_ticklabels([0, 1])\n",
        "ax.tick_params(left=False, bottom=False)\n",
        "plt.savefig(os.path.join(ZS_DIR, 'confusion_matrix_binary_noexample158_final.png'))\n",
        "plt.show()"
      ],
      "metadata": {
        "colab": {
          "base_uri": "https://localhost:8080/",
          "height": 449
        },
        "outputId": "e935b7e6-98f6-455d-edf1-919dfb4b47ff",
        "id": "p8-TAGx7tRFV"
      },
      "execution_count": null,
      "outputs": [
        {
          "output_type": "display_data",
          "data": {
            "text/plain": [
              "<Figure size 640x480 with 2 Axes>"
            ],
            "image/png": "[encoded data removed]"
          },
          "metadata": {}
        }
      ]
    },
    {
      "cell_type": "code",
      "source": [
        "(gpt_scores_test==1).sum(), (ground_truth_binary==1).sum()"
      ],
      "metadata": {
        "colab": {
          "base_uri": "https://localhost:8080/"
        },
        "outputId": "39c8ffd3-763b-4e2f-c83a-4efde4e47395",
        "id": "LCYrWrrntRFW"
      },
      "execution_count": null,
      "outputs": [
        {
          "output_type": "execute_result",
          "data": {
            "text/plain": [
              "(122, 118)"
            ]
          },
          "metadata": {},
          "execution_count": 53
        }
      ]
    },
    {
      "cell_type": "code",
      "source": [
        "sklearn.metrics.accuracy_score(ground_truth_binary, gpt_scores_test)"
      ],
      "metadata": {
        "colab": {
          "base_uri": "https://localhost:8080/"
        },
        "outputId": "25d3e7f8-1147-4352-87ed-e0a6d15b8d9e",
        "id": "O-JJCp2ztRFW"
      },
      "execution_count": null,
      "outputs": [
        {
          "output_type": "execute_result",
          "data": {
            "text/plain": [
              "0.7848101265822784"
            ]
          },
          "metadata": {},
          "execution_count": 54
        }
      ]
    },
    {
      "cell_type": "code",
      "source": [
        "(ground_truth_binary==1).sum()/len(ground_truth_binary) #the score if the model had blindly predicted 2 for all blanks"
      ],
      "metadata": {
        "colab": {
          "base_uri": "https://localhost:8080/"
        },
        "outputId": "2d18f705-03e4-4a48-fca7-1e5afd4de5df",
        "id": "7yXlyse3tRFW"
      },
      "execution_count": null,
      "outputs": [
        {
          "output_type": "execute_result",
          "data": {
            "text/plain": [
              "0.7468354430379747"
            ]
          },
          "metadata": {},
          "execution_count": 55
        }
      ]
    },
    {
      "cell_type": "markdown",
      "source": [
        "Giving all GT scores (classes) the same 'weight'"
      ],
      "metadata": {
        "id": "t6w-Fb6EtRFW"
      }
    },
    {
      "cell_type": "code",
      "source": [
        "sklearn.metrics.balanced_accuracy_score(ground_truth_binary, gpt_scores_test)"
      ],
      "metadata": {
        "colab": {
          "base_uri": "https://localhost:8080/"
        },
        "outputId": "9b71ea68-950f-4451-b26e-ac1c4b35d8a1",
        "id": "qoZg2yjVtRFW"
      },
      "execution_count": null,
      "outputs": [
        {
          "output_type": "execute_result",
          "data": {
            "text/plain": [
              "0.6989406779661017"
            ]
          },
          "metadata": {},
          "execution_count": 56
        }
      ]
    },
    {
      "cell_type": "code",
      "source": [
        "# GPT-4 Scores\n",
        "test_scores = np.ones(len(ground_truth_binary))\n",
        "print('GPT-4 Score')\n",
        "metrics = get_all_scoring_metrics(ground_truth_binary, gpt_scores_test)\n",
        "render_metrics(metrics)"
      ],
      "metadata": {
        "colab": {
          "base_uri": "https://localhost:8080/"
        },
        "outputId": "a89ee2ab-33c8-4902-e252-e222965f79c6",
        "id": "VH6zspAu7O_A"
      },
      "execution_count": null,
      "outputs": [
        {
          "output_type": "stream",
          "name": "stdout",
          "text": [
            "GPT-4 Score\n",
            "Metrics\n",
            "accuracy_unbalanced: 0.7848101265822784\n",
            "accuracy_balanced: 0.6989406779661017\n",
            "precision_classwise: [0.58333333 0.8442623 ]\n",
            "recall_classwise: [0.525      0.87288136]\n",
            "f1_classwise: [0.55263158 0.85833333]\n",
            "support_classwise: [ 40 118]\n",
            "Total Problems: 158\n"
          ]
        }
      ]
    },
    {
      "cell_type": "code",
      "source": [
        "# random predictor\n",
        "rng = np.random.default_rng(seed=23)\n",
        "test_scores = rng.choice(2, size=len(ground_truth_binary))\n",
        "print('Randomly predicts 0|1')\n",
        "metrics = get_all_scoring_metrics(ground_truth_binary, test_scores)\n",
        "render_metrics(metrics)"
      ],
      "metadata": {
        "colab": {
          "base_uri": "https://localhost:8080/"
        },
        "outputId": "33428a5d-9738-4b76-ff99-d0217ebc2473",
        "id": "BTYtgQ8L7O_C"
      },
      "execution_count": null,
      "outputs": [
        {
          "output_type": "stream",
          "name": "stdout",
          "text": [
            "Randomly predicts 0|1\n",
            "Metrics\n",
            "accuracy_unbalanced: 0.4620253164556962\n",
            "accuracy_balanced: 0.49110169491525424\n",
            "precision_classwise: [0.24719101 0.73913043]\n",
            "recall_classwise: [0.55       0.43220339]\n",
            "f1_classwise: [0.34108527 0.54545455]\n",
            "support_classwise: [ 40 118]\n",
            "Total Problems: 158\n"
          ]
        }
      ]
    },
    {
      "cell_type": "code",
      "source": [
        "# Always predicts 1\n",
        "test_scores = np.ones(len(ground_truth_binary))\n",
        "print('Always predicts 1')\n",
        "metrics = get_all_scoring_metrics(ground_truth_binary, test_scores)\n",
        "render_metrics(metrics)"
      ],
      "metadata": {
        "colab": {
          "base_uri": "https://localhost:8080/"
        },
        "outputId": "d3427dd9-46fb-40a7-dcca-afa76abfc6ad",
        "id": "QQSov1vd7O_C"
      },
      "execution_count": null,
      "outputs": [
        {
          "output_type": "stream",
          "name": "stdout",
          "text": [
            "Always predicts 1\n",
            "Metrics\n",
            "accuracy_unbalanced: 0.7468354430379747\n",
            "accuracy_balanced: 0.5\n",
            "precision_classwise: [0.         0.74683544]\n",
            "recall_classwise: [0. 1.]\n",
            "f1_classwise: [0.         0.85507246]\n",
            "support_classwise: [ 40 118]\n",
            "Total Problems: 158\n"
          ]
        },
        {
          "output_type": "stream",
          "name": "stderr",
          "text": [
            "/usr/local/lib/python3.10/dist-packages/sklearn/metrics/_classification.py:1344: UndefinedMetricWarning: Precision and F-score are ill-defined and being set to 0.0 in labels with no predicted samples. Use `zero_division` parameter to control this behavior.\n",
            "  _warn_prf(average, modifier, msg_start, len(result))\n"
          ]
        }
      ]
    },
    {
      "cell_type": "code",
      "source": [],
      "metadata": {
        "id": "oYxLK0sTt3mJ"
      },
      "execution_count": null,
      "outputs": []
    },
    {
      "cell_type": "markdown",
      "source": [
        "# Task Wise Scoring Analysis"
      ],
      "metadata": {
        "id": "gSKetP3v6Y-q"
      }
    },
    {
      "cell_type": "code",
      "source": [
        "execution_df = pd.read_csv(os.path.join(ZS_DIR, 'lm_scores_zeroshot_twolevel_final.csv'), dtype={'paper': str})"
      ],
      "metadata": {
        "id": "rVZGuIL48Xxu"
      },
      "execution_count": null,
      "outputs": []
    },
    {
      "cell_type": "code",
      "source": [
        "import matplotlib.pyplot as plt"
      ],
      "metadata": {
        "id": "mqcDqleX8Xx6"
      },
      "execution_count": null,
      "outputs": []
    },
    {
      "cell_type": "code",
      "source": [
        "gpt_scores = execution_df['lm_score'].to_numpy()\n",
        "gpt_scores = np.array([int(s) for s in gpt_scores])\n",
        "ground_truth_faa_scores = execution_df['gt_score_final_answer_accuracy'].to_numpy()\n",
        "ground_truth_faa_scores = np.array([int(s)  if s != 'NA' else np.nan for s in ground_truth_faa_scores])"
      ],
      "metadata": {
        "id": "QhF4cHtH8Xx7"
      },
      "execution_count": null,
      "outputs": []
    },
    {
      "cell_type": "code",
      "source": [
        "ground_truth_binary = (ground_truth_faa_scores==2).astype(int)\n",
        "scoring_accuracy = np.equal(gpt_scores, ground_truth_binary).astype(int)"
      ],
      "metadata": {
        "id": "RdpC0rQAF9IE"
      },
      "execution_count": null,
      "outputs": []
    },
    {
      "cell_type": "code",
      "source": [
        "execution_df['binary_scoring_accuracy'] = scoring_accuracy"
      ],
      "metadata": {
        "id": "JPgXtXDoGkMA"
      },
      "execution_count": null,
      "outputs": []
    },
    {
      "cell_type": "code",
      "source": [
        "result = execution_df.groupby(['task'], as_index=False).agg({'binary_scoring_accuracy':['mean','sem']})"
      ],
      "metadata": {
        "id": "YxJFoJkTHOEQ"
      },
      "execution_count": null,
      "outputs": []
    },
    {
      "cell_type": "code",
      "source": [
        "result"
      ],
      "metadata": {
        "colab": {
          "base_uri": "https://localhost:8080/",
          "height": 895
        },
        "id": "vo3L30zIHnYR",
        "outputId": "9512fc09-c4b0-4ca6-eb33-98b0eb0dfccb"
      },
      "execution_count": null,
      "outputs": [
        {
          "output_type": "execute_result",
          "data": {
            "text/plain": [
              "                                                 task binary_scoring_accuracy  \\\n",
              "                                                                         mean   \n",
              "0                   Combine the Hartree and Fock term                0.500000   \n",
              "1   Construct Kinetic Hamiltonian (continuum versi...                0.500000   \n",
              "2   Construct Kinetic Hamiltonian (continuum versi...                0.600000   \n",
              "3     Construct Kinetic Hamiltonian (lattice version)                1.000000   \n",
              "4   Construct Potential Hamiltonian (continuum ver...                0.750000   \n",
              "5   Construct interaction Hamiltonian (momentum sp...                0.714286   \n",
              "6   Construct interaction Hamiltonian (real space,...                0.857143   \n",
              "7   Convert from single-particle to second-quantiz...                0.750000   \n",
              "8   Convert from single-particle to second-quantiz...                0.500000   \n",
              "9   Convert interacting Hamiltonian in real space ...                1.000000   \n",
              "10  Convert noninteracting Hamiltonian in real spa...                0.500000   \n",
              "11  Convert noninteracting Hamiltonian in real spa...                1.000000   \n",
              "12  Define each term in Kinetic Hamiltonian (conti...                0.857143   \n",
              "13  Define each term in Potential Hamiltonian (con...                0.500000   \n",
              "14                                 Expand interaction                0.727273   \n",
              "15                             Extract quadratic term                0.785714   \n",
              "16                                  Hartree term only                1.000000   \n",
              "17                       Particle-hole transformation                1.000000   \n",
              "18  Reduce momentum in Fock term (momentum in BZ +...                0.750000   \n",
              "19      Reduce momentum in Fock term (momentum in BZ)                0.750000   \n",
              "20  Reduce momentum in Hartree term (momentum in B...                0.875000   \n",
              "21   Reduce momentum in Hartree term (momentum in BZ)                1.000000   \n",
              "22  Simplify the Hamiltonian in the particle-hole ...                1.000000   \n",
              "23                                Swap the index only                0.857143   \n",
              "24   Swap the index to combine Hartree and Fock terms                0.857143   \n",
              "25                                     Wick's theorem                0.785714   \n",
              "\n",
              "              \n",
              "         sem  \n",
              "0   0.150756  \n",
              "1   0.500000  \n",
              "2   0.244949  \n",
              "3   0.000000  \n",
              "4   0.250000  \n",
              "5   0.184428  \n",
              "6   0.142857  \n",
              "7   0.250000  \n",
              "8   0.288675  \n",
              "9   0.000000  \n",
              "10  0.500000  \n",
              "11  0.000000  \n",
              "12  0.142857  \n",
              "13  0.288675  \n",
              "14  0.140836  \n",
              "15  0.113804  \n",
              "16       NaN  \n",
              "17       NaN  \n",
              "18  0.163663  \n",
              "19  0.250000  \n",
              "20  0.125000  \n",
              "21  0.000000  \n",
              "22       NaN  \n",
              "23  0.142857  \n",
              "24  0.142857  \n",
              "25  0.113804  "
            ],
            "text/html": [
              "\n",
              "  <div id=\"df-ab08f13a-be8f-4601-b889-0acecb192c8d\" class=\"colab-df-container\">\n",
              "    <div>\n",
              "<style scoped>\n",
              "    .dataframe tbody tr th:only-of-type {\n",
              "        vertical-align: middle;\n",
              "    }\n",
              "\n",
              "    .dataframe tbody tr th {\n",
              "        vertical-align: top;\n",
              "    }\n",
              "\n",
              "    .dataframe thead tr th {\n",
              "        text-align: left;\n",
              "    }\n",
              "</style>\n",
              "<table border=\"1\" class=\"dataframe\">\n",
              "  <thead>\n",
              "    <tr>\n",
              "      <th></th>\n",
              "      <th>task</th>\n",
              "      <th colspan=\"2\" halign=\"left\">binary_scoring_accuracy</th>\n",
              "    </tr>\n",
              "    <tr>\n",
              "      <th></th>\n",
              "      <th></th>\n",
              "      <th>mean</th>\n",
              "      <th>sem</th>\n",
              "    </tr>\n",
              "  </thead>\n",
              "  <tbody>\n",
              "    <tr>\n",
              "      <th>0</th>\n",
              "      <td>Combine the Hartree and Fock term</td>\n",
              "      <td>0.500000</td>\n",
              "      <td>0.150756</td>\n",
              "    </tr>\n",
              "    <tr>\n",
              "      <th>1</th>\n",
              "      <td>Construct Kinetic Hamiltonian (continuum versi...</td>\n",
              "      <td>0.500000</td>\n",
              "      <td>0.500000</td>\n",
              "    </tr>\n",
              "    <tr>\n",
              "      <th>2</th>\n",
              "      <td>Construct Kinetic Hamiltonian (continuum versi...</td>\n",
              "      <td>0.600000</td>\n",
              "      <td>0.244949</td>\n",
              "    </tr>\n",
              "    <tr>\n",
              "      <th>3</th>\n",
              "      <td>Construct Kinetic Hamiltonian (lattice version)</td>\n",
              "      <td>1.000000</td>\n",
              "      <td>0.000000</td>\n",
              "    </tr>\n",
              "    <tr>\n",
              "      <th>4</th>\n",
              "      <td>Construct Potential Hamiltonian (continuum ver...</td>\n",
              "      <td>0.750000</td>\n",
              "      <td>0.250000</td>\n",
              "    </tr>\n",
              "    <tr>\n",
              "      <th>5</th>\n",
              "      <td>Construct interaction Hamiltonian (momentum sp...</td>\n",
              "      <td>0.714286</td>\n",
              "      <td>0.184428</td>\n",
              "    </tr>\n",
              "    <tr>\n",
              "      <th>6</th>\n",
              "      <td>Construct interaction Hamiltonian (real space,...</td>\n",
              "      <td>0.857143</td>\n",
              "      <td>0.142857</td>\n",
              "    </tr>\n",
              "    <tr>\n",
              "      <th>7</th>\n",
              "      <td>Convert from single-particle to second-quantiz...</td>\n",
              "      <td>0.750000</td>\n",
              "      <td>0.250000</td>\n",
              "    </tr>\n",
              "    <tr>\n",
              "      <th>8</th>\n",
              "      <td>Convert from single-particle to second-quantiz...</td>\n",
              "      <td>0.500000</td>\n",
              "      <td>0.288675</td>\n",
              "    </tr>\n",
              "    <tr>\n",
              "      <th>9</th>\n",
              "      <td>Convert interacting Hamiltonian in real space ...</td>\n",
              "      <td>1.000000</td>\n",
              "      <td>0.000000</td>\n",
              "    </tr>\n",
              "    <tr>\n",
              "      <th>10</th>\n",
              "      <td>Convert noninteracting Hamiltonian in real spa...</td>\n",
              "      <td>0.500000</td>\n",
              "      <td>0.500000</td>\n",
              "    </tr>\n",
              "    <tr>\n",
              "      <th>11</th>\n",
              "      <td>Convert noninteracting Hamiltonian in real spa...</td>\n",
              "      <td>1.000000</td>\n",
              "      <td>0.000000</td>\n",
              "    </tr>\n",
              "    <tr>\n",
              "      <th>12</th>\n",
              "      <td>Define each term in Kinetic Hamiltonian (conti...</td>\n",
              "      <td>0.857143</td>\n",
              "      <td>0.142857</td>\n",
              "    </tr>\n",
              "    <tr>\n",
              "      <th>13</th>\n",
              "      <td>Define each term in Potential Hamiltonian (con...</td>\n",
              "      <td>0.500000</td>\n",
              "      <td>0.288675</td>\n",
              "    </tr>\n",
              "    <tr>\n",
              "      <th>14</th>\n",
              "      <td>Expand interaction</td>\n",
              "      <td>0.727273</td>\n",
              "      <td>0.140836</td>\n",
              "    </tr>\n",
              "    <tr>\n",
              "      <th>15</th>\n",
              "      <td>Extract quadratic term</td>\n",
              "      <td>0.785714</td>\n",
              "      <td>0.113804</td>\n",
              "    </tr>\n",
              "    <tr>\n",
              "      <th>16</th>\n",
              "      <td>Hartree term only</td>\n",
              "      <td>1.000000</td>\n",
              "      <td>NaN</td>\n",
              "    </tr>\n",
              "    <tr>\n",
              "      <th>17</th>\n",
              "      <td>Particle-hole transformation</td>\n",
              "      <td>1.000000</td>\n",
              "      <td>NaN</td>\n",
              "    </tr>\n",
              "    <tr>\n",
              "      <th>18</th>\n",
              "      <td>Reduce momentum in Fock term (momentum in BZ +...</td>\n",
              "      <td>0.750000</td>\n",
              "      <td>0.163663</td>\n",
              "    </tr>\n",
              "    <tr>\n",
              "      <th>19</th>\n",
              "      <td>Reduce momentum in Fock term (momentum in BZ)</td>\n",
              "      <td>0.750000</td>\n",
              "      <td>0.250000</td>\n",
              "    </tr>\n",
              "    <tr>\n",
              "      <th>20</th>\n",
              "      <td>Reduce momentum in Hartree term (momentum in B...</td>\n",
              "      <td>0.875000</td>\n",
              "      <td>0.125000</td>\n",
              "    </tr>\n",
              "    <tr>\n",
              "      <th>21</th>\n",
              "      <td>Reduce momentum in Hartree term (momentum in BZ)</td>\n",
              "      <td>1.000000</td>\n",
              "      <td>0.000000</td>\n",
              "    </tr>\n",
              "    <tr>\n",
              "      <th>22</th>\n",
              "      <td>Simplify the Hamiltonian in the particle-hole ...</td>\n",
              "      <td>1.000000</td>\n",
              "      <td>NaN</td>\n",
              "    </tr>\n",
              "    <tr>\n",
              "      <th>23</th>\n",
              "      <td>Swap the index only</td>\n",
              "      <td>0.857143</td>\n",
              "      <td>0.142857</td>\n",
              "    </tr>\n",
              "    <tr>\n",
              "      <th>24</th>\n",
              "      <td>Swap the index to combine Hartree and Fock terms</td>\n",
              "      <td>0.857143</td>\n",
              "      <td>0.142857</td>\n",
              "    </tr>\n",
              "    <tr>\n",
              "      <th>25</th>\n",
              "      <td>Wick's theorem</td>\n",
              "      <td>0.785714</td>\n",
              "      <td>0.113804</td>\n",
              "    </tr>\n",
              "  </tbody>\n",
              "</table>\n",
              "</div>\n",
              "    <div class=\"colab-df-buttons\">\n",
              "\n",
              "  <div class=\"colab-df-container\">\n",
              "    <button class=\"colab-df-convert\" onclick=\"convertToInteractive('df-ab08f13a-be8f-4601-b889-0acecb192c8d')\"\n",
              "            title=\"Convert this dataframe to an interactive table.\"\n",
              "            style=\"display:none;\">\n",
              "\n",
              "  <svg xmlns=\"http://www.w3.org/2000/svg\" height=\"24px\" viewBox=\"0 -960 960 960\">\n",
              "    <path d=\"M120-120v-720h720v720H120Zm60-500h600v-160H180v160Zm220 220h160v-160H400v160Zm0 220h160v-160H400v160ZM180-400h160v-160H180v160Zm440 0h160v-160H620v160ZM180-180h160v-160H180v160Zm440 0h160v-160H620v160Z\"/>\n",
              "  </svg>\n",
              "    </button>\n",
              "\n",
              "  <style>\n",
              "    .colab-df-container {\n",
              "      display:flex;\n",
              "      gap: 12px;\n",
              "    }\n",
              "\n",
              "    .colab-df-convert {\n",
              "      background-color: #E8F0FE;\n",
              "      border: none;\n",
              "      border-radius: 50%;\n",
              "      cursor: pointer;\n",
              "      display: none;\n",
              "      fill: #1967D2;\n",
              "      height: 32px;\n",
              "      padding: 0 0 0 0;\n",
              "      width: 32px;\n",
              "    }\n",
              "\n",
              "    .colab-df-convert:hover {\n",
              "      background-color: #E2EBFA;\n",
              "      box-shadow: 0px 1px 2px rgba(60, 64, 67, 0.3), 0px 1px 3px 1px rgba(60, 64, 67, 0.15);\n",
              "      fill: #174EA6;\n",
              "    }\n",
              "\n",
              "    .colab-df-buttons div {\n",
              "      margin-bottom: 4px;\n",
              "    }\n",
              "\n",
              "    [theme=dark] .colab-df-convert {\n",
              "      background-color: #3B4455;\n",
              "      fill: #D2E3FC;\n",
              "    }\n",
              "\n",
              "    [theme=dark] .colab-df-convert:hover {\n",
              "      background-color: #434B5C;\n",
              "      box-shadow: 0px 1px 3px 1px rgba(0, 0, 0, 0.15);\n",
              "      filter: drop-shadow(0px 1px 2px rgba(0, 0, 0, 0.3));\n",
              "      fill: #FFFFFF;\n",
              "    }\n",
              "  </style>\n",
              "\n",
              "    <script>\n",
              "      const buttonEl =\n",
              "        document.querySelector('#df-ab08f13a-be8f-4601-b889-0acecb192c8d button.colab-df-convert');\n",
              "      buttonEl.style.display =\n",
              "        google.colab.kernel.accessAllowed ? 'block' : 'none';\n",
              "\n",
              "      async function convertToInteractive(key) {\n",
              "        const element = document.querySelector('#df-ab08f13a-be8f-4601-b889-0acecb192c8d');\n",
              "        const dataTable =\n",
              "          await google.colab.kernel.invokeFunction('convertToInteractive',\n",
              "                                                    [key], {});\n",
              "        if (!dataTable) return;\n",
              "\n",
              "        const docLinkHtml = 'Like what you see? Visit the ' +\n",
              "          '<a target=\"_blank\" href=https://colab.research.google.com/notebooks/data_table.ipynb>data table notebook</a>'\n",
              "          + ' to learn more about interactive tables.';\n",
              "        element.innerHTML = '';\n",
              "        dataTable['output_type'] = 'display_data';\n",
              "        await google.colab.output.renderOutput(dataTable, element);\n",
              "        const docLink = document.createElement('div');\n",
              "        docLink.innerHTML = docLinkHtml;\n",
              "        element.appendChild(docLink);\n",
              "      }\n",
              "    </script>\n",
              "  </div>\n",
              "\n",
              "\n",
              "<div id=\"df-dbd34bdd-d92f-4186-81d0-ab5dd742e64b\">\n",
              "  <button class=\"colab-df-quickchart\" onclick=\"quickchart('df-dbd34bdd-d92f-4186-81d0-ab5dd742e64b')\"\n",
              "            title=\"Suggest charts\"\n",
              "            style=\"display:none;\">\n",
              "\n",
              "<svg xmlns=\"http://www.w3.org/2000/svg\" height=\"24px\"viewBox=\"0 0 24 24\"\n",
              "     width=\"24px\">\n",
              "    <g>\n",
              "        <path d=\"M19 3H5c-1.1 0-2 .9-2 2v14c0 1.1.9 2 2 2h14c1.1 0 2-.9 2-2V5c0-1.1-.9-2-2-2zM9 17H7v-7h2v7zm4 0h-2V7h2v10zm4 0h-2v-4h2v4z\"/>\n",
              "    </g>\n",
              "</svg>\n",
              "  </button>\n",
              "\n",
              "<style>\n",
              "  .colab-df-quickchart {\n",
              "      --bg-color: #E8F0FE;\n",
              "      --fill-color: #1967D2;\n",
              "      --hover-bg-color: #E2EBFA;\n",
              "      --hover-fill-color: #174EA6;\n",
              "      --disabled-fill-color: #AAA;\n",
              "      --disabled-bg-color: #DDD;\n",
              "  }\n",
              "\n",
              "  [theme=dark] .colab-df-quickchart {\n",
              "      --bg-color: #3B4455;\n",
              "      --fill-color: #D2E3FC;\n",
              "      --hover-bg-color: #434B5C;\n",
              "      --hover-fill-color: #FFFFFF;\n",
              "      --disabled-bg-color: #3B4455;\n",
              "      --disabled-fill-color: #666;\n",
              "  }\n",
              "\n",
              "  .colab-df-quickchart {\n",
              "    background-color: var(--bg-color);\n",
              "    border: none;\n",
              "    border-radius: 50%;\n",
              "    cursor: pointer;\n",
              "    display: none;\n",
              "    fill: var(--fill-color);\n",
              "    height: 32px;\n",
              "    padding: 0;\n",
              "    width: 32px;\n",
              "  }\n",
              "\n",
              "  .colab-df-quickchart:hover {\n",
              "    background-color: var(--hover-bg-color);\n",
              "    box-shadow: 0 1px 2px rgba(60, 64, 67, 0.3), 0 1px 3px 1px rgba(60, 64, 67, 0.15);\n",
              "    fill: var(--button-hover-fill-color);\n",
              "  }\n",
              "\n",
              "  .colab-df-quickchart-complete:disabled,\n",
              "  .colab-df-quickchart-complete:disabled:hover {\n",
              "    background-color: var(--disabled-bg-color);\n",
              "    fill: var(--disabled-fill-color);\n",
              "    box-shadow: none;\n",
              "  }\n",
              "\n",
              "  .colab-df-spinner {\n",
              "    border: 2px solid var(--fill-color);\n",
              "    border-color: transparent;\n",
              "    border-bottom-color: var(--fill-color);\n",
              "    animation:\n",
              "      spin 1s steps(1) infinite;\n",
              "  }\n",
              "\n",
              "  @keyframes spin {\n",
              "    0% {\n",
              "      border-color: transparent;\n",
              "      border-bottom-color: var(--fill-color);\n",
              "      border-left-color: var(--fill-color);\n",
              "    }\n",
              "    20% {\n",
              "      border-color: transparent;\n",
              "      border-left-color: var(--fill-color);\n",
              "      border-top-color: var(--fill-color);\n",
              "    }\n",
              "    30% {\n",
              "      border-color: transparent;\n",
              "      border-left-color: var(--fill-color);\n",
              "      border-top-color: var(--fill-color);\n",
              "      border-right-color: var(--fill-color);\n",
              "    }\n",
              "    40% {\n",
              "      border-color: transparent;\n",
              "      border-right-color: var(--fill-color);\n",
              "      border-top-color: var(--fill-color);\n",
              "    }\n",
              "    60% {\n",
              "      border-color: transparent;\n",
              "      border-right-color: var(--fill-color);\n",
              "    }\n",
              "    80% {\n",
              "      border-color: transparent;\n",
              "      border-right-color: var(--fill-color);\n",
              "      border-bottom-color: var(--fill-color);\n",
              "    }\n",
              "    90% {\n",
              "      border-color: transparent;\n",
              "      border-bottom-color: var(--fill-color);\n",
              "    }\n",
              "  }\n",
              "</style>\n",
              "\n",
              "  <script>\n",
              "    async function quickchart(key) {\n",
              "      const quickchartButtonEl =\n",
              "        document.querySelector('#' + key + ' button');\n",
              "      quickchartButtonEl.disabled = true;  // To prevent multiple clicks.\n",
              "      quickchartButtonEl.classList.add('colab-df-spinner');\n",
              "      try {\n",
              "        const charts = await google.colab.kernel.invokeFunction(\n",
              "            'suggestCharts', [key], {});\n",
              "      } catch (error) {\n",
              "        console.error('Error during call to suggestCharts:', error);\n",
              "      }\n",
              "      quickchartButtonEl.classList.remove('colab-df-spinner');\n",
              "      quickchartButtonEl.classList.add('colab-df-quickchart-complete');\n",
              "    }\n",
              "    (() => {\n",
              "      let quickchartButtonEl =\n",
              "        document.querySelector('#df-dbd34bdd-d92f-4186-81d0-ab5dd742e64b button');\n",
              "      quickchartButtonEl.style.display =\n",
              "        google.colab.kernel.accessAllowed ? 'block' : 'none';\n",
              "    })();\n",
              "  </script>\n",
              "</div>\n",
              "\n",
              "  <div id=\"id_92ac36dd-0f61-4d41-a214-dec8661ff7b9\">\n",
              "    <style>\n",
              "      .colab-df-generate {\n",
              "        background-color: #E8F0FE;\n",
              "        border: none;\n",
              "        border-radius: 50%;\n",
              "        cursor: pointer;\n",
              "        display: none;\n",
              "        fill: #1967D2;\n",
              "        height: 32px;\n",
              "        padding: 0 0 0 0;\n",
              "        width: 32px;\n",
              "      }\n",
              "\n",
              "      .colab-df-generate:hover {\n",
              "        background-color: #E2EBFA;\n",
              "        box-shadow: 0px 1px 2px rgba(60, 64, 67, 0.3), 0px 1px 3px 1px rgba(60, 64, 67, 0.15);\n",
              "        fill: #174EA6;\n",
              "      }\n",
              "\n",
              "      [theme=dark] .colab-df-generate {\n",
              "        background-color: #3B4455;\n",
              "        fill: #D2E3FC;\n",
              "      }\n",
              "\n",
              "      [theme=dark] .colab-df-generate:hover {\n",
              "        background-color: #434B5C;\n",
              "        box-shadow: 0px 1px 3px 1px rgba(0, 0, 0, 0.15);\n",
              "        filter: drop-shadow(0px 1px 2px rgba(0, 0, 0, 0.3));\n",
              "        fill: #FFFFFF;\n",
              "      }\n",
              "    </style>\n",
              "    <button class=\"colab-df-generate\" onclick=\"generateWithVariable('result')\"\n",
              "            title=\"Generate code using this dataframe.\"\n",
              "            style=\"display:none;\">\n",
              "\n",
              "  <svg xmlns=\"http://www.w3.org/2000/svg\" height=\"24px\"viewBox=\"0 0 24 24\"\n",
              "       width=\"24px\">\n",
              "    <path d=\"M7,19H8.4L18.45,9,17,7.55,7,17.6ZM5,21V16.75L18.45,3.32a2,2,0,0,1,2.83,0l1.4,1.43a1.91,1.91,0,0,1,.58,1.4,1.91,1.91,0,0,1-.58,1.4L9.25,21ZM18.45,9,17,7.55Zm-12,3A5.31,5.31,0,0,0,4.9,8.1,5.31,5.31,0,0,0,1,6.5,5.31,5.31,0,0,0,4.9,4.9,5.31,5.31,0,0,0,6.5,1,5.31,5.31,0,0,0,8.1,4.9,5.31,5.31,0,0,0,12,6.5,5.46,5.46,0,0,0,6.5,12Z\"/>\n",
              "  </svg>\n",
              "    </button>\n",
              "    <script>\n",
              "      (() => {\n",
              "      const buttonEl =\n",
              "        document.querySelector('#id_92ac36dd-0f61-4d41-a214-dec8661ff7b9 button.colab-df-generate');\n",
              "      buttonEl.style.display =\n",
              "        google.colab.kernel.accessAllowed ? 'block' : 'none';\n",
              "\n",
              "      buttonEl.onclick = () => {\n",
              "        google.colab.notebook.generateWithVariable('result');\n",
              "      }\n",
              "      })();\n",
              "    </script>\n",
              "  </div>\n",
              "\n",
              "    </div>\n",
              "  </div>\n"
            ],
            "application/vnd.google.colaboratory.intrinsic+json": {
              "type": "dataframe",
              "variable_name": "result",
              "summary": "{\n  \"name\": \"result\",\n  \"rows\": 26,\n  \"fields\": [\n    {\n      \"column\": [\n        \"task\",\n        \"\"\n      ],\n      \"properties\": {\n        \"dtype\": \"string\",\n        \"samples\": [\n          \"Convert from single-particle to second-quantized form, return in summation (expand the matrix)\",\n          \"Hartree term only\",\n          \"Combine the Hartree and Fock term\"\n        ],\n        \"num_unique_values\": 26,\n        \"semantic_type\": \"\",\n        \"description\": \"\"\n      }\n    },\n    {\n      \"column\": [\n        \"binary_scoring_accuracy\",\n        \"mean\"\n      ],\n      \"properties\": {\n        \"dtype\": \"number\",\n        \"std\": 0.17956343521146742,\n        \"min\": 0.5,\n        \"max\": 1.0,\n        \"samples\": [\n          0.7857142857142857,\n          0.6,\n          0.8571428571428571\n        ],\n        \"num_unique_values\": 9,\n        \"semantic_type\": \"\",\n        \"description\": \"\"\n      }\n    },\n    {\n      \"column\": [\n        \"binary_scoring_accuracy\",\n        \"sem\"\n      ],\n      \"properties\": {\n        \"dtype\": \"number\",\n        \"std\": 0.13432000701273886,\n        \"min\": 0.0,\n        \"max\": 0.5,\n        \"samples\": [\n          0.16366341767699427,\n          0.11380392954509878,\n          0.15075567228888181\n        ],\n        \"num_unique_values\": 12,\n        \"semantic_type\": \"\",\n        \"description\": \"\"\n      }\n    }\n  ]\n}"
            }
          },
          "metadata": {},
          "execution_count": 17
        }
      ]
    },
    {
      "cell_type": "code",
      "source": [
        "mean_tasks = result['binary_scoring_accuracy']['mean'].to_numpy()\n",
        "sem_tasks = result['binary_scoring_accuracy']['sem'].to_numpy()\n",
        "mask_single_tasks = ~np.isnan(sem_tasks)"
      ],
      "metadata": {
        "id": "SmyHK02AH-NZ"
      },
      "execution_count": null,
      "outputs": []
    },
    {
      "cell_type": "code",
      "source": [
        "mask_single_tasks.sum()"
      ],
      "metadata": {
        "colab": {
          "base_uri": "https://localhost:8080/"
        },
        "id": "ykjoW9L0HwcE",
        "outputId": "4b719308-5a0f-43f0-c844-04a263136491"
      },
      "execution_count": null,
      "outputs": [
        {
          "output_type": "execute_result",
          "data": {
            "text/plain": [
              "23"
            ]
          },
          "metadata": {},
          "execution_count": 20
        }
      ]
    },
    {
      "cell_type": "code",
      "source": [
        "mean_tasks_pl = mean_tasks[mask_single_tasks]\n",
        "sem_tasks_pl = sem_tasks[mask_single_tasks]"
      ],
      "metadata": {
        "id": "rsEsk0r4Io30"
      },
      "execution_count": null,
      "outputs": []
    },
    {
      "cell_type": "code",
      "source": [
        "task_names = result['task'].to_numpy()[mask_single_tasks]"
      ],
      "metadata": {
        "id": "BL_YfU9lI1U4"
      },
      "execution_count": null,
      "outputs": []
    },
    {
      "cell_type": "code",
      "source": [
        "del plt"
      ],
      "metadata": {
        "id": "D5q4H036JfME"
      },
      "execution_count": null,
      "outputs": []
    },
    {
      "cell_type": "code",
      "source": [
        "import matplotlib.pyplot as plt\n",
        "width = 0.5\n",
        "\n",
        "Ntasks = mask_single_tasks.sum()\n",
        "fig, ax = plt.subplots()\n",
        "ax.barh(np.arange(Ntasks), mean_tasks_pl, xerr=sem_tasks_pl, height=width, label = 'LM Scoring Accuracy')\n",
        "ax.set_yticks(np.arange(Ntasks)-width*0.5, task_names)\n",
        "ax.legend()\n",
        "ax.invert_yaxis()\n",
        "plt.savefig(os.path.join(ZS_DIR, 'scoring_accuracy.png'))\n",
        "plt.show()"
      ],
      "metadata": {
        "colab": {
          "base_uri": "https://localhost:8080/",
          "height": 430
        },
        "id": "3OLSZ0L6F29e",
        "outputId": "ee124ab9-aa1f-41cc-c056-53a33672af8c"
      },
      "execution_count": null,
      "outputs": [
        {
          "output_type": "display_data",
          "data": {
            "text/plain": [
              "<Figure size 640x480 with 1 Axes>"
            ],
            "image/png": "[encoded data removed]"
          },
          "metadata": {}
        }
      ]
    },
    {
      "cell_type": "code",
      "source": [
        "result = execution_df.groupby(['task'], as_index=True).agg({'binary_scoring_accuracy':['mean','sem'], 'task': ['count']})"
      ],
      "metadata": {
        "id": "I4zg4dzIA77W"
      },
      "execution_count": null,
      "outputs": []
    },
    {
      "cell_type": "code",
      "source": [
        "result"
      ],
      "metadata": {
        "colab": {
          "base_uri": "https://localhost:8080/",
          "height": 926
        },
        "id": "gH70mHmDBYpG",
        "outputId": "8ef9d0a9-c8ee-4b95-d99d-584ac5290c39"
      },
      "execution_count": null,
      "outputs": [
        {
          "output_type": "execute_result",
          "data": {
            "text/plain": [
              "                                                   binary_scoring_accuracy  \\\n",
              "                                                                      mean   \n",
              "task                                                                         \n",
              "Combine the Hartree and Fock term                                 0.500000   \n",
              "Construct Kinetic Hamiltonian (continuum versio...                0.500000   \n",
              "Construct Kinetic Hamiltonian (continuum versio...                0.600000   \n",
              "Construct Kinetic Hamiltonian (lattice version)                   1.000000   \n",
              "Construct Potential Hamiltonian (continuum vers...                0.750000   \n",
              "Construct interaction Hamiltonian (momentum space)                0.714286   \n",
              "Construct interaction Hamiltonian (real space, ...                0.857143   \n",
              "Convert from single-particle to second-quantize...                0.750000   \n",
              "Convert from single-particle to second-quantize...                0.500000   \n",
              "Convert interacting Hamiltonian in real space t...                1.000000   \n",
              "Convert noninteracting Hamiltonian in real spac...                0.500000   \n",
              "Convert noninteracting Hamiltonian in real spac...                1.000000   \n",
              "Define each term in Kinetic Hamiltonian (contin...                0.857143   \n",
              "Define each term in Potential Hamiltonian (cont...                0.500000   \n",
              "Expand interaction                                                0.727273   \n",
              "Extract quadratic term                                            0.785714   \n",
              "Hartree term only                                                 1.000000   \n",
              "Particle-hole transformation                                      1.000000   \n",
              "Reduce momentum in Fock term (momentum in BZ + ...                0.750000   \n",
              "Reduce momentum in Fock term (momentum in BZ)                     0.750000   \n",
              "Reduce momentum in Hartree term (momentum in BZ...                0.875000   \n",
              "Reduce momentum in Hartree term (momentum in BZ)                  1.000000   \n",
              "Simplify the Hamiltonian in the particle-hole b...                1.000000   \n",
              "Swap the index only                                               0.857143   \n",
              "Swap the index to combine Hartree and Fock terms                  0.857143   \n",
              "Wick's theorem                                                    0.785714   \n",
              "\n",
              "                                                              task  \n",
              "                                                         sem count  \n",
              "task                                                                \n",
              "Combine the Hartree and Fock term                   0.150756    12  \n",
              "Construct Kinetic Hamiltonian (continuum versio...  0.500000     2  \n",
              "Construct Kinetic Hamiltonian (continuum versio...  0.244949     5  \n",
              "Construct Kinetic Hamiltonian (lattice version)     0.000000     7  \n",
              "Construct Potential Hamiltonian (continuum vers...  0.250000     4  \n",
              "Construct interaction Hamiltonian (momentum space)  0.184428     7  \n",
              "Construct interaction Hamiltonian (real space, ...  0.142857     7  \n",
              "Convert from single-particle to second-quantize...  0.250000     4  \n",
              "Convert from single-particle to second-quantize...  0.288675     4  \n",
              "Convert interacting Hamiltonian in real space t...  0.000000     7  \n",
              "Convert noninteracting Hamiltonian in real spac...  0.500000     2  \n",
              "Convert noninteracting Hamiltonian in real spac...  0.000000     7  \n",
              "Define each term in Kinetic Hamiltonian (contin...  0.142857     7  \n",
              "Define each term in Potential Hamiltonian (cont...  0.288675     4  \n",
              "Expand interaction                                  0.140836    11  \n",
              "Extract quadratic term                              0.113804    14  \n",
              "Hartree term only                                        NaN     1  \n",
              "Particle-hole transformation                             NaN     1  \n",
              "Reduce momentum in Fock term (momentum in BZ + ...  0.163663     8  \n",
              "Reduce momentum in Fock term (momentum in BZ)       0.250000     4  \n",
              "Reduce momentum in Hartree term (momentum in BZ...  0.125000     8  \n",
              "Reduce momentum in Hartree term (momentum in BZ)    0.000000     5  \n",
              "Simplify the Hamiltonian in the particle-hole b...       NaN     1  \n",
              "Swap the index only                                 0.142857     7  \n",
              "Swap the index to combine Hartree and Fock terms    0.142857     7  \n",
              "Wick's theorem                                      0.113804    14  "
            ],
            "text/html": [
              "\n",
              "  <div id=\"df-727dec19-8d1c-4f44-8c57-788bacd2803b\" class=\"colab-df-container\">\n",
              "    <div>\n",
              "<style scoped>\n",
              "    .dataframe tbody tr th:only-of-type {\n",
              "        vertical-align: middle;\n",
              "    }\n",
              "\n",
              "    .dataframe tbody tr th {\n",
              "        vertical-align: top;\n",
              "    }\n",
              "\n",
              "    .dataframe thead tr th {\n",
              "        text-align: left;\n",
              "    }\n",
              "\n",
              "    .dataframe thead tr:last-of-type th {\n",
              "        text-align: right;\n",
              "    }\n",
              "</style>\n",
              "<table border=\"1\" class=\"dataframe\">\n",
              "  <thead>\n",
              "    <tr>\n",
              "      <th></th>\n",
              "      <th colspan=\"2\" halign=\"left\">binary_scoring_accuracy</th>\n",
              "      <th>task</th>\n",
              "    </tr>\n",
              "    <tr>\n",
              "      <th></th>\n",
              "      <th>mean</th>\n",
              "      <th>sem</th>\n",
              "      <th>count</th>\n",
              "    </tr>\n",
              "    <tr>\n",
              "      <th>task</th>\n",
              "      <th></th>\n",
              "      <th></th>\n",
              "      <th></th>\n",
              "    </tr>\n",
              "  </thead>\n",
              "  <tbody>\n",
              "    <tr>\n",
              "      <th>Combine the Hartree and Fock term</th>\n",
              "      <td>0.500000</td>\n",
              "      <td>0.150756</td>\n",
              "      <td>12</td>\n",
              "    </tr>\n",
              "    <tr>\n",
              "      <th>Construct Kinetic Hamiltonian (continuum version, second-quantized)</th>\n",
              "      <td>0.500000</td>\n",
              "      <td>0.500000</td>\n",
              "      <td>2</td>\n",
              "    </tr>\n",
              "    <tr>\n",
              "      <th>Construct Kinetic Hamiltonian (continuum version, single-particle)</th>\n",
              "      <td>0.600000</td>\n",
              "      <td>0.244949</td>\n",
              "      <td>5</td>\n",
              "    </tr>\n",
              "    <tr>\n",
              "      <th>Construct Kinetic Hamiltonian (lattice version)</th>\n",
              "      <td>1.000000</td>\n",
              "      <td>0.000000</td>\n",
              "      <td>7</td>\n",
              "    </tr>\n",
              "    <tr>\n",
              "      <th>Construct Potential Hamiltonian (continuum version)</th>\n",
              "      <td>0.750000</td>\n",
              "      <td>0.250000</td>\n",
              "      <td>4</td>\n",
              "    </tr>\n",
              "    <tr>\n",
              "      <th>Construct interaction Hamiltonian (momentum space)</th>\n",
              "      <td>0.714286</td>\n",
              "      <td>0.184428</td>\n",
              "      <td>7</td>\n",
              "    </tr>\n",
              "    <tr>\n",
              "      <th>Construct interaction Hamiltonian (real space, lattice version)</th>\n",
              "      <td>0.857143</td>\n",
              "      <td>0.142857</td>\n",
              "      <td>7</td>\n",
              "    </tr>\n",
              "    <tr>\n",
              "      <th>Convert from single-particle to second-quantized form, return in matrix</th>\n",
              "      <td>0.750000</td>\n",
              "      <td>0.250000</td>\n",
              "      <td>4</td>\n",
              "    </tr>\n",
              "    <tr>\n",
              "      <th>Convert from single-particle to second-quantized form, return in summation (expand the matrix)</th>\n",
              "      <td>0.500000</td>\n",
              "      <td>0.288675</td>\n",
              "      <td>4</td>\n",
              "    </tr>\n",
              "    <tr>\n",
              "      <th>Convert interacting Hamiltonian in real space to momentum space (lattice version)</th>\n",
              "      <td>1.000000</td>\n",
              "      <td>0.000000</td>\n",
              "      <td>7</td>\n",
              "    </tr>\n",
              "    <tr>\n",
              "      <th>Convert noninteracting Hamiltonian in real space to momentum space (continuum version)</th>\n",
              "      <td>0.500000</td>\n",
              "      <td>0.500000</td>\n",
              "      <td>2</td>\n",
              "    </tr>\n",
              "    <tr>\n",
              "      <th>Convert noninteracting Hamiltonian in real space to momentum space (lattice version)</th>\n",
              "      <td>1.000000</td>\n",
              "      <td>0.000000</td>\n",
              "      <td>7</td>\n",
              "    </tr>\n",
              "    <tr>\n",
              "      <th>Define each term in Kinetic Hamiltonian (continuum version)</th>\n",
              "      <td>0.857143</td>\n",
              "      <td>0.142857</td>\n",
              "      <td>7</td>\n",
              "    </tr>\n",
              "    <tr>\n",
              "      <th>Define each term in Potential Hamiltonian (continuum version)</th>\n",
              "      <td>0.500000</td>\n",
              "      <td>0.288675</td>\n",
              "      <td>4</td>\n",
              "    </tr>\n",
              "    <tr>\n",
              "      <th>Expand interaction</th>\n",
              "      <td>0.727273</td>\n",
              "      <td>0.140836</td>\n",
              "      <td>11</td>\n",
              "    </tr>\n",
              "    <tr>\n",
              "      <th>Extract quadratic term</th>\n",
              "      <td>0.785714</td>\n",
              "      <td>0.113804</td>\n",
              "      <td>14</td>\n",
              "    </tr>\n",
              "    <tr>\n",
              "      <th>Hartree term only</th>\n",
              "      <td>1.000000</td>\n",
              "      <td>NaN</td>\n",
              "      <td>1</td>\n",
              "    </tr>\n",
              "    <tr>\n",
              "      <th>Particle-hole transformation</th>\n",
              "      <td>1.000000</td>\n",
              "      <td>NaN</td>\n",
              "      <td>1</td>\n",
              "    </tr>\n",
              "    <tr>\n",
              "      <th>Reduce momentum in Fock term (momentum in BZ + reciprocal lattice)</th>\n",
              "      <td>0.750000</td>\n",
              "      <td>0.163663</td>\n",
              "      <td>8</td>\n",
              "    </tr>\n",
              "    <tr>\n",
              "      <th>Reduce momentum in Fock term (momentum in BZ)</th>\n",
              "      <td>0.750000</td>\n",
              "      <td>0.250000</td>\n",
              "      <td>4</td>\n",
              "    </tr>\n",
              "    <tr>\n",
              "      <th>Reduce momentum in Hartree term (momentum in BZ + reciprocal lattice)</th>\n",
              "      <td>0.875000</td>\n",
              "      <td>0.125000</td>\n",
              "      <td>8</td>\n",
              "    </tr>\n",
              "    <tr>\n",
              "      <th>Reduce momentum in Hartree term (momentum in BZ)</th>\n",
              "      <td>1.000000</td>\n",
              "      <td>0.000000</td>\n",
              "      <td>5</td>\n",
              "    </tr>\n",
              "    <tr>\n",
              "      <th>Simplify the Hamiltonian in the particle-hole basis</th>\n",
              "      <td>1.000000</td>\n",
              "      <td>NaN</td>\n",
              "      <td>1</td>\n",
              "    </tr>\n",
              "    <tr>\n",
              "      <th>Swap the index only</th>\n",
              "      <td>0.857143</td>\n",
              "      <td>0.142857</td>\n",
              "      <td>7</td>\n",
              "    </tr>\n",
              "    <tr>\n",
              "      <th>Swap the index to combine Hartree and Fock terms</th>\n",
              "      <td>0.857143</td>\n",
              "      <td>0.142857</td>\n",
              "      <td>7</td>\n",
              "    </tr>\n",
              "    <tr>\n",
              "      <th>Wick's theorem</th>\n",
              "      <td>0.785714</td>\n",
              "      <td>0.113804</td>\n",
              "      <td>14</td>\n",
              "    </tr>\n",
              "  </tbody>\n",
              "</table>\n",
              "</div>\n",
              "    <div class=\"colab-df-buttons\">\n",
              "\n",
              "  <div class=\"colab-df-container\">\n",
              "    <button class=\"colab-df-convert\" onclick=\"convertToInteractive('df-727dec19-8d1c-4f44-8c57-788bacd2803b')\"\n",
              "            title=\"Convert this dataframe to an interactive table.\"\n",
              "            style=\"display:none;\">\n",
              "\n",
              "  <svg xmlns=\"http://www.w3.org/2000/svg\" height=\"24px\" viewBox=\"0 -960 960 960\">\n",
              "    <path d=\"M120-120v-720h720v720H120Zm60-500h600v-160H180v160Zm220 220h160v-160H400v160Zm0 220h160v-160H400v160ZM180-400h160v-160H180v160Zm440 0h160v-160H620v160ZM180-180h160v-160H180v160Zm440 0h160v-160H620v160Z\"/>\n",
              "  </svg>\n",
              "    </button>\n",
              "\n",
              "  <style>\n",
              "    .colab-df-container {\n",
              "      display:flex;\n",
              "      gap: 12px;\n",
              "    }\n",
              "\n",
              "    .colab-df-convert {\n",
              "      background-color: #E8F0FE;\n",
              "      border: none;\n",
              "      border-radius: 50%;\n",
              "      cursor: pointer;\n",
              "      display: none;\n",
              "      fill: #1967D2;\n",
              "      height: 32px;\n",
              "      padding: 0 0 0 0;\n",
              "      width: 32px;\n",
              "    }\n",
              "\n",
              "    .colab-df-convert:hover {\n",
              "      background-color: #E2EBFA;\n",
              "      box-shadow: 0px 1px 2px rgba(60, 64, 67, 0.3), 0px 1px 3px 1px rgba(60, 64, 67, 0.15);\n",
              "      fill: #174EA6;\n",
              "    }\n",
              "\n",
              "    .colab-df-buttons div {\n",
              "      margin-bottom: 4px;\n",
              "    }\n",
              "\n",
              "    [theme=dark] .colab-df-convert {\n",
              "      background-color: #3B4455;\n",
              "      fill: #D2E3FC;\n",
              "    }\n",
              "\n",
              "    [theme=dark] .colab-df-convert:hover {\n",
              "      background-color: #434B5C;\n",
              "      box-shadow: 0px 1px 3px 1px rgba(0, 0, 0, 0.15);\n",
              "      filter: drop-shadow(0px 1px 2px rgba(0, 0, 0, 0.3));\n",
              "      fill: #FFFFFF;\n",
              "    }\n",
              "  </style>\n",
              "\n",
              "    <script>\n",
              "      const buttonEl =\n",
              "        document.querySelector('#df-727dec19-8d1c-4f44-8c57-788bacd2803b button.colab-df-convert');\n",
              "      buttonEl.style.display =\n",
              "        google.colab.kernel.accessAllowed ? 'block' : 'none';\n",
              "\n",
              "      async function convertToInteractive(key) {\n",
              "        const element = document.querySelector('#df-727dec19-8d1c-4f44-8c57-788bacd2803b');\n",
              "        const dataTable =\n",
              "          await google.colab.kernel.invokeFunction('convertToInteractive',\n",
              "                                                    [key], {});\n",
              "        if (!dataTable) return;\n",
              "\n",
              "        const docLinkHtml = 'Like what you see? Visit the ' +\n",
              "          '<a target=\"_blank\" href=https://colab.research.google.com/notebooks/data_table.ipynb>data table notebook</a>'\n",
              "          + ' to learn more about interactive tables.';\n",
              "        element.innerHTML = '';\n",
              "        dataTable['output_type'] = 'display_data';\n",
              "        await google.colab.output.renderOutput(dataTable, element);\n",
              "        const docLink = document.createElement('div');\n",
              "        docLink.innerHTML = docLinkHtml;\n",
              "        element.appendChild(docLink);\n",
              "      }\n",
              "    </script>\n",
              "  </div>\n",
              "\n",
              "\n",
              "<div id=\"df-488d5de7-db8c-4cbb-b2c8-edaf6a32e61c\">\n",
              "  <button class=\"colab-df-quickchart\" onclick=\"quickchart('df-488d5de7-db8c-4cbb-b2c8-edaf6a32e61c')\"\n",
              "            title=\"Suggest charts\"\n",
              "            style=\"display:none;\">\n",
              "\n",
              "<svg xmlns=\"http://www.w3.org/2000/svg\" height=\"24px\"viewBox=\"0 0 24 24\"\n",
              "     width=\"24px\">\n",
              "    <g>\n",
              "        <path d=\"M19 3H5c-1.1 0-2 .9-2 2v14c0 1.1.9 2 2 2h14c1.1 0 2-.9 2-2V5c0-1.1-.9-2-2-2zM9 17H7v-7h2v7zm4 0h-2V7h2v10zm4 0h-2v-4h2v4z\"/>\n",
              "    </g>\n",
              "</svg>\n",
              "  </button>\n",
              "\n",
              "<style>\n",
              "  .colab-df-quickchart {\n",
              "      --bg-color: #E8F0FE;\n",
              "      --fill-color: #1967D2;\n",
              "      --hover-bg-color: #E2EBFA;\n",
              "      --hover-fill-color: #174EA6;\n",
              "      --disabled-fill-color: #AAA;\n",
              "      --disabled-bg-color: #DDD;\n",
              "  }\n",
              "\n",
              "  [theme=dark] .colab-df-quickchart {\n",
              "      --bg-color: #3B4455;\n",
              "      --fill-color: #D2E3FC;\n",
              "      --hover-bg-color: #434B5C;\n",
              "      --hover-fill-color: #FFFFFF;\n",
              "      --disabled-bg-color: #3B4455;\n",
              "      --disabled-fill-color: #666;\n",
              "  }\n",
              "\n",
              "  .colab-df-quickchart {\n",
              "    background-color: var(--bg-color);\n",
              "    border: none;\n",
              "    border-radius: 50%;\n",
              "    cursor: pointer;\n",
              "    display: none;\n",
              "    fill: var(--fill-color);\n",
              "    height: 32px;\n",
              "    padding: 0;\n",
              "    width: 32px;\n",
              "  }\n",
              "\n",
              "  .colab-df-quickchart:hover {\n",
              "    background-color: var(--hover-bg-color);\n",
              "    box-shadow: 0 1px 2px rgba(60, 64, 67, 0.3), 0 1px 3px 1px rgba(60, 64, 67, 0.15);\n",
              "    fill: var(--button-hover-fill-color);\n",
              "  }\n",
              "\n",
              "  .colab-df-quickchart-complete:disabled,\n",
              "  .colab-df-quickchart-complete:disabled:hover {\n",
              "    background-color: var(--disabled-bg-color);\n",
              "    fill: var(--disabled-fill-color);\n",
              "    box-shadow: none;\n",
              "  }\n",
              "\n",
              "  .colab-df-spinner {\n",
              "    border: 2px solid var(--fill-color);\n",
              "    border-color: transparent;\n",
              "    border-bottom-color: var(--fill-color);\n",
              "    animation:\n",
              "      spin 1s steps(1) infinite;\n",
              "  }\n",
              "\n",
              "  @keyframes spin {\n",
              "    0% {\n",
              "      border-color: transparent;\n",
              "      border-bottom-color: var(--fill-color);\n",
              "      border-left-color: var(--fill-color);\n",
              "    }\n",
              "    20% {\n",
              "      border-color: transparent;\n",
              "      border-left-color: var(--fill-color);\n",
              "      border-top-color: var(--fill-color);\n",
              "    }\n",
              "    30% {\n",
              "      border-color: transparent;\n",
              "      border-left-color: var(--fill-color);\n",
              "      border-top-color: var(--fill-color);\n",
              "      border-right-color: var(--fill-color);\n",
              "    }\n",
              "    40% {\n",
              "      border-color: transparent;\n",
              "      border-right-color: var(--fill-color);\n",
              "      border-top-color: var(--fill-color);\n",
              "    }\n",
              "    60% {\n",
              "      border-color: transparent;\n",
              "      border-right-color: var(--fill-color);\n",
              "    }\n",
              "    80% {\n",
              "      border-color: transparent;\n",
              "      border-right-color: var(--fill-color);\n",
              "      border-bottom-color: var(--fill-color);\n",
              "    }\n",
              "    90% {\n",
              "      border-color: transparent;\n",
              "      border-bottom-color: var(--fill-color);\n",
              "    }\n",
              "  }\n",
              "</style>\n",
              "\n",
              "  <script>\n",
              "    async function quickchart(key) {\n",
              "      const quickchartButtonEl =\n",
              "        document.querySelector('#' + key + ' button');\n",
              "      quickchartButtonEl.disabled = true;  // To prevent multiple clicks.\n",
              "      quickchartButtonEl.classList.add('colab-df-spinner');\n",
              "      try {\n",
              "        const charts = await google.colab.kernel.invokeFunction(\n",
              "            'suggestCharts', [key], {});\n",
              "      } catch (error) {\n",
              "        console.error('Error during call to suggestCharts:', error);\n",
              "      }\n",
              "      quickchartButtonEl.classList.remove('colab-df-spinner');\n",
              "      quickchartButtonEl.classList.add('colab-df-quickchart-complete');\n",
              "    }\n",
              "    (() => {\n",
              "      let quickchartButtonEl =\n",
              "        document.querySelector('#df-488d5de7-db8c-4cbb-b2c8-edaf6a32e61c button');\n",
              "      quickchartButtonEl.style.display =\n",
              "        google.colab.kernel.accessAllowed ? 'block' : 'none';\n",
              "    })();\n",
              "  </script>\n",
              "</div>\n",
              "\n",
              "  <div id=\"id_ea828850-fff3-4e35-858f-fe4257f6699d\">\n",
              "    <style>\n",
              "      .colab-df-generate {\n",
              "        background-color: #E8F0FE;\n",
              "        border: none;\n",
              "        border-radius: 50%;\n",
              "        cursor: pointer;\n",
              "        display: none;\n",
              "        fill: #1967D2;\n",
              "        height: 32px;\n",
              "        padding: 0 0 0 0;\n",
              "        width: 32px;\n",
              "      }\n",
              "\n",
              "      .colab-df-generate:hover {\n",
              "        background-color: #E2EBFA;\n",
              "        box-shadow: 0px 1px 2px rgba(60, 64, 67, 0.3), 0px 1px 3px 1px rgba(60, 64, 67, 0.15);\n",
              "        fill: #174EA6;\n",
              "      }\n",
              "\n",
              "      [theme=dark] .colab-df-generate {\n",
              "        background-color: #3B4455;\n",
              "        fill: #D2E3FC;\n",
              "      }\n",
              "\n",
              "      [theme=dark] .colab-df-generate:hover {\n",
              "        background-color: #434B5C;\n",
              "        box-shadow: 0px 1px 3px 1px rgba(0, 0, 0, 0.15);\n",
              "        filter: drop-shadow(0px 1px 2px rgba(0, 0, 0, 0.3));\n",
              "        fill: #FFFFFF;\n",
              "      }\n",
              "    </style>\n",
              "    <button class=\"colab-df-generate\" onclick=\"generateWithVariable('result')\"\n",
              "            title=\"Generate code using this dataframe.\"\n",
              "            style=\"display:none;\">\n",
              "\n",
              "  <svg xmlns=\"http://www.w3.org/2000/svg\" height=\"24px\"viewBox=\"0 0 24 24\"\n",
              "       width=\"24px\">\n",
              "    <path d=\"M7,19H8.4L18.45,9,17,7.55,7,17.6ZM5,21V16.75L18.45,3.32a2,2,0,0,1,2.83,0l1.4,1.43a1.91,1.91,0,0,1,.58,1.4,1.91,1.91,0,0,1-.58,1.4L9.25,21ZM18.45,9,17,7.55Zm-12,3A5.31,5.31,0,0,0,4.9,8.1,5.31,5.31,0,0,0,1,6.5,5.31,5.31,0,0,0,4.9,4.9,5.31,5.31,0,0,0,6.5,1,5.31,5.31,0,0,0,8.1,4.9,5.31,5.31,0,0,0,12,6.5,5.46,5.46,0,0,0,6.5,12Z\"/>\n",
              "  </svg>\n",
              "    </button>\n",
              "    <script>\n",
              "      (() => {\n",
              "      const buttonEl =\n",
              "        document.querySelector('#id_ea828850-fff3-4e35-858f-fe4257f6699d button.colab-df-generate');\n",
              "      buttonEl.style.display =\n",
              "        google.colab.kernel.accessAllowed ? 'block' : 'none';\n",
              "\n",
              "      buttonEl.onclick = () => {\n",
              "        google.colab.notebook.generateWithVariable('result');\n",
              "      }\n",
              "      })();\n",
              "    </script>\n",
              "  </div>\n",
              "\n",
              "    </div>\n",
              "  </div>\n"
            ],
            "application/vnd.google.colaboratory.intrinsic+json": {
              "type": "dataframe",
              "variable_name": "result",
              "summary": "{\n  \"name\": \"result\",\n  \"rows\": 26,\n  \"fields\": [\n    {\n      \"column\": [\n        \"binary_scoring_accuracy\",\n        \"mean\"\n      ],\n      \"properties\": {\n        \"dtype\": \"number\",\n        \"std\": 0.17956343521146742,\n        \"min\": 0.5,\n        \"max\": 1.0,\n        \"samples\": [\n          0.7857142857142857,\n          0.6,\n          0.8571428571428571\n        ],\n        \"num_unique_values\": 9,\n        \"semantic_type\": \"\",\n        \"description\": \"\"\n      }\n    },\n    {\n      \"column\": [\n        \"binary_scoring_accuracy\",\n        \"sem\"\n      ],\n      \"properties\": {\n        \"dtype\": \"number\",\n        \"std\": 0.13432000701273886,\n        \"min\": 0.0,\n        \"max\": 0.5,\n        \"samples\": [\n          0.16366341767699427,\n          0.11380392954509878,\n          0.15075567228888181\n        ],\n        \"num_unique_values\": 12,\n        \"semantic_type\": \"\",\n        \"description\": \"\"\n      }\n    },\n    {\n      \"column\": [\n        \"task\",\n        \"count\"\n      ],\n      \"properties\": {\n        \"dtype\": \"number\",\n        \"std\": 3,\n        \"min\": 1,\n        \"max\": 14,\n        \"samples\": [\n          1,\n          2,\n          11\n        ],\n        \"num_unique_values\": 9,\n        \"semantic_type\": \"\",\n        \"description\": \"\"\n      }\n    }\n  ]\n}"
            }
          },
          "metadata": {},
          "execution_count": 34
        }
      ]
    },
    {
      "cell_type": "code",
      "source": [
        "mean_tasks = result['binary_scoring_accuracy']['mean'].to_numpy()\n",
        "sem_tasks = result['binary_scoring_accuracy']['sem'].to_numpy()\n",
        "mask_gt_5 = result['task']['count'] > 5\n",
        "mean_tasks_pl = mean_tasks[mask_gt_5]\n",
        "sem_tasks_pl = sem_tasks[mask_gt_5]\n",
        "Ntasks = mask_gt_5.sum()\n",
        "task_names = result.index[mask_gt_5]"
      ],
      "metadata": {
        "id": "WPtn4rYdBNxB"
      },
      "execution_count": null,
      "outputs": []
    },
    {
      "cell_type": "code",
      "source": [
        "import matplotlib.pyplot as plt\n",
        "width = 0.5\n",
        "\n",
        "fig, ax = plt.subplots()\n",
        "ax.barh(np.arange(Ntasks), mean_tasks_pl, xerr=sem_tasks_pl, height=width, label = 'LM Scoring Accuracy')\n",
        "ax.set_yticks(np.arange(Ntasks)-width*0.5, task_names)\n",
        "ax.legend()\n",
        "ax.invert_yaxis()\n",
        "plt.savefig(os.path.join(ZS_DIR, 'scoring_accuracy_gt5.png'))\n",
        "plt.show()"
      ],
      "metadata": {
        "colab": {
          "base_uri": "https://localhost:8080/",
          "height": 430
        },
        "id": "sNS_aWTmBUMH",
        "outputId": "71c39cae-f2b0-40d6-b0ce-e2e410d44c53"
      },
      "execution_count": null,
      "outputs": [
        {
          "output_type": "display_data",
          "data": {
            "text/plain": [
              "<Figure size 640x480 with 1 Axes>"
            ],
            "image/png": "[encoded data removed]"
          },
          "metadata": {}
        }
      ]
    },
    {
      "cell_type": "code",
      "source": [],
      "metadata": {
        "id": "sgeH0eNeCQMa"
      },
      "execution_count": null,
      "outputs": []
    }
  ]
}