{
 "cells": [
  {
   "cell_type": "code",
   "execution_count": 1,
   "metadata": {},
   "outputs": [],
   "source": [
    "import matplotlib as plt\n",
    "import textwrap"
   ]
  },
  {
   "cell_type": "code",
   "execution_count": 2,
   "metadata": {},
   "outputs": [],
   "source": [
    "plt.rcParams['font.family']='Roboto'\n",
    "plt.rcParams['font.size']=9"
   ]
  },
  {
   "cell_type": "code",
   "execution_count": 3,
   "metadata": {},
   "outputs": [],
   "source": [
    "import sys\n",
    "sys.path.append('..')\n",
    "from utils import *"
   ]
  },
  {
   "cell_type": "code",
   "execution_count": 4,
   "metadata": {},
   "outputs": [],
   "source": [
    "# arxiv_number_list=['1106.6060','1812.04213','2004.04168','2008.08998','2012.04554','2108.02159','2110.11330','2111.01152','2112.07523',]\n",
    "arxiv_number_list = [\n",
    "    \"1010.1819\",\n",
    "    \"1106.6060\",\n",
    "    \"1208.0116\",\n",
    "    # \"1212.5363\", # TODO\n",
    "    \"1508.00296\",\n",
    "    \"1310.2674\",\n",
    "    \"1812.04213\",\n",
    "    \"2004.04168\",\n",
    "    \"2008.08998\",\n",
    "    \"2012.04554\",\n",
    "    \"2108.02159\",\n",
    "    \"2110.11330\",\n",
    "    \"2111.01152\",\n",
    "    \"2112.07523\",\n",
    "    \"2308.03843\",\n",
    "    \"2308.07488\",\n",
    "]\n",
    "# '2308.03843'"
   ]
  },
  {
   "cell_type": "code",
   "execution_count": 5,
   "metadata": {},
   "outputs": [
    {
     "data": {
      "text/plain": [
       "15"
      ]
     },
     "execution_count": 5,
     "metadata": {},
     "output_type": "execute_result"
    }
   ],
   "source": [
    "len(set(arxiv_number_list))"
   ]
  },
  {
   "cell_type": "code",
   "execution_count": 6,
   "metadata": {},
   "outputs": [],
   "source": [
    "import pandas as pd"
   ]
  },
  {
   "cell_type": "code",
   "execution_count": 7,
   "metadata": {},
   "outputs": [],
   "source": [
    "def load_arxiv(arxiv_number):\n",
    "    # Load arxiv and convert to dict\n",
    "    prompt_template='../prompt_template.md'\n",
    "    prompt_dict=load_prompt_template(prompt_template)\n",
    "    with open(os.path.join('..',f'{arxiv_number}',f'{arxiv_number}.yaml'),'r') as f:\n",
    "        kwargs= yaml.safe_load(f)\n",
    "    # tasks = [f'Task:{idx+1} '+kwarg['task'] for idx,kwarg in enumerate(kwargs[1:])]\n",
    "    tasks = [kwarg['task'] for idx,kwarg in enumerate(kwargs[1:])]\n",
    "    score_dict={}\n",
    "    for kwarg in kwargs[1:]:\n",
    "        for key,value in (list(kwarg['score'].items())):\n",
    "            assert isinstance(value, int), f'{arxiv_number}/{kwarg[\"task\"]}:{key}:{value} is not int'\n",
    "            if key not in score_dict:\n",
    "                score_dict[key]=[value]\n",
    "            else:\n",
    "                score_dict[key].append(value)\n",
    "    \n",
    "    return pd.DataFrame(score_dict,index=tasks)"
   ]
  },
  {
   "cell_type": "code",
   "execution_count": 8,
   "metadata": {},
   "outputs": [],
   "source": [
    "arxiv_dict_list={arxiv_number:load_arxiv(arxiv_number) for arxiv_number in arxiv_number_list}\n",
    "execution=pd.concat(arxiv_dict_list.values(),keys=arxiv_dict_list.keys(),names=['arxiv_number','task'])"
   ]
  },
  {
   "cell_type": "code",
   "execution_count": 9,
   "metadata": {},
   "outputs": [],
   "source": [
    "import matplotlib.pyplot as plt\n",
    "import numpy as np\n",
    "\n",
    "def plot_single_file(score_dict):\n",
    "    x = np.arange(len(score_dict['task']))  # the label locations\n",
    "    width = 0.15  # the width of the bars\n",
    "    multiplier = 0\n",
    "\n",
    "    fig, ax = plt.subplots(layout='constrained',figsize=(8,5))\n",
    "    color_list=[plt.cm.Blues(0.2+0.8*(i/6)) for i in range(6,0,-1)]\n",
    "    for attribute, measurement in score_dict['score'].items():\n",
    "        offset = width * multiplier\n",
    "        rects = ax.barh(x + offset, np.array(measurement)+0.1, width, label=attribute,color=color_list[multiplier],left=-0.1)\n",
    "        # ax.bar_label(rects, padding=3)\n",
    "        multiplier += 1\n",
    "\n",
    "    ax.set_xlabel('Score')\n",
    "    ax.set_xticks([0,1,2])\n",
    "    ax.set_title(f\"{score_dict['arxiv']} [mean={np.mean(score_dict['score']['final answer accuracy']):.2f}]\")\n",
    "    ax.set_yticks(x + width*4, ['\\n'.join(textwrap.wrap(task, width=40)) for task in score_dict['task']],fontsize=8)\n",
    "\n",
    "    handles, labels = plt.gca().get_legend_handles_labels()\n",
    "    plt.legend(handles[::-1], labels[::-1],loc='upper left', ncols=1,bbox_to_anchor=(1, 1))\n",
    "\n",
    "    ax.grid(axis='x',ls='--')\n",
    "    # ax.set_ylim(0, 250)\n",
    "    ax.set_xlim(-0.1,2.1)\n"
   ]
  },
  {
   "cell_type": "code",
   "execution_count": 10,
   "metadata": {},
   "outputs": [],
   "source": [
    "color_list=[plt.cm.Blues(0.2+0.8*(i/6)) for i in range(6,0,-1)]"
   ]
  },
  {
   "cell_type": "code",
   "execution_count": 11,
   "metadata": {},
   "outputs": [],
   "source": [
    "def plot_single_file(arxiv_df,arxiv_number):\n",
    "    # arxiv_df=arxiv_dict_list['1010.1819']\n",
    "    ax=arxiv_df.plot(kind='barh',figsize=(8,5),width=0.8,color=color_list,edgecolor='black')\n",
    "    ax.grid(axis='x',ls='--')\n",
    "    ax.set_ylabel('')\n",
    "    ax.set_xlabel('Score')\n",
    "    # ax.set_yticklabels(['\\n'.join(textwrap.wrap(task, width=20)) for task in data_groupby_branch['Score']['mean'].sort_values().index],fontsize=7)\n",
    "    ax.set_yticklabels(['\\n'.join(textwrap.wrap(task, width=40)) for task in arxiv_df.index])\n",
    "    ax.set_title(f\"{arxiv_number}\")"
   ]
  },
  {
   "cell_type": "code",
   "execution_count": 12,
   "metadata": {},
   "outputs": [],
   "source": [
    "# for key,arxiv_df in arxiv_dict_list.items():\n",
    "#     plot_single_file(arxiv_df,key)"
   ]
  },
  {
   "cell_type": "markdown",
   "metadata": {},
   "source": [
    "# Score by arxiv , compare with reading"
   ]
  },
  {
   "cell_type": "code",
   "execution_count": 13,
   "metadata": {},
   "outputs": [],
   "source": [
    "angle_name={'follow_instructions':'adherence','physics_logic':'knowledge','math_derivation':'rigor','final_answer_accuracy':'correctness'}"
   ]
  },
  {
   "cell_type": "code",
   "execution_count": 14,
   "metadata": {},
   "outputs": [],
   "source": [
    "new_col={key:angle_name[key] if key in angle_name else key.replace('_',' ') for key in execution.columns}"
   ]
  },
  {
   "cell_type": "code",
   "execution_count": 15,
   "metadata": {},
   "outputs": [
    {
     "data": {
      "text/plain": [
       "{'in_paper': 'in paper',\n",
       " 'prompt_quality': 'prompt quality',\n",
       " 'follow_instructions': 'adherence',\n",
       " 'physics_logic': 'knowledge',\n",
       " 'math_derivation': 'rigor',\n",
       " 'final_answer_accuracy': 'correctness'}"
      ]
     },
     "execution_count": 15,
     "metadata": {},
     "output_type": "execute_result"
    }
   ],
   "source": [
    "new_col"
   ]
  },
  {
   "cell_type": "code",
   "execution_count": 16,
   "metadata": {},
   "outputs": [],
   "source": [
    "execution=execution.rename(columns=new_col)"
   ]
  },
  {
   "cell_type": "code",
   "execution_count": 17,
   "metadata": {},
   "outputs": [],
   "source": [
    "execution_groupby_arxiv=execution.groupby('arxiv_number').agg(['mean','sem','count'])"
   ]
  },
  {
   "cell_type": "code",
   "execution_count": 18,
   "metadata": {},
   "outputs": [
    {
     "data": {
      "text/html": [
       "<div>\n",
       "<style scoped>\n",
       "    .dataframe tbody tr th:only-of-type {\n",
       "        vertical-align: middle;\n",
       "    }\n",
       "\n",
       "    .dataframe tbody tr th {\n",
       "        vertical-align: top;\n",
       "    }\n",
       "\n",
       "    .dataframe thead tr th {\n",
       "        text-align: left;\n",
       "    }\n",
       "\n",
       "    .dataframe thead tr:last-of-type th {\n",
       "        text-align: right;\n",
       "    }\n",
       "</style>\n",
       "<table border=\"1\" class=\"dataframe\">\n",
       "  <thead>\n",
       "    <tr>\n",
       "      <th></th>\n",
       "      <th colspan=\"3\" halign=\"left\">correctness</th>\n",
       "    </tr>\n",
       "    <tr>\n",
       "      <th></th>\n",
       "      <th>mean</th>\n",
       "      <th>sem</th>\n",
       "      <th>count</th>\n",
       "    </tr>\n",
       "    <tr>\n",
       "      <th>arxiv_number</th>\n",
       "      <th></th>\n",
       "      <th></th>\n",
       "      <th></th>\n",
       "    </tr>\n",
       "  </thead>\n",
       "  <tbody>\n",
       "    <tr>\n",
       "      <th>1010.1819</th>\n",
       "      <td>1.333333</td>\n",
       "      <td>0.256235</td>\n",
       "      <td>12</td>\n",
       "    </tr>\n",
       "    <tr>\n",
       "      <th>1106.6060</th>\n",
       "      <td>1.555556</td>\n",
       "      <td>0.175682</td>\n",
       "      <td>9</td>\n",
       "    </tr>\n",
       "    <tr>\n",
       "      <th>1208.0116</th>\n",
       "      <td>1.727273</td>\n",
       "      <td>0.194978</td>\n",
       "      <td>11</td>\n",
       "    </tr>\n",
       "    <tr>\n",
       "      <th>1310.2674</th>\n",
       "      <td>1.818182</td>\n",
       "      <td>0.121967</td>\n",
       "      <td>11</td>\n",
       "    </tr>\n",
       "    <tr>\n",
       "      <th>1508.00296</th>\n",
       "      <td>1.222222</td>\n",
       "      <td>0.222222</td>\n",
       "      <td>9</td>\n",
       "    </tr>\n",
       "    <tr>\n",
       "      <th>1812.04213</th>\n",
       "      <td>1.333333</td>\n",
       "      <td>0.224733</td>\n",
       "      <td>12</td>\n",
       "    </tr>\n",
       "    <tr>\n",
       "      <th>2004.04168</th>\n",
       "      <td>1.727273</td>\n",
       "      <td>0.140836</td>\n",
       "      <td>11</td>\n",
       "    </tr>\n",
       "    <tr>\n",
       "      <th>2008.08998</th>\n",
       "      <td>1.909091</td>\n",
       "      <td>0.090909</td>\n",
       "      <td>11</td>\n",
       "    </tr>\n",
       "    <tr>\n",
       "      <th>2012.04554</th>\n",
       "      <td>2.000000</td>\n",
       "      <td>0.000000</td>\n",
       "      <td>11</td>\n",
       "    </tr>\n",
       "    <tr>\n",
       "      <th>2108.02159</th>\n",
       "      <td>1.916667</td>\n",
       "      <td>0.083333</td>\n",
       "      <td>12</td>\n",
       "    </tr>\n",
       "    <tr>\n",
       "      <th>2110.11330</th>\n",
       "      <td>1.636364</td>\n",
       "      <td>0.203279</td>\n",
       "      <td>11</td>\n",
       "    </tr>\n",
       "    <tr>\n",
       "      <th>2111.01152</th>\n",
       "      <td>1.750000</td>\n",
       "      <td>0.111803</td>\n",
       "      <td>16</td>\n",
       "    </tr>\n",
       "    <tr>\n",
       "      <th>2112.07523</th>\n",
       "      <td>1.300000</td>\n",
       "      <td>0.260342</td>\n",
       "      <td>10</td>\n",
       "    </tr>\n",
       "    <tr>\n",
       "      <th>2308.03843</th>\n",
       "      <td>1.909091</td>\n",
       "      <td>0.090909</td>\n",
       "      <td>11</td>\n",
       "    </tr>\n",
       "    <tr>\n",
       "      <th>2308.07488</th>\n",
       "      <td>1.750000</td>\n",
       "      <td>0.130558</td>\n",
       "      <td>12</td>\n",
       "    </tr>\n",
       "  </tbody>\n",
       "</table>\n",
       "</div>"
      ],
      "text/plain": [
       "             correctness                \n",
       "                    mean       sem count\n",
       "arxiv_number                            \n",
       "1010.1819       1.333333  0.256235    12\n",
       "1106.6060       1.555556  0.175682     9\n",
       "1208.0116       1.727273  0.194978    11\n",
       "1310.2674       1.818182  0.121967    11\n",
       "1508.00296      1.222222  0.222222     9\n",
       "1812.04213      1.333333  0.224733    12\n",
       "2004.04168      1.727273  0.140836    11\n",
       "2008.08998      1.909091  0.090909    11\n",
       "2012.04554      2.000000  0.000000    11\n",
       "2108.02159      1.916667  0.083333    12\n",
       "2110.11330      1.636364  0.203279    11\n",
       "2111.01152      1.750000  0.111803    16\n",
       "2112.07523      1.300000  0.260342    10\n",
       "2308.03843      1.909091  0.090909    11\n",
       "2308.07488      1.750000  0.130558    12"
      ]
     },
     "execution_count": 18,
     "metadata": {},
     "output_type": "execute_result"
    }
   ],
   "source": [
    "execution_groupby_arxiv[['correctness']]"
   ]
  },
  {
   "cell_type": "code",
   "execution_count": 19,
   "metadata": {},
   "outputs": [],
   "source": [
    "import pickle"
   ]
  },
  {
   "cell_type": "code",
   "execution_count": 20,
   "metadata": {},
   "outputs": [],
   "source": [
    "with open('reading_data.pickle','rb') as f:\n",
    "    reading_data=pickle.load(f)"
   ]
  },
  {
   "cell_type": "code",
   "execution_count": 21,
   "metadata": {},
   "outputs": [],
   "source": [
    "reading_groupby_arxiv=reading_data.groupby('arxiv').agg(['mean','sem','count'])"
   ]
  },
  {
   "cell_type": "code",
   "execution_count": 22,
   "metadata": {},
   "outputs": [
    {
     "data": {
      "text/html": [
       "<div>\n",
       "<style scoped>\n",
       "    .dataframe tbody tr th:only-of-type {\n",
       "        vertical-align: middle;\n",
       "    }\n",
       "\n",
       "    .dataframe tbody tr th {\n",
       "        vertical-align: top;\n",
       "    }\n",
       "\n",
       "    .dataframe thead tr th {\n",
       "        text-align: left;\n",
       "    }\n",
       "\n",
       "    .dataframe thead tr:last-of-type th {\n",
       "        text-align: right;\n",
       "    }\n",
       "</style>\n",
       "<table border=\"1\" class=\"dataframe\">\n",
       "  <thead>\n",
       "    <tr>\n",
       "      <th></th>\n",
       "      <th colspan=\"3\" halign=\"left\">Score</th>\n",
       "    </tr>\n",
       "    <tr>\n",
       "      <th></th>\n",
       "      <th>mean</th>\n",
       "      <th>sem</th>\n",
       "      <th>count</th>\n",
       "    </tr>\n",
       "    <tr>\n",
       "      <th>arxiv</th>\n",
       "      <th></th>\n",
       "      <th></th>\n",
       "      <th></th>\n",
       "    </tr>\n",
       "  </thead>\n",
       "  <tbody>\n",
       "    <tr>\n",
       "      <th>1010.1819</th>\n",
       "      <td>1.181034</td>\n",
       "      <td>0.080849</td>\n",
       "      <td>116</td>\n",
       "    </tr>\n",
       "    <tr>\n",
       "      <th>1106.6060</th>\n",
       "      <td>0.770833</td>\n",
       "      <td>0.133951</td>\n",
       "      <td>48</td>\n",
       "    </tr>\n",
       "    <tr>\n",
       "      <th>1208.0116</th>\n",
       "      <td>1.446429</td>\n",
       "      <td>0.080057</td>\n",
       "      <td>112</td>\n",
       "    </tr>\n",
       "    <tr>\n",
       "      <th>1310.2674</th>\n",
       "      <td>1.111111</td>\n",
       "      <td>0.090680</td>\n",
       "      <td>99</td>\n",
       "    </tr>\n",
       "    <tr>\n",
       "      <th>1508.00296</th>\n",
       "      <td>0.937500</td>\n",
       "      <td>0.127740</td>\n",
       "      <td>48</td>\n",
       "    </tr>\n",
       "    <tr>\n",
       "      <th>1812.04213</th>\n",
       "      <td>1.194915</td>\n",
       "      <td>0.087837</td>\n",
       "      <td>118</td>\n",
       "    </tr>\n",
       "    <tr>\n",
       "      <th>2004.04168</th>\n",
       "      <td>0.708333</td>\n",
       "      <td>0.109125</td>\n",
       "      <td>72</td>\n",
       "    </tr>\n",
       "    <tr>\n",
       "      <th>2008.08998</th>\n",
       "      <td>1.595745</td>\n",
       "      <td>0.081900</td>\n",
       "      <td>94</td>\n",
       "    </tr>\n",
       "    <tr>\n",
       "      <th>2012.04554</th>\n",
       "      <td>1.058140</td>\n",
       "      <td>0.101095</td>\n",
       "      <td>86</td>\n",
       "    </tr>\n",
       "    <tr>\n",
       "      <th>2108.02159</th>\n",
       "      <td>1.155738</td>\n",
       "      <td>0.085550</td>\n",
       "      <td>122</td>\n",
       "    </tr>\n",
       "    <tr>\n",
       "      <th>2110.11330</th>\n",
       "      <td>1.181818</td>\n",
       "      <td>0.099036</td>\n",
       "      <td>88</td>\n",
       "    </tr>\n",
       "    <tr>\n",
       "      <th>2111.01152</th>\n",
       "      <td>1.601190</td>\n",
       "      <td>0.054809</td>\n",
       "      <td>168</td>\n",
       "    </tr>\n",
       "    <tr>\n",
       "      <th>2112.07523</th>\n",
       "      <td>1.693878</td>\n",
       "      <td>0.068662</td>\n",
       "      <td>98</td>\n",
       "    </tr>\n",
       "    <tr>\n",
       "      <th>2308.03843</th>\n",
       "      <td>1.350000</td>\n",
       "      <td>0.088048</td>\n",
       "      <td>100</td>\n",
       "    </tr>\n",
       "    <tr>\n",
       "      <th>2308.07488</th>\n",
       "      <td>1.140845</td>\n",
       "      <td>0.080944</td>\n",
       "      <td>142</td>\n",
       "    </tr>\n",
       "  </tbody>\n",
       "</table>\n",
       "</div>"
      ],
      "text/plain": [
       "               Score                \n",
       "                mean       sem count\n",
       "arxiv                               \n",
       "1010.1819   1.181034  0.080849   116\n",
       "1106.6060   0.770833  0.133951    48\n",
       "1208.0116   1.446429  0.080057   112\n",
       "1310.2674   1.111111  0.090680    99\n",
       "1508.00296  0.937500  0.127740    48\n",
       "1812.04213  1.194915  0.087837   118\n",
       "2004.04168  0.708333  0.109125    72\n",
       "2008.08998  1.595745  0.081900    94\n",
       "2012.04554  1.058140  0.101095    86\n",
       "2108.02159  1.155738  0.085550   122\n",
       "2110.11330  1.181818  0.099036    88\n",
       "2111.01152  1.601190  0.054809   168\n",
       "2112.07523  1.693878  0.068662    98\n",
       "2308.03843  1.350000  0.088048   100\n",
       "2308.07488  1.140845  0.080944   142"
      ]
     },
     "execution_count": 22,
     "metadata": {},
     "output_type": "execute_result"
    }
   ],
   "source": [
    "reading_groupby_arxiv"
   ]
  },
  {
   "cell_type": "code",
   "execution_count": 23,
   "metadata": {},
   "outputs": [],
   "source": [
    "execution_reading=pd.concat([execution_groupby_arxiv[['correctness']],reading_groupby_arxiv],axis=1,).rename(columns={'correctness':'Execution','Score':'Extraction'})"
   ]
  },
  {
   "cell_type": "code",
   "execution_count": 24,
   "metadata": {},
   "outputs": [
    {
     "data": {
      "text/html": [
       "<div>\n",
       "<style scoped>\n",
       "    .dataframe tbody tr th:only-of-type {\n",
       "        vertical-align: middle;\n",
       "    }\n",
       "\n",
       "    .dataframe tbody tr th {\n",
       "        vertical-align: top;\n",
       "    }\n",
       "\n",
       "    .dataframe thead tr th {\n",
       "        text-align: left;\n",
       "    }\n",
       "</style>\n",
       "<table border=\"1\" class=\"dataframe\">\n",
       "  <thead>\n",
       "    <tr>\n",
       "      <th></th>\n",
       "      <th colspan=\"3\" halign=\"left\">Execution</th>\n",
       "      <th colspan=\"3\" halign=\"left\">Extraction</th>\n",
       "    </tr>\n",
       "    <tr>\n",
       "      <th></th>\n",
       "      <th>mean</th>\n",
       "      <th>sem</th>\n",
       "      <th>count</th>\n",
       "      <th>mean</th>\n",
       "      <th>sem</th>\n",
       "      <th>count</th>\n",
       "    </tr>\n",
       "  </thead>\n",
       "  <tbody>\n",
       "    <tr>\n",
       "      <th>1010.1819</th>\n",
       "      <td>1.333333</td>\n",
       "      <td>0.256235</td>\n",
       "      <td>12</td>\n",
       "      <td>1.181034</td>\n",
       "      <td>0.080849</td>\n",
       "      <td>116</td>\n",
       "    </tr>\n",
       "    <tr>\n",
       "      <th>1106.6060</th>\n",
       "      <td>1.555556</td>\n",
       "      <td>0.175682</td>\n",
       "      <td>9</td>\n",
       "      <td>0.770833</td>\n",
       "      <td>0.133951</td>\n",
       "      <td>48</td>\n",
       "    </tr>\n",
       "    <tr>\n",
       "      <th>1208.0116</th>\n",
       "      <td>1.727273</td>\n",
       "      <td>0.194978</td>\n",
       "      <td>11</td>\n",
       "      <td>1.446429</td>\n",
       "      <td>0.080057</td>\n",
       "      <td>112</td>\n",
       "    </tr>\n",
       "    <tr>\n",
       "      <th>1310.2674</th>\n",
       "      <td>1.818182</td>\n",
       "      <td>0.121967</td>\n",
       "      <td>11</td>\n",
       "      <td>1.111111</td>\n",
       "      <td>0.090680</td>\n",
       "      <td>99</td>\n",
       "    </tr>\n",
       "    <tr>\n",
       "      <th>1508.00296</th>\n",
       "      <td>1.222222</td>\n",
       "      <td>0.222222</td>\n",
       "      <td>9</td>\n",
       "      <td>0.937500</td>\n",
       "      <td>0.127740</td>\n",
       "      <td>48</td>\n",
       "    </tr>\n",
       "    <tr>\n",
       "      <th>1812.04213</th>\n",
       "      <td>1.333333</td>\n",
       "      <td>0.224733</td>\n",
       "      <td>12</td>\n",
       "      <td>1.194915</td>\n",
       "      <td>0.087837</td>\n",
       "      <td>118</td>\n",
       "    </tr>\n",
       "    <tr>\n",
       "      <th>2004.04168</th>\n",
       "      <td>1.727273</td>\n",
       "      <td>0.140836</td>\n",
       "      <td>11</td>\n",
       "      <td>0.708333</td>\n",
       "      <td>0.109125</td>\n",
       "      <td>72</td>\n",
       "    </tr>\n",
       "    <tr>\n",
       "      <th>2008.08998</th>\n",
       "      <td>1.909091</td>\n",
       "      <td>0.090909</td>\n",
       "      <td>11</td>\n",
       "      <td>1.595745</td>\n",
       "      <td>0.081900</td>\n",
       "      <td>94</td>\n",
       "    </tr>\n",
       "    <tr>\n",
       "      <th>2012.04554</th>\n",
       "      <td>2.000000</td>\n",
       "      <td>0.000000</td>\n",
       "      <td>11</td>\n",
       "      <td>1.058140</td>\n",
       "      <td>0.101095</td>\n",
       "      <td>86</td>\n",
       "    </tr>\n",
       "    <tr>\n",
       "      <th>2108.02159</th>\n",
       "      <td>1.916667</td>\n",
       "      <td>0.083333</td>\n",
       "      <td>12</td>\n",
       "      <td>1.155738</td>\n",
       "      <td>0.085550</td>\n",
       "      <td>122</td>\n",
       "    </tr>\n",
       "    <tr>\n",
       "      <th>2110.11330</th>\n",
       "      <td>1.636364</td>\n",
       "      <td>0.203279</td>\n",
       "      <td>11</td>\n",
       "      <td>1.181818</td>\n",
       "      <td>0.099036</td>\n",
       "      <td>88</td>\n",
       "    </tr>\n",
       "    <tr>\n",
       "      <th>2111.01152</th>\n",
       "      <td>1.750000</td>\n",
       "      <td>0.111803</td>\n",
       "      <td>16</td>\n",
       "      <td>1.601190</td>\n",
       "      <td>0.054809</td>\n",
       "      <td>168</td>\n",
       "    </tr>\n",
       "    <tr>\n",
       "      <th>2112.07523</th>\n",
       "      <td>1.300000</td>\n",
       "      <td>0.260342</td>\n",
       "      <td>10</td>\n",
       "      <td>1.693878</td>\n",
       "      <td>0.068662</td>\n",
       "      <td>98</td>\n",
       "    </tr>\n",
       "    <tr>\n",
       "      <th>2308.03843</th>\n",
       "      <td>1.909091</td>\n",
       "      <td>0.090909</td>\n",
       "      <td>11</td>\n",
       "      <td>1.350000</td>\n",
       "      <td>0.088048</td>\n",
       "      <td>100</td>\n",
       "    </tr>\n",
       "    <tr>\n",
       "      <th>2308.07488</th>\n",
       "      <td>1.750000</td>\n",
       "      <td>0.130558</td>\n",
       "      <td>12</td>\n",
       "      <td>1.140845</td>\n",
       "      <td>0.080944</td>\n",
       "      <td>142</td>\n",
       "    </tr>\n",
       "  </tbody>\n",
       "</table>\n",
       "</div>"
      ],
      "text/plain": [
       "           Execution                 Extraction                \n",
       "                mean       sem count       mean       sem count\n",
       "1010.1819   1.333333  0.256235    12   1.181034  0.080849   116\n",
       "1106.6060   1.555556  0.175682     9   0.770833  0.133951    48\n",
       "1208.0116   1.727273  0.194978    11   1.446429  0.080057   112\n",
       "1310.2674   1.818182  0.121967    11   1.111111  0.090680    99\n",
       "1508.00296  1.222222  0.222222     9   0.937500  0.127740    48\n",
       "1812.04213  1.333333  0.224733    12   1.194915  0.087837   118\n",
       "2004.04168  1.727273  0.140836    11   0.708333  0.109125    72\n",
       "2008.08998  1.909091  0.090909    11   1.595745  0.081900    94\n",
       "2012.04554  2.000000  0.000000    11   1.058140  0.101095    86\n",
       "2108.02159  1.916667  0.083333    12   1.155738  0.085550   122\n",
       "2110.11330  1.636364  0.203279    11   1.181818  0.099036    88\n",
       "2111.01152  1.750000  0.111803    16   1.601190  0.054809   168\n",
       "2112.07523  1.300000  0.260342    10   1.693878  0.068662    98\n",
       "2308.03843  1.909091  0.090909    11   1.350000  0.088048   100\n",
       "2308.07488  1.750000  0.130558    12   1.140845  0.080944   142"
      ]
     },
     "execution_count": 24,
     "metadata": {},
     "output_type": "execute_result"
    }
   ],
   "source": [
    "execution_reading"
   ]
  },
  {
   "cell_type": "code",
   "execution_count": 25,
   "metadata": {},
   "outputs": [
    {
     "data": {
      "text/plain": [
       "0.06505089444821313"
      ]
     },
     "execution_count": 25,
     "metadata": {},
     "output_type": "execute_result"
    }
   ],
   "source": [
    "execution_reading.corr().loc[(\"Extraction\",\"mean\"),(\"Execution\",\"mean\")]"
   ]
  },
  {
   "cell_type": "code",
   "execution_count": 26,
   "metadata": {},
   "outputs": [
    {
     "data": {
      "text/plain": [
       "Text(0.5, 1.0, 'Correlation:0.0651')"
      ]
     },
     "execution_count": 26,
     "metadata": {},
     "output_type": "execute_result"
    },
    {
     "data": {
      "image/png": "[encoded data removed]",
      "text/plain": [
       "<Figure size 640x480 with 1 Axes>"
      ]
     },
     "metadata": {},
     "output_type": "display_data"
    }
   ],
   "source": [
    "execution_reading.plot(kind='scatter',x=('Extraction','mean'),y=('Execution','mean'))\n",
    "plt.title(f'Correlation:{execution_reading.corr().loc[(\"Extraction\",\"mean\"),(\"Execution\",\"mean\")]:0.04f}')"
   ]
  },
  {
   "cell_type": "code",
   "execution_count": 32,
   "metadata": {},
   "outputs": [
    {
     "data": {
      "text/plain": [
       "<matplotlib.lines.Line2D at 0x7f1ae2945310>"
      ]
     },
     "execution_count": 32,
     "metadata": {},
     "output_type": "execute_result"
    },
    {
     "data": {
      "image/png": "[encoded data removed]",
      "text/plain": [
       "<Figure size 400x500 with 1 Axes>"
      ]
     },
     "metadata": {},
     "output_type": "display_data"
    }
   ],
   "source": [
    "# means = execution_reading.sort_values(by=('Execution','mean'))[[ (\"Extraction\", \"mean\"),(\"Execution\", \"mean\")]].droplevel(1,axis=1)\n",
    "means = execution_reading[[ (\"Extraction\", \"mean\"),(\"Execution\", \"mean\")]].droplevel(1,axis=1)[::-1]\n",
    "# errors = execution_reading.sort_values(by=('Execution','mean'))[[(\"Extraction\", \"sem\"),(\"Execution\", \"sem\")]].droplevel(1,axis=1)\n",
    "errors = execution_reading[[(\"Extraction\", \"sem\"),(\"Execution\", \"sem\")]].droplevel(1,axis=1)[::-1]\n",
    "ax = means.plot(kind='barh', xerr=errors, capsize=2,figsize=(4,5),color=['#918c78','#d6d9bd'],edgecolor='k',width=0.7)\n",
    "ax.grid(axis='x',ls='--')\n",
    "ax.set_xlabel('Score')\n",
    "# ax.set_title('\\n'.join([f'Mean of {kind}: {mean:.2f} $\\pm$ {se:.2f}' for kind,mean,se in zip(['Execution','Extraction',],means.mean()[::-1],errors.mean()[::-1])]))\n",
    "ax.set_ylabel('arXiv',)\n",
    "handles, labels = ax.get_legend_handles_labels()\n",
    "ax.legend(handles[::-1], labels[::-1])\n",
    "ax.axhline(y=5.5, color='k', linestyle='--',linewidth=1)\n",
    "\n",
    "# ax.get_figure().savefig('4b.pdf',bbox_inches='tight')"
   ]
  },
  {
   "cell_type": "markdown",
   "metadata": {},
   "source": [
    "# Score by aspect"
   ]
  },
  {
   "cell_type": "code",
   "execution_count": 33,
   "metadata": {},
   "outputs": [
    {
     "data": {
      "text/plain": [
       "adherence      1.786982\n",
       "knowledge      1.786982\n",
       "rigor          1.917160\n",
       "correctness    1.668639\n",
       "dtype: float64"
      ]
     },
     "execution_count": 33,
     "metadata": {},
     "output_type": "execute_result"
    }
   ],
   "source": [
    "execution.mean().iloc[2:]"
   ]
  },
  {
   "cell_type": "code",
   "execution_count": 34,
   "metadata": {},
   "outputs": [
    {
     "data": {
      "text/plain": [
       "Index(['adherence', 'knowledge', 'rigor', 'correctness'], dtype='object')"
      ]
     },
     "execution_count": 34,
     "metadata": {},
     "output_type": "execute_result"
    }
   ],
   "source": [
    "execution.mean().iloc[2:].index"
   ]
  },
  {
   "cell_type": "code",
   "execution_count": 35,
   "metadata": {},
   "outputs": [
    {
     "data": {
      "text/plain": [
       "['adherence', 'knowledge', 'rigor', 'correctness']"
      ]
     },
     "execution_count": 35,
     "metadata": {},
     "output_type": "execute_result"
    }
   ],
   "source": [
    "['\\n'.join(textwrap.wrap(task.replace(' ',' '), width=20)) for task in execution.mean().iloc[2:].index]"
   ]
  },
  {
   "cell_type": "code",
   "execution_count": null,
   "metadata": {},
   "outputs": [
    {
     "data": {
      "text/plain": [
       "adherence      1.78125\n",
       "knowledge      1.81250\n",
       "rigor          1.93750\n",
       "correctness    1.69375\n",
       "dtype: float64"
      ]
     },
     "metadata": {},
     "output_type": "display_data"
    }
   ],
   "source": [
    "execution.mean()[2:]"
   ]
  },
  {
   "cell_type": "code",
   "execution_count": 37,
   "metadata": {},
   "outputs": [
    {
     "data": {
      "text/plain": [
       "correctness    0.044980\n",
       "rigor          0.022862\n",
       "knowledge      0.036743\n",
       "adherence      0.039515\n",
       "dtype: float64"
      ]
     },
     "execution_count": 37,
     "metadata": {},
     "output_type": "execute_result"
    }
   ],
   "source": [
    "execution.sem()[:1:-1]"
   ]
  },
  {
   "cell_type": "code",
   "execution_count": 38,
   "metadata": {},
   "outputs": [
    {
     "data": {
      "image/png": "[encoded data removed]",
      "text/plain": [
       "<Figure size 400x400 with 1 Axes>"
      ]
     },
     "metadata": {},
     "output_type": "display_data"
    }
   ],
   "source": [
    "ax=execution.mean().iloc[:1:-1].plot(kind='barh',xerr=execution.sem()[:1:-1],capsize=2,edgecolor='k',figsize=(4,4),color=['#AA5454','#007895','#55571F','#C37B3B',])\n",
    "ax.grid(axis='x',ls='--')\n",
    "ax.set_xlabel('Score')\n",
    "ax.set_ylabel('')\n",
    "# ax.set_yticklabels(['\\n'.join(textwrap.wrap(task.replace(' ',' '), width=20)) for task in execution.mean().iloc[:1:-1].index],fontsize=8)\n",
    "# ax.set_title('Performance of execution from different aspects')\n",
    "\n",
    "ax.get_figure().savefig('3b.pdf',bbox_inches='tight')"
   ]
  },
  {
   "cell_type": "markdown",
   "metadata": {},
   "source": [
    "# Score by task"
   ]
  },
  {
   "cell_type": "code",
   "execution_count": null,
   "metadata": {},
   "outputs": [],
   "source": [
    "# execution[(execution['execution']==2) & (execution.iloc[:,2:-1].mean(axis=1)!=2)]"
   ]
  },
  {
   "cell_type": "code",
   "execution_count": 40,
   "metadata": {},
   "outputs": [],
   "source": [
    "execution_groupby_task=execution.groupby('task').agg(['mean','sem','count'])"
   ]
  },
  {
   "cell_type": "code",
   "execution_count": 41,
   "metadata": {},
   "outputs": [],
   "source": [
    "with open('../Naming.yaml','r') as f:\n",
    "    naming=yaml.safe_load(f)"
   ]
  },
  {
   "cell_type": "code",
   "execution_count": 161,
   "metadata": {},
   "outputs": [],
   "source": [
    "# naming_order=[for key in (naming.keys()) if key in execution_groupby_task]"
   ]
  },
  {
   "cell_type": "code",
   "execution_count": null,
   "metadata": {},
   "outputs": [],
   "source": [
    "execution_groupby_task_mean=execution_groupby_task[execution_groupby_task[('in paper','count')]>2].sort_values(by=('execution','mean')).loc[:,(slice(None),'mean')].iloc[:,2:].droplevel(1,axis=1)\n",
    "execution_groupby_task_sem=execution_groupby_task[execution_groupby_task[('in paper','count')]>2].sort_values(by=('execution','mean')).loc[:,(slice(None),'sem')].iloc[:,2:].droplevel(1,axis=1)"
   ]
  },
  {
   "cell_type": "code",
   "execution_count": null,
   "metadata": {},
   "outputs": [],
   "source": [
    "ax=execution_groupby_task_mean.iloc[:,::-1].plot(kind='barh',xerr=execution_groupby_task_sem.iloc[:,::-1],figsize=(4,10),color=['#e7ecef','#274c77','#6096ba','#a3cef1'],capsize=1.5,edgecolor='k',width=0.7,)\n",
    "ax.grid(axis='x',ls='--')\n",
    "ax.set_ylabel('')\n",
    "ax.set_xlabel('Score')\n",
    "ax.set_yticklabels(['\\n'.join(textwrap.wrap(naming[task], width=20)) for task in execution_groupby_task_mean.iloc[:,::-1].index],fontsize=7)\n",
    "# ax.set_title('Score of execution by tasks')\n",
    "handles, labels = ax.get_legend_handles_labels()\n",
    "ax.legend(handles[::-1], labels[::-1])"
   ]
  },
  {
   "cell_type": "code",
   "execution_count": null,
   "metadata": {},
   "outputs": [],
   "source": []
  },
  {
   "cell_type": "markdown",
   "metadata": {},
   "source": [
    "# Score by task type"
   ]
  },
  {
   "cell_type": "code",
   "execution_count": 44,
   "metadata": {},
   "outputs": [],
   "source": [
    "with open('../Task_type.yaml','r') as f:\n",
    "    task_type=yaml.safe_load(f)"
   ]
  },
  {
   "cell_type": "code",
   "execution_count": 45,
   "metadata": {},
   "outputs": [],
   "source": [
    "task_type_order=[r'$H=H_0+H_{\\rm{int}}$','FT',\"Wick's theorem\",r'$H_{\\rm{HF}}$','OP']\n",
    "# step_color_list=['#a2d2ff','#bde0fe','#ffafcc','#ffc8dd','#cdb4db']\n",
    "step_color_list=['#e9dfb3','#bbcdd1','#f3b1b1','#ccda8d','#facfa8']"
   ]
  },
  {
   "cell_type": "code",
   "execution_count": 46,
   "metadata": {},
   "outputs": [],
   "source": [
    "execution.index=pd.MultiIndex.from_tuples([(index[0],task_type[index[1]],index[1]) for index in execution.index.tolist()],names=['arxiv_number','task_type','task'])"
   ]
  },
  {
   "cell_type": "code",
   "execution_count": 47,
   "metadata": {},
   "outputs": [],
   "source": [
    "execution_groupby_task_type=execution.groupby('task_type').agg(['mean','sem','count'])\n",
    "# data_groupby_task=data_groupby_task.loc[task_type_order[::-1]]"
   ]
  },
  {
   "cell_type": "code",
   "execution_count": 48,
   "metadata": {},
   "outputs": [],
   "source": [
    "execution_groupby_task_type_mean_score=execution.iloc[:,2:].mean(axis=1).groupby('task_type').agg(['mean','sem','count'])"
   ]
  },
  {
   "cell_type": "code",
   "execution_count": 49,
   "metadata": {},
   "outputs": [
    {
     "ename": "NameError",
     "evalue": "name 'execution_groupby_task_type_mean' is not defined",
     "output_type": "error",
     "traceback": [
      "\u001b[0;31m---------------------------------------------------------------------------\u001b[0m",
      "\u001b[0;31mNameError\u001b[0m                                 Traceback (most recent call last)",
      "Cell \u001b[0;32mIn[49], line 1\u001b[0m\n\u001b[0;32m----> 1\u001b[0m execution_groupby_task_type_mean\n",
      "\u001b[0;31mNameError\u001b[0m: name 'execution_groupby_task_type_mean' is not defined"
     ]
    }
   ],
   "source": [
    "execution_groupby_task_type_mean"
   ]
  },
  {
   "cell_type": "code",
   "execution_count": 50,
   "metadata": {},
   "outputs": [
    {
     "data": {
      "text/html": [
       "<div>\n",
       "<style scoped>\n",
       "    .dataframe tbody tr th:only-of-type {\n",
       "        vertical-align: middle;\n",
       "    }\n",
       "\n",
       "    .dataframe tbody tr th {\n",
       "        vertical-align: top;\n",
       "    }\n",
       "\n",
       "    .dataframe thead th {\n",
       "        text-align: right;\n",
       "    }\n",
       "</style>\n",
       "<table border=\"1\" class=\"dataframe\">\n",
       "  <thead>\n",
       "    <tr style=\"text-align: right;\">\n",
       "      <th></th>\n",
       "      <th>mean</th>\n",
       "      <th>sem</th>\n",
       "      <th>count</th>\n",
       "    </tr>\n",
       "    <tr>\n",
       "      <th>task_type</th>\n",
       "      <th></th>\n",
       "      <th></th>\n",
       "      <th></th>\n",
       "    </tr>\n",
       "  </thead>\n",
       "  <tbody>\n",
       "    <tr>\n",
       "      <th>$H=H_0+H_{\\rm{int}}$</th>\n",
       "      <td>1.783333</td>\n",
       "      <td>0.045366</td>\n",
       "      <td>45</td>\n",
       "    </tr>\n",
       "    <tr>\n",
       "      <th>$H_{\\rm{HF}}$</th>\n",
       "      <td>1.785714</td>\n",
       "      <td>0.068904</td>\n",
       "      <td>28</td>\n",
       "    </tr>\n",
       "    <tr>\n",
       "      <th>FT</th>\n",
       "      <td>1.723214</td>\n",
       "      <td>0.073124</td>\n",
       "      <td>28</td>\n",
       "    </tr>\n",
       "    <tr>\n",
       "      <th>OP</th>\n",
       "      <td>1.848684</td>\n",
       "      <td>0.060771</td>\n",
       "      <td>38</td>\n",
       "    </tr>\n",
       "    <tr>\n",
       "      <th>Wick's theorem</th>\n",
       "      <td>1.791667</td>\n",
       "      <td>0.062380</td>\n",
       "      <td>30</td>\n",
       "    </tr>\n",
       "  </tbody>\n",
       "</table>\n",
       "</div>"
      ],
      "text/plain": [
       "                          mean       sem  count\n",
       "task_type                                      \n",
       "$H=H_0+H_{\\rm{int}}$  1.783333  0.045366     45\n",
       "$H_{\\rm{HF}}$         1.785714  0.068904     28\n",
       "FT                    1.723214  0.073124     28\n",
       "OP                    1.848684  0.060771     38\n",
       "Wick's theorem        1.791667  0.062380     30"
      ]
     },
     "execution_count": 50,
     "metadata": {},
     "output_type": "execute_result"
    }
   ],
   "source": [
    "execution_groupby_task_type_mean_score"
   ]
  },
  {
   "cell_type": "code",
   "execution_count": 51,
   "metadata": {},
   "outputs": [
    {
     "data": {
      "text/plain": [
       "<matplotlib.legend.Legend at 0x7f1ada767750>"
      ]
     },
     "execution_count": 51,
     "metadata": {},
     "output_type": "execute_result"
    },
    {
     "data": {
      "image/png": "[encoded data removed]",
      "text/plain": [
       "<Figure size 400x400 with 1 Axes>"
      ]
     },
     "metadata": {},
     "output_type": "display_data"
    }
   ],
   "source": [
    "execution_groupby_task_type_mean=execution_groupby_task_type[execution_groupby_task_type[('in paper','count')]>2].loc[task_type_order[::-1]].loc[:,(slice(None),'mean')].iloc[:,:1:-1].droplevel(1,axis=1)\n",
    "execution_groupby_task_type_sem=execution_groupby_task_type[execution_groupby_task_type[('in paper','count')]>2].loc[task_type_order[::-1]].loc[:,(slice(None),'sem')].iloc[:,:1:-1].droplevel(1,axis=1)\n",
    "ax=execution_groupby_task_type_mean.plot(kind='barh',xerr=execution_groupby_task_type_sem,figsize=(4,4),color=['#e7ecef','#274c77','#6096ba','#a3cef1'],capsize=1.5,edgecolor='k',width=0.7,)\n",
    "ax.grid(axis='x',ls='--')\n",
    "ax.set_ylabel('')\n",
    "ax.set_xlabel('Score')\n",
    "# ax.set_yticklabels(['\\n'.join(textwrap.wrap(task, width=20)) for task in execution_groupby_task_type_mean.index],fontsize=7)\n",
    "ax.set_yticklabels([])\n",
    "[ax.text(-0.05,idx,task,ha='right',va='center',) for (idx,task) in (enumerate(execution_groupby_task_type_mean.index))]\n",
    "handles, labels = ax.get_legend_handles_labels()\n",
    "ax.legend(handles[::-1], labels[::-1])\n",
    "# ax.set_title('Score of execution by different steps')"
   ]
  },
  {
   "cell_type": "code",
   "execution_count": 52,
   "metadata": {},
   "outputs": [
    {
     "data": {
      "text/html": [
       "<div>\n",
       "<style scoped>\n",
       "    .dataframe tbody tr th:only-of-type {\n",
       "        vertical-align: middle;\n",
       "    }\n",
       "\n",
       "    .dataframe tbody tr th {\n",
       "        vertical-align: top;\n",
       "    }\n",
       "\n",
       "    .dataframe thead th {\n",
       "        text-align: right;\n",
       "    }\n",
       "</style>\n",
       "<table border=\"1\" class=\"dataframe\">\n",
       "  <thead>\n",
       "    <tr style=\"text-align: right;\">\n",
       "      <th></th>\n",
       "      <th>mean</th>\n",
       "      <th>sem</th>\n",
       "      <th>count</th>\n",
       "    </tr>\n",
       "    <tr>\n",
       "      <th>task_type</th>\n",
       "      <th></th>\n",
       "      <th></th>\n",
       "      <th></th>\n",
       "    </tr>\n",
       "  </thead>\n",
       "  <tbody>\n",
       "    <tr>\n",
       "      <th>$H=H_0+H_{\\rm{int}}$</th>\n",
       "      <td>1.783333</td>\n",
       "      <td>0.045366</td>\n",
       "      <td>45</td>\n",
       "    </tr>\n",
       "    <tr>\n",
       "      <th>FT</th>\n",
       "      <td>1.723214</td>\n",
       "      <td>0.073124</td>\n",
       "      <td>28</td>\n",
       "    </tr>\n",
       "    <tr>\n",
       "      <th>Wick's theorem</th>\n",
       "      <td>1.791667</td>\n",
       "      <td>0.062380</td>\n",
       "      <td>30</td>\n",
       "    </tr>\n",
       "    <tr>\n",
       "      <th>$H_{\\rm{HF}}$</th>\n",
       "      <td>1.785714</td>\n",
       "      <td>0.068904</td>\n",
       "      <td>28</td>\n",
       "    </tr>\n",
       "    <tr>\n",
       "      <th>OP</th>\n",
       "      <td>1.848684</td>\n",
       "      <td>0.060771</td>\n",
       "      <td>38</td>\n",
       "    </tr>\n",
       "  </tbody>\n",
       "</table>\n",
       "</div>"
      ],
      "text/plain": [
       "                          mean       sem  count\n",
       "task_type                                      \n",
       "$H=H_0+H_{\\rm{int}}$  1.783333  0.045366     45\n",
       "FT                    1.723214  0.073124     28\n",
       "Wick's theorem        1.791667  0.062380     30\n",
       "$H_{\\rm{HF}}$         1.785714  0.068904     28\n",
       "OP                    1.848684  0.060771     38"
      ]
     },
     "execution_count": 52,
     "metadata": {},
     "output_type": "execute_result"
    }
   ],
   "source": [
    "execution_groupby_task_type_mean_score.loc[task_type_order]"
   ]
  },
  {
   "cell_type": "code",
   "execution_count": 54,
   "metadata": {},
   "outputs": [
    {
     "data": {
      "image/png": "[encoded data removed]",
      "text/plain": [
       "<Figure size 400x400 with 1 Axes>"
      ]
     },
     "metadata": {},
     "output_type": "display_data"
    }
   ],
   "source": [
    "execution_groupby_task_type_mean_score_mean=execution_groupby_task_type_mean_score.loc[task_type_order[::-1]]['mean']\n",
    "execution_groupby_task_type_mean_score_sem=execution_groupby_task_type_mean_score.loc[task_type_order[::-1]]['sem']\n",
    "ax=execution_groupby_task_type_mean_score_mean.plot(kind='barh',xerr=execution_groupby_task_type_mean_score_sem,figsize=(4,4),capsize=1.5,edgecolor='k',width=0.7,color=step_color_list[::-1])\n",
    "\n",
    "ax.set_yticklabels([])\n",
    "[ax.text(-0.05,idx,str(5-idx)+'. '+task,ha='right',va='center',) for idx,task in enumerate(execution_groupby_task_type_mean_score_mean.index)]\n",
    "\n",
    "\n",
    "ax.grid(axis='x',ls='--')\n",
    "ax.set_ylabel('')\n",
    "ax.set_xlabel('Score')\n",
    "\n",
    "ax.get_figure().savefig('3d.pdf',bbox_inches='tight')"
   ]
  },
  {
   "cell_type": "code",
   "execution_count": 55,
   "metadata": {},
   "outputs": [
    {
     "data": {
      "text/plain": [
       "<matplotlib.legend.Legend at 0x7f1ada43d710>"
      ]
     },
     "execution_count": 55,
     "metadata": {},
     "output_type": "execute_result"
    },
    {
     "data": {
      "image/png": "[encoded data removed]",
      "text/plain": [
       "<Figure size 400x400 with 1 Axes>"
      ]
     },
     "metadata": {},
     "output_type": "display_data"
    }
   ],
   "source": [
    "execution_groupby_task_type_mean=execution_groupby_task_type[execution_groupby_task_type[('in paper','count')]>2].loc[task_type_order[::-1]].loc[:,(slice(None),'mean')].iloc[:,:1:-1].droplevel(1,axis=1)\n",
    "execution_groupby_task_type_sem=execution_groupby_task_type[execution_groupby_task_type[('in paper','count')]>2].loc[task_type_order[::-1]].loc[:,(slice(None),'sem')].iloc[:,:1:-1].droplevel(1,axis=1)\n",
    "ax=execution_groupby_task_type_mean.plot(kind='barh',xerr=execution_groupby_task_type_sem,figsize=(4,4),color=step_color_list[::-1],capsize=1.5,edgecolor='k',width=0.7,)\n",
    "ax.grid(axis='x',ls='--')\n",
    "ax.set_ylabel('')\n",
    "ax.set_xlabel('Score')\n",
    "# ax.set_yticklabels(['\\n'.join(textwrap.wrap(task, width=20)) for task in execution_groupby_task_type_mean.index],fontsize=7)\n",
    "ax.set_yticklabels([])\n",
    "[ax.text(-0.05,idx,task,ha='right',va='center',) for (idx,task) in (enumerate(execution_groupby_task_type_mean.index))]\n",
    "handles, labels = ax.get_legend_handles_labels()\n",
    "ax.legend(handles[::-1], labels[::-1])\n",
    "# ax.set_title('Score of execution by different steps')"
   ]
  },
  {
   "cell_type": "markdown",
   "metadata": {},
   "source": [
    "# Score by branch"
   ]
  },
  {
   "cell_type": "code",
   "execution_count": 56,
   "metadata": {},
   "outputs": [],
   "source": [
    "branch_from_arxiv=dict(zip(reading_data.index.get_level_values(1),reading_data.index.get_level_values(0)))"
   ]
  },
  {
   "cell_type": "code",
   "execution_count": 57,
   "metadata": {},
   "outputs": [],
   "source": [
    "execution.index=pd.MultiIndex.from_tuples([(branch_from_arxiv[index[0]],)+index for index in execution.index.tolist()],names=['branch','arxiv_number','task_type','task'])"
   ]
  },
  {
   "cell_type": "code",
   "execution_count": 58,
   "metadata": {},
   "outputs": [],
   "source": [
    "execution_groupby_branch=execution.groupby('branch').agg(['mean','sem','count'])"
   ]
  },
  {
   "cell_type": "code",
   "execution_count": 59,
   "metadata": {},
   "outputs": [
    {
     "data": {
      "text/plain": [
       "<matplotlib.legend.Legend at 0x7f1ada378b50>"
      ]
     },
     "execution_count": 59,
     "metadata": {},
     "output_type": "execute_result"
    },
    {
     "data": {
      "image/png": "[encoded data removed]",
      "text/plain": [
       "<Figure size 400x400 with 1 Axes>"
      ]
     },
     "metadata": {},
     "output_type": "display_data"
    }
   ],
   "source": [
    "execution_groupby_branch_mean=execution_groupby_branch[execution_groupby_branch[('in paper','count')]>2].loc[:,(slice(None),'mean')].iloc[:,:1:-1].droplevel(1,axis=1)\n",
    "exeution_groupby_branch_sem=execution_groupby_branch[execution_groupby_branch[('in paper','count')]>2].loc[:,(slice(None),'sem')].iloc[:,:1:-1].droplevel(1,axis=1)\n",
    "ax=execution_groupby_branch_mean.plot(kind='barh',xerr=exeution_groupby_branch_sem,figsize=(4,4),color=['#e7ecef','#274c77','#6096ba','#a3cef1'],capsize=1.5,edgecolor='k',width=0.7,)\n",
    "ax.grid(axis='x',ls='--')\n",
    "ax.set_ylabel('')\n",
    "ax.set_xlabel('Score')\n",
    "ax.set_yticklabels(['\\n'.join(textwrap.wrap(task, width=20)) for task in execution_groupby_branch_mean.index],fontsize=7)\n",
    "# ax.set_title('Score of execution by branches')\n",
    "handles, labels = ax.get_legend_handles_labels()\n",
    "ax.legend(handles[::-1], labels[::-1])"
   ]
  },
  {
   "cell_type": "markdown",
   "metadata": {},
   "source": [
    "# Score conditioned on in paper"
   ]
  },
  {
   "cell_type": "code",
   "execution_count": 60,
   "metadata": {},
   "outputs": [],
   "source": [
    "execution_groupby_in_paper=execution.groupby('in paper').agg(['mean','sem','count'])"
   ]
  },
  {
   "cell_type": "code",
   "execution_count": 61,
   "metadata": {},
   "outputs": [
    {
     "data": {
      "text/html": [
       "<div>\n",
       "<style scoped>\n",
       "    .dataframe tbody tr th:only-of-type {\n",
       "        vertical-align: middle;\n",
       "    }\n",
       "\n",
       "    .dataframe tbody tr th {\n",
       "        vertical-align: top;\n",
       "    }\n",
       "\n",
       "    .dataframe thead tr th {\n",
       "        text-align: left;\n",
       "    }\n",
       "\n",
       "    .dataframe thead tr:last-of-type th {\n",
       "        text-align: right;\n",
       "    }\n",
       "</style>\n",
       "<table border=\"1\" class=\"dataframe\">\n",
       "  <thead>\n",
       "    <tr>\n",
       "      <th></th>\n",
       "      <th>correctness</th>\n",
       "      <th>rigor</th>\n",
       "      <th>knowledge</th>\n",
       "      <th>adherence</th>\n",
       "    </tr>\n",
       "    <tr>\n",
       "      <th></th>\n",
       "      <th>mean</th>\n",
       "      <th>mean</th>\n",
       "      <th>mean</th>\n",
       "      <th>mean</th>\n",
       "    </tr>\n",
       "    <tr>\n",
       "      <th>in paper</th>\n",
       "      <th></th>\n",
       "      <th></th>\n",
       "      <th></th>\n",
       "      <th></th>\n",
       "    </tr>\n",
       "  </thead>\n",
       "  <tbody>\n",
       "    <tr>\n",
       "      <th>2</th>\n",
       "      <td>1.649123</td>\n",
       "      <td>1.929825</td>\n",
       "      <td>1.789474</td>\n",
       "      <td>1.771930</td>\n",
       "    </tr>\n",
       "    <tr>\n",
       "      <th>1</th>\n",
       "      <td>1.700000</td>\n",
       "      <td>1.925000</td>\n",
       "      <td>1.850000</td>\n",
       "      <td>1.850000</td>\n",
       "    </tr>\n",
       "    <tr>\n",
       "      <th>0</th>\n",
       "      <td>1.666667</td>\n",
       "      <td>1.902778</td>\n",
       "      <td>1.750000</td>\n",
       "      <td>1.763889</td>\n",
       "    </tr>\n",
       "  </tbody>\n",
       "</table>\n",
       "</div>"
      ],
      "text/plain": [
       "         correctness     rigor knowledge adherence\n",
       "                mean      mean      mean      mean\n",
       "in paper                                          \n",
       "2           1.649123  1.929825  1.789474  1.771930\n",
       "1           1.700000  1.925000  1.850000  1.850000\n",
       "0           1.666667  1.902778  1.750000  1.763889"
      ]
     },
     "execution_count": 61,
     "metadata": {},
     "output_type": "execute_result"
    }
   ],
   "source": [
    "execution_groupby_in_paper[execution_groupby_in_paper[('correctness','count')]>2].loc[:,(slice(None),'mean')].iloc[::-1,:0:-1]"
   ]
  },
  {
   "cell_type": "code",
   "execution_count": 62,
   "metadata": {},
   "outputs": [
    {
     "data": {
      "text/html": [
       "<div>\n",
       "<style scoped>\n",
       "    .dataframe tbody tr th:only-of-type {\n",
       "        vertical-align: middle;\n",
       "    }\n",
       "\n",
       "    .dataframe tbody tr th {\n",
       "        vertical-align: top;\n",
       "    }\n",
       "\n",
       "    .dataframe thead tr th {\n",
       "        text-align: left;\n",
       "    }\n",
       "\n",
       "    .dataframe thead tr:last-of-type th {\n",
       "        text-align: right;\n",
       "    }\n",
       "</style>\n",
       "<table border=\"1\" class=\"dataframe\">\n",
       "  <thead>\n",
       "    <tr>\n",
       "      <th></th>\n",
       "      <th>correctness</th>\n",
       "      <th>rigor</th>\n",
       "      <th>knowledge</th>\n",
       "      <th>adherence</th>\n",
       "    </tr>\n",
       "    <tr>\n",
       "      <th></th>\n",
       "      <th>mean</th>\n",
       "      <th>mean</th>\n",
       "      <th>mean</th>\n",
       "      <th>mean</th>\n",
       "    </tr>\n",
       "    <tr>\n",
       "      <th>in paper</th>\n",
       "      <th></th>\n",
       "      <th></th>\n",
       "      <th></th>\n",
       "      <th></th>\n",
       "    </tr>\n",
       "  </thead>\n",
       "  <tbody>\n",
       "    <tr>\n",
       "      <th>2</th>\n",
       "      <td>1.649123</td>\n",
       "      <td>1.929825</td>\n",
       "      <td>1.789474</td>\n",
       "      <td>1.771930</td>\n",
       "    </tr>\n",
       "    <tr>\n",
       "      <th>1</th>\n",
       "      <td>1.700000</td>\n",
       "      <td>1.925000</td>\n",
       "      <td>1.850000</td>\n",
       "      <td>1.850000</td>\n",
       "    </tr>\n",
       "    <tr>\n",
       "      <th>0</th>\n",
       "      <td>1.666667</td>\n",
       "      <td>1.902778</td>\n",
       "      <td>1.750000</td>\n",
       "      <td>1.763889</td>\n",
       "    </tr>\n",
       "  </tbody>\n",
       "</table>\n",
       "</div>"
      ],
      "text/plain": [
       "         correctness     rigor knowledge adherence\n",
       "                mean      mean      mean      mean\n",
       "in paper                                          \n",
       "2           1.649123  1.929825  1.789474  1.771930\n",
       "1           1.700000  1.925000  1.850000  1.850000\n",
       "0           1.666667  1.902778  1.750000  1.763889"
      ]
     },
     "execution_count": 62,
     "metadata": {},
     "output_type": "execute_result"
    }
   ],
   "source": [
    "execution_groupby_in_paper[execution_groupby_in_paper[('correctness','count')]>2].loc[:,(slice(None),'mean')].iloc[::-1,:0:-1]"
   ]
  },
  {
   "cell_type": "code",
   "execution_count": 63,
   "metadata": {},
   "outputs": [
    {
     "data": {
      "image/png": "[encoded data removed]",
      "text/plain": [
       "<Figure size 400x400 with 1 Axes>"
      ]
     },
     "metadata": {},
     "output_type": "display_data"
    }
   ],
   "source": [
    "execution_groupby_in_place_mean=execution_groupby_in_paper[execution_groupby_in_paper[('correctness','count')]>2].loc[:,(slice(None),'mean')].iloc[::-1,:0:-1].droplevel(1,axis=1).T\n",
    "execution_groupby_in_place_sem=execution_groupby_in_paper[execution_groupby_in_paper[('correctness','count')]>2].loc[:,(slice(None),'sem')].iloc[::-1,:0:-1].droplevel(1,axis=1).T\n",
    "ax=execution_groupby_in_place_mean.plot(kind='barh',xerr=execution_groupby_in_place_sem,figsize=(4,4),color=['#918c78','#c1b06f','#d6d9bd'],capsize=1.5,edgecolor='k',width=0.7,)\n",
    "ax.grid(axis='x',ls='--')\n",
    "ax.set_ylabel('')\n",
    "ax.set_xlabel('Score')\n",
    "# ax.set_yticklabels(['\\n'.join(textwrap.wrap(task.replace(' ',' '), width=20)) for task in execution_groupby_in_place_mean.index],fontsize=7)\n",
    "ax.legend().set_title('Answer\\nOverlap')\n",
    "# ax.set_title('Overlap between asnwers and training papers')\n",
    "handles, labels = ax.get_legend_handles_labels()\n",
    "ax.legend(handles[::-1], labels[::-1])\n",
    "\n",
    "ax.get_figure().savefig('3c.pdf',bbox_inches='tight')"
   ]
  },
  {
   "cell_type": "code",
   "execution_count": 51,
   "metadata": {},
   "outputs": [
    {
     "data": {
      "text/html": [
       "<div>\n",
       "<style scoped>\n",
       "    .dataframe tbody tr th:only-of-type {\n",
       "        vertical-align: middle;\n",
       "    }\n",
       "\n",
       "    .dataframe tbody tr th {\n",
       "        vertical-align: top;\n",
       "    }\n",
       "\n",
       "    .dataframe thead th {\n",
       "        text-align: right;\n",
       "    }\n",
       "</style>\n",
       "<table border=\"1\" class=\"dataframe\">\n",
       "  <thead>\n",
       "    <tr style=\"text-align: right;\">\n",
       "      <th></th>\n",
       "      <th>follow instructions</th>\n",
       "      <th>physics logic</th>\n",
       "      <th>math derivation</th>\n",
       "      <th>final answer accuracy</th>\n",
       "    </tr>\n",
       "    <tr>\n",
       "      <th>branch</th>\n",
       "      <th></th>\n",
       "      <th></th>\n",
       "      <th></th>\n",
       "      <th></th>\n",
       "    </tr>\n",
       "  </thead>\n",
       "  <tbody>\n",
       "    <tr>\n",
       "      <th>continuum, first-quantized</th>\n",
       "      <td>1.745098</td>\n",
       "      <td>1.882353</td>\n",
       "      <td>1.941176</td>\n",
       "      <td>1.647059</td>\n",
       "    </tr>\n",
       "    <tr>\n",
       "      <th>continuum, second-quantized</th>\n",
       "      <td>1.818182</td>\n",
       "      <td>1.681818</td>\n",
       "      <td>2.000000</td>\n",
       "      <td>1.545455</td>\n",
       "    </tr>\n",
       "    <tr>\n",
       "      <th>lattice, second-quantized</th>\n",
       "      <td>1.804598</td>\n",
       "      <td>1.781609</td>\n",
       "      <td>1.919540</td>\n",
       "      <td>1.701149</td>\n",
       "    </tr>\n",
       "  </tbody>\n",
       "</table>\n",
       "</div>"
      ],
      "text/plain": [
       "                             follow instructions  physics logic  \\\n",
       "branch                                                            \n",
       "continuum, first-quantized              1.745098       1.882353   \n",
       "continuum, second-quantized             1.818182       1.681818   \n",
       "lattice, second-quantized               1.804598       1.781609   \n",
       "\n",
       "                             math derivation  final answer accuracy  \n",
       "branch                                                               \n",
       "continuum, first-quantized          1.941176               1.647059  \n",
       "continuum, second-quantized         2.000000               1.545455  \n",
       "lattice, second-quantized           1.919540               1.701149  "
      ]
     },
     "execution_count": 51,
     "metadata": {},
     "output_type": "execute_result"
    }
   ],
   "source": [
    "execution_groupby_branch_mean"
   ]
  },
  {
   "cell_type": "markdown",
   "metadata": {},
   "source": [
    "# Score conditioned on prompt_quality"
   ]
  },
  {
   "cell_type": "code",
   "execution_count": 64,
   "metadata": {},
   "outputs": [],
   "source": [
    "execution_groupby_prompt_quality=execution.groupby('prompt quality').agg(['mean','sem','count'])"
   ]
  },
  {
   "cell_type": "code",
   "execution_count": 65,
   "metadata": {},
   "outputs": [
    {
     "ename": "KeyError",
     "evalue": "('execution', 'count')",
     "output_type": "error",
     "traceback": [
      "\u001b[0;31m---------------------------------------------------------------------------\u001b[0m",
      "\u001b[0;31mKeyError\u001b[0m                                  Traceback (most recent call last)",
      "File \u001b[0;32m~/.pyenv/versions/anaconda3-2023.07-2/lib/python3.11/site-packages/pandas/core/indexes/base.py:3802\u001b[0m, in \u001b[0;36mIndex.get_loc\u001b[0;34m(self, key, method, tolerance)\u001b[0m\n\u001b[1;32m   3801\u001b[0m \u001b[38;5;28;01mtry\u001b[39;00m:\n\u001b[0;32m-> 3802\u001b[0m     \u001b[38;5;28;01mreturn\u001b[39;00m \u001b[38;5;28mself\u001b[39m\u001b[38;5;241m.\u001b[39m_engine\u001b[38;5;241m.\u001b[39mget_loc(casted_key)\n\u001b[1;32m   3803\u001b[0m \u001b[38;5;28;01mexcept\u001b[39;00m \u001b[38;5;167;01mKeyError\u001b[39;00m \u001b[38;5;28;01mas\u001b[39;00m err:\n",
      "File \u001b[0;32m~/.pyenv/versions/anaconda3-2023.07-2/lib/python3.11/site-packages/pandas/_libs/index.pyx:138\u001b[0m, in \u001b[0;36mpandas._libs.index.IndexEngine.get_loc\u001b[0;34m()\u001b[0m\n",
      "File \u001b[0;32m~/.pyenv/versions/anaconda3-2023.07-2/lib/python3.11/site-packages/pandas/_libs/index.pyx:165\u001b[0m, in \u001b[0;36mpandas._libs.index.IndexEngine.get_loc\u001b[0;34m()\u001b[0m\n",
      "File \u001b[0;32mpandas/_libs/hashtable_class_helper.pxi:5745\u001b[0m, in \u001b[0;36mpandas._libs.hashtable.PyObjectHashTable.get_item\u001b[0;34m()\u001b[0m\n",
      "File \u001b[0;32mpandas/_libs/hashtable_class_helper.pxi:5753\u001b[0m, in \u001b[0;36mpandas._libs.hashtable.PyObjectHashTable.get_item\u001b[0;34m()\u001b[0m\n",
      "\u001b[0;31mKeyError\u001b[0m: 'execution'",
      "\nThe above exception was the direct cause of the following exception:\n",
      "\u001b[0;31mKeyError\u001b[0m                                  Traceback (most recent call last)",
      "File \u001b[0;32m~/.pyenv/versions/anaconda3-2023.07-2/lib/python3.11/site-packages/pandas/_libs/index.pyx:774\u001b[0m, in \u001b[0;36mpandas._libs.index.BaseMultiIndexCodesEngine.get_loc\u001b[0;34m()\u001b[0m\n",
      "File \u001b[0;32m~/.pyenv/versions/anaconda3-2023.07-2/lib/python3.11/site-packages/pandas/core/indexes/base.py:3804\u001b[0m, in \u001b[0;36mIndex.get_loc\u001b[0;34m(self, key, method, tolerance)\u001b[0m\n\u001b[1;32m   3803\u001b[0m \u001b[38;5;28;01mexcept\u001b[39;00m \u001b[38;5;167;01mKeyError\u001b[39;00m \u001b[38;5;28;01mas\u001b[39;00m err:\n\u001b[0;32m-> 3804\u001b[0m     \u001b[38;5;28;01mraise\u001b[39;00m \u001b[38;5;167;01mKeyError\u001b[39;00m(key) \u001b[38;5;28;01mfrom\u001b[39;00m \u001b[38;5;21;01merr\u001b[39;00m\n\u001b[1;32m   3805\u001b[0m \u001b[38;5;28;01mexcept\u001b[39;00m \u001b[38;5;167;01mTypeError\u001b[39;00m:\n\u001b[1;32m   3806\u001b[0m     \u001b[38;5;66;03m# If we have a listlike key, _check_indexing_error will raise\u001b[39;00m\n\u001b[1;32m   3807\u001b[0m     \u001b[38;5;66;03m#  InvalidIndexError. Otherwise we fall through and re-raise\u001b[39;00m\n\u001b[1;32m   3808\u001b[0m     \u001b[38;5;66;03m#  the TypeError.\u001b[39;00m\n",
      "\u001b[0;31mKeyError\u001b[0m: 'execution'",
      "\nDuring handling of the above exception, another exception occurred:\n",
      "\u001b[0;31mKeyError\u001b[0m                                  Traceback (most recent call last)",
      "Cell \u001b[0;32mIn[65], line 1\u001b[0m\n\u001b[0;32m----> 1\u001b[0m execution_groupby_prompt_quality[execution_groupby_prompt_quality[(\u001b[38;5;124m'\u001b[39m\u001b[38;5;124mexecution\u001b[39m\u001b[38;5;124m'\u001b[39m,\u001b[38;5;124m'\u001b[39m\u001b[38;5;124mcount\u001b[39m\u001b[38;5;124m'\u001b[39m)]\u001b[38;5;241m>\u001b[39m\u001b[38;5;241m=\u001b[39m\u001b[38;5;241m2\u001b[39m]\n",
      "File \u001b[0;32m~/.pyenv/versions/anaconda3-2023.07-2/lib/python3.11/site-packages/pandas/core/frame.py:3806\u001b[0m, in \u001b[0;36mDataFrame.__getitem__\u001b[0;34m(self, key)\u001b[0m\n\u001b[1;32m   3804\u001b[0m \u001b[38;5;28;01mif\u001b[39;00m is_single_key:\n\u001b[1;32m   3805\u001b[0m     \u001b[38;5;28;01mif\u001b[39;00m \u001b[38;5;28mself\u001b[39m\u001b[38;5;241m.\u001b[39mcolumns\u001b[38;5;241m.\u001b[39mnlevels \u001b[38;5;241m>\u001b[39m \u001b[38;5;241m1\u001b[39m:\n\u001b[0;32m-> 3806\u001b[0m         \u001b[38;5;28;01mreturn\u001b[39;00m \u001b[38;5;28mself\u001b[39m\u001b[38;5;241m.\u001b[39m_getitem_multilevel(key)\n\u001b[1;32m   3807\u001b[0m     indexer \u001b[38;5;241m=\u001b[39m \u001b[38;5;28mself\u001b[39m\u001b[38;5;241m.\u001b[39mcolumns\u001b[38;5;241m.\u001b[39mget_loc(key)\n\u001b[1;32m   3808\u001b[0m     \u001b[38;5;28;01mif\u001b[39;00m is_integer(indexer):\n",
      "File \u001b[0;32m~/.pyenv/versions/anaconda3-2023.07-2/lib/python3.11/site-packages/pandas/core/frame.py:3857\u001b[0m, in \u001b[0;36mDataFrame._getitem_multilevel\u001b[0;34m(self, key)\u001b[0m\n\u001b[1;32m   3855\u001b[0m \u001b[38;5;28;01mdef\u001b[39;00m \u001b[38;5;21m_getitem_multilevel\u001b[39m(\u001b[38;5;28mself\u001b[39m, key):\n\u001b[1;32m   3856\u001b[0m     \u001b[38;5;66;03m# self.columns is a MultiIndex\u001b[39;00m\n\u001b[0;32m-> 3857\u001b[0m     loc \u001b[38;5;241m=\u001b[39m \u001b[38;5;28mself\u001b[39m\u001b[38;5;241m.\u001b[39mcolumns\u001b[38;5;241m.\u001b[39mget_loc(key)\n\u001b[1;32m   3858\u001b[0m     \u001b[38;5;28;01mif\u001b[39;00m \u001b[38;5;28misinstance\u001b[39m(loc, (\u001b[38;5;28mslice\u001b[39m, np\u001b[38;5;241m.\u001b[39mndarray)):\n\u001b[1;32m   3859\u001b[0m         new_columns \u001b[38;5;241m=\u001b[39m \u001b[38;5;28mself\u001b[39m\u001b[38;5;241m.\u001b[39mcolumns[loc]\n",
      "File \u001b[0;32m~/.pyenv/versions/anaconda3-2023.07-2/lib/python3.11/site-packages/pandas/core/indexes/multi.py:2927\u001b[0m, in \u001b[0;36mMultiIndex.get_loc\u001b[0;34m(self, key, method)\u001b[0m\n\u001b[1;32m   2925\u001b[0m \u001b[38;5;28;01mif\u001b[39;00m keylen \u001b[38;5;241m==\u001b[39m \u001b[38;5;28mself\u001b[39m\u001b[38;5;241m.\u001b[39mnlevels \u001b[38;5;129;01mand\u001b[39;00m \u001b[38;5;28mself\u001b[39m\u001b[38;5;241m.\u001b[39mis_unique:\n\u001b[1;32m   2926\u001b[0m     \u001b[38;5;28;01mtry\u001b[39;00m:\n\u001b[0;32m-> 2927\u001b[0m         \u001b[38;5;28;01mreturn\u001b[39;00m \u001b[38;5;28mself\u001b[39m\u001b[38;5;241m.\u001b[39m_engine\u001b[38;5;241m.\u001b[39mget_loc(key)\n\u001b[1;32m   2928\u001b[0m     \u001b[38;5;28;01mexcept\u001b[39;00m \u001b[38;5;167;01mTypeError\u001b[39;00m:\n\u001b[1;32m   2929\u001b[0m         \u001b[38;5;66;03m# e.g. test_partial_slicing_with_multiindex partial string slicing\u001b[39;00m\n\u001b[1;32m   2930\u001b[0m         loc, _ \u001b[38;5;241m=\u001b[39m \u001b[38;5;28mself\u001b[39m\u001b[38;5;241m.\u001b[39mget_loc_level(key, \u001b[38;5;28mlist\u001b[39m(\u001b[38;5;28mrange\u001b[39m(\u001b[38;5;28mself\u001b[39m\u001b[38;5;241m.\u001b[39mnlevels)))\n",
      "File \u001b[0;32m~/.pyenv/versions/anaconda3-2023.07-2/lib/python3.11/site-packages/pandas/_libs/index.pyx:777\u001b[0m, in \u001b[0;36mpandas._libs.index.BaseMultiIndexCodesEngine.get_loc\u001b[0;34m()\u001b[0m\n",
      "\u001b[0;31mKeyError\u001b[0m: ('execution', 'count')"
     ]
    }
   ],
   "source": [
    "execution_groupby_prompt_quality[execution_groupby_prompt_quality[('execution','count')]>=2]"
   ]
  },
  {
   "cell_type": "code",
   "execution_count": 101,
   "metadata": {},
   "outputs": [
    {
     "data": {
      "text/plain": [
       "prompt quality\n",
       "0    0.01875\n",
       "1    0.10625\n",
       "2    0.87500\n",
       "Name: (in paper, count), dtype: float64"
      ]
     },
     "execution_count": 101,
     "metadata": {},
     "output_type": "execute_result"
    }
   ],
   "source": []
  },
  {
   "cell_type": "code",
   "execution_count": 66,
   "metadata": {},
   "outputs": [
    {
     "data": {
      "text/plain": [
       "(0.0, 1.0)"
      ]
     },
     "execution_count": 66,
     "metadata": {},
     "output_type": "execute_result"
    },
    {
     "data": {
      "image/png": "[encoded data removed]",
      "text/plain": [
       "<Figure size 400x400 with 1 Axes>"
      ]
     },
     "metadata": {},
     "output_type": "display_data"
    }
   ],
   "source": [
    "execution_groupby_prompt_quality_percentage=execution_groupby_prompt_quality.loc[:,(slice(None),'count')].iloc[:,0]/execution_groupby_prompt_quality.loc[:,(slice(None),'count')].iloc[:,0].sum()\n",
    "ax=execution_groupby_prompt_quality_percentage.iloc[::-1].plot(kind='barh',figsize=(4,4),color='skyblue',edgecolor='k',width=0.7,)\n",
    "ax.set_xlabel('Percentage')\n",
    "ax.set_ylabel('Template fitness')\n",
    "ax.grid(axis='x',ls='--')\n",
    "ax.set_xlim(0,1)"
   ]
  },
  {
   "cell_type": "code",
   "execution_count": 68,
   "metadata": {},
   "outputs": [
    {
     "data": {
      "text/html": [
       "<div>\n",
       "<style scoped>\n",
       "    .dataframe tbody tr th:only-of-type {\n",
       "        vertical-align: middle;\n",
       "    }\n",
       "\n",
       "    .dataframe tbody tr th {\n",
       "        vertical-align: top;\n",
       "    }\n",
       "\n",
       "    .dataframe thead tr th {\n",
       "        text-align: left;\n",
       "    }\n",
       "\n",
       "    .dataframe thead tr:last-of-type th {\n",
       "        text-align: right;\n",
       "    }\n",
       "</style>\n",
       "<table border=\"1\" class=\"dataframe\">\n",
       "  <thead>\n",
       "    <tr>\n",
       "      <th></th>\n",
       "      <th colspan=\"3\" halign=\"left\">in paper</th>\n",
       "      <th colspan=\"3\" halign=\"left\">adherence</th>\n",
       "      <th colspan=\"3\" halign=\"left\">knowledge</th>\n",
       "      <th colspan=\"3\" halign=\"left\">rigor</th>\n",
       "      <th colspan=\"3\" halign=\"left\">correctness</th>\n",
       "    </tr>\n",
       "    <tr>\n",
       "      <th></th>\n",
       "      <th>mean</th>\n",
       "      <th>sem</th>\n",
       "      <th>count</th>\n",
       "      <th>mean</th>\n",
       "      <th>sem</th>\n",
       "      <th>count</th>\n",
       "      <th>mean</th>\n",
       "      <th>sem</th>\n",
       "      <th>count</th>\n",
       "      <th>mean</th>\n",
       "      <th>sem</th>\n",
       "      <th>count</th>\n",
       "      <th>mean</th>\n",
       "      <th>sem</th>\n",
       "      <th>count</th>\n",
       "    </tr>\n",
       "    <tr>\n",
       "      <th>prompt quality</th>\n",
       "      <th></th>\n",
       "      <th></th>\n",
       "      <th></th>\n",
       "      <th></th>\n",
       "      <th></th>\n",
       "      <th></th>\n",
       "      <th></th>\n",
       "      <th></th>\n",
       "      <th></th>\n",
       "      <th></th>\n",
       "      <th></th>\n",
       "      <th></th>\n",
       "      <th></th>\n",
       "      <th></th>\n",
       "      <th></th>\n",
       "    </tr>\n",
       "  </thead>\n",
       "  <tbody>\n",
       "    <tr>\n",
       "      <th>0</th>\n",
       "      <td>2.000000</td>\n",
       "      <td>0.000000</td>\n",
       "      <td>3</td>\n",
       "      <td>1.000000</td>\n",
       "      <td>0.577350</td>\n",
       "      <td>3</td>\n",
       "      <td>1.000000</td>\n",
       "      <td>0.577350</td>\n",
       "      <td>3</td>\n",
       "      <td>1.333333</td>\n",
       "      <td>0.666667</td>\n",
       "      <td>3</td>\n",
       "      <td>0.666667</td>\n",
       "      <td>0.666667</td>\n",
       "      <td>3</td>\n",
       "    </tr>\n",
       "    <tr>\n",
       "      <th>1</th>\n",
       "      <td>1.352941</td>\n",
       "      <td>0.170233</td>\n",
       "      <td>17</td>\n",
       "      <td>1.764706</td>\n",
       "      <td>0.136377</td>\n",
       "      <td>17</td>\n",
       "      <td>1.588235</td>\n",
       "      <td>0.123038</td>\n",
       "      <td>17</td>\n",
       "      <td>2.000000</td>\n",
       "      <td>0.000000</td>\n",
       "      <td>17</td>\n",
       "      <td>1.235294</td>\n",
       "      <td>0.182495</td>\n",
       "      <td>17</td>\n",
       "    </tr>\n",
       "    <tr>\n",
       "      <th>2</th>\n",
       "      <td>0.838926</td>\n",
       "      <td>0.071309</td>\n",
       "      <td>149</td>\n",
       "      <td>1.805369</td>\n",
       "      <td>0.040041</td>\n",
       "      <td>149</td>\n",
       "      <td>1.825503</td>\n",
       "      <td>0.036552</td>\n",
       "      <td>149</td>\n",
       "      <td>1.919463</td>\n",
       "      <td>0.022368</td>\n",
       "      <td>149</td>\n",
       "      <td>1.738255</td>\n",
       "      <td>0.041942</td>\n",
       "      <td>149</td>\n",
       "    </tr>\n",
       "  </tbody>\n",
       "</table>\n",
       "</div>"
      ],
      "text/plain": [
       "                in paper                 adherence                 knowledge  \\\n",
       "                    mean       sem count      mean       sem count      mean   \n",
       "prompt quality                                                                 \n",
       "0               2.000000  0.000000     3  1.000000  0.577350     3  1.000000   \n",
       "1               1.352941  0.170233    17  1.764706  0.136377    17  1.588235   \n",
       "2               0.838926  0.071309   149  1.805369  0.040041   149  1.825503   \n",
       "\n",
       "                                   rigor                 correctness  \\\n",
       "                     sem count      mean       sem count        mean   \n",
       "prompt quality                                                         \n",
       "0               0.577350     3  1.333333  0.666667     3    0.666667   \n",
       "1               0.123038    17  2.000000  0.000000    17    1.235294   \n",
       "2               0.036552   149  1.919463  0.022368   149    1.738255   \n",
       "\n",
       "                                \n",
       "                     sem count  \n",
       "prompt quality                  \n",
       "0               0.666667     3  \n",
       "1               0.182495    17  \n",
       "2               0.041942   149  "
      ]
     },
     "execution_count": 68,
     "metadata": {},
     "output_type": "execute_result"
    }
   ],
   "source": [
    "execution_groupby_prompt_quality"
   ]
  },
  {
   "cell_type": "code",
   "execution_count": 69,
   "metadata": {},
   "outputs": [
    {
     "data": {
      "text/plain": [
       "<matplotlib.legend.Legend at 0x7f1ad97ebc10>"
      ]
     },
     "execution_count": 69,
     "metadata": {},
     "output_type": "execute_result"
    },
    {
     "data": {
      "image/png": "[encoded data removed]",
      "text/plain": [
       "<Figure size 400x400 with 1 Axes>"
      ]
     },
     "metadata": {},
     "output_type": "display_data"
    }
   ],
   "source": [
    "execution_groupby_prompt_quality_mean=execution_groupby_prompt_quality[execution_groupby_prompt_quality[('correctness','count')]>=2].loc[::-1,(slice(None),'mean')].iloc[:,:0:-1].droplevel(1,axis=1)\n",
    "execution_groupby_prompt_quality_sem=execution_groupby_prompt_quality[execution_groupby_prompt_quality[('correctness','count')]>=2].loc[::-1,(slice(None),'sem')].iloc[:,:0:-1].droplevel(1,axis=1)\n",
    "ax=execution_groupby_prompt_quality_mean.plot(kind='barh',figsize=(4,4),color=['#e7ecef','#274c77','#6096ba','#a3cef1'],capsize=1.5,edgecolor='k',width=0.7,)\n",
    "# ['cyan','#9bc1bc','#faf0ca','#f4d35e',]\n",
    "ax.grid(axis='x',ls='--')\n",
    "ax.set_ylabel('Template fitness')\n",
    "ax.set_xlabel('Score')\n",
    "# ax.set_yticklabels(['\\n'.join(textwrap.wrap(task.replace(' ',' '), width=20)) for task in execution_groupby_prompt_quality_mean.index],fontsize=7)\n",
    "# ax.set_yticks(np.arange(4))\n",
    "# ax.legend().set_title('Template\\nFitness')\n",
    "# ax.set_title('Deviation from standard structure of template')\n",
    "\n",
    "# for index,value in enumerate(execution_groupby_prompt_quality[('in paper','count')]):\n",
    "# # for yval,(xval,val) in enumerate(zip(execution_groupby_prompt_quality[('in paper','count')],))\n",
    "#     for idx in range(4):\n",
    "#         ax.text(0.2, idx+(index-1)*0.7/3, str(value), color='black', va='center')\n",
    "handles, labels = ax.get_legend_handles_labels()\n",
    "ax.legend(handles[::-1], labels[::-1])"
   ]
  },
  {
   "cell_type": "code",
   "execution_count": 70,
   "metadata": {},
   "outputs": [
    {
     "data": {
      "text/html": [
       "<div>\n",
       "<style scoped>\n",
       "    .dataframe tbody tr th:only-of-type {\n",
       "        vertical-align: middle;\n",
       "    }\n",
       "\n",
       "    .dataframe tbody tr th {\n",
       "        vertical-align: top;\n",
       "    }\n",
       "\n",
       "    .dataframe thead th {\n",
       "        text-align: right;\n",
       "    }\n",
       "</style>\n",
       "<table border=\"1\" class=\"dataframe\">\n",
       "  <thead>\n",
       "    <tr style=\"text-align: right;\">\n",
       "      <th></th>\n",
       "      <th>correctness</th>\n",
       "      <th>rigor</th>\n",
       "      <th>knowledge</th>\n",
       "      <th>adherence</th>\n",
       "    </tr>\n",
       "    <tr>\n",
       "      <th>branch</th>\n",
       "      <th></th>\n",
       "      <th></th>\n",
       "      <th></th>\n",
       "      <th></th>\n",
       "    </tr>\n",
       "  </thead>\n",
       "  <tbody>\n",
       "    <tr>\n",
       "      <th>continuum, first-quantized</th>\n",
       "      <td>1.647059</td>\n",
       "      <td>1.941176</td>\n",
       "      <td>1.882353</td>\n",
       "      <td>1.745098</td>\n",
       "    </tr>\n",
       "    <tr>\n",
       "      <th>continuum, second-quantized</th>\n",
       "      <td>1.636364</td>\n",
       "      <td>2.000000</td>\n",
       "      <td>1.772727</td>\n",
       "      <td>1.818182</td>\n",
       "    </tr>\n",
       "    <tr>\n",
       "      <th>lattice, second-quantized</th>\n",
       "      <td>1.687500</td>\n",
       "      <td>1.885417</td>\n",
       "      <td>1.739583</td>\n",
       "      <td>1.802083</td>\n",
       "    </tr>\n",
       "  </tbody>\n",
       "</table>\n",
       "</div>"
      ],
      "text/plain": [
       "                             correctness     rigor  knowledge  adherence\n",
       "branch                                                                  \n",
       "continuum, first-quantized      1.647059  1.941176   1.882353   1.745098\n",
       "continuum, second-quantized     1.636364  2.000000   1.772727   1.818182\n",
       "lattice, second-quantized       1.687500  1.885417   1.739583   1.802083"
      ]
     },
     "execution_count": 70,
     "metadata": {},
     "output_type": "execute_result"
    }
   ],
   "source": [
    "execution_groupby_branch_mean"
   ]
  },
  {
   "cell_type": "code",
   "execution_count": null,
   "metadata": {},
   "outputs": [],
   "source": []
  },
  {
   "cell_type": "markdown",
   "metadata": {},
   "source": [
    "# Obsolete"
   ]
  },
  {
   "cell_type": "code",
   "execution_count": null,
   "metadata": {},
   "outputs": [
    {
     "data": {
      "text/plain": [
       "Text(0.5, 0, 'Score')"
      ]
     },
     "execution_count": 256,
     "metadata": {},
     "output_type": "execute_result"
    },
    {
     "data": {
      "image/png": "[encoded data removed]",
      "text/plain": [
       "<Figure size 800x500 with 1 Axes>"
      ]
     },
     "metadata": {},
     "output_type": "display_data"
    }
   ],
   "source": [
    "execution_reading_mean=pd.concat([arxiv_dict_mean,reading_data_mean],axis=1,).rename(columns={'final answer accuracy':'execution','Value':'Extraction'}).sort_values('execution')\n",
    "execution_reading_se=pd.concat([arxiv_dict_se,reading_data_se],axis=1,).rename(columns={'final answer accuracy':'execution','Value':'Extraction'}).sort_values('execution')\n",
    "\n",
    "execution_reading_mean.plot(kind='barh',color=['#007BA7', '#FF7F50'],figsize=(8,5),width=0.8,xerr=execution_reading_se,capsize=3)\n",
    "plt.title('\\n'.join([f'Mean of {kind}: {mean:.2f} $\\pm$ {se:.2f}' for kind,mean,se in zip(['Execution','Extraction'],execution_reading_mean.mean(),execution_reading_se.mean())]))\n",
    "plt.grid(axis='x',ls='--')\n",
    "plt.xlabel('Score')"
   ]
  },
  {
   "cell_type": "code",
   "execution_count": null,
   "metadata": {},
   "outputs": [],
   "source": [
    "color_list=[plt.cm.Blues(0.2+0.8*(i/6)) for i in range(6,0,-1)]"
   ]
  },
  {
   "cell_type": "code",
   "execution_count": null,
   "metadata": {},
   "outputs": [
    {
     "data": {
      "text/plain": [
       "Text(0.5, 0, 'Score')"
      ]
     },
     "execution_count": 255,
     "metadata": {},
     "output_type": "execute_result"
    },
    {
     "data": {
      "image/png": "[encoded data removed]",
      "text/plain": [
       "<Figure size 640x480 with 1 Axes>"
      ]
     },
     "metadata": {},
     "output_type": "display_data"
    }
   ],
   "source": [
    "arxiv_dict.mean().plot(kind='barh',color=[plt.cm.Blues(0.2+0.8*(i/6)) for i in range(6,0,-1)],xerr=arxiv_dict.sem(),capsize=3,)\n",
    "plt.grid(axis='x',ls='--')\n",
    "plt.xlabel('Score')"
   ]
  },
  {
   "cell_type": "code",
   "execution_count": null,
   "metadata": {},
   "outputs": [],
   "source": [
    "import pandas as pd"
   ]
  },
  {
   "cell_type": "code",
   "execution_count": null,
   "metadata": {},
   "outputs": [],
   "source": [
    "def load_score(arxiv_number):\n",
    "    prompt_template='../prompt_template.md'\n",
    "    # arxiv_number='1106.6060'\n",
    "    prompt_dict=load_prompt_template(prompt_template)\n",
    "    with open(os.path.join('..',f'{arxiv_number}',f'{arxiv_number}.yaml'),'r') as f:\n",
    "        kwargs= yaml.safe_load(f)\n",
    "    tasks=[f'Task:{idx} '+kwarg['task'] for idx,kwarg in enumerate(kwargs[1:])]\n",
    "    aspect_score={}\n",
    "    for kwarg in kwargs[1:]:\n",
    "        for key,value in (list(kwarg['score'].items())):\n",
    "            if key not in aspect_score:\n",
    "                aspect_score[key]=[value]\n",
    "            else:\n",
    "                aspect_score[key].append(value)\n",
    "    return pd.DataFrame(aspect_score,index=tasks)"
   ]
  },
  {
   "cell_type": "code",
   "execution_count": null,
   "metadata": {},
   "outputs": [],
   "source": [
    "df_list=[load_score(arxiv_number) for arxiv_number in arxiv_number_list]"
   ]
  },
  {
   "cell_type": "code",
   "execution_count": null,
   "metadata": {},
   "outputs": [],
   "source": [
    "dfs=pd.concat(df_list,keys=arxiv_number_list,names=['arxiv_number','task'])"
   ]
  },
  {
   "cell_type": "code",
   "execution_count": null,
   "metadata": {},
   "outputs": [
    {
     "ename": "NameError",
     "evalue": "name 'dfs' is not defined",
     "output_type": "error",
     "traceback": [
      "\u001b[0;31m---------------------------------------------------------------------------\u001b[0m",
      "\u001b[0;31mNameError\u001b[0m                                 Traceback (most recent call last)",
      "\u001b[1;32m/mnt/d/Cornell/HartreeFock_GPT/data_analysis/analysis_execution.ipynb Cell 20\u001b[0m line \u001b[0;36m1\n\u001b[0;32m----> <a href='vscode-notebook-cell://wsl%2Bubuntu-22.04/mnt/d/Cornell/HartreeFock_GPT/data_analysis/analysis_execution.ipynb#Y101sdnNjb2RlLXJlbW90ZQ%3D%3D?line=0'>1</a>\u001b[0m dfs\n",
      "\u001b[0;31mNameError\u001b[0m: name 'dfs' is not defined"
     ]
    }
   ],
   "source": [
    "dfs"
   ]
  },
  {
   "cell_type": "code",
   "execution_count": null,
   "metadata": {},
   "outputs": [
    {
     "data": {
      "text/plain": [
       "Text(0.5, 0, 'Score')"
      ]
     },
     "execution_count": 33,
     "metadata": {},
     "output_type": "execute_result"
    },
    {
     "data": {
      "image/png": "[encoded data removed]",
      "text/plain": [
       "<Figure size 600x400 with 1 Axes>"
      ]
     },
     "metadata": {},
     "output_type": "display_data"
    }
   ],
   "source": [
    "error_bar=dfs.std().values/dfs.shape[0]**0.5\n",
    "dfs.mean().plot(kind='barh',figsize=(6,4),xlim=(0,2.1),title='Overall mean',color=color_list,xerr=error_bar,capsize=5)\n",
    "plt.grid(axis='x',ls='--')\n",
    "plt.xlabel('Score')"
   ]
  },
  {
   "cell_type": "code",
   "execution_count": null,
   "metadata": {},
   "outputs": [
    {
     "data": {
      "text/html": [
       "<div>\n",
       "<style scoped>\n",
       "    .dataframe tbody tr th:only-of-type {\n",
       "        vertical-align: middle;\n",
       "    }\n",
       "\n",
       "    .dataframe tbody tr th {\n",
       "        vertical-align: top;\n",
       "    }\n",
       "\n",
       "    .dataframe thead th {\n",
       "        text-align: right;\n",
       "    }\n",
       "</style>\n",
       "<table border=\"1\" class=\"dataframe\">\n",
       "  <thead>\n",
       "    <tr style=\"text-align: right;\">\n",
       "      <th></th>\n",
       "      <th>Original Score</th>\n",
       "      <th>Conditional Score</th>\n",
       "    </tr>\n",
       "  </thead>\n",
       "  <tbody>\n",
       "    <tr>\n",
       "      <th>Quality</th>\n",
       "      <td>8</td>\n",
       "      <td>7</td>\n",
       "    </tr>\n",
       "    <tr>\n",
       "      <th>Efficiency</th>\n",
       "      <td>6</td>\n",
       "      <td>5</td>\n",
       "    </tr>\n",
       "    <tr>\n",
       "      <th>Reliability</th>\n",
       "      <td>7</td>\n",
       "      <td>8</td>\n",
       "    </tr>\n",
       "    <tr>\n",
       "      <th>Innovation</th>\n",
       "      <td>9</td>\n",
       "      <td>8</td>\n",
       "    </tr>\n",
       "  </tbody>\n",
       "</table>\n",
       "</div>"
      ],
      "text/plain": [
       "             Original Score  Conditional Score\n",
       "Quality                   8                  7\n",
       "Efficiency                6                  5\n",
       "Reliability               7                  8\n",
       "Innovation                9                  8"
      ]
     },
     "execution_count": 161,
     "metadata": {},
     "output_type": "execute_result"
    }
   ],
   "source": [
    "df.T"
   ]
  },
  {
   "cell_type": "code",
   "execution_count": null,
   "metadata": {},
   "outputs": [],
   "source": [
    "group='in_paper'\n",
    "# group='prompt_quality'\n",
    "mean=arxiv_dict.groupby(group)[['follow_instructions','physics_logic','math_derivation','final answer accuracy']].mean()\n",
    "error_bar=arxiv_dict.groupby(group)[['follow_instructions','physics_logic','math_derivation','final answer accuracy']].std()/arxiv_dict.groupby(group)[['follow_instructions','physics_logic','math_derivation','final answer accuracy']].count()**0.5\n"
   ]
  },
  {
   "cell_type": "code",
   "execution_count": null,
   "metadata": {},
   "outputs": [
    {
     "data": {
      "text/html": [
       "<div>\n",
       "<style scoped>\n",
       "    .dataframe tbody tr th:only-of-type {\n",
       "        vertical-align: middle;\n",
       "    }\n",
       "\n",
       "    .dataframe tbody tr th {\n",
       "        vertical-align: top;\n",
       "    }\n",
       "\n",
       "    .dataframe thead th {\n",
       "        text-align: right;\n",
       "    }\n",
       "</style>\n",
       "<table border=\"1\" class=\"dataframe\">\n",
       "  <thead>\n",
       "    <tr style=\"text-align: right;\">\n",
       "      <th></th>\n",
       "      <th>follow_instructions</th>\n",
       "      <th>physics_logic</th>\n",
       "      <th>math_derivation</th>\n",
       "      <th>final_answer_accuracy</th>\n",
       "    </tr>\n",
       "    <tr>\n",
       "      <th>in_paper</th>\n",
       "      <th></th>\n",
       "      <th></th>\n",
       "      <th></th>\n",
       "      <th></th>\n",
       "    </tr>\n",
       "  </thead>\n",
       "  <tbody>\n",
       "    <tr>\n",
       "      <th>0</th>\n",
       "      <td>1.727273</td>\n",
       "      <td>1.781818</td>\n",
       "      <td>2.000000</td>\n",
       "      <td>1.672727</td>\n",
       "    </tr>\n",
       "    <tr>\n",
       "      <th>1</th>\n",
       "      <td>1.850000</td>\n",
       "      <td>1.850000</td>\n",
       "      <td>1.925000</td>\n",
       "      <td>1.725000</td>\n",
       "    </tr>\n",
       "    <tr>\n",
       "      <th>2</th>\n",
       "      <td>1.804348</td>\n",
       "      <td>1.826087</td>\n",
       "      <td>1.978261</td>\n",
       "      <td>1.586957</td>\n",
       "    </tr>\n",
       "  </tbody>\n",
       "</table>\n",
       "</div>"
      ],
      "text/plain": [
       "          follow_instructions  physics_logic  math_derivation  \\\n",
       "in_paper                                                        \n",
       "0                    1.727273       1.781818         2.000000   \n",
       "1                    1.850000       1.850000         1.925000   \n",
       "2                    1.804348       1.826087         1.978261   \n",
       "\n",
       "          final_answer_accuracy  \n",
       "in_paper                         \n",
       "0                      1.672727  \n",
       "1                      1.725000  \n",
       "2                      1.586957  "
      ]
     },
     "execution_count": 265,
     "metadata": {},
     "output_type": "execute_result"
    }
   ],
   "source": [
    "mean"
   ]
  },
  {
   "cell_type": "code",
   "execution_count": null,
   "metadata": {},
   "outputs": [
    {
     "data": {
      "text/plain": [
       "[(0,\n",
       "  follow_instructions      1.727273\n",
       "  physics_logic            1.781818\n",
       "  math_derivation          2.000000\n",
       "  final_answer_accuracy    1.672727\n",
       "  Name: 0, dtype: float64),\n",
       " (1,\n",
       "  follow_instructions      1.850\n",
       "  physics_logic            1.850\n",
       "  math_derivation          1.925\n",
       "  final_answer_accuracy    1.725\n",
       "  Name: 1, dtype: float64),\n",
       " (2,\n",
       "  follow_instructions      1.804348\n",
       "  physics_logic            1.826087\n",
       "  math_derivation          1.978261\n",
       "  final_answer_accuracy    1.586957\n",
       "  Name: 2, dtype: float64)]"
      ]
     },
     "execution_count": 266,
     "metadata": {},
     "output_type": "execute_result"
    }
   ],
   "source": [
    "list(mean.iterrows())"
   ]
  },
  {
   "cell_type": "code",
   "execution_count": null,
   "metadata": {},
   "outputs": [
    {
     "data": {
      "image/png": "[encoded data removed]",
      "text/plain": [
       "<Figure size 600x400 with 1 Axes>"
      ]
     },
     "metadata": {},
     "output_type": "display_data"
    }
   ],
   "source": [
    "x = np.arange(mean.shape[1])  # the label locations\n",
    "width = 0.15  # the width of the bars\n",
    "multiplier = 0\n",
    "\n",
    "fig, ax = plt.subplots(layout='constrained',figsize=(6,4))\n",
    "color_list=[plt.cm.Blues(0.2+0.8*(i/4)) for i in range(4,0,-1)]\n",
    "# for attribute, measurement in aspect_score.items():\n",
    "for attribute, measurement in mean.iterrows():\n",
    "    offset = width * multiplier\n",
    "    if not error_bar.loc[attribute].isna().any():\n",
    "        rects = ax.barh(x + offset, np.array(measurement)+0.1, width, label=attribute,color=color_list[multiplier],left=-0.1,xerr=error_bar.loc[attribute].values,capsize=5)\n",
    "    # ax.bar_label(rects, padding=3)\n",
    "    multiplier += 1\n",
    "\n",
    "ax.set_xlabel('Score')\n",
    "ax.set_xticks([0,1,2])\n",
    "# ax.set_title(f\"{arxiv_number}\")\n",
    "ax.set_yticks(x + width*1, ['\\n'.join(textwrap.wrap(label, width=40)) for label in mean.columns])\n",
    "\n",
    "handles, labels = plt.gca().get_legend_handles_labels()\n",
    "plt.legend(handles[::-1], labels[::-1],loc='upper left', ncols=1,bbox_to_anchor=(1, 1),title=group)\n",
    "\n",
    "ax.grid(axis='x',ls='--')\n",
    "# ax.set_ylim(0, 250)\n",
    "ax.set_xlim(-0.1,2.1)\n",
    "\n",
    "plt.show()"
   ]
  },
  {
   "cell_type": "markdown",
   "metadata": {},
   "source": [
    "# Font"
   ]
  },
  {
   "cell_type": "code",
   "execution_count": 1,
   "metadata": {},
   "outputs": [],
   "source": [
    "import matplotlib.font_manager as font_manager\n"
   ]
  },
  {
   "cell_type": "code",
   "execution_count": 2,
   "metadata": {},
   "outputs": [],
   "source": [
    "fonts = sorted(set([f.name for f in font_manager.fontManager.ttflist]))\n"
   ]
  },
  {
   "cell_type": "code",
   "execution_count": 3,
   "metadata": {},
   "outputs": [
    {
     "data": {
      "text/plain": [
       "['DejaVu Sans',\n",
       " 'DejaVu Sans Display',\n",
       " 'DejaVu Sans Mono',\n",
       " 'DejaVu Serif',\n",
       " 'DejaVu Serif Display',\n",
       " 'Roboto',\n",
       " 'STIXGeneral',\n",
       " 'STIXNonUnicode',\n",
       " 'STIXSizeFiveSym',\n",
       " 'STIXSizeFourSym',\n",
       " 'STIXSizeOneSym',\n",
       " 'STIXSizeThreeSym',\n",
       " 'STIXSizeTwoSym',\n",
       " 'Ubuntu',\n",
       " 'Ubuntu Condensed',\n",
       " 'Ubuntu Mono',\n",
       " 'cmb10',\n",
       " 'cmex10',\n",
       " 'cmmi10',\n",
       " 'cmr10',\n",
       " 'cmss10',\n",
       " 'cmsy10',\n",
       " 'cmtt10']"
      ]
     },
     "execution_count": 3,
     "metadata": {},
     "output_type": "execute_result"
    }
   ],
   "source": [
    "fonts"
   ]
  },
  {
   "cell_type": "code",
   "execution_count": 8,
   "metadata": {},
   "outputs": [],
   "source": [
    "from matplotlib.font_manager import FontProperties\n"
   ]
  },
  {
   "cell_type": "code",
   "execution_count": 13,
   "metadata": {},
   "outputs": [],
   "source": [
    "roboto_font = FontProperties(fname='/home/jake/.fonts/Roboto-Regular.ttf')\n"
   ]
  },
  {
   "cell_type": "code",
   "execution_count": 14,
   "metadata": {},
   "outputs": [
    {
     "data": {
      "text/plain": [
       "<matplotlib.font_manager.FontProperties at 0x7fd47943f4d0>"
      ]
     },
     "execution_count": 14,
     "metadata": {},
     "output_type": "execute_result"
    }
   ],
   "source": [
    "roboto_font"
   ]
  },
  {
   "cell_type": "code",
   "execution_count": 78,
   "metadata": {},
   "outputs": [],
   "source": [
    "%reload_ext matplotlib"
   ]
  },
  {
   "cell_type": "code",
   "execution_count": 4,
   "metadata": {},
   "outputs": [
    {
     "data": {
      "image/png": "[encoded data removed]",
      "text/plain": [
       "<Figure size 640x480 with 1 Axes>"
      ]
     },
     "metadata": {},
     "output_type": "display_data"
    }
   ],
   "source": [
    "import matplotlib.pyplot as plt\n",
    "\n",
    "# Example plot\n",
    "plt.plot([1, 2, 3], [4, 5, 6])\n",
    "\n",
    "# Using Roboto font for title and labels\n",
    "plt.title('Example Plot', fontname='Roboto', fontsize=14)\n",
    "plt.xlabel('X Axis', fontname='Roboto', fontsize=12)\n",
    "plt.ylabel('Y Axis', fontname='Roboto', fontsize=12)\n",
    "\n",
    "plt.show()\n"
   ]
  },
  {
   "cell_type": "code",
   "execution_count": 16,
   "metadata": {},
   "outputs": [
    {
     "data": {
      "text/plain": [
       "'3.7.1'"
      ]
     },
     "execution_count": 16,
     "metadata": {},
     "output_type": "execute_result"
    }
   ],
   "source": [
    "matplotlib.__version__"
   ]
  },
  {
   "cell_type": "code",
   "execution_count": 20,
   "metadata": {},
   "outputs": [
    {
     "data": {
      "image/png": "[encoded data removed]",
      "text/plain": [
       "<Figure size 640x480 with 1 Axes>"
      ]
     },
     "metadata": {},
     "output_type": "display_data"
    }
   ],
   "source": [
    "from pathlib import Path\n",
    "\n",
    "import matplotlib.pyplot as plt\n",
    "\n",
    "import matplotlib as mpl\n",
    "\n",
    "fig, ax = plt.subplots()\n",
    "\n",
    "\n",
    "ax.set_title(f'This is a special font: {fpath.name}', font=fpath)\n",
    "ax.set_xlabel('This is the default font')\n",
    "\n",
    "plt.show()"
   ]
  },
  {
   "cell_type": "code",
   "execution_count": null,
   "metadata": {},
   "outputs": [],
   "source": []
  }
 ],
 "metadata": {
  "kernelspec": {
   "display_name": "base",
   "language": "python",
   "name": "python3"
  },
  "language_info": {
   "codemirror_mode": {
    "name": "ipython",
    "version": 3
   },
   "file_extension": ".py",
   "mimetype": "text/x-python",
   "name": "python",
   "nbconvert_exporter": "python",
   "pygments_lexer": "ipython3",
   "version": "3.11.4"
  }
 },
 "nbformat": 4,
 "nbformat_minor": 2
}
