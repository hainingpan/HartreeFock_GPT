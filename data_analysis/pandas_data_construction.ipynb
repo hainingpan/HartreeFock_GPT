{
 "cells": [
  {
   "cell_type": "code",
   "execution_count": 1,
   "metadata": {},
   "outputs": [],
   "source": [
    "import os\n",
    "import numpy as np\n",
    "import yaml\n",
    "import pandas as pd"
   ]
  },
  {
   "cell_type": "markdown",
   "metadata": {},
   "source": [
    "Simple Functions"
   ]
  },
  {
   "cell_type": "code",
   "execution_count": 3,
   "metadata": {},
   "outputs": [],
   "source": [
    "def get_yaml_data_from_arxiv_number(arxiv_number):\n",
    "    with open(os.path.join('..', f'{arxiv_number}', f'{arxiv_number}.yaml'), 'r') as f:\n",
    "        return yaml.safe_load(f)"
   ]
  },
  {
   "cell_type": "markdown",
   "metadata": {},
   "source": [
    "# Dataset"
   ]
  },
  {
   "cell_type": "code",
   "execution_count": 4,
   "metadata": {},
   "outputs": [],
   "source": [
    "arxiv_number_list = [\n",
    "    \"1010.1819\",\n",
    "    \"1106.6060\",\n",
    "    \"1208.0116\",\n",
    "    # \"1212.5363\", # TODO\n",
    "    \"1310.2674\",\n",
    "    \"1812.04213\",\n",
    "    \"2004.04168\",\n",
    "    \"2008.08998\",\n",
    "    \"2012.04554\",\n",
    "    \"2108.02159\",\n",
    "    \"2110.11330\",\n",
    "    \"2111.01152\",\n",
    "    \"2112.07523\",\n",
    "    \"2308.03843\",\n",
    "    \"2308.07488\",\n",
    "]\n",
    "\n",
    "\n",
    "def get_branch_from_arxiv_number(arxiv_number):\n",
    "    yaml_data = get_yaml_data_from_arxiv_number(arxiv_number=arxiv_number)\n",
    "    return yaml_data[0][\"branch\"]\n",
    "\n",
    "\n",
    "# Keeps the pd.Series nicely ordered from the start\n",
    "arxiv_number_list.sort(key=get_branch_from_arxiv_number)"
   ]
  },
  {
   "cell_type": "markdown",
   "metadata": {},
   "source": [
    "# Construct List of Tuple Indices and Data"
   ]
  },
  {
   "cell_type": "code",
   "execution_count": 15,
   "metadata": {},
   "outputs": [],
   "source": [
    "tuple_index_list = []\n",
    "score_list = []\n",
    "\n",
    "for arxiv_number in arxiv_number_list:\n",
    "    yaml_data = get_yaml_data_from_arxiv_number(arxiv_number)\n",
    "\n",
    "    # Branch name\n",
    "    cur_branch_name = yaml_data[0][\"branch\"]\n",
    "\n",
    "    # Arxiv number\n",
    "    cur_arxiv_number = arxiv_number\n",
    "\n",
    "    for task_dict in yaml_data[1:]:\n",
    "        # Task name\n",
    "        cur_task_name = task_dict[\"task\"]\n",
    "\n",
    "        for placeholder_name, placeholder_data in task_dict[\"placeholder\"].items():\n",
    "            # Placeholder name\n",
    "            cur_placeholder_name = placeholder_name\n",
    "\n",
    "            if \"score\" in placeholder_data:  # Some entries in tasks don't have a score\n",
    "                for scorer, score in placeholder_data[\"score\"].items():\n",
    "                    cur_scorer = scorer\n",
    "\n",
    "                    tuple_index_list.append(\n",
    "                        (\n",
    "                            cur_branch_name,\n",
    "                            cur_arxiv_number,\n",
    "                            cur_task_name,\n",
    "                            cur_placeholder_name,\n",
    "                            cur_scorer,\n",
    "                        )\n",
    "                    )\n",
    "\n",
    "                    if score is None:\n",
    "                        cur_score = '(TODO)'\n",
    "                    else:\n",
    "                        cur_score = score\n",
    "                    score_list.append(cur_score)"
   ]
  },
  {
   "cell_type": "markdown",
   "metadata": {},
   "source": [
    "# Create Pandas Series using MultiIndex"
   ]
  },
  {
   "cell_type": "code",
   "execution_count": 16,
   "metadata": {},
   "outputs": [],
   "source": [
    "index = pd.MultiIndex.from_tuples(tuple_index_list, names=['branch', 'arxiv', 'task','placeholder', 'scorer'])\n",
    "data = pd.Series(score_list, index=index, name='score')"
   ]
  },
  {
   "cell_type": "code",
   "execution_count": 18,
   "metadata": {},
   "outputs": [],
   "source": [
    "data.to_csv('data.csv')"
   ]
  }
 ],
 "metadata": {
  "kernelspec": {
   "display_name": "Python 3",
   "language": "python",
   "name": "python3"
  },
  "language_info": {
   "codemirror_mode": {
    "name": "ipython",
    "version": 3
   },
   "file_extension": ".py",
   "mimetype": "text/x-python",
   "name": "python",
   "nbconvert_exporter": "python",
   "pygments_lexer": "ipython3",
   "version": "3.11.5"
  }
 },
 "nbformat": 4,
 "nbformat_minor": 2
}
