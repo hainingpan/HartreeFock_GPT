{
 "cells": [
  {
   "cell_type": "code",
   "execution_count": 1,
   "metadata": {},
   "outputs": [],
   "source": [
    "import openai\n",
    "import pandas as pd\n",
    "import json\n",
    "from IPython.display import Markdown\n",
    "import sys"
   ]
  },
  {
   "cell_type": "code",
   "execution_count": 2,
   "metadata": {},
   "outputs": [],
   "source": [
    "zz=openai.Model.list()"
   ]
  },
  {
   "cell_type": "code",
   "execution_count": 3,
   "metadata": {},
   "outputs": [
    {
     "data": {
      "text/plain": [
       "62"
      ]
     },
     "execution_count": 3,
     "metadata": {},
     "output_type": "execute_result"
    }
   ],
   "source": [
    "len(zz['data'])"
   ]
  },
  {
   "cell_type": "code",
   "execution_count": 4,
   "metadata": {},
   "outputs": [
    {
     "data": {
      "text/plain": [
       "['gpt-4-0613',\n",
       " 'gpt-4-0314',\n",
       " 'gpt-3.5-turbo-16k-0613',\n",
       " 'gpt-3.5-turbo-16k',\n",
       " 'gpt-3.5-turbo-0301',\n",
       " 'gpt-3.5-turbo-0613',\n",
       " 'gpt-3.5-turbo',\n",
       " 'gpt-4']"
      ]
     },
     "execution_count": 4,
     "metadata": {},
     "output_type": "execute_result"
    }
   ],
   "source": [
    "[zz['data'][idx]['id'] for idx in range(len(zz['data'])) if 'gpt' in zz['data'][idx]['id']]"
   ]
  },
  {
   "cell_type": "code",
   "execution_count": 5,
   "metadata": {},
   "outputs": [],
   "source": [
    "model_params = {\n",
    "    'model': \"gpt-4\",\n",
    "    'temperature': 0,\n",
    "}"
   ]
  },
  {
   "cell_type": "code",
   "execution_count": 6,
   "metadata": {},
   "outputs": [],
   "source": [
    "def print_save(string, file='../cmp2.md'):\n",
    "    print(string)\n",
    "    with open(file,'w') as f:\n",
    "        f.write(string)"
   ]
  },
  {
   "cell_type": "markdown",
   "metadata": {},
   "source": [
    "## Load `prompt_template.md`"
   ]
  },
  {
   "cell_type": "code",
   "execution_count": 7,
   "metadata": {},
   "outputs": [],
   "source": [
    "sys.path.append('..')\n",
    "from utils import *\n",
    "from functools import partial"
   ]
  },
  {
   "cell_type": "code",
   "execution_count": 8,
   "metadata": {},
   "outputs": [],
   "source": [
    "# prompt_dict=load_prompt_template('../prompt_template.md')\n",
    "prompt_dict = partial(load_prompt_template,file='../prompt_template.md')"
   ]
  },
  {
   "cell_type": "code",
   "execution_count": 9,
   "metadata": {},
   "outputs": [
    {
     "data": {
      "text/plain": [
       "dict_keys(['Preamble', 'Construct Kinetic Hamiltonian (continuum version)', 'Construct Kinetic Hamiltonian (lattice version)', 'Define each term in Kinetic Hamiltonian (continuum version)', 'Construct Potential Hamiltonian (continuum version)', 'Define each term in Potential Hamiltonian (continuum version)', 'Construct interaction Hamiltonian (real space, lattice version)', 'Construct interaction Hamiltonian (momentum space)', 'Convert from single-particle to second-quantized form, return in matrix', 'Convert from single-particle to second-quantized form, return in summation (expand the matrix)', 'Convert noninteracting Hamiltonian in real space to momentum space (continuum version)', 'Convert noninteracting Hamiltonian in real space to momentum space (lattice version)', 'Convert interacting Hamiltonian in real space to momentum space (lattice version)', 'Particle-hole transformation', 'Simplify the Hamiltonian in the particle-hole basis', \"Wick's theorem\", 'Extract quadratic term', 'Hartree term only', 'Fock term only', 'Expand interaction', 'Swap the index only', 'Swap the index to combine Hartree and Fock terms', 'Reduce momentum in Hartree term (momentum in BZ + reciprocal lattice)', 'Reduce momentum in Hartree term (momentum in BZ)', 'Reduce momentum in Fock term (momentum in BZ + reciprocal lattice)', 'Combine the Hartree and Fock term', 'Construct full Hamiltonian after HF', \"Mathematical simplify: Euler's formula\", 'Mathematical simplify: prosthaphaeresis', 'Mathematical simplify: Expand using Associative property', 'Mathematical simplify: Combine using Associative property', 'Mathematical simplify: reduce index'])"
      ]
     },
     "execution_count": 9,
     "metadata": {},
     "output_type": "execute_result"
    }
   ],
   "source": [
    "prompt_dict().keys()"
   ]
  },
  {
   "cell_type": "code",
   "execution_count": 11,
   "metadata": {},
   "outputs": [],
   "source": [
    "df=pd.DataFrame(list(prompt_dict().items()),columns=['Task','Prompt'])"
   ]
  },
  {
   "cell_type": "markdown",
   "metadata": {},
   "source": [
    "## Construct Kinetic Hamiltonian (continuum version)"
   ]
  },
  {
   "cell_type": "code",
   "execution_count": 202,
   "metadata": {},
   "outputs": [],
   "source": [
    "user_msg=[]\n",
    "AI_msg=[]\n",
    "sys_msg=[{'role': 'system', 'content': prompt_dict()['Preamble']}]\n",
    "kwargs_list=[]"
   ]
  },
  {
   "cell_type": "code",
   "execution_count": 203,
   "metadata": {},
   "outputs": [],
   "source": [
    "kwargs = {\n",
    "    'task': 'Construct Kinetic Hamiltonian (continuum version, second-quantized)',\n",
    "    'system': 'moire TMD',\n",
    "    'real|momentum': 'momentum',\n",
    "    'single-particle|second-quantized': 'second-quantized',\n",
    "    'dof': 'moire reciprocal lattice vectors $b$ (infinite set), spin index (spin up and spin down)',\n",
    "    'kinetic_symbol': r'$H_{Kinetic}(k)$',\n",
    "    'dispersion_symbol': r'$E_{\\sigma,b}(k)$',\n",
    "    'annihilation_op':r'$c_{\\sigma,b}(k)$',\n",
    "    'creation_op':r'$c_{\\sigma,b}^\\dagger(k)$',\n",
    "    'k|r': 'k',\n",
    "    'entire_space|first_Brillouin_zone': r'the first Brillouin zone (BZ)',\n",
    "    'def_var':\n",
    "    r'''$b$: moire reciprocal lattice vectors\n",
    "$k$: momentum within the first Brillouin zone\n",
    "$\\sigma$: spin index  \n",
    "$\\uparrow$: spin up  \n",
    "$\\downarrow$: spin down  \n",
    "$c_{\\sigma,b}(k)$ : annihilation operator with spin $\\sigma$ and moire reciprocal lattice vectors $b$  \n",
    "$c_{\\sigma,b}^\\dagger(k)$ : creation operator with spin $\\sigma$ and moire reciprocal lattice vectors $b$   \n",
    "$E_{\\sigma,b}(k)$: energy dispersion at spin $\\sigma$ and with moire reciprocal lattice vectors $b$.  \n",
    "$H_{Kinetic}$: the total Kinetic energy in the second quantized form''',\n",
    "    'answer':    r'$H_{Kinetic} = \\sum_{\\sigma,b,k} E_{\\sigma,b}(k) c_{\\sigma,b}^\\dagger(k) c_{\\sigma,b}(k)$'\n",
    "}\n"
   ]
  },
  {
   "cell_type": "code",
   "execution_count": 204,
   "metadata": {},
   "outputs": [
    {
     "name": "stdout",
     "output_type": "stream",
     "text": [
      "You will be instructed to describe the kinetic term of Hamiltonian in moire TMD in the momentum space in the second-quantized form.   \n",
      "The degrees of freedom of the system are: moire reciprocal lattice vectors $b$ (infinite set), spin index (spin up and spin down).  \n",
      "Express the Kinetic Hamiltonian $H_{Kinetic}(k)$ using $E_{\\sigma,b}(k)$, $c_{\\sigma,b}(k)$, and $c_{\\sigma,b}^\\dagger(k)$, where the summation of $k$ should be running over the the first Brillouin zone (BZ).\n",
      "\n",
      "Use the following conventions for the symbols:  \n",
      "$b$: moire reciprocal lattice vectors\n",
      "$k$: momentum within the first Brillouin zone\n",
      "$\\sigma$: spin index  \n",
      "$\\uparrow$: spin up  \n",
      "$\\downarrow$: spin down  \n",
      "$c_{\\sigma,b}(k)$ : annihilation operator with spin $\\sigma$ and moire reciprocal lattice vectors $b$  \n",
      "$c_{\\sigma,b}^\\dagger(k)$ : creation operator with spin $\\sigma$ and moire reciprocal lattice vectors $b$   \n",
      "$E_{\\sigma,b}(k)$: energy dispersion at spin $\\sigma$ and with moire reciprocal lattice vectors $b$.  \n",
      "$H_{Kinetic}$: the total Kinetic energy in the second quantized form\n"
     ]
    }
   ],
   "source": [
    "print_save(generate_prompt(kwargs,prompt_dict=prompt_dict())['content'])"
   ]
  },
  {
   "cell_type": "code",
   "execution_count": 205,
   "metadata": {},
   "outputs": [],
   "source": [
    "# user_msg.append(generate_prompt(kwargs,prompt_dict=prompt_dict))"
   ]
  },
  {
   "cell_type": "code",
   "execution_count": 206,
   "metadata": {},
   "outputs": [],
   "source": [
    "# messages=assembly_message(sys_msg,user_msg,AI_msg)"
   ]
  },
  {
   "cell_type": "code",
   "execution_count": 207,
   "metadata": {},
   "outputs": [],
   "source": [
    "# rs = openai.ChatCompletion.create(messages=messages, **model_params)\n",
    "\n",
    "# Markdown(rs['choices'][0]['message'].content)"
   ]
  },
  {
   "cell_type": "code",
   "execution_count": 208,
   "metadata": {},
   "outputs": [],
   "source": [
    "# AI_msg.append(dict(rs['choices'][0]['message']))"
   ]
  },
  {
   "cell_type": "code",
   "execution_count": 209,
   "metadata": {},
   "outputs": [],
   "source": [
    "# rs['choices'][0]['message'].content"
   ]
  },
  {
   "cell_type": "code",
   "execution_count": 210,
   "metadata": {},
   "outputs": [],
   "source": [
    "kwargs_list.append(kwargs)"
   ]
  },
  {
   "cell_type": "markdown",
   "metadata": {},
   "source": [
    "## Define each term in Kinetic Hamiltonian (continuum version)"
   ]
  },
  {
   "cell_type": "code",
   "execution_count": 211,
   "metadata": {},
   "outputs": [],
   "source": [
    "# user_msg=[]\n",
    "# AI_msg=[]\n",
    "# sys_msg=[{'role': 'system', 'content': prompt_dict()['Preamble']}]\n",
    "# kwargs_list=[]"
   ]
  },
  {
   "cell_type": "code",
   "execution_count": 212,
   "metadata": {},
   "outputs": [],
   "source": [
    "kwargs = {\n",
    "    'task': 'Define each term in Kinetic Hamiltonian (continuum version)',\n",
    "    'var':r'the energy dispersion $E_{\\sigma,b}(k)$',\n",
    "    'Description':r'''For all energy dispersions, $E_{\\sigma,b}(k)$, it characterizes the dispersion for free holes, namely, $E_{\\sigma,b}(k)= -\\frac{\\hbar^2 (k+b)^2}{2 m^*}$.   ''',\n",
    "    'expression_kinetic': r'H_{Kinetic} = \\sum_{\\sigma,b,k} E_{\\sigma,b}(k) c_{\\sigma,b}^\\dagger(k) c_{\\sigma,b}(k)',\n",
    "    'kinetic_symbol': r'$H_{Kinetic}(k)$',\n",
    "    'def_var':r'''$m^*$ : effective mass  ''',\n",
    "'answer':r\"$H_{Kinetic} = -\\frac{\\hbar^2}{2 m^*} \\sum_{\\sigma,b,k} (k+b)^2 c_{\\sigma,b}^\\dagger(k) c_{\\sigma,b}(k)$\"\n",
    "}"
   ]
  },
  {
   "cell_type": "code",
   "execution_count": 213,
   "metadata": {},
   "outputs": [
    {
     "name": "stdout",
     "output_type": "stream",
     "text": [
      "You will be instructed to construct each term, namely the energy dispersion $E_{\\sigma,b}(k)$.  \n",
      "For all energy dispersions, $E_{\\sigma,b}(k)$, it characterizes the dispersion for free holes, namely, $E_{\\sigma,b}(k)= -\\frac{\\hbar^2 (k+b)^2}{2 m^*}$.   \n",
      "You should recall that H_{Kinetic} = \\sum_{\\sigma,b,k} E_{\\sigma,b}(k) c_{\\sigma,b}^\\dagger(k) c_{\\sigma,b}(k).   \n",
      "Return the expression for the energy dispersion $E_{\\sigma,b}(k)$ in the Kinetic Hamiltonian, and substitute it into the Kinetic Hamiltonian $H_{Kinetic}(k)$.  \n",
      "\n",
      "Use the following conventions for the symbols (You should also obey the conventions in all my previous prompts if you encounter undefined symbols. If you find it is never defined or has conflicts in the conventions, you should stop and let me know):  \n",
      "$m^*$ : effective mass\n"
     ]
    }
   ],
   "source": [
    "print_save(generate_prompt(kwargs,prompt_dict=prompt_dict())['content'])"
   ]
  },
  {
   "cell_type": "code",
   "execution_count": 214,
   "metadata": {},
   "outputs": [],
   "source": [
    "# user_msg.append(generate_prompt(kwargs,prompt_dict=prompt_dict))"
   ]
  },
  {
   "cell_type": "code",
   "execution_count": 215,
   "metadata": {},
   "outputs": [],
   "source": [
    "# messages=assembly_message(sys_msg,user_msg,AI_msg)"
   ]
  },
  {
   "cell_type": "code",
   "execution_count": 216,
   "metadata": {},
   "outputs": [],
   "source": [
    "# rs = openai.ChatCompletion.create(messages=messages, **model_params)\n",
    "# Markdown(rs['choices'][0]['message'].content)"
   ]
  },
  {
   "cell_type": "code",
   "execution_count": 217,
   "metadata": {},
   "outputs": [],
   "source": [
    "# AI_msg.append(dict(rs['choices'][0]['message']))"
   ]
  },
  {
   "cell_type": "code",
   "execution_count": 218,
   "metadata": {},
   "outputs": [],
   "source": [
    "# rs['choices'][0]['message'].content"
   ]
  },
  {
   "cell_type": "code",
   "execution_count": 219,
   "metadata": {},
   "outputs": [],
   "source": [
    "kwargs_list.append(kwargs)"
   ]
  },
  {
   "cell_type": "markdown",
   "metadata": {},
   "source": [
    "## Construct Potential Hamiltonian (continuum version)"
   ]
  },
  {
   "cell_type": "code",
   "execution_count": 220,
   "metadata": {},
   "outputs": [],
   "source": [
    "# user_msg=[]\n",
    "# AI_msg=[]\n",
    "# sys_msg=[{'role': 'system', 'content': prompt_dict['Preamble']}]\n",
    "# kwargs_list=[]"
   ]
  },
  {
   "cell_type": "code",
   "execution_count": 221,
   "metadata": {},
   "outputs": [],
   "source": [
    "kwargs = {\n",
    "    'task':'Construct Potential Hamiltonian (continuum version)',\n",
    "    'potential_symbol':r'$H_{Potential}(k)$',\n",
    "    'real|momentum':'momentum',\n",
    "    'single-particle|second-quantized':'second-quantized',\n",
    "    'kinetic_symbol': r'$H_{Kinetic}(k)$',\n",
    "    'Description': '',\n",
    "    'var':\n",
    "    r\"$\\Delta_{\\sigma, b,b'}$ and $c_{\\sigma,b}(k)$, and $c_{\\sigma,b'}^\\dagger(k)$\",\n",
    "\n",
    "    'def_var': r'''  \n",
    "$H_{Potential}$: the potential term in the second quantized form''',\n",
    "    'answer':r\"$H_{Potential} = \\sum_{\\sigma,b,b',k} \\Delta_{\\sigma, b,b'} c_{\\sigma,b}^\\dagger(k) c_{\\sigma,b'}(k)$\"\n",
    "}\n"
   ]
  },
  {
   "cell_type": "code",
   "execution_count": 222,
   "metadata": {},
   "outputs": [
    {
     "name": "stdout",
     "output_type": "stream",
     "text": [
      "You will be instructed to describe the potential term of Hamiltonian $H_{Potential}(k)$ in the momentum space in the second-quantized form.  \n",
      "The potential Hamiltonian has the same degrees of freedom as the kinetic Hamiltonian $H_{Kinetic}(k)$.  \n",
      ".  \n",
      "Express the potential Hamiltonian $H_{Potential}(k)$ using $\\Delta_{\\sigma, b,b'}$ and $c_{\\sigma,b}(k)$, and $c_{\\sigma,b'}^\\dagger(k)$.  \n",
      "\n",
      "Use the following conventions for the symbols (You should also remember the conventions in my previous prompts if there are no conflicts. If you have conflicts in the conventions, you should stop and let me know):  \n",
      "  \n",
      "$H_{Potential}$: the potential term in the second quantized form\n"
     ]
    }
   ],
   "source": [
    "print_save(generate_prompt(kwargs,prompt_dict=prompt_dict())['content'])"
   ]
  },
  {
   "cell_type": "code",
   "execution_count": 223,
   "metadata": {},
   "outputs": [],
   "source": [
    "# user_msg.append(generate_prompt(kwargs,prompt_dict=prompt_dict))"
   ]
  },
  {
   "cell_type": "code",
   "execution_count": 224,
   "metadata": {},
   "outputs": [],
   "source": [
    "# messages=assembly_message(sys_msg,user_msg,AI_msg)"
   ]
  },
  {
   "cell_type": "code",
   "execution_count": 225,
   "metadata": {},
   "outputs": [],
   "source": [
    "# rs = openai.ChatCompletion.create(messages=messages, **model_params)\n",
    "\n",
    "# Markdown(rs['choices'][0]['message'].content)"
   ]
  },
  {
   "cell_type": "code",
   "execution_count": 226,
   "metadata": {},
   "outputs": [],
   "source": [
    "# AI_msg.append(dict(rs['choices'][0]['message']))"
   ]
  },
  {
   "cell_type": "code",
   "execution_count": 227,
   "metadata": {},
   "outputs": [],
   "source": [
    "# rs['choices'][0]['message'].content"
   ]
  },
  {
   "cell_type": "code",
   "execution_count": 228,
   "metadata": {},
   "outputs": [],
   "source": [
    "kwargs_list.append(kwargs)"
   ]
  },
  {
   "cell_type": "markdown",
   "metadata": {},
   "source": [
    "## Define each term in Potential Hamiltonian (continuum version)"
   ]
  },
  {
   "cell_type": "code",
   "execution_count": 229,
   "metadata": {},
   "outputs": [],
   "source": [
    "# user_msg=[]\n",
    "# AI_msg=[]\n",
    "# sys_msg=[{'role': 'system', 'content': prompt_dict['Preamble']}]\n",
    "# kwargs_list=[]"
   ]
  },
  {
   "cell_type": "code",
   "execution_count": 230,
   "metadata": {},
   "outputs": [],
   "source": [
    "kwargs = {\n",
    "    'task':\n",
    "    'Define each term in Potential Hamiltonian (continuum version)',\n",
    "    'potential_symbol':'$H_{Potential}(k)$',\n",
    "    'var':    r\"$\\Delta_{\\sigma, b,b'}$\",\n",
    "    'real|momentum':'real',\n",
    "    'single-particle|second-quantized':'single-particle',\n",
    "    'kinetic_symbol':    '$H_{Kinetic}(r)$',\n",
    "    'Description': r'''$\\Delta_{\\sigma, b,b'}=\\sum_{j=1}^6 V_j \\delta_{b_j,b-b'}$, where $V_j=V_Me^{(-1)^{j-1}i\\phi}$''',\n",
    "    'def_var': r'''$b_j$: first shell of moire reciprocal lattice vectors  \n",
    "$V_M$: characterizes moire modulation strength  \n",
    "$\\phi$: phase factor defines the moire modulation phase  \n",
    "$\\delta_{i,j}$ : Kronecker delta function, take the value of 1 if $i=j$, and 0 otherwise.''',\n",
    "    'expression_Potential': r\"H_{Potential} = \\sum_{\\sigma,b,b',k} \\Delta_{\\sigma, b,b'} c_{\\sigma,b}^\\dagger(k) c_{\\sigma,b'}(k)\",\n",
    "    'answer':r\"$H_{Potential} = \\sum_{\\sigma,b,b',k, j=1}^6 V_j \\delta_{b_j,b-b'} c_{\\sigma,b}^\\dagger(k) c_{\\sigma,b'}(k)$\"\n",
    "}\n"
   ]
  },
  {
   "cell_type": "code",
   "execution_count": 231,
   "metadata": {},
   "outputs": [
    {
     "name": "stdout",
     "output_type": "stream",
     "text": [
      "You will be instructed to construct each term $H_{Potential}(k)$, namely, $\\Delta_{\\sigma, b,b'}$.  \n",
      "$\\Delta_{\\sigma, b,b'}=\\sum_{j=1}^6 V_j \\delta_{b_j,b-b'}$, where $V_j=V_Me^{(-1)^{j-1}i\\phi}$.\n",
      "You should recall that H_{Potential} = \\sum_{\\sigma,b,b',k} \\Delta_{\\sigma, b,b'} c_{\\sigma,b}^\\dagger(k) c_{\\sigma,b'}(k).  \n",
      "Return the expressions for $\\Delta_{\\sigma, b,b'}$, and substitute it into the potential Hamiltonian $H_{Potential}(k)$.  \n",
      "\n",
      "Use the following conventions for the symbols (You should also obey the conventions in all my previous prompts if you encounter undefined symbols. If you find it is never defined or have conflicts in the conventions, you should stop and let me know):  \n",
      "$b_j$: first shell of moire reciprocal lattice vectors  \n",
      "$V_M$: characterizes moire modulation strength  \n",
      "$\\phi$: phase factor defines the moire modulation phase  \n",
      "$\\delta_{i,j}$ : Kronecker delta function, take the value of 1 if $i=j$, and 0 otherwise.\n"
     ]
    }
   ],
   "source": [
    "print_save(generate_prompt(kwargs,prompt_dict=prompt_dict())['content'])"
   ]
  },
  {
   "cell_type": "code",
   "execution_count": 232,
   "metadata": {},
   "outputs": [],
   "source": [
    "# user_msg.append(generate_prompt(kwargs,prompt_dict=prompt_dict))"
   ]
  },
  {
   "cell_type": "code",
   "execution_count": 233,
   "metadata": {},
   "outputs": [],
   "source": [
    "# messages=assembly_message(sys_msg,user_msg,AI_msg)"
   ]
  },
  {
   "cell_type": "code",
   "execution_count": 234,
   "metadata": {},
   "outputs": [],
   "source": [
    "# rs = openai.ChatCompletion.create(messages=messages, **model_params)\n",
    "\n",
    "# Markdown(rs['choices'][0]['message'].content)"
   ]
  },
  {
   "cell_type": "code",
   "execution_count": 235,
   "metadata": {},
   "outputs": [],
   "source": [
    "# AI_msg.append(dict(rs['choices'][0]['message']))"
   ]
  },
  {
   "cell_type": "code",
   "execution_count": 236,
   "metadata": {},
   "outputs": [],
   "source": [
    "# rs['choices'][0]['message'].content"
   ]
  },
  {
   "cell_type": "code",
   "execution_count": 237,
   "metadata": {},
   "outputs": [],
   "source": [
    "kwargs_list.append(kwargs)"
   ]
  },
  {
   "cell_type": "markdown",
   "metadata": {},
   "source": [
    "## Construct interaction Hamiltonian (momentum space)"
   ]
  },
  {
   "cell_type": "code",
   "execution_count": 238,
   "metadata": {},
   "outputs": [],
   "source": [
    "kwargs = {\n",
    "    'task':'Construct interaction Hamiltonian (momentum space)',\n",
    "    'second_int_symbol':  r'$\\hat{H}^{int}$',\n",
    "    'index': r'spin index $\\sigma_i$',\n",
    "    'momentum': r'momentum $k_i$ and moire reciprocal lattice vectors $b_i$',\n",
    "    'For each operator, the total momentum is the sum of moire reciprocal lattice $b_i$ and momentum with in the first BZ $k_i$|None': r'For each operator, the total momentum is the sum of moire reciprocal lattice $b_i$ and momentum with in the first BZ $k_i$',\n",
    "    'interaction': 'bare Coulomb interaction',\n",
    "    'int_form': r'$V(q)=2\\pi e^2/(\\epsilon |q|)$',\n",
    "    'normalization_factor': r'$\\frac{1}{2 N V}$',\n",
    "    'op': r'$c_{\\sigma,b}(k)$',\n",
    "    'def_var': r'''$\\epsilon$ : dielectric constant  \n",
    "$V(q)$ : bare Coulomb interaction in the momentum space''',\n",
    "    'answer':r'$\\hat{H}^{int} = \\frac{1}{2 N A} \\sum_{\\sigma_1, \\sigma_2, b_1, b_2, b_3, b_4, k_1, k_2, k_3, k_4} c_{\\sigma_1,b_1}^\\dagger(k_1) c_{\\sigma_2,b_2}^\\dagger(k_2) c_{\\sigma_2,b_3}(k_3) c_{\\sigma_1,b_4}(k_4) V(q) \\delta_{k_1+b_1+k_2+b_2,k_3+b_3+k_4+b_4}$'\n",
    "}\n"
   ]
  },
  {
   "cell_type": "code",
   "execution_count": 239,
   "metadata": {},
   "outputs": [
    {
     "name": "stdout",
     "output_type": "stream",
     "text": [
      "You will be instructed to construct the interaction part of the Hamiltonian $\\hat{H}^{int}$ in the momentum space.  \n",
      "The interaction Hamiltonian is a product of four parts.\n",
      "The first part is the product of four operators with two creation and two annihilation operators following the normal order, namely, creation operators are before annihilation operators. You should follow the order of $1,2,2,1$ for the spin index $\\sigma_i$, and $1,2,3,4$ for the momentum $k_i$ and moire reciprocal lattice vectors $b_i$. \n",
      "The second part is the constraint of total momentum conservation, namely the total momentum of all creation operators should be the same as that of all annihilation operators. For each operator, the total momentum is the sum of moire reciprocal lattice $b_i$ and momentum with in the first BZ $k_i$  \n",
      "The third part is the interaction form. You should use bare Coulomb interaction with $V(q)=$V(q)=2\\pi e^2/(\\epsilon |q|)$$, where $q$ is the transferred total momentum between a creation operator and an annilation operator with the same spin index $\\sigma_i$, namely $q=k_1-k_4$.  \n",
      "The fourth part is the normalization factor, you should use $\\frac{1}{2 N V}$ here.\n",
      "Finally, the summation should be running over all spin index $\\sigma_i$, and momentum $k_i$ and moire reciprocal lattice vectors $b_i$\n",
      "Return the interaction term $\\hat{H}^{int}$ in terms of $c_{\\sigma,b}(k)$ and $V(q)$ (with $q$ expressed in terms of momentum $k_i$ and moire reciprocal lattice vectors $b_i$).  \n",
      "\n",
      "Use the following conventions for the symbols (You should also obey the conventions in all my previous prompts if you encounter undefined symbols. If you find it is never defined or has conflicts in the conventions, you should stop and let me know):  \n",
      "$\\epsilon$ : dielectric constant  \n",
      "$V(q)$ : bare Coulomb interaction in the momentum space\n"
     ]
    }
   ],
   "source": [
    "print_save(generate_prompt(kwargs,prompt_dict=prompt_dict())['content'])"
   ]
  },
  {
   "cell_type": "code",
   "execution_count": 240,
   "metadata": {},
   "outputs": [],
   "source": [
    "kwargs_list.append(kwargs)"
   ]
  },
  {
   "cell_type": "markdown",
   "metadata": {},
   "source": [
    "## Wick's theorem"
   ]
  },
  {
   "cell_type": "code",
   "execution_count": 241,
   "metadata": {},
   "outputs": [],
   "source": [
    "kwargs = {\n",
    "    'task':\"Wick's theorem\",\n",
    "    'second_int_symbol':  r'$\\hat{H}^{int}$',\n",
    "    'HF_symbol': r'$\\hat{H}^{int,HF}$',\n",
    "    'expression_int': r'$\\hat{H}^{int} = \\frac{1}{2 N A} \\sum_{\\sigma_1, \\sigma_2, b_1, b_2, b_3, b_4, k_1, k_2, k_3, k_4} c_{\\sigma_1,b_1}^\\dagger(k_1) c_{\\sigma_2,b_2}^\\dagger(k_2) c_{\\sigma_2,b_3}(k_3) c_{\\sigma_1,b_4}(k_4) V(q) \\delta_{k_1+b_1+k_2+b_2,k_3+b_3+k_4+b_4}$',\n",
    "    'def_var': r'''$\\langle c_{\\sigma_1,b_1}^\\dagger(k_1) c_{\\sigma_2,b_2}(k_2) \\rangle$ : expectation of $c_{\\sigma_1,b_1}^\\dagger(k_1) c_{\\sigma_2,b_2}(k_2)$ over the many-body ground states  \n",
    "$\\hat{H}^{int,HF}$ : Interaction term after Hartree-Fock approximation''',\n",
    "    'answer':r'$\\hat{H}^{int,HF} = \\frac{1}{2 N A} \\sum_{\\sigma_1, \\sigma_2, b_1, b_2, b_3, b_4, k_1, k_2, k_3, k_4} V(q) \\delta_{k_1+b_1+k_2+b_2,k_3+b_3+k_4+b_4} [\\langle c_{\\sigma_1,b_1}^\\dagger(k_1) c_{\\sigma_1,b_4}(k_4) \\rangle c_{\\sigma_2,b_2}^\\dagger(k_2) c_{\\sigma_2,b_3}(k_3)+ \\langle c_{\\sigma_2,b_2}^\\dagger(k_2) c_{\\sigma_2,b_3}(k_3) \\rangle c_{\\sigma_1,b_1}^\\dagger(k_1) c_{\\sigma_1,b_4}(k_4)- \\langle c_{\\sigma_1,b_1}^\\dagger(k_1) c_{\\sigma_1,b_4}(k_4) \\rangle \\langle c_{\\sigma_2,b_2}^\\dagger(k_2) c_{\\sigma_2,b_3}(k_3) \\rangle- \\langle c_{\\sigma_1,b_1}^\\dagger(k_1) c_{\\sigma_2,b_3}(k_3) \\rangle c_{\\sigma_2,b_2}^\\dagger(k_2) c_{\\sigma_1,b_4}(k_4)- \\langle c_{\\sigma_2,b_2}^\\dagger(k_2) c_{\\sigma_1,b_4}(k_4) \\rangle c_{\\sigma_1,b_1}^\\dagger(k_1) c_{\\sigma_2,b_3}(k_3)+ \\langle c_{\\sigma_1,b_1}^\\dagger(k_1) c_{\\sigma_2,b_3}(k_3) \\rangle \\langle c_{\\sigma_2,b_2}^\\dagger(k_2) c_{\\sigma_1,b_4}(k_4) \\rangle]$'\n",
    "}\n"
   ]
  },
  {
   "cell_type": "code",
   "execution_count": 242,
   "metadata": {},
   "outputs": [],
   "source": [
    "# print_save(generate_prompt(kwargs,prompt_dict=prompt_dict())['content'])"
   ]
  },
  {
   "cell_type": "code",
   "execution_count": 243,
   "metadata": {},
   "outputs": [],
   "source": [
    "kwargs_list.append(kwargs)"
   ]
  },
  {
   "cell_type": "markdown",
   "metadata": {},
   "source": [
    "## Extract quadratic term"
   ]
  },
  {
   "cell_type": "code",
   "execution_count": 244,
   "metadata": {},
   "outputs": [],
   "source": [
    "kwargs = {\n",
    "    'task':\"Extract quadratic term\",\n",
    "    'HF_symbol': r'$\\hat{H}^{int,HF}$',\n",
    "    'bilinear_op': r'$c^\\dagger c$',\n",
    "    'HF_2_symbol': r'$\\hat{H}^{int,HF,2}$',\n",
    "    'expression_HF': r'$\\hat{H}^{int,HF} = \\frac{1}{2 N A} \\sum_{\\sigma_1, \\sigma_2, b_1, b_2, b_3, b_4, k_1, k_2, k_3, k_4} V(q) \\delta_{k_1+b_1+k_2+b_2,k_3+b_3+k_4+b_4} [\\langle c_{\\sigma_1,b_1}^\\dagger(k_1) c_{\\sigma_1,b_4}(k_4) \\rangle c_{\\sigma_2,b_2}^\\dagger(k_2) c_{\\sigma_2,b_3}(k_3)+ \\langle c_{\\sigma_2,b_2}^\\dagger(k_2) c_{\\sigma_2,b_3}(k_3) \\rangle c_{\\sigma_1,b_1}^\\dagger(k_1) c_{\\sigma_1,b_4}(k_4)- \\langle c_{\\sigma_1,b_1}^\\dagger(k_1) c_{\\sigma_1,b_4}(k_4) \\rangle \\langle c_{\\sigma_2,b_2}^\\dagger(k_2) c_{\\sigma_2,b_3}(k_3) \\rangle- \\langle c_{\\sigma_1,b_1}^\\dagger(k_1) c_{\\sigma_2,b_3}(k_3) \\rangle c_{\\sigma_2,b_2}^\\dagger(k_2) c_{\\sigma_1,b_4}(k_4)- \\langle c_{\\sigma_2,b_2}^\\dagger(k_2) c_{\\sigma_1,b_4}(k_4) \\rangle c_{\\sigma_1,b_1}^\\dagger(k_1) c_{\\sigma_2,b_3}(k_3)+ \\langle c_{\\sigma_1,b_1}^\\dagger(k_1) c_{\\sigma_2,b_3}(k_3) \\rangle \\langle c_{\\sigma_2,b_2}^\\dagger(k_2) c_{\\sigma_1,b_4}(k_4) \\rangle]$',\n",
    "    'def_var': r'''$\\hat{H}^{int,HF,2}$ : the quadratic terms in $\\hat{H}^{int,HF}$''',\n",
    "    'answer':r'\\hat{H}^{int,HF,2} = \\frac{1}{2 N A} \\sum_{\\sigma_1, \\sigma_2, b_1, b_2, b_3, b_4, k_1, k_2, k_3, k_4} V(q) \\delta_{k_1+b_1+k_2+b_2,k_3+b_3+k_4+b_4} [\\langle c_{\\sigma_1,b_1}^\\dagger(k_1) c_{\\sigma_1,b_4}(k_4) \\rangle c_{\\sigma_2,b_2}^\\dagger(k_2) c_{\\sigma_2,b_3}(k_3) + \\langle c_{\\sigma_2,b_2}^\\dagger(k_2) c_{\\sigma_2,b_3}(k_3) \\rangle c_{\\sigma_1,b_1}^\\dagger(k_1) c_{\\sigma_1,b_4}(k_4) - \\langle c_{\\sigma_1,b_1}^\\dagger(k_1) c_{\\sigma_2,b_3}(k_3) \\rangle c_{\\sigma_2,b_2}^\\dagger(k_2) c_{\\sigma_1,b_4}(k_4) - \\langle c_{\\sigma_2,b_2}^\\dagger(k_2) c_{\\sigma_1,b_4}(k_4) \\rangle c_{\\sigma_1,b_1}^\\dagger(k_1) c_{\\sigma_2,b_3}(k_3)]'\n",
    "}\n"
   ]
  },
  {
   "cell_type": "code",
   "execution_count": 245,
   "metadata": {},
   "outputs": [
    {
     "name": "stdout",
     "output_type": "stream",
     "text": [
      "You will be instructed to extract the quadratic terms in the $\\hat{H}^{int,HF}$.  \n",
      "The quadratic terms mean terms that are proportional to $c^\\dagger c$, which excludes terms that are solely expectations or products of expectations.  \n",
      "You should only preserve the quadratic terms in $\\hat{H}^{int,HF}$, which is called $\\hat{H}^{int,HF,2}$.  \n",
      "You should recall that $\\hat{H}^{int,HF} = \\frac{1}{2 N A} \\sum_{\\sigma_1, \\sigma_2, b_1, b_2, b_3, b_4, k_1, k_2, k_3, k_4} V(q) \\delta_{k_1+b_1+k_2+b_2,k_3+b_3+k_4+b_4} [\\langle c_{\\sigma_1,b_1}^\\dagger(k_1) c_{\\sigma_1,b_4}(k_4) \\rangle c_{\\sigma_2,b_2}^\\dagger(k_2) c_{\\sigma_2,b_3}(k_3)+ \\langle c_{\\sigma_2,b_2}^\\dagger(k_2) c_{\\sigma_2,b_3}(k_3) \\rangle c_{\\sigma_1,b_1}^\\dagger(k_1) c_{\\sigma_1,b_4}(k_4)- \\langle c_{\\sigma_1,b_1}^\\dagger(k_1) c_{\\sigma_1,b_4}(k_4) \\rangle \\langle c_{\\sigma_2,b_2}^\\dagger(k_2) c_{\\sigma_2,b_3}(k_3) \\rangle- \\langle c_{\\sigma_1,b_1}^\\dagger(k_1) c_{\\sigma_2,b_3}(k_3) \\rangle c_{\\sigma_2,b_2}^\\dagger(k_2) c_{\\sigma_1,b_4}(k_4)- \\langle c_{\\sigma_2,b_2}^\\dagger(k_2) c_{\\sigma_1,b_4}(k_4) \\rangle c_{\\sigma_1,b_1}^\\dagger(k_1) c_{\\sigma_2,b_3}(k_3)+ \\langle c_{\\sigma_1,b_1}^\\dagger(k_1) c_{\\sigma_2,b_3}(k_3) \\rangle \\langle c_{\\sigma_2,b_2}^\\dagger(k_2) c_{\\sigma_1,b_4}(k_4) \\rangle]$.\n",
      "Return this Hamiltonian $\\hat{H}^{int,HF,2}$.  \n",
      "\n",
      "Use the following conventions for the symbols (You should also obey the conventions in all my previous prompts if you encounter undefined symbols. If you find it is never defined or has conflicts in the conventions, you should stop and let me know):  \n",
      "$\\hat{H}^{int,HF,2}$ : the quadratic terms in $\\hat{H}^{int,HF}$\n"
     ]
    }
   ],
   "source": [
    "print_save(generate_prompt(kwargs,prompt_dict=prompt_dict())['content'])"
   ]
  },
  {
   "cell_type": "code",
   "execution_count": 246,
   "metadata": {},
   "outputs": [],
   "source": [
    "kwargs_list.append(kwargs)"
   ]
  },
  {
   "cell_type": "markdown",
   "metadata": {},
   "source": [
    "## Expand interaction"
   ]
  },
  {
   "cell_type": "code",
   "execution_count": 247,
   "metadata": {},
   "outputs": [],
   "source": [
    "kwargs = {\n",
    "    'task':\"Expand interaction\",\n",
    "    'HF_2_symbol': r'$\\hat{H}^{int,HF,2}$',\n",
    "    'momentum': r'$b_i$ and $k_i$',\n",
    "    'expression_HF_2': r'$\\hat{H}^{int,HF,2} = \\frac{1}{2 N A} \\sum_{\\sigma_1, \\sigma_2, b_1, b_2, b_3, b_4, k_1, k_2, k_3, k_4} V(q) \\delta_{k_1+b_1+k_2+b_2,k_3+b_3+k_4+b_4} [\\langle c_{\\sigma_1,b_1}^\\dagger(k_1) c_{\\sigma_1,b_4}(k_4) \\rangle c_{\\sigma_2,b_2}^\\dagger(k_2) c_{\\sigma_2,b_3}(k_3) + \\langle c_{\\sigma_2,b_2}^\\dagger(k_2) c_{\\sigma_2,b_3}(k_3) \\rangle c_{\\sigma_1,b_1}^\\dagger(k_1) c_{\\sigma_1,b_4}(k_4) - \\langle c_{\\sigma_1,b_1}^\\dagger(k_1) c_{\\sigma_2,b_3}(k_3) \\rangle c_{\\sigma_2,b_2}^\\dagger(k_2) c_{\\sigma_1,b_4}(k_4) - \\langle c_{\\sigma_2,b_2}^\\dagger(k_2) c_{\\sigma_1,b_4}(k_4) \\rangle c_{\\sigma_1,b_1}^\\dagger(k_1) c_{\\sigma_2,b_3}(k_3)]$',\n",
    "    'def_var': r'''$\\hat{H}^{int,HF,2}$ : the quadratic terms in $\\hat{H}^{int,HF}$''',\n",
    "    'answer':r'\\hat{H}^{int,HF,2} = \\frac{1}{2 N A} \\sum_{\\sigma_1, \\sigma_2, b_1, b_2, b_3, b_4, k_1, k_2, k_3, k_4} V(k_1+b_1-k_4-b_4) \\delta_{k_1+b_1+k_2+b_2,k_3+b_3+k_4+b_4} [\\langle c_{\\sigma_1,b_1}^\\dagger(k_1) c_{\\sigma_1,b_4}(k_4) \\rangle c_{\\sigma_2,b_2}^\\dagger(k_2) c_{\\sigma_2,b_3}(k_3) + \\langle c_{\\sigma_2,b_2}^\\dagger(k_2) c_{\\sigma_2,b_3}(k_3) \\rangle c_{\\sigma_1,b_1}^\\dagger(k_1) c_{\\sigma_1,b_4}(k_4) - \\langle c_{\\sigma_1,b_1}^\\dagger(k_1) c_{\\sigma_2,b_3}(k_3) \\rangle c_{\\sigma_2,b_2}^\\dagger(k_2) c_{\\sigma_1,b_4}(k_4) - \\langle c_{\\sigma_2,b_2}^\\dagger(k_2) c_{\\sigma_1,b_4}(k_4) \\rangle c_{\\sigma_1,b_1}^\\dagger(k_1) c_{\\sigma_2,b_3}(k_3)]'\n",
    "}\n"
   ]
  },
  {
   "cell_type": "code",
   "execution_count": 248,
   "metadata": {},
   "outputs": [
    {
     "name": "stdout",
     "output_type": "stream",
     "text": [
      "You will be instructed to expand interaction term $V(q)$ in the MF quadratic term $\\hat{H}^{int,HF,2}$.\n",
      "If you find the $V(q)$ in $\\hat{H}^{int,HF,2}$ does not contain any momentum that is not in the summation sign. The interaction term is already expanded. No action to perform on interaction term.\n",
      "Otherwise, you will expand $V(q)$ by replacing $q$ with the momentum $b_i$ and $k_i$.\n",
      "You should recall that $\\hat{H}^{int,HF,2} = \\frac{1}{2 N A} \\sum_{\\sigma_1, \\sigma_2, b_1, b_2, b_3, b_4, k_1, k_2, k_3, k_4} V(q) \\delta_{k_1+b_1+k_2+b_2,k_3+b_3+k_4+b_4} [\\langle c_{\\sigma_1,b_1}^\\dagger(k_1) c_{\\sigma_1,b_4}(k_4) \\rangle c_{\\sigma_2,b_2}^\\dagger(k_2) c_{\\sigma_2,b_3}(k_3) + \\langle c_{\\sigma_2,b_2}^\\dagger(k_2) c_{\\sigma_2,b_3}(k_3) \\rangle c_{\\sigma_1,b_1}^\\dagger(k_1) c_{\\sigma_1,b_4}(k_4) - \\langle c_{\\sigma_1,b_1}^\\dagger(k_1) c_{\\sigma_2,b_3}(k_3) \\rangle c_{\\sigma_2,b_2}^\\dagger(k_2) c_{\\sigma_1,b_4}(k_4) - \\langle c_{\\sigma_2,b_2}^\\dagger(k_2) c_{\\sigma_1,b_4}(k_4) \\rangle c_{\\sigma_1,b_1}^\\dagger(k_1) c_{\\sigma_2,b_3}(k_3)]$.\n",
      "Return $\\hat{H}^{int,HF,2}$ with expanded interaction.\n"
     ]
    }
   ],
   "source": [
    "print_save(generate_prompt(kwargs,prompt_dict=prompt_dict())['content'])"
   ]
  },
  {
   "cell_type": "code",
   "execution_count": 249,
   "metadata": {},
   "outputs": [],
   "source": [
    "kwargs_list.append(kwargs)"
   ]
  },
  {
   "cell_type": "markdown",
   "metadata": {},
   "source": [
    "## Swap the index to combine Hartree and Fock terms"
   ]
  },
  {
   "cell_type": "code",
   "execution_count": 250,
   "metadata": {},
   "outputs": [],
   "source": [
    "kwargs = {\n",
    "    'task':\"Swap the index to combine Hartree and Fock terms\",\n",
    "    'HF_2_symbol': r'$\\hat{H}^{int,HF,2}$',\n",
    "    'expval': r'$\\langle c_{\\sigma_1,b_1}^\\dagger(k_1) c_{\\sigma_1,b_4}(k_4) \\rangle$',\n",
    "    'expression_Hartree_1':r'$\\langle c_{\\sigma_1,b_1}^\\dagger(k_1) c_{\\sigma_1,b_4}(k_4) \\rangle c_{\\sigma_2,b_2}^\\dagger(k_2) c_{\\sigma_2,b_3}(k_3)$',\n",
    "    'expression_Hartree_2':r'$\\langle c_{\\sigma_2,b_2}^\\dagger(k_2) c_{\\sigma_2,b_3}(k_3) \\rangle c_{\\sigma_1,b_1}^\\dagger(k_1) c_{\\sigma_1,b_4}(k_4)$',\n",
    "    'expression_HF_2':r'\\hat{H}^{int,HF,2} = \\frac{1}{2 N A} \\sum_{\\sigma_1, \\sigma_2, b_1, b_2, b_3, b_4, k_1, k_2, k_3, k_4} V(k_1+b_1-k_4-b_4) \\delta_{k_1+b_1+k_2+b_2,k_3+b_3+k_4+b_4} \\langle c_{\\sigma_1,b_1}^\\dagger(k_1) c_{\\sigma_1,b_4}(k_4) \\rangle c_{\\sigma_2,b_2}^\\dagger(k_2) c_{\\sigma_2,b_3}(k_3) + \\langle c_{\\sigma_2,b_2}^\\dagger(k_2) c_{\\sigma_2,b_3}(k_3) \\rangle c_{\\sigma_1,b_1}^\\dagger(k_1) c_{\\sigma_1,b_4}(k_4) - \\langle c_{\\sigma_1,b_1}^\\dagger(k_1) c_{\\sigma_2,b_3}(k_3) \\rangle c_{\\sigma_2,b_2}^\\dagger(k_2) c_{\\sigma_1,b_4}(k_4) - \\langle c_{\\sigma_2,b_2}^\\dagger(k_2) c_{\\sigma_1,b_4}(k_4) \\rangle c_{\\sigma_1,b_1}^\\dagger(k_1) c_{\\sigma_2,b_3}(k_3)',\n",
    "    'answer':r'$\\hat{H}^{int,HF,2} = \\frac{1}{N A} \\sum_{\\sigma_1, \\sigma_2, b_1, b_2, b_3, b_4, k_1, k_2, k_3, k_4} V(k_1+b_1-k_4-b_4) \\delta_{k_1+b_1+k_2+b_2,k_3+b_3+k_4+b_4} [\\langle c_{\\sigma_1,b_1}^\\dagger(k_1) c_{\\sigma_1,b_4}(k_4) \\rangle c_{\\sigma_2,b_2}^\\dagger(k_2) c_{\\sigma_2,b_3}(k_3) - \\langle c_{\\sigma_1,b_1}^\\dagger(k_1) c_{\\sigma_2,b_3}(k_3) \\rangle c_{\\sigma_2,b_2}^\\dagger(k_2) c_{\\sigma_1,b_4}(k_4)]$'\n",
    "}\n"
   ]
  },
  {
   "cell_type": "code",
   "execution_count": 251,
   "metadata": {},
   "outputs": [
    {
     "name": "stdout",
     "output_type": "stream",
     "text": [
      "You will be instructed to simplify the quadratic term $\\hat{H}^{int,HF,2}$ through relabeling the index to combine the two Hartree/Fock term into one Hartree/Fock term.  \n",
      "The logic is that the expected value ($\\langle c_{\\sigma_1,b_1}^\\dagger(k_1) c_{\\sigma_1,b_4}(k_4) \\rangle$) in the first Hartree term ($\\langle c_{\\sigma_1,b_1}^\\dagger(k_1) c_{\\sigma_1,b_4}(k_4) \\rangle c_{\\sigma_2,b_2}^\\dagger(k_2) c_{\\sigma_2,b_3}(k_3)$) has the same form as the qudratic operators in the second Hartree term ($\\langle c_{\\sigma_2,b_2}^\\dagger(k_2) c_{\\sigma_2,b_3}(k_3) \\rangle c_{\\sigma_1,b_1}^\\dagger(k_1) c_{\\sigma_1,b_4}(k_4)$), and vice versa. The same applies to the Fock term.  \n",
      "This means, if you relabel the index by swapping the index in the \"expected value\" and \"quadratic operators\" in the second Hartree term, you can make the second Hartree term look identical to the first Hartree term, as long as $V(q)=V(-q)$, which is naturally satisfied in Coulomb interaction. You should follow the EXAMPLE below to simplify it through relabeling the index.  \n",
      "You should perform this trick of \"relabeling the index\" for both two Hartree terms and two Fock terms to reduce them to one Hartree term, and one Fock term.  \n",
      "You should recall that \\hat{H}^{int,HF,2} = \\frac{1}{2 N A} \\sum_{\\sigma_1, \\sigma_2, b_1, b_2, b_3, b_4, k_1, k_2, k_3, k_4} V(k_1+b_1-k_4-b_4) \\delta_{k_1+b_1+k_2+b_2,k_3+b_3+k_4+b_4} \\langle c_{\\sigma_1,b_1}^\\dagger(k_1) c_{\\sigma_1,b_4}(k_4) \\rangle c_{\\sigma_2,b_2}^\\dagger(k_2) c_{\\sigma_2,b_3}(k_3) + \\langle c_{\\sigma_2,b_2}^\\dagger(k_2) c_{\\sigma_2,b_3}(k_3) \\rangle c_{\\sigma_1,b_1}^\\dagger(k_1) c_{\\sigma_1,b_4}(k_4) - \\langle c_{\\sigma_1,b_1}^\\dagger(k_1) c_{\\sigma_2,b_3}(k_3) \\rangle c_{\\sigma_2,b_2}^\\dagger(k_2) c_{\\sigma_1,b_4}(k_4) - \\langle c_{\\sigma_2,b_2}^\\dagger(k_2) c_{\\sigma_1,b_4}(k_4) \\rangle c_{\\sigma_1,b_1}^\\dagger(k_1) c_{\\sigma_2,b_3}(k_3).  \n",
      "Return the simplied $\\hat{H}^{int,HF,2}$ which reduces from four terms (two Hartree and two Fock terms) to only two terms (one Hartree and one Fock term)\n",
      "\n",
      "===  \n",
      "EXAMPLE:\n",
      "Given a Hamiltonian $\\hat{H}=\\sum_{k_1,k_2, k_3, k_4,\\sigma_1,\\sigma_2,\\sigma_3,\\sigma_4} V(k_1-k_4) (\\langle c_{\\sigma_1}^\\dagger(k_1) c_{\\sigma_4}(k_4) \\rangle c_{\\sigma_2}^\\dagger(k_2) c_{\\sigma_3}(k_3) + \\langle c_{\\sigma_2}^\\dagger(k_2) c_{\\sigma_3}(k_3) \\rangle c_{\\sigma_1}^\\dagger(k_1) c_{\\sigma_4}(k_4) ) \\delta_{k_1+k_2,k_3+k_4}$, where $V(q)=V(-q)$.  \n",
      "In the second term, we relabel the index to swap the index in expected value and the index in quadratic operators, namely, $\\sigma_1 \\leftrightarrow \\sigma_2$, $\\sigma_3 \\leftrightarrow \\sigma_4$, $k_1 \\leftrightarrow k_2$, $k_3 \\leftrightarrow k_4$. After the replacement, the second term becomes $\\sum_{k_1,k_2, k_3, k_4,\\sigma_1,\\sigma_2,\\sigma_3,\\sigma_4} V(k_2-k_3) \\langle c_{\\sigma_1}^\\dagger(k_1) c_{\\sigma_4}(k_4) \\rangle c_{\\sigma_2}^\\dagger(k_2) c_{\\sigma_3}(k_3) \\delta_{k_4+k_3,k_2+k_1}$.  \n",
      "Note that the Kronecker dirac function $\\delta_{k_4+k_3,k_2+k_1}$ implies $k_1+k_2=k_3+k_4$, i.e., $k_2-k_3=k_4-k_1$. Thus, the second term simplifies to $\\sum_{k_1,k_2, k_3, k_4,\\sigma_1,\\sigma_2,\\sigma_3,\\sigma_4} V(k_4-k_1) \\langle c_{\\sigma_1}^\\dagger(k_1) c_{\\sigma_4}(k_4) \\rangle c_{\\sigma_2}^\\dagger(k_2) c_{\\sigma_3}(k_3) \\delta_{k_4+k_3,k_2+k_1}$.\n",
      "Because $V(q)=V(-q)$, meaning $V(k_4-k_1)=V(k_1-k_4)$, the second term further simplifies to $\\sum_{k_1,k_2, k_3, k_4,\\sigma_1,\\sigma_2,\\sigma_3,\\sigma_4} V(k_1-k_4) \\langle c_{\\sigma_1}^\\dagger(k_1) c_{\\sigma_4}(k_4) \\rangle c_{\\sigma_2}^\\dagger(k_2) c_{\\sigma_3}(k_3) \\delta_{k_4+k_3,k_2+k_1}$. Note that this form of second term after relabeling is identical to the first term.  \n",
      "Finally, we have the simplified Hamiltonian as  $\\hat{H}=2\\sum_{k_1,k_2, k_3, k_4,\\sigma_1,\\sigma_2,\\sigma_3,\\sigma_4} V(k_1-k_4) \\langle c_{\\sigma_1}^\\dagger(k_1) c_{\\sigma_4}(k_4) \\rangle c_{\\sigma_2}^\\dagger(k_2) c_{\\sigma_3}(k_3) \\delta_{k_4+k_3,k_2+k_1}$.\n"
     ]
    }
   ],
   "source": [
    "print_save(generate_prompt(kwargs,prompt_dict=prompt_dict())['content'])"
   ]
  },
  {
   "cell_type": "code",
   "execution_count": 252,
   "metadata": {},
   "outputs": [],
   "source": [
    "kwargs_list.append(kwargs)"
   ]
  },
  {
   "cell_type": "markdown",
   "metadata": {},
   "source": [
    "## Reduce momentum in Hartree term (momentum in BZ + reciprocal lattice)"
   ]
  },
  {
   "cell_type": "code",
   "execution_count": 253,
   "metadata": {},
   "outputs": [],
   "source": [
    "kwargs = {\n",
    "    'task':\"Reduce momentum in Hartree term (momentum in BZ + reciprocal lattice)\",\n",
    "    'HF_2_symbol': r'$\\hat{H}^{int,HF,2}$',\n",
    "    'expval': r'$\\langle c_{\\sigma_i,b_i}^\\dagger(k_i) c_{\\sigma_j,b_j}(k_j) \\rangle$',\n",
    "    'expval_id':r'$\\langle c_{\\sigma_i,b_i}^\\dagger(k_i) c_{\\sigma_j,b_j}(k_j) \\rangle=\\langle c_{\\sigma_i,b_i}^\\dagger(k_i) c_{\\sigma_j,b_j}(k_j) \\rangle \\delta_{k_i,k_j}$',\n",
    "\n",
    "    'expression_Hartree':r'$\\hat{H}^{int,Hatree,2}= \\frac{1}{N A} \\sum_{\\sigma_1, \\sigma_2, b_1, b_2, b_3, b_4, k_1, k_2, k_3, k_4} V(k_1+b_1-k_4-b_4) \\delta_{k_1+b_1+k_2+b_2,k_3+b_3+k_4+b_4}\\langle c_{\\sigma_1,b_1}^\\dagger(k_1) c_{\\sigma_1,b_4}(k_4) \\rangle c_{\\sigma_2,b_2}^\\dagger(k_2) c_{\\sigma_2,b_3}(k_3)$',\n",
    "    'Hatree_2_symbol':r'$\\hat{H}^{int,Hatree,2}$',\n",
    "    'answer':r'$\\hat{H}^{int,Hartree,2}= \\frac{1}{N A} \\sum_{\\sigma_1, \\sigma_2, b_1, b_2, b_3, b_4, k_1, k_2} V(b_1-b_4) \\delta_{b_1+b_2,b_3+b_4}\\langle c_{\\sigma_1,b_1}^\\dagger(k_1) c_{\\sigma_1,b_4}(k_1) \\rangle c_{\\sigma_2,b_2}^\\dagger(k_2) c_{\\sigma_2,b_3}(k_2)$'\n",
    "}\n"
   ]
  },
  {
   "cell_type": "code",
   "execution_count": 254,
   "metadata": {},
   "outputs": [
    {
     "name": "stdout",
     "output_type": "stream",
     "text": [
      "You will be instructed to simplify the Hartree term in $\\hat{H}^{int,HF,2}$ by reducing the momentum inside the expected value $\\langle c_{\\sigma_i,b_i}^\\dagger(k_i) c_{\\sigma_j,b_j}(k_j) \\rangle$.  \n",
      "The expected value $\\langle c_{\\sigma_i,b_i}^\\dagger(k_i) c_{\\sigma_j,b_j}(k_j) \\rangle$ is only nonzero when the two momenta $k_i,k_j$ are the same, namely, $\\langle c_{\\sigma_i,b_i}^\\dagger(k_i) c_{\\sigma_j,b_j}(k_j) \\rangle=\\langle c_{\\sigma_i,b_i}^\\dagger(k_i) c_{\\sigma_j,b_j}(k_j) \\rangle \\delta_{k_i,k_j}$.  \n",
      "You should use the property of Kronecker delta function $\\delta_{k_i,k_j}$ to reduce one momentum $k_i$ but not $b_i$.\n",
      "Once you reduce one momentum inside the expected value $\\langle\\dots\\rangle$. You will also notice the total momentum conservation will reduce another momentum in the quadratic term. Therefore, you should end up with only two momenta left in the summation.  \n",
      "You should follow the EXAMPLE below to reduce one momentum in the Hartree term, and another momentum in the quadratic term.  \n",
      "You should recall that $\\hat{H}^{int,Hatree,2}= \\frac{1}{N A} \\sum_{\\sigma_1, \\sigma_2, b_1, b_2, b_3, b_4, k_1, k_2, k_3, k_4} V(k_1+b_1-k_4-b_4) \\delta_{k_1+b_1+k_2+b_2,k_3+b_3+k_4+b_4}\\langle c_{\\sigma_1,b_1}^\\dagger(k_1) c_{\\sigma_1,b_4}(k_4) \\rangle c_{\\sigma_2,b_2}^\\dagger(k_2) c_{\\sigma_2,b_3}(k_3)$.  \n",
      "Return the final simplified Hartree term $\\hat{H}^{int,Hatree,2}$.\n",
      "\n",
      "===  \n",
      "EXAMPLE:  \n",
      "Given a Hamiltonian where the Hartree term $\\hat{H}^{Hartree}=\\sum_{k_1,k_2, k_3, k_4,b_1,b_2,b_3,b_4} V(k_1-k_4+b_1-b_4) \\langle c_{b_1}^\\dagger(k_1) c_{b_4}(k_4) \\rangle c_{b_2}^\\dagger(k_2) c_{b_3}(k_3) \\delta_{k_1+k_2+b_1+b_2,k_3+k_4+b_3+b_4}$, where $k_i$ is the momentum inside first Brilloun zone and $b_i$ is the reciprocal lattice.   \n",
      "Inside the expected value, we realize $\\langle c_{b_1}^\\dagger(k_1) c_{b_4}(k_4) \\rangle$ is nonzero only when $k_1=k_4$, i.e., $\\langle c_{b_1}^\\dagger(k_1) c_{b_4}(k_4) \\rangle=\\langle c_{b_1}^\\dagger(k_1) c_{b_4}(k_4) \\rangle\\delta_{k_1,k_4}$.  \n",
      "Thus, the Hartree term becomes $\\sum_{k_1,k_2, k_3, k_4,b_1,b_2,b_3,b_4} V(k_1-k_4+b_1-b_4) \\langle c_{b_1}^\\dagger(k_1) c_{b_4}(k_4) \\rangle \\delta_{k_1,k_4} c_{b_2}^\\dagger(k_2) c_{b_3}(k_3) \\delta_{k_1+k_2+b_1+b_2,k_3+k_4+b_3+b_4}$.  \n",
      "Use the property of Kronecker delta function $\\delta_{k_1,k_4}$ to sum over $k_4$, we have $\\sum_{k_1, k_2, k_3,b_1,b_2,b_3,b_4} V(k_1-k_1+b_1-b_4) \\langle c_{b_1}^\\dagger(k_1) c_{b_4}(k_1) \\rangle c_{b_2}^\\dagger(k_2) c_{b_3}(k_3) \\delta_{k_1+k_2+b_1+b_2,k_3+k_1+b_3+b_4}=\\sum_{k_1, k_2, k_3,b_1,b_2,b_3,b_4} V(b_1-b_4) \\langle c_{b_1}^\\dagger(k_1) c_{b_4}(k_1) \\rangle c_{b_2}^\\dagger(k_2) c_{b_3}(k_3) \\delta_{k_2+b_1+b_2,k_3+b_3+b_4}$.  \n",
      "Because $k_i$ is momentum inside first Brilloun zone while $b_i$ is the reciprocal lattice. It is only when $k_2=k_3$ that $\\delta_{k_2+b_1+b_2,k_3+b_3+b_4}$ is nonzero, i.e., $\\delta_{k_2+b_1+b_2,k_3+b_3+b_4}=\\delta_{b_1+b_2,b_3+b_4}\\delta_{k_2,k_3}$. Therefore, the Hartree term simplifies to $\\sum_{k_1, k_2, k_3,b_1,b_2,b_3,b_4} V(b_1-b_4) \\langle c_{b_1}^\\dagger(k_1) c_{b_4}(k_1) \\rangle c_{b_2}^\\dagger(k_2) c_{b_3}(k_3) \\delta_{b_1+b_2,b_3+b_4}\\delta_{k_2,k_3}=\\sum_{k_1, k_2,b_1,b_2,b_3,b_4} V(b_1-b_4) \\langle c_{b_1}^\\dagger(k_1) c_{b_4}(k_1) \\rangle c_{b_2}^\\dagger(k_2) c_{b_3}(k_2) \\delta_{b_1+b_2,b_3+b_4}$.  \n",
      "Therefore, the final simplified Hartree term after reducing two momenta is $\\hat{H}^{Hartree}=\\sum_{k_1, k_2,b_1,b_2,b_3,b_4}  V(b_1-b_4) \\langle c_{b_1}^\\dagger(k_1) c_{b_4}(k_1) \\rangle c_{b_2}^\\dagger(k_2) c_{b_3}(k_2) \\delta_{b_1+b_2,b_3+b_4} \\delta_{b_1+b_2,b_3+b_4}$\n"
     ]
    }
   ],
   "source": [
    "print_save(generate_prompt(kwargs,prompt_dict=prompt_dict())['content'])"
   ]
  },
  {
   "cell_type": "code",
   "execution_count": 255,
   "metadata": {},
   "outputs": [],
   "source": [
    "kwargs_list.append(kwargs)"
   ]
  },
  {
   "cell_type": "markdown",
   "metadata": {},
   "source": [
    "## Reduce momentum in Fock term (momentum in BZ + reciprocal lattice)"
   ]
  },
  {
   "cell_type": "code",
   "execution_count": 256,
   "metadata": {},
   "outputs": [],
   "source": [
    "kwargs = {\n",
    "    'task':\"Reduce momentum in Fock term (momentum in BZ + reciprocal lattice)\",\n",
    "    'HF_2_symbol': r'$\\hat{H}^{int,HF,2}$',\n",
    "    'expval': r'$\\langle c_{\\sigma_i,b_i}^\\dagger(k_i) c_{\\sigma_j,b_j}(k_j) \\rangle$',\n",
    "    'expval_id':r'$\\langle c_{\\sigma_i,b_i}^\\dagger(k_i) c_{\\sigma_j,b_j}(k_j) \\rangle=\\langle c_{\\sigma_i,b_i}^\\dagger(k_i) c_{\\sigma_j,b_j}(k_j) \\rangle \\delta_{k_i,k_j}$',\n",
    "\n",
    "    'expression_Fock':r'$\\hat{H}^{int,Fock,2}= -\\frac{1}{N A} \\sum_{\\sigma_1, \\sigma_2, b_1, b_2, b_3, b_4, k_1, k_2, k_3, k_4} V(k_1+b_1-k_4-b_4) \\delta_{k_1+b_1+k_2+b_2,k_3+b_3+k_4+b_4} \\langle c_{\\sigma_1,b_1}^\\dagger(k_1) c_{\\sigma_2,b_3}(k_3) \\rangle c_{\\sigma_2,b_2}^\\dagger(k_2) c_{\\sigma_1,b_4}(k_4)$',\n",
    "    'Fock_2_symbol':r'$\\hat{H}^{int,Fock,2}$',\n",
    "    'answer':r'$\\hat{H}^{int,Fock,2}= -\\frac{1}{N A} \\sum_{\\sigma_1, \\sigma_2, b_1, b_2, b_3, b_4, k_1, k_2} V(k_1+b_1-k_2-b_4) \\delta_{b_1+b_2,b_3+b_4}\\langle c_{\\sigma_1,b_1}^\\dagger(k_1) c_{\\sigma_2,b_3}(k_1) \\rangle c_{\\sigma_2,b_2}^\\dagger(k_2) c_{\\sigma_1,b_4}(k_2)$'\n",
    "}\n"
   ]
  },
  {
   "cell_type": "code",
   "execution_count": 257,
   "metadata": {},
   "outputs": [
    {
     "name": "stdout",
     "output_type": "stream",
     "text": [
      "You will be instructed to simplify the Fock term in $\\hat{H}^{int,HF,2}$ by reducing the momentum inside the expected value $\\langle c_{\\sigma_i,b_i}^\\dagger(k_i) c_{\\sigma_j,b_j}(k_j) \\rangle$.  \n",
      "The expected value $\\langle c_{\\sigma_i,b_i}^\\dagger(k_i) c_{\\sigma_j,b_j}(k_j) \\rangle$ is only nonzero when the two momenta $k_i,k_j$ are the same, namely, $\\langle c_{\\sigma_i,b_i}^\\dagger(k_i) c_{\\sigma_j,b_j}(k_j) \\rangle=\\langle c_{\\sigma_i,b_i}^\\dagger(k_i) c_{\\sigma_j,b_j}(k_j) \\rangle \\delta_{k_i,k_j}$.  \n",
      "You should use the property of Kronecker delta function $\\delta_{k_i,k_j}$ to reduce one momentum $k_i$ but not $b_i$.  \n",
      "Once you reduce one momentum inside the expected value $\\langle\\dots\\rangle$. You will also notice the total momentum conservation will reduce another momentum in the quadratic term. Therefore, you should end up with only two momenta left in the summation.\n",
      "You should follow the EXAMPLE below to reduce one momentum in the Fock term, and another momentum in the quadratic term.    \n",
      "You should recall that $\\hat{H}^{int,Fock,2}= -\\frac{1}{N A} \\sum_{\\sigma_1, \\sigma_2, b_1, b_2, b_3, b_4, k_1, k_2, k_3, k_4} V(k_1+b_1-k_4-b_4) \\delta_{k_1+b_1+k_2+b_2,k_3+b_3+k_4+b_4} \\langle c_{\\sigma_1,b_1}^\\dagger(k_1) c_{\\sigma_2,b_3}(k_3) \\rangle c_{\\sigma_2,b_2}^\\dagger(k_2) c_{\\sigma_1,b_4}(k_4)$.  \n",
      "Return the final simplified Fock term $\\hat{H}^{int,Fock,2}$.\n",
      "\n",
      "===  \n",
      "EXAMPLE:  \n",
      "Given a Hamiltonian where the Fock term $\\hat{H}^{Fock}=-\\sum_{k_1,k_2, k_3, k_4,b_1,b_2,b_3,b_4} V(k_1-k_4+b_1-b_4) \\langle c_{b_1}^\\dagger(k_1) c_{b_3}(k_3) \\rangle c_{b_2}^\\dagger(k_2) c_{b_4}(k_4)  \\delta_{k_1+k_2+b_1+b_2,k_3+k_4+b_3+b_4}$, where $k_i$ is the momentum inside first Brilloun zone and $b_i$ is the reciprocal lattice.   \n",
      "Inside the expected value, we realize $\\langle c_{b_1}^\\dagger(k_1) c_{b_3}(k_3) \\rangle$ is nonzero only when $k_1=k_3$, i.e., $\\langle c_{b_1}^\\dagger(k_1) c_{b_3}(k_3) \\rangle=\\langle c_{b_1}^\\dagger(k_1) c_{b_3}(k_3) \\rangle\\delta_{k_1,k_3}$.    \n",
      "Thus, the Fock term becomes $-\\sum_{k_1,k_2, k_3, k_4,b_1,b_2,b_3,b_4} V(k_1-k_4+b_1-b_4) \\langle c_{b_1}^\\dagger(k_1) c_{b_3}(k_3) \\rangle \\delta_{k_1,k_3} c_{b_2}^\\dagger(k_2) c_{b_4}(k_4) \\delta_{k_1+k_2+b_1+b_2,k_3+k_4+b_3+b_4}$.  \n",
      "Use the property of Kronecker delta function $\\delta_{k_1,k_3}$ to sum over $k_3$, we have $-\\sum_{k_1,k_2, k_4,b_1,b_2,b_3,b_4} V(k_1-k_4+b_1-b_4) \\langle c_{b_1}^\\dagger(k_1) c_{b_3}(k_1) \\rangle c_{b_2}^\\dagger(k_2) c_{b_4}(k_4) \\delta_{k_1+k_2+b_1+b_2,k_1+k_4+b_3+b_4}=-\\sum_{k_1,k_2, k_4,b_1,b_2,b_3,b_4} V(k_1-k_4+b_1-b_4) \\langle c_{b_1}^\\dagger(k_1) c_{b_3}(k_1) \\rangle c_{b_2}^\\dagger(k_2) c_{b_4}(k_4) \\delta_{k_2+b_1+b_2,k_4+b_3+b_4}$.  \n",
      "Because $k_i$ is momentum inside first Brilloun zone while $b_i$ is the reciprocal lattice. It is only when $k_2=k_4$ that $\\delta_{k_2+b_1+b_2,k_4+b_3+b_4}$ is nonzero, i.e., $\\delta_{k_2+b_1+b_2,k_4+b_3+b_4}=\\delta_{b_1+b_2,b_3+b_4}\\delta_{k_2,k_4}$.  \n",
      "Therefore, the Fock term simplifies to $-\\sum_{k_1,k_2, k_4,b_1,b_2,b_3,b_4}  V(k_1-k_4+b_1-b_4) \\langle c_{b_1}^\\dagger(k_1) c_{b_3}(k_1) \\rangle c_{b_2}^\\dagger(k_2) c_{b_4}(k_4) \\delta_{b_1+b_2,b_3+b_4}\\delta_{k_2,k_4}=-\\sum_{k_1,k_2, b_1,b_2,b_3,b_4} V(k_1-k_2+b_1-b_4) \\langle c_{b_1}^\\dagger(k_1) c_{b_3}(k_1) \\rangle c_{b_2}^\\dagger(k_2) c_{b_4}(k_2) \\delta_{b_1+b_2,b_3+b_4}$.  \n",
      "Therefore, the final simplified Fock term after reducing two momenta is $\\hat{H}^{Fock}=-\\sum_{k_1, k_2,b_1,b_2,b_3,b_4}  V(k_1-k_2+b_1-b_4) \\langle c_{b_1}^\\dagger(k_1) c_{b_3}(k_1) \\rangle c_{b_2}^\\dagger(k_2) c_{b_4}(k_2) \\delta_{b_1+b_2,b_3+b_4}$\n"
     ]
    }
   ],
   "source": [
    "print_save(generate_prompt(kwargs,prompt_dict=prompt_dict())['content'])"
   ]
  },
  {
   "cell_type": "code",
   "execution_count": 258,
   "metadata": {},
   "outputs": [],
   "source": [
    "kwargs_list.append(kwargs)"
   ]
  },
  {
   "cell_type": "code",
   "execution_count": 259,
   "metadata": {},
   "outputs": [
    {
     "data": {
      "text/plain": [
       "11"
      ]
     },
     "execution_count": 259,
     "metadata": {},
     "output_type": "execute_result"
    }
   ],
   "source": [
    "len(kwargs_list)"
   ]
  },
  {
   "cell_type": "code",
   "execution_count": 260,
   "metadata": {},
   "outputs": [
    {
     "ename": "SyntaxError",
     "evalue": "invalid syntax (3659366440.py, line 1)",
     "output_type": "error",
     "traceback": [
      "\u001b[0;36m  File \u001b[0;32m\"/tmp/ipykernel_19150/3659366440.py\"\u001b[0;36m, line \u001b[0;32m1\u001b[0m\n\u001b[0;31m    --\u001b[0m\n\u001b[0m      ^\u001b[0m\n\u001b[0;31mSyntaxError\u001b[0m\u001b[0;31m:\u001b[0m invalid syntax\n"
     ]
    }
   ],
   "source": [
    "--"
   ]
  },
  {
   "cell_type": "markdown",
   "metadata": {},
   "source": [
    "## Save jsonl"
   ]
  },
  {
   "cell_type": "code",
   "execution_count": 261,
   "metadata": {},
   "outputs": [],
   "source": [
    "with open('2108.02159.jsonl', 'w') as f:\n",
    "    for dict_obj in kwargs_list:\n",
    "        f.write(json.dumps(dict_obj) + '\\n')"
   ]
  },
  {
   "cell_type": "markdown",
   "metadata": {},
   "source": [
    "# Draft"
   ]
  },
  {
   "cell_type": "code",
   "execution_count": null,
   "metadata": {},
   "outputs": [],
   "source": []
  }
 ],
 "metadata": {
  "kernelspec": {
   "display_name": "Python 3",
   "language": "python",
   "name": "python3"
  },
  "language_info": {
   "codemirror_mode": {
    "name": "ipython",
    "version": 3
   },
   "file_extension": ".py",
   "mimetype": "text/x-python",
   "name": "python",
   "nbconvert_exporter": "python",
   "pygments_lexer": "ipython3",
   "version": "3.8.11"
  },
  "orig_nbformat": 4
 },
 "nbformat": 4,
 "nbformat_minor": 2
}
