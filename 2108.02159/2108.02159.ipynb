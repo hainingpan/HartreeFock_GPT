{
 "cells": [
  {
   "cell_type": "code",
   "execution_count": 1,
   "metadata": {},
   "outputs": [],
   "source": [
    "import openai\n",
    "import pandas as pd\n",
    "import json\n",
    "from IPython.display import Markdown\n",
    "import sys"
   ]
  },
  {
   "cell_type": "code",
   "execution_count": 2,
   "metadata": {},
   "outputs": [],
   "source": [
    "zz=openai.Model.list()"
   ]
  },
  {
   "cell_type": "code",
   "execution_count": 3,
   "metadata": {},
   "outputs": [
    {
     "data": {
      "text/plain": [
       "62"
      ]
     },
     "execution_count": 3,
     "metadata": {},
     "output_type": "execute_result"
    }
   ],
   "source": [
    "len(zz['data'])"
   ]
  },
  {
   "cell_type": "code",
   "execution_count": 4,
   "metadata": {},
   "outputs": [
    {
     "data": {
      "text/plain": [
       "['gpt-4-0613',\n",
       " 'gpt-4-0314',\n",
       " 'gpt-3.5-turbo-16k-0613',\n",
       " 'gpt-3.5-turbo-16k',\n",
       " 'gpt-3.5-turbo-0301',\n",
       " 'gpt-3.5-turbo-0613',\n",
       " 'gpt-3.5-turbo',\n",
       " 'gpt-4']"
      ]
     },
     "execution_count": 4,
     "metadata": {},
     "output_type": "execute_result"
    }
   ],
   "source": [
    "[zz['data'][idx]['id'] for idx in range(len(zz['data'])) if 'gpt' in zz['data'][idx]['id']]"
   ]
  },
  {
   "cell_type": "code",
   "execution_count": 5,
   "metadata": {},
   "outputs": [],
   "source": [
    "model_params = {\n",
    "    'model': \"gpt-4\",\n",
    "    'temperature': 0,\n",
    "}"
   ]
  },
  {
   "cell_type": "code",
   "execution_count": 6,
   "metadata": {},
   "outputs": [],
   "source": [
    "def print_save(string, file='../cmp2.md'):\n",
    "    print(string)\n",
    "    with open(file,'w') as f:\n",
    "        f.write(string)"
   ]
  },
  {
   "cell_type": "markdown",
   "metadata": {},
   "source": [
    "## Load `prompt_template.md`"
   ]
  },
  {
   "cell_type": "code",
   "execution_count": 7,
   "metadata": {},
   "outputs": [],
   "source": [
    "sys.path.append('..')\n",
    "from utils import *\n",
    "from functools import partial"
   ]
  },
  {
   "cell_type": "code",
   "execution_count": 8,
   "metadata": {},
   "outputs": [],
   "source": [
    "# prompt_dict=load_prompt_template('../prompt_template.md')\n",
    "prompt_dict = partial(load_prompt_template,file='../prompt_template.md')"
   ]
  },
  {
   "cell_type": "code",
   "execution_count": 9,
   "metadata": {},
   "outputs": [
    {
     "data": {
      "text/plain": [
       "dict_keys(['Preamble', 'Construct Kinetic Hamiltonian (continuum version)', 'Construct Kinetic Hamiltonian (lattice version)', 'Define each term in Kinetic Hamiltonian (continuum version)', 'Construct Potential Hamiltonian (continuum version)', 'Define each term in Potential Hamiltonian (continuum version)', 'Construct interaction Hamiltonian (real space, lattice version)', 'Construct interaction Hamiltonian (momentum space)', 'Convert from single-particle to second-quantized form, return in matrix', 'Convert from single-particle to second-quantized form, return in summation (expand the matrix)', 'Convert noninteracting Hamiltonian in real space to momentum space (continuum version)', 'Convert noninteracting Hamiltonian in real space to momentum space (lattice version)', 'Convert interacting Hamiltonian in real space to momentum space (lattice version)', 'Particle-hole transformation', 'Simplify the Hamiltonian in the particle-hole basis', \"Wick's theorem\", 'Extract quadratic term', 'Hartree term only', 'Fock term only', 'Expand interaction', 'Swap the index only', 'Swap the index to combine Hartree and Fock terms', 'Reduce momentum in Hartree term (momentum in BZ + reciprocal lattice)', 'Reduce momentum in Hartree term (momentum in BZ)', 'Reduce momentum in Fock term (momentum in BZ + reciprocal lattice)', 'Combine the Hartree and Fock term', 'Construct full Hamiltonian after HF', \"Mathematical simplify: Euler's formula\", 'Mathematical simplify: prosthaphaeresis', 'Mathematical simplify: Expand using Associative property', 'Mathematical simplify: Combine using Associative property', 'Mathematical simplify: reduce index'])"
      ]
     },
     "execution_count": 9,
     "metadata": {},
     "output_type": "execute_result"
    }
   ],
   "source": [
    "prompt_dict().keys()"
   ]
  },
  {
   "cell_type": "code",
   "execution_count": 11,
   "metadata": {},
   "outputs": [],
   "source": [
    "df=pd.DataFrame(list(prompt_dict().items()),columns=['Task','Prompt'])"
   ]
  },
  {
   "cell_type": "markdown",
   "metadata": {},
   "source": [
    "## Construct Kinetic Hamiltonian (continuum version)"
   ]
  },
  {
   "cell_type": "code",
   "execution_count": 142,
   "metadata": {},
   "outputs": [],
   "source": [
    "user_msg=[]\n",
    "AI_msg=[]\n",
    "sys_msg=[{'role': 'system', 'content': prompt_dict()['Preamble']}]\n",
    "kwargs_list=[]"
   ]
  },
  {
   "cell_type": "code",
   "execution_count": 143,
   "metadata": {},
   "outputs": [],
   "source": [
    "kwargs = {\n",
    "    'task': 'Construct Kinetic Hamiltonian (continuum version, second-quantized)',\n",
    "    'system': 'moire TMD',\n",
    "    'real|momentum': 'momentum',\n",
    "    'single-particle|second-quantized': 'second-quantized',\n",
    "    'dof': 'moire reciprocal lattice vectors $b$ (infinite set), spin index (spin up and spin down)',\n",
    "    'kinetic_symbol': r'$H_{Kinetic}(k)$',\n",
    "    'dispersion_symbol': r'$E_{\\sigma,b}(k)$',\n",
    "    'annihilation_op':r'$c_{\\sigma,b}(k)$',\n",
    "    'creation_op':r'$c_{\\sigma,b}^\\dagger(k)$',\n",
    "    'k|r': 'k',\n",
    "    'entire_space|first_Brillouin_zone': r'the first Brillouin zone (BZ)',\n",
    "    'def_var':\n",
    "    r'''$b$: moire reciprocal lattice vectors\n",
    "$k$: momentum within the first Brillouin zone\n",
    "$\\sigma$: spin index  \n",
    "$\\uparrow$: spin up  \n",
    "$\\downarrow$: spin down  \n",
    "$c_{\\sigma,b}(k)$ : annihilation operator with spin $\\sigma$ and moire reciprocal lattice vectors $b$  \n",
    "$c_{\\sigma,b}^\\dagger(k)$ : creation operator with spin $\\sigma$ and moire reciprocal lattice vectors $b$   \n",
    "$E_{\\sigma,b}(k)$: energy dispersion at spin $\\sigma$ and with moire reciprocal lattice vectors $b$.  \n",
    "$H_{Kinetic}$: the total Kinetic energy in the second quantized form''',\n",
    "    'answer':    r'$H_{Kinetic} = \\sum_{\\sigma,b,k} E_{\\sigma,b}(k) c_{\\sigma,b}^\\dagger(k) c_{\\sigma,b}(k)$'\n",
    "}\n"
   ]
  },
  {
   "cell_type": "code",
   "execution_count": 144,
   "metadata": {},
   "outputs": [],
   "source": [
    "# print_save(generate_prompt(kwargs,prompt_dict=prompt_dict())['content'])"
   ]
  },
  {
   "cell_type": "code",
   "execution_count": 145,
   "metadata": {},
   "outputs": [],
   "source": [
    "# user_msg.append(generate_prompt(kwargs,prompt_dict=prompt_dict))"
   ]
  },
  {
   "cell_type": "code",
   "execution_count": 146,
   "metadata": {},
   "outputs": [],
   "source": [
    "# messages=assembly_message(sys_msg,user_msg,AI_msg)"
   ]
  },
  {
   "cell_type": "code",
   "execution_count": 147,
   "metadata": {},
   "outputs": [],
   "source": [
    "# rs = openai.ChatCompletion.create(messages=messages, **model_params)\n",
    "\n",
    "# Markdown(rs['choices'][0]['message'].content)"
   ]
  },
  {
   "cell_type": "code",
   "execution_count": 148,
   "metadata": {},
   "outputs": [],
   "source": [
    "# AI_msg.append(dict(rs['choices'][0]['message']))"
   ]
  },
  {
   "cell_type": "code",
   "execution_count": 149,
   "metadata": {},
   "outputs": [],
   "source": [
    "# rs['choices'][0]['message'].content"
   ]
  },
  {
   "cell_type": "code",
   "execution_count": 150,
   "metadata": {},
   "outputs": [],
   "source": [
    "kwargs_list.append(kwargs)"
   ]
  },
  {
   "cell_type": "markdown",
   "metadata": {},
   "source": [
    "## Define each term in Kinetic Hamiltonian (continuum version)"
   ]
  },
  {
   "cell_type": "code",
   "execution_count": 151,
   "metadata": {},
   "outputs": [],
   "source": [
    "# user_msg=[]\n",
    "# AI_msg=[]\n",
    "# sys_msg=[{'role': 'system', 'content': prompt_dict()['Preamble']}]\n",
    "# kwargs_list=[]"
   ]
  },
  {
   "cell_type": "code",
   "execution_count": 152,
   "metadata": {},
   "outputs": [],
   "source": [
    "kwargs = {\n",
    "    'task': 'Define each term in Kinetic Hamiltonian (continuum version)',\n",
    "    'var':r'the energy dispersion $E_{\\sigma,b}(k)$',\n",
    "    'Description':r'''For all energy dispersions, $E_{\\sigma,b}(k)$, it characterizes the dispersion for free holes, namely, $E_{\\sigma,b}(k)= -\\frac{\\hbar^2 (k+b)^2}{2 m^*}$.   ''',\n",
    "    'expression_kinetic': r'H_{Kinetic} = \\sum_{\\sigma,b,k} E_{\\sigma,b}(k) c_{\\sigma,b}^\\dagger(k) c_{\\sigma,b}(k)',\n",
    "    'kinetic_symbol': r'$H_{Kinetic}(k)$',\n",
    "    'def_var':r'''$m^*$ : effective mass  ''',\n",
    "'answer':r\"$H_{Kinetic} = -\\frac{\\hbar^2}{2 m^*} \\sum_{\\sigma,b,k} (k+b)^2 c_{\\sigma,b}^\\dagger(k) c_{\\sigma,b}(k)$\"\n",
    "}"
   ]
  },
  {
   "cell_type": "code",
   "execution_count": 153,
   "metadata": {},
   "outputs": [],
   "source": [
    "# print_save(generate_prompt(kwargs,prompt_dict=prompt_dict())['content'])"
   ]
  },
  {
   "cell_type": "code",
   "execution_count": 154,
   "metadata": {},
   "outputs": [],
   "source": [
    "# user_msg.append(generate_prompt(kwargs,prompt_dict=prompt_dict))"
   ]
  },
  {
   "cell_type": "code",
   "execution_count": 155,
   "metadata": {},
   "outputs": [],
   "source": [
    "# messages=assembly_message(sys_msg,user_msg,AI_msg)"
   ]
  },
  {
   "cell_type": "code",
   "execution_count": 156,
   "metadata": {},
   "outputs": [],
   "source": [
    "# rs = openai.ChatCompletion.create(messages=messages, **model_params)\n",
    "# Markdown(rs['choices'][0]['message'].content)"
   ]
  },
  {
   "cell_type": "code",
   "execution_count": 157,
   "metadata": {},
   "outputs": [],
   "source": [
    "# AI_msg.append(dict(rs['choices'][0]['message']))"
   ]
  },
  {
   "cell_type": "code",
   "execution_count": 158,
   "metadata": {},
   "outputs": [],
   "source": [
    "# rs['choices'][0]['message'].content"
   ]
  },
  {
   "cell_type": "code",
   "execution_count": 159,
   "metadata": {},
   "outputs": [],
   "source": [
    "kwargs_list.append(kwargs)"
   ]
  },
  {
   "cell_type": "markdown",
   "metadata": {},
   "source": [
    "## Construct Potential Hamiltonian (continuum version)"
   ]
  },
  {
   "cell_type": "code",
   "execution_count": 160,
   "metadata": {},
   "outputs": [],
   "source": [
    "# user_msg=[]\n",
    "# AI_msg=[]\n",
    "# sys_msg=[{'role': 'system', 'content': prompt_dict['Preamble']}]\n",
    "# kwargs_list=[]"
   ]
  },
  {
   "cell_type": "code",
   "execution_count": 161,
   "metadata": {},
   "outputs": [],
   "source": [
    "kwargs = {\n",
    "    'task':'Construct Potential Hamiltonian (continuum version)',\n",
    "    'potential_symbol':r'$H_{Potential}(k)$',\n",
    "    'real|momentum':'momentum',\n",
    "    'single-particle|second-quantized':'second-quantized',\n",
    "    'kinetic_symbol': r'$H_{Kinetic}(k)$',\n",
    "    'Description': '',\n",
    "    'var':\n",
    "    r\"$\\Delta_{\\sigma, b,b'}$ and $c_{\\sigma,b}(k)$, and $c_{\\sigma,b'}^\\dagger(k)$\",\n",
    "\n",
    "    'def_var': r'''  \n",
    "$H_{Potential}$: the potential term in the second quantized form''',\n",
    "    'answer':r\"$H_{Potential} = \\sum_{\\sigma,b,b',k} \\Delta_{\\sigma, b,b'} c_{\\sigma,b}^\\dagger(k) c_{\\sigma,b'}(k)$\"\n",
    "}\n"
   ]
  },
  {
   "cell_type": "code",
   "execution_count": 162,
   "metadata": {},
   "outputs": [],
   "source": [
    "# print_save(generate_prompt(kwargs,prompt_dict=prompt_dict())['content'])"
   ]
  },
  {
   "cell_type": "code",
   "execution_count": 163,
   "metadata": {},
   "outputs": [],
   "source": [
    "# user_msg.append(generate_prompt(kwargs,prompt_dict=prompt_dict))"
   ]
  },
  {
   "cell_type": "code",
   "execution_count": 164,
   "metadata": {},
   "outputs": [],
   "source": [
    "# messages=assembly_message(sys_msg,user_msg,AI_msg)"
   ]
  },
  {
   "cell_type": "code",
   "execution_count": 165,
   "metadata": {},
   "outputs": [],
   "source": [
    "# rs = openai.ChatCompletion.create(messages=messages, **model_params)\n",
    "\n",
    "# Markdown(rs['choices'][0]['message'].content)"
   ]
  },
  {
   "cell_type": "code",
   "execution_count": 166,
   "metadata": {},
   "outputs": [],
   "source": [
    "# AI_msg.append(dict(rs['choices'][0]['message']))"
   ]
  },
  {
   "cell_type": "code",
   "execution_count": 167,
   "metadata": {},
   "outputs": [],
   "source": [
    "# rs['choices'][0]['message'].content"
   ]
  },
  {
   "cell_type": "code",
   "execution_count": 168,
   "metadata": {},
   "outputs": [],
   "source": [
    "kwargs_list.append(kwargs)"
   ]
  },
  {
   "cell_type": "markdown",
   "metadata": {},
   "source": [
    "## Define each term in Potential Hamiltonian (continuum version)"
   ]
  },
  {
   "cell_type": "code",
   "execution_count": 169,
   "metadata": {},
   "outputs": [],
   "source": [
    "# user_msg=[]\n",
    "# AI_msg=[]\n",
    "# sys_msg=[{'role': 'system', 'content': prompt_dict['Preamble']}]\n",
    "# kwargs_list=[]"
   ]
  },
  {
   "cell_type": "code",
   "execution_count": 170,
   "metadata": {},
   "outputs": [],
   "source": [
    "kwargs = {\n",
    "    'task':\n",
    "    'Define each term in Potential Hamiltonian (continuum version)',\n",
    "    'potential_symbol':'$H_{Potential}(k)$',\n",
    "    'var':    r\"$\\Delta_{\\sigma, b,b'}$\",\n",
    "    'real|momentum':'real',\n",
    "    'single-particle|second-quantized':'single-particle',\n",
    "    'kinetic_symbol':    '$H_{Kinetic}(r)$',\n",
    "    'Description': r'''$\\Delta_{\\sigma, b,b'}=\\sum_{j=1}^6 V_j \\delta_{b_j,b-b'}$, where $V_j=V_Me^{(-1)^{j-1}i\\phi}$''',\n",
    "    'def_var': r'''$b_j$: first shell of moire reciprocal lattice vectors  \n",
    "$V_M$: characterizes moire modulation strength  \n",
    "$\\phi$: phase factor defines the moire modulation phase  \n",
    "$\\delta_{i,j}$ : Kronecker delta function, take the value of 1 if $i=j$, and 0 otherwise.''',\n",
    "    'expression_Potential': r\"H_{Potential} = \\sum_{\\sigma,b,b',k} \\Delta_{\\sigma, b,b'} c_{\\sigma,b}^\\dagger(k) c_{\\sigma,b'}(k)\",\n",
    "    'answer':r\"$H_{Potential} = \\sum_{\\sigma,b,b',k, j=1}^6 V_j \\delta_{b_j,b-b'} c_{\\sigma,b}^\\dagger(k) c_{\\sigma,b'}(k)$\"\n",
    "}\n"
   ]
  },
  {
   "cell_type": "code",
   "execution_count": 171,
   "metadata": {},
   "outputs": [],
   "source": [
    "# print_save(generate_prompt(kwargs,prompt_dict=prompt_dict())['content'])"
   ]
  },
  {
   "cell_type": "code",
   "execution_count": 172,
   "metadata": {},
   "outputs": [],
   "source": [
    "# user_msg.append(generate_prompt(kwargs,prompt_dict=prompt_dict))"
   ]
  },
  {
   "cell_type": "code",
   "execution_count": 173,
   "metadata": {},
   "outputs": [],
   "source": [
    "# messages=assembly_message(sys_msg,user_msg,AI_msg)"
   ]
  },
  {
   "cell_type": "code",
   "execution_count": 174,
   "metadata": {},
   "outputs": [],
   "source": [
    "# rs = openai.ChatCompletion.create(messages=messages, **model_params)\n",
    "\n",
    "# Markdown(rs['choices'][0]['message'].content)"
   ]
  },
  {
   "cell_type": "code",
   "execution_count": 175,
   "metadata": {},
   "outputs": [],
   "source": [
    "# AI_msg.append(dict(rs['choices'][0]['message']))"
   ]
  },
  {
   "cell_type": "code",
   "execution_count": 176,
   "metadata": {},
   "outputs": [],
   "source": [
    "# rs['choices'][0]['message'].content"
   ]
  },
  {
   "cell_type": "code",
   "execution_count": 177,
   "metadata": {},
   "outputs": [],
   "source": [
    "kwargs_list.append(kwargs)"
   ]
  },
  {
   "cell_type": "markdown",
   "metadata": {},
   "source": [
    "## Construct interaction Hamiltonian (momentum space)"
   ]
  },
  {
   "cell_type": "code",
   "execution_count": 178,
   "metadata": {},
   "outputs": [],
   "source": [
    "kwargs = {\n",
    "    'task':'Construct interaction Hamiltonian (momentum space)',\n",
    "    'second_int_symbol':  r'$\\hat{H}^{int}$',\n",
    "    'index': r'spin index $\\sigma_i$',\n",
    "    'momentum': r'momentum $k_i$ and moire reciprocal lattice vectors $b_i$',\n",
    "    'For each operator, the total momentum is the sum of moire reciprocal lattice $b_i$ and momentum with in the first BZ $k_i$|None': r'For each operator, the total momentum is the sum of moire reciprocal lattice $b_i$ and momentum with in the first BZ $k_i$',\n",
    "    'interaction': 'bare Coulomb interaction',\n",
    "    'int_form': r'$V(q)=2\\pi e^2/(\\epsilon |q|)$',\n",
    "    'normalization_factor': r'$\\frac{1}{2 N V}$',\n",
    "    'op': r'$c_{\\sigma,b}(k)$',\n",
    "    'def_var': r'''$\\epsilon$ : dielectric constant  \n",
    "$V(q)$ : bare Coulomb interaction in the momentum space''',\n",
    "    'answer':r'$\\hat{H}^{int} = \\frac{1}{2 N A} \\sum_{\\sigma_1, \\sigma_2, b_1, b_2, b_3, b_4, k_1, k_2, k_3, k_4} c_{\\sigma_1,b_1}^\\dagger(k_1) c_{\\sigma_2,b_2}^\\dagger(k_2) c_{\\sigma_2,b_3}(k_3) c_{\\sigma_1,b_4}(k_4) V(q) \\delta_{k_1+b_1+k_2+b_2,k_3+b_3+k_4+b_4}$'\n",
    "}\n"
   ]
  },
  {
   "cell_type": "code",
   "execution_count": 179,
   "metadata": {},
   "outputs": [],
   "source": [
    "# print_save(generate_prompt(kwargs,prompt_dict=prompt_dict())['content'])"
   ]
  },
  {
   "cell_type": "code",
   "execution_count": 180,
   "metadata": {},
   "outputs": [],
   "source": [
    "kwargs_list.append(kwargs)"
   ]
  },
  {
   "cell_type": "markdown",
   "metadata": {},
   "source": [
    "## Wick's theorem"
   ]
  },
  {
   "cell_type": "code",
   "execution_count": 181,
   "metadata": {},
   "outputs": [],
   "source": [
    "kwargs = {\n",
    "    'task':\"Wick's theorem\",\n",
    "    'second_int_symbol':  r'$\\hat{H}^{int}$',\n",
    "    'HF_symbol': r'$\\hat{H}^{int,HF}$',\n",
    "    'expression_int': r'$\\hat{H}^{int} = \\frac{1}{2 N A} \\sum_{\\sigma_1, \\sigma_2, b_1, b_2, b_3, b_4, k_1, k_2, k_3, k_4} c_{\\sigma_1,b_1}^\\dagger(k_1) c_{\\sigma_2,b_2}^\\dagger(k_2) c_{\\sigma_2,b_3}(k_3) c_{\\sigma_1,b_4}(k_4) V(q) \\delta_{k_1+b_1+k_2+b_2,k_3+b_3+k_4+b_4}$',\n",
    "    'def_var': r'''$\\langle c_{\\sigma_1,b_1}^\\dagger(k_1) c_{\\sigma_2,b_2}(k_2) \\rangle$ : expectation of $c_{\\sigma_1,b_1}^\\dagger(k_1) c_{\\sigma_2,b_2}(k_2)$ over the many-body ground states  \n",
    "$\\hat{H}^{int,HF}$ : Interaction term after Hartree-Fock approximation''',\n",
    "    'answer':r'$\\hat{H}^{int,HF} = \\frac{1}{2 N A} \\sum_{\\sigma_1, \\sigma_2, b_1, b_2, b_3, b_4, k_1, k_2, k_3, k_4} V(q) \\delta_{k_1+b_1+k_2+b_2,k_3+b_3+k_4+b_4} [\\langle c_{\\sigma_1,b_1}^\\dagger(k_1) c_{\\sigma_1,b_4}(k_4) \\rangle c_{\\sigma_2,b_2}^\\dagger(k_2) c_{\\sigma_2,b_3}(k_3)+ \\langle c_{\\sigma_2,b_2}^\\dagger(k_2) c_{\\sigma_2,b_3}(k_3) \\rangle c_{\\sigma_1,b_1}^\\dagger(k_1) c_{\\sigma_1,b_4}(k_4)- \\langle c_{\\sigma_1,b_1}^\\dagger(k_1) c_{\\sigma_1,b_4}(k_4) \\rangle \\langle c_{\\sigma_2,b_2}^\\dagger(k_2) c_{\\sigma_2,b_3}(k_3) \\rangle- \\langle c_{\\sigma_1,b_1}^\\dagger(k_1) c_{\\sigma_2,b_3}(k_3) \\rangle c_{\\sigma_2,b_2}^\\dagger(k_2) c_{\\sigma_1,b_4}(k_4)- \\langle c_{\\sigma_2,b_2}^\\dagger(k_2) c_{\\sigma_1,b_4}(k_4) \\rangle c_{\\sigma_1,b_1}^\\dagger(k_1) c_{\\sigma_2,b_3}(k_3)+ \\langle c_{\\sigma_1,b_1}^\\dagger(k_1) c_{\\sigma_2,b_3}(k_3) \\rangle \\langle c_{\\sigma_2,b_2}^\\dagger(k_2) c_{\\sigma_1,b_4}(k_4) \\rangle]$'\n",
    "}\n"
   ]
  },
  {
   "cell_type": "code",
   "execution_count": 182,
   "metadata": {},
   "outputs": [],
   "source": [
    "# print_save(generate_prompt(kwargs,prompt_dict=prompt_dict())['content'])"
   ]
  },
  {
   "cell_type": "code",
   "execution_count": 183,
   "metadata": {},
   "outputs": [],
   "source": [
    "kwargs_list.append(kwargs)"
   ]
  },
  {
   "cell_type": "markdown",
   "metadata": {},
   "source": [
    "## Extract quadratic term"
   ]
  },
  {
   "cell_type": "code",
   "execution_count": 184,
   "metadata": {},
   "outputs": [],
   "source": [
    "kwargs = {\n",
    "    'task':\"Extract quadratic term\",\n",
    "    'HF_symbol': r'$\\hat{H}^{int,HF}$',\n",
    "    'bilinear_op': r'$c^\\dagger c$',\n",
    "    'HF_2_symbol': r'$\\hat{H}^{int,HF,2}$',\n",
    "    'expression_HF': r'$\\hat{H}^{int,HF} = \\frac{1}{2 N A} \\sum_{\\sigma_1, \\sigma_2, b_1, b_2, b_3, b_4, k_1, k_2, k_3, k_4} V(q) \\delta_{k_1+b_1+k_2+b_2,k_3+b_3+k_4+b_4} [\\langle c_{\\sigma_1,b_1}^\\dagger(k_1) c_{\\sigma_1,b_4}(k_4) \\rangle c_{\\sigma_2,b_2}^\\dagger(k_2) c_{\\sigma_2,b_3}(k_3)+ \\langle c_{\\sigma_2,b_2}^\\dagger(k_2) c_{\\sigma_2,b_3}(k_3) \\rangle c_{\\sigma_1,b_1}^\\dagger(k_1) c_{\\sigma_1,b_4}(k_4)- \\langle c_{\\sigma_1,b_1}^\\dagger(k_1) c_{\\sigma_1,b_4}(k_4) \\rangle \\langle c_{\\sigma_2,b_2}^\\dagger(k_2) c_{\\sigma_2,b_3}(k_3) \\rangle- \\langle c_{\\sigma_1,b_1}^\\dagger(k_1) c_{\\sigma_2,b_3}(k_3) \\rangle c_{\\sigma_2,b_2}^\\dagger(k_2) c_{\\sigma_1,b_4}(k_4)- \\langle c_{\\sigma_2,b_2}^\\dagger(k_2) c_{\\sigma_1,b_4}(k_4) \\rangle c_{\\sigma_1,b_1}^\\dagger(k_1) c_{\\sigma_2,b_3}(k_3)+ \\langle c_{\\sigma_1,b_1}^\\dagger(k_1) c_{\\sigma_2,b_3}(k_3) \\rangle \\langle c_{\\sigma_2,b_2}^\\dagger(k_2) c_{\\sigma_1,b_4}(k_4) \\rangle]$',\n",
    "    'def_var': r'''$\\hat{H}^{int,HF,2}$ : the quadratic terms in $\\hat{H}^{int,HF}$''',\n",
    "    'answer':r'\\hat{H}^{int,HF,2} = \\frac{1}{2 N A} \\sum_{\\sigma_1, \\sigma_2, b_1, b_2, b_3, b_4, k_1, k_2, k_3, k_4} V(q) \\delta_{k_1+b_1+k_2+b_2,k_3+b_3+k_4+b_4} [\\langle c_{\\sigma_1,b_1}^\\dagger(k_1) c_{\\sigma_1,b_4}(k_4) \\rangle c_{\\sigma_2,b_2}^\\dagger(k_2) c_{\\sigma_2,b_3}(k_3) + \\langle c_{\\sigma_2,b_2}^\\dagger(k_2) c_{\\sigma_2,b_3}(k_3) \\rangle c_{\\sigma_1,b_1}^\\dagger(k_1) c_{\\sigma_1,b_4}(k_4) - \\langle c_{\\sigma_1,b_1}^\\dagger(k_1) c_{\\sigma_2,b_3}(k_3) \\rangle c_{\\sigma_2,b_2}^\\dagger(k_2) c_{\\sigma_1,b_4}(k_4) - \\langle c_{\\sigma_2,b_2}^\\dagger(k_2) c_{\\sigma_1,b_4}(k_4) \\rangle c_{\\sigma_1,b_1}^\\dagger(k_1) c_{\\sigma_2,b_3}(k_3)]'\n",
    "}\n"
   ]
  },
  {
   "cell_type": "code",
   "execution_count": 185,
   "metadata": {},
   "outputs": [],
   "source": [
    "# print_save(generate_prompt(kwargs,prompt_dict=prompt_dict())['content'])"
   ]
  },
  {
   "cell_type": "code",
   "execution_count": 186,
   "metadata": {},
   "outputs": [],
   "source": [
    "kwargs_list.append(kwargs)"
   ]
  },
  {
   "cell_type": "markdown",
   "metadata": {},
   "source": [
    "## Expand interaction"
   ]
  },
  {
   "cell_type": "code",
   "execution_count": 187,
   "metadata": {},
   "outputs": [],
   "source": [
    "kwargs = {\n",
    "    'task':\"Expand interaction\",\n",
    "    'HF_2_symbol': r'$\\hat{H}^{int,HF,2}$',\n",
    "    'momentum': r'$b_i$ and $k_i$',\n",
    "    'expression_HF_2': r'$\\hat{H}^{int,HF,2} = \\frac{1}{2 N A} \\sum_{\\sigma_1, \\sigma_2, b_1, b_2, b_3, b_4, k_1, k_2, k_3, k_4} V(q) \\delta_{k_1+b_1+k_2+b_2,k_3+b_3+k_4+b_4} [\\langle c_{\\sigma_1,b_1}^\\dagger(k_1) c_{\\sigma_1,b_4}(k_4) \\rangle c_{\\sigma_2,b_2}^\\dagger(k_2) c_{\\sigma_2,b_3}(k_3) + \\langle c_{\\sigma_2,b_2}^\\dagger(k_2) c_{\\sigma_2,b_3}(k_3) \\rangle c_{\\sigma_1,b_1}^\\dagger(k_1) c_{\\sigma_1,b_4}(k_4) - \\langle c_{\\sigma_1,b_1}^\\dagger(k_1) c_{\\sigma_2,b_3}(k_3) \\rangle c_{\\sigma_2,b_2}^\\dagger(k_2) c_{\\sigma_1,b_4}(k_4) - \\langle c_{\\sigma_2,b_2}^\\dagger(k_2) c_{\\sigma_1,b_4}(k_4) \\rangle c_{\\sigma_1,b_1}^\\dagger(k_1) c_{\\sigma_2,b_3}(k_3)]$',\n",
    "    'def_var': r'''$\\hat{H}^{int,HF,2}$ : the quadratic terms in $\\hat{H}^{int,HF}$''',\n",
    "    'answer':r'\\hat{H}^{int,HF,2} = \\frac{1}{2 N A} \\sum_{\\sigma_1, \\sigma_2, b_1, b_2, b_3, b_4, k_1, k_2, k_3, k_4} V(k_1+b_1-k_4-b_4) \\delta_{k_1+b_1+k_2+b_2,k_3+b_3+k_4+b_4} [\\langle c_{\\sigma_1,b_1}^\\dagger(k_1) c_{\\sigma_1,b_4}(k_4) \\rangle c_{\\sigma_2,b_2}^\\dagger(k_2) c_{\\sigma_2,b_3}(k_3) + \\langle c_{\\sigma_2,b_2}^\\dagger(k_2) c_{\\sigma_2,b_3}(k_3) \\rangle c_{\\sigma_1,b_1}^\\dagger(k_1) c_{\\sigma_1,b_4}(k_4) - \\langle c_{\\sigma_1,b_1}^\\dagger(k_1) c_{\\sigma_2,b_3}(k_3) \\rangle c_{\\sigma_2,b_2}^\\dagger(k_2) c_{\\sigma_1,b_4}(k_4) - \\langle c_{\\sigma_2,b_2}^\\dagger(k_2) c_{\\sigma_1,b_4}(k_4) \\rangle c_{\\sigma_1,b_1}^\\dagger(k_1) c_{\\sigma_2,b_3}(k_3)]'\n",
    "}\n"
   ]
  },
  {
   "cell_type": "code",
   "execution_count": 188,
   "metadata": {},
   "outputs": [],
   "source": [
    "# print_save(generate_prompt(kwargs,prompt_dict=prompt_dict())['content'])"
   ]
  },
  {
   "cell_type": "code",
   "execution_count": 189,
   "metadata": {},
   "outputs": [],
   "source": [
    "kwargs_list.append(kwargs)"
   ]
  },
  {
   "cell_type": "markdown",
   "metadata": {},
   "source": [
    "## Swap the index to combine Hartree and Fock terms"
   ]
  },
  {
   "cell_type": "code",
   "execution_count": 190,
   "metadata": {},
   "outputs": [],
   "source": [
    "kwargs = {\n",
    "    'task':\"Swap the index to combine Hartree and Fock terms\",\n",
    "    'HF_2_symbol': r'$\\hat{H}^{int,HF,2}$',\n",
    "    'expval': r'$\\langle c_{\\sigma_1,b_1}^\\dagger(k_1) c_{\\sigma_1,b_4}(k_4) \\rangle$',\n",
    "    'expression_Hartree_1':r'$\\langle c_{\\sigma_1,b_1}^\\dagger(k_1) c_{\\sigma_1,b_4}(k_4) \\rangle c_{\\sigma_2,b_2}^\\dagger(k_2) c_{\\sigma_2,b_3}(k_3)$',\n",
    "    'expression_Hartree_2':r'$\\langle c_{\\sigma_2,b_2}^\\dagger(k_2) c_{\\sigma_2,b_3}(k_3) \\rangle c_{\\sigma_1,b_1}^\\dagger(k_1) c_{\\sigma_1,b_4}(k_4)$',\n",
    "    'expression_HF_2':r'\\hat{H}^{int,HF,2} = \\frac{1}{2 N A} \\sum_{\\sigma_1, \\sigma_2, b_1, b_2, b_3, b_4, k_1, k_2, k_3, k_4} V(k_1+b_1-k_4-b_4) \\delta_{k_1+b_1+k_2+b_2,k_3+b_3+k_4+b_4} \\langle c_{\\sigma_1,b_1}^\\dagger(k_1) c_{\\sigma_1,b_4}(k_4) \\rangle c_{\\sigma_2,b_2}^\\dagger(k_2) c_{\\sigma_2,b_3}(k_3) + \\langle c_{\\sigma_2,b_2}^\\dagger(k_2) c_{\\sigma_2,b_3}(k_3) \\rangle c_{\\sigma_1,b_1}^\\dagger(k_1) c_{\\sigma_1,b_4}(k_4) - \\langle c_{\\sigma_1,b_1}^\\dagger(k_1) c_{\\sigma_2,b_3}(k_3) \\rangle c_{\\sigma_2,b_2}^\\dagger(k_2) c_{\\sigma_1,b_4}(k_4) - \\langle c_{\\sigma_2,b_2}^\\dagger(k_2) c_{\\sigma_1,b_4}(k_4) \\rangle c_{\\sigma_1,b_1}^\\dagger(k_1) c_{\\sigma_2,b_3}(k_3)',\n",
    "    'answer':r'$\\hat{H}^{int,HF,2} = \\frac{1}{N A} \\sum_{\\sigma_1, \\sigma_2, b_1, b_2, b_3, b_4, k_1, k_2, k_3, k_4} V(k_1+b_1-k_4-b_4) \\delta_{k_1+b_1+k_2+b_2,k_3+b_3+k_4+b_4} [\\langle c_{\\sigma_1,b_1}^\\dagger(k_1) c_{\\sigma_1,b_4}(k_4) \\rangle c_{\\sigma_2,b_2}^\\dagger(k_2) c_{\\sigma_2,b_3}(k_3) - \\langle c_{\\sigma_1,b_1}^\\dagger(k_1) c_{\\sigma_2,b_3}(k_3) \\rangle c_{\\sigma_2,b_2}^\\dagger(k_2) c_{\\sigma_1,b_4}(k_4)]$'\n",
    "}\n"
   ]
  },
  {
   "cell_type": "code",
   "execution_count": 191,
   "metadata": {},
   "outputs": [],
   "source": [
    "# print_save(generate_prompt(kwargs,prompt_dict=prompt_dict())['content'])"
   ]
  },
  {
   "cell_type": "code",
   "execution_count": 192,
   "metadata": {},
   "outputs": [],
   "source": [
    "kwargs_list.append(kwargs)"
   ]
  },
  {
   "cell_type": "markdown",
   "metadata": {},
   "source": [
    "## Reduce momentum in Hartree term (momentum in BZ + reciprocal lattice)"
   ]
  },
  {
   "cell_type": "code",
   "execution_count": 193,
   "metadata": {},
   "outputs": [],
   "source": [
    "kwargs = {\n",
    "    'task':\"Reduce momentum in Hartree term (momentum in BZ + reciprocal lattice)\",\n",
    "    'HF_2_symbol': r'$\\hat{H}^{int,HF,2}$',\n",
    "    'expval': r'$\\langle c_{\\sigma_i,b_i}^\\dagger(k_i) c_{\\sigma_j,b_j}(k_j) \\rangle$',\n",
    "    'expval_id':r'$\\langle c_{\\sigma_i,b_i}^\\dagger(k_i) c_{\\sigma_j,b_j}(k_j) \\rangle=\\langle c_{\\sigma_i,b_i}^\\dagger(k_i) c_{\\sigma_j,b_j}(k_j) \\rangle \\delta_{k_i,k_j}$',\n",
    "\n",
    "    'expression_Hartree':r'$\\hat{H}^{int,Hatree,2}= \\frac{1}{N A} \\sum_{\\sigma_1, \\sigma_2, b_1, b_2, b_3, b_4, k_1, k_2, k_3, k_4} V(k_1+b_1-k_4-b_4) \\delta_{k_1+b_1+k_2+b_2,k_3+b_3+k_4+b_4}\\langle c_{\\sigma_1,b_1}^\\dagger(k_1) c_{\\sigma_1,b_4}(k_4) \\rangle c_{\\sigma_2,b_2}^\\dagger(k_2) c_{\\sigma_2,b_3}(k_3)$',\n",
    "    'Hatree_2_symbol':r'$\\hat{H}^{int,Hatree,2}$',\n",
    "    'answer':r'$\\hat{H}^{int,Hartree,2}= \\frac{1}{N A} \\sum_{\\sigma_1, \\sigma_2, b_1, b_2, b_3, b_4, k_1, k_2} V(b_1-b_4) \\delta_{b_1+b_2,b_3+b_4}\\langle c_{\\sigma_1,b_1}^\\dagger(k_1) c_{\\sigma_1,b_4}(k_1) \\rangle c_{\\sigma_2,b_2}^\\dagger(k_2) c_{\\sigma_2,b_3}(k_2)$'\n",
    "}\n"
   ]
  },
  {
   "cell_type": "code",
   "execution_count": 194,
   "metadata": {},
   "outputs": [],
   "source": [
    "# print_save(generate_prompt(kwargs,prompt_dict=prompt_dict())['content'])"
   ]
  },
  {
   "cell_type": "code",
   "execution_count": 195,
   "metadata": {},
   "outputs": [],
   "source": [
    "kwargs_list.append(kwargs)"
   ]
  },
  {
   "cell_type": "markdown",
   "metadata": {},
   "source": [
    "## Reduce momentum in Fock term (momentum in BZ + reciprocal lattice)"
   ]
  },
  {
   "cell_type": "code",
   "execution_count": 196,
   "metadata": {},
   "outputs": [],
   "source": [
    "kwargs = {\n",
    "    'task':\"Reduce momentum in Fock term (momentum in BZ + reciprocal lattice)\",\n",
    "    'HF_2_symbol': r'$\\hat{H}^{int,HF,2}$',\n",
    "    'expval': r'$\\langle c_{\\sigma_i,b_i}^\\dagger(k_i) c_{\\sigma_j,b_j}(k_j) \\rangle$',\n",
    "    'expval_id':r'$\\langle c_{\\sigma_i,b_i}^\\dagger(k_i) c_{\\sigma_j,b_j}(k_j) \\rangle=\\langle c_{\\sigma_i,b_i}^\\dagger(k_i) c_{\\sigma_j,b_j}(k_j) \\rangle \\delta_{k_i,k_j}$',\n",
    "\n",
    "    'expression_Fock':r'$\\hat{H}^{int,Fock,2}= -\\frac{1}{N A} \\sum_{\\sigma_1, \\sigma_2, b_1, b_2, b_3, b_4, k_1, k_2, k_3, k_4} V(k_1+b_1-k_4-b_4) \\delta_{k_1+b_1+k_2+b_2,k_3+b_3+k_4+b_4} \\langle c_{\\sigma_1,b_1}^\\dagger(k_1) c_{\\sigma_2,b_3}(k_3) \\rangle c_{\\sigma_2,b_2}^\\dagger(k_2) c_{\\sigma_1,b_4}(k_4)$',\n",
    "    'Fock_2_symbol':r'$\\hat{H}^{int,Fock,2}$',\n",
    "    'answer':r'$\\hat{H}^{int,Fock,2}= -\\frac{1}{N A} \\sum_{\\sigma_1, \\sigma_2, b_1, b_2, b_3, b_4, k_1, k_2} V(k_1+b_1-k_2-b_4) \\delta_{b_1+b_2,b_3+b_4}\\langle c_{\\sigma_1,b_1}^\\dagger(k_1) c_{\\sigma_2,b_3}(k_1) \\rangle c_{\\sigma_2,b_2}^\\dagger(k_2) c_{\\sigma_1,b_4}(k_2)$'\n",
    "}\n"
   ]
  },
  {
   "cell_type": "code",
   "execution_count": 197,
   "metadata": {},
   "outputs": [],
   "source": [
    "# print_save(generate_prompt(kwargs,prompt_dict=prompt_dict())['content'])"
   ]
  },
  {
   "cell_type": "code",
   "execution_count": 198,
   "metadata": {},
   "outputs": [],
   "source": [
    "kwargs_list.append(kwargs)"
   ]
  },
  {
   "cell_type": "code",
   "execution_count": 199,
   "metadata": {},
   "outputs": [
    {
     "data": {
      "text/plain": [
       "11"
      ]
     },
     "execution_count": 199,
     "metadata": {},
     "output_type": "execute_result"
    }
   ],
   "source": [
    "len(kwargs_list)"
   ]
  },
  {
   "cell_type": "code",
   "execution_count": 200,
   "metadata": {},
   "outputs": [
    {
     "ename": "SyntaxError",
     "evalue": "invalid syntax (3659366440.py, line 1)",
     "output_type": "error",
     "traceback": [
      "\u001b[0;36m  File \u001b[0;32m\"/tmp/ipykernel_19150/3659366440.py\"\u001b[0;36m, line \u001b[0;32m1\u001b[0m\n\u001b[0;31m    --\u001b[0m\n\u001b[0m      ^\u001b[0m\n\u001b[0;31mSyntaxError\u001b[0m\u001b[0;31m:\u001b[0m invalid syntax\n"
     ]
    }
   ],
   "source": [
    "--"
   ]
  },
  {
   "cell_type": "markdown",
   "metadata": {},
   "source": [
    "## Save jsonl"
   ]
  },
  {
   "cell_type": "code",
   "execution_count": 201,
   "metadata": {},
   "outputs": [],
   "source": [
    "with open('2108.02159.jsonl', 'w') as f:\n",
    "    for dict_obj in kwargs_list:\n",
    "        f.write(json.dumps(dict_obj) + '\\n')"
   ]
  },
  {
   "cell_type": "markdown",
   "metadata": {},
   "source": [
    "# Draft"
   ]
  },
  {
   "cell_type": "code",
   "execution_count": null,
   "metadata": {},
   "outputs": [],
   "source": []
  }
 ],
 "metadata": {
  "kernelspec": {
   "display_name": "Python 3",
   "language": "python",
   "name": "python3"
  },
  "language_info": {
   "codemirror_mode": {
    "name": "ipython",
    "version": 3
   },
   "file_extension": ".py",
   "mimetype": "text/x-python",
   "name": "python",
   "nbconvert_exporter": "python",
   "pygments_lexer": "ipython3",
   "version": "3.8.11"
  },
  "orig_nbformat": 4
 },
 "nbformat": 4,
 "nbformat_minor": 2
}
