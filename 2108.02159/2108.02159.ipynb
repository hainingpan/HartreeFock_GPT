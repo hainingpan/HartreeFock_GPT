{
 "cells": [
  {
   "cell_type": "code",
   "execution_count": 1,
   "metadata": {},
   "outputs": [],
   "source": [
    "import openai\n",
    "import pandas as pd\n",
    "import json\n",
    "from IPython.display import Markdown\n",
    "import sys"
   ]
  },
  {
   "cell_type": "code",
   "execution_count": 2,
   "metadata": {},
   "outputs": [],
   "source": [
    "zz=openai.Model.list()"
   ]
  },
  {
   "cell_type": "code",
   "execution_count": 3,
   "metadata": {},
   "outputs": [
    {
     "data": {
      "text/plain": [
       "62"
      ]
     },
     "execution_count": 3,
     "metadata": {},
     "output_type": "execute_result"
    }
   ],
   "source": [
    "len(zz['data'])"
   ]
  },
  {
   "cell_type": "code",
   "execution_count": 4,
   "metadata": {},
   "outputs": [
    {
     "data": {
      "text/plain": [
       "['gpt-4-0613',\n",
       " 'gpt-4-0314',\n",
       " 'gpt-3.5-turbo-16k-0613',\n",
       " 'gpt-3.5-turbo-16k',\n",
       " 'gpt-3.5-turbo-0301',\n",
       " 'gpt-3.5-turbo-0613',\n",
       " 'gpt-3.5-turbo',\n",
       " 'gpt-4']"
      ]
     },
     "execution_count": 4,
     "metadata": {},
     "output_type": "execute_result"
    }
   ],
   "source": [
    "[zz['data'][idx]['id'] for idx in range(len(zz['data'])) if 'gpt' in zz['data'][idx]['id']]"
   ]
  },
  {
   "cell_type": "code",
   "execution_count": 5,
   "metadata": {},
   "outputs": [],
   "source": [
    "model_params = {\n",
    "    'model': \"gpt-4\",\n",
    "    'temperature': 0,\n",
    "}"
   ]
  },
  {
   "cell_type": "code",
   "execution_count": 6,
   "metadata": {},
   "outputs": [],
   "source": [
    "def print_save(string, file='../cmp2.md'):\n",
    "    print(string)\n",
    "    with open(file,'w') as f:\n",
    "        f.write(string)"
   ]
  },
  {
   "cell_type": "markdown",
   "metadata": {},
   "source": [
    "## Load `prompt_template.md`"
   ]
  },
  {
   "cell_type": "code",
   "execution_count": 7,
   "metadata": {},
   "outputs": [],
   "source": [
    "sys.path.append('..')\n",
    "from utils import *\n",
    "from functools import partial"
   ]
  },
  {
   "cell_type": "code",
   "execution_count": 8,
   "metadata": {},
   "outputs": [],
   "source": [
    "# prompt_dict=load_prompt_template('../prompt_template.md')\n",
    "prompt_dict = partial(load_prompt_template,file='../prompt_template.md')"
   ]
  },
  {
   "cell_type": "code",
   "execution_count": 9,
   "metadata": {},
   "outputs": [
    {
     "data": {
      "text/plain": [
       "dict_keys(['Preamble', 'Construct Kinetic Hamiltonian (continuum version)', 'Construct Kinetic Hamiltonian (lattice version)', 'Define each term in Kinetic Hamiltonian (continuum version)', 'Construct Potential Hamiltonian (continuum version)', 'Define each term in Potential Hamiltonian (continuum version)', 'Construct interaction Hamiltonian (real space, lattice version)', 'Construct interaction Hamiltonian (momentum space)', 'Convert from single-particle to second-quantized form, return in matrix', 'Convert from single-particle to second-quantized form, return in summation (expand the matrix)', 'Convert noninteracting Hamiltonian in real space to momentum space (continuum version)', 'Convert noninteracting Hamiltonian in real space to momentum space (lattice version)', 'Convert interacting Hamiltonian in real space to momentum space (lattice version)', 'Particle-hole transformation', 'Simplify the Hamiltonian in the particle-hole basis', \"Wick's theorem\", 'Extract quadratic term', 'Hartree term only', 'Fock term only', 'Expand interaction', 'Swap the index only', 'Swap the index to combine Hartree and Fock terms', 'Reduce momentum in Hartree term (momentum in BZ + reciprocal lattice)', 'Reduce momentum in Hartree term (momentum in BZ)', 'Reduce momentum in Fock term (momentum in BZ + reciprocal lattice)', 'Combine the Hartree and Fock term', 'Construct full Hamiltonian after HF', \"Mathematical simplify: Euler's formula\", 'Mathematical simplify: prosthaphaeresis', 'Mathematical simplify: Expand using Associative property', 'Mathematical simplify: Combine using Associative property', 'Mathematical simplify: reduce index'])"
      ]
     },
     "execution_count": 9,
     "metadata": {},
     "output_type": "execute_result"
    }
   ],
   "source": [
    "prompt_dict().keys()"
   ]
  },
  {
   "cell_type": "code",
   "execution_count": 11,
   "metadata": {},
   "outputs": [],
   "source": [
    "df=pd.DataFrame(list(prompt_dict().items()),columns=['Task','Prompt'])"
   ]
  },
  {
   "cell_type": "markdown",
   "metadata": {},
   "source": [
    "## Construct Kinetic Hamiltonian (continuum version)"
   ]
  },
  {
   "cell_type": "code",
   "execution_count": 242,
   "metadata": {},
   "outputs": [],
   "source": [
    "user_msg=[]\n",
    "AI_msg=[]\n",
    "sys_msg=[{'role': 'system', 'content': prompt_dict()['Preamble']}]\n",
    "kwargs_list=[]"
   ]
  },
  {
   "cell_type": "code",
   "execution_count": 16,
   "metadata": {},
   "outputs": [],
   "source": [
    "kwargs = {\n",
    "    'task': 'Construct Kinetic Hamiltonian (continuum version, second-quantized)',\n",
    "    'system': 'moire TMD',\n",
    "    'real|momentum': 'momentum',\n",
    "    'single-particle|second-quantized': 'second-quantized',\n",
    "    'dof': 'moire reciprocal lattice vectors $b$ (infinite set), spin index (spin up and spin down)',\n",
    "    'kinetic_symbol': r'$H_{Kinetic}(k)$',\n",
    "    'dispersion_symbol': r'$E_{\\sigma,b}(k)$',\n",
    "    'annihilation_op':r'$c_{\\sigma,b}(k)$',\n",
    "    'creation_op':r'$c_{\\sigma,b}^\\dagger(k)$',\n",
    "    'k|r': 'k',\n",
    "    'entire_space|first_Brillouin_zone': r'the first Brillouin zone (BZ)',\n",
    "    'def_var':\n",
    "    r'''$b$: moire reciprocal lattice vectors\n",
    "$k$: momentum within the first Brillouin zone\n",
    "$\\sigma$: spin index  \n",
    "$\\uparrow$: spin up  \n",
    "$\\downarrow$: spin down  \n",
    "$c_{\\sigma,b}(k)$ : annihilation operator with spin $\\sigma$ and moire reciprocal lattice vectors $b$  \n",
    "$c_{\\sigma,b}^\\dagger(k)$ : creation operator with spin $\\sigma$ and moire reciprocal lattice vectors $b$   \n",
    "$E_{\\sigma,b}(k)$: energy dispersion at spin $\\sigma$ and with moire reciprocal lattice vectors $b$.  \n",
    "$H_{Kinetic}$: the total Kinetic energy in the second quantized form''',\n",
    "    'answer':    '$H_{Kinetic}(r) = \\\\begin{pmatrix} E_{+K,b} & 0 & 0 & 0 \\\\\\\\ 0 & E_{+K,t} & 0 & 0 \\\\\\\\ 0 & 0 & E_{-K,b} & 0 \\\\\\\\ 0 & 0 & 0 & E_{-K,t} \\\\end{pmatrix}$'\n",
    "}\n"
   ]
  },
  {
   "cell_type": "code",
   "execution_count": 17,
   "metadata": {},
   "outputs": [
    {
     "name": "stdout",
     "output_type": "stream",
     "text": [
      "You will be instructed to describe the kinetic term of Hamiltonian in moire TMD in the momentum space in the second-quantized form.   \n",
      "The degrees of freedom of the system are: moire reciprocal lattice vectors $b$ (infinite set), spin index (spin up and spin down).  \n",
      "Express the Kinetic Hamiltonian $H_{Kinetic}(k)$ using $E_{\\sigma,b}(k)$, $c_{\\sigma,b}(k)$, and $c_{\\sigma,b}^\\dagger(k)$, where the summation of $k$ should be running over the the first Brillouin zone (BZ).\n",
      "\n",
      "Use the following conventions for the symbols:  \n",
      "$b$: moire reciprocal lattice vectors\n",
      "$k$: momentum within the first Brillouin zone\n",
      "$\\sigma$: spin index  \n",
      "$\\uparrow$: spin up  \n",
      "$\\downarrow$: spin down  \n",
      "$c_{\\sigma,b}(k)$ : annihilation operator with spin $\\sigma$ and moire reciprocal lattice vectors $b$  \n",
      "$c_{\\sigma,b}^\\dagger(k)$ : creation operator with spin $\\sigma$ and moire reciprocal lattice vectors $b$   \n",
      "$E_{\\sigma,b}(k)$: energy dispersion at spin $\\sigma$ and with moire reciprocal lattice vectors $b$.  \n",
      "$H_{Kinetic}$: the total Kinetic energy in the second quantized form\n"
     ]
    }
   ],
   "source": [
    "print_save(generate_prompt(kwargs,prompt_dict=prompt_dict())['content'])"
   ]
  },
  {
   "cell_type": "code",
   "execution_count": 245,
   "metadata": {},
   "outputs": [],
   "source": [
    "# user_msg.append(generate_prompt(kwargs,prompt_dict=prompt_dict))"
   ]
  },
  {
   "cell_type": "code",
   "execution_count": 246,
   "metadata": {},
   "outputs": [],
   "source": [
    "# messages=assembly_message(sys_msg,user_msg,AI_msg)"
   ]
  },
  {
   "cell_type": "code",
   "execution_count": 247,
   "metadata": {},
   "outputs": [],
   "source": [
    "# rs = openai.ChatCompletion.create(messages=messages, **model_params)\n",
    "\n",
    "# Markdown(rs['choices'][0]['message'].content)"
   ]
  },
  {
   "cell_type": "code",
   "execution_count": 248,
   "metadata": {},
   "outputs": [],
   "source": [
    "# AI_msg.append(dict(rs['choices'][0]['message']))"
   ]
  },
  {
   "cell_type": "code",
   "execution_count": 249,
   "metadata": {},
   "outputs": [],
   "source": [
    "# rs['choices'][0]['message'].content"
   ]
  },
  {
   "cell_type": "code",
   "execution_count": 250,
   "metadata": {},
   "outputs": [],
   "source": [
    "kwargs_list.append(kwargs)"
   ]
  },
  {
   "cell_type": "markdown",
   "metadata": {},
   "source": [
    "## Define each term in Kinetic Hamiltonian (continuum version)"
   ]
  },
  {
   "cell_type": "code",
   "execution_count": 251,
   "metadata": {},
   "outputs": [],
   "source": [
    "# user_msg=[]\n",
    "# AI_msg=[]\n",
    "# sys_msg=[{'role': 'system', 'content': prompt_dict()['Preamble']}]\n",
    "# kwargs_list=[]"
   ]
  },
  {
   "cell_type": "code",
   "execution_count": 28,
   "metadata": {},
   "outputs": [],
   "source": [
    "kwargs = {\n",
    "    'task': 'Define each term in Kinetic Hamiltonian (continuum version)',\n",
    "    'var':r'the energy dispersion $E_{\\sigma,b}(k)$',\n",
    "    'Description':r'''For all energy dispersions, $E_{\\sigma,b}(k)$, it characterizes the dispersion for free holes, namely, $E_{\\sigma,b}(k)= -\\frac{\\hbar^2 (k+b)^2}{2 m^*}$.   ''',\n",
    "    'expression_kinetic': r'H_{Kinetic} = \\sum_{\\sigma,b,k} E_{\\sigma,b}(k) c_{\\sigma,b}^\\dagger(k) c_{\\sigma,b}(k)',\n",
    "    'kinetic_symbol': r'$H_{Kinetic}(k)$',\n",
    "    'def_var':r'''$m^*$ : effective mass  ''',\n",
    "'answer':'.'\n",
    "}"
   ]
  },
  {
   "cell_type": "code",
   "execution_count": 29,
   "metadata": {},
   "outputs": [
    {
     "name": "stdout",
     "output_type": "stream",
     "text": [
      "You will be instructed to construct each term, namely the energy dispersion $E_{\\sigma,b}(k)$.  \n",
      "For all energy dispersions, $E_{\\sigma,b}(k)$, it characterizes the dispersion for free holes, namely, $E_{\\sigma,b}(k)= -\\frac{\\hbar^2 (k+b)^2}{2 m^*}$.   \n",
      "You should recall that H_{Kinetic} = \\sum_{\\sigma,b,k} E_{\\sigma,b}(k) c_{\\sigma,b}^\\dagger(k) c_{\\sigma,b}(k).   \n",
      "Return the expression for the energy dispersion $E_{\\sigma,b}(k)$ in the Kinetic Hamiltonian, and substitute it into the Kinetic Hamiltonian $H_{Kinetic}(k)$.  \n",
      "\n",
      "Use the following conventions for the symbols (You should also obey the conventions in all my previous prompts if you encounter undefined symbols. If you find it is never defined or has conflicts in the conventions, you should stop and let me know):  \n",
      "$m^*$ : effective mass\n"
     ]
    }
   ],
   "source": [
    "print_save(generate_prompt(kwargs,prompt_dict=prompt_dict())['content'])"
   ]
  },
  {
   "cell_type": "code",
   "execution_count": 254,
   "metadata": {},
   "outputs": [],
   "source": [
    "# user_msg.append(generate_prompt(kwargs,prompt_dict=prompt_dict))"
   ]
  },
  {
   "cell_type": "code",
   "execution_count": 255,
   "metadata": {},
   "outputs": [],
   "source": [
    "# messages=assembly_message(sys_msg,user_msg,AI_msg)"
   ]
  },
  {
   "cell_type": "code",
   "execution_count": 256,
   "metadata": {},
   "outputs": [],
   "source": [
    "# rs = openai.ChatCompletion.create(messages=messages, **model_params)\n",
    "# Markdown(rs['choices'][0]['message'].content)"
   ]
  },
  {
   "cell_type": "code",
   "execution_count": 257,
   "metadata": {},
   "outputs": [],
   "source": [
    "# AI_msg.append(dict(rs['choices'][0]['message']))"
   ]
  },
  {
   "cell_type": "code",
   "execution_count": 258,
   "metadata": {},
   "outputs": [],
   "source": [
    "# rs['choices'][0]['message'].content"
   ]
  },
  {
   "cell_type": "code",
   "execution_count": 259,
   "metadata": {},
   "outputs": [],
   "source": [
    "kwargs_list.append(kwargs)"
   ]
  },
  {
   "cell_type": "markdown",
   "metadata": {},
   "source": [
    "## Construct Potential Hamiltonian (continuum version)"
   ]
  },
  {
   "cell_type": "code",
   "execution_count": 260,
   "metadata": {},
   "outputs": [],
   "source": [
    "# user_msg=[]\n",
    "# AI_msg=[]\n",
    "# sys_msg=[{'role': 'system', 'content': prompt_dict['Preamble']}]\n",
    "# kwargs_list=[]"
   ]
  },
  {
   "cell_type": "code",
   "execution_count": 24,
   "metadata": {},
   "outputs": [],
   "source": [
    "kwargs = {\n",
    "    'task':'Construct Potential Hamiltonian (continuum version)',\n",
    "    'potential_symbol':r'$H_{Potential}(k)$',\n",
    "    'real|momentum':'momentum',\n",
    "    'single-particle|second-quantized':'second-quantized',\n",
    "    'kinetic_symbol': r'$H_{Kinetic}(k)$',\n",
    "    'Description': '',\n",
    "    'var':\n",
    "    r\"$\\Delta_{\\sigma, b,b'}$ and $c_{\\sigma,b}(k)$, and $c_{\\sigma,b'}^\\dagger(k)$\",\n",
    "\n",
    "    'def_var': r'''  \n",
    "$H_{Potential}$: the potential term in the second quantized form''',\n",
    "    'answer':'..'\n",
    "}\n"
   ]
  },
  {
   "cell_type": "code",
   "execution_count": 25,
   "metadata": {},
   "outputs": [
    {
     "name": "stdout",
     "output_type": "stream",
     "text": [
      "You will be instructed to describe the potential term of Hamiltonian $H_{Potential}(k)$ in the momentum space in the second-quantized form.  \n",
      "The potential Hamiltonian has the same degrees of freedom as the kinetic Hamiltonian $H_{Kinetic}(k)$.  \n",
      ".  \n",
      "Express the potential Hamiltonian $H_{Potential}(k)$ using $\\Delta_{\\sigma, b,b'}$ and $c_{\\sigma,b}(k)$, and $c_{\\sigma,b'}^\\dagger(k)$.  \n",
      "\n",
      "Use the following conventions for the symbols (You should also remember the conventions in my previous prompts if there are no conflicts. If you have conflicts in the conventions, you should stop and let me know):  \n",
      "  \n",
      "$H_{Potential}$: the potential term in the second quantized form\n"
     ]
    }
   ],
   "source": [
    "print_save(generate_prompt(kwargs,prompt_dict=prompt_dict())['content'])"
   ]
  },
  {
   "cell_type": "code",
   "execution_count": 263,
   "metadata": {},
   "outputs": [],
   "source": [
    "# user_msg.append(generate_prompt(kwargs,prompt_dict=prompt_dict))"
   ]
  },
  {
   "cell_type": "code",
   "execution_count": 264,
   "metadata": {},
   "outputs": [],
   "source": [
    "# messages=assembly_message(sys_msg,user_msg,AI_msg)"
   ]
  },
  {
   "cell_type": "code",
   "execution_count": 265,
   "metadata": {},
   "outputs": [],
   "source": [
    "# rs = openai.ChatCompletion.create(messages=messages, **model_params)\n",
    "\n",
    "# Markdown(rs['choices'][0]['message'].content)"
   ]
  },
  {
   "cell_type": "code",
   "execution_count": 266,
   "metadata": {},
   "outputs": [],
   "source": [
    "# AI_msg.append(dict(rs['choices'][0]['message']))"
   ]
  },
  {
   "cell_type": "code",
   "execution_count": 267,
   "metadata": {},
   "outputs": [],
   "source": [
    "# rs['choices'][0]['message'].content"
   ]
  },
  {
   "cell_type": "code",
   "execution_count": 268,
   "metadata": {},
   "outputs": [],
   "source": [
    "kwargs_list.append(kwargs)"
   ]
  },
  {
   "cell_type": "markdown",
   "metadata": {},
   "source": [
    "## Define each term in Potential Hamiltonian (continuum version)"
   ]
  },
  {
   "cell_type": "code",
   "execution_count": 269,
   "metadata": {},
   "outputs": [],
   "source": [
    "# user_msg=[]\n",
    "# AI_msg=[]\n",
    "# sys_msg=[{'role': 'system', 'content': prompt_dict['Preamble']}]\n",
    "# kwargs_list=[]"
   ]
  },
  {
   "cell_type": "code",
   "execution_count": 33,
   "metadata": {},
   "outputs": [],
   "source": [
    "kwargs = {\n",
    "    'task':\n",
    "    'Define each term in Potential Hamiltonian (continuum version)',\n",
    "    'potential_symbol':'$H_{Potential}(k)$',\n",
    "    'var':    r\"$\\Delta_{\\sigma, b,b'}$\",\n",
    "    'real|momentum':'real',\n",
    "    'single-particle|second-quantized':'single-particle',\n",
    "    'kinetic_symbol':    '$H_{Kinetic}(r)$',\n",
    "    'Description': r'''$\\Delta_{\\sigma, b,b'}=\\sum_{j=1}^6 V_j \\delta_{b_j,b-b'}$, where $V_j=V_Me^{(-1)^{j-1}i\\phi}$''',\n",
    "    'def_var': r'''$b_j$: first shell of moire reciprocal lattice vectors  \n",
    "$V_M$: characterizes moire modulation strength  \n",
    "$\\phi$: phase factor defines the moire modulation phase  \n",
    "$\\delta_{i,j}$ : Kronecker delta function, take the value of 1 if $i=j$, and 0 otherwise.''',\n",
    "    'expression_Potential': r\"H_{Potential} = \\sum_{\\sigma,b,b',k} \\Delta_{\\sigma, b,b'} c_{\\sigma,b}^\\dagger(k) c_{\\sigma,b'}(k)\",\n",
    "    'answer':''\n",
    "}\n"
   ]
  },
  {
   "cell_type": "code",
   "execution_count": 34,
   "metadata": {},
   "outputs": [
    {
     "name": "stdout",
     "output_type": "stream",
     "text": [
      "You will be instructed to construct each term $H_{Potential}(k)$, namely, $\\Delta_{\\sigma, b,b'}$.  \n",
      "$\\Delta_{\\sigma, b,b'}=\\sum_{j=1}^6 V_j \\delta_{b_j,b-b'}$, where $V_j=V_Me^{(-1)^{j-1}i\\phi}$\n",
      "You should recall that H_{Potential} = \\sum_{\\sigma,b,b',k} \\Delta_{\\sigma, b,b'} c_{\\sigma,b}^\\dagger(k) c_{\\sigma,b'}(k).  \n",
      "Return the expressions for $\\Delta_{\\sigma, b,b'}$, and substitute it into the potential Hamiltonian $H_{Potential}(k)$.  \n",
      "\n",
      "Use the following conventions for the symbols (You should also obey the conventions in all my previous prompts if you encounter undefined symbols. If you find it is never defined or have conflicts in the conventions, you should stop and let me know):  \n",
      "$b_j$: first shell of moire reciprocal lattice vectors  \n",
      "$V_M$: characterizes moire modulation strength  \n",
      "$\\phi$: phase factor defines the moire modulation phase  \n",
      "$\\delta_{i,j}$ : Kronecker delta function, take the value of 1 if $i=j$, and 0 otherwise.\n"
     ]
    }
   ],
   "source": [
    "print_save(generate_prompt(kwargs,prompt_dict=prompt_dict())['content'])"
   ]
  },
  {
   "cell_type": "code",
   "execution_count": 272,
   "metadata": {},
   "outputs": [],
   "source": [
    "# user_msg.append(generate_prompt(kwargs,prompt_dict=prompt_dict))"
   ]
  },
  {
   "cell_type": "code",
   "execution_count": 273,
   "metadata": {},
   "outputs": [],
   "source": [
    "# messages=assembly_message(sys_msg,user_msg,AI_msg)"
   ]
  },
  {
   "cell_type": "code",
   "execution_count": 274,
   "metadata": {},
   "outputs": [],
   "source": [
    "# rs = openai.ChatCompletion.create(messages=messages, **model_params)\n",
    "\n",
    "# Markdown(rs['choices'][0]['message'].content)"
   ]
  },
  {
   "cell_type": "code",
   "execution_count": 275,
   "metadata": {},
   "outputs": [],
   "source": [
    "# AI_msg.append(dict(rs['choices'][0]['message']))"
   ]
  },
  {
   "cell_type": "code",
   "execution_count": 276,
   "metadata": {},
   "outputs": [],
   "source": [
    "# rs['choices'][0]['message'].content"
   ]
  },
  {
   "cell_type": "code",
   "execution_count": 277,
   "metadata": {},
   "outputs": [],
   "source": [
    "kwargs_list.append(kwargs)"
   ]
  },
  {
   "cell_type": "markdown",
   "metadata": {},
   "source": [
    "## Convert from single-particle to second-quantized form, return in matrix"
   ]
  },
  {
   "cell_type": "code",
   "execution_count": 278,
   "metadata": {},
   "outputs": [],
   "source": [
    "kwargs = {\n",
    "    'task':'Convert from single-particle to second-quantized form, return in matrix',\n",
    "    'real|momentum':'real',\n",
    "    'nonint_symbol': r'$H^{0}(r)$',\n",
    "    'potential_symbol':'$H_{Potential}(r)$',\n",
    "    'kinetic_symbol':'$H_{Kinetic}(r)$',\n",
    "    '$r$|$k$': '$r$',\n",
    "    'second_nonint_symbol': r'$\\hat{H}^{0}$',\n",
    "    'def_var': r'''$\\psi_{\\tau,l}(r)$ : electron annihilation operator at valley index $\\tau$ and layer index $l$  \n",
    "$\\vec{\\psi}(r)$ : spinor containing all annihilation operators $\\psi_{\\tau,l}(r)$ following the same order of $H^{0}(r)$  \n",
    "$H^{0}(r)$ : single-particle noninteracting Hamiltonian in the real space  \n",
    "$\\hat{H}^{0}$ : total noninteracting Hamiltonian in the second quantized form ''',\n",
    "    'answer':r'$\\hat{H}^{0} = \\int dr \\vec{\\psi}^\\dagger(r) H^{0}(r) \\vec{\\psi}(r)$'\n",
    "}\n"
   ]
  },
  {
   "cell_type": "code",
   "execution_count": 279,
   "metadata": {},
   "outputs": [],
   "source": [
    "# print_save(generate_prompt(kwargs,prompt_dict=prompt_dict())['content'])"
   ]
  },
  {
   "cell_type": "code",
   "execution_count": 280,
   "metadata": {},
   "outputs": [],
   "source": [
    "# user_msg.append(generate_prompt(kwargs,prompt_dict=prompt_dict))"
   ]
  },
  {
   "cell_type": "code",
   "execution_count": 281,
   "metadata": {},
   "outputs": [],
   "source": [
    "# messages=assembly_message(sys_msg,user_msg,AI_msg)"
   ]
  },
  {
   "cell_type": "code",
   "execution_count": 282,
   "metadata": {},
   "outputs": [],
   "source": [
    "# rs = openai.ChatCompletion.create(messages=messages, **model_params)\n",
    "\n",
    "# Markdown(rs['choices'][0]['message'].content)"
   ]
  },
  {
   "cell_type": "code",
   "execution_count": 283,
   "metadata": {},
   "outputs": [],
   "source": [
    "# AI_msg.append(dict(rs['choices'][0]['message']))"
   ]
  },
  {
   "cell_type": "code",
   "execution_count": 284,
   "metadata": {},
   "outputs": [],
   "source": [
    "# rs['choices'][0]['message'].content"
   ]
  },
  {
   "cell_type": "code",
   "execution_count": 285,
   "metadata": {},
   "outputs": [],
   "source": [
    "kwargs_list.append(kwargs)"
   ]
  },
  {
   "cell_type": "markdown",
   "metadata": {},
   "source": [
    "## Convert from single-particle to second-quantized form, return in summation (expand the matrix)"
   ]
  },
  {
   "cell_type": "code",
   "execution_count": 286,
   "metadata": {},
   "outputs": [],
   "source": [
    "kwargs = {\n",
    "    'task':'Convert from single-particle to second-quantized form, return in summation (expand the matrix)',\n",
    "    'second_nonint_symbol':  r'$\\hat{H}^{0}$',\n",
    "    'matrix_element_symbol': r'$H^{0}_{\\tau_1,l_1,\\tau_2,l_2}(r)$',\n",
    "    'basis_symbol': r'$\\psi_{\\tau,l}(r)$',\n",
    "    'expression_second_nonint': r'$\\hat{H}^{0} = \\int dr \\vec{\\psi}^\\dagger(r) H^{0}(r) \\vec{\\psi}(r)$, where $H^{0}(r)=H_{Kinetic}(r)+H_{Potential}(r)$, $H_{Kinetic}(r) = \\begin{pmatrix} -\\frac{\\hbar^2 k^2}{2 m_b} & 0 & 0 & 0 \\\\ 0 & -\\frac{\\hbar^2 (k-\\kappa)^2}{2 m_t} & 0 & 0 \\\\ 0 & 0 & -\\frac{\\hbar^2 k^2}{2 m_b} & 0 \\\\ 0 & 0 & 0 & -\\frac{\\hbar^2 (k+\\kappa)^2}{2 m_t} \\end{pmatrix}$, and $H_{Potential}(r) = \\begin{pmatrix} 2V_b\\sum_{j=1,3,5} \\cos(g_j \\cdot r  +\\psi_b) & w(1+\\omega e^{i g_2 \\cdot r} + \\omega^2 e^{i g_3 \\cdot r}) & 0 & 0 \\\\ w(1+\\omega^{-1}e^{-i g_2 \\cdot r} + \\omega^{-2} e^{-i g_3 \\cdot r}) & V_{zt} & 0 & 0 \\\\ 0 & 0 & 2V_b\\sum_{j=1,3,5} \\cos(g_j \\cdot r  +\\psi_b) & -w(1+\\omega^{-1}e^{-i g_2 \\cdot r} + \\omega^{-2} e^{-i g_3 \\cdot r}) \\\\ 0 & 0 & -w(1+\\omega e^{i g_2 \\cdot r} + \\omega^2 e^{i g_3 \\cdot r}) & V_{zt} \\end{pmatrix}$',\n",
    "    'def_var': r'''$H^{0}_{\\tau_1,l_1,\\tau_2,l_2}(r)$ : the matrix element of single-particle noninteracting Hamiltonian in the real space  ''',\n",
    "    'answer':r'$\\hat{H}^{0} = \\int dr \\sum_{l_1, l_2} \\left( \\psi_{+K,l_1}^\\dagger(r) H^{0}_{+K,l_1,+K,l_2}(r) \\psi_{+K,l_2}(r) + \\psi_{-K,l_1}^\\dagger(r) H^{0}_{-K,l_1,-K,l_2}(r) \\psi_{-K,l_2}(r) \\right)$'\n",
    "}\n"
   ]
  },
  {
   "cell_type": "code",
   "execution_count": 287,
   "metadata": {},
   "outputs": [],
   "source": [
    "# print_save(generate_prompt(kwargs,prompt_dict=prompt_dict())['content'])"
   ]
  },
  {
   "cell_type": "code",
   "execution_count": 288,
   "metadata": {},
   "outputs": [],
   "source": [
    "kwargs_list.append(kwargs)"
   ]
  },
  {
   "cell_type": "markdown",
   "metadata": {},
   "source": [
    "## Convert noninteracting Hamiltonian in real space to momentum space (continuum version)"
   ]
  },
  {
   "cell_type": "code",
   "execution_count": 289,
   "metadata": {},
   "outputs": [],
   "source": [
    "kwargs = {\n",
    "    'task':'Convert noninteracting Hamiltonian in real space to momentum space (continuum version)',\n",
    "    'real_creation_op': r'$\\psi_{\\tau,l}^\\dagger(r)$',\n",
    "    'momentum_creation_op': r'$c_{\\tau,l}^\\dagger(k)$',\n",
    "    'def_FT': r'$c_{\\tau,l}^\\dagger(k)= \\frac{1}{\\sqrt{V}} \\int dr \\psi_{\\tau,l}^\\dagger(r) e^{i k \\cdot r}$',\n",
    "    'real_var': '$r$',\n",
    "    'entire_real|fBZ': 'entire real space',\n",
    "    'second_nonint_symbol':  r'$\\hat{H}^{0}$',\n",
    "    'def_var': r'''$c_{l,\\tau}(k)$ : electron annihilation operator at momentum $k$, layer $l$, and valley $\\tau$  \n",
    "$c_{l,\\tau}^\\dagger(k)$ : electron creation operator at momentum $k$, layer $l$, and valley $\\tau$  \n",
    "$V$ : area of unit cell in the real space  ''',\n",
    "    'answer':r'$\\hat{H}^{0} = \\sum_{\\tau, l_1, l_2, k_1, k_2} c_{\\tau,l_1}^\\dagger(k_1) H^{0}_{\\tau,l_1,\\tau,l_2}(k_1,k_2) c_{\\tau,l_2}(k_2)$'\n",
    "}\n"
   ]
  },
  {
   "cell_type": "code",
   "execution_count": 290,
   "metadata": {},
   "outputs": [],
   "source": [
    "# print_save(generate_prompt(kwargs,prompt_dict=prompt_dict())['content'])"
   ]
  },
  {
   "cell_type": "code",
   "execution_count": 291,
   "metadata": {},
   "outputs": [],
   "source": [
    "kwargs_list.append(kwargs)"
   ]
  },
  {
   "cell_type": "markdown",
   "metadata": {},
   "source": [
    "## Particle-hole transformation"
   ]
  },
  {
   "cell_type": "code",
   "execution_count": 292,
   "metadata": {},
   "outputs": [],
   "source": [
    "kwargs = {\n",
    "    'task':'Particle-hole transformation',\n",
    "    'hole_op': r'$b_{l,\\tau}(k)$',\n",
    "    'particle_op': r'$c_{l,\\tau}^\\dagger(k)$',\n",
    "    'particle_creation_op': r'$c_{l,\\tau}$',\n",
    "    'hole_creation_op': r'$b_{l,\\tau}(k)^\\dagger$',\n",
    "    'particle_annihilation_op': r'$c_{l,\\tau}^\\dagger$',\n",
    "    'hole_annihilation_op': r'$b_{l,\\tau}(k)$',\n",
    "    'second_nonint_symbol':  r'$\\hat{H}^{0}$',\n",
    "    'def_var': r'''$b_{l,\\tau}(k)$ : hole annihilation operator at momentum $k$, layer $l$, and valley $\\tau$''',\n",
    "    'expression_particle_Ham' :r'$\\hat{H}^{0} = \\sum_{\\tau, l_1, l_2, k_1, k_2} c_{\\tau,l_1}^\\dagger(k_1) H^{0}_{\\tau,l_1,\\tau,l_2}(k_1,k_2) c_{\\tau,l_2}(k_2)$',\n",
    "    'answer':r'$\\hat{H}^{0} = \\sum_{\\tau, l_1, l_2, k_1, k_2} b_{\\tau, l_1}(k_1) H^{0}_{\\tau, l_1, \\tau, l_2}(k_1, k_2) b_{\\tau, l_2}^\\dagger(k_2)$'\n",
    "}\n"
   ]
  },
  {
   "cell_type": "code",
   "execution_count": 293,
   "metadata": {},
   "outputs": [],
   "source": [
    "# print_save(generate_prompt(kwargs,prompt_dict=prompt_dict())['content'])"
   ]
  },
  {
   "cell_type": "code",
   "execution_count": 294,
   "metadata": {},
   "outputs": [],
   "source": [
    "kwargs_list.append(kwargs)"
   ]
  },
  {
   "cell_type": "markdown",
   "metadata": {},
   "source": [
    "## Simplify the Hamiltonian in the particle-hole basis"
   ]
  },
  {
   "cell_type": "code",
   "execution_count": 295,
   "metadata": {},
   "outputs": [],
   "source": [
    "kwargs = {\n",
    "    'task':'Simplify the Hamiltonian in the particle-hole basis',\n",
    "    'second_nonint_symbol':  r'$\\hat{H}^{0}$',\n",
    "    'hole_op': r'$b_{l,\\tau}(k)$',\n",
    "    'index_1': r'$l_1$/$k_1$',\n",
    "    'index_2': r'$l_2$/$k_2$',\n",
    "    'op': r'$b$',\n",
    "    'Ham_op': r'$H$',\n",
    "    'def_var': r'''$\\delta_{i,j}$ : Kronecker delta function, take the value of 1 if $i=j$, and 0 otherwise.  \n",
    "$`[b_i, b_j]_{+}`$ : anticommuting relation, i.e., $`[b_i, b_j]_+= b_i b_j +b_j b_i`$  \n",
    "$\\hat{H}^{0,final}$ : the final version of noninteracting Hamiltonian $\\hat{H}^{0}$ in the hole basis after simplification.''',\n",
    "    'expression_hole_Ham': r'$\\hat{H}^{0} = \\sum_{\\tau, l_1, l_2, k_1, k_2} b_{\\tau, l_1}(k_1) H^{0}_{\\tau, l_1, \\tau, l_2}(k_1, k_2) b_{\\tau, l_2}^\\dagger(k_2)$',\n",
    "    'answer':r'$\\hat{H}^{0} = \\sum_{\\tau, l_1, k_1} H^{0}_{\\tau, l_1, \\tau, l_1}(k_1, k_1) - \\sum_{\\tau, l_1, l_2, k_1, k_2} b_{\\tau, l_1}^\\dagger(k_1) (H^{0}_{\\tau, l_1, \\tau, l_2}(k_1, k_2))^* b_{\\tau, l_2}(k_2)$'\n",
    "}\n"
   ]
  },
  {
   "cell_type": "code",
   "execution_count": 296,
   "metadata": {},
   "outputs": [],
   "source": [
    "# print_save(generate_prompt(kwargs,prompt_dict=prompt_dict())['content'])"
   ]
  },
  {
   "cell_type": "code",
   "execution_count": 297,
   "metadata": {},
   "outputs": [],
   "source": [
    "kwargs_list.append(kwargs)"
   ]
  },
  {
   "cell_type": "markdown",
   "metadata": {},
   "source": [
    "## Construct interaction Hamiltonian (momentum space)"
   ]
  },
  {
   "cell_type": "code",
   "execution_count": 298,
   "metadata": {},
   "outputs": [],
   "source": [
    "kwargs = {\n",
    "    'task':'Construct interaction Hamiltonian (momentum space)',\n",
    "    'second_int_symbol':  r'$\\hat{H}^{int}$',\n",
    "    'index': r'valley index $\\tau_i$ and layer index $l_i$',\n",
    "    'momentum': r'momentum $k_i$',\n",
    "    'For each operator, the total momentum is the sum of moire reciprocal lattice $b_i$ and momentum with in the first BZ $k_i$|None': '',\n",
    "    'interaction': r'the dual-gate-screened Coulomb interaction',\n",
    "    'int_form': r'$2\\pi e^2\\tanh(|q| d)/(\\epsilon |q|)$',\n",
    "    'normalization_factor': r'$\\frac{1}{2 V}$',\n",
    "    'op': r'$b_{l,\\tau}(k)$',\n",
    "    'def_var': r'''$d$ : distance between dual gates  \n",
    "$\\epsilon$ : dielectric constant  \n",
    "$V(q)$ : dual-gate-screened Coulomb interaction in the momentum space''',\n",
    "    'answer':r'$\\hat{H}^{int} = \\frac{1}{2V}\\sum_{\\tau_1,\\tau_2,l_1,l_2,k_1,k_2,k_3,k_4} b_{l_1,\\tau_1}^\\dagger(k_1)b_{l_2,\\tau_2}^\\dagger(k_2)b_{l_2,\\tau_2}(k_3)b_{l_1,\\tau_1}(k_4) V(|k_1-k_4|)\\delta_{k_1+k_2,k_3+k_4}$'\n",
    "}\n"
   ]
  },
  {
   "cell_type": "code",
   "execution_count": 299,
   "metadata": {},
   "outputs": [],
   "source": [
    "# print_save(generate_prompt(kwargs,prompt_dict=prompt_dict())['content'])"
   ]
  },
  {
   "cell_type": "code",
   "execution_count": 300,
   "metadata": {},
   "outputs": [],
   "source": [
    "kwargs_list.append(kwargs)"
   ]
  },
  {
   "cell_type": "markdown",
   "metadata": {},
   "source": [
    "## Wick's theorem"
   ]
  },
  {
   "cell_type": "code",
   "execution_count": 301,
   "metadata": {},
   "outputs": [],
   "source": [
    "kwargs = {\n",
    "    'task':\"Wick's theorem\",\n",
    "    'second_int_symbol':  r'$\\hat{H}^{int}$',\n",
    "    'HF_symbol': r'$\\hat{H}^{int,HF}$',\n",
    "    'expression_int': r'$\\hat{H}^{int} = \\frac{1}{2V}\\sum_{\\tau_1,\\tau_2,l_1,l_2,k_1,k_2,k_3,k_4} b_{l_1,\\tau_1}^\\dagger(k_1)b_{l_2,\\tau_2}^\\dagger(k_2)b_{l_2,\\tau_2}(k_3)b_{l_1,\\tau_1}(k_4) V(|k_1-k_4|)\\delta_{k_1+k_2,k_3+k_4}$',\n",
    "    'def_var': r'''$\\langle b_{l_1,\\tau_1}^\\dagger(k_1) b_{l_2,\\tau_2}(k_2) \\rangle$ : expectation of $b_{l_1,\\tau_1}^\\dagger(k_1) b_{l_2,\\tau_2}(k_2)$ over the many-body ground states.  \n",
    "$\\hat{H}^{int,HF}$ : Interaction term after Hartree-Fock approximation''',\n",
    "    'answer':r'$\\hat{H}^{int,HF}=\\frac{1}{2V}\\sum_{\\tau_1,\\tau_2,l_1,l_2,k_1,k_2,k_3,k_4} \\left[\\langle b_{l_1,\\tau_1}^\\dagger(k_1) b_{l_1,\\tau_1}(k_4) \\rangle b_{l_2,\\tau_2}^\\dagger(k_2) b_{l_2,\\tau_2}(k_3) + \\langle b_{l_2,\\tau_2}^\\dagger(k_2) b_{l_2,\\tau_2}(k_3) \\rangle b_{l_1,\\tau_1}^\\dagger(k_1) b_{l_1,\\tau_1}(k_4)-\\langle b_{l_1,\\tau_1}^\\dagger(k_1) b_{l_1,\\tau_1}(k_4) \\rangle \\langle b_{l_2,\\tau_2}^\\dagger(k_2) b_{l_2,\\tau_2}(k_3) \\rangle - \\langle b_{l_1,\\tau_1}^\\dagger(k_1) b_{l_2,\\tau_2}(k_3) \\rangle b_{l_2,\\tau_2}^\\dagger(k_2) b_{l_1,\\tau_1}(k_4) - \\langle b_{l_2,\\tau_2}^\\dagger(k_2) b_{l_1,\\tau_1}(k_4) \\rangle b_{l_1,\\tau_1}^\\dagger(k_1) b_{l_2,\\tau_2}(k_3) + \\langle b_{l_1,\\tau_1}^\\dagger(k_1) b_{l_2,\\tau_2}(k_3) \\rangle \\langle b_{l_2,\\tau_2}^\\dagger(k_2) b_{l_1,\\tau_1}(k_4) \\rangle\\right] V(|k_1-k_4|)\\delta_{k_1+k_2,k_3+k_4}$'\n",
    "}\n"
   ]
  },
  {
   "cell_type": "code",
   "execution_count": 302,
   "metadata": {},
   "outputs": [],
   "source": [
    "# print_save(generate_prompt(kwargs,prompt_dict=prompt_dict())['content'])"
   ]
  },
  {
   "cell_type": "code",
   "execution_count": 303,
   "metadata": {},
   "outputs": [],
   "source": [
    "kwargs_list.append(kwargs)"
   ]
  },
  {
   "cell_type": "markdown",
   "metadata": {},
   "source": [
    "## Extract quadratic term"
   ]
  },
  {
   "cell_type": "code",
   "execution_count": 304,
   "metadata": {},
   "outputs": [],
   "source": [
    "kwargs = {\n",
    "    'task':\"Extract quadratic term\",\n",
    "    'HF_symbol': r'$\\hat{H}^{int,HF}$',\n",
    "    'bilinear_op': r'$b^\\dagger b$',\n",
    "    'HF_2_symbol': r'$\\hat{H}^{int,HF,2}$',\n",
    "    'expression_HF': r'$\\hat{H}^{int,HF}=\\frac{1}{2V}\\sum_{\\tau_1,\\tau_2,l_1,l_2,k_1,k_2,k_3,k_4} \\left[\\langle b_{l_1,\\tau_1}^\\dagger(k_1) b_{l_1,\\tau_1}(k_4) \\rangle b_{l_2,\\tau_2}^\\dagger(k_2) b_{l_2,\\tau_2}(k_3) + \\langle b_{l_2,\\tau_2}^\\dagger(k_2) b_{l_2,\\tau_2}(k_3) \\rangle b_{l_1,\\tau_1}^\\dagger(k_1) b_{l_1,\\tau_1}(k_4)-\\langle b_{l_1,\\tau_1}^\\dagger(k_1) b_{l_1,\\tau_1}(k_4) \\rangle \\langle b_{l_2,\\tau_2}^\\dagger(k_2) b_{l_2,\\tau_2}(k_3) \\rangle - \\langle b_{l_1,\\tau_1}^\\dagger(k_1) b_{l_2,\\tau_2}(k_3) \\rangle b_{l_2,\\tau_2}^\\dagger(k_2) b_{l_1,\\tau_1}(k_4) - \\langle b_{l_2,\\tau_2}^\\dagger(k_2) b_{l_1,\\tau_1}(k_4) \\rangle b_{l_1,\\tau_1}^\\dagger(k_1) b_{l_2,\\tau_2}(k_3) + \\langle b_{l_1,\\tau_1}^\\dagger(k_1) b_{l_2,\\tau_2}(k_3) \\rangle \\langle b_{l_2,\\tau_2}^\\dagger(k_2) b_{l_1,\\tau_1}(k_4) \\rangle\\right] V(|k_1-k_4|)\\delta_{k_1+k_2,k_3+k_4}$',\n",
    "    'def_var': r'''$\\hat{H}^{int,HF,2}$ : the quadratic terms in $\\hat{H}^{int,HF}$''',\n",
    "    'answer':r'$\\hat{H}^{int,HF,2}=\\frac{1}{2V}\\sum_{\\tau_1,\\tau_2,l_1,l_2,k_1,k_2,k_3,k_4} \\left[\\langle b_{l_1,\\tau_1}^\\dagger(k_1) b_{l_1,\\tau_1}(k_4) \\rangle b_{l_2,\\tau_2}^\\dagger(k_2) b_{l_2,\\tau_2}(k_3) + \\langle b_{l_2,\\tau_2}^\\dagger(k_2) b_{l_2,\\tau_2}(k_3) \\rangle b_{l_1,\\tau_1}^\\dagger(k_1) b_{l_1,\\tau_1}(k_4) - \\langle b_{l_1,\\tau_1}^\\dagger(k_1) b_{l_2,\\tau_2}(k_3) \\rangle b_{l_2,\\tau_2}^\\dagger(k_2) b_{l_1,\\tau_1}(k_4) - \\langle b_{l_2,\\tau_2}^\\dagger(k_2) b_{l_1,\\tau_1}(k_4) \\rangle b_{l_1,\\tau_1}^\\dagger(k_1) b_{l_2,\\tau_2}(k_3)\\right] V(|k_1-k_4|)\\delta_{k_1+k_2,k_3+k_4}$'\n",
    "}\n"
   ]
  },
  {
   "cell_type": "code",
   "execution_count": 305,
   "metadata": {},
   "outputs": [],
   "source": [
    "# print_save(generate_prompt(kwargs,prompt_dict=prompt_dict())['content'])"
   ]
  },
  {
   "cell_type": "code",
   "execution_count": 306,
   "metadata": {},
   "outputs": [],
   "source": [
    "kwargs_list.append(kwargs)"
   ]
  },
  {
   "cell_type": "markdown",
   "metadata": {},
   "source": [
    "## Swap the index to combine Hartree and Fock terms"
   ]
  },
  {
   "cell_type": "code",
   "execution_count": 307,
   "metadata": {},
   "outputs": [],
   "source": [
    "kwargs = {\n",
    "    'task':\"Swap the index to combine Hartree and Fock terms\",\n",
    "    'HF_2_symbol': r'$\\hat{H}^{int,HF,2}$',\n",
    "    'expval': r'$\\langle b_{\\tau_1,l_1}^\\dagger(k_1) b_{\\tau_1,l_1}(k_4) \\rangle$',\n",
    "    'expression_Hartree_1':r'$\\langle b_{\\tau_1,l_1}^\\dagger(k_1) b_{\\tau_1,l_1}(k_4) \\rangle b_{\\tau_2,l_2}^\\dagger(k_2) b_{\\tau_2,l_2}(k_3)$',\n",
    "    'expression_Hartree_2':r'$\\langle b_{\\tau_2,l_2}^\\dagger(k_2) b_{\\tau_2,l_2}(k_3) \\rangle b_{\\tau_1,l_1}^\\dagger(k_1) b_{\\tau_1,l_1}(k_4)$',\n",
    "    'expression_HF_2':r'$\\hat{H}^{int,HF,2}=\\frac{1}{2V}\\sum_{\\tau_1,\\tau_2,l_1,l_2,k_1,k_2,k_3,k_4} \\left[\\langle b_{l_1,\\tau_1}^\\dagger(k_1) b_{l_1,\\tau_1}(k_4) \\rangle b_{l_2,\\tau_2}^\\dagger(k_2) b_{l_2,\\tau_2}(k_3) + \\langle b_{l_2,\\tau_2}^\\dagger(k_2) b_{l_2,\\tau_2}(k_3) \\rangle b_{l_1,\\tau_1}^\\dagger(k_1) b_{l_1,\\tau_1}(k_4) - \\langle b_{l_1,\\tau_1}^\\dagger(k_1) b_{l_2,\\tau_2}(k_3) \\rangle b_{l_2,\\tau_2}^\\dagger(k_2) b_{l_1,\\tau_1}(k_4) - \\langle b_{l_2,\\tau_2}^\\dagger(k_2) b_{l_1,\\tau_1}(k_4) \\rangle b_{l_1,\\tau_1}^\\dagger(k_1) b_{l_2,\\tau_2}(k_3)\\right] V(|k_1-k_4|)\\delta_{k_1+k_2,k_3+k_4}$',\n",
    "    'answer':r'$\\hat{H}^{int,HF,2}=\\frac{1}{V}\\sum_{\\tau_1,\\tau_2,l_1,l_2,k_1,k_2,k_3,k_4} \\left[\\langle b_{l_1,\\tau_1}^\\dagger(k_1) b_{l_1,\\tau_1}(k_4) \\rangle b_{l_2,\\tau_2}^\\dagger(k_2) b_{l_2,\\tau_2}(k_3) - \\langle b_{l_1,\\tau_1}^\\dagger(k_1) b_{l_2,\\tau_2}(k_3) \\rangle b_{l_2,\\tau_2}^\\dagger(k_2) b_{l_1,\\tau_1}(k_4)\\right] V(|k_1-k_4|)\\delta_{k_1+k_2,k_3+k_4}$'\n",
    "}\n"
   ]
  },
  {
   "cell_type": "code",
   "execution_count": 308,
   "metadata": {},
   "outputs": [],
   "source": [
    "# print_save(generate_prompt(kwargs,prompt_dict=prompt_dict())['content'])"
   ]
  },
  {
   "cell_type": "code",
   "execution_count": 309,
   "metadata": {},
   "outputs": [],
   "source": [
    "kwargs_list.append(kwargs)"
   ]
  },
  {
   "cell_type": "code",
   "execution_count": 310,
   "metadata": {},
   "outputs": [
    {
     "data": {
      "text/plain": [
       "13"
      ]
     },
     "execution_count": 310,
     "metadata": {},
     "output_type": "execute_result"
    }
   ],
   "source": [
    "len(kwargs_list)"
   ]
  },
  {
   "cell_type": "code",
   "execution_count": 425,
   "metadata": {},
   "outputs": [
    {
     "ename": "SyntaxError",
     "evalue": "invalid syntax (3659366440.py, line 1)",
     "output_type": "error",
     "traceback": [
      "\u001b[0;36m  File \u001b[0;32m\"/tmp/ipykernel_12179/3659366440.py\"\u001b[0;36m, line \u001b[0;32m1\u001b[0m\n\u001b[0;31m    --\u001b[0m\n\u001b[0m      ^\u001b[0m\n\u001b[0;31mSyntaxError\u001b[0m\u001b[0;31m:\u001b[0m invalid syntax\n"
     ]
    }
   ],
   "source": [
    "--"
   ]
  },
  {
   "cell_type": "markdown",
   "metadata": {},
   "source": [
    "## Save jsonl"
   ]
  },
  {
   "cell_type": "code",
   "execution_count": 311,
   "metadata": {},
   "outputs": [],
   "source": [
    "with open('2111.01152.jsonl', 'w') as f:\n",
    "    for dict_obj in kwargs_list:\n",
    "        f.write(json.dumps(dict_obj) + '\\n')"
   ]
  },
  {
   "cell_type": "markdown",
   "metadata": {},
   "source": [
    "# Draft"
   ]
  },
  {
   "cell_type": "code",
   "execution_count": null,
   "metadata": {},
   "outputs": [],
   "source": []
  }
 ],
 "metadata": {
  "kernelspec": {
   "display_name": "Python 3",
   "language": "python",
   "name": "python3"
  },
  "language_info": {
   "codemirror_mode": {
    "name": "ipython",
    "version": 3
   },
   "file_extension": ".py",
   "mimetype": "text/x-python",
   "name": "python",
   "nbconvert_exporter": "python",
   "pygments_lexer": "ipython3",
   "version": "3.8.11"
  },
  "orig_nbformat": 4
 },
 "nbformat": 4,
 "nbformat_minor": 2
}
