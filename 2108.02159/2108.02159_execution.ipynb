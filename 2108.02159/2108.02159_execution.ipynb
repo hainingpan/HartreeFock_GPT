{
 "cells": [
  {
   "cell_type": "code",
   "execution_count": 18,
   "metadata": {},
   "outputs": [],
   "source": [
    "from IPython.display import Markdown\n",
    "\n",
    "import sys\n",
    "sys.path.append('..')\n",
    "from utils import *"
   ]
  },
  {
   "cell_type": "code",
   "execution_count": 105,
   "metadata": {},
   "outputs": [],
   "source": [
    "prompt_template='../prompt_template.md'\n",
    "arxiv_number='2108.02159'\n",
    "prompt_dict=load_prompt_template(prompt_template)\n",
    "with open(f'{arxiv_number}.yaml','r') as f:\n",
    "    kwargs= yaml.safe_load(f)"
   ]
  },
  {
   "cell_type": "code",
   "execution_count": 106,
   "metadata": {},
   "outputs": [],
   "source": [
    "prompt=generate_prompt(kwargs[5],prompt_dict)"
   ]
  },
  {
   "cell_type": "code",
   "execution_count": 107,
   "metadata": {},
   "outputs": [
    {
     "data": {
      "text/markdown": [
       "You will be instructed to construct the interaction part of the Hamiltonian $\\hat{H}^{int}$ in the momentum space.  \n",
       "The interaction Hamiltonian is a product of four parts.\n",
       "The first part is the product of four operators with two creation and two annihilation operators following the normal order, namely, creation operators are before annihilation operators. You should follow the order of $1,2,2,1$ for the spin index, and $1,2,3,4$ for the momentum. \n",
       "The second part is the constraint of total momentum conservation, namely the total momentum of all creation operators should be the same as that of all annihilation operators. For each operator, the total momentum is the sum of moire reciprocal lattice $b_i$ and momentum with in the first BZ $k_i$  \n",
       "The third part is the interaction form. You should use the bare Coulomb interaction with $V(q)=2\\pi e^2/(\\epsilon |q|)$, where $q$ is the transferred total momentum between a creation operator and an annihilation operator with the same spin index, namely $q=k_1-k_4$.  \n",
       "The fourth part is the normalization factor, you should use $\\frac{1}{2 N V}$ here.\n",
       "Finally, the summation should be running over all spin index, and momentum\n",
       "Return the interaction term $\\hat{H}^{int}$ in terms of $c_{\\sigma,b}(k)$ and $V(q)$ (with $q$ expressed in terms of momentum).  \n",
       "\n",
       "Use the following conventions for the symbols (You should also obey the conventions in all my previous prompts if you encounter undefined symbols. If you find it is never defined or has conflicts in the conventions, you should stop and let me know):  \n",
       "$\\epsilon$ : dielectric constant  \n",
       "$V(q)$ : bare Coulomb interaction in the momentum space"
      ],
      "text/plain": [
       "<IPython.core.display.Markdown object>"
      ]
     },
     "execution_count": 107,
     "metadata": {},
     "output_type": "execute_result"
    }
   ],
   "source": [
    "Markdown(prompt['content'])"
   ]
  },
  {
   "cell_type": "code",
   "execution_count": 31,
   "metadata": {},
   "outputs": [
    {
     "name": "stdout",
     "output_type": "stream",
     "text": [
      "You will be instructed to describe the potential term of Hamiltonian ${H_{0}}$ in the momentum space in the single-particle form.  \n",
      "The potential Hamiltonian has the same degrees of freedom as the kinetic Hamiltonian The diagonal terms are $\\Delta_{\\sigma, b,b}$.  \n",
      "The off-diagonal terms are the coupling between $b$ and $b'$, $\\Delta_{\\sigma, b,b'}$, which should be kept hermitian.  \n",
      "All others terms are zero.\n",
      "Express the potential Hamiltonian ${H_{0}}$ using $\\Delta_{\\sigma, b,b}$ and $\\Delta_{\\sigma, b,b'}$.  \n",
      "\n",
      "Use the following conventions for the symbols (You should also obey the conventions in all my previous prompts if you encounter undefined symbols. If you find it is never defined or has conflicts in the conventions, you should stop and let me know):  \n",
      "H_{0} is the single-particle Hamiltonian of the moir\\'e continuum model, T is the single-particle kinetic energy operator for electrons with effective mass m^*, \\Delta(\\mathbf{r}) is the moir\\'e potential, V_j = V_M\\exp\\left[(-1)^{j-1}i\\phi\\right] where V_M characterizes the moir\\'e modulation strength and \\phi its shape, \\bm{k} is in the first moir\\'e Brillouin zone and the \\bm{b}'s are moir\\'e reciprocal lattice vectors.\n"
     ]
    }
   ],
   "source": [
    "print(prompt['content'])"
   ]
  },
  {
   "cell_type": "code",
   "execution_count": null,
   "metadata": {},
   "outputs": [],
   "source": []
  }
 ],
 "metadata": {
  "kernelspec": {
   "display_name": "base",
   "language": "python",
   "name": "python3"
  },
  "language_info": {
   "codemirror_mode": {
    "name": "ipython",
    "version": 3
   },
   "file_extension": ".py",
   "mimetype": "text/x-python",
   "name": "python",
   "nbconvert_exporter": "python",
   "pygments_lexer": "ipython3",
   "version": "3.11.4"
  }
 },
 "nbformat": 4,
 "nbformat_minor": 2
}
