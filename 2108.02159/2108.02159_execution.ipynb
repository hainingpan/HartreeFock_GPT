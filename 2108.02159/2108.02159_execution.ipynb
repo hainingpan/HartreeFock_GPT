{
 "cells": [
  {
   "cell_type": "code",
   "execution_count": 1,
   "metadata": {},
   "outputs": [],
   "source": [
    "from IPython.display import Markdown\n",
    "\n",
    "import sys\n",
    "sys.path.append('..')\n",
    "from utils import *"
   ]
  },
  {
   "cell_type": "code",
   "execution_count": 50,
   "metadata": {},
   "outputs": [],
   "source": [
    "prompt_template='../prompt_template.md'\n",
    "arxiv_number='2108.02159'\n",
    "prompt_dict=load_prompt_template(prompt_template)\n",
    "with open(f'{arxiv_number}.yaml','r') as f:\n",
    "    kwargs= yaml.safe_load(f)"
   ]
  },
  {
   "cell_type": "code",
   "execution_count": 51,
   "metadata": {},
   "outputs": [],
   "source": [
    "prompt=generate_prompt(kwargs[11],prompt_dict)"
   ]
  },
  {
   "cell_type": "code",
   "execution_count": 53,
   "metadata": {},
   "outputs": [
    {
     "data": {
      "text/markdown": [
       "You will be instructed to simplify the Fock term in $\\Sigma^{HF}_{\\alpha,\\bm{b};\\beta,\\bm{b}'}(\\bm{k})$ by reducing the momentum inside the expected value $\\langle c_{\\sigma_i,b_i}^\\dagger(k_i) c_{\\sigma_j,b_j}(k_j) \\rangle$.  \n",
       "The expected value $\\langle c_{\\sigma_i,b_i}^\\dagger(k_i) c_{\\sigma_j,b_j}(k_j) \\rangle$ is only nonzero when the two momenta $k_i,k_j$ are the same, namely, $\\langle c_{\\sigma_i,b_i}^\\dagger(k_i) c_{\\sigma_j,b_j}(k_j) \\rangle=\\langle c_{\\sigma_i,b_i}^\\dagger(k_i) c_{\\sigma_j,b_j}(k_j) \\rangle \\delta_{k_i,k_j}$.  \n",
       "You should use the property of Kronecker delta function $\\delta_{k_i,k_j}$ to reduce one momentum $k_i$ but not $b_i$.  \n",
       "Once you reduce one momentum inside the expected value $\\langle\\dots\\rangle$. You will also notice the total momentum conservation will reduce another momentum in the quadratic term. Therefore, you should end up with only two momenta left in the summation.\n",
       "You should follow the EXAMPLE below to reduce one momentum in the Fock term, and another momentum in the quadratic term.    \n",
       "You should recall that $\\hat{H}^{int,Fock,2}= -\\frac{1}{N A} \\sum_{\\sigma_1, \\sigma_2, b_1, b_2, b_3, b_4, k_1, k_2, k_3, k_4} V(k_1+b_1-k_4-b_4) \\delta_{k_1+b_1+k_2+b_2,k_3+b_3+k_4+b_4} \\langle c_{\\sigma_1,b_1}^\\dagger(k_1) c_{\\sigma_2,b_3}(k_3) \\rangle c_{\\sigma_2,b_2}^\\dagger(k_2) c_{\\sigma_1,b_4}(k_4)$.  \n",
       "Return the final simplified Fock term $\\Sigma^{HF}_{\\alpha,\\bm{b};\\beta,\\bm{b}'}(\\bm{k})$.\n",
       "\n",
       "===  \n",
       "EXAMPLE:  \n",
       "Given a Hamiltonian where the Fock term $\\hat{H}^{Fock}=-\\sum_{k_1,k_2, k_3, k_4,b_1,b_2,b_3,b_4} V(k_1-k_4+b_1-b_4) \\langle c_{b_1}^\\dagger(k_1) c_{b_3}(k_3) \\rangle c_{b_2}^\\dagger(k_2) c_{b_4}(k_4)  \\delta_{k_1+k_2+b_1+b_2,k_3+k_4+b_3+b_4}$, where $k_i$ is the momentum inside first Brilloun zone and $b_i$ is the reciprocal lattice.   \n",
       "Inside the expected value, we realize $\\langle c_{b_1}^\\dagger(k_1) c_{b_3}(k_3) \\rangle$ is nonzero only when $k_1=k_3$, i.e., $\\langle c_{b_1}^\\dagger(k_1) c_{b_3}(k_3) \\rangle=\\langle c_{b_1}^\\dagger(k_1) c_{b_3}(k_3) \\rangle\\delta_{k_1,k_3}$.    \n",
       "Thus, the Fock term becomes $-\\sum_{k_1,k_2, k_3, k_4,b_1,b_2,b_3,b_4} V(k_1-k_4+b_1-b_4) \\langle c_{b_1}^\\dagger(k_1) c_{b_3}(k_3) \\rangle \\delta_{k_1,k_3} c_{b_2}^\\dagger(k_2) c_{b_4}(k_4) \\delta_{k_1+k_2+b_1+b_2,k_3+k_4+b_3+b_4}$.  \n",
       "Use the property of Kronecker delta function $\\delta_{k_1,k_3}$ to sum over $k_3$, we have $-\\sum_{k_1,k_2, k_4,b_1,b_2,b_3,b_4} V(k_1-k_4+b_1-b_4) \\langle c_{b_1}^\\dagger(k_1) c_{b_3}(k_1) \\rangle c_{b_2}^\\dagger(k_2) c_{b_4}(k_4) \\delta_{k_1+k_2+b_1+b_2,k_1+k_4+b_3+b_4}=-\\sum_{k_1,k_2, k_4,b_1,b_2,b_3,b_4} V(k_1-k_4+b_1-b_4) \\langle c_{b_1}^\\dagger(k_1) c_{b_3}(k_1) \\rangle c_{b_2}^\\dagger(k_2) c_{b_4}(k_4) \\delta_{k_2+b_1+b_2,k_4+b_3+b_4}$.  \n",
       "Because $k_i$ is momentum inside first Brilloun zone while $b_i$ is the reciprocal lattice. It is only when $k_2=k_4$ that $\\delta_{k_2+b_1+b_2,k_4+b_3+b_4}$ is nonzero, i.e., $\\delta_{k_2+b_1+b_2,k_4+b_3+b_4}=\\delta_{b_1+b_2,b_3+b_4}\\delta_{k_2,k_4}$.  \n",
       "Therefore, the Fock term simplifies to $-\\sum_{k_1,k_2, k_4,b_1,b_2,b_3,b_4}  V(k_1-k_4+b_1-b_4) \\langle c_{b_1}^\\dagger(k_1) c_{b_3}(k_1) \\rangle c_{b_2}^\\dagger(k_2) c_{b_4}(k_4) \\delta_{b_1+b_2,b_3+b_4}\\delta_{k_2,k_4}=-\\sum_{k_1,k_2, b_1,b_2,b_3,b_4} V(k_1-k_2+b_1-b_4) \\langle c_{b_1}^\\dagger(k_1) c_{b_3}(k_1) \\rangle c_{b_2}^\\dagger(k_2) c_{b_4}(k_2) \\delta_{b_1+b_2,b_3+b_4}$.  \n",
       "Therefore, the final simplified Fock term after reducing two momenta is $\\hat{H}^{Fock}=-\\sum_{k_1, k_2,b_1,b_2,b_3,b_4}  V(k_1-k_2+b_1-b_4) \\langle c_{b_1}^\\dagger(k_1) c_{b_3}(k_1) \\rangle c_{b_2}^\\dagger(k_2) c_{b_4}(k_2) \\delta_{b_1+b_2,b_3+b_4}$"
      ],
      "text/plain": [
       "<IPython.core.display.Markdown object>"
      ]
     },
     "execution_count": 53,
     "metadata": {},
     "output_type": "execute_result"
    }
   ],
   "source": [
    "Markdown(prompt['content'])"
   ]
  },
  {
   "cell_type": "code",
   "execution_count": 9,
   "metadata": {},
   "outputs": [
    {
     "name": "stdout",
     "output_type": "stream",
     "text": [
      "You will be instructed to construct each term $\\Delta(\\mathbf{r})$, namely, $\\Delta_{\\sigma, b,b'}$.  \n",
      "The expression for diagonal terms are: $\\Delta_{\\sigma, b,b}=\\sum_{j=1}^6 V_j \\delta_{b_j,0}$, where $V_j=V_Me^{(-1)^{j-1}i\\phi}$.  \n",
      "The expression for off-diagonal terms are: $\\sum_{j=1}^6 V_j\\delta_{\\bm{b}_j,\\bm{b}-\\bm{b}'}$.  \n",
      "You should recall that $H_{Potential} = \\sum_{\\sigma,b,b',k} \\Delta_{\\sigma, b,b'} c_{\\sigma,b}^\\dagger(k) c_{\\sigma,b'}(k)$.  \n",
      "Return the expressions for $\\Delta_{\\sigma, b,b'}$, and substitute it into the potential Hamiltonian $\\Delta(\\mathbf{r})$.  \n",
      "\n",
      "Use the following conventions for the symbols (You should also obey the conventions in all my previous prompts if you encounter undefined symbols. If you find it is never defined or have conflicts in the conventions, you should stop and let me know):  \n",
      "$V_j = V_M\\exp\\left\\[(-1)^{j-1}i\\phi\\right\\]$ where $V_M$ characterizes the moir\\'e modulation strength and $\\phi$ its shape. The fermion field operators $\\psi^{(\\dag)}_{\\alpha}(\\bm r)$ in this model carry only one label, representing locked spin/valley. The single-particle Hamiltonian of the moir\\'e continuum model $H_{0} = T + \\Delta(\\mathbf{r})$, where $T$ is the single-particle kinetic energy operator for electrons with effective mass $m^*$.\n"
     ]
    }
   ],
   "source": [
    "print(prompt['content'])"
   ]
  },
  {
   "cell_type": "code",
   "execution_count": null,
   "metadata": {},
   "outputs": [],
   "source": []
  }
 ],
 "metadata": {
  "kernelspec": {
   "display_name": "base",
   "language": "python",
   "name": "python3"
  },
  "language_info": {
   "codemirror_mode": {
    "name": "ipython",
    "version": 3
   },
   "file_extension": ".py",
   "mimetype": "text/x-python",
   "name": "python",
   "nbconvert_exporter": "python",
   "pygments_lexer": "ipython3",
   "version": "3.11.4"
  }
 },
 "nbformat": 4,
 "nbformat_minor": 2
}
