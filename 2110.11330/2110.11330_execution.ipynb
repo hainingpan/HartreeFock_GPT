{
 "cells": [
  {
   "cell_type": "code",
   "execution_count": 1,
   "metadata": {},
   "outputs": [],
   "source": [
    "from IPython.display import Markdown\n",
    "\n",
    "import sys\n",
    "sys.path.append('..')\n",
    "from utils import *"
   ]
  },
  {
   "cell_type": "code",
   "execution_count": 98,
   "metadata": {},
   "outputs": [],
   "source": [
    "prompt_template='../prompt_template.md'\n",
    "arxiv_number='2110.11330'\n",
    "prompt_dict=load_prompt_template(prompt_template)\n",
    "with open(f'{arxiv_number}.yaml','r') as f:\n",
    "    kwargs= yaml.safe_load(f)"
   ]
  },
  {
   "cell_type": "code",
   "execution_count": 101,
   "metadata": {},
   "outputs": [],
   "source": [
    "prompt=generate_prompt(kwargs[8],prompt_dict)"
   ]
  },
  {
   "cell_type": "code",
   "execution_count": 102,
   "metadata": {},
   "outputs": [
    {
     "data": {
      "text/markdown": [
       "You will be instructed to simplify the quadratic term $H_{\\text{int}}$ through relabeling the index.  \n",
       "The logic is that the expected value ($\\langle{c_{\\bm{k}_\\alpha,s}^\\dagger c_{\\bm{k}_\\delta,s}}\\rangle$ and $\\langle{c_{\\bm{k}_\\alpha,s}^\\dagger c_{\\bm{k}_\\gamma,s'}}\\rangle$) in the first Hartree term ($c_{\\bm{k}_\\beta,s'}^\\dagger c_{\\bm{k}_\\gamma,s'}$) has the same form as the quadratic operators in the second Hartree term ($c_{\\bm{k}_\\beta,s'}^\\dagger c_{\\bm{k}_\\delta,s}$), and vice versa. The same applies to the Fock term.  \n",
       "Namely, a replacement of $\\bm{k}_\\gamma \\leftrightarrow \\bm{k}_\\delta$ is applied to ONLY the second Hartree or Fock term. You should not swap any index that is not in the summation, which includes nothing here..  \n",
       "This means, if you relabel the index by swapping the index in the \"expected value\" and \"quadratic operators\" in the second Hartree or Fock term, you can make the second Hartree or Fock term look identical to the first Hartree or Fock term, as long as $V(q)=V(-q)$, which is naturally satisfied in Coulomb interaction. You should follow the EXAMPLE below to simplify it through relabeling the index.  \n",
       "You should recall that $H_{\\text{int}}$ is $H_{\\text{quadratic}} = \\frac{1}{2N}\\sum_{s,s'}\\sum_{k,k',q,q'} U(k-q) \\left[\\langle c_{k,s}^\\dagger c_{q,s}\\rangle c_{k',s'}^\\dagger c_{q',s'} + \\langle c_{k',s'}^\\dagger c_{q',s'}\\rangle c_{k,s}^\\dagger c_{q,s} - \\langle c_{k,s}^\\dagger c_{q',s'} \\rangle c_{k',s'}^\\dagger c_{q,s} -  \\langle c_{k',s'}^\\dagger c_{q,s} \\rangle c_{k,s}^\\dagger c_{q',s'}\\right] \\sum_{G} \\delta(k-q+k'-q',G)$\n",
       "Return the simplified $H_{\\text{int}}$.\n",
       "\n",
       "===  \n",
       "EXAMPLE:  \n",
       "Given a Hamiltonian $\\hat{H}=\\sum_{k_1,k_2, k_3, k_4,\\sigma_1,\\sigma_2,\\sigma_3,\\sigma_4} V(k_1-k_4) (\\langle c_{d,\\sigma_1}^\\dagger(k_1) c_{d,\\sigma_4}(k_4) \\rangle c_{p,\\sigma_2}^\\dagger(k_2) c_{p,\\sigma_3}(k_3) + \\langle c_{p,\\sigma_2}^\\dagger(k_2) c_{d,\\sigma_3}(k_3) \\rangle c_{d,\\sigma_1}^\\dagger(k_1) c_{\\sigma_4}(k_4) ) \\delta_{k_1+k_2,k_3+k_4}$, where $V(q)=V(-q)$.  \n",
       "In the second term, we relabel the index to swap the index in expected value and the index in quadratic operators, namely, $\\sigma_1 \\leftrightarrow \\sigma_2$, $\\sigma_3 \\leftrightarrow \\sigma_4$, $k_1 \\leftrightarrow k_2$, $k_3 \\leftrightarrow k_4$. Important: $d$ and $p$ cannot be swapped because they are not indices in the summation.  \n",
       "After the replacement, the second term becomes $\\sum_{k_1,k_2, k_3, k_4,\\sigma_1,\\sigma_2,\\sigma_3,\\sigma_4} V(k_2-k_3) \\langle c_{p,\\sigma_1}^\\dagger(k_1) c_{p,\\sigma_4}(k_4) \\rangle c_{d,\\sigma_2}^\\dagger(k_2) c_{d,\\sigma_3}(k_3) \\delta_{k_4+k_3,k_2+k_1}$.  \n",
       "Note that the Kronecker dirac function $\\delta_{k_4+k_3,k_2+k_1}$ implies $k_1+k_2=k_3+k_4$, i.e., $k_2-k_3=k_4-k_1$. Thus, the second term simplifies to $\\sum_{k_1,k_2, k_3, k_4,\\sigma_1,\\sigma_2,\\sigma_3,\\sigma_4} V(k_4-k_1) \\langle c_{p,\\sigma_1}^\\dagger(k_1) c_{p,\\sigma_4}(k_4) \\rangle c_{d,\\sigma_2}^\\dagger(k_2) c_{d,\\sigma_3}(k_3) \\delta_{k_4+k_3,k_2+k_1}$.\n",
       "Because $V(q)=V(-q)$, meaning $V(k_4-k_1)=V(k_1-k_4)$, the second term further simplifies to $\\sum_{k_1,k_2, k_3, k_4,\\sigma_1,\\sigma_2,\\sigma_3,\\sigma_4} V(k_1-k_4) \\langle c_{p,\\sigma_1}^\\dagger(k_1) c_{p,\\sigma_4}(k_4) \\rangle c_{d,\\sigma_2}^\\dagger(k_2) c_{d,\\sigma_3}(k_3) \\delta_{k_4+k_3,k_2+k_1}$.   \n",
       "Finally, we have the simplified Hamiltonian as  $\\hat{H}=\\sum_{k_1,k_2, k_3, k_4,\\sigma_1,\\sigma_2,\\sigma_3,\\sigma_4} V(k_1-k_4) (\\langle c_{d,\\sigma_1}^\\dagger(k_1) c_{d,\\sigma_4}(k_4) \\rangle c_{p,\\sigma_2}^\\dagger(k_2) c_{p,\\sigma_3}(k_3) + \\langle c_{p,\\sigma_1}^\\dagger(k_1) c_{p,\\sigma_4}(k_4) \\rangle c_{d,\\sigma_2}^\\dagger(k_2) c_{d,\\sigma_3}(k_3)) \\delta_{k_4+k_3,k_2+k_1}$."
      ],
      "text/plain": [
       "<IPython.core.display.Markdown object>"
      ]
     },
     "execution_count": 102,
     "metadata": {},
     "output_type": "execute_result"
    }
   ],
   "source": [
    "Markdown(prompt['content'])"
   ]
  },
  {
   "cell_type": "code",
   "execution_count": 39,
   "metadata": {},
   "outputs": [
    {
     "name": "stdout",
     "output_type": "stream",
     "text": [
      "You will be instructed to convert the interacting Hamiltonian, $H_{int}$, in the second-quantized form the basis in real space to the basis in momentum space.\n",
      "To do that, you should apply the Fourier transformation to $c_{i,s}^\\dagger$ in the real space to the $c_{k,s}^\\dagger$ in the momentum space, which is defined as $c_{k,s}^\\dagger= \\frac{1}{\\sqrt{N}} \\sum_i c_{R_\\bm{i},s}^\\dagger e^{i k \\cdot R_i}$, where $\\bm{R}_i$ is integrated over all sites in the entire real space, and k is defined within the first Brillouin zone. You should follow the EXAMPLE below to apply the Fourier transformation.   \n",
      "You should recall that $H_{int}$ is $H_{int} = \\frac{1}{2}\\sum_{i,j}\\sum_{s,s'} U(\\bm{R}_i-\\bm{R}_j) n_{i,s} n_{j,s'}$.\n",
      "Express $H_{int}$ in terms of $c_{k,s}^\\dagger$. Simplify any summation index if possible.  \n",
      "\n",
      "===  \n",
      "EXAMPLE:  \n",
      "Write an interacting Hamiltonian $\\hat{H}^{int}$ in the second quantized form in the real space, $\\hat{H}^{int}=\\sum_{s,s'}\\sum_{i,j} U(R_i-R_j) c_s^\\dagger(R_i) c_{s'}^\\dagger(R_j) c_{s'}(R_j) c_s(R_i)$, where $i,j$ are summed over the entire real space.  \n",
      "Define the Fourier transformation $c_s^\\dagger(k)=\\frac{1}{\\sqrt{N}} \\sum_{i}c_s^\\dagger(R_i) e^{i k \\cdot R_i}$, where $i$ is integrated over the entire real space containing $N$ unit cells, $N$ is the number of unit cells.  \n",
      "This leads to the inverse Fourier transformation $c_s^\\dagger(R_i) = \\frac{1}{\\sqrt{N}} \\sum_k c_s^\\dagger(k) e^{-i k \\cdot R_i}$, where $k$ is summed over the first Brillouin zone.  \n",
      "Thus, substitute $c^\\dagger(R_i)$ and $c(R_j)$ into $\\hat{H}^{int}$, we get  \n",
      "$$\\hat{H}^{int} = \\sum_{s,s'}\\sum_{i,j} U(R_i-R_j) \\frac{1}{\\sqrt{N}} \\sum_{k_1} c_s^\\dagger(k_1) e^{-i k_1 \\cdot R_i} \\frac{1}{\\sqrt{N}} \\sum_{k_2} c_{s'}^\\dagger(k_2) e^{-i k_2 \\cdot R_j} \\frac{1}{\\sqrt{N}} \\sum_{k_3} c_{s'}(k_3) e^{i k_3 \\cdot R_j} \\frac{1}{\\sqrt{N}} \\sum_{k_4} c_s(k_4) e^{i k_4 \\cdot R_i}=\\sum_{s,s'}\\sum_{i,j}\\frac{1}{N^2}\\sum_{k_1,k_2,k_3,k_4}U(R_i-R_j)c_s^\\dagger(k_1)c_{s'}^\\dagger(k_2)c_{s'}(k_3)c_s(k_4)e^{-i(k_1-k_4)\\cdot R_i} e^{-i(k_2-k_3)\\cdot R_j}$$\n",
      "Now make a replacement by defining $n= R_i-R_j$  \n",
      "The Hamiltonian become  \n",
      "$$\\hat{H}^{int}=\\frac{1}{N^2} \\sum_{j,n} \\sum_{s,s'} \\sum_{k_1,k_2,k_3,k_4} U(n) c_s^\\dagger(k_1)c_{s'}^\\dagger(k_2)c_{s'}(k_3)c_s(k_4)e^{-i(k_1-k_4)\\cdot n} e^{-i(k_1-k_4+k_2-k_3)\\cdot r_j }$$\n",
      "Because $\\frac{1}{N}\\sum_{i} e^{-i (k_1-k_4+k_2-k_3)\\cdot R_i} = \\sum\\delta(k_1-k_4+k_2-k_3,G)$, where $\\delta(..,..)$ is the Kronecker delta function, and $G$ is the all reciprocal lattices in the momentum space.  \n",
      "Therefore,  \n",
      "$$\\hat{H}^{int}=\\frac{1}{N}\\sum_{s,s'}\\sum_{k_1,k_2,k_3,k_4} \\sum_{n} U(n) e^{-i (k_1-k_4) \\cdot n} c_s^\\dagger(k_1)c_{s'}^\\dagger(k_2)c_{s'}(k_3)c_s(k_4) \\sum_{G} \\delta(k_1-k_4+k_2-k_3,G)$$\n",
      "If we define interaction in the momentum space $U(k)=\\sum_{n} U(n) e^{-i k \\cdot n}$, where $n$ is the summation of all hopping pairs, the interacting Hamiltonian in the momentum space is  \n",
      "$$\\hat{H}^{int}=\\frac{1}{N}\\sum_{s,s'}\\sum_{k_1,k_2,k_3,k_4}  U(k_1-k_4) c_s^\\dagger(k_1)c_{s'}^\\dagger(k_2)c_{s'}(k_3)c_s(k_4) \\sum_{G} \\delta(k_1-k_4+k_2-k_3,G)$$\n"
     ]
    }
   ],
   "source": [
    "print(prompt['content'])"
   ]
  },
  {
   "cell_type": "code",
   "execution_count": null,
   "metadata": {},
   "outputs": [],
   "source": []
  }
 ],
 "metadata": {
  "kernelspec": {
   "display_name": "base",
   "language": "python",
   "name": "python3"
  },
  "language_info": {
   "codemirror_mode": {
    "name": "ipython",
    "version": 3
   },
   "file_extension": ".py",
   "mimetype": "text/x-python",
   "name": "python",
   "nbconvert_exporter": "python",
   "pygments_lexer": "ipython3",
   "version": "3.11.4"
  }
 },
 "nbformat": 4,
 "nbformat_minor": 2
}
