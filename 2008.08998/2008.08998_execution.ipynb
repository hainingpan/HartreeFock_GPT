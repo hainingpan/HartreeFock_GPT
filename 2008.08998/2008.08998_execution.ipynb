{
 "cells": [
  {
   "cell_type": "code",
   "execution_count": 46,
   "metadata": {},
   "outputs": [],
   "source": [
    "from IPython.display import Markdown\n",
    "\n",
    "import sys\n",
    "sys.path.append('..')\n",
    "from utils import *"
   ]
  },
  {
   "cell_type": "code",
   "execution_count": 130,
   "metadata": {},
   "outputs": [],
   "source": [
    "prompt_template='../prompt_template.md'\n",
    "arxiv_number='2008.08998'\n",
    "prompt_dict=load_prompt_template(prompt_template)\n",
    "with open(f'{arxiv_number}.yaml','r') as f:\n",
    "    kwargs= yaml.safe_load(f)"
   ]
  },
  {
   "cell_type": "code",
   "execution_count": 131,
   "metadata": {},
   "outputs": [],
   "source": [
    "prompt=generate_prompt(kwargs[8],prompt_dict)"
   ]
  },
  {
   "cell_type": "code",
   "execution_count": 132,
   "metadata": {},
   "outputs": [
    {
     "data": {
      "text/markdown": [
       "You will be instructed to simplify the quadratic term $H_{\\text{int}}^{(2)}$ through relabeling the index.  \n",
       "The logic is that the expected value ($\\langle c_{\\bm{k}_\\alpha,s}^\\dagger c_{\\bm{k}_\\delta,s} \\rangle$ and $\\langle{c_{\\bm{k}_\\alpha,s}^\\dagger c_{\\bm{k}_\\gamma,s'}} \\rangle$) in the first Hartree term ($c_{\\bm{k}_\\beta,s'}^\\dagger c_{\\bm{k}_\\gamma,s'}$) has the same form as the quadratic operators in the second Hartree term ($c_{\\bm{k}_\\beta,s'}^\\dagger c_{\\bm{k}_\\delta,s}$), and vice versa. The same applies to the Fock term.  \n",
       "Namely, a replacement of $\\bm{k}_\\alpha, \\leftrightarrow \\bm{k}_\\beta$ and $\\bm{k}_\\gamma \\leftrightarrow \\bm{k}_\\delta$ is applied to ONLY the second Hartree or Fock term. You should not swap any index that is not in the summation, which includes nothings in this case.  \n",
       "This means, if you relabel the index by swapping the index in the \"expected value\" and \"quadratic operators\" in the second Hartree or Fock term, you can make the second Hartree or Fock term look identical to the first Hartree or Fock term, as long as $V(q)=V(-q)$, which is naturally satisfied in Coulomb interaction. You should follow the EXAMPLE below to simplify it through relabeling the index.  \n",
       "You should recall that $H_{\\text{int}}^{(2)}$ is $H_{\\text{int}}^{(2)} = \\frac{1}{2\\mathcal{N}}\\sum_{s,s'} \\sum_{\\bm{k}} U(\\bm{k}_\\alpha-\\bm{k}_\\delta)\\delta_{\\bm{k}_\\alpha,\\bm{k}_\\beta,\\bm{k}_\\gamma,\\bm{k}_\\delta} \\left[ \\langle c_{\\bm{k}_\\alpha,s}^\\dagger c_{\\bm{k}_\\delta,s} \\rangle c_{\\bm{k}_\\beta,s'}^\\dagger c_{\\bm{k}_\\gamma,s'} + \\langle c_{\\bm{k}_\\beta,s'}^\\dagger c_{\\bm{k}_\\gamma,s'} \\rangle c_{\\bm{k}_\\alpha,s}^\\dagger c_{\\bm{k}_\\delta,s} - \\langle c_{\\bm{k}_\\alpha,s}^\\dagger c_{\\bm{k}_\\gamma,s'} \\rangle c_{\\bm{k}_\\beta,s'}^\\dagger c_{\\bm{k}_\\delta,s} - \\langle c_{\\bm{k}_\\beta,s'}^\\dagger c_{\\bm{k}_\\delta,s} \\rangle c_{\\bm{k}_\\alpha,s}^\\dagger c_{\\bm{k}_\\gamma,s'} \\right]$, where $\\delta_{\\bm{k}_\\alpha,\\bm{k}_\\beta,\\bm{k}_\\gamma,\\bm{k}_\\delta}=\\sum_{\\bm{G}}\\delta(\\bm{k}_\\alpha+\\bm{k}_\\beta-\\bm{k}_\\gamma-\\bm{k}_\\delta,\\bm{G})$\n",
       "Return the simplified $H_{\\text{int}}^{(2)}$.\n",
       "\n",
       "===  \n",
       "EXAMPLE:  \n",
       "Given a Hamiltonian $\\hat{H}=\\sum_{k_1,k_2, k_3, k_4,\\sigma_1,\\sigma_2,\\sigma_3,\\sigma_4} V(k_1-k_4) (\\langle c_{d,\\sigma_1}^\\dagger(k_1) c_{d,\\sigma_4}(k_4) \\rangle c_{p,\\sigma_2}^\\dagger(k_2) c_{p,\\sigma_3}(k_3) + \\langle c_{p,\\sigma_2}^\\dagger(k_2) c_{d,\\sigma_3}(k_3) \\rangle c_{d,\\sigma_1}^\\dagger(k_1) c_{\\sigma_4}(k_4) ) \\delta_{k_1+k_2,k_3+k_4}$, where $V(q)=V(-q)$.  \n",
       "In the second term, we relabel the index to swap the index in expected value and the index in quadratic operators, namely, $\\sigma_1 \\leftrightarrow \\sigma_2$, $\\sigma_3 \\leftrightarrow \\sigma_4$, $k_1 \\leftrightarrow k_2$, $k_3 \\leftrightarrow k_4$. Important: $d$ and $p$ cannot be swapped because they are not indices in the summation.  \n",
       "After the replacement, the second term becomes $\\sum_{k_1,k_2, k_3, k_4,\\sigma_1,\\sigma_2,\\sigma_3,\\sigma_4} V(k_2-k_3) \\langle c_{p,\\sigma_1}^\\dagger(k_1) c_{p,\\sigma_4}(k_4) \\rangle c_{d,\\sigma_2}^\\dagger(k_2) c_{d,\\sigma_3}(k_3) \\delta_{k_4+k_3,k_2+k_1}$.  \n",
       "Note that the Kronecker dirac function $\\delta_{k_4+k_3,k_2+k_1}$ implies $k_1+k_2=k_3+k_4$, i.e., $k_2-k_3=k_4-k_1$. Thus, the second term simplifies to $\\sum_{k_1,k_2, k_3, k_4,\\sigma_1,\\sigma_2,\\sigma_3,\\sigma_4} V(k_4-k_1) \\langle c_{p,\\sigma_1}^\\dagger(k_1) c_{p,\\sigma_4}(k_4) \\rangle c_{d,\\sigma_2}^\\dagger(k_2) c_{d,\\sigma_3}(k_3) \\delta_{k_4+k_3,k_2+k_1}$.\n",
       "Because $V(q)=V(-q)$, meaning $V(k_4-k_1)=V(k_1-k_4)$, the second term further simplifies to $\\sum_{k_1,k_2, k_3, k_4,\\sigma_1,\\sigma_2,\\sigma_3,\\sigma_4} V(k_1-k_4) \\langle c_{p,\\sigma_1}^\\dagger(k_1) c_{p,\\sigma_4}(k_4) \\rangle c_{d,\\sigma_2}^\\dagger(k_2) c_{d,\\sigma_3}(k_3) \\delta_{k_4+k_3,k_2+k_1}$.   \n",
       "Finally, we have the simplified Hamiltonian as  $\\hat{H}=\\sum_{k_1,k_2, k_3, k_4,\\sigma_1,\\sigma_2,\\sigma_3,\\sigma_4} V(k_1-k_4) (\\langle c_{d,\\sigma_1}^\\dagger(k_1) c_{d,\\sigma_4}(k_4) \\rangle c_{p,\\sigma_2}^\\dagger(k_2) c_{p,\\sigma_3}(k_3) + \\langle c_{p,\\sigma_1}^\\dagger(k_1) c_{p,\\sigma_4}(k_4) \\rangle c_{d,\\sigma_2}^\\dagger(k_2) c_{d,\\sigma_3}(k_3)) \\delta_{k_4+k_3,k_2+k_1}$."
      ],
      "text/plain": [
       "<IPython.core.display.Markdown object>"
      ]
     },
     "execution_count": 132,
     "metadata": {},
     "output_type": "execute_result"
    }
   ],
   "source": [
    "Markdown(prompt['content'])"
   ]
  },
  {
   "cell_type": "code",
   "execution_count": 11,
   "metadata": {},
   "outputs": [
    {
     "name": "stdout",
     "output_type": "stream",
     "text": [
      "You will be instructed to describe the kinetic term of Hamiltonian in a system with two layers in the real space in the single-particle form.   \n",
      "The degrees of freedom of the system are: valley index (+K and -K valley), layer index (top and bottom layer)..  \n",
      "Express the Kinetic Hamiltonian H_{\\tau} using variables which are only on the diagonal terms, and arrange the basis in the order of (+K,bottom), (+K,top), (-K,bottom), (-K,top). \n",
      "\n",
      "Use the following conventions for the symbols:  \n",
      "$\\tau=\\pm 1$ represents $\\pm K$ valleys, $\\bm{\\kappa}=\\frac{4\\pi}{3a_M}\\left(1,0\\right)$ is at a corner of the moiré Brillouin zone. The $2\\times 2$ Hamiltonian hybridizes the bottom layer ($\\mathfrak{b}$) and top layer ($\\mathfrak{t}$), where the off diagonal terms describe the interlayer tunneling $\\Delta_{\\text{T},\\tau}$, and the diagonal terms describe the momentum-shifted kinetic energy with the effective mass $(m_{\\mathfrak{b}},m_{\\mathfrak{t}})=(0.65,0.35)m_e$ ($m_e$ is the rest electron mass), plus the intralayer potential $\\Delta_{\\mathfrak{b}/\\mathfrak{t}}$, and a band offset $V_{z\\mathfrak{t}}$.\n"
     ]
    }
   ],
   "source": [
    "print(prompt['content'])"
   ]
  },
  {
   "cell_type": "code",
   "execution_count": null,
   "metadata": {},
   "outputs": [],
   "source": []
  }
 ],
 "metadata": {
  "kernelspec": {
   "display_name": "base",
   "language": "python",
   "name": "python3"
  },
  "language_info": {
   "codemirror_mode": {
    "name": "ipython",
    "version": 3
   },
   "file_extension": ".py",
   "mimetype": "text/x-python",
   "name": "python",
   "nbconvert_exporter": "python",
   "pygments_lexer": "ipython3",
   "version": "3.11.4"
  }
 },
 "nbformat": 4,
 "nbformat_minor": 2
}
