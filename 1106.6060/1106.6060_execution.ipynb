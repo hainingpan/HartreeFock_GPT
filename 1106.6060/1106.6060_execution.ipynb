{
 "cells": [
  {
   "cell_type": "code",
   "execution_count": 1,
   "metadata": {},
   "outputs": [],
   "source": [
    "from IPython.display import Markdown\n",
    "\n",
    "import sys\n",
    "sys.path.append('..')\n",
    "from utils import *"
   ]
  },
  {
   "cell_type": "code",
   "execution_count": 160,
   "metadata": {},
   "outputs": [],
   "source": [
    "prompt_template='../prompt_template.md'\n",
    "arxiv_number='1106.6060'\n",
    "prompt_dict=load_prompt_template(prompt_template)\n",
    "with open(f'{arxiv_number}.yaml','r') as f:\n",
    "    kwargs= yaml.safe_load(f)"
   ]
  },
  {
   "cell_type": "code",
   "execution_count": 177,
   "metadata": {},
   "outputs": [],
   "source": [
    "prompt=generate_prompt(kwargs[1],prompt_dict)"
   ]
  },
  {
   "cell_type": "code",
   "execution_count": 178,
   "metadata": {},
   "outputs": [
    {
     "data": {
      "text/markdown": [
       "You will be instructed to describe the kinetic term of Hamiltonian in the CuO$_2$ plane in the real space in the second-quantized form.   \n",
       "The degrees of freedom of the system are: spin index (spin up and spin down), orbital index ($d$ orbital in Cu atom, $p_x$ orbital in O atom, and $p_y$ orbital in O atom)     \n",
       "The kinetic term is a tight-binding model composed of the following hopping process: \n",
       "1. $c_{d,s}^\\dagger(R_i)$ and $c_{p_x,s}^\\dagger(R_i+\\hat{x}/2)$ with the hopping amplitude $-t_pd$.  \n",
       "2. $c_{d,s}^\\dagger(R_i)$ and $c_{p_x,s}^\\dagger(R_i-\\hat{x}/2)$ with the hopping amplitude $-t_pd$.  \n",
       "3. $c_{d,s}^\\dagger(R_i)$ and $c_{p_y,s}^\\dagger(R_i+\\hat{y}/2)$ with the hopping amplitude $-t_pd$.  \n",
       "4. $c_{d,s}^\\dagger(R_i)$ and $c_{p_y,s}^\\dagger(R_i-\\hat{y}/2)$ with the hopping amplitude $-t_pd$.  \n",
       "5. $c_{p_x,s}^\\dagger(R_i+\\hat{x}/2)$ and $c_{p_y,s}^\\dagger(R_i+\\hat{y}/2)$ with the hopping amplitude $-t_pp$.  \n",
       "6. $c_{p_x,s}^\\dagger(R_i+\\hat{x}/2)$ and $c_{p_y,s}^\\dagger(R_i-\\hat{y}/2)$ with the hopping amplitude $-t_pp$.  \n",
       "7. $c_{p_x,s}^\\dagger(R_i-\\hat{x}/2)$ and $c_{p_y,s}^\\dagger(R_i+\\hat{y}/2)$ with the hopping amplitude $-t_pp$.  \n",
       "8. $c_{p_x,s}^\\dagger(R_i-\\hat{x}/2)$ and $c_{p_y,s}^\\dagger(R_i-\\hat{y}/2)$ with the hopping amplitude $-t_pp$. \n",
       "\n",
       "You should ensure the hermiticity of the Hamiltonian\n",
       "The summation should be taken over all spin index (spin up and spin down), orbital index ($d$ orbital in Cu atom, $p_x$ orbital in O atom, and $p_y$ orbital in O atom) and all real space positions.  \n",
       "Return the Kinetic Hamiltonian $\\mathcal{H}_{0}$.\n",
       "\n",
       "Use the following conventions for the symbols:  \n",
       "$\\hat{d}^{\\dag}_{i,s}$ creates a hole in the copper $d_{x^2-y^2}$ orbital at site $i$ with spin $s$,\n",
       "$\\hat{p}^{\\dag}_{ i+\\hat{\\nu}/2, s}$ creates a hole in the oxygen $p_\\nu$ orbital at the site $i+\\hat{\\nu}/2$ for $\\nu = x, y$, and\n",
       "$\\hat{n}^{d}_{i,s}$, $\\hat{n}^{p}_{ i+\\hat{\\nu}, s}$ are the corresponding number operators. The Cu sites $i$ form a square lattice with unit vectors $\\hat{x}$ and $\\hat{y}$, and the total number of lattice sites is $N$. The chemical potential $\\mu$ and the charge transfer energy $\\Delta$ control the total and relative Cu/O hole densities, and $\\langle\\nu, \\nu'\\rangle$ point to neighboring oxygen sites."
      ],
      "text/plain": [
       "<IPython.core.display.Markdown object>"
      ]
     },
     "execution_count": 178,
     "metadata": {},
     "output_type": "execute_result"
    }
   ],
   "source": [
    "Markdown(prompt['content'])"
   ]
  },
  {
   "cell_type": "code",
   "execution_count": null,
   "metadata": {},
   "outputs": [
    {
     "data": {
      "text/markdown": [
       "You will be instructed to simplify the Hartree term, $\\hat{H}^{int,Hartree}$, by reducing the momentum inside the expected value $\\langle c_{\\alpha_i,s_i}^\\dagger(k_i) c_{\\alpha_j,s_j}(k_j) \\rangle$.  \n",
       "The expected value $\\langle c_{\\alpha_i,s_i}^\\dagger(k_i) c_{\\alpha_j,s_j}(k_j) \\rangle$ is only nonzero when the two momenta $k_i,k_j$ are the same, namely, $\\langle c_{\\alpha_i,s_i}^\\dagger(k_i) c_{\\alpha_j,s_j}(k_j) \\rangle=\\langle c_{\\alpha_i,s_i}^\\dagger(k_i) c_{\\alpha_j,s_j}(k_j) \\rangle \\delta_{k_i,k_j}$.  \n",
       "You should use the property of Kronecker delta function $\\delta_{k_i,k_j}$ to reduce one momentum $k_i$.\n",
       "Once you reduce one momentum inside the expected value $\\langle\\dots\\rangle$. You will also notice the total momentum conservation will reduce another momentum in the quadratic term. Therefore, you should end up with only two momenta left in the summation.  \n",
       "You should follow the EXAMPLE below to reduce one momentum in the Hartree term, and another momentum in the quadratic term.  \n",
       "You should recall that $\\hat{H}^{int,Hartree}$ is $\\frac{U_d}{N} \\sum_{k_1, k_2, k_3, k_4} \\sum_{G} \\delta(k_1-k_2+k_3-k_4,G) \\Big[ \\langle c_{d,\\uparrow}^\\dagger(k_1) c_{d,\\uparrow}(k_2) \\rangle c_{d,\\downarrow}^\\dagger(k_3) c_{d,\\downarrow}(k_4) + \\langle c_{d,\\downarrow}^\\dagger(k_1) c_{d,\\downarrow}(k_2) \\rangle c_{d,\\uparrow}^\\dagger(k_3) c_{d,\\uparrow}(k_4) \\Big]+\\frac{U_p}{2N} \\sum_{k_1,k_2,k_3,k_4} \\sum_{G} \\delta(k_1-k_2+k_3-k_4,G) \\Big\\{ \\langle c_{p_x,\\uparrow}^\\dagger(k_1) c_{p_x,\\uparrow}(k_2) \\rangle c_{p_x,\\downarrow}^\\dagger(k_3) c_{p_x,\\downarrow}(k_4)+ \\langle c_{p_x,\\downarrow}^\\dagger(k_1) c_{p_x,\\downarrow}(k_2) \\rangle c_{p_x,\\uparrow}^\\dagger(k_3) c_{p_x,\\uparrow}(k_4)+ \\langle c_{p_y,\\uparrow}^\\dagger(k_1) c_{p_y,\\uparrow}(k_2) \\rangle c_{p_y,\\downarrow}^\\dagger(k_3) c_{p_y,\\downarrow}(k_4)+ \\langle c_{p_y,\\downarrow}^\\dagger(k_1) c_{p_y,\\downarrow}(k_2) \\rangle c_{p_y,\\uparrow}^\\dagger(k_3) c_{p_y,\\uparrow}(k_4) \\Big\\}+2V_{pd} \\sum_{s, s^{\\prime}} \\frac{1}{N} \\sum_{k_1,k_2,k_3,k_4} \\sum_{G} \\delta(k_1-k_2+k_3-k_4,G) \\Big[\\langle c_{d,s}^\\dagger(k_1) c_{d,s}(k_2) \\rangle c_{p_x,s^{\\prime}}^\\dagger(k_3) c_{p_x,s^{\\prime}}(k_4)\\cos\\left(\\frac{k_3-k_4}{2}\\cdot \\hat{x}\\right) + \\langle c_{p_x,s}^\\dagger(k_1) c_{p_x,s}(k_2) \\rangle c_{d,s^{\\prime}}^\\dagger(k_3) c_{d,s^{\\prime}}(k_4)\\cos\\left(\\frac{k_1-k_2}{2}\\cdot \\hat{x}\\right)+ \\langle c_{d,s}^\\dagger(k_1) c_{d,s}(k_2) \\rangle c_{p_y,s^{\\prime}}^\\dagger(k_3) c_{p_y,s^{\\prime}}(k_4)\\cos\\left(\\frac{k_3-k_4}{2}\\cdot \\hat{y}\\right)+ \\langle c_{p_y,s}^\\dagger(k_1) c_{p_y,s}(k_2) \\rangle c_{d,s^{\\prime}}^\\dagger(k_3) c_{d,s^{\\prime}}(k_4)\\cos\\left(\\frac{k_1-k_2}{2}\\cdot \\hat{y}\\right) \\Big]+\\frac{V_{pp}}{N} \\sum_{s, s^{\\prime}} \\sum_{\\sigma_x, \\sigma_y} \\sum_{k_1, k_2, k_3, k_4} \\sum_{G} \\delta(k_2 - k_1 + k_4 - k_3, G) e^{-i (k_1 - k_2) \\cdot \\sigma_x\\hat{x}/2 - i (k_3 - k_4) \\cdot \\sigma_y\\hat{y}/2} \\times \\Big[ \\langle c_{p_x,s}^\\dagger(k_1) c_{p_x,s}(k_2) \\rangle c_{p_y,s^{\\prime}}^\\dagger(k_3) c_{p_y,s^{\\prime}}(k_4) + \\langle c_{p_y,s}^\\dagger(k_1) c_{p_y,s}(k_2) \\rangle c_{p_x,s^{\\prime}}^\\dagger(k_3) c_{p_x,s^{\\prime}}(k_4) \\Big]$.  \n",
       "Return the final simplified Hartree term $\\hat{H}^{int,Hartree}$.\n",
       "\n",
       "===  \n",
       "EXAMPLE:  \n",
       "Given a Hamiltonian where the Hartree term $\\hat{H}^{Hartree}=\\sum_{k_1,k_2, k_3, k_4,s_1,s_2} V(k_1-k_4) \\langle c_{s_1}^\\dagger(k_1) c_{s_1}(k_4) \\rangle c_{s_2}^\\dagger(k_2) c_{s_2}(k_3) \\sum_{G}\\delta_{k_1+k_2-k_3-k_4,G}$, where $k_i$ is the momentum inside first Brilloun zone, $G$ is the reciprocal lattice vectors, and $s_i$ is a certain index for the degree of freedom other than momentum.   \n",
       "Inside the expected value, we realize $\\langle c_{s_1}^\\dagger(k_1) c_{s_1}(k_4) \\rangle$ is nonzero only when $k_1=k_4$, i.e., $\\langle c_{s_1}^\\dagger(k_1) c_{s_1}(k_4) \\rangle=\\langle c_{s_1}^\\dagger(k_1) c_{s_1}(k_4) \\rangle\\delta_{k_1,k_4}$.  \n",
       "Thus, the Hartree term becomes $\\sum_{k_1,k_2, k_3, k_4,s_1,s_2} V(k_1-k_4) \\langle c_{s_1}^\\dagger(k_1) c_{s_1}(k_4) \\rangle \\delta_{k_1,k_4} c_{s_2}^\\dagger(k_2) c_{s_2}(k_3) \\sum_{G}\\delta_{k_1+k_2-k_3-k_4,G}$.  \n",
       "Use the property of Kronecker delta function $\\delta_{k_1,k_4}$ to sum over $k_4$, we have $\\sum_{k_1, k_2, k_3,s_1,s_2} V(k_1-k_1) \\langle c_{s_1}^\\dagger(k_1) c_{s_1}(k_1) \\rangle c_{s_2}^\\dagger(k_2) c_{s_2}(k_3) \\sum_{G}\\delta_{k_1+k_2-k_3-k_1,G}=\\sum_{k_1, k_2, k_3,s_1,s_2} V(0) \\langle c_{s_1}^\\dagger(k_1) c_{s_1}(k_1) \\rangle c_{s_2}^\\dagger(k_2) c_{s_2}(k_3) \\sum_{G}\\delta_{k_2-k_3,G}$.  \n",
       "We can further simplify $\\sum_{G}\\delta_{k_2-k_3,G}$. Because $k_i$ is momentum inside first Brilloun zone, and the difference between $k_2$ and $k_3$ cannot exceed the first shell of reciprocal lattice vector, which means $G$ can only take the value of the origin point in the reciprocal lattice, therefore, $\\sum_{G}\\delta_{k_2-k_3,G}=\\delta_{k_2-k_3,0}$.   \n",
       "Thus, the Hartree term simplifies to $\\sum_{k_1, k_2, k_3,s_1,s_2} V(0) \\langle c_{s_1}^\\dagger(k_1) c_{s_1}(k_1) \\rangle c_{s_2}^\\dagger(k_2) c_{s_2}(k_3) \\delta_{k_2-k_3,0}=\\sum_{k_1, k_2,s_1,s_2} V(0) \\langle c_{s_1}^\\dagger(k_1) c_{s_1}(k_1) \\rangle c_{s_2}^\\dagger(k_2) c_{s_2}(k_2)$.  \n",
       "Therefore, the final simplified Hartree term after reducing one momentum is $\\hat{H}^{Hartree}=\\sum_{k_1, k_2,s_1,s_2} V(0) \\langle c_{s_1}^\\dagger(k_1) c_{s_1}(k_1) \\rangle c_{s_2}^\\dagger(k_2) c_{s_2}(k_2)$"
      ],
      "text/plain": [
       "<IPython.core.display.Markdown object>"
      ]
     },
     "metadata": {},
     "output_type": "display_data"
    }
   ],
   "source": [
    "Markdown(prompt['content'])"
   ]
  },
  {
   "cell_type": "code",
   "execution_count": null,
   "metadata": {},
   "outputs": [],
   "source": []
  },
  {
   "cell_type": "code",
   "execution_count": 29,
   "metadata": {},
   "outputs": [
    {
     "name": "stdout",
     "output_type": "stream",
     "text": [
      "You will be instructed to convert the noninteracting Hamiltonian $\\mathcal{H}_{\\rm 0}$ in the second quantized form from the basis in real space to the basis in momentum space. \n",
      "To do that, you should apply the Fourier transformation to $c_{\\alpha,s}^\\dagger(R_i)$ in the real space to the $c_{\\alpha,s}^\\dagger(k)$ in the momentum space, which is defined as $c_{\\alpha,s}^\\dagger(k)= \\frac{1}{\\sqrt{N}} \\sum_i c_{\\alpha,s}^\\dagger(R_i) e^{i k \\cdot R_i}$, where i is integrated over all sites in the entire real space. You should follow the EXAMPLE below to apply the Fourier transformation. \n",
      "You should recall that $H_0 = -t_{pd}\\sum_{R_i, s} ( c_{d,s}^\\dagger(R_i) c_{p_x,s}(R_i+\\hat{x}/2) + c_{p_x,s}^\\dagger(R_i+\\hat{x}/2) c_{d,s}(R_i) + c_{d,s}^\\dagger(R_i) c_{p_x,s}(R_i-\\hat{x}/2) + c_{p_x,s}^\\dagger(R_i-\\hat{x}/2) c_{d,s}(R_i)+ c_{d,s}^\\dagger(R_i) c_{p_y,s}(R_i+\\hat{y}/2) + c_{p_y,s}^\\dagger(R_i+\\hat{y}/2) c_{d,s}(R_i)+ c_{d,s}^\\dagger(R_i) c_{p_y,s}(R_i-\\hat{y}/2) + c_{p_y,s}^\\dagger(R_i-\\hat{y}/2) c_{d,s}(R_i) )-t_{pp}\\sum_{R_i, s} ( c_{p_x,s}^\\dagger(R_i+\\hat{x}/2) c_{p_y,s}(R_i+\\hat{y}/2) + c_{p_y,s}^\\dagger(R_i+\\hat{y}/2) c_{p_x,s}(R_i+\\hat{x}/2) + c_{p_x,s}^\\dagger(R_i+\\hat{x}/2) c_{p_y,s}(R_i-\\hat{y}/2) + c_{p_y,s}^\\dagger(R_i-\\hat{y}/2) c_{p_x,s}(R_i+\\hat{x}/2) + c_{p_x,s}^\\dagger(R_i-\\hat{x}/2) c_{p_y,s}(R_i+\\hat{y}/2) + c_{p_y,s}^\\dagger(R_i+\\hat{y}/2) c_{p_x,s}(R_i-\\hat{x}/2) + c_{p_x,s}^\\dagger(R_i-\\hat{x}/2) c_{p_y,s}(R_i-\\hat{y}/2) + c_{p_y,s}^\\dagger(R_i-\\hat{y}/2) c_{p_x,s}(R_i-\\hat{x}/2) )$\n",
      "Express the total noninteracting Hamiltonian $\\mathcal{H}_{\\rm 0}$ in terms of $c_{\\alpha,s}^\\dagger(k)$. Simplify any summation index if possible.\n",
      "\n",
      "Use the following conventions for the symbols (You should also obey the conventions in all my previous prompts if you encounter undefined symbols. If you find it is never defined or has conflicts in the conventions, you should stop and let me know):\n",
      "$c_{\\alpha,s}(k)$ : electron annihilation operator at momentum $k$, spin $s$ and orbital $\\alpha$\n",
      "$c_{\\alpha,s}^\\dagger(k)$ : electron creation operator at momentum $k$, spin $s$ and orbital $\\alpha$\n",
      "$N$ : number of the unit cells in the real space \n",
      "\n",
      "\n",
      "===\n",
      "EXAMPLE:  \n",
      "Write a Kinetic Hamiltonian $\\hat{H}$ in the second quantized form in the real space, $\\hat{H}=\\sum_{i,j} t(R_i-R_j) c^\\dagger(R_i) c(R_j)$, where $i,j$ are summed over the entire real space.  \n",
      "Define the Fourier transformation $c^\\dagger(k)=\\frac{1}{\\sqrt{N}} \\sum_{i}c^\\dagger(R_i) e^{i k \\cdot R_i}$, where $i$ is integrated over the entire real space containing $N$ unit cells, $N$ is the number of unit cells.  \n",
      "This leads to the inverse Fourier transformation $c^\\dagger(R_i) = \\frac{1}{\\sqrt{N}} \\sum_k c^\\dagger(k) e^{-i k \\cdot R_i}$, where $k$ is first Brillouin zone.  \n",
      "Thus, substitute $c^\\dagger(R_i)$ and $c(R_j)$ into $\\hat{H}$, we get  \n",
      "$$\\hat{H} = \\sum_{i,j} t(R_i-R_j) \\frac{1}{\\sqrt{N}} \\sum_{k_1} c^\\dagger(k_1) e^{-i k_1 \\cdot R_i} \\frac{1}{\\sqrt{N}} \\sum_{k_2} c(k_2) e^{i k_2 \\cdot R_j} =\\frac{1}{N} \\sum_{i,j}\\sum_{k_1,k_2} c^\\dagger(k_1)  c(k_2)  e^{-i k_1\\cdot R_i} e^{i k_2 \\cdot R_j} t(R_i-R_j) $$\n",
      "Now make a replacement by defining $n= R_i-R_j$  \n",
      "The Hamiltonian become  \n",
      "$$\\hat{H}=\\frac{1}{N} \\sum_{i,n} \\sum_{k_1,k_2} c^\\dagger(k_1)  c(k_2) t(n) e^{-i (k_1-k_2)\\cdot R_i} e^{-i k_2 \\cdot n}$$\n",
      "Because $\\frac{1}{N}\\sum_{i} e^{-i (k_1-k_2)\\cdot R_i} = \\delta(k_1,k_2)$, where $\\delta(k_1,k_2)$ is the Kronecker delta function.  \n",
      "therefore   \n",
      "$$\\hat{H}=\\sum_{k_1,k_2} \\sum_{n} t(n) e^{-i k_2 \\cdot n} c^\\dagger(k_1)  c(k_2) \\delta(k_1,k_2)$$\n",
      "Using the property of Kronecker delta function and sum over $k_2$, we obtain  \n",
      "$$\\hat{H}=\\sum_{k_1} \\sum_{n} t(n) e^{-i k_1 \\cdot n} c^\\dagger(k_1)  c(k_1) $$\n",
      "For simplicity, we replace $k_1$ with $k$, we obtain  \n",
      "$$\\hat{H}=\\sum_{k} \\sum_{n} t(n) e^{-i k \\cdot n} c^\\dagger(k)  c(k)$$\n",
      "If we define energy dispersion $E(k)=\\sum_{n} t(n) e^{-i k \\cdot n}$, where $n$ is the summation of all hopping pairs, the Hamiltonian in the momentum space is \n",
      "$$\\hat{H}=\\sum_{k} E(k) c^\\dagger(k)  c(k)$$\n"
     ]
    }
   ],
   "source": [
    "print(prompt['content'])"
   ]
  },
  {
   "cell_type": "code",
   "execution_count": null,
   "metadata": {},
   "outputs": [],
   "source": []
  }
 ],
 "metadata": {
  "kernelspec": {
   "display_name": "base",
   "language": "python",
   "name": "python3"
  },
  "language_info": {
   "codemirror_mode": {
    "name": "ipython",
    "version": 3
   },
   "file_extension": ".py",
   "mimetype": "text/x-python",
   "name": "python",
   "nbconvert_exporter": "python",
   "pygments_lexer": "ipython3",
   "version": "3.11.4"
  }
 },
 "nbformat": 4,
 "nbformat_minor": 2
}
