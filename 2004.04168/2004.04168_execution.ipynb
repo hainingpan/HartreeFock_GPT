{
 "cells": [
  {
   "cell_type": "code",
   "execution_count": 17,
   "metadata": {},
   "outputs": [],
   "source": [
    "from IPython.display import Markdown\n",
    "\n",
    "import sys\n",
    "sys.path.append('..')\n",
    "from utils import *"
   ]
  },
  {
   "cell_type": "code",
   "execution_count": 50,
   "metadata": {},
   "outputs": [],
   "source": [
    "prompt_template='../prompt_template.md'\n",
    "arxiv_number='2004.04168'\n",
    "prompt_dict=load_prompt_template(prompt_template)\n",
    "with open(f'{arxiv_number}.yaml','r') as f:\n",
    "    kwargs= yaml.safe_load(f)"
   ]
  },
  {
   "cell_type": "code",
   "execution_count": 51,
   "metadata": {},
   "outputs": [],
   "source": [
    "prompt=generate_prompt(kwargs[7],prompt_dict)"
   ]
  },
  {
   "cell_type": "code",
   "execution_count": 52,
   "metadata": {},
   "outputs": [
    {
     "data": {
      "text/markdown": [
       "You will be instructed to construct the entire Hamiltonian after the Hartree-Fock approximation $\\hat{H}^{HF}$. \n",
       "You should first recall the Kinetic Hamiltonian $\\hat{H}_{Kinetic}$ is $\\hat{H}_{Kinetic} = \\sum_{s, k} E_s(k) c^\\dagger_s(k)  c_s(k)$, where $E_s(k)=\\sum_{n} t_s(n) e^{-i k \\cdot n}$.  \n",
       "You should then recall the interacting Hamiltonian $\\hat{H}^{int,HF}$ is $\\hat{H}^{int,HF,2} = \\frac{1}{2N} \\sum_{s, s'} \\sum_{k_1, k_2, k_3, k_4} U(k_1 - k_4) \\left( \\langle c_s^\\dagger(k_1) c_s(k_4) \\rangle c_{s'}^\\dagger(k_2) c_{s'}(k_3) + \\langle c_{s'}^\\dagger(k_2) c_{s'}(k_3) \\rangle c_s^\\dagger(k_1) c_s(k_4) - \\langle c_s^\\dagger(k_1) c_{s'}(k_3) \\rangle c_{s'}^\\dagger(k_2) c_s(k_4) - \\langle c_{s'}^\\dagger(k_2) c_s(k_4) \\rangle c_s^\\dagger(k_1) c_{s'}(k_3) \\right) \\sum_G \\delta(k_1-k_4+k_2-k_3, G)$.  \n",
       "You should then combine $\\hat{H}_{Kinetic}$ with the interacting Hamiltonian $\\hat{H}^{int,HF}$ after the Hartree-Fock approximation, which is the entire Hamiltonian $\\hat{H}^{HF}$ after Hartree-Fock.  \n",
       "Return the expression for $\\hat{H}^{HF}$.  \n",
       "\n",
       "Use the following conventions for the symbols (You should also obey the conventions in all my previous prompts if you encounter undefined symbols. If you find it is never defined or has conflicts in the conventions, you should stop and let me know):  \n",
       "$\\hat{H}^{HF}$ : the entire Hamiltonian after the Hartree-Fock approximation"
      ],
      "text/plain": [
       "<IPython.core.display.Markdown object>"
      ]
     },
     "execution_count": 52,
     "metadata": {},
     "output_type": "execute_result"
    }
   ],
   "source": [
    "Markdown(prompt['content'])"
   ]
  },
  {
   "cell_type": "code",
   "execution_count": 53,
   "metadata": {},
   "outputs": [
    {
     "name": "stdout",
     "output_type": "stream",
     "text": [
      "You will be instructed to construct the entire Hamiltonian after the Hartree-Fock approximation $\\hat{H}^{HF}$. \n",
      "You should first recall the Kinetic Hamiltonian $\\hat{H}_{Kinetic}$ is $\\hat{H}_{Kinetic} = \\sum_{s, k} E_s(k) c^\\dagger_s(k)  c_s(k)$, where $E_s(k)=\\sum_{n} t_s(n) e^{-i k \\cdot n}$.  \n",
      "You should then recall the interacting Hamiltonian $\\hat{H}^{int,HF}$ is $\\hat{H}^{int,HF,2} = \\frac{1}{2N} \\sum_{s, s'} \\sum_{k_1, k_2, k_3, k_4} U(k_1 - k_4) \\left( \\langle c_s^\\dagger(k_1) c_s(k_4) \\rangle c_{s'}^\\dagger(k_2) c_{s'}(k_3) + \\langle c_{s'}^\\dagger(k_2) c_{s'}(k_3) \\rangle c_s^\\dagger(k_1) c_s(k_4) - \\langle c_s^\\dagger(k_1) c_{s'}(k_3) \\rangle c_{s'}^\\dagger(k_2) c_s(k_4) - \\langle c_{s'}^\\dagger(k_2) c_s(k_4) \\rangle c_s^\\dagger(k_1) c_{s'}(k_3) \\right) \\sum_G \\delta(k_1-k_4+k_2-k_3, G)$.  \n",
      "You should then combine $\\hat{H}_{Kinetic}$ with the interacting Hamiltonian $\\hat{H}^{int,HF}$ after the Hartree-Fock approximation, which is the entire Hamiltonian $\\hat{H}^{HF}$ after Hartree-Fock.  \n",
      "Return the expression for $\\hat{H}^{HF}$.  \n",
      "\n",
      "Use the following conventions for the symbols (You should also obey the conventions in all my previous prompts if you encounter undefined symbols. If you find it is never defined or has conflicts in the conventions, you should stop and let me know):  \n",
      "$\\hat{H}^{HF}$ : the entire Hamiltonian after the Hartree-Fock approximation\n"
     ]
    }
   ],
   "source": [
    "print(prompt['content'])"
   ]
  },
  {
   "cell_type": "code",
   "execution_count": null,
   "metadata": {},
   "outputs": [],
   "source": []
  }
 ],
 "metadata": {
  "kernelspec": {
   "display_name": "base",
   "language": "python",
   "name": "python3"
  },
  "language_info": {
   "codemirror_mode": {
    "name": "ipython",
    "version": 3
   },
   "file_extension": ".py",
   "mimetype": "text/x-python",
   "name": "python",
   "nbconvert_exporter": "python",
   "pygments_lexer": "ipython3",
   "version": "3.11.4"
  }
 },
 "nbformat": 4,
 "nbformat_minor": 2
}
