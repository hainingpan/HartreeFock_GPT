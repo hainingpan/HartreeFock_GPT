{
 "cells": [
  {
   "cell_type": "code",
   "execution_count": 1,
   "metadata": {},
   "outputs": [],
   "source": [
    "import openai\n",
    "import pandas as pd\n",
    "import json\n",
    "import yaml\n",
    "from IPython.display import Markdown\n",
    "import sys\n",
    "import yaml\n",
    "from tqdm import tqdm"
   ]
  },
  {
   "cell_type": "code",
   "execution_count": 2,
   "metadata": {},
   "outputs": [],
   "source": [
    "zz=openai.Model.list()"
   ]
  },
  {
   "cell_type": "code",
   "execution_count": 3,
   "metadata": {},
   "outputs": [
    {
     "data": {
      "text/plain": [
       "62"
      ]
     },
     "execution_count": 3,
     "metadata": {},
     "output_type": "execute_result"
    }
   ],
   "source": [
    "len(zz['data'])"
   ]
  },
  {
   "cell_type": "code",
   "execution_count": 4,
   "metadata": {},
   "outputs": [],
   "source": [
    "model_params = {\n",
    "    'model': \"gpt-4\",\n",
    "    'temperature': 0,\n",
    "}"
   ]
  },
  {
   "cell_type": "code",
   "execution_count": 5,
   "metadata": {},
   "outputs": [],
   "source": [
    "def print_save(string, file='../cmp2.md'):\n",
    "    print(string)\n",
    "    with open(file,'w') as f:\n",
    "        f.write(string)"
   ]
  },
  {
   "cell_type": "markdown",
   "metadata": {},
   "source": [
    "## Load prompt_template.md"
   ]
  },
  {
   "cell_type": "code",
   "execution_count": 6,
   "metadata": {},
   "outputs": [],
   "source": [
    "sys.path.append('..')\n",
    "from utils import *\n",
    "from functools import partial"
   ]
  },
  {
   "cell_type": "code",
   "execution_count": 7,
   "metadata": {},
   "outputs": [],
   "source": [
    "prompt_dict = partial(load_prompt_template,file='../prompt_template.md')"
   ]
  },
  {
   "cell_type": "code",
   "execution_count": 8,
   "metadata": {},
   "outputs": [
    {
     "data": {
      "text/plain": [
       "dict_keys(['Preamble', 'Problem-solver', 'Conversation summarizer', 'Construct Kinetic Hamiltonian (continuum version, single-particle)', 'Construct Kinetic Hamiltonian (continuum version, second-quantized)', 'Construct Kinetic Hamiltonian (lattice version)', 'Define each term in Kinetic Hamiltonian (continuum version)', 'Construct Potential Hamiltonian (continuum version)', 'Define each term in Potential Hamiltonian (continuum version)', 'Construct interaction Hamiltonian (real space, lattice version)', 'Construct interaction Hamiltonian (momentum space)', 'Convert from single-particle to second-quantized form, return in matrix', 'Convert from single-particle to second-quantized form, return in summation (expand the matrix)', 'Convert noninteracting Hamiltonian in real space to momentum space (continuum version)', 'Convert noninteracting Hamiltonian in real space to momentum space (lattice version)', 'Convert interacting Hamiltonian in real space to momentum space (lattice version)', 'Particle-hole transformation', 'Simplify the Hamiltonian in the particle-hole basis', \"Wick's theorem\", 'Extract quadratic term', 'Hartree term only', 'Fock term only', 'Expand interaction', 'Swap the index only', 'Swap the index to combine Hartree and Fock terms', 'Reduce momentum in Hartree term (momentum in BZ + reciprocal lattice)', 'Reduce momentum in Hartree term (momentum in BZ)', 'Reduce momentum in Fock term (momentum in BZ + reciprocal lattice)', 'Reduce momentum in Fock term (momentum in BZ)', 'Combine the Hartree and Fock term', 'Construct full Hamiltonian after HF', 'Mathematical simplify: inner product expansion', \"Mathematical simplify: Euler's formula\", 'Mathematical simplify: prosthaphaeresis', 'Mathematical simplify: Expand the product using Associative property', 'Mathematical simplify: Combine using Associative property', 'Mathematical simplify: reduce index'])"
      ]
     },
     "execution_count": 8,
     "metadata": {},
     "output_type": "execute_result"
    }
   ],
   "source": [
    "prompt_dict().keys()"
   ]
  },
  {
   "cell_type": "code",
   "execution_count": null,
   "metadata": {},
   "outputs": [],
   "source": []
  },
  {
   "cell_type": "markdown",
   "metadata": {},
   "source": [
    "# Prompt fill place holder"
   ]
  },
  {
   "cell_type": "code",
   "execution_count": 9,
   "metadata": {},
   "outputs": [],
   "source": [
    "import json"
   ]
  },
  {
   "cell_type": "code",
   "execution_count": 10,
   "metadata": {},
   "outputs": [],
   "source": [
    "pwd=os.getcwd()"
   ]
  },
  {
   "cell_type": "code",
   "execution_count": 11,
   "metadata": {},
   "outputs": [],
   "source": [
    "arxiv_number=pwd.split('/')[-1]"
   ]
  },
  {
   "cell_type": "code",
   "execution_count": 12,
   "metadata": {},
   "outputs": [],
   "source": [
    "with open(f'{arxiv_number}.yaml','r') as f:\n",
    "    kwargs_yaml = yaml.safe_load(f)\n",
    "# with open(f'{arxiv_number}.jsonl','r') as f:\n",
    "#     kwargs_jsonl= [json.loads(line) for line in f]"
   ]
  },
  {
   "cell_type": "code",
   "execution_count": 13,
   "metadata": {},
   "outputs": [],
   "source": [
    "def load_excerpt(sources):\n",
    "    excerpt=''\n",
    "    for tex, lines in sources.items():\n",
    "        with open(tex,'r') as f:\n",
    "            f_list=list(f)\n",
    "            for line in lines:\n",
    "                excerpt=excerpt+''.join(f_list[line[0]:line[1]])\n",
    "    return excerpt"
   ]
  },
  {
   "cell_type": "code",
   "execution_count": 14,
   "metadata": {},
   "outputs": [],
   "source": [
    "prompt_system='''I will provide you a Excerpt of physics paper, and a Template. You will need to fill the placeholders in the template using the correct information from the excerpt.\n",
    "Here are conventions: \n",
    "{..} means a placeholder which you need to fill by extracting information from the excerpt.\n",
    "{A|B} means you need to make a choice between A and B\n",
    "[..] means optional sentence. You should decide whether to use it depending on the excerpt.\n",
    "{{..}} DOES NOT mean a placeholder. You should not change the content inside double curly braces {{..}}.\n",
    "`You should recall that {expression_second_nonint}.` : this sentence should be kept as is.\n",
    "\n",
    "\n",
    "Finally, if you cannot figure out the placeholder, you should leave it as is.'''"
   ]
  },
  {
   "cell_type": "code",
   "execution_count": 15,
   "metadata": {},
   "outputs": [],
   "source": [
    "def drop_text_after(string):\n",
    "    string_new=''\n",
    "    for line in string.split('\\n'):\n",
    "        if '===' in line:\n",
    "            break\n",
    "        else:\n",
    "            if 'You should recall that' not in line:\n",
    "                string_new='\\n'.join([string_new,line])\n",
    "    return string_new[1:]\n"
   ]
  },
  {
   "cell_type": "code",
   "execution_count": 16,
   "metadata": {},
   "outputs": [],
   "source": [
    "def extractor(descriptor,message=False):\n",
    "    sys_msg=[{'role': 'system', 'content': prompt_system}]\n",
    "    question_prompt='\\nTemplate:\\n {template} \\n\\n Excerpt:\\n {excerpt}'.format(template=drop_text_after(prompt_dict()[descriptor['task']]), excerpt=load_excerpt(descriptor['source']))\n",
    "    user_msg=[{'role':'user','content':question_prompt}]\n",
    "    messages = sys_msg + user_msg\n",
    "    if message:\n",
    "        return sys_msg[0]['content']+user_msg[0]['content']\n",
    "    rs= openai.ChatCompletion.create(messages=messages, **model_params)\n",
    "    response=rs['choices'][0]['message'].content\n",
    "    return response\n"
   ]
  },
  {
   "cell_type": "code",
   "execution_count": null,
   "metadata": {},
   "outputs": [],
   "source": []
  },
  {
   "cell_type": "markdown",
   "metadata": {},
   "source": [
    "## GPT4"
   ]
  },
  {
   "cell_type": "code",
   "execution_count": 20,
   "metadata": {},
   "outputs": [
    {
     "name": "stderr",
     "output_type": "stream",
     "text": [
      "100%|██████████| 11/11 [05:11<00:00, 28.31s/it]\n"
     ]
    }
   ],
   "source": [
    "string=''\n",
    "for kwargs in tqdm(kwargs_yaml):\n",
    "    string+='# '+kwargs['task']+'\\n'\n",
    "    response=(extractor(kwargs, message=False))\n",
    "    string+=response+'\\n\\n'\n",
    "    \n",
    "    "
   ]
  },
  {
   "cell_type": "code",
   "execution_count": 21,
   "metadata": {},
   "outputs": [
    {
     "name": "stdout",
     "output_type": "stream",
     "text": [
      "# Construct Kinetic Hamiltonian (continuum version, second-quantized)\n",
      "You will be instructed to describe the kinetic term of Hamiltonian in the system of planes in the real space in the second-quantized form.   \n",
      "The degrees of freedom of the system are: site $i$ in plane $k$ for spin $\\sigma$.  \n",
      "Express the Kinetic Hamiltonian $H_{\\parallel}^k$ using $t^k_{ij}$, $c_{i,\\sigma }^{k}$, and $c_{i,\\sigma }^{k\\dag}$, where the summation of $k$ should be running over the entire space.\n",
      "\n",
      "Use the following conventions for the symbols:  \n",
      "$c_{i,\\sigma }^{k(\\dag)}$ is the annihilation (creation) operator at site $i$ in plane $k$ for spin $\\sigma$. The in-plane hopping matrix $t^k_{ij}$,  Hubbard interaction $U^k$ and site energy $\\varepsilon ^k_{0}$ can depend on the material.\n",
      "\n",
      "# Define each term in Kinetic Hamiltonian (continuum version)\n",
      "Template:\n",
      " You will be instructed to construct each term, namely {H_{\\parallel}^k}.  \n",
      "For all energy dispersions, {H_{\\parallel}^k}, it characterizes the {parabolic|Dirac|cos} dispersion for {electrons|holes}.   \n",
      "[In addition, a shift of {momentum_shift} in the momentum {k} for {shifted_Ek}, respectively.]  \n",
      "You should follow the EXAMPLE below to obtain correct energy dispersion, select the correct EXAMPLE by noticing the type of dispersion.  \n",
      "Finally, in the real space, the momentum ${k}=-i \\partial_{r}$. You should keep the form of ${k}$ in the Hamiltonian for short notations but should remember ${k}$ is an operator.  \n",
      "Return the expression for {H_{\\parallel}^k} in the Kinetic Hamiltonian, and substitute it into the Kinetic Hamiltonian {H}.  \n",
      "\n",
      "Use the following conventions for the symbols (You should also obey the conventions in all my previous prompts if you encounter undefined symbols. If you find it is never defined or has conflicts in the conventions, you should stop and let me know):  \n",
      "{c_{i,\\sigma }^{k(\\dag)} is the annihilation (creation) operator at site $i$ in plane $k$ for spin $\\sigma$ and $n^k_{i,\\sigma}$ is the corresponding number operator. The in-plane hopping matrix $t^k_{ij}$,  Hubbard interaction $U^k$ and site energy $\\varepsilon ^k_{0}$ can depend on the material.}\n",
      "\n",
      "# Convert noninteracting Hamiltonian in real space to momentum space (continuum version)\n",
      "Template:\n",
      "You will be instructed to convert the total noninteracting Hamiltonian in the second quantized form from the basis in real space to the basis by momentum space.  \n",
      "To do that, you should apply the Fourier transformation to $c_{i,\\sigma }^{k\\dag}$ in the real space to the {momentum_creation_op} in the momentum space, which is defined as {definition_of_Fourier_Transformation}, where $i$ is integrated over the entire real. You should follow the EXAMPLE below to apply the Fourier transformation.  \n",
      "Express the total noninteracting Hamiltonian $H_{\\parallel}$ in terms of {momentum_creation_op}. Simplify any summation index if possible.  \n",
      "\n",
      "Use the following conventions for the symbols (You should also obey the conventions in all my previous prompts if you encounter undefined symbols. If you find it is never defined or has conflicts in the conventions, you should stop and let me know):  \n",
      "$c_{i,\\sigma }^{k(\\dag)}$ is the annihilation (creation) operator at site $i$ in plane $k$ for spin $\\sigma$ and $n^k_{i,\\sigma}$ is the corresponding number operator. The in-plane hopping matrix $t^k_{ij}$,  Hubbard interaction $U^k$ and site energy $\\varepsilon ^k_{0}$ can depend on the material.\n",
      "\n",
      "# Construct interaction Hamiltonian (momentum space)\n",
      "You will be instructed to construct the interaction part of the Hamiltonian $H_{C}$ in the momentum space.  \n",
      "The interaction Hamiltonian is a product of four parts.\n",
      "The first part is the product of four operators with two creation and two annihilation operators following the normal order, namely, creation operators are before annihilation operators. You should follow the order of $l,m,m,l$ for the index of operator, and $1,2,2,1$ for the momentum. \n",
      "The second part is the constraint of total momentum conservation, namely the total momentum of all creation operators should be the same as that of all annihilation operators.  \n",
      "The third part is the interaction form. You should use Coulomb potential with $V(q)=V_{l,m}(q_{\\parallel})$, where $q$ is the transferred total momentum between a creation operator and an annihilation operator with the same index of operator, namely $q=q_{\\parallel}$.  \n",
      "The fourth part is the normalization factor, you should use $\\frac{1}{2}$ here.\n",
      "Finally, the summation should be running over all index of operator, and momentum\n",
      "Return the interaction term $H_{C}$ in terms of $n_l(q_{\\parallel})$ and $V(q)$ (with $q$ expressed in terms of momentum).  \n",
      "\n",
      "Use the following conventions for the symbols (You should also obey the conventions in all my previous prompts if you encounter undefined symbols. If you find it is never defined or has conflicts in the conventions, you should stop and let me know):  \n",
      "$n_l(q_{\\parallel})$ is the in-plane Fourier transform of the charge-density operator for plane $l$ and $V_{l,m}(q_{\\parallel})$ the Coulomb potential.\n",
      "\n",
      "# Wick's theorem\n",
      "You will be instructed to perform a Hartree-Fock approximation to expand the interaction term, $H_{C}$.  \n",
      "You should use Wick's theorem to expand the four-fermion term in $H_{C}$ into quadratic terms. You should strictly follow the EXAMPLE below to expand using Wick's theorem, select the correct EXAMPLE by noticing the order of four term product with and without ${{}}^\\dagger$, and be extremely cautious about the order of the index and sign before each term.  \n",
      "You should only preserve the normal terms. Here, the normal terms mean the product of a creation operator and an annihilation operator.  \n",
      "Return the expanded interaction term after Hartree-Fock approximation as $H_{C}$.\n",
      "\n",
      "Use the following conventions for the symbols (You should also obey the conventions in all my previous prompts if you encounter undefined symbols. If you find it is never defined or has conflicts in the conventions, you should stop and let me know):  \n",
      "$n_l(q_{\\parallel})$ and $n_m(-q_{\\parallel})$ are the fermion operators, $V_{l,m}(q_{\\parallel})$ is the interaction potential, and $\\langle .. \\rangle$ denotes thermal and quantum mechanical averages.\n",
      "\n",
      "# Extract quadratic term\n",
      "You will be instructed to extract the quadratic terms in the H_{C}.  \n",
      "The quadratic terms mean terms that are proportional to n_l(q_{\\parallel})n_m(-q_{\\parallel}), which excludes terms that are solely expectations or products of expectations.  \n",
      "You should only preserve the quadratic terms in H_{C}, denoted as H_{C}^{(2)}.  \n",
      "Return H_{C}^{(2)}.  \n",
      "\n",
      "Use the following conventions for the symbols (You should also obey the conventions in all my previous prompts if you encounter undefined symbols. If you find it is never defined or has conflicts in the conventions, you should stop and let me know):  \n",
      "n_l(q_{\\parallel}) and n_m(-q_{\\parallel}) are bilinear operators, V_{l,m}(q_{\\parallel}) is the interaction potential, and the brackets denote thermal and quantum mechanical averages.\n",
      "\n",
      "# Hartree term only\n",
      "You will be instructed to keep only the Hartree term in \\(H_{C}\\).  \n",
      "Here, Hartree term only means that only the expected value in the form \\(\\langle n_l(q_{\\parallel})\\rangle n_m(-q_{\\parallel})V_{l,m}(q_{\\parallel})\\) (Note that the two indices are the same) should be the preserved. All other expected value terms should be dropped.\n",
      "Return the simplified Hamiltonian with \\(H_{C}\\).\n",
      "\n",
      "# Expand interaction\n",
      "You will be instructed to expand interaction term $V_{l,m}(q_{\\parallel})$ in the MF quadratic term $H_{C}$.\n",
      "If you find the $V_{l,m}(q_{\\parallel})$ in $H_{C}$ does not contain any momentum that is not in the summation sign. The interaction term is already expanded. No action to perform on interaction term.\n",
      "Otherwise, you will expand $V_{l,m}(q_{\\parallel})$ by replacing $q_{\\parallel}$ with the momentum $q_{\\parallel}$.\n",
      "Return $H_{C}$ with expanded interaction.\n",
      "\n",
      "# Swap the index to combine Hartree and Fock terms\n",
      "You will be instructed to simplify the quadratic term $H_{C}$ through relabeling the index to combine the two Hartree/Fock term into one Hartree/Fock term.  \n",
      "The logic is that the expected value ($\\langle n_l(q_{\\parallel})\\rangle$ or $\\langle n_m(-q_{\\parallel})\\rangle$) in the first Hartree term ($\\frac{1}{2}\\sum_{l,m,q_{\\parallel}}\\langle n_l(q_{\\parallel})\\rangle n_m(-q_{\\parallel})V_{l,m}(q_{\\parallel})$) has the same form as the quadratic operators in the second Hartree term ($\\frac{1}{2}\\sum_{l,m,q_{\\parallel}}n_l(q_{\\parallel})\\langle n_m(-q_{\\parallel})\\rangle V_{l,m}(q_{\\parallel})$), and vice versa. The same applies to the Fock term.  \n",
      "This means, if you relabel the index by swapping the index in the \"expected value\" and \"quadratic operators\" in the second Hartree term, you can make the second Hartree term look identical to the first Hartree term, as long as $V(q_{\\parallel})=V(-q_{\\parallel})$, which is naturally satisfied in Coulomb interaction. You should follow the EXAMPLE below to simplify it through relabeling the index.  \n",
      "You should perform this trick of \"relabeling the index\" for both two Hartree terms and two Fock terms to reduce them to one Hartree term, and one Fock term.  \n",
      "Return the simplified $H_{C}$ which reduces from four terms (two Hartree and two Fock terms) to only two terms (one Hartree and one Fock term).\n",
      "\n",
      "# Reduce momentum in Hartree term (momentum in BZ + reciprocal lattice)\n",
      "You will be instructed to simplify the Hartree term in $H_{C}$ by reducing the momentum inside the expected value $\\langle n_l(q_{\\parallel})\\rangle n_m(-q_{\\parallel})V_{l,m}(q_{\\parallel})$.  \n",
      "The expected value $\\langle n_l(q_{\\parallel})\\rangle n_m(-q_{\\parallel})V_{l,m}(q_{\\parallel})$ is only nonzero when the two momenta $q_{\\parallel}$ and $-q_{\\parallel}$ are the same, namely, $\\langle n_l(q_{\\parallel})\\rangle n_m(-q_{\\parallel})V_{l,m}(q_{\\parallel})$.  \n",
      "You should use the property of Kronecker delta function $\\delta_{{q_{\\parallel},-q_{\\parallel}}}$ to reduce one momentum $q_{\\parallel}$ but not $-q_{\\parallel}$.\n",
      "Once you reduce one momentum inside the expected value $\\langle\\dots\\rangle$. You will also notice the total momentum conservation will reduce another momentum in the quadratic term. Therefore, you should end up with only two momenta left in the summation.  \n",
      "You should follow the EXAMPLE below to reduce one momentum in the Hartree term, and another momentum in the quadratic term.  \n",
      "Return the final simplified Hartree term $H_{C}$.\n",
      "\n",
      "# Construct full Hamiltonian after HF\n",
      "You will be instructed to construct the entire Hamiltonian after the Hartree-Fock approximation {H_{C}}. \n",
      "You should first recall the Kinetic Hamiltonian {kinetic_symbol} is {expression_kinetic}.  \n",
      "You should then recall the interacting Hamiltonian {int_symbol} is \\frac{1}{2}\\sum_{l,m,q_{\\parallel}}\\langle n_l(q_{\\parallel})\\rangle n_m(-q_{\\parallel})V_{l,m}(q_{\\parallel}) + \\frac{1}{2}\\sum_{l,m,q_{\\parallel}}n_l(q_{\\parallel})\\langle n_m(-q_{\\parallel})\\rangle V_{l,m}(q_{\\parallel}) - \\frac{1}{2}\\sum_{l,m,q_{\\parallel}}\\langle n_l(q_{\\parallel})\\rangle \\langle n_m(-q_{\\parallel})\\rangle V_{l,m}(q_{\\parallel}).  \n",
      "You should then combine {kinetic_symbol} with the interacting Hamiltonian {int_symbol} after the Hartree-Fock approximation, which is the entire Hamiltonian {H_{C}} after Hartree-Fock.  \n",
      "Return the expression for {H_{C}}.  \n",
      "\n",
      "Use the following conventions for the symbols (You should also obey the conventions in all my previous prompts if you encounter undefined symbols. If you find it is never defined or has conflicts in the conventions, you should stop and let me know):  \n",
      "{definition_of_variables}\n",
      "\n",
      "\n"
     ]
    }
   ],
   "source": [
    "print(string)"
   ]
  },
  {
   "cell_type": "code",
   "execution_count": 22,
   "metadata": {},
   "outputs": [],
   "source": [
    "with open(pwd.split('/')[-1]+'_extractor.md','w') as f:\n",
    "    f.write(string)"
   ]
  },
  {
   "cell_type": "code",
   "execution_count": null,
   "metadata": {},
   "outputs": [],
   "source": []
  }
 ],
 "metadata": {
  "kernelspec": {
   "display_name": "base",
   "language": "python",
   "name": "python3"
  },
  "language_info": {
   "codemirror_mode": {
    "name": "ipython",
    "version": 3
   },
   "file_extension": ".py",
   "mimetype": "text/x-python",
   "name": "python",
   "nbconvert_exporter": "python",
   "pygments_lexer": "ipython3",
   "version": "3.8.11"
  },
  "orig_nbformat": 4
 },
 "nbformat": 4,
 "nbformat_minor": 2
}
